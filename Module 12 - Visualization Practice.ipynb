{
 "cells": [
  {
   "cell_type": "markdown",
   "id": "f1df2c0b",
   "metadata": {},
   "source": [
    "# Load the EduGradeData file and make the following visualizations:\n",
    "- A histogram that shows average hours of study by letter grade\n",
    "- A histogram that shows average hours of exercise by letter grade\n",
    "- A series of boxplots to show the distribution of grades across genders\n",
    "- A histogram that show the relative amounts of A's, B's, and C's\n"
   ]
  },
  {
   "cell_type": "code",
   "execution_count": 1,
   "id": "c57fdd0f",
   "metadata": {},
   "outputs": [],
   "source": [
    "### typical libraries\n",
    "\n",
    "import pandas as pd\n",
    "import numpy as np"
   ]
  },
  {
   "cell_type": "code",
   "execution_count": 2,
   "id": "76a20580",
   "metadata": {},
   "outputs": [],
   "source": [
    "### matplotlib.pyplot is a 2D plotting library that creates high-quality figures\n",
    "\n",
    "from matplotlib import pyplot as plt\n",
    "\n",
    "### this command allows you to view your plots in the notebook\n",
    "\n",
    "%matplotlib inline"
   ]
  },
  {
   "cell_type": "code",
   "execution_count": 3,
   "id": "253dd6b5",
   "metadata": {},
   "outputs": [],
   "source": [
    "### seaborn is complimentary to matplotlib and allows for further plot customization \n",
    "### seaborn visualization is REALLY good\n",
    "\n",
    "import seaborn as sns"
   ]
  },
  {
   "cell_type": "code",
   "execution_count": 4,
   "id": "cefb8d25",
   "metadata": {},
   "outputs": [],
   "source": [
    "edu = pd.read_csv(\"EduGradeData.csv\")"
   ]
  },
  {
   "cell_type": "code",
   "execution_count": 5,
   "id": "66642c30",
   "metadata": {},
   "outputs": [
    {
     "name": "stdout",
     "output_type": "stream",
     "text": [
      "<class 'pandas.core.frame.DataFrame'>\n",
      "RangeIndex: 2000 entries, 0 to 1999\n",
      "Data columns (total 10 columns):\n",
      " #   Column          Non-Null Count  Dtype  \n",
      "---  ------          --------------  -----  \n",
      " 0   fname           2000 non-null   object \n",
      " 1   lname           2000 non-null   object \n",
      " 2   gender          2000 non-null   object \n",
      " 3   age             2000 non-null   int64  \n",
      " 4   exercise        2000 non-null   int64  \n",
      " 5   level_of_fit    2000 non-null   object \n",
      " 6   hours           2000 non-null   int64  \n",
      " 7   level_of_study  1997 non-null   object \n",
      " 8   grade           2000 non-null   float64\n",
      " 9   home_state      2000 non-null   object \n",
      "dtypes: float64(1), int64(3), object(6)\n",
      "memory usage: 156.4+ KB\n"
     ]
    }
   ],
   "source": [
    "edu.info()"
   ]
  },
  {
   "cell_type": "code",
   "execution_count": 6,
   "id": "4b0dbc7a",
   "metadata": {},
   "outputs": [
    {
     "data": {
      "text/html": [
       "<div>\n",
       "<style scoped>\n",
       "    .dataframe tbody tr th:only-of-type {\n",
       "        vertical-align: middle;\n",
       "    }\n",
       "\n",
       "    .dataframe tbody tr th {\n",
       "        vertical-align: top;\n",
       "    }\n",
       "\n",
       "    .dataframe thead th {\n",
       "        text-align: right;\n",
       "    }\n",
       "</style>\n",
       "<table border=\"1\" class=\"dataframe\">\n",
       "  <thead>\n",
       "    <tr style=\"text-align: right;\">\n",
       "      <th></th>\n",
       "      <th>fname</th>\n",
       "      <th>lname</th>\n",
       "      <th>gender</th>\n",
       "      <th>age</th>\n",
       "      <th>exercise</th>\n",
       "      <th>level_of_fit</th>\n",
       "      <th>hours</th>\n",
       "      <th>level_of_study</th>\n",
       "      <th>grade</th>\n",
       "      <th>home_state</th>\n",
       "    </tr>\n",
       "  </thead>\n",
       "  <tbody>\n",
       "    <tr>\n",
       "      <th>0</th>\n",
       "      <td>Marcia</td>\n",
       "      <td>Pugh</td>\n",
       "      <td>female</td>\n",
       "      <td>17</td>\n",
       "      <td>3</td>\n",
       "      <td>low</td>\n",
       "      <td>10</td>\n",
       "      <td>moderate</td>\n",
       "      <td>82.4</td>\n",
       "      <td>NJ</td>\n",
       "    </tr>\n",
       "    <tr>\n",
       "      <th>1</th>\n",
       "      <td>Kadeem</td>\n",
       "      <td>Morrison</td>\n",
       "      <td>male</td>\n",
       "      <td>18</td>\n",
       "      <td>4</td>\n",
       "      <td>low</td>\n",
       "      <td>4</td>\n",
       "      <td>low</td>\n",
       "      <td>78.2</td>\n",
       "      <td>MA</td>\n",
       "    </tr>\n",
       "    <tr>\n",
       "      <th>2</th>\n",
       "      <td>Nash</td>\n",
       "      <td>Powell</td>\n",
       "      <td>male</td>\n",
       "      <td>18</td>\n",
       "      <td>5</td>\n",
       "      <td>low</td>\n",
       "      <td>9</td>\n",
       "      <td>moderate</td>\n",
       "      <td>79.3</td>\n",
       "      <td>OH</td>\n",
       "    </tr>\n",
       "    <tr>\n",
       "      <th>3</th>\n",
       "      <td>Noelani</td>\n",
       "      <td>Wagner</td>\n",
       "      <td>female</td>\n",
       "      <td>14</td>\n",
       "      <td>2</td>\n",
       "      <td>high</td>\n",
       "      <td>7</td>\n",
       "      <td>moderate</td>\n",
       "      <td>83.2</td>\n",
       "      <td>FL</td>\n",
       "    </tr>\n",
       "    <tr>\n",
       "      <th>4</th>\n",
       "      <td>Noelani</td>\n",
       "      <td>Cherry</td>\n",
       "      <td>female</td>\n",
       "      <td>18</td>\n",
       "      <td>4</td>\n",
       "      <td>low</td>\n",
       "      <td>15</td>\n",
       "      <td>high</td>\n",
       "      <td>87.4</td>\n",
       "      <td>OH</td>\n",
       "    </tr>\n",
       "  </tbody>\n",
       "</table>\n",
       "</div>"
      ],
      "text/plain": [
       "     fname     lname  gender  age  exercise level_of_fit  hours  \\\n",
       "0   Marcia      Pugh  female   17         3          low     10   \n",
       "1   Kadeem  Morrison    male   18         4          low      4   \n",
       "2     Nash    Powell    male   18         5          low      9   \n",
       "3  Noelani    Wagner  female   14         2         high      7   \n",
       "4  Noelani    Cherry  female   18         4          low     15   \n",
       "\n",
       "  level_of_study  grade home_state  \n",
       "0       moderate   82.4         NJ  \n",
       "1            low   78.2         MA  \n",
       "2       moderate   79.3         OH  \n",
       "3       moderate   83.2         FL  \n",
       "4           high   87.4         OH  "
      ]
     },
     "execution_count": 6,
     "metadata": {},
     "output_type": "execute_result"
    }
   ],
   "source": [
    "edu.head()"
   ]
  },
  {
   "cell_type": "code",
   "execution_count": 10,
   "id": "04f3d6cf",
   "metadata": {},
   "outputs": [
    {
     "data": {
      "text/html": [
       "<div>\n",
       "<style scoped>\n",
       "    .dataframe tbody tr th:only-of-type {\n",
       "        vertical-align: middle;\n",
       "    }\n",
       "\n",
       "    .dataframe tbody tr th {\n",
       "        vertical-align: top;\n",
       "    }\n",
       "\n",
       "    .dataframe thead th {\n",
       "        text-align: right;\n",
       "    }\n",
       "</style>\n",
       "<table border=\"1\" class=\"dataframe\">\n",
       "  <thead>\n",
       "    <tr style=\"text-align: right;\">\n",
       "      <th></th>\n",
       "      <th>fname</th>\n",
       "      <th>lname</th>\n",
       "      <th>gender</th>\n",
       "      <th>age</th>\n",
       "      <th>exercise</th>\n",
       "      <th>level_of_fit</th>\n",
       "      <th>hours</th>\n",
       "      <th>level_of_study</th>\n",
       "      <th>grade</th>\n",
       "      <th>home_state</th>\n",
       "      <th>Letter Grades</th>\n",
       "      <th>Letter Grade</th>\n",
       "    </tr>\n",
       "  </thead>\n",
       "  <tbody>\n",
       "    <tr>\n",
       "      <th>0</th>\n",
       "      <td>Marcia</td>\n",
       "      <td>Pugh</td>\n",
       "      <td>female</td>\n",
       "      <td>17</td>\n",
       "      <td>3</td>\n",
       "      <td>low</td>\n",
       "      <td>10</td>\n",
       "      <td>moderate</td>\n",
       "      <td>82.4</td>\n",
       "      <td>NJ</td>\n",
       "      <td>B</td>\n",
       "      <td>B</td>\n",
       "    </tr>\n",
       "    <tr>\n",
       "      <th>1</th>\n",
       "      <td>Kadeem</td>\n",
       "      <td>Morrison</td>\n",
       "      <td>male</td>\n",
       "      <td>18</td>\n",
       "      <td>4</td>\n",
       "      <td>low</td>\n",
       "      <td>4</td>\n",
       "      <td>low</td>\n",
       "      <td>78.2</td>\n",
       "      <td>MA</td>\n",
       "      <td>C</td>\n",
       "      <td>C</td>\n",
       "    </tr>\n",
       "    <tr>\n",
       "      <th>2</th>\n",
       "      <td>Nash</td>\n",
       "      <td>Powell</td>\n",
       "      <td>male</td>\n",
       "      <td>18</td>\n",
       "      <td>5</td>\n",
       "      <td>low</td>\n",
       "      <td>9</td>\n",
       "      <td>moderate</td>\n",
       "      <td>79.3</td>\n",
       "      <td>OH</td>\n",
       "      <td>C</td>\n",
       "      <td>C</td>\n",
       "    </tr>\n",
       "    <tr>\n",
       "      <th>3</th>\n",
       "      <td>Noelani</td>\n",
       "      <td>Wagner</td>\n",
       "      <td>female</td>\n",
       "      <td>14</td>\n",
       "      <td>2</td>\n",
       "      <td>high</td>\n",
       "      <td>7</td>\n",
       "      <td>moderate</td>\n",
       "      <td>83.2</td>\n",
       "      <td>FL</td>\n",
       "      <td>B</td>\n",
       "      <td>B</td>\n",
       "    </tr>\n",
       "    <tr>\n",
       "      <th>4</th>\n",
       "      <td>Noelani</td>\n",
       "      <td>Cherry</td>\n",
       "      <td>female</td>\n",
       "      <td>18</td>\n",
       "      <td>4</td>\n",
       "      <td>low</td>\n",
       "      <td>15</td>\n",
       "      <td>high</td>\n",
       "      <td>87.4</td>\n",
       "      <td>OH</td>\n",
       "      <td>B</td>\n",
       "      <td>B</td>\n",
       "    </tr>\n",
       "    <tr>\n",
       "      <th>...</th>\n",
       "      <td>...</td>\n",
       "      <td>...</td>\n",
       "      <td>...</td>\n",
       "      <td>...</td>\n",
       "      <td>...</td>\n",
       "      <td>...</td>\n",
       "      <td>...</td>\n",
       "      <td>...</td>\n",
       "      <td>...</td>\n",
       "      <td>...</td>\n",
       "      <td>...</td>\n",
       "      <td>...</td>\n",
       "    </tr>\n",
       "    <tr>\n",
       "      <th>1995</th>\n",
       "      <td>Cody</td>\n",
       "      <td>Shepherd</td>\n",
       "      <td>male</td>\n",
       "      <td>19</td>\n",
       "      <td>1</td>\n",
       "      <td>high</td>\n",
       "      <td>8</td>\n",
       "      <td>moderate</td>\n",
       "      <td>80.1</td>\n",
       "      <td>VA</td>\n",
       "      <td>B</td>\n",
       "      <td>B</td>\n",
       "    </tr>\n",
       "    <tr>\n",
       "      <th>1996</th>\n",
       "      <td>Geraldine</td>\n",
       "      <td>Peterson</td>\n",
       "      <td>female</td>\n",
       "      <td>16</td>\n",
       "      <td>4</td>\n",
       "      <td>low</td>\n",
       "      <td>18</td>\n",
       "      <td>high</td>\n",
       "      <td>100.0</td>\n",
       "      <td>NY</td>\n",
       "      <td>A</td>\n",
       "      <td>A</td>\n",
       "    </tr>\n",
       "    <tr>\n",
       "      <th>1997</th>\n",
       "      <td>Mercedes</td>\n",
       "      <td>Leon</td>\n",
       "      <td>female</td>\n",
       "      <td>18</td>\n",
       "      <td>3</td>\n",
       "      <td>low</td>\n",
       "      <td>14</td>\n",
       "      <td>high</td>\n",
       "      <td>84.9</td>\n",
       "      <td>UT</td>\n",
       "      <td>B</td>\n",
       "      <td>B</td>\n",
       "    </tr>\n",
       "    <tr>\n",
       "      <th>1998</th>\n",
       "      <td>Lucius</td>\n",
       "      <td>Rowland</td>\n",
       "      <td>male</td>\n",
       "      <td>16</td>\n",
       "      <td>1</td>\n",
       "      <td>high</td>\n",
       "      <td>7</td>\n",
       "      <td>moderate</td>\n",
       "      <td>69.1</td>\n",
       "      <td>MT</td>\n",
       "      <td>D</td>\n",
       "      <td>D</td>\n",
       "    </tr>\n",
       "    <tr>\n",
       "      <th>1999</th>\n",
       "      <td>Linus</td>\n",
       "      <td>Morris</td>\n",
       "      <td>male</td>\n",
       "      <td>19</td>\n",
       "      <td>4</td>\n",
       "      <td>low</td>\n",
       "      <td>10</td>\n",
       "      <td>moderate</td>\n",
       "      <td>79.6</td>\n",
       "      <td>NJ</td>\n",
       "      <td>C</td>\n",
       "      <td>C</td>\n",
       "    </tr>\n",
       "  </tbody>\n",
       "</table>\n",
       "<p>2000 rows × 12 columns</p>\n",
       "</div>"
      ],
      "text/plain": [
       "          fname     lname  gender  age  exercise level_of_fit  hours  \\\n",
       "0        Marcia      Pugh  female   17         3          low     10   \n",
       "1        Kadeem  Morrison    male   18         4          low      4   \n",
       "2          Nash    Powell    male   18         5          low      9   \n",
       "3       Noelani    Wagner  female   14         2         high      7   \n",
       "4       Noelani    Cherry  female   18         4          low     15   \n",
       "...         ...       ...     ...  ...       ...          ...    ...   \n",
       "1995       Cody  Shepherd    male   19         1         high      8   \n",
       "1996  Geraldine  Peterson  female   16         4          low     18   \n",
       "1997   Mercedes      Leon  female   18         3          low     14   \n",
       "1998     Lucius   Rowland    male   16         1         high      7   \n",
       "1999      Linus    Morris    male   19         4          low     10   \n",
       "\n",
       "     level_of_study  grade home_state Letter Grades Letter Grade  \n",
       "0          moderate   82.4         NJ             B            B  \n",
       "1               low   78.2         MA             C            C  \n",
       "2          moderate   79.3         OH             C            C  \n",
       "3          moderate   83.2         FL             B            B  \n",
       "4              high   87.4         OH             B            B  \n",
       "...             ...    ...        ...           ...          ...  \n",
       "1995       moderate   80.1         VA             B            B  \n",
       "1996           high  100.0         NY             A            A  \n",
       "1997           high   84.9         UT             B            B  \n",
       "1998       moderate   69.1         MT             D            D  \n",
       "1999       moderate   79.6         NJ             C            C  \n",
       "\n",
       "[2000 rows x 12 columns]"
      ]
     },
     "execution_count": 10,
     "metadata": {},
     "output_type": "execute_result"
    }
   ],
   "source": [
    "### Convert number grades into letter grades\n",
    "\n",
    "# 0 - 60 = F\n",
    "# 60.1 - 70 = D\n",
    "# 70.1 - 80 = C\n",
    "# 80.1 - 90 = B\n",
    "# 90.1 - 100+ = A\n",
    "\n",
    "#### STEP 1: create the bin limits ####\n",
    "\n",
    "bins = [0, 60, 70, 80, 90, 150]\n",
    "\n",
    "## the bin limits are the cutoff points for the values\n",
    "## each number shown is the cutoff for a specific group (0-60, 60.1 - 70, 70.1 - 80...)\n",
    "\n",
    "bin_labels = [\"F\", \"D\", \"C\", \"B\", \"A\"]\n",
    "\n",
    "## the bin labels are the group names that will be created\n",
    "## there should always be one less group than bins\n",
    "\n",
    "#### STEP 2: apply your bins to a specific column (or create new column) in dataset  ####\n",
    "## new column = pd.cut(column to apply to, bin cutoff list, labels = list of bin labels)\n",
    "# pd.cut function segments and organizes values into the appropriate bin\n",
    "\n",
    "edu[\"Letter Grade\"] = pd.cut(edu[\"grade\"], bins, labels = bin_labels)\n",
    "\n",
    "#### STEP 3: check changes  ####\n",
    "\n",
    "edu"
   ]
  },
  {
   "cell_type": "code",
   "execution_count": 34,
   "id": "9a16f4ae",
   "metadata": {},
   "outputs": [
    {
     "data": {
      "text/html": [
       "<div>\n",
       "<style scoped>\n",
       "    .dataframe tbody tr th:only-of-type {\n",
       "        vertical-align: middle;\n",
       "    }\n",
       "\n",
       "    .dataframe tbody tr th {\n",
       "        vertical-align: top;\n",
       "    }\n",
       "\n",
       "    .dataframe thead th {\n",
       "        text-align: right;\n",
       "    }\n",
       "</style>\n",
       "<table border=\"1\" class=\"dataframe\">\n",
       "  <thead>\n",
       "    <tr style=\"text-align: right;\">\n",
       "      <th></th>\n",
       "      <th>fname</th>\n",
       "      <th>lname</th>\n",
       "      <th>gender</th>\n",
       "      <th>age</th>\n",
       "      <th>exercise</th>\n",
       "      <th>level_of_fit</th>\n",
       "      <th>hours</th>\n",
       "      <th>level_of_study</th>\n",
       "      <th>grade</th>\n",
       "      <th>home_state</th>\n",
       "      <th>Letter Grade</th>\n",
       "    </tr>\n",
       "  </thead>\n",
       "  <tbody>\n",
       "    <tr>\n",
       "      <th>0</th>\n",
       "      <td>Marcia</td>\n",
       "      <td>Pugh</td>\n",
       "      <td>female</td>\n",
       "      <td>17</td>\n",
       "      <td>3</td>\n",
       "      <td>low</td>\n",
       "      <td>10</td>\n",
       "      <td>moderate</td>\n",
       "      <td>82.4</td>\n",
       "      <td>NJ</td>\n",
       "      <td>B</td>\n",
       "    </tr>\n",
       "    <tr>\n",
       "      <th>1</th>\n",
       "      <td>Kadeem</td>\n",
       "      <td>Morrison</td>\n",
       "      <td>male</td>\n",
       "      <td>18</td>\n",
       "      <td>4</td>\n",
       "      <td>low</td>\n",
       "      <td>4</td>\n",
       "      <td>low</td>\n",
       "      <td>78.2</td>\n",
       "      <td>MA</td>\n",
       "      <td>C</td>\n",
       "    </tr>\n",
       "    <tr>\n",
       "      <th>2</th>\n",
       "      <td>Nash</td>\n",
       "      <td>Powell</td>\n",
       "      <td>male</td>\n",
       "      <td>18</td>\n",
       "      <td>5</td>\n",
       "      <td>low</td>\n",
       "      <td>9</td>\n",
       "      <td>moderate</td>\n",
       "      <td>79.3</td>\n",
       "      <td>OH</td>\n",
       "      <td>C</td>\n",
       "    </tr>\n",
       "    <tr>\n",
       "      <th>3</th>\n",
       "      <td>Noelani</td>\n",
       "      <td>Wagner</td>\n",
       "      <td>female</td>\n",
       "      <td>14</td>\n",
       "      <td>2</td>\n",
       "      <td>high</td>\n",
       "      <td>7</td>\n",
       "      <td>moderate</td>\n",
       "      <td>83.2</td>\n",
       "      <td>FL</td>\n",
       "      <td>B</td>\n",
       "    </tr>\n",
       "    <tr>\n",
       "      <th>4</th>\n",
       "      <td>Noelani</td>\n",
       "      <td>Cherry</td>\n",
       "      <td>female</td>\n",
       "      <td>18</td>\n",
       "      <td>4</td>\n",
       "      <td>low</td>\n",
       "      <td>15</td>\n",
       "      <td>high</td>\n",
       "      <td>87.4</td>\n",
       "      <td>OH</td>\n",
       "      <td>B</td>\n",
       "    </tr>\n",
       "  </tbody>\n",
       "</table>\n",
       "</div>"
      ],
      "text/plain": [
       "     fname     lname  gender  age  exercise level_of_fit  hours  \\\n",
       "0   Marcia      Pugh  female   17         3          low     10   \n",
       "1   Kadeem  Morrison    male   18         4          low      4   \n",
       "2     Nash    Powell    male   18         5          low      9   \n",
       "3  Noelani    Wagner  female   14         2         high      7   \n",
       "4  Noelani    Cherry  female   18         4          low     15   \n",
       "\n",
       "  level_of_study  grade home_state Letter Grade  \n",
       "0       moderate   82.4         NJ            B  \n",
       "1            low   78.2         MA            C  \n",
       "2       moderate   79.3         OH            C  \n",
       "3       moderate   83.2         FL            B  \n",
       "4           high   87.4         OH            B  "
      ]
     },
     "execution_count": 34,
     "metadata": {},
     "output_type": "execute_result"
    }
   ],
   "source": [
    "edu.drop(columns = \"Letter Grades\", inplace = True)\n",
    "\n",
    "edu.head()"
   ]
  },
  {
   "cell_type": "code",
   "execution_count": 12,
   "id": "e15b5878",
   "metadata": {},
   "outputs": [
    {
     "data": {
      "text/plain": [
       "Letter Grade\n",
       "F     3.933333\n",
       "D     5.544041\n",
       "C     8.381034\n",
       "B    11.827680\n",
       "A    15.305263\n",
       "Name: hours, dtype: float64"
      ]
     },
     "execution_count": 12,
     "metadata": {},
     "output_type": "execute_result"
    }
   ],
   "source": [
    "## Calculate average hours of study by letter grade\n",
    "\n",
    "edu[\"hours\"].groupby(edu[\"Letter Grade\"]).mean()"
   ]
  },
  {
   "cell_type": "code",
   "execution_count": 15,
   "id": "41353153",
   "metadata": {},
   "outputs": [
    {
     "data": {
      "image/png": "[encoded data removed]",
      "text/plain": [
       "<Figure size 432x288 with 1 Axes>"
      ]
     },
     "metadata": {
      "needs_background": "light"
     },
     "output_type": "display_data"
    }
   ],
   "source": [
    "### Barplot showing the average hours of study by letter grade\n",
    "\n",
    "sns.barplot(data = edu, x = \"Letter Grade\", y = \"hours\", ci = None)\n",
    "\n",
    "plt.title('Hours of Study by Letter Grade')\n",
    "plt.grid()\n",
    "plt.minorticks_on() "
   ]
  },
  {
   "cell_type": "code",
   "execution_count": 16,
   "id": "336a52fd",
   "metadata": {},
   "outputs": [
    {
     "data": {
      "image/png": "[encoded data removed]",
      "text/plain": [
       "<Figure size 432x288 with 1 Axes>"
      ]
     },
     "metadata": {
      "needs_background": "light"
     },
     "output_type": "display_data"
    }
   ],
   "source": [
    "### Barplot showing the average hours of exercise by letter grade\n",
    "\n",
    "sns.barplot(data = edu, x = \"Letter Grade\", y = \"exercise\", ci = None)\n",
    "\n",
    "plt.title('Hours of Exercise by Letter Grade')\n",
    "plt.grid()\n",
    "plt.minorticks_on() "
   ]
  },
  {
   "cell_type": "code",
   "execution_count": 18,
   "id": "614658d9",
   "metadata": {},
   "outputs": [
    {
     "data": {
      "text/plain": [
       "<AxesSubplot:xlabel='gender', ylabel='grade'>"
      ]
     },
     "execution_count": 18,
     "metadata": {},
     "output_type": "execute_result"
    },
    {
     "data": {
      "image/png": "[encoded data removed]",
      "text/plain": [
       "<Figure size 432x288 with 1 Axes>"
      ]
     },
     "metadata": {
      "needs_background": "light"
     },
     "output_type": "display_data"
    }
   ],
   "source": [
    "## A series of boxplots to show the distribution of grades across genders\n",
    "\n",
    "sns.boxplot(x = edu[\"gender\"], y = edu[\"grade\"])"
   ]
  },
  {
   "cell_type": "code",
   "execution_count": 19,
   "id": "a351d508",
   "metadata": {},
   "outputs": [
    {
     "data": {
      "text/plain": [
       "<AxesSubplot:xlabel='Letter Grade', ylabel='Count'>"
      ]
     },
     "execution_count": 19,
     "metadata": {},
     "output_type": "execute_result"
    },
    {
     "data": {
      "image/png": "[encoded data removed]",
      "text/plain": [
       "<Figure size 432x288 with 1 Axes>"
      ]
     },
     "metadata": {
      "needs_background": "light"
     },
     "output_type": "display_data"
    }
   ],
   "source": [
    "## A histogram that show the relative amounts of A's, B's, and C's\n",
    "\n",
    "sns.histplot(edu[\"Letter Grade\"], kde = False)"
   ]
  },
  {
   "cell_type": "code",
   "execution_count": 20,
   "id": "abfe4542",
   "metadata": {},
   "outputs": [
    {
     "data": {
      "text/plain": [
       "<AxesSubplot:xlabel='Letter Grade', ylabel='hours'>"
      ]
     },
     "execution_count": 20,
     "metadata": {},
     "output_type": "execute_result"
    },
    {
     "data": {
      "image/png": "[encoded data removed]",
      "text/plain": [
       "<Figure size 432x288 with 1 Axes>"
      ]
     },
     "metadata": {
      "needs_background": "light"
     },
     "output_type": "display_data"
    }
   ],
   "source": [
    "## Boxplot for hours of study by letter grade\n",
    "\n",
    "sns.boxplot(x = edu[\"Letter Grade\"], y = edu[\"hours\"])"
   ]
  },
  {
   "cell_type": "code",
   "execution_count": 21,
   "id": "8f5c2fa8",
   "metadata": {},
   "outputs": [
    {
     "data": {
      "text/plain": [
       "<AxesSubplot:xlabel='Letter Grade', ylabel='hours'>"
      ]
     },
     "execution_count": 21,
     "metadata": {},
     "output_type": "execute_result"
    },
    {
     "data": {
      "image/png": "[encoded data removed]",
      "text/plain": [
       "<Figure size 432x288 with 1 Axes>"
      ]
     },
     "metadata": {
      "needs_background": "light"
     },
     "output_type": "display_data"
    }
   ],
   "source": [
    "## Violin plot to show distribution of hours of study by letter grade\n",
    "\n",
    "sns.violinplot(x = edu[\"Letter Grade\"], y = edu[\"hours\"])"
   ]
  },
  {
   "cell_type": "code",
   "execution_count": 33,
   "id": "f32c4df3",
   "metadata": {},
   "outputs": [
    {
     "data": {
      "text/plain": [
       "<AxesSubplot:xlabel='grade', ylabel='Density'>"
      ]
     },
     "execution_count": 33,
     "metadata": {},
     "output_type": "execute_result"
    },
    {
     "data": {
      "image/png": "[encoded data removed]",
      "text/plain": [
       "<Figure size 1080x360 with 1 Axes>"
      ]
     },
     "metadata": {
      "needs_background": "light"
     },
     "output_type": "display_data"
    }
   ],
   "source": [
    "### plotting overlayed density plots for letter grade and  hours of study\n",
    "### doesn't make sense because the numbers aren't on the same scale\n",
    "\n",
    "plt.figure(figsize=(15,5)) ## change the figure size\n",
    "\n",
    "sns.kdeplot(edu['grade'], shade = True, color = \"red\", label = \"Grade\")\n",
    "sns.kdeplot(edu['hours'], shade = True, color = \"blue\", label = \"Hours of Study\")"
   ]
  },
  {
   "cell_type": "code",
   "execution_count": 31,
   "id": "6c95506e",
   "metadata": {},
   "outputs": [
    {
     "data": {
      "image/png": "[encoded data removed]",
      "text/plain": [
       "<Figure size 1440x504 with 1 Axes>"
      ]
     },
     "metadata": {
      "needs_background": "light"
     },
     "output_type": "display_data"
    }
   ],
   "source": [
    "## Scatterplot showing grades vs. hours, with regression line\n",
    "\n",
    "plt.figure(figsize=(20,7))\n",
    "\n",
    "sns.regplot(x = edu[\"hours\"], y = edu[\"grade\"], fit_reg = True)\n",
    "\n",
    "plt.grid()"
   ]
  },
  {
   "cell_type": "code",
   "execution_count": null,
   "id": "3bf08650",
   "metadata": {},
   "outputs": [],
   "source": []
  },
  {
   "cell_type": "code",
   "execution_count": null,
   "id": "0d82ee3c",
   "metadata": {},
   "outputs": [],
   "source": []
  }
 ],
 "metadata": {
  "kernelspec": {
   "display_name": "Python 3 (ipykernel)",
   "language": "python",
   "name": "python3"
  },
  "language_info": {
   "codemirror_mode": {
    "name": "ipython",
    "version": 3
   },
   "file_extension": ".py",
   "mimetype": "text/x-python",
   "name": "python",
   "nbconvert_exporter": "python",
   "pygments_lexer": "ipython3",
   "version": "3.9.7"
  }
 },
 "nbformat": 4,
 "nbformat_minor": 5
}
