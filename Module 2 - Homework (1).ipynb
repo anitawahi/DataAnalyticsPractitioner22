{
 "cells": [
  {
   "cell_type": "markdown",
   "id": "c209b646",
   "metadata": {},
   "source": [
    "### Homework #2"
   ]
  },
  {
   "cell_type": "markdown",
   "id": "869ebfd6",
   "metadata": {},
   "source": [
    "1. Round 4.5667 to the nearest hundreth (2 decimals) using a build-in function, round()."
   ]
  },
  {
   "cell_type": "code",
   "execution_count": 1,
   "id": "123658aa",
   "metadata": {},
   "outputs": [
    {
     "data": {
      "text/plain": [
       "4.57"
      ]
     },
     "execution_count": 1,
     "metadata": {},
     "output_type": "execute_result"
    }
   ],
   "source": [
    "round(4.5667,2)"
   ]
  },
  {
   "cell_type": "markdown",
   "id": "9d3f352c",
   "metadata": {},
   "source": [
    "2. Convert \"657\" to an integer data type"
   ]
  },
  {
   "cell_type": "code",
   "execution_count": 2,
   "id": "d5a67683",
   "metadata": {},
   "outputs": [
    {
     "name": "stdout",
     "output_type": "stream",
     "text": [
      "657\n"
     ]
    }
   ],
   "source": [
    "num=\"657\"\n",
    "intNum=int(num)\n",
    "print(intNum)"
   ]
  },
  {
   "cell_type": "markdown",
   "id": "a36f06d4",
   "metadata": {},
   "source": [
    "3. Write a program to get two numbers from a user. Then, create a 6-digit code that is a series of randomly generated numbers between the two numbers given by the user. Print the 6-digit code so all digits are separated by a dash. "
   ]
  },
  {
   "cell_type": "code",
   "execution_count": 5,
   "id": "021c92d4",
   "metadata": {},
   "outputs": [
    {
     "name": "stdout",
     "output_type": "stream",
     "text": [
      "Gimme a number.  5\n",
      "Gimme a greater number.  62\n",
      "14-49-43-24-42-12\n"
     ]
    }
   ],
   "source": [
    "num1=int(input(\"Gimme a number.  \"))\n",
    "num2=int(input(\"Gimme a greater number.  \"))\n",
    "\n",
    "import random as rand\n",
    "\n",
    "code1=rand.randint(num1,num2)\n",
    "code2=rand.randint(num1,num2)\n",
    "code3=rand.randint(num1,num2)\n",
    "code4=rand.randint(num1,num2)\n",
    "code5=rand.randint(num1,num2)\n",
    "code6=rand.randint(num1,num2)\n",
    "\n",
    "print(f\"{code1}-{code2}-{code3}-{code4}-{code5}-{code6}\")"
   ]
  },
  {
   "cell_type": "markdown",
   "id": "ee1441a1",
   "metadata": {},
   "source": [
    "4. Write a program to remove ALL the white spaces from the following text:\n",
    "\n",
    "        Hickory, dickory, dock,     \n",
    "        The mouse ran up the clock.   \n",
    "        The clock struck one,   \n",
    "        The mouse ran down,                      \n",
    "        Hickory, dickory, dock                  "
   ]
  },
  {
   "cell_type": "code",
   "execution_count": 6,
   "id": "8bf680f1",
   "metadata": {},
   "outputs": [],
   "source": [
    "line1=\"Hickory, dickory, dock,  \"\n",
    "line2=\"The mouse ran up the clock.  \"\n",
    "line3=\"The clock struck one,   \"\n",
    "line4=\"The mouse ran down,    \"\n",
    "line5=\"Hickory, dickory, dock    \""
   ]
  },
  {
   "cell_type": "code",
   "execution_count": 7,
   "id": "59d9c718",
   "metadata": {},
   "outputs": [],
   "source": [
    "line1=line1.replace(\" \",\"\")\n",
    "line2=line2.replace(\" \",\"\")\n",
    "line3=line3.replace(\" \",\"\")\n",
    "line4=line4.replace(\" \",\"\")\n",
    "line5=line5.replace(\" \",\"\")"
   ]
  },
  {
   "cell_type": "code",
   "execution_count": 8,
   "id": "11c24618",
   "metadata": {},
   "outputs": [
    {
     "name": "stdout",
     "output_type": "stream",
     "text": [
      "Hickory,dickory,dock,\n",
      "Themouseranuptheclock.\n",
      "Theclockstruckone,\n",
      "Themouserandown,\n",
      "Hickory,dickory,dock\n"
     ]
    }
   ],
   "source": [
    "print(line1)\n",
    "print(line2)\n",
    "print(line3)\n",
    "print(line4)\n",
    "print(line5)"
   ]
  },
  {
   "cell_type": "markdown",
   "id": "72d87b5b",
   "metadata": {},
   "source": [
    "5. Write a function to calculate the miles per gallon. Get a miles driven and gallons used from a user and call your function to calculate the miles per gallon."
   ]
  },
  {
   "cell_type": "code",
   "execution_count": 10,
   "id": "27be7372",
   "metadata": {},
   "outputs": [
    {
     "name": "stdout",
     "output_type": "stream",
     "text": [
      "Miles Driven:  298\n",
      "Gallons Used:  8\n",
      "MPG is 37.2\n"
     ]
    }
   ],
   "source": [
    "miles=float(input(\"Miles Driven:  \"))\n",
    "gallons=float(input(\"Gallons Used:  \"))\n",
    "\n",
    "def mpg(miles,gallons):\n",
    "    mpg=miles/gallons\n",
    "    print(f\"MPG is {mpg:.1f}\")\n",
    "    \n",
    "mpg(miles,gallons)"
   ]
  },
  {
   "cell_type": "markdown",
   "id": "1f3942b8",
   "metadata": {},
   "source": [
    "6. Enhance the <b>compute()</b> function created during Module 2. Enhance the function to compute a circle's area and circumference where:\n",
    "\n",
    " - circle's area = 3.14 X (radius X radius)   \n",
    " - circle's circumference = 3.14 X diameter"
   ]
  },
  {
   "cell_type": "code",
   "execution_count": 13,
   "id": "df43daca",
   "metadata": {},
   "outputs": [
    {
     "name": "stdout",
     "output_type": "stream",
     "text": [
      "Please enter length:  5\n",
      "Please enter width:  3.4\n",
      "Perimeter is 16.8\n",
      "Area is 17.0\n"
     ]
    }
   ],
   "source": [
    "length=float(input(\"Please enter length:  \"))\n",
    "width=float(input(\"Please enter width:  \"))\n",
    "\n",
    "def compute(length,width):\n",
    "    peri=2*length+2*width\n",
    "    area=length*width\n",
    "    print(f\"Perimeter is {peri}\")\n",
    "    print(f\"Area is {area}\")\n",
    "    \n",
    "compute(length,width)"
   ]
  },
  {
   "cell_type": "code",
   "execution_count": 14,
   "id": "fa8de89a",
   "metadata": {},
   "outputs": [
    {
     "name": "stdout",
     "output_type": "stream",
     "text": [
      "Please enter radius:  78.1\n",
      "Circumference is 490.47\n",
      "Area is 19152.78\n"
     ]
    }
   ],
   "source": [
    "radius=float(input(\"Please enter radius:  \"))\n",
    "\n",
    "def compute(radius):\n",
    "    circum=3.14*2*radius\n",
    "    area=3.14*radius**2\n",
    "    print(f\"Circumference is {circum:.2f}\")\n",
    "    print(f\"Area is {area:.2f}\")\n",
    "    \n",
    "compute(radius)"
   ]
  },
  {
   "cell_type": "markdown",
   "id": "4c5d83bb",
   "metadata": {},
   "source": [
    "7. Write a function called multiply_two() that accepts two parameters. The function should print a message like '15 * 2 = 30'.  Randomly generate two numbers between 1 and 100, then call the function with the two random numbers."
   ]
  },
  {
   "cell_type": "code",
   "execution_count": 24,
   "id": "fe5ca2dc",
   "metadata": {},
   "outputs": [
    {
     "name": "stdout",
     "output_type": "stream",
     "text": [
      "49 * 64 = 3136\n"
     ]
    }
   ],
   "source": [
    "x=rand.randint(1,100)\n",
    "y=rand.randint(1,100)\n",
    "\n",
    "def multiplyTwo(x,y):\n",
    "    return x*y\n",
    "          \n",
    "print(f\"{x} * {y} = {multiplyTwo(x,y)}\")"
   ]
  },
  {
   "cell_type": "code",
   "execution_count": null,
   "id": "9f83774c",
   "metadata": {},
   "outputs": [],
   "source": []
  },
  {
   "cell_type": "markdown",
   "id": "36865477",
   "metadata": {},
   "source": [
    "8. Create a function for a multiplication table.  Get a number from a user and then call you function which produces a multiplication table for that number.\n",
    "The output should look something like this:\n",
    "\n",
    "        Enter a number: 3\n",
    "        3 X 1 = 3\n",
    "        3 X 2 = 6\n",
    "        3 X 3 = 9\n",
    "        3 X 4 = 12\n",
    "        3 X 5 = 15\n",
    "        3 X 6 = 18\n",
    "        3 X 7 = 21\n",
    "        3 X 8 = 24\n",
    "        3 X 9 = 27"
   ]
  },
  {
   "cell_type": "code",
   "execution_count": 43,
   "id": "b023e863",
   "metadata": {},
   "outputs": [
    {
     "name": "stdout",
     "output_type": "stream",
     "text": [
      "Enter a number:  3\n",
      "3 x 1 = 3\n",
      "3 x 2 = 6\n",
      "3 x 3 = 9\n",
      "3 x 4 = 12\n",
      "3 x 5 = 15\n",
      "3 x 6 = 18\n",
      "3 x 7 = 21\n",
      "3 x 8 = 24\n",
      "3 x 9 = 27\n",
      "\n"
     ]
    }
   ],
   "source": [
    "num=int(input(\"Enter a number:  \"))\n",
    "\n",
    "def multTable(num):\n",
    "    mult1 = num*1\n",
    "    mult2 = num*2\n",
    "    mult3 = num*3\n",
    "    mult4 = num*4\n",
    "    mult5 = num*5\n",
    "    mult6 = num*6\n",
    "    mult7 = num*7\n",
    "    mult8 = num*8\n",
    "    mult9 = num*9\n",
    "    print(f\"{num} x 1 = {mult1}\\n{num} x 2 = {mult2}\\n{num} x 3 = {mult3}\\n{num} x 4 = {mult4}\\n{num} x 5 = {mult5}\\n{num} x 6 = {mult6}\\n{num} x 7 = {mult7}\\n{num} x 8 = {mult8}\\n{num} x 9 = {mult9}\\n\")\n",
    "\n",
    "multTable(num)"
   ]
  },
  {
   "cell_type": "code",
   "execution_count": null,
   "id": "563c8445",
   "metadata": {},
   "outputs": [],
   "source": []
  }
 ],
 "metadata": {
  "kernelspec": {
   "display_name": "Python 3 (ipykernel)",
   "language": "python",
   "name": "python3"
  },
  "language_info": {
   "codemirror_mode": {
    "name": "ipython",
    "version": 3
   },
   "file_extension": ".py",
   "mimetype": "text/x-python",
   "name": "python",
   "nbconvert_exporter": "python",
   "pygments_lexer": "ipython3",
   "version": "3.9.7"
  }
 },
 "nbformat": 4,
 "nbformat_minor": 5
}
