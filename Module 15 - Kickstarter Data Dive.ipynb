{
 "cells": [
  {
   "cell_type": "markdown",
   "metadata": {},
   "source": [
    "# <u>Group Project: Kickstarter Campaign</u>\n",
    "\n",
    "Kickstarter is a company that provides the space for independent artists, creative, innovators, and entrepreneurs to bring their unique projects to life. Kickstarter allows anyone to financially support the project through an online pledging system - this means; anyone can pledge a specific amount of money towards the funding goal of the project. Kickstarter projects (also called campaigns) are all-or-nothing -- meaning, if the funding goal isn't met 100% (or exceeded), the project campaign fails and no funding is provided. The stakes are high - but what is it about certain campaigns that make them succeed while others fail? \n",
    "\n",
    "You have joined the marketing team for Kickstarter and you are tasked with exploring the features of several campaigns over the past few years. You are responsible for looking at this dataset and pulling out key insights about the characteristics of Kickstarter campaigns that make them more likely to succeed or fail. The marketing team at Kickstarter has a limited amount of funds to devote to highlighting specific projects, and they want to highlight projects that have the best chance of succeeding (i.e. meeting the funding goal). Can you help them determine who that might be?\n",
    "\n",
    "Complete the steps below to take a dataset from inception to insights, for the purpose of answering the following two questions:\n",
    "\n",
    "    1. What kinds of projects should the Kickstarter Marking Team focus their attention on?\n",
    "    2. Why should the Marketing Team focus their attention in that direction?\n",
    "\n",
    "After you have combed through the data, your group will put together a presentation (including visualizations), that clearly answers the two questions above. The Kickstarter dataset is posted to Canvas. Complete the code in the notebook below to complete the project. <b> You are NOT restricted to the steps laid out in this notebook to complete your project, You can conduct additional analyses or create additional visualizations. This notebook is everything you need to cover, but feel free to expand on these steps! This includes completing regression analyses with the dataset.</b>"
   ]
  },
  {
   "cell_type": "markdown",
   "metadata": {},
   "source": [
    "## <font color=red>Part 1: Domain Knowledge</font>\n",
    "\n",
    "Before you begin looking at the data, you need to expand your knowledge of the subject matter. Start by visiting www.kickstarter.com and read all you can about the company. What is the objective of the company? How does it work? What does the project timeline look like? You should research the company until you feel comfortable speaking about the basics of Kickstarter projects. Use the space below (double-click the cell to activate) to write a brief paragraph about what you learned about Kickstarter. \n",
    "\n",
    "### <font color=red>Questions to Answer</font>\n",
    "1. What is Kickstarter?\n",
    "2. What is the purpose of Kickstarter?\n",
    "3. Who are the \"backers\" of a Kickstarter campaign?\n",
    "4. How is success determined for a project campaign?\n",
    "\n",
    "****\n",
    "\n",
    "### <font color=red>KICKSTARTER INFORMATION</font>\n",
    "\n",
    "#### In a nutshell:\n",
    "Kickstarter is an online funding platform designed as a connection between creativity and capital. Its purpose is to break free from a central focus on profit at all costs.  The \"backers\" are individuals or groups that pledge money if a project gets fully funded. Success is determined as a project meeting its funding goal within its timeline.\n"
   ]
  },
  {
   "cell_type": "markdown",
   "metadata": {},
   "source": [
    "## <font color=darkorange>Part 2: Data Import and Cleaning</font>\n",
    "\n",
    "Now that you are familiar with where the data is coming from, you are ready to start examining the data. The Kickstarter Dataset is a collection of project campaign information from 2016. Data includes information about the project name, length, country of origin, goal, and the amount of money raised, etc. If you open the Kickstarter Dataset in excel, the second tab provides descriptions of each of the columns/variables. Import the dataset into this notebook and follow the steps below to gather information about the data and to clean up the dataset. Use the space below (double-click the cell to activate) to write a brief paragraph describing the dataset and the steps you took while cleaning the data. \n",
    "\n",
    "### <font color=darkorange>Questions to Answer</font>\n",
    "1. How many columns are in the dataset? How many rows?\n",
    "2. What type of variables (continuous, categorical) make up this dataset?\n",
    "3. Which variables have missing values? \n",
    "4. How did you handle the missing data in the dataset?\n",
    "5. How many rows are in your dataset after handling missing data?\n",
    "6. Are there any odd or inappropriate values within a column that don't make sense? If so, what are they?\n",
    "7. What percentage of the each project was funded? In other words, how close were they to reaching the goal? You will need to create a new variable to answer this question.\n",
    "\n",
    "***\n",
    "\n",
    "### <font color=darkorange>DATASET INFORMATION AND CLEANING</font>\n",
    "\n",
    "#### Answers below:\n",
    "1. 281,856 rows and 14 columns\n",
    "2. All types of variables - integer, decimal, date/time, and categorical\n",
    "3. missing variables in the following categories: name, usd pledged\n",
    "4. a project without a name is still a project, so just changed the name to unknown; a project without pledges, though, is neither a success nor a failure and therefore useless to include in dataset (dropped)\n",
    "5. 281,646 rows after handling missing data\n",
    "6. I found no odd or inappropriate values in any of the columns, including usd pledged, which has no negative values\n",
    "7. done"
   ]
  },
  {
   "cell_type": "code",
   "execution_count": 238,
   "metadata": {},
   "outputs": [],
   "source": [
    "## import libraries and import Kickstarter dataset\n",
    "import pandas as pd\n",
    "import numpy as np\n",
    "import seaborn as sns\n",
    "import statsmodels.formula.api as sm\n",
    "import scipy.stats as stats\n",
    "\n",
    "from matplotlib import pyplot as plt\n",
    "%matplotlib inline\n",
    "\n",
    "from sklearn.cluster import KMeans\n",
    "\n",
    "df = pd.read_excel(\"Kickstarter_Dataset.xlsx\")\n",
    "\n",
    "## this is a large dataset, we want to see all rows \n",
    "# pd.set_option('display.max_rows', None)\n",
    "\n",
    "\n",
    "## this is a very large dataset, be patient, it may take a while to import!!\n",
    "\n"
   ]
  },
  {
   "cell_type": "code",
   "execution_count": 239,
   "metadata": {},
   "outputs": [
    {
     "name": "stdout",
     "output_type": "stream",
     "text": [
      "<class 'pandas.core.frame.DataFrame'>\n",
      "RangeIndex: 281856 entries, 0 to 281855\n",
      "Data columns (total 14 columns):\n",
      " #   Column         Non-Null Count   Dtype         \n",
      "---  ------         --------------   -----         \n",
      " 0   ID             281856 non-null  int64         \n",
      " 1   name           281821 non-null  object        \n",
      " 2   main_category  281856 non-null  object        \n",
      " 3   category       281856 non-null  object        \n",
      " 4   country        281856 non-null  object        \n",
      " 5   currency       281856 non-null  object        \n",
      " 6   launched       281856 non-null  datetime64[ns]\n",
      " 7   deadline       281856 non-null  datetime64[ns]\n",
      " 8   length_days    281856 non-null  int64         \n",
      " 9   goal           281856 non-null  float64       \n",
      " 10  pledged        281856 non-null  float64       \n",
      " 11  usd pledged    281646 non-null  float64       \n",
      " 12  backers        281856 non-null  int64         \n",
      " 13  state          281856 non-null  object        \n",
      "dtypes: datetime64[ns](2), float64(3), int64(3), object(6)\n",
      "memory usage: 30.1+ MB\n"
     ]
    }
   ],
   "source": [
    "## determine dataset shape (number of rows and columns)\n",
    "df.info()\n"
   ]
  },
  {
   "cell_type": "code",
   "execution_count": 240,
   "metadata": {},
   "outputs": [],
   "source": [
    "## determine dataset features (info) and data types\n",
    "\n"
   ]
  },
  {
   "cell_type": "code",
   "execution_count": 241,
   "metadata": {},
   "outputs": [
    {
     "data": {
      "text/plain": [
       "ID                 0\n",
       "name              35\n",
       "main_category      0\n",
       "category           0\n",
       "country            0\n",
       "currency           0\n",
       "launched           0\n",
       "deadline           0\n",
       "length_days        0\n",
       "goal               0\n",
       "pledged            0\n",
       "usd pledged      210\n",
       "backers            0\n",
       "state              0\n",
       "dtype: int64"
      ]
     },
     "execution_count": 241,
     "metadata": {},
     "output_type": "execute_result"
    }
   ],
   "source": [
    "## determine which variables have missing data \n",
    "df.isnull().sum()\n"
   ]
  },
  {
   "cell_type": "code",
   "execution_count": 242,
   "metadata": {},
   "outputs": [
    {
     "data": {
      "text/plain": [
       "ID               0\n",
       "name             0\n",
       "main_category    0\n",
       "category         0\n",
       "country          0\n",
       "currency         0\n",
       "launched         0\n",
       "deadline         0\n",
       "length_days      0\n",
       "goal             0\n",
       "pledged          0\n",
       "usd pledged      0\n",
       "backers          0\n",
       "state            0\n",
       "dtype: int64"
      ]
     },
     "execution_count": 242,
     "metadata": {},
     "output_type": "execute_result"
    }
   ],
   "source": [
    "## handling missing data\n",
    "\n",
    "## fill all the missing values in \"name\" with \"Unknown Project Name\"\n",
    "df[\"name\"].replace(np.nan, \"Unknown Project Name\", inplace = True)\n",
    "#checking to see that it was done correctly\n",
    "df.loc[df[\"name\"]==\"Unknown Project Name\"]\n",
    "\n",
    "## drop all the rows where \"usd pledged\" is missing\n",
    "df.dropna(subset=[\"usd pledged\"], inplace = True)\n",
    "\n",
    "# checking for missing values\n",
    "df.isnull().sum()"
   ]
  },
  {
   "cell_type": "code",
   "execution_count": 243,
   "metadata": {},
   "outputs": [
    {
     "name": "stdout",
     "output_type": "stream",
     "text": [
      "<class 'pandas.core.frame.DataFrame'>\n",
      "Int64Index: 281646 entries, 0 to 281855\n",
      "Data columns (total 14 columns):\n",
      " #   Column         Non-Null Count   Dtype         \n",
      "---  ------         --------------   -----         \n",
      " 0   ID             281646 non-null  int64         \n",
      " 1   name           281646 non-null  object        \n",
      " 2   main_category  281646 non-null  object        \n",
      " 3   category       281646 non-null  object        \n",
      " 4   country        281646 non-null  object        \n",
      " 5   currency       281646 non-null  object        \n",
      " 6   launched       281646 non-null  datetime64[ns]\n",
      " 7   deadline       281646 non-null  datetime64[ns]\n",
      " 8   length_days    281646 non-null  int64         \n",
      " 9   goal           281646 non-null  float64       \n",
      " 10  pledged        281646 non-null  float64       \n",
      " 11  usd pledged    281646 non-null  float64       \n",
      " 12  backers        281646 non-null  int64         \n",
      " 13  state          281646 non-null  object        \n",
      "dtypes: datetime64[ns](2), float64(3), int64(3), object(6)\n",
      "memory usage: 32.2+ MB\n"
     ]
    },
    {
     "data": {
      "text/plain": [
       "failed        168503\n",
       "successful    113143\n",
       "Name: state, dtype: int64"
      ]
     },
     "execution_count": 243,
     "metadata": {},
     "output_type": "execute_result"
    }
   ],
   "source": [
    "## inappropriate values in categorical variables; check value counts\n",
    "df.info()\n",
    "df[\"main_category\"].value_counts()\n",
    "df[\"category\"].value_counts()\n",
    "df[\"country\"].value_counts()\n",
    "df[\"currency\"].value_counts()\n",
    "df[\"state\"].value_counts()"
   ]
  },
  {
   "cell_type": "code",
   "execution_count": 244,
   "metadata": {
    "scrolled": false
   },
   "outputs": [
    {
     "data": {
      "text/plain": [
       "Int64Index([], dtype='int64')"
      ]
     },
     "execution_count": 244,
     "metadata": {},
     "output_type": "execute_result"
    }
   ],
   "source": [
    "df.loc[df[\"usd pledged\"]<0].index"
   ]
  },
  {
   "cell_type": "code",
   "execution_count": 245,
   "metadata": {},
   "outputs": [],
   "source": [
    "df3 = df.copy()"
   ]
  },
  {
   "cell_type": "code",
   "execution_count": 246,
   "metadata": {},
   "outputs": [
    {
     "data": {
      "text/html": [
       "<div>\n",
       "<style scoped>\n",
       "    .dataframe tbody tr th:only-of-type {\n",
       "        vertical-align: middle;\n",
       "    }\n",
       "\n",
       "    .dataframe tbody tr th {\n",
       "        vertical-align: top;\n",
       "    }\n",
       "\n",
       "    .dataframe thead th {\n",
       "        text-align: right;\n",
       "    }\n",
       "</style>\n",
       "<table border=\"1\" class=\"dataframe\">\n",
       "  <thead>\n",
       "    <tr style=\"text-align: right;\">\n",
       "      <th></th>\n",
       "      <th>main_category</th>\n",
       "      <th>category</th>\n",
       "      <th>country</th>\n",
       "      <th>currency</th>\n",
       "      <th>length_days</th>\n",
       "      <th>goal</th>\n",
       "      <th>usd pledged</th>\n",
       "      <th>backers</th>\n",
       "      <th>state</th>\n",
       "    </tr>\n",
       "  </thead>\n",
       "  <tbody>\n",
       "    <tr>\n",
       "      <th>0</th>\n",
       "      <td>Food</td>\n",
       "      <td>Cookbooks</td>\n",
       "      <td>US</td>\n",
       "      <td>USD</td>\n",
       "      <td>29</td>\n",
       "      <td>13730.0</td>\n",
       "      <td>3984.000000</td>\n",
       "      <td>46</td>\n",
       "      <td>failed</td>\n",
       "    </tr>\n",
       "    <tr>\n",
       "      <th>1</th>\n",
       "      <td>Technology</td>\n",
       "      <td>3D Printing</td>\n",
       "      <td>AT</td>\n",
       "      <td>EUR</td>\n",
       "      <td>35</td>\n",
       "      <td>75000.0</td>\n",
       "      <td>1561.784015</td>\n",
       "      <td>31</td>\n",
       "      <td>failed</td>\n",
       "    </tr>\n",
       "    <tr>\n",
       "      <th>2</th>\n",
       "      <td>Technology</td>\n",
       "      <td>3D Printing</td>\n",
       "      <td>AT</td>\n",
       "      <td>EUR</td>\n",
       "      <td>30</td>\n",
       "      <td>15000.0</td>\n",
       "      <td>4152.402045</td>\n",
       "      <td>46</td>\n",
       "      <td>failed</td>\n",
       "    </tr>\n",
       "    <tr>\n",
       "      <th>3</th>\n",
       "      <td>Technology</td>\n",
       "      <td>3D Printing</td>\n",
       "      <td>AT</td>\n",
       "      <td>EUR</td>\n",
       "      <td>30</td>\n",
       "      <td>20000.0</td>\n",
       "      <td>19.435528</td>\n",
       "      <td>6</td>\n",
       "      <td>failed</td>\n",
       "    </tr>\n",
       "    <tr>\n",
       "      <th>4</th>\n",
       "      <td>Technology</td>\n",
       "      <td>3D Printing</td>\n",
       "      <td>AT</td>\n",
       "      <td>EUR</td>\n",
       "      <td>40</td>\n",
       "      <td>20000.0</td>\n",
       "      <td>2908.076574</td>\n",
       "      <td>29</td>\n",
       "      <td>failed</td>\n",
       "    </tr>\n",
       "  </tbody>\n",
       "</table>\n",
       "</div>"
      ],
      "text/plain": [
       "  main_category     category country currency  length_days     goal  \\\n",
       "0          Food    Cookbooks      US      USD           29  13730.0   \n",
       "1    Technology  3D Printing      AT      EUR           35  75000.0   \n",
       "2    Technology  3D Printing      AT      EUR           30  15000.0   \n",
       "3    Technology  3D Printing      AT      EUR           30  20000.0   \n",
       "4    Technology  3D Printing      AT      EUR           40  20000.0   \n",
       "\n",
       "   usd pledged  backers   state  \n",
       "0  3984.000000       46  failed  \n",
       "1  1561.784015       31  failed  \n",
       "2  4152.402045       46  failed  \n",
       "3    19.435528        6  failed  \n",
       "4  2908.076574       29  failed  "
      ]
     },
     "execution_count": 246,
     "metadata": {},
     "output_type": "execute_result"
    }
   ],
   "source": [
    "## drop unneeded columns (project ID, name, pledged, launched, deadline)\n",
    "# you will use usd pledged from now on\n",
    "\n",
    "df3.drop(columns = [\"ID\", \"name\", \"launched\", \"deadline\", \"pledged\"], inplace = True)\n",
    "\n",
    "df3.head()\n"
   ]
  },
  {
   "cell_type": "code",
   "execution_count": 247,
   "metadata": {},
   "outputs": [],
   "source": [
    "# create a new column\n",
    "## percentage of project that was funded - how close were they to reaching the goal?\n",
    "\n",
    "df[\"pct_funded\"] = (df[\"usd pledged\"]/df[\"goal\"])*100"
   ]
  },
  {
   "cell_type": "code",
   "execution_count": 248,
   "metadata": {},
   "outputs": [
    {
     "data": {
      "text/html": [
       "<div>\n",
       "<style scoped>\n",
       "    .dataframe tbody tr th:only-of-type {\n",
       "        vertical-align: middle;\n",
       "    }\n",
       "\n",
       "    .dataframe tbody tr th {\n",
       "        vertical-align: top;\n",
       "    }\n",
       "\n",
       "    .dataframe thead th {\n",
       "        text-align: right;\n",
       "    }\n",
       "</style>\n",
       "<table border=\"1\" class=\"dataframe\">\n",
       "  <thead>\n",
       "    <tr style=\"text-align: right;\">\n",
       "      <th></th>\n",
       "      <th>ID</th>\n",
       "      <th>length_days</th>\n",
       "      <th>goal</th>\n",
       "      <th>pledged</th>\n",
       "      <th>usd pledged</th>\n",
       "      <th>backers</th>\n",
       "      <th>pct_funded</th>\n",
       "    </tr>\n",
       "  </thead>\n",
       "  <tbody>\n",
       "    <tr>\n",
       "      <th>count</th>\n",
       "      <td>2.816460e+05</td>\n",
       "      <td>281646.000000</td>\n",
       "      <td>2.816460e+05</td>\n",
       "      <td>2.816460e+05</td>\n",
       "      <td>2.816460e+05</td>\n",
       "      <td>281646.000000</td>\n",
       "      <td>2.816460e+05</td>\n",
       "    </tr>\n",
       "    <tr>\n",
       "      <th>mean</th>\n",
       "      <td>1.074977e+09</td>\n",
       "      <td>33.976520</td>\n",
       "      <td>4.181597e+04</td>\n",
       "      <td>9.441571e+03</td>\n",
       "      <td>8.575848e+03</td>\n",
       "      <td>111.934801</td>\n",
       "      <td>2.762000e+02</td>\n",
       "    </tr>\n",
       "    <tr>\n",
       "      <th>std</th>\n",
       "      <td>6.194735e+08</td>\n",
       "      <td>12.894187</td>\n",
       "      <td>1.043830e+06</td>\n",
       "      <td>9.406700e+04</td>\n",
       "      <td>8.916948e+04</td>\n",
       "      <td>996.631624</td>\n",
       "      <td>1.826263e+04</td>\n",
       "    </tr>\n",
       "    <tr>\n",
       "      <th>min</th>\n",
       "      <td>5.971000e+03</td>\n",
       "      <td>1.000000</td>\n",
       "      <td>1.000000e-02</td>\n",
       "      <td>0.000000e+00</td>\n",
       "      <td>0.000000e+00</td>\n",
       "      <td>0.000000</td>\n",
       "      <td>0.000000e+00</td>\n",
       "    </tr>\n",
       "    <tr>\n",
       "      <th>25%</th>\n",
       "      <td>5.373189e+08</td>\n",
       "      <td>30.000000</td>\n",
       "      <td>2.000000e+03</td>\n",
       "      <td>5.000000e+01</td>\n",
       "      <td>4.000000e+01</td>\n",
       "      <td>2.000000</td>\n",
       "      <td>6.000000e-01</td>\n",
       "    </tr>\n",
       "    <tr>\n",
       "      <th>50%</th>\n",
       "      <td>1.075998e+09</td>\n",
       "      <td>30.000000</td>\n",
       "      <td>5.000000e+03</td>\n",
       "      <td>7.710000e+02</td>\n",
       "      <td>6.910000e+02</td>\n",
       "      <td>15.000000</td>\n",
       "      <td>1.661484e+01</td>\n",
       "    </tr>\n",
       "    <tr>\n",
       "      <th>75%</th>\n",
       "      <td>1.611435e+09</td>\n",
       "      <td>36.000000</td>\n",
       "      <td>1.500000e+04</td>\n",
       "      <td>4.448875e+03</td>\n",
       "      <td>4.109040e+03</td>\n",
       "      <td>62.000000</td>\n",
       "      <td>1.080828e+02</td>\n",
       "    </tr>\n",
       "    <tr>\n",
       "      <th>max</th>\n",
       "      <td>2.147476e+09</td>\n",
       "      <td>92.000000</td>\n",
       "      <td>1.000000e+08</td>\n",
       "      <td>2.033899e+07</td>\n",
       "      <td>2.033899e+07</td>\n",
       "      <td>219382.000000</td>\n",
       "      <td>5.526657e+06</td>\n",
       "    </tr>\n",
       "  </tbody>\n",
       "</table>\n",
       "</div>"
      ],
      "text/plain": [
       "                 ID    length_days          goal       pledged   usd pledged  \\\n",
       "count  2.816460e+05  281646.000000  2.816460e+05  2.816460e+05  2.816460e+05   \n",
       "mean   1.074977e+09      33.976520  4.181597e+04  9.441571e+03  8.575848e+03   \n",
       "std    6.194735e+08      12.894187  1.043830e+06  9.406700e+04  8.916948e+04   \n",
       "min    5.971000e+03       1.000000  1.000000e-02  0.000000e+00  0.000000e+00   \n",
       "25%    5.373189e+08      30.000000  2.000000e+03  5.000000e+01  4.000000e+01   \n",
       "50%    1.075998e+09      30.000000  5.000000e+03  7.710000e+02  6.910000e+02   \n",
       "75%    1.611435e+09      36.000000  1.500000e+04  4.448875e+03  4.109040e+03   \n",
       "max    2.147476e+09      92.000000  1.000000e+08  2.033899e+07  2.033899e+07   \n",
       "\n",
       "             backers    pct_funded  \n",
       "count  281646.000000  2.816460e+05  \n",
       "mean      111.934801  2.762000e+02  \n",
       "std       996.631624  1.826263e+04  \n",
       "min         0.000000  0.000000e+00  \n",
       "25%         2.000000  6.000000e-01  \n",
       "50%        15.000000  1.661484e+01  \n",
       "75%        62.000000  1.080828e+02  \n",
       "max    219382.000000  5.526657e+06  "
      ]
     },
     "execution_count": 248,
     "metadata": {},
     "output_type": "execute_result"
    }
   ],
   "source": [
    "df.describe()"
   ]
  },
  {
   "cell_type": "code",
   "execution_count": null,
   "metadata": {},
   "outputs": [],
   "source": []
  },
  {
   "cell_type": "markdown",
   "metadata": {},
   "source": [
    "## <font color=#EAC117>Part 3: Exploratory Analysis</font>\n",
    "\n",
    "With a clean dataset, you are now ready to start exploring the variables in your dataset. Don't worry about how your variables relate to each other - we will cover that in the next section. For now, it's more important that you get a clear sense of the variable characteristics on their own. Follow the steps below to explore all of the variables within your dataset and preform descriptive statistics. In addition to the descriptive statistics, you are tasked with creating a visualizations related to your results. Stylistic choices related to the visualizations is up to your group. Use the space below (double-click the cell to activate) to write a brief paragraph describing the steps you took to explore the data. \n",
    "\n",
    "### <font color=#EAC117>Questions to Answer</font>\n",
    "1.\tWhat is the average (mean) for the following variables: goal, usd pledged, backers, and length? \n",
    "2.\tWhat is the maximum value, minimum value, and range for the following variables: goal, usd pledged, backers, and length?\n",
    "3.\tWhat is the most common (mode) length for campaign projects?\n",
    "4.\tConsidering the categorical variables, what is the most frequent main category group? How many projects are classified under this category? What is the most frequent sub-category? How many projects are classified under this category? \n",
    "5.\tConsidering the categorical variables, what is the least frequent main category group? How many projects are classified under this category? What is the least frequent sub-category? How many projects are classified under this category? \n",
    "6.\tWhich country has started the most Kickstarter campaigns?\n",
    "7.\tHow many projects have failed? How many projects have succeeded?\n",
    "\n",
    "### <font color=#EAC117>Visualizations to Create</font> \n",
    "* Number of Projects by Main Category\n",
    "* Number of projects by State (outcome)\n",
    "* Number of projects from each country\n",
    "* Number of successful projects and failed projects by Main Category\n",
    "\n",
    "***\n",
    "\n",
    "### <font color=#EAC117>EXPLORATORY DATA ANALYSIS</font>\n",
    "\n",
    "#### Start your paragraph here . . . Be sure to answer all questions in this space!"
   ]
  },
  {
   "cell_type": "code",
   "execution_count": 249,
   "metadata": {},
   "outputs": [],
   "source": [
    "df3 = df.copy()"
   ]
  },
  {
   "cell_type": "code",
   "execution_count": 250,
   "metadata": {},
   "outputs": [
    {
     "data": {
      "text/html": [
       "<div>\n",
       "<style scoped>\n",
       "    .dataframe tbody tr th:only-of-type {\n",
       "        vertical-align: middle;\n",
       "    }\n",
       "\n",
       "    .dataframe tbody tr th {\n",
       "        vertical-align: top;\n",
       "    }\n",
       "\n",
       "    .dataframe thead th {\n",
       "        text-align: right;\n",
       "    }\n",
       "</style>\n",
       "<table border=\"1\" class=\"dataframe\">\n",
       "  <thead>\n",
       "    <tr style=\"text-align: right;\">\n",
       "      <th></th>\n",
       "      <th>ID</th>\n",
       "      <th>name</th>\n",
       "      <th>main_category</th>\n",
       "      <th>category</th>\n",
       "      <th>country</th>\n",
       "      <th>currency</th>\n",
       "      <th>launched</th>\n",
       "      <th>deadline</th>\n",
       "      <th>length_days</th>\n",
       "      <th>goal</th>\n",
       "      <th>pledged</th>\n",
       "      <th>usd pledged</th>\n",
       "      <th>backers</th>\n",
       "      <th>state</th>\n",
       "      <th>pct_funded</th>\n",
       "      <th>avg_pledge_per_backer</th>\n",
       "    </tr>\n",
       "  </thead>\n",
       "  <tbody>\n",
       "    <tr>\n",
       "      <th>0</th>\n",
       "      <td>1009317190</td>\n",
       "      <td>French Cuisine</td>\n",
       "      <td>Food</td>\n",
       "      <td>Cookbooks</td>\n",
       "      <td>US</td>\n",
       "      <td>USD</td>\n",
       "      <td>2014-08-09 03:16:02</td>\n",
       "      <td>2014-09-08 00:46:23</td>\n",
       "      <td>29</td>\n",
       "      <td>13730.0</td>\n",
       "      <td>3984.0</td>\n",
       "      <td>3984.000000</td>\n",
       "      <td>46</td>\n",
       "      <td>failed</td>\n",
       "      <td>29.016752</td>\n",
       "      <td>86.608696</td>\n",
       "    </tr>\n",
       "    <tr>\n",
       "      <th>1</th>\n",
       "      <td>1618024139</td>\n",
       "      <td>HotRod Henry SUPERCHARGED - the ultimate 3D pr...</td>\n",
       "      <td>Technology</td>\n",
       "      <td>3D Printing</td>\n",
       "      <td>AT</td>\n",
       "      <td>EUR</td>\n",
       "      <td>2016-06-16 16:30:33</td>\n",
       "      <td>2016-07-21 23:59:00</td>\n",
       "      <td>35</td>\n",
       "      <td>75000.0</td>\n",
       "      <td>7386.0</td>\n",
       "      <td>1561.784015</td>\n",
       "      <td>31</td>\n",
       "      <td>failed</td>\n",
       "      <td>2.082379</td>\n",
       "      <td>50.380130</td>\n",
       "    </tr>\n",
       "    <tr>\n",
       "      <th>2</th>\n",
       "      <td>2004838949</td>\n",
       "      <td>PHAbulous Philaments - 3D printing: natural an...</td>\n",
       "      <td>Technology</td>\n",
       "      <td>3D Printing</td>\n",
       "      <td>AT</td>\n",
       "      <td>EUR</td>\n",
       "      <td>2015-07-22 12:08:26</td>\n",
       "      <td>2015-08-21 12:08:26</td>\n",
       "      <td>30</td>\n",
       "      <td>15000.0</td>\n",
       "      <td>3834.0</td>\n",
       "      <td>4152.402045</td>\n",
       "      <td>46</td>\n",
       "      <td>failed</td>\n",
       "      <td>27.682680</td>\n",
       "      <td>90.269610</td>\n",
       "    </tr>\n",
       "    <tr>\n",
       "      <th>3</th>\n",
       "      <td>258770123</td>\n",
       "      <td>Schokostruder - Chocolate &amp;  Liquid Extruder f...</td>\n",
       "      <td>Technology</td>\n",
       "      <td>3D Printing</td>\n",
       "      <td>AT</td>\n",
       "      <td>EUR</td>\n",
       "      <td>2016-01-25 18:48:09</td>\n",
       "      <td>2016-02-24 18:48:09</td>\n",
       "      <td>30</td>\n",
       "      <td>20000.0</td>\n",
       "      <td>18.0</td>\n",
       "      <td>19.435528</td>\n",
       "      <td>6</td>\n",
       "      <td>failed</td>\n",
       "      <td>0.097178</td>\n",
       "      <td>3.239255</td>\n",
       "    </tr>\n",
       "    <tr>\n",
       "      <th>4</th>\n",
       "      <td>690137136</td>\n",
       "      <td>StarterMate - the 3D printing starter kit for ...</td>\n",
       "      <td>Technology</td>\n",
       "      <td>3D Printing</td>\n",
       "      <td>AT</td>\n",
       "      <td>EUR</td>\n",
       "      <td>2015-09-30 00:26:43</td>\n",
       "      <td>2015-11-09 00:26:43</td>\n",
       "      <td>40</td>\n",
       "      <td>20000.0</td>\n",
       "      <td>2598.0</td>\n",
       "      <td>2908.076574</td>\n",
       "      <td>29</td>\n",
       "      <td>failed</td>\n",
       "      <td>14.540383</td>\n",
       "      <td>100.278503</td>\n",
       "    </tr>\n",
       "  </tbody>\n",
       "</table>\n",
       "</div>"
      ],
      "text/plain": [
       "           ID                                               name  \\\n",
       "0  1009317190                                     French Cuisine   \n",
       "1  1618024139  HotRod Henry SUPERCHARGED - the ultimate 3D pr...   \n",
       "2  2004838949  PHAbulous Philaments - 3D printing: natural an...   \n",
       "3   258770123  Schokostruder - Chocolate &  Liquid Extruder f...   \n",
       "4   690137136  StarterMate - the 3D printing starter kit for ...   \n",
       "\n",
       "  main_category     category country currency            launched  \\\n",
       "0          Food    Cookbooks      US      USD 2014-08-09 03:16:02   \n",
       "1    Technology  3D Printing      AT      EUR 2016-06-16 16:30:33   \n",
       "2    Technology  3D Printing      AT      EUR 2015-07-22 12:08:26   \n",
       "3    Technology  3D Printing      AT      EUR 2016-01-25 18:48:09   \n",
       "4    Technology  3D Printing      AT      EUR 2015-09-30 00:26:43   \n",
       "\n",
       "             deadline  length_days     goal  pledged  usd pledged  backers  \\\n",
       "0 2014-09-08 00:46:23           29  13730.0   3984.0  3984.000000       46   \n",
       "1 2016-07-21 23:59:00           35  75000.0   7386.0  1561.784015       31   \n",
       "2 2015-08-21 12:08:26           30  15000.0   3834.0  4152.402045       46   \n",
       "3 2016-02-24 18:48:09           30  20000.0     18.0    19.435528        6   \n",
       "4 2015-11-09 00:26:43           40  20000.0   2598.0  2908.076574       29   \n",
       "\n",
       "    state  pct_funded  avg_pledge_per_backer  \n",
       "0  failed   29.016752              86.608696  \n",
       "1  failed    2.082379              50.380130  \n",
       "2  failed   27.682680              90.269610  \n",
       "3  failed    0.097178               3.239255  \n",
       "4  failed   14.540383             100.278503  "
      ]
     },
     "execution_count": 250,
     "metadata": {},
     "output_type": "execute_result"
    }
   ],
   "source": [
    "df3[\"avg_pledge_per_backer\"] = (df3[\"usd pledged\"]/df3[\"backers\"])\n",
    "df3.head()"
   ]
  },
  {
   "cell_type": "code",
   "execution_count": 251,
   "metadata": {
    "scrolled": false
   },
   "outputs": [
    {
     "name": "stdout",
     "output_type": "stream",
     "text": [
      "<class 'pandas.core.frame.DataFrame'>\n",
      "Int64Index: 281533 entries, 0 to 281855\n",
      "Data columns (total 17 columns):\n",
      " #   Column                 Non-Null Count   Dtype         \n",
      "---  ------                 --------------   -----         \n",
      " 0   ID                     281533 non-null  int64         \n",
      " 1   name                   281533 non-null  object        \n",
      " 2   main_category          281533 non-null  object        \n",
      " 3   category               281533 non-null  object        \n",
      " 4   country                281533 non-null  object        \n",
      " 5   currency               281533 non-null  object        \n",
      " 6   launched               281533 non-null  datetime64[ns]\n",
      " 7   deadline               281533 non-null  datetime64[ns]\n",
      " 8   length_days            281533 non-null  int64         \n",
      " 9   goal                   281533 non-null  float64       \n",
      " 10  pledged                281533 non-null  float64       \n",
      " 11  usd pledged            281533 non-null  float64       \n",
      " 12  backers                281533 non-null  int64         \n",
      " 13  state                  281533 non-null  object        \n",
      " 14  pct_funded             281533 non-null  float64       \n",
      " 15  avg_pledge_per_backer  248179 non-null  float64       \n",
      " 16  zscore_pct_funded      281533 non-null  float64       \n",
      "dtypes: datetime64[ns](2), float64(6), int64(3), object(6)\n",
      "memory usage: 38.7+ MB\n"
     ]
    }
   ],
   "source": [
    "# removing pct_funded outliers\n",
    "\n",
    "df3[\"zscore_pct_funded\"] = np.abs(stats.zscore(df3[\"pct_funded\"]))\n",
    "\n",
    "df3 = df3[df3[\"zscore_pct_funded\"]<=3]\n",
    "\n",
    "df3.info()"
   ]
  },
  {
   "cell_type": "code",
   "execution_count": 252,
   "metadata": {},
   "outputs": [
    {
     "data": {
      "text/html": [
       "<div>\n",
       "<style scoped>\n",
       "    .dataframe tbody tr th:only-of-type {\n",
       "        vertical-align: middle;\n",
       "    }\n",
       "\n",
       "    .dataframe tbody tr th {\n",
       "        vertical-align: top;\n",
       "    }\n",
       "\n",
       "    .dataframe thead th {\n",
       "        text-align: right;\n",
       "    }\n",
       "</style>\n",
       "<table border=\"1\" class=\"dataframe\">\n",
       "  <thead>\n",
       "    <tr style=\"text-align: right;\">\n",
       "      <th></th>\n",
       "      <th>ID</th>\n",
       "      <th>length_days</th>\n",
       "      <th>goal</th>\n",
       "      <th>pledged</th>\n",
       "      <th>usd pledged</th>\n",
       "      <th>backers</th>\n",
       "      <th>pct_funded</th>\n",
       "      <th>avg_pledge_per_backer</th>\n",
       "      <th>zscore_pct_funded</th>\n",
       "      <th>zscore_usd_pledged</th>\n",
       "    </tr>\n",
       "  </thead>\n",
       "  <tbody>\n",
       "    <tr>\n",
       "      <th>count</th>\n",
       "      <td>2.805570e+05</td>\n",
       "      <td>280557.000000</td>\n",
       "      <td>2.805570e+05</td>\n",
       "      <td>2.805570e+05</td>\n",
       "      <td>280557.000000</td>\n",
       "      <td>280557.000000</td>\n",
       "      <td>280557.000000</td>\n",
       "      <td>2.472030e+05</td>\n",
       "      <td>2.805570e+05</td>\n",
       "      <td>280557.000000</td>\n",
       "    </tr>\n",
       "    <tr>\n",
       "      <th>mean</th>\n",
       "      <td>1.075031e+09</td>\n",
       "      <td>33.972145</td>\n",
       "      <td>4.135771e+04</td>\n",
       "      <td>6.570999e+03</td>\n",
       "      <td>5763.580987</td>\n",
       "      <td>86.007239</td>\n",
       "      <td>91.448293</td>\n",
       "      <td>inf</td>\n",
       "      <td>1.348263e-02</td>\n",
       "      <td>0.108076</td>\n",
       "    </tr>\n",
       "    <tr>\n",
       "      <th>std</th>\n",
       "      <td>6.195366e+08</td>\n",
       "      <td>12.901238</td>\n",
       "      <td>1.044857e+06</td>\n",
       "      <td>3.060791e+04</td>\n",
       "      <td>17663.577599</td>\n",
       "      <td>442.842704</td>\n",
       "      <td>573.449584</td>\n",
       "      <td>NaN</td>\n",
       "      <td>3.010870e-02</td>\n",
       "      <td>0.173054</td>\n",
       "    </tr>\n",
       "    <tr>\n",
       "      <th>min</th>\n",
       "      <td>5.971000e+03</td>\n",
       "      <td>1.000000</td>\n",
       "      <td>1.500000e-01</td>\n",
       "      <td>0.000000e+00</td>\n",
       "      <td>0.000000</td>\n",
       "      <td>0.000000</td>\n",
       "      <td>0.000000</td>\n",
       "      <td>0.000000e+00</td>\n",
       "      <td>2.450294e-09</td>\n",
       "      <td>0.000001</td>\n",
       "    </tr>\n",
       "    <tr>\n",
       "      <th>25%</th>\n",
       "      <td>5.373183e+08</td>\n",
       "      <td>30.000000</td>\n",
       "      <td>2.000000e+03</td>\n",
       "      <td>4.800000e+01</td>\n",
       "      <td>38.116275</td>\n",
       "      <td>2.000000</td>\n",
       "      <td>0.580000</td>\n",
       "      <td>2.375000e+01</td>\n",
       "      <td>9.345478e-03</td>\n",
       "      <td>0.071771</td>\n",
       "    </tr>\n",
       "    <tr>\n",
       "      <th>50%</th>\n",
       "      <td>1.076008e+09</td>\n",
       "      <td>30.000000</td>\n",
       "      <td>5.000000e+03</td>\n",
       "      <td>7.590000e+02</td>\n",
       "      <td>680.000000</td>\n",
       "      <td>15.000000</td>\n",
       "      <td>16.280000</td>\n",
       "      <td>4.636111e+01</td>\n",
       "      <td>1.437090e-02</td>\n",
       "      <td>0.093679</td>\n",
       "    </tr>\n",
       "    <tr>\n",
       "      <th>75%</th>\n",
       "      <td>1.611662e+09</td>\n",
       "      <td>36.000000</td>\n",
       "      <td>1.500000e+04</td>\n",
       "      <td>4.349000e+03</td>\n",
       "      <td>4049.000000</td>\n",
       "      <td>61.000000</td>\n",
       "      <td>107.780000</td>\n",
       "      <td>8.073333e+01</td>\n",
       "      <td>1.510185e-02</td>\n",
       "      <td>0.097422</td>\n",
       "    </tr>\n",
       "    <tr>\n",
       "      <th>max</th>\n",
       "      <td>2.147472e+09</td>\n",
       "      <td>92.000000</td>\n",
       "      <td>1.000000e+08</td>\n",
       "      <td>6.465690e+06</td>\n",
       "      <td>271154.010000</td>\n",
       "      <td>154926.000000</td>\n",
       "      <td>54575.666667</td>\n",
       "      <td>inf</td>\n",
       "      <td>2.973261e+00</td>\n",
       "      <td>2.996524</td>\n",
       "    </tr>\n",
       "  </tbody>\n",
       "</table>\n",
       "</div>"
      ],
      "text/plain": [
       "                 ID    length_days          goal       pledged    usd pledged  \\\n",
       "count  2.805570e+05  280557.000000  2.805570e+05  2.805570e+05  280557.000000   \n",
       "mean   1.075031e+09      33.972145  4.135771e+04  6.570999e+03    5763.580987   \n",
       "std    6.195366e+08      12.901238  1.044857e+06  3.060791e+04   17663.577599   \n",
       "min    5.971000e+03       1.000000  1.500000e-01  0.000000e+00       0.000000   \n",
       "25%    5.373183e+08      30.000000  2.000000e+03  4.800000e+01      38.116275   \n",
       "50%    1.076008e+09      30.000000  5.000000e+03  7.590000e+02     680.000000   \n",
       "75%    1.611662e+09      36.000000  1.500000e+04  4.349000e+03    4049.000000   \n",
       "max    2.147472e+09      92.000000  1.000000e+08  6.465690e+06  271154.010000   \n",
       "\n",
       "             backers     pct_funded  avg_pledge_per_backer  zscore_pct_funded  \\\n",
       "count  280557.000000  280557.000000           2.472030e+05       2.805570e+05   \n",
       "mean       86.007239      91.448293                    inf       1.348263e-02   \n",
       "std       442.842704     573.449584                    NaN       3.010870e-02   \n",
       "min         0.000000       0.000000           0.000000e+00       2.450294e-09   \n",
       "25%         2.000000       0.580000           2.375000e+01       9.345478e-03   \n",
       "50%        15.000000      16.280000           4.636111e+01       1.437090e-02   \n",
       "75%        61.000000     107.780000           8.073333e+01       1.510185e-02   \n",
       "max    154926.000000   54575.666667                    inf       2.973261e+00   \n",
       "\n",
       "       zscore_usd_pledged  \n",
       "count       280557.000000  \n",
       "mean             0.108076  \n",
       "std              0.173054  \n",
       "min              0.000001  \n",
       "25%              0.071771  \n",
       "50%              0.093679  \n",
       "75%              0.097422  \n",
       "max              2.996524  "
      ]
     },
     "execution_count": 252,
     "metadata": {},
     "output_type": "execute_result"
    }
   ],
   "source": [
    "#removing usd_pledged outliers\n",
    "\n",
    "df3[\"zscore_usd_pledged\"] = np.abs(stats.zscore(df3[\"usd pledged\"]))\n",
    "\n",
    "usd_pledged_outlier = df3.loc[df3[\"zscore_usd_pledged\"]>3]\n",
    "\n",
    "df3 = df3[df3['zscore_usd_pledged']<=3]\n",
    "\n",
    "df3.describe()"
   ]
  },
  {
   "cell_type": "code",
   "execution_count": 253,
   "metadata": {},
   "outputs": [
    {
     "data": {
      "text/html": [
       "<div>\n",
       "<style scoped>\n",
       "    .dataframe tbody tr th:only-of-type {\n",
       "        vertical-align: middle;\n",
       "    }\n",
       "\n",
       "    .dataframe tbody tr th {\n",
       "        vertical-align: top;\n",
       "    }\n",
       "\n",
       "    .dataframe thead th {\n",
       "        text-align: right;\n",
       "    }\n",
       "</style>\n",
       "<table border=\"1\" class=\"dataframe\">\n",
       "  <thead>\n",
       "    <tr style=\"text-align: right;\">\n",
       "      <th></th>\n",
       "      <th>ID</th>\n",
       "      <th>length_days</th>\n",
       "      <th>goal</th>\n",
       "      <th>pledged</th>\n",
       "      <th>usd pledged</th>\n",
       "      <th>backers</th>\n",
       "      <th>pct_funded</th>\n",
       "      <th>avg_pledge_per_backer</th>\n",
       "      <th>zscore_pct_funded</th>\n",
       "      <th>zscore_usd_pledged</th>\n",
       "      <th>zscore_length_days</th>\n",
       "    </tr>\n",
       "  </thead>\n",
       "  <tbody>\n",
       "    <tr>\n",
       "      <th>count</th>\n",
       "      <td>2.805570e+05</td>\n",
       "      <td>280557.000000</td>\n",
       "      <td>2.805570e+05</td>\n",
       "      <td>2.805570e+05</td>\n",
       "      <td>280557.000000</td>\n",
       "      <td>280557.000000</td>\n",
       "      <td>280557.000000</td>\n",
       "      <td>2.472030e+05</td>\n",
       "      <td>2.805570e+05</td>\n",
       "      <td>280557.000000</td>\n",
       "      <td>280557.000000</td>\n",
       "    </tr>\n",
       "    <tr>\n",
       "      <th>mean</th>\n",
       "      <td>1.075031e+09</td>\n",
       "      <td>33.972145</td>\n",
       "      <td>4.135771e+04</td>\n",
       "      <td>6.570999e+03</td>\n",
       "      <td>5763.580987</td>\n",
       "      <td>86.007239</td>\n",
       "      <td>91.448293</td>\n",
       "      <td>inf</td>\n",
       "      <td>1.348263e-02</td>\n",
       "      <td>0.108076</td>\n",
       "      <td>0.713186</td>\n",
       "    </tr>\n",
       "    <tr>\n",
       "      <th>std</th>\n",
       "      <td>6.195366e+08</td>\n",
       "      <td>12.901238</td>\n",
       "      <td>1.044857e+06</td>\n",
       "      <td>3.060791e+04</td>\n",
       "      <td>17663.577599</td>\n",
       "      <td>442.842704</td>\n",
       "      <td>573.449584</td>\n",
       "      <td>NaN</td>\n",
       "      <td>3.010870e-02</td>\n",
       "      <td>0.173054</td>\n",
       "      <td>0.700976</td>\n",
       "    </tr>\n",
       "    <tr>\n",
       "      <th>min</th>\n",
       "      <td>5.971000e+03</td>\n",
       "      <td>1.000000</td>\n",
       "      <td>1.500000e-01</td>\n",
       "      <td>0.000000e+00</td>\n",
       "      <td>0.000000</td>\n",
       "      <td>0.000000</td>\n",
       "      <td>0.000000</td>\n",
       "      <td>0.000000e+00</td>\n",
       "      <td>2.450294e-09</td>\n",
       "      <td>0.000001</td>\n",
       "      <td>0.002159</td>\n",
       "    </tr>\n",
       "    <tr>\n",
       "      <th>25%</th>\n",
       "      <td>5.373183e+08</td>\n",
       "      <td>30.000000</td>\n",
       "      <td>2.000000e+03</td>\n",
       "      <td>4.800000e+01</td>\n",
       "      <td>38.116275</td>\n",
       "      <td>2.000000</td>\n",
       "      <td>0.580000</td>\n",
       "      <td>2.375000e+01</td>\n",
       "      <td>9.345478e-03</td>\n",
       "      <td>0.071771</td>\n",
       "      <td>0.307889</td>\n",
       "    </tr>\n",
       "    <tr>\n",
       "      <th>50%</th>\n",
       "      <td>1.076008e+09</td>\n",
       "      <td>30.000000</td>\n",
       "      <td>5.000000e+03</td>\n",
       "      <td>7.590000e+02</td>\n",
       "      <td>680.000000</td>\n",
       "      <td>15.000000</td>\n",
       "      <td>16.280000</td>\n",
       "      <td>4.636111e+01</td>\n",
       "      <td>1.437090e-02</td>\n",
       "      <td>0.093679</td>\n",
       "      <td>0.307889</td>\n",
       "    </tr>\n",
       "    <tr>\n",
       "      <th>75%</th>\n",
       "      <td>1.611662e+09</td>\n",
       "      <td>36.000000</td>\n",
       "      <td>1.500000e+04</td>\n",
       "      <td>4.349000e+03</td>\n",
       "      <td>4049.000000</td>\n",
       "      <td>61.000000</td>\n",
       "      <td>107.780000</td>\n",
       "      <td>8.073333e+01</td>\n",
       "      <td>1.510185e-02</td>\n",
       "      <td>0.097422</td>\n",
       "      <td>0.927986</td>\n",
       "    </tr>\n",
       "    <tr>\n",
       "      <th>max</th>\n",
       "      <td>2.147472e+09</td>\n",
       "      <td>92.000000</td>\n",
       "      <td>1.000000e+08</td>\n",
       "      <td>6.465690e+06</td>\n",
       "      <td>271154.010000</td>\n",
       "      <td>154926.000000</td>\n",
       "      <td>54575.666667</td>\n",
       "      <td>inf</td>\n",
       "      <td>2.973261e+00</td>\n",
       "      <td>2.996524</td>\n",
       "      <td>4.497860</td>\n",
       "    </tr>\n",
       "  </tbody>\n",
       "</table>\n",
       "</div>"
      ],
      "text/plain": [
       "                 ID    length_days          goal       pledged    usd pledged  \\\n",
       "count  2.805570e+05  280557.000000  2.805570e+05  2.805570e+05  280557.000000   \n",
       "mean   1.075031e+09      33.972145  4.135771e+04  6.570999e+03    5763.580987   \n",
       "std    6.195366e+08      12.901238  1.044857e+06  3.060791e+04   17663.577599   \n",
       "min    5.971000e+03       1.000000  1.500000e-01  0.000000e+00       0.000000   \n",
       "25%    5.373183e+08      30.000000  2.000000e+03  4.800000e+01      38.116275   \n",
       "50%    1.076008e+09      30.000000  5.000000e+03  7.590000e+02     680.000000   \n",
       "75%    1.611662e+09      36.000000  1.500000e+04  4.349000e+03    4049.000000   \n",
       "max    2.147472e+09      92.000000  1.000000e+08  6.465690e+06  271154.010000   \n",
       "\n",
       "             backers     pct_funded  avg_pledge_per_backer  zscore_pct_funded  \\\n",
       "count  280557.000000  280557.000000           2.472030e+05       2.805570e+05   \n",
       "mean       86.007239      91.448293                    inf       1.348263e-02   \n",
       "std       442.842704     573.449584                    NaN       3.010870e-02   \n",
       "min         0.000000       0.000000           0.000000e+00       2.450294e-09   \n",
       "25%         2.000000       0.580000           2.375000e+01       9.345478e-03   \n",
       "50%        15.000000      16.280000           4.636111e+01       1.437090e-02   \n",
       "75%        61.000000     107.780000           8.073333e+01       1.510185e-02   \n",
       "max    154926.000000   54575.666667                    inf       2.973261e+00   \n",
       "\n",
       "       zscore_usd_pledged  zscore_length_days  \n",
       "count       280557.000000       280557.000000  \n",
       "mean             0.108076            0.713186  \n",
       "std              0.173054            0.700976  \n",
       "min              0.000001            0.002159  \n",
       "25%              0.071771            0.307889  \n",
       "50%              0.093679            0.307889  \n",
       "75%              0.097422            0.927986  \n",
       "max              2.996524            4.497860  "
      ]
     },
     "execution_count": 253,
     "metadata": {},
     "output_type": "execute_result"
    }
   ],
   "source": [
    "#removing length_days outliers\n",
    "\n",
    "df3[\"zscore_length_days\"] = np.abs(stats.zscore(df3[\"length_days\"]))\n",
    "\n",
    "df3 = df3[df3['zscore_usd_pledged']<=3]\n",
    "\n",
    "df3.describe()"
   ]
  },
  {
   "cell_type": "code",
   "execution_count": 254,
   "metadata": {},
   "outputs": [
    {
     "data": {
      "text/html": [
       "<div>\n",
       "<style scoped>\n",
       "    .dataframe tbody tr th:only-of-type {\n",
       "        vertical-align: middle;\n",
       "    }\n",
       "\n",
       "    .dataframe tbody tr th {\n",
       "        vertical-align: top;\n",
       "    }\n",
       "\n",
       "    .dataframe thead th {\n",
       "        text-align: right;\n",
       "    }\n",
       "</style>\n",
       "<table border=\"1\" class=\"dataframe\">\n",
       "  <thead>\n",
       "    <tr style=\"text-align: right;\">\n",
       "      <th></th>\n",
       "      <th>ID</th>\n",
       "      <th>length_days</th>\n",
       "      <th>goal</th>\n",
       "      <th>pledged</th>\n",
       "      <th>usd pledged</th>\n",
       "      <th>backers</th>\n",
       "      <th>pct_funded</th>\n",
       "      <th>avg_pledge_per_backer</th>\n",
       "      <th>zscore_pct_funded</th>\n",
       "      <th>zscore_usd_pledged</th>\n",
       "      <th>zscore_length_days</th>\n",
       "      <th>zscore_goal</th>\n",
       "    </tr>\n",
       "  </thead>\n",
       "  <tbody>\n",
       "    <tr>\n",
       "      <th>count</th>\n",
       "      <td>2.802770e+05</td>\n",
       "      <td>280277.000000</td>\n",
       "      <td>2.802770e+05</td>\n",
       "      <td>2.802770e+05</td>\n",
       "      <td>280277.000000</td>\n",
       "      <td>280277.000000</td>\n",
       "      <td>280277.000000</td>\n",
       "      <td>2.470180e+05</td>\n",
       "      <td>2.802770e+05</td>\n",
       "      <td>280277.000000</td>\n",
       "      <td>280277.000000</td>\n",
       "      <td>280277.000000</td>\n",
       "    </tr>\n",
       "    <tr>\n",
       "      <th>mean</th>\n",
       "      <td>1.075027e+09</td>\n",
       "      <td>33.961720</td>\n",
       "      <td>2.186273e+04</td>\n",
       "      <td>6.574382e+03</td>\n",
       "      <td>5767.032906</td>\n",
       "      <td>86.083467</td>\n",
       "      <td>91.539607</td>\n",
       "      <td>inf</td>\n",
       "      <td>1.348100e-02</td>\n",
       "      <td>0.108079</td>\n",
       "      <td>0.712645</td>\n",
       "      <td>0.039391</td>\n",
       "    </tr>\n",
       "    <tr>\n",
       "      <th>std</th>\n",
       "      <td>6.195418e+08</td>\n",
       "      <td>12.892671</td>\n",
       "      <td>9.571741e+04</td>\n",
       "      <td>3.061894e+04</td>\n",
       "      <td>17668.500012</td>\n",
       "      <td>443.053908</td>\n",
       "      <td>573.728674</td>\n",
       "      <td>NaN</td>\n",
       "      <td>3.012369e-02</td>\n",
       "      <td>0.173111</td>\n",
       "      <td>0.700579</td>\n",
       "      <td>0.084785</td>\n",
       "    </tr>\n",
       "    <tr>\n",
       "      <th>min</th>\n",
       "      <td>5.971000e+03</td>\n",
       "      <td>1.000000</td>\n",
       "      <td>1.500000e-01</td>\n",
       "      <td>0.000000e+00</td>\n",
       "      <td>0.000000</td>\n",
       "      <td>0.000000</td>\n",
       "      <td>0.000000</td>\n",
       "      <td>0.000000e+00</td>\n",
       "      <td>2.450294e-09</td>\n",
       "      <td>0.000001</td>\n",
       "      <td>0.002159</td>\n",
       "      <td>0.000103</td>\n",
       "    </tr>\n",
       "    <tr>\n",
       "      <th>25%</th>\n",
       "      <td>5.372403e+08</td>\n",
       "      <td>30.000000</td>\n",
       "      <td>2.000000e+03</td>\n",
       "      <td>4.900000e+01</td>\n",
       "      <td>39.000000</td>\n",
       "      <td>2.000000</td>\n",
       "      <td>0.594118</td>\n",
       "      <td>2.379281e+01</td>\n",
       "      <td>9.343930e-03</td>\n",
       "      <td>0.071737</td>\n",
       "      <td>0.307889</td>\n",
       "      <td>0.029533</td>\n",
       "    </tr>\n",
       "    <tr>\n",
       "      <th>50%</th>\n",
       "      <td>1.076007e+09</td>\n",
       "      <td>30.000000</td>\n",
       "      <td>5.000000e+03</td>\n",
       "      <td>7.600000e+02</td>\n",
       "      <td>681.763433</td>\n",
       "      <td>15.000000</td>\n",
       "      <td>16.373333</td>\n",
       "      <td>4.636584e+01</td>\n",
       "      <td>1.436707e-02</td>\n",
       "      <td>0.093656</td>\n",
       "      <td>0.307889</td>\n",
       "      <td>0.034797</td>\n",
       "    </tr>\n",
       "    <tr>\n",
       "      <th>75%</th>\n",
       "      <td>1.611660e+09</td>\n",
       "      <td>36.000000</td>\n",
       "      <td>1.500000e+04</td>\n",
       "      <td>4.353000e+03</td>\n",
       "      <td>4051.900000</td>\n",
       "      <td>61.000000</td>\n",
       "      <td>107.810000</td>\n",
       "      <td>8.073333e+01</td>\n",
       "      <td>1.510126e-02</td>\n",
       "      <td>0.097422</td>\n",
       "      <td>0.927986</td>\n",
       "      <td>0.038147</td>\n",
       "    </tr>\n",
       "    <tr>\n",
       "      <th>max</th>\n",
       "      <td>2.147472e+09</td>\n",
       "      <td>92.000000</td>\n",
       "      <td>3.141592e+06</td>\n",
       "      <td>6.465690e+06</td>\n",
       "      <td>271154.010000</td>\n",
       "      <td>154926.000000</td>\n",
       "      <td>54575.666667</td>\n",
       "      <td>inf</td>\n",
       "      <td>2.973261e+00</td>\n",
       "      <td>2.996524</td>\n",
       "      <td>4.497860</td>\n",
       "      <td>2.967144</td>\n",
       "    </tr>\n",
       "  </tbody>\n",
       "</table>\n",
       "</div>"
      ],
      "text/plain": [
       "                 ID    length_days          goal       pledged    usd pledged  \\\n",
       "count  2.802770e+05  280277.000000  2.802770e+05  2.802770e+05  280277.000000   \n",
       "mean   1.075027e+09      33.961720  2.186273e+04  6.574382e+03    5767.032906   \n",
       "std    6.195418e+08      12.892671  9.571741e+04  3.061894e+04   17668.500012   \n",
       "min    5.971000e+03       1.000000  1.500000e-01  0.000000e+00       0.000000   \n",
       "25%    5.372403e+08      30.000000  2.000000e+03  4.900000e+01      39.000000   \n",
       "50%    1.076007e+09      30.000000  5.000000e+03  7.600000e+02     681.763433   \n",
       "75%    1.611660e+09      36.000000  1.500000e+04  4.353000e+03    4051.900000   \n",
       "max    2.147472e+09      92.000000  3.141592e+06  6.465690e+06  271154.010000   \n",
       "\n",
       "             backers     pct_funded  avg_pledge_per_backer  zscore_pct_funded  \\\n",
       "count  280277.000000  280277.000000           2.470180e+05       2.802770e+05   \n",
       "mean       86.083467      91.539607                    inf       1.348100e-02   \n",
       "std       443.053908     573.728674                    NaN       3.012369e-02   \n",
       "min         0.000000       0.000000           0.000000e+00       2.450294e-09   \n",
       "25%         2.000000       0.594118           2.379281e+01       9.343930e-03   \n",
       "50%        15.000000      16.373333           4.636584e+01       1.436707e-02   \n",
       "75%        61.000000     107.810000           8.073333e+01       1.510126e-02   \n",
       "max    154926.000000   54575.666667                    inf       2.973261e+00   \n",
       "\n",
       "       zscore_usd_pledged  zscore_length_days    zscore_goal  \n",
       "count       280277.000000       280277.000000  280277.000000  \n",
       "mean             0.108079            0.712645       0.039391  \n",
       "std              0.173111            0.700579       0.084785  \n",
       "min              0.000001            0.002159       0.000103  \n",
       "25%              0.071737            0.307889       0.029533  \n",
       "50%              0.093656            0.307889       0.034797  \n",
       "75%              0.097422            0.927986       0.038147  \n",
       "max              2.996524            4.497860       2.967144  "
      ]
     },
     "execution_count": 254,
     "metadata": {},
     "output_type": "execute_result"
    }
   ],
   "source": [
    "#removing goal outliers\n",
    "\n",
    "df3[\"zscore_goal\"] = np.abs(stats.zscore(df3[\"goal\"]))\n",
    "\n",
    "df3 = df3[df3['zscore_goal']<=3]\n",
    "\n",
    "df3.describe()"
   ]
  },
  {
   "cell_type": "code",
   "execution_count": 255,
   "metadata": {},
   "outputs": [
    {
     "data": {
      "text/html": [
       "<div>\n",
       "<style scoped>\n",
       "    .dataframe tbody tr th:only-of-type {\n",
       "        vertical-align: middle;\n",
       "    }\n",
       "\n",
       "    .dataframe tbody tr th {\n",
       "        vertical-align: top;\n",
       "    }\n",
       "\n",
       "    .dataframe thead th {\n",
       "        text-align: right;\n",
       "    }\n",
       "</style>\n",
       "<table border=\"1\" class=\"dataframe\">\n",
       "  <thead>\n",
       "    <tr style=\"text-align: right;\">\n",
       "      <th></th>\n",
       "      <th>ID</th>\n",
       "      <th>length_days</th>\n",
       "      <th>goal</th>\n",
       "      <th>pledged</th>\n",
       "      <th>usd pledged</th>\n",
       "      <th>backers</th>\n",
       "      <th>pct_funded</th>\n",
       "      <th>avg_pledge_per_backer</th>\n",
       "      <th>zscore_pct_funded</th>\n",
       "      <th>zscore_usd_pledged</th>\n",
       "      <th>zscore_length_days</th>\n",
       "      <th>zscore_goal</th>\n",
       "      <th>zscore_backers</th>\n",
       "    </tr>\n",
       "  </thead>\n",
       "  <tbody>\n",
       "    <tr>\n",
       "      <th>count</th>\n",
       "      <td>2.780020e+05</td>\n",
       "      <td>278002.000000</td>\n",
       "      <td>2.780020e+05</td>\n",
       "      <td>2.780020e+05</td>\n",
       "      <td>278002.000000</td>\n",
       "      <td>278002.000000</td>\n",
       "      <td>278002.000000</td>\n",
       "      <td>244743.0000</td>\n",
       "      <td>2.780020e+05</td>\n",
       "      <td>278002.000000</td>\n",
       "      <td>278002.000000</td>\n",
       "      <td>278002.000000</td>\n",
       "      <td>278002.000000</td>\n",
       "    </tr>\n",
       "    <tr>\n",
       "      <th>mean</th>\n",
       "      <td>1.075023e+09</td>\n",
       "      <td>33.967123</td>\n",
       "      <td>2.164235e+04</td>\n",
       "      <td>5.371161e+03</td>\n",
       "      <td>4901.203939</td>\n",
       "      <td>63.708790</td>\n",
       "      <td>86.397848</td>\n",
       "      <td>inf</td>\n",
       "      <td>1.334135e-02</td>\n",
       "      <td>0.099309</td>\n",
       "      <td>0.714220</td>\n",
       "      <td>0.039405</td>\n",
       "      <td>0.200879</td>\n",
       "    </tr>\n",
       "    <tr>\n",
       "      <th>std</th>\n",
       "      <td>6.196187e+08</td>\n",
       "      <td>12.919110</td>\n",
       "      <td>9.573754e+04</td>\n",
       "      <td>1.700890e+04</td>\n",
       "      <td>13655.332619</td>\n",
       "      <td>143.779266</td>\n",
       "      <td>560.177733</td>\n",
       "      <td>NaN</td>\n",
       "      <td>2.951076e-02</td>\n",
       "      <td>0.127053</td>\n",
       "      <td>0.701901</td>\n",
       "      <td>0.084846</td>\n",
       "      <td>0.259828</td>\n",
       "    </tr>\n",
       "    <tr>\n",
       "      <th>min</th>\n",
       "      <td>5.971000e+03</td>\n",
       "      <td>1.000000</td>\n",
       "      <td>1.500000e-01</td>\n",
       "      <td>0.000000e+00</td>\n",
       "      <td>0.000000</td>\n",
       "      <td>0.000000</td>\n",
       "      <td>0.000000</td>\n",
       "      <td>0.0000</td>\n",
       "      <td>2.450294e-09</td>\n",
       "      <td>0.000001</td>\n",
       "      <td>0.002159</td>\n",
       "      <td>0.000103</td>\n",
       "      <td>0.000188</td>\n",
       "    </tr>\n",
       "    <tr>\n",
       "      <th>25%</th>\n",
       "      <td>5.371967e+08</td>\n",
       "      <td>30.000000</td>\n",
       "      <td>2.000000e+03</td>\n",
       "      <td>4.500000e+01</td>\n",
       "      <td>36.000000</td>\n",
       "      <td>2.000000</td>\n",
       "      <td>0.560000</td>\n",
       "      <td>23.7500</td>\n",
       "      <td>9.352447e-03</td>\n",
       "      <td>0.071440</td>\n",
       "      <td>0.307889</td>\n",
       "      <td>0.030012</td>\n",
       "      <td>0.122070</td>\n",
       "    </tr>\n",
       "    <tr>\n",
       "      <th>50%</th>\n",
       "      <td>1.076131e+09</td>\n",
       "      <td>30.000000</td>\n",
       "      <td>5.000000e+03</td>\n",
       "      <td>7.350000e+02</td>\n",
       "      <td>659.000000</td>\n",
       "      <td>14.000000</td>\n",
       "      <td>15.726491</td>\n",
       "      <td>46.4375</td>\n",
       "      <td>1.437442e-02</td>\n",
       "      <td>0.093506</td>\n",
       "      <td>0.307889</td>\n",
       "      <td>0.034797</td>\n",
       "      <td>0.178497</td>\n",
       "    </tr>\n",
       "    <tr>\n",
       "      <th>75%</th>\n",
       "      <td>1.611740e+09</td>\n",
       "      <td>36.000000</td>\n",
       "      <td>1.500000e+04</td>\n",
       "      <td>4.169000e+03</td>\n",
       "      <td>3884.722704</td>\n",
       "      <td>59.000000</td>\n",
       "      <td>107.211650</td>\n",
       "      <td>81.0000</td>\n",
       "      <td>1.510081e-02</td>\n",
       "      <td>0.097392</td>\n",
       "      <td>0.927986</td>\n",
       "      <td>0.038147</td>\n",
       "      <td>0.192039</td>\n",
       "    </tr>\n",
       "    <tr>\n",
       "      <th>max</th>\n",
       "      <td>2.147472e+09</td>\n",
       "      <td>92.000000</td>\n",
       "      <td>3.141592e+06</td>\n",
       "      <td>1.331937e+06</td>\n",
       "      <td>268654.025500</td>\n",
       "      <td>1415.000000</td>\n",
       "      <td>54575.666667</td>\n",
       "      <td>inf</td>\n",
       "      <td>2.973261e+00</td>\n",
       "      <td>2.967998</td>\n",
       "      <td>4.497860</td>\n",
       "      <td>2.967144</td>\n",
       "      <td>2.999452</td>\n",
       "    </tr>\n",
       "  </tbody>\n",
       "</table>\n",
       "</div>"
      ],
      "text/plain": [
       "                 ID    length_days          goal       pledged    usd pledged  \\\n",
       "count  2.780020e+05  278002.000000  2.780020e+05  2.780020e+05  278002.000000   \n",
       "mean   1.075023e+09      33.967123  2.164235e+04  5.371161e+03    4901.203939   \n",
       "std    6.196187e+08      12.919110  9.573754e+04  1.700890e+04   13655.332619   \n",
       "min    5.971000e+03       1.000000  1.500000e-01  0.000000e+00       0.000000   \n",
       "25%    5.371967e+08      30.000000  2.000000e+03  4.500000e+01      36.000000   \n",
       "50%    1.076131e+09      30.000000  5.000000e+03  7.350000e+02     659.000000   \n",
       "75%    1.611740e+09      36.000000  1.500000e+04  4.169000e+03    3884.722704   \n",
       "max    2.147472e+09      92.000000  3.141592e+06  1.331937e+06  268654.025500   \n",
       "\n",
       "             backers     pct_funded  avg_pledge_per_backer  zscore_pct_funded  \\\n",
       "count  278002.000000  278002.000000            244743.0000       2.780020e+05   \n",
       "mean       63.708790      86.397848                    inf       1.334135e-02   \n",
       "std       143.779266     560.177733                    NaN       2.951076e-02   \n",
       "min         0.000000       0.000000                 0.0000       2.450294e-09   \n",
       "25%         2.000000       0.560000                23.7500       9.352447e-03   \n",
       "50%        14.000000      15.726491                46.4375       1.437442e-02   \n",
       "75%        59.000000     107.211650                81.0000       1.510081e-02   \n",
       "max      1415.000000   54575.666667                    inf       2.973261e+00   \n",
       "\n",
       "       zscore_usd_pledged  zscore_length_days    zscore_goal  zscore_backers  \n",
       "count       278002.000000       278002.000000  278002.000000   278002.000000  \n",
       "mean             0.099309            0.714220       0.039405        0.200879  \n",
       "std              0.127053            0.701901       0.084846        0.259828  \n",
       "min              0.000001            0.002159       0.000103        0.000188  \n",
       "25%              0.071440            0.307889       0.030012        0.122070  \n",
       "50%              0.093506            0.307889       0.034797        0.178497  \n",
       "75%              0.097392            0.927986       0.038147        0.192039  \n",
       "max              2.967998            4.497860       2.967144        2.999452  "
      ]
     },
     "execution_count": 255,
     "metadata": {},
     "output_type": "execute_result"
    }
   ],
   "source": [
    "#removing backers outliers\n",
    "\n",
    "df3[\"zscore_backers\"] = np.abs(stats.zscore(df3[\"backers\"]))\n",
    "\n",
    "df3 = df3[df3['zscore_backers']<=3]\n",
    "\n",
    "df3.describe()"
   ]
  },
  {
   "cell_type": "code",
   "execution_count": 256,
   "metadata": {},
   "outputs": [
    {
     "data": {
      "text/plain": [
       "0    30\n",
       "Name: length_days, dtype: int64"
      ]
     },
     "execution_count": 256,
     "metadata": {},
     "output_type": "execute_result"
    }
   ],
   "source": [
    "#finding mode of campaign lengths\n",
    "df3[\"length_days\"].mode()"
   ]
  },
  {
   "cell_type": "code",
   "execution_count": 257,
   "metadata": {},
   "outputs": [
    {
     "name": "stdout",
     "output_type": "stream",
     "text": [
      "Ranges\n",
      "------------------------------------\n",
      "Project length:\t\t91 days\n",
      "Goal Amount:\t\t$3141591\n",
      "USD Pledged Amount:\t$268654\n",
      "Number of Backers:\t1415\n",
      "Percent Funded:\t\t5457500%\n"
     ]
    }
   ],
   "source": [
    "## calculate the range for all numeric variables\n",
    "days_range = df3[\"length_days\"].max() - df3[\"length_days\"].min()\n",
    "goal_range = df3[\"goal\"].max() - df3[\"goal\"].min()\n",
    "pledged_range = df3[\"usd pledged\"].max() - df3[\"usd pledged\"].min()\n",
    "backers_range = df3[\"backers\"].max() - df3[\"backers\"].min()\n",
    "pct_funded_range = df3[\"pct_funded\"].max() - df3[\"pct_funded\"].min()\n",
    "\n",
    "print(\"Ranges\")\n",
    "print(\"--\"*18)\n",
    "print(f\"Project length:\\t\\t{days_range} days\")\n",
    "print(f\"Goal Amount:\\t\\t${int(goal_range)}\")\n",
    "print(f\"USD Pledged Amount:\\t${int(pledged_range)}\")\n",
    "print(f\"Number of Backers:\\t{int(backers_range)}\")\n",
    "print(f\"Percent Funded:\\t\\t{int(pct_funded_range)*100}%\")"
   ]
  },
  {
   "cell_type": "code",
   "execution_count": 258,
   "metadata": {
    "scrolled": false
   },
   "outputs": [
    {
     "data": {
      "text/plain": [
       "Film & Video    50747\n",
       "Music           40763\n",
       "Publishing      30150\n",
       "Art             21751\n",
       "Games           21293\n",
       "Technology      20730\n",
       "Design          19244\n",
       "Food            18827\n",
       "Fashion         15728\n",
       "Theater          9323\n",
       "Photography      8656\n",
       "Comics           7774\n",
       "Crafts           6303\n",
       "Journalism       3519\n",
       "Dance            3194\n",
       "Name: main_category, dtype: int64"
      ]
     },
     "execution_count": 258,
     "metadata": {},
     "output_type": "execute_result"
    }
   ],
   "source": [
    "## frequency of categorical variable groups\n",
    "df3[\"main_category\"].value_counts()\n"
   ]
  },
  {
   "cell_type": "code",
   "execution_count": 259,
   "metadata": {
    "scrolled": false
   },
   "outputs": [
    {
     "data": {
      "text/plain": [
       "Product Design        13867\n",
       "Documentary           13271\n",
       "Shorts                10778\n",
       "Music                 10703\n",
       "Food                   9504\n",
       "Tabletop Games         8234\n",
       "Film & Video           7766\n",
       "Video Games            7400\n",
       "Fiction                7269\n",
       "Fashion                6945\n",
       "Nonfiction             6567\n",
       "Theater                6470\n",
       "Art                    6222\n",
       "Rock                   5839\n",
       "Children's Books       5135\n",
       "Indie Rock             5035\n",
       "Photography            5035\n",
       "Webseries              4745\n",
       "Apparel                4629\n",
       "Technology             4572\n",
       "Narrative Film         4369\n",
       "Comics                 4176\n",
       "Publishing             4109\n",
       "Apps                   3970\n",
       "Country & Folk         3816\n",
       "Web                    3461\n",
       "Crafts                 3406\n",
       "Hip-Hop                3056\n",
       "Design                 2826\n",
       "Pop                    2760\n",
       "Painting               2640\n",
       "Public Art             2616\n",
       "Hardware               2501\n",
       "Classical Music        2213\n",
       "Mixed Media            2183\n",
       "Games                  2130\n",
       "Software               2127\n",
       "Dance                  2126\n",
       "Illustration           2096\n",
       "Art Books              2029\n",
       "Restaurants            2020\n",
       "Animation              1918\n",
       "Performance Art        1845\n",
       "Accessories            1725\n",
       "World Music            1709\n",
       "Electronic Music       1650\n",
       "Comic Books            1648\n",
       "Drinks                 1607\n",
       "Jazz                   1578\n",
       "Gadgets                1571\n",
       "Comedy                 1516\n",
       "Sculpture              1486\n",
       "Drama                  1480\n",
       "Graphic Design         1456\n",
       "Journalism             1420\n",
       "Playing Cards          1356\n",
       "Food Trucks            1315\n",
       "Small Batch            1293\n",
       "Graphic Novels         1177\n",
       "Mobile Games           1114\n",
       "Poetry                 1108\n",
       "Photobooks             1075\n",
       "Plays                  1065\n",
       "Periodicals            1031\n",
       "Digital Art             976\n",
       "Farms                   866\n",
       "Horror                  864\n",
       "Woodworking             841\n",
       "Conceptual Art          823\n",
       "People                  811\n",
       "Faith                   807\n",
       "DIY                     790\n",
       "Performances            764\n",
       "Jewelry                 732\n",
       "Radio & Podcasts        731\n",
       "Television              702\n",
       "Live Games              695\n",
       "Musical                 681\n",
       "Experimental            670\n",
       "Festivals               642\n",
       "Wearables               629\n",
       "Events                  593\n",
       "Academic                587\n",
       "Ready-to-wear           578\n",
       "Spaces                  571\n",
       "DIY Electronics         570\n",
       "Young Adult             567\n",
       "Fine Art                561\n",
       "Places                  551\n",
       "Metal                   550\n",
       "Footwear                525\n",
       "Architecture            525\n",
       "Music Videos            515\n",
       "Print                   513\n",
       "Science Fiction         507\n",
       "Anthologies             497\n",
       "Thrillers               492\n",
       "Action                  488\n",
       "Nature                  424\n",
       "3D Printing             424\n",
       "Webcomics               406\n",
       "Cookbooks               369\n",
       "Vegan                   369\n",
       "Sound                   367\n",
       "Robots                  360\n",
       "Installations           348\n",
       "Farmer's Markets        319\n",
       "Childrenswear           313\n",
       "R&B                     312\n",
       "Candles                 307\n",
       "Video                   301\n",
       "Flight                  288\n",
       "Interactive Design      280\n",
       "Audio                   276\n",
       "Zines                   258\n",
       "Immersive               238\n",
       "Family                  237\n",
       "Community Gardens       234\n",
       "Camera Equipment        222\n",
       "Civic Design            221\n",
       "Fantasy                 217\n",
       "Punk                    216\n",
       "Space Exploration       215\n",
       "Kids                    214\n",
       "Calendars               209\n",
       "Gaming Hardware         207\n",
       "Ceramics                201\n",
       "Animals                 199\n",
       "Literary Journals       194\n",
       "Couture                 190\n",
       "Blues                   189\n",
       "Textiles                175\n",
       "Bacon                   163\n",
       "Makerspaces             161\n",
       "Fabrication Tools       159\n",
       "Puzzles                 157\n",
       "Movie Theaters          156\n",
       "Printing                147\n",
       "Stationery              144\n",
       "Photo                   142\n",
       "Video Art               140\n",
       "Knitting                135\n",
       "Romance                 131\n",
       "Crochet                 123\n",
       "Workshops               119\n",
       "Translations            115\n",
       "Glass                   109\n",
       "Pet Fashion              91\n",
       "Latin                    88\n",
       "Embroidery               70\n",
       "Typography               69\n",
       "Pottery                  65\n",
       "Quilts                   64\n",
       "Weaving                  59\n",
       "Residencies              52\n",
       "Letterpress              34\n",
       "Chiptune                 28\n",
       "Taxidermy                 9\n",
       "Name: category, dtype: int64"
      ]
     },
     "execution_count": 259,
     "metadata": {},
     "output_type": "execute_result"
    }
   ],
   "source": [
    "df3[\"category\"].value_counts()"
   ]
  },
  {
   "cell_type": "code",
   "execution_count": 260,
   "metadata": {},
   "outputs": [
    {
     "data": {
      "text/plain": [
       "US    226736\n",
       "GB     23655\n",
       "CA      9790\n",
       "AU      5141\n",
       "DE      2095\n",
       "NL      1859\n",
       "FR      1533\n",
       "IT      1384\n",
       "ES      1078\n",
       "SE      1043\n",
       "NZ       989\n",
       "DK       663\n",
       "IE       472\n",
       "NO       426\n",
       "CH       380\n",
       "BE       327\n",
       "AT       279\n",
       "SG        69\n",
       "HK        46\n",
       "LU        33\n",
       "MX         4\n",
       "Name: country, dtype: int64"
      ]
     },
     "execution_count": 260,
     "metadata": {},
     "output_type": "execute_result"
    }
   ],
   "source": [
    "df3[\"country\"].value_counts()"
   ]
  },
  {
   "cell_type": "code",
   "execution_count": 261,
   "metadata": {},
   "outputs": [
    {
     "data": {
      "text/plain": [
       "USD    226736\n",
       "GBP     23655\n",
       "CAD      9790\n",
       "EUR      9060\n",
       "AUD      5141\n",
       "SEK      1043\n",
       "NZD       989\n",
       "DKK       663\n",
       "NOK       426\n",
       "CHF       380\n",
       "SGD        69\n",
       "HKD        46\n",
       "MXN         4\n",
       "Name: currency, dtype: int64"
      ]
     },
     "execution_count": 261,
     "metadata": {},
     "output_type": "execute_result"
    }
   ],
   "source": [
    "df3[\"currency\"].value_counts()"
   ]
  },
  {
   "cell_type": "code",
   "execution_count": 262,
   "metadata": {},
   "outputs": [
    {
     "data": {
      "text/plain": [
       "failed        168170\n",
       "successful    109832\n",
       "Name: state, dtype: int64"
      ]
     },
     "execution_count": 262,
     "metadata": {},
     "output_type": "execute_result"
    }
   ],
   "source": [
    "df3[\"state\"].value_counts()"
   ]
  },
  {
   "cell_type": "code",
   "execution_count": 263,
   "metadata": {},
   "outputs": [
    {
     "data": {
      "text/plain": [
       "<AxesSubplot:title={'center':'Number of Projects by Main Category'}, xlabel='main_category', ylabel='Count'>"
      ]
     },
     "execution_count": 263,
     "metadata": {},
     "output_type": "execute_result"
    },
    {
     "data": {
      "image/png": "[encoded data removed]",
      "text/plain": [
       "<Figure size 1080x360 with 1 Axes>"
      ]
     },
     "metadata": {
      "needs_background": "light"
     },
     "output_type": "display_data"
    }
   ],
   "source": [
    "# visualization: number of projects by main category\n",
    "\n",
    "plt.figure(figsize = (15,5))\n",
    "plt.xticks(rotation = 90)\n",
    "plt.title(\"Number of Projects by Main Category\")\n",
    "sns.histplot(x = df3[\"main_category\"], kde = False)\n"
   ]
  },
  {
   "cell_type": "code",
   "execution_count": 264,
   "metadata": {},
   "outputs": [
    {
     "data": {
      "text/plain": [
       "<AxesSubplot:title={'center':'Number of Projects by Failure/Success'}, xlabel='state', ylabel='Count'>"
      ]
     },
     "execution_count": 264,
     "metadata": {},
     "output_type": "execute_result"
    },
    {
     "data": {
      "image/png": "[encoded data removed]",
      "text/plain": [
       "<Figure size 432x288 with 1 Axes>"
      ]
     },
     "metadata": {
      "needs_background": "light"
     },
     "output_type": "display_data"
    }
   ],
   "source": [
    "# visualization: number of projects by state\n",
    "plt.title(\"Number of Projects by Failure/Success\")\n",
    "plt.xticks(rotation = 90)\n",
    "sns.histplot(x = df3[\"state\"], kde = False)"
   ]
  },
  {
   "cell_type": "code",
   "execution_count": 265,
   "metadata": {},
   "outputs": [
    {
     "data": {
      "text/plain": [
       "<AxesSubplot:title={'center':'Number of Projects by Country'}, xlabel='country', ylabel='Count'>"
      ]
     },
     "execution_count": 265,
     "metadata": {},
     "output_type": "execute_result"
    },
    {
     "data": {
      "image/png": "[encoded data removed]",
      "text/plain": [
       "<Figure size 1080x360 with 1 Axes>"
      ]
     },
     "metadata": {
      "needs_background": "light"
     },
     "output_type": "display_data"
    }
   ],
   "source": [
    "# visualization: number of projects by country\n",
    "\n",
    "plt.figure(figsize = (15,5))\n",
    "plt.xticks(rotation = 90)\n",
    "plt.title(\"Number of Projects by Country\")\n",
    "sns.histplot(x = df3[\"country\"], kde = False)"
   ]
  },
  {
   "cell_type": "code",
   "execution_count": 266,
   "metadata": {},
   "outputs": [
    {
     "data": {
      "text/plain": [
       "<AxesSubplot:title={'center':'Number of Failed/Successful Projects by Main Category'}, xlabel='main_category', ylabel='count'>"
      ]
     },
     "execution_count": 266,
     "metadata": {},
     "output_type": "execute_result"
    },
    {
     "data": {
      "image/png": "[encoded data removed]",
      "text/plain": [
       "<Figure size 1080x360 with 1 Axes>"
      ]
     },
     "metadata": {
      "needs_background": "light"
     },
     "output_type": "display_data"
    }
   ],
   "source": [
    "# visualization: number of failed/successful projects by main category\n",
    "\n",
    "plt.figure(figsize = (15,5))\n",
    "plt.xticks(rotation = 90)\n",
    "plt.title(\"Number of Failed/Successful Projects by Main Category\")\n",
    "sns.countplot(x = df3[\"main_category\"], hue = df3[\"state\"])"
   ]
  },
  {
   "cell_type": "code",
   "execution_count": null,
   "metadata": {},
   "outputs": [],
   "source": []
  },
  {
   "cell_type": "markdown",
   "metadata": {},
   "source": [
    "## <font color=#6AA121>Part 4: Variable Relationships</font>\n",
    "\n",
    "It's time to explore the relationships between variables and answer some of the critical questions for the project. Your dependent/outcome variable is <b>STATE</b> - this is the variable that captures if the project was successful or not. In addition to exploring the relationships between your other independent variables, you want to pay close attention to the relationship between your independent variables and state. Follow the steps below to explore the relationships between your variables. In addition, you are tasked with creating visualizations related to your results. Stylistic choices related to the visualizations is up to your group. Use the space below (double-click the cell to activate) to write a brief paragraph describing the steps you took to determine variable relationships. \n",
    "\n",
    "### <font color=#6AA121>Questions to Answer</font>\n",
    "1.\tHow correlated are the numeric variables within this dataset? Create a correlation matrix to find out. Is anything highly correlated?\n",
    "2.\tWhat is the average amount of money pledged across each of the main categories? What about across the following: sub-category, country, currency, and state? Which main category is the most profitable? \n",
    "3.\tWhat is the average number of backers across each of the main categories? What about across the following: sub-category, country, currency, and state? Which main category is the most popular?\n",
    "4.\tWhat percentage of projects succeed and fail across each of the main categories?\n",
    "5.\tWhich of the main categories have the highest success rate (top 3)? Which of the sub-categories have the highest success rate (top 3)?\n",
    "6.\tWhat is the average duration of a campaign for projects that succeed? What is the average duration for projects that fail?\n",
    "7.  What is the average funding goal of a campaign for projects that succeed? What is the average funding goal for projects that fail?\n",
    "\n",
    "\n",
    "### <font color=#6AA121>Visualizations to Create</font> \n",
    "* Average Pledge by Main Category\n",
    "* Average Num Backers by Main Category\n",
    "* Average Pledge by State\n",
    "* Average Num Backers by State\n",
    "* Average Funding Goal by Main Category\n",
    "* Average Funding Goal by State\n",
    "* Average Percentage of Funding Collected by Main Category\n",
    "\n",
    "***\n",
    "\n",
    "### <font color=#6AA121>RELATIONSHIPS BETWEEN VARIABLES</font>\n",
    "\n",
    "#### Start your paragraph here . . . Be sure to answer all questions in this space!"
   ]
  },
  {
   "cell_type": "code",
   "execution_count": 268,
   "metadata": {},
   "outputs": [],
   "source": [
    "df3.drop(columns = \"ID\", inplace = True)"
   ]
  },
  {
   "cell_type": "code",
   "execution_count": 270,
   "metadata": {},
   "outputs": [
    {
     "data": {
      "text/html": [
       "<div>\n",
       "<style scoped>\n",
       "    .dataframe tbody tr th:only-of-type {\n",
       "        vertical-align: middle;\n",
       "    }\n",
       "\n",
       "    .dataframe tbody tr th {\n",
       "        vertical-align: top;\n",
       "    }\n",
       "\n",
       "    .dataframe thead th {\n",
       "        text-align: right;\n",
       "    }\n",
       "</style>\n",
       "<table border=\"1\" class=\"dataframe\">\n",
       "  <thead>\n",
       "    <tr style=\"text-align: right;\">\n",
       "      <th></th>\n",
       "      <th>length_days</th>\n",
       "      <th>goal</th>\n",
       "      <th>pledged</th>\n",
       "      <th>usd pledged</th>\n",
       "      <th>backers</th>\n",
       "      <th>pct_funded</th>\n",
       "      <th>avg_pledge_per_backer</th>\n",
       "    </tr>\n",
       "  </thead>\n",
       "  <tbody>\n",
       "    <tr>\n",
       "      <th>length_days</th>\n",
       "      <td>1.000000</td>\n",
       "      <td>0.068308</td>\n",
       "      <td>0.006053</td>\n",
       "      <td>0.009738</td>\n",
       "      <td>-0.021812</td>\n",
       "      <td>-0.032874</td>\n",
       "      <td>0.026839</td>\n",
       "    </tr>\n",
       "    <tr>\n",
       "      <th>goal</th>\n",
       "      <td>0.068308</td>\n",
       "      <td>1.000000</td>\n",
       "      <td>0.071517</td>\n",
       "      <td>0.053599</td>\n",
       "      <td>0.008955</td>\n",
       "      <td>-0.025727</td>\n",
       "      <td>0.088921</td>\n",
       "    </tr>\n",
       "    <tr>\n",
       "      <th>pledged</th>\n",
       "      <td>0.006053</td>\n",
       "      <td>0.071517</td>\n",
       "      <td>1.000000</td>\n",
       "      <td>0.826178</td>\n",
       "      <td>0.648236</td>\n",
       "      <td>0.077073</td>\n",
       "      <td>0.205722</td>\n",
       "    </tr>\n",
       "    <tr>\n",
       "      <th>usd pledged</th>\n",
       "      <td>0.009738</td>\n",
       "      <td>0.053599</td>\n",
       "      <td>0.826178</td>\n",
       "      <td>1.000000</td>\n",
       "      <td>0.722687</td>\n",
       "      <td>0.102447</td>\n",
       "      <td>0.262241</td>\n",
       "    </tr>\n",
       "    <tr>\n",
       "      <th>backers</th>\n",
       "      <td>-0.021812</td>\n",
       "      <td>0.008955</td>\n",
       "      <td>0.648236</td>\n",
       "      <td>0.722687</td>\n",
       "      <td>1.000000</td>\n",
       "      <td>0.138825</td>\n",
       "      <td>0.026624</td>\n",
       "    </tr>\n",
       "    <tr>\n",
       "      <th>pct_funded</th>\n",
       "      <td>-0.032874</td>\n",
       "      <td>-0.025727</td>\n",
       "      <td>0.077073</td>\n",
       "      <td>0.102447</td>\n",
       "      <td>0.138825</td>\n",
       "      <td>1.000000</td>\n",
       "      <td>0.011933</td>\n",
       "    </tr>\n",
       "    <tr>\n",
       "      <th>avg_pledge_per_backer</th>\n",
       "      <td>0.026839</td>\n",
       "      <td>0.088921</td>\n",
       "      <td>0.205722</td>\n",
       "      <td>0.262241</td>\n",
       "      <td>0.026624</td>\n",
       "      <td>0.011933</td>\n",
       "      <td>1.000000</td>\n",
       "    </tr>\n",
       "  </tbody>\n",
       "</table>\n",
       "</div>"
      ],
      "text/plain": [
       "                       length_days      goal   pledged  usd pledged   backers  \\\n",
       "length_days               1.000000  0.068308  0.006053     0.009738 -0.021812   \n",
       "goal                      0.068308  1.000000  0.071517     0.053599  0.008955   \n",
       "pledged                   0.006053  0.071517  1.000000     0.826178  0.648236   \n",
       "usd pledged               0.009738  0.053599  0.826178     1.000000  0.722687   \n",
       "backers                  -0.021812  0.008955  0.648236     0.722687  1.000000   \n",
       "pct_funded               -0.032874 -0.025727  0.077073     0.102447  0.138825   \n",
       "avg_pledge_per_backer     0.026839  0.088921  0.205722     0.262241  0.026624   \n",
       "\n",
       "                       pct_funded  avg_pledge_per_backer  \n",
       "length_days             -0.032874               0.026839  \n",
       "goal                    -0.025727               0.088921  \n",
       "pledged                  0.077073               0.205722  \n",
       "usd pledged              0.102447               0.262241  \n",
       "backers                  0.138825               0.026624  \n",
       "pct_funded               1.000000               0.011933  \n",
       "avg_pledge_per_backer    0.011933               1.000000  "
      ]
     },
     "execution_count": 270,
     "metadata": {},
     "output_type": "execute_result"
    }
   ],
   "source": [
    "df3.drop(columns = [\"zscore_pct_funded\", \"zscore_usd_pledged\", \"zscore_length_days\", \"zscore_goal\", \"zscore_backers\"], inplace = True)\n",
    "df3.corr()\n",
    "\n"
   ]
  },
  {
   "cell_type": "code",
   "execution_count": 271,
   "metadata": {},
   "outputs": [
    {
     "data": {
      "text/html": [
       "<div>\n",
       "<style scoped>\n",
       "    .dataframe tbody tr th:only-of-type {\n",
       "        vertical-align: middle;\n",
       "    }\n",
       "\n",
       "    .dataframe tbody tr th {\n",
       "        vertical-align: top;\n",
       "    }\n",
       "\n",
       "    .dataframe thead th {\n",
       "        text-align: right;\n",
       "    }\n",
       "</style>\n",
       "<table border=\"1\" class=\"dataframe\">\n",
       "  <thead>\n",
       "    <tr style=\"text-align: right;\">\n",
       "      <th></th>\n",
       "      <th>length_days</th>\n",
       "      <th>goal</th>\n",
       "      <th>usd pledged</th>\n",
       "      <th>backers</th>\n",
       "      <th>pct_funded</th>\n",
       "      <th>avg_pledge_per_backer</th>\n",
       "    </tr>\n",
       "  </thead>\n",
       "  <tbody>\n",
       "    <tr>\n",
       "      <th>length_days</th>\n",
       "      <td>1.000000</td>\n",
       "      <td>0.068308</td>\n",
       "      <td>0.009738</td>\n",
       "      <td>-0.021812</td>\n",
       "      <td>-0.032874</td>\n",
       "      <td>0.026839</td>\n",
       "    </tr>\n",
       "    <tr>\n",
       "      <th>goal</th>\n",
       "      <td>0.068308</td>\n",
       "      <td>1.000000</td>\n",
       "      <td>0.053599</td>\n",
       "      <td>0.008955</td>\n",
       "      <td>-0.025727</td>\n",
       "      <td>0.088921</td>\n",
       "    </tr>\n",
       "    <tr>\n",
       "      <th>usd pledged</th>\n",
       "      <td>0.009738</td>\n",
       "      <td>0.053599</td>\n",
       "      <td>1.000000</td>\n",
       "      <td>0.722687</td>\n",
       "      <td>0.102447</td>\n",
       "      <td>0.262241</td>\n",
       "    </tr>\n",
       "    <tr>\n",
       "      <th>backers</th>\n",
       "      <td>-0.021812</td>\n",
       "      <td>0.008955</td>\n",
       "      <td>0.722687</td>\n",
       "      <td>1.000000</td>\n",
       "      <td>0.138825</td>\n",
       "      <td>0.026624</td>\n",
       "    </tr>\n",
       "    <tr>\n",
       "      <th>pct_funded</th>\n",
       "      <td>-0.032874</td>\n",
       "      <td>-0.025727</td>\n",
       "      <td>0.102447</td>\n",
       "      <td>0.138825</td>\n",
       "      <td>1.000000</td>\n",
       "      <td>0.011933</td>\n",
       "    </tr>\n",
       "    <tr>\n",
       "      <th>avg_pledge_per_backer</th>\n",
       "      <td>0.026839</td>\n",
       "      <td>0.088921</td>\n",
       "      <td>0.262241</td>\n",
       "      <td>0.026624</td>\n",
       "      <td>0.011933</td>\n",
       "      <td>1.000000</td>\n",
       "    </tr>\n",
       "  </tbody>\n",
       "</table>\n",
       "</div>"
      ],
      "text/plain": [
       "                       length_days      goal  usd pledged   backers  \\\n",
       "length_days               1.000000  0.068308     0.009738 -0.021812   \n",
       "goal                      0.068308  1.000000     0.053599  0.008955   \n",
       "usd pledged               0.009738  0.053599     1.000000  0.722687   \n",
       "backers                  -0.021812  0.008955     0.722687  1.000000   \n",
       "pct_funded               -0.032874 -0.025727     0.102447  0.138825   \n",
       "avg_pledge_per_backer     0.026839  0.088921     0.262241  0.026624   \n",
       "\n",
       "                       pct_funded  avg_pledge_per_backer  \n",
       "length_days             -0.032874               0.026839  \n",
       "goal                    -0.025727               0.088921  \n",
       "usd pledged              0.102447               0.262241  \n",
       "backers                  0.138825               0.026624  \n",
       "pct_funded               1.000000               0.011933  \n",
       "avg_pledge_per_backer    0.011933               1.000000  "
      ]
     },
     "execution_count": 271,
     "metadata": {},
     "output_type": "execute_result"
    }
   ],
   "source": [
    "df3.drop(columns = \"pledged\", inplace = True)\n",
    "df3.corr()\n",
    "\n",
    "# strongest correlation between amount pledged and number of backers"
   ]
  },
  {
   "cell_type": "code",
   "execution_count": null,
   "metadata": {},
   "outputs": [],
   "source": []
  },
  {
   "cell_type": "code",
   "execution_count": 272,
   "metadata": {},
   "outputs": [
    {
     "data": {
      "text/plain": [
       "main_category\n",
       "Art             2726.201671\n",
       "Comics          4825.803116\n",
       "Crafts          1428.082108\n",
       "Dance           3379.413620\n",
       "Design          9753.890640\n",
       "Fashion         4180.100817\n",
       "Film & Video    5270.250829\n",
       "Food            4301.859832\n",
       "Games           7439.987923\n",
       "Journalism      2469.035142\n",
       "Music           3665.087983\n",
       "Photography     2929.896242\n",
       "Publishing      2761.474299\n",
       "Technology      8814.927090\n",
       "Theater         3881.343176\n",
       "Name: usd pledged, dtype: float64"
      ]
     },
     "execution_count": 272,
     "metadata": {},
     "output_type": "execute_result"
    }
   ],
   "source": [
    "## average pledge across categoricial variables (groupby)\n",
    "df3[\"usd pledged\"].groupby(df3[\"main_category\"]).mean()"
   ]
  },
  {
   "cell_type": "code",
   "execution_count": 273,
   "metadata": {},
   "outputs": [
    {
     "data": {
      "text/plain": [
       "<AxesSubplot:title={'center':'Average USD Pledged per Main Category'}, xlabel='main_category', ylabel='usd pledged'>"
      ]
     },
     "execution_count": 273,
     "metadata": {},
     "output_type": "execute_result"
    },
    {
     "data": {
      "image/png": "[encoded data removed]",
      "text/plain": [
       "<Figure size 432x288 with 1 Axes>"
      ]
     },
     "metadata": {
      "needs_background": "light"
     },
     "output_type": "display_data"
    }
   ],
   "source": [
    "# visualizing Average USD Pledged per Main Category\n",
    "plt.title(\"Average USD Pledged per Main Category\")\n",
    "plt.xticks(rotation = 90)\n",
    "sns.barplot(x = df3[\"main_category\"], y = df3[\"usd pledged\"], ci = None)\n"
   ]
  },
  {
   "cell_type": "code",
   "execution_count": 274,
   "metadata": {
    "scrolled": false
   },
   "outputs": [
    {
     "data": {
      "text/plain": [
       "category\n",
       "3D Printing           21713.548986\n",
       "Academic               1856.178751\n",
       "Accessories            5537.666924\n",
       "Action                 2895.818539\n",
       "Animals                2382.214298\n",
       "Animation              4919.938096\n",
       "Anthologies            6346.914786\n",
       "Apparel                3714.353763\n",
       "Apps                   1412.339561\n",
       "Architecture           4473.243686\n",
       "Art                    2930.421962\n",
       "Art Books              7013.514564\n",
       "Audio                  3261.548250\n",
       "Bacon                  1598.635068\n",
       "Blues                  3901.857626\n",
       "Calendars              3274.572065\n",
       "Camera Equipment      25525.435672\n",
       "Candles                 605.679972\n",
       "Ceramics               4889.230446\n",
       "Children's Books       2796.575238\n",
       "Childrenswear          2840.888966\n",
       "Chiptune               5501.673158\n",
       "Civic Design           7286.745961\n",
       "Classical Music        4375.222830\n",
       "Comedy                 4440.023970\n",
       "Comic Books            2878.686856\n",
       "Comics                 4675.720617\n",
       "Community Gardens      1781.858501\n",
       "Conceptual Art         1583.968934\n",
       "Cookbooks              4349.320181\n",
       "Country & Folk         4679.076968\n",
       "Couture                1542.894533\n",
       "Crafts                 1489.387000\n",
       "Crochet                 344.568518\n",
       "DIY                     903.507061\n",
       "DIY Electronics       11815.369312\n",
       "Dance                  3551.402275\n",
       "Design                 7105.180910\n",
       "Digital Art            2001.099938\n",
       "Documentary            7944.764903\n",
       "Drama                  4050.390177\n",
       "Drinks                 5375.347200\n",
       "Electronic Music       2102.058089\n",
       "Embroidery              618.892421\n",
       "Events                 1712.680379\n",
       "Experimental           1888.091441\n",
       "Fabrication Tools     11600.926547\n",
       "Faith                  3561.916171\n",
       "Family                 3848.112726\n",
       "Fantasy                6049.801362\n",
       "Farmer's Markets       1903.061146\n",
       "Farms                  3761.873246\n",
       "Fashion                4135.179414\n",
       "Festivals              2992.783911\n",
       "Fiction                1461.494193\n",
       "Film & Video           4190.630103\n",
       "Fine Art               2466.336600\n",
       "Flight                11233.257603\n",
       "Food                   4822.606767\n",
       "Food Trucks            2049.160125\n",
       "Footwear              10107.594811\n",
       "Gadgets               13529.983301\n",
       "Games                  4187.370997\n",
       "Gaming Hardware        5834.570040\n",
       "Glass                  1513.935062\n",
       "Graphic Design         3353.290349\n",
       "Graphic Novels         6671.542699\n",
       "Hardware              20092.448106\n",
       "Hip-Hop                 955.606979\n",
       "Horror                 5186.337793\n",
       "Illustration           2748.707307\n",
       "Immersive              4962.471445\n",
       "Indie Rock             3767.155406\n",
       "Installations          4448.962338\n",
       "Interactive Design     3860.764966\n",
       "Jazz                   4501.923171\n",
       "Jewelry                2776.702660\n",
       "Journalism             2900.395449\n",
       "Kids                   4453.162691\n",
       "Knitting               3991.926166\n",
       "Latin                  3832.438036\n",
       "Letterpress            5834.528939\n",
       "Literary Journals      2519.366347\n",
       "Live Games             1679.542978\n",
       "Makerspaces            7168.432390\n",
       "Metal                  2071.686378\n",
       "Mixed Media            2063.569376\n",
       "Mobile Games           1019.014223\n",
       "Movie Theaters         7652.482941\n",
       "Music                  4387.319388\n",
       "Music Videos           1826.072790\n",
       "Musical                4031.268813\n",
       "Narrative Film         7883.141174\n",
       "Nature                 1444.999734\n",
       "Nonfiction             2709.238182\n",
       "Painting               1783.425011\n",
       "People                 1901.356253\n",
       "Performance Art        2340.126200\n",
       "Performances           3067.980283\n",
       "Periodicals            4846.984772\n",
       "Pet Fashion            3085.858602\n",
       "Photo                  1814.252706\n",
       "Photobooks             6203.660363\n",
       "Photography            2825.712677\n",
       "Places                  821.104104\n",
       "Playing Cards          5877.269636\n",
       "Plays                  2894.471364\n",
       "Poetry                 1123.778719\n",
       "Pop                    3877.314680\n",
       "Pottery                3583.771604\n",
       "Print                  2085.375109\n",
       "Printing                700.242413\n",
       "Product Design        11334.196310\n",
       "Public Art             4033.121041\n",
       "Publishing             2918.049559\n",
       "Punk                   1836.191462\n",
       "Puzzles                4721.522503\n",
       "Quilts                 1647.641411\n",
       "R&B                    2043.620037\n",
       "Radio & Podcasts       4216.594540\n",
       "Ready-to-wear          2556.039169\n",
       "Residencies            2963.146585\n",
       "Restaurants            4248.939291\n",
       "Robots                14966.643385\n",
       "Rock                   3162.322574\n",
       "Romance                3861.684408\n",
       "Science Fiction        6008.972030\n",
       "Sculpture              3142.065250\n",
       "Shorts                 3426.400912\n",
       "Small Batch            3406.388888\n",
       "Software               2862.445864\n",
       "Sound                 21706.426934\n",
       "Space Exploration      7013.831815\n",
       "Spaces                 6870.351532\n",
       "Stationery             1379.982363\n",
       "Tabletop Games        12280.630496\n",
       "Taxidermy              4071.061114\n",
       "Technology             8766.835071\n",
       "Television             3060.142698\n",
       "Textiles               1709.769996\n",
       "Theater                3999.506561\n",
       "Thrillers              4260.881396\n",
       "Translations           2615.556503\n",
       "Typography             7697.119887\n",
       "Vegan                  5608.627304\n",
       "Video                  1412.345565\n",
       "Video Art              3329.087411\n",
       "Video Games            4886.591114\n",
       "Wearables             20933.022905\n",
       "Weaving                1029.554598\n",
       "Web                    1587.864648\n",
       "Webcomics              7114.553119\n",
       "Webseries              3510.908413\n",
       "Woodworking            1549.580461\n",
       "Workshops              1357.862474\n",
       "World Music            3539.112463\n",
       "Young Adult            1379.864439\n",
       "Zines                  2125.691922\n",
       "Name: usd pledged, dtype: float64"
      ]
     },
     "execution_count": 274,
     "metadata": {},
     "output_type": "execute_result"
    }
   ],
   "source": [
    "df3[\"usd pledged\"].groupby(df3[\"category\"]).mean()"
   ]
  },
  {
   "cell_type": "code",
   "execution_count": 275,
   "metadata": {},
   "outputs": [
    {
     "data": {
      "text/plain": [
       "country\n",
       "AT    4668.648763\n",
       "AU    3614.648662\n",
       "BE    2544.651717\n",
       "CA    3771.083003\n",
       "CH    6019.428984\n",
       "DE    4216.698402\n",
       "DK    4240.095788\n",
       "ES    3077.358297\n",
       "FR    6116.728143\n",
       "GB    4541.192640\n",
       "HK    2979.728995\n",
       "IE    4791.387437\n",
       "IT    2884.938378\n",
       "LU    4329.165422\n",
       "MX       8.136906\n",
       "NL    4524.037385\n",
       "NO    2556.932683\n",
       "NZ    3814.805486\n",
       "SE    3762.922443\n",
       "SG    2649.047928\n",
       "US    5058.504993\n",
       "Name: usd pledged, dtype: float64"
      ]
     },
     "execution_count": 275,
     "metadata": {},
     "output_type": "execute_result"
    }
   ],
   "source": [
    "df3[\"usd pledged\"].groupby(df3[\"country\"]).mean()"
   ]
  },
  {
   "cell_type": "code",
   "execution_count": 276,
   "metadata": {},
   "outputs": [
    {
     "data": {
      "text/plain": [
       "currency\n",
       "AUD    3614.648662\n",
       "CAD    3771.083003\n",
       "CHF    6019.428984\n",
       "DKK    4240.095788\n",
       "EUR    4246.171225\n",
       "GBP    4541.192640\n",
       "HKD    2979.728995\n",
       "MXN       8.136906\n",
       "NOK    2556.932683\n",
       "NZD    3814.805486\n",
       "SEK    3762.922443\n",
       "SGD    2649.047928\n",
       "USD    5058.504993\n",
       "Name: usd pledged, dtype: float64"
      ]
     },
     "execution_count": 276,
     "metadata": {},
     "output_type": "execute_result"
    }
   ],
   "source": [
    "df3[\"usd pledged\"].groupby(df3[\"currency\"]).mean()"
   ]
  },
  {
   "cell_type": "code",
   "execution_count": 277,
   "metadata": {},
   "outputs": [
    {
     "data": {
      "text/plain": [
       "state\n",
       "failed         1216.878654\n",
       "successful    10542.483195\n",
       "Name: usd pledged, dtype: float64"
      ]
     },
     "execution_count": 277,
     "metadata": {},
     "output_type": "execute_result"
    }
   ],
   "source": [
    "df3[\"usd pledged\"].groupby(df3[\"state\"]).mean()"
   ]
  },
  {
   "cell_type": "code",
   "execution_count": 278,
   "metadata": {},
   "outputs": [
    {
     "data": {
      "text/plain": [
       "<AxesSubplot:title={'center':'Average USD Pledged per Success/Fail State'}, xlabel='state', ylabel='usd pledged'>"
      ]
     },
     "execution_count": 278,
     "metadata": {},
     "output_type": "execute_result"
    },
    {
     "data": {
      "image/png": "[encoded data removed]",
      "text/plain": [
       "<Figure size 432x288 with 1 Axes>"
      ]
     },
     "metadata": {
      "needs_background": "light"
     },
     "output_type": "display_data"
    }
   ],
   "source": [
    "# visualizing Average USD Pledged per State\n",
    "plt.title(\"Average USD Pledged per Success/Fail State\")\n",
    "plt.xticks(rotation = 90)\n",
    "sns.barplot(x = df3[\"state\"], y = df3[\"usd pledged\"], ci = None)"
   ]
  },
  {
   "cell_type": "code",
   "execution_count": 279,
   "metadata": {},
   "outputs": [
    {
     "data": {
      "text/plain": [
       "main_category\n",
       "Art              38.800515\n",
       "Comics          107.194880\n",
       "Crafts           26.464065\n",
       "Dance            44.010645\n",
       "Design          117.648358\n",
       "Fashion          46.429616\n",
       "Film & Video     54.249611\n",
       "Food             49.053275\n",
       "Games           141.683276\n",
       "Journalism       37.147769\n",
       "Music            52.165199\n",
       "Photography      38.118068\n",
       "Publishing       47.757778\n",
       "Technology       75.555572\n",
       "Theater          47.796310\n",
       "Name: backers, dtype: float64"
      ]
     },
     "execution_count": 279,
     "metadata": {},
     "output_type": "execute_result"
    }
   ],
   "source": [
    "## average number of backers across categorical variables (groupby)\n",
    "df3[\"backers\"].groupby(df3[\"main_category\"]).mean()"
   ]
  },
  {
   "cell_type": "code",
   "execution_count": 55,
   "metadata": {
    "scrolled": false
   },
   "outputs": [
    {
     "data": {
      "text/plain": [
       "category\n",
       "3D Printing    273.092308\n",
       "Academic        30.544068\n",
       "Accessories     99.114499\n",
       "Action          59.240404\n",
       "Animals         34.532663\n",
       "                  ...    \n",
       "Woodworking     22.099762\n",
       "Workshops       21.630252\n",
       "World Music     58.424650\n",
       "Young Adult     23.413732\n",
       "Zines           53.453488\n",
       "Name: backers, Length: 158, dtype: float64"
      ]
     },
     "execution_count": 55,
     "metadata": {},
     "output_type": "execute_result"
    }
   ],
   "source": [
    "df3[\"backers\"].groupby(df3[\"category\"]).mean()"
   ]
  },
  {
   "cell_type": "code",
   "execution_count": 280,
   "metadata": {},
   "outputs": [
    {
     "data": {
      "text/plain": [
       "country\n",
       "AT     45.921147\n",
       "AU     52.107567\n",
       "BE     43.773700\n",
       "CA     53.952094\n",
       "CH     45.421053\n",
       "DE     55.189976\n",
       "DK     58.638009\n",
       "ES     52.750464\n",
       "FR     68.278539\n",
       "GB     56.877743\n",
       "HK     70.065217\n",
       "IE     56.593220\n",
       "IT     35.502168\n",
       "LU     36.969697\n",
       "MX      9.250000\n",
       "NL     47.143088\n",
       "NO     37.032864\n",
       "NZ     59.302326\n",
       "SE     59.917546\n",
       "SG    114.391304\n",
       "US     65.699540\n",
       "Name: backers, dtype: float64"
      ]
     },
     "execution_count": 280,
     "metadata": {},
     "output_type": "execute_result"
    }
   ],
   "source": [
    "df3[\"backers\"].groupby(df3[\"country\"]).mean()"
   ]
  },
  {
   "cell_type": "code",
   "execution_count": 281,
   "metadata": {},
   "outputs": [
    {
     "data": {
      "text/plain": [
       "currency\n",
       "AUD     52.107567\n",
       "CAD     53.952094\n",
       "CHF     45.421053\n",
       "DKK     58.638009\n",
       "EUR     51.765011\n",
       "GBP     56.877743\n",
       "HKD     70.065217\n",
       "MXN      9.250000\n",
       "NOK     37.032864\n",
       "NZD     59.302326\n",
       "SEK     59.917546\n",
       "SGD    114.391304\n",
       "USD     65.699540\n",
       "Name: backers, dtype: float64"
      ]
     },
     "execution_count": 281,
     "metadata": {},
     "output_type": "execute_result"
    }
   ],
   "source": [
    "df3[\"backers\"].groupby(df3[\"currency\"]).mean()"
   ]
  },
  {
   "cell_type": "code",
   "execution_count": 282,
   "metadata": {},
   "outputs": [
    {
     "data": {
      "text/plain": [
       "state\n",
       "failed         15.873337\n",
       "successful    136.952364\n",
       "Name: backers, dtype: float64"
      ]
     },
     "execution_count": 282,
     "metadata": {},
     "output_type": "execute_result"
    }
   ],
   "source": [
    "df3[\"backers\"].groupby(df3[\"state\"]).mean()"
   ]
  },
  {
   "cell_type": "code",
   "execution_count": 283,
   "metadata": {},
   "outputs": [
    {
     "data": {
      "text/plain": [
       "<AxesSubplot:title={'center':'Average Number Backers per State'}, xlabel='state', ylabel='backers'>"
      ]
     },
     "execution_count": 283,
     "metadata": {},
     "output_type": "execute_result"
    },
    {
     "data": {
      "image/png": "[encoded data removed]",
      "text/plain": [
       "<Figure size 432x288 with 1 Axes>"
      ]
     },
     "metadata": {
      "needs_background": "light"
     },
     "output_type": "display_data"
    }
   ],
   "source": [
    "# visualizing Average Number Backers per State\n",
    "plt.title(\"Average Number Backers per State\")\n",
    "plt.xticks(rotation = 90)\n",
    "sns.barplot(x = df3[\"state\"], y = df3[\"backers\"], ci = None)"
   ]
  },
  {
   "cell_type": "code",
   "execution_count": 284,
   "metadata": {},
   "outputs": [
    {
     "data": {
      "text/plain": [
       "<AxesSubplot:title={'center':'Average Funding Goal per Main Category'}, xlabel='main_category', ylabel='goal'>"
      ]
     },
     "execution_count": 284,
     "metadata": {},
     "output_type": "execute_result"
    },
    {
     "data": {
      "image/png": "[encoded data removed]",
      "text/plain": [
       "<Figure size 432x288 with 1 Axes>"
      ]
     },
     "metadata": {
      "needs_background": "light"
     },
     "output_type": "display_data"
    }
   ],
   "source": [
    "# visualizing Average Funding Goal per Main Category\n",
    "plt.title(\"Average Funding Goal per Main Category\")\n",
    "plt.xticks(rotation = 90)\n",
    "sns.barplot(x = df3[\"main_category\"], y = df3[\"goal\"], ci = None)"
   ]
  },
  {
   "cell_type": "code",
   "execution_count": 285,
   "metadata": {},
   "outputs": [
    {
     "data": {
      "text/plain": [
       "<AxesSubplot:title={'center':'Average Funding Goal per State'}, xlabel='state', ylabel='goal'>"
      ]
     },
     "execution_count": 285,
     "metadata": {},
     "output_type": "execute_result"
    },
    {
     "data": {
      "image/png": "[encoded data removed]",
      "text/plain": [
       "<Figure size 432x288 with 1 Axes>"
      ]
     },
     "metadata": {
      "needs_background": "light"
     },
     "output_type": "display_data"
    }
   ],
   "source": [
    "# visualizing Average Funding Goal per State\n",
    "plt.title(\"Average Funding Goal per State\")\n",
    "plt.xticks(rotation = 90)\n",
    "sns.barplot(x = df3[\"state\"], y = df3[\"goal\"], ci = None)"
   ]
  },
  {
   "cell_type": "code",
   "execution_count": 286,
   "metadata": {},
   "outputs": [
    {
     "data": {
      "text/plain": [
       "<AxesSubplot:title={'center':'Average Percentage Funded per Main Category'}, xlabel='main_category', ylabel='pct_funded'>"
      ]
     },
     "execution_count": 286,
     "metadata": {},
     "output_type": "execute_result"
    },
    {
     "data": {
      "image/png": "[encoded data removed]",
      "text/plain": [
       "<Figure size 432x288 with 1 Axes>"
      ]
     },
     "metadata": {
      "needs_background": "light"
     },
     "output_type": "display_data"
    }
   ],
   "source": [
    "# visualizing Average Percentage Funded per Main Category\n",
    "plt.title(\"Average Percentage Funded per Main Category\")\n",
    "plt.xticks(rotation = 90)\n",
    "sns.barplot(x = df3[\"main_category\"], y = df3[\"pct_funded\"], ci = None)"
   ]
  },
  {
   "cell_type": "code",
   "execution_count": null,
   "metadata": {},
   "outputs": [],
   "source": []
  },
  {
   "cell_type": "code",
   "execution_count": 287,
   "metadata": {},
   "outputs": [
    {
     "data": {
      "text/plain": [
       "state\n",
       "failed        35.165957\n",
       "successful    32.131519\n",
       "Name: length_days, dtype: float64"
      ]
     },
     "execution_count": 287,
     "metadata": {},
     "output_type": "execute_result"
    }
   ],
   "source": [
    "## averages of all numeric variables grouped by state (groupby)\n",
    "df3[\"length_days\"].groupby(df3[\"state\"]).mean()"
   ]
  },
  {
   "cell_type": "code",
   "execution_count": 288,
   "metadata": {},
   "outputs": [
    {
     "data": {
      "text/plain": [
       "state\n",
       "failed         1216.878654\n",
       "successful    10542.483195\n",
       "Name: usd pledged, dtype: float64"
      ]
     },
     "execution_count": 288,
     "metadata": {},
     "output_type": "execute_result"
    }
   ],
   "source": [
    "df3[\"usd pledged\"].groupby(df3[\"state\"]).mean()"
   ]
  },
  {
   "cell_type": "code",
   "execution_count": 289,
   "metadata": {},
   "outputs": [
    {
     "data": {
      "text/plain": [
       "state\n",
       "failed        30662.900419\n",
       "successful     7830.484319\n",
       "Name: goal, dtype: float64"
      ]
     },
     "execution_count": 289,
     "metadata": {},
     "output_type": "execute_result"
    }
   ],
   "source": [
    "df3[\"goal\"].groupby(df3[\"state\"]).mean()\n",
    "\n",
    "#this is an interesting piece of info"
   ]
  },
  {
   "cell_type": "code",
   "execution_count": 291,
   "metadata": {},
   "outputs": [
    {
     "data": {
      "text/plain": [
       "<AxesSubplot:xlabel='state', ylabel='goal'>"
      ]
     },
     "execution_count": 291,
     "metadata": {},
     "output_type": "execute_result"
    },
    {
     "data": {
      "image/png": "[encoded data removed]",
      "text/plain": [
       "<Figure size 432x288 with 1 Axes>"
      ]
     },
     "metadata": {
      "needs_background": "light"
     },
     "output_type": "display_data"
    }
   ],
   "source": [
    "sns.barplot(data = df3, x = \"state\", y = \"goal\")"
   ]
  },
  {
   "cell_type": "code",
   "execution_count": 292,
   "metadata": {},
   "outputs": [
    {
     "data": {
      "text/plain": [
       "state\n",
       "failed         15.873337\n",
       "successful    136.952364\n",
       "Name: backers, dtype: float64"
      ]
     },
     "execution_count": 292,
     "metadata": {},
     "output_type": "execute_result"
    }
   ],
   "source": [
    "df3[\"backers\"].groupby(df3[\"state\"]).mean()"
   ]
  },
  {
   "cell_type": "code",
   "execution_count": 293,
   "metadata": {},
   "outputs": [
    {
     "data": {
      "text/plain": [
       "state\n",
       "failed          8.898846\n",
       "successful    205.060963\n",
       "Name: pct_funded, dtype: float64"
      ]
     },
     "execution_count": 293,
     "metadata": {},
     "output_type": "execute_result"
    }
   ],
   "source": [
    "df3[\"pct_funded\"].groupby(df3[\"state\"]).mean()"
   ]
  },
  {
   "cell_type": "code",
   "execution_count": 294,
   "metadata": {},
   "outputs": [
    {
     "data": {
      "text/plain": [
       "state\n",
       "failed             NaN\n",
       "successful    84.62903\n",
       "Name: avg_pledge_per_backer, dtype: float64"
      ]
     },
     "execution_count": 294,
     "metadata": {},
     "output_type": "execute_result"
    }
   ],
   "source": [
    "df3[\"avg_pledge_per_backer\"].groupby(df3[\"state\"]).mean()"
   ]
  },
  {
   "cell_type": "code",
   "execution_count": 295,
   "metadata": {},
   "outputs": [
    {
     "data": {
      "text/html": [
       "<div>\n",
       "<style scoped>\n",
       "    .dataframe tbody tr th:only-of-type {\n",
       "        vertical-align: middle;\n",
       "    }\n",
       "\n",
       "    .dataframe tbody tr th {\n",
       "        vertical-align: top;\n",
       "    }\n",
       "\n",
       "    .dataframe thead th {\n",
       "        text-align: right;\n",
       "    }\n",
       "</style>\n",
       "<table border=\"1\" class=\"dataframe\">\n",
       "  <thead>\n",
       "    <tr style=\"text-align: right;\">\n",
       "      <th></th>\n",
       "      <th>length_days</th>\n",
       "      <th>goal</th>\n",
       "      <th>usd pledged</th>\n",
       "      <th>backers</th>\n",
       "      <th>pct_funded</th>\n",
       "      <th>avg_pledge_per_backer</th>\n",
       "    </tr>\n",
       "  </thead>\n",
       "  <tbody>\n",
       "    <tr>\n",
       "      <th>count</th>\n",
       "      <td>278002.000000</td>\n",
       "      <td>2.780020e+05</td>\n",
       "      <td>278002.000000</td>\n",
       "      <td>278002.000000</td>\n",
       "      <td>278002.000000</td>\n",
       "      <td>244743.0000</td>\n",
       "    </tr>\n",
       "    <tr>\n",
       "      <th>mean</th>\n",
       "      <td>33.967123</td>\n",
       "      <td>2.164235e+04</td>\n",
       "      <td>4901.203939</td>\n",
       "      <td>63.708790</td>\n",
       "      <td>86.397848</td>\n",
       "      <td>inf</td>\n",
       "    </tr>\n",
       "    <tr>\n",
       "      <th>std</th>\n",
       "      <td>12.919110</td>\n",
       "      <td>9.573754e+04</td>\n",
       "      <td>13655.332619</td>\n",
       "      <td>143.779266</td>\n",
       "      <td>560.177733</td>\n",
       "      <td>NaN</td>\n",
       "    </tr>\n",
       "    <tr>\n",
       "      <th>min</th>\n",
       "      <td>1.000000</td>\n",
       "      <td>1.500000e-01</td>\n",
       "      <td>0.000000</td>\n",
       "      <td>0.000000</td>\n",
       "      <td>0.000000</td>\n",
       "      <td>0.0000</td>\n",
       "    </tr>\n",
       "    <tr>\n",
       "      <th>25%</th>\n",
       "      <td>30.000000</td>\n",
       "      <td>2.000000e+03</td>\n",
       "      <td>36.000000</td>\n",
       "      <td>2.000000</td>\n",
       "      <td>0.560000</td>\n",
       "      <td>23.7500</td>\n",
       "    </tr>\n",
       "    <tr>\n",
       "      <th>50%</th>\n",
       "      <td>30.000000</td>\n",
       "      <td>5.000000e+03</td>\n",
       "      <td>659.000000</td>\n",
       "      <td>14.000000</td>\n",
       "      <td>15.726491</td>\n",
       "      <td>46.4375</td>\n",
       "    </tr>\n",
       "    <tr>\n",
       "      <th>75%</th>\n",
       "      <td>36.000000</td>\n",
       "      <td>1.500000e+04</td>\n",
       "      <td>3884.722704</td>\n",
       "      <td>59.000000</td>\n",
       "      <td>107.211650</td>\n",
       "      <td>81.0000</td>\n",
       "    </tr>\n",
       "    <tr>\n",
       "      <th>max</th>\n",
       "      <td>92.000000</td>\n",
       "      <td>3.141592e+06</td>\n",
       "      <td>268654.025500</td>\n",
       "      <td>1415.000000</td>\n",
       "      <td>54575.666667</td>\n",
       "      <td>inf</td>\n",
       "    </tr>\n",
       "  </tbody>\n",
       "</table>\n",
       "</div>"
      ],
      "text/plain": [
       "         length_days          goal    usd pledged        backers  \\\n",
       "count  278002.000000  2.780020e+05  278002.000000  278002.000000   \n",
       "mean       33.967123  2.164235e+04    4901.203939      63.708790   \n",
       "std        12.919110  9.573754e+04   13655.332619     143.779266   \n",
       "min         1.000000  1.500000e-01       0.000000       0.000000   \n",
       "25%        30.000000  2.000000e+03      36.000000       2.000000   \n",
       "50%        30.000000  5.000000e+03     659.000000      14.000000   \n",
       "75%        36.000000  1.500000e+04    3884.722704      59.000000   \n",
       "max        92.000000  3.141592e+06  268654.025500    1415.000000   \n",
       "\n",
       "          pct_funded  avg_pledge_per_backer  \n",
       "count  278002.000000            244743.0000  \n",
       "mean       86.397848                    inf  \n",
       "std       560.177733                    NaN  \n",
       "min         0.000000                 0.0000  \n",
       "25%         0.560000                23.7500  \n",
       "50%        15.726491                46.4375  \n",
       "75%       107.211650                81.0000  \n",
       "max     54575.666667                    inf  "
      ]
     },
     "execution_count": 295,
     "metadata": {},
     "output_type": "execute_result"
    }
   ],
   "source": [
    "df3.describe()"
   ]
  },
  {
   "cell_type": "markdown",
   "metadata": {},
   "source": [
    "# BINNING"
   ]
  },
  {
   "cell_type": "code",
   "execution_count": 296,
   "metadata": {
    "scrolled": false
   },
   "outputs": [
    {
     "data": {
      "text/html": [
       "<div>\n",
       "<style scoped>\n",
       "    .dataframe tbody tr th:only-of-type {\n",
       "        vertical-align: middle;\n",
       "    }\n",
       "\n",
       "    .dataframe tbody tr th {\n",
       "        vertical-align: top;\n",
       "    }\n",
       "\n",
       "    .dataframe thead th {\n",
       "        text-align: right;\n",
       "    }\n",
       "</style>\n",
       "<table border=\"1\" class=\"dataframe\">\n",
       "  <thead>\n",
       "    <tr style=\"text-align: right;\">\n",
       "      <th></th>\n",
       "      <th>name</th>\n",
       "      <th>main_category</th>\n",
       "      <th>category</th>\n",
       "      <th>country</th>\n",
       "      <th>currency</th>\n",
       "      <th>launched</th>\n",
       "      <th>deadline</th>\n",
       "      <th>length_days</th>\n",
       "      <th>goal</th>\n",
       "      <th>usd pledged</th>\n",
       "      <th>backers</th>\n",
       "      <th>state</th>\n",
       "      <th>pct_funded</th>\n",
       "      <th>avg_pledge_per_backer</th>\n",
       "      <th>backers_group</th>\n",
       "    </tr>\n",
       "  </thead>\n",
       "  <tbody>\n",
       "    <tr>\n",
       "      <th>0</th>\n",
       "      <td>French Cuisine</td>\n",
       "      <td>Food</td>\n",
       "      <td>Cookbooks</td>\n",
       "      <td>US</td>\n",
       "      <td>USD</td>\n",
       "      <td>2014-08-09 03:16:02</td>\n",
       "      <td>2014-09-08 00:46:23</td>\n",
       "      <td>29</td>\n",
       "      <td>13730.0</td>\n",
       "      <td>3984.000000</td>\n",
       "      <td>46</td>\n",
       "      <td>failed</td>\n",
       "      <td>29.016752</td>\n",
       "      <td>86.608696</td>\n",
       "      <td>30-59</td>\n",
       "    </tr>\n",
       "    <tr>\n",
       "      <th>1</th>\n",
       "      <td>HotRod Henry SUPERCHARGED - the ultimate 3D pr...</td>\n",
       "      <td>Technology</td>\n",
       "      <td>3D Printing</td>\n",
       "      <td>AT</td>\n",
       "      <td>EUR</td>\n",
       "      <td>2016-06-16 16:30:33</td>\n",
       "      <td>2016-07-21 23:59:00</td>\n",
       "      <td>35</td>\n",
       "      <td>75000.0</td>\n",
       "      <td>1561.784015</td>\n",
       "      <td>31</td>\n",
       "      <td>failed</td>\n",
       "      <td>2.082379</td>\n",
       "      <td>50.380130</td>\n",
       "      <td>30-59</td>\n",
       "    </tr>\n",
       "    <tr>\n",
       "      <th>2</th>\n",
       "      <td>PHAbulous Philaments - 3D printing: natural an...</td>\n",
       "      <td>Technology</td>\n",
       "      <td>3D Printing</td>\n",
       "      <td>AT</td>\n",
       "      <td>EUR</td>\n",
       "      <td>2015-07-22 12:08:26</td>\n",
       "      <td>2015-08-21 12:08:26</td>\n",
       "      <td>30</td>\n",
       "      <td>15000.0</td>\n",
       "      <td>4152.402045</td>\n",
       "      <td>46</td>\n",
       "      <td>failed</td>\n",
       "      <td>27.682680</td>\n",
       "      <td>90.269610</td>\n",
       "      <td>30-59</td>\n",
       "    </tr>\n",
       "    <tr>\n",
       "      <th>3</th>\n",
       "      <td>Schokostruder - Chocolate &amp;  Liquid Extruder f...</td>\n",
       "      <td>Technology</td>\n",
       "      <td>3D Printing</td>\n",
       "      <td>AT</td>\n",
       "      <td>EUR</td>\n",
       "      <td>2016-01-25 18:48:09</td>\n",
       "      <td>2016-02-24 18:48:09</td>\n",
       "      <td>30</td>\n",
       "      <td>20000.0</td>\n",
       "      <td>19.435528</td>\n",
       "      <td>6</td>\n",
       "      <td>failed</td>\n",
       "      <td>0.097178</td>\n",
       "      <td>3.239255</td>\n",
       "      <td>5-14</td>\n",
       "    </tr>\n",
       "    <tr>\n",
       "      <th>4</th>\n",
       "      <td>StarterMate - the 3D printing starter kit for ...</td>\n",
       "      <td>Technology</td>\n",
       "      <td>3D Printing</td>\n",
       "      <td>AT</td>\n",
       "      <td>EUR</td>\n",
       "      <td>2015-09-30 00:26:43</td>\n",
       "      <td>2015-11-09 00:26:43</td>\n",
       "      <td>40</td>\n",
       "      <td>20000.0</td>\n",
       "      <td>2908.076574</td>\n",
       "      <td>29</td>\n",
       "      <td>failed</td>\n",
       "      <td>14.540383</td>\n",
       "      <td>100.278503</td>\n",
       "      <td>15-29</td>\n",
       "    </tr>\n",
       "  </tbody>\n",
       "</table>\n",
       "</div>"
      ],
      "text/plain": [
       "                                                name main_category  \\\n",
       "0                                     French Cuisine          Food   \n",
       "1  HotRod Henry SUPERCHARGED - the ultimate 3D pr...    Technology   \n",
       "2  PHAbulous Philaments - 3D printing: natural an...    Technology   \n",
       "3  Schokostruder - Chocolate &  Liquid Extruder f...    Technology   \n",
       "4  StarterMate - the 3D printing starter kit for ...    Technology   \n",
       "\n",
       "      category country currency            launched            deadline  \\\n",
       "0    Cookbooks      US      USD 2014-08-09 03:16:02 2014-09-08 00:46:23   \n",
       "1  3D Printing      AT      EUR 2016-06-16 16:30:33 2016-07-21 23:59:00   \n",
       "2  3D Printing      AT      EUR 2015-07-22 12:08:26 2015-08-21 12:08:26   \n",
       "3  3D Printing      AT      EUR 2016-01-25 18:48:09 2016-02-24 18:48:09   \n",
       "4  3D Printing      AT      EUR 2015-09-30 00:26:43 2015-11-09 00:26:43   \n",
       "\n",
       "   length_days     goal  usd pledged  backers   state  pct_funded  \\\n",
       "0           29  13730.0  3984.000000       46  failed   29.016752   \n",
       "1           35  75000.0  1561.784015       31  failed    2.082379   \n",
       "2           30  15000.0  4152.402045       46  failed   27.682680   \n",
       "3           30  20000.0    19.435528        6  failed    0.097178   \n",
       "4           40  20000.0  2908.076574       29  failed   14.540383   \n",
       "\n",
       "   avg_pledge_per_backer backers_group  \n",
       "0              86.608696         30-59  \n",
       "1              50.380130         30-59  \n",
       "2              90.269610         30-59  \n",
       "3               3.239255          5-14  \n",
       "4             100.278503         15-29  "
      ]
     },
     "execution_count": 296,
     "metadata": {},
     "output_type": "execute_result"
    }
   ],
   "source": [
    "# create bins for number of backers\n",
    "\n",
    "bins = [0, 5, 15, 30, 60, 100, 1500]\n",
    "bin_labels = [\"0-4\", \"5-14\", \"15-29\", \"30-59\", \"60-99\", \"100-1500\"]\n",
    "\n",
    "df3[\"backers_group\"] = pd.cut(df3[\"backers\"], bins, labels = bin_labels)\n",
    "\n",
    "df3.head()"
   ]
  },
  {
   "cell_type": "code",
   "execution_count": 297,
   "metadata": {},
   "outputs": [
    {
     "data": {
      "text/html": [
       "<div>\n",
       "<style scoped>\n",
       "    .dataframe tbody tr th:only-of-type {\n",
       "        vertical-align: middle;\n",
       "    }\n",
       "\n",
       "    .dataframe tbody tr th {\n",
       "        vertical-align: top;\n",
       "    }\n",
       "\n",
       "    .dataframe thead th {\n",
       "        text-align: right;\n",
       "    }\n",
       "</style>\n",
       "<table border=\"1\" class=\"dataframe\">\n",
       "  <thead>\n",
       "    <tr style=\"text-align: right;\">\n",
       "      <th></th>\n",
       "      <th>name</th>\n",
       "      <th>main_category</th>\n",
       "      <th>category</th>\n",
       "      <th>country</th>\n",
       "      <th>currency</th>\n",
       "      <th>launched</th>\n",
       "      <th>deadline</th>\n",
       "      <th>length_days</th>\n",
       "      <th>goal</th>\n",
       "      <th>usd pledged</th>\n",
       "      <th>backers</th>\n",
       "      <th>state</th>\n",
       "      <th>pct_funded</th>\n",
       "      <th>avg_pledge_per_backer</th>\n",
       "      <th>backers_group</th>\n",
       "      <th>usd_pledged_group</th>\n",
       "    </tr>\n",
       "  </thead>\n",
       "  <tbody>\n",
       "    <tr>\n",
       "      <th>0</th>\n",
       "      <td>French Cuisine</td>\n",
       "      <td>Food</td>\n",
       "      <td>Cookbooks</td>\n",
       "      <td>US</td>\n",
       "      <td>USD</td>\n",
       "      <td>2014-08-09 03:16:02</td>\n",
       "      <td>2014-09-08 00:46:23</td>\n",
       "      <td>29</td>\n",
       "      <td>13730.0</td>\n",
       "      <td>3984.000000</td>\n",
       "      <td>46</td>\n",
       "      <td>failed</td>\n",
       "      <td>29.016752</td>\n",
       "      <td>86.608696</td>\n",
       "      <td>30-59</td>\n",
       "      <td>2,000-4,999</td>\n",
       "    </tr>\n",
       "    <tr>\n",
       "      <th>1</th>\n",
       "      <td>HotRod Henry SUPERCHARGED - the ultimate 3D pr...</td>\n",
       "      <td>Technology</td>\n",
       "      <td>3D Printing</td>\n",
       "      <td>AT</td>\n",
       "      <td>EUR</td>\n",
       "      <td>2016-06-16 16:30:33</td>\n",
       "      <td>2016-07-21 23:59:00</td>\n",
       "      <td>35</td>\n",
       "      <td>75000.0</td>\n",
       "      <td>1561.784015</td>\n",
       "      <td>31</td>\n",
       "      <td>failed</td>\n",
       "      <td>2.082379</td>\n",
       "      <td>50.380130</td>\n",
       "      <td>30-59</td>\n",
       "      <td>1000-1,999</td>\n",
       "    </tr>\n",
       "    <tr>\n",
       "      <th>2</th>\n",
       "      <td>PHAbulous Philaments - 3D printing: natural an...</td>\n",
       "      <td>Technology</td>\n",
       "      <td>3D Printing</td>\n",
       "      <td>AT</td>\n",
       "      <td>EUR</td>\n",
       "      <td>2015-07-22 12:08:26</td>\n",
       "      <td>2015-08-21 12:08:26</td>\n",
       "      <td>30</td>\n",
       "      <td>15000.0</td>\n",
       "      <td>4152.402045</td>\n",
       "      <td>46</td>\n",
       "      <td>failed</td>\n",
       "      <td>27.682680</td>\n",
       "      <td>90.269610</td>\n",
       "      <td>30-59</td>\n",
       "      <td>2,000-4,999</td>\n",
       "    </tr>\n",
       "    <tr>\n",
       "      <th>3</th>\n",
       "      <td>Schokostruder - Chocolate &amp;  Liquid Extruder f...</td>\n",
       "      <td>Technology</td>\n",
       "      <td>3D Printing</td>\n",
       "      <td>AT</td>\n",
       "      <td>EUR</td>\n",
       "      <td>2016-01-25 18:48:09</td>\n",
       "      <td>2016-02-24 18:48:09</td>\n",
       "      <td>30</td>\n",
       "      <td>20000.0</td>\n",
       "      <td>19.435528</td>\n",
       "      <td>6</td>\n",
       "      <td>failed</td>\n",
       "      <td>0.097178</td>\n",
       "      <td>3.239255</td>\n",
       "      <td>5-14</td>\n",
       "      <td>0-49</td>\n",
       "    </tr>\n",
       "    <tr>\n",
       "      <th>4</th>\n",
       "      <td>StarterMate - the 3D printing starter kit for ...</td>\n",
       "      <td>Technology</td>\n",
       "      <td>3D Printing</td>\n",
       "      <td>AT</td>\n",
       "      <td>EUR</td>\n",
       "      <td>2015-09-30 00:26:43</td>\n",
       "      <td>2015-11-09 00:26:43</td>\n",
       "      <td>40</td>\n",
       "      <td>20000.0</td>\n",
       "      <td>2908.076574</td>\n",
       "      <td>29</td>\n",
       "      <td>failed</td>\n",
       "      <td>14.540383</td>\n",
       "      <td>100.278503</td>\n",
       "      <td>15-29</td>\n",
       "      <td>2,000-4,999</td>\n",
       "    </tr>\n",
       "  </tbody>\n",
       "</table>\n",
       "</div>"
      ],
      "text/plain": [
       "                                                name main_category  \\\n",
       "0                                     French Cuisine          Food   \n",
       "1  HotRod Henry SUPERCHARGED - the ultimate 3D pr...    Technology   \n",
       "2  PHAbulous Philaments - 3D printing: natural an...    Technology   \n",
       "3  Schokostruder - Chocolate &  Liquid Extruder f...    Technology   \n",
       "4  StarterMate - the 3D printing starter kit for ...    Technology   \n",
       "\n",
       "      category country currency            launched            deadline  \\\n",
       "0    Cookbooks      US      USD 2014-08-09 03:16:02 2014-09-08 00:46:23   \n",
       "1  3D Printing      AT      EUR 2016-06-16 16:30:33 2016-07-21 23:59:00   \n",
       "2  3D Printing      AT      EUR 2015-07-22 12:08:26 2015-08-21 12:08:26   \n",
       "3  3D Printing      AT      EUR 2016-01-25 18:48:09 2016-02-24 18:48:09   \n",
       "4  3D Printing      AT      EUR 2015-09-30 00:26:43 2015-11-09 00:26:43   \n",
       "\n",
       "   length_days     goal  usd pledged  backers   state  pct_funded  \\\n",
       "0           29  13730.0  3984.000000       46  failed   29.016752   \n",
       "1           35  75000.0  1561.784015       31  failed    2.082379   \n",
       "2           30  15000.0  4152.402045       46  failed   27.682680   \n",
       "3           30  20000.0    19.435528        6  failed    0.097178   \n",
       "4           40  20000.0  2908.076574       29  failed   14.540383   \n",
       "\n",
       "   avg_pledge_per_backer backers_group usd_pledged_group  \n",
       "0              86.608696         30-59       2,000-4,999  \n",
       "1              50.380130         30-59        1000-1,999  \n",
       "2              90.269610         30-59       2,000-4,999  \n",
       "3               3.239255          5-14              0-49  \n",
       "4             100.278503         15-29       2,000-4,999  "
      ]
     },
     "execution_count": 297,
     "metadata": {},
     "output_type": "execute_result"
    }
   ],
   "source": [
    "# create bins for usd pledged\n",
    "\n",
    "bins = [0, 50, 100, 1000, 2000, 5000, 10000, 100000, 300000]\n",
    "bin_labels = [\"0-49\", \"50-99\", \"100-999\", \"1000-1,999\", \"2,000-4,999\", \"5,000-9,999\", \"10,000-99,999\", \"100,000-300,000\"]\n",
    "\n",
    "df3[\"usd_pledged_group\"] = pd.cut(df3[\"usd pledged\"], bins, labels = bin_labels)\n",
    "\n",
    "df3.head()"
   ]
  },
  {
   "cell_type": "code",
   "execution_count": 299,
   "metadata": {
    "scrolled": false
   },
   "outputs": [
    {
     "data": {
      "text/html": [
       "<div>\n",
       "<style scoped>\n",
       "    .dataframe tbody tr th:only-of-type {\n",
       "        vertical-align: middle;\n",
       "    }\n",
       "\n",
       "    .dataframe tbody tr th {\n",
       "        vertical-align: top;\n",
       "    }\n",
       "\n",
       "    .dataframe thead th {\n",
       "        text-align: right;\n",
       "    }\n",
       "</style>\n",
       "<table border=\"1\" class=\"dataframe\">\n",
       "  <thead>\n",
       "    <tr style=\"text-align: right;\">\n",
       "      <th></th>\n",
       "      <th>name</th>\n",
       "      <th>main_category</th>\n",
       "      <th>category</th>\n",
       "      <th>country</th>\n",
       "      <th>currency</th>\n",
       "      <th>launched</th>\n",
       "      <th>deadline</th>\n",
       "      <th>length_days</th>\n",
       "      <th>goal</th>\n",
       "      <th>usd pledged</th>\n",
       "      <th>backers</th>\n",
       "      <th>state</th>\n",
       "      <th>pct_funded</th>\n",
       "      <th>avg_pledge_per_backer</th>\n",
       "      <th>backers_group</th>\n",
       "      <th>usd_pledged_group</th>\n",
       "      <th>pct_funded_group</th>\n",
       "    </tr>\n",
       "  </thead>\n",
       "  <tbody>\n",
       "    <tr>\n",
       "      <th>0</th>\n",
       "      <td>French Cuisine</td>\n",
       "      <td>Food</td>\n",
       "      <td>Cookbooks</td>\n",
       "      <td>US</td>\n",
       "      <td>USD</td>\n",
       "      <td>2014-08-09 03:16:02</td>\n",
       "      <td>2014-09-08 00:46:23</td>\n",
       "      <td>29</td>\n",
       "      <td>13730.0</td>\n",
       "      <td>3984.000000</td>\n",
       "      <td>46</td>\n",
       "      <td>failed</td>\n",
       "      <td>29.016752</td>\n",
       "      <td>86.608696</td>\n",
       "      <td>30-59</td>\n",
       "      <td>2,000-4,999</td>\n",
       "      <td>15-89</td>\n",
       "    </tr>\n",
       "    <tr>\n",
       "      <th>1</th>\n",
       "      <td>HotRod Henry SUPERCHARGED - the ultimate 3D pr...</td>\n",
       "      <td>Technology</td>\n",
       "      <td>3D Printing</td>\n",
       "      <td>AT</td>\n",
       "      <td>EUR</td>\n",
       "      <td>2016-06-16 16:30:33</td>\n",
       "      <td>2016-07-21 23:59:00</td>\n",
       "      <td>35</td>\n",
       "      <td>75000.0</td>\n",
       "      <td>1561.784015</td>\n",
       "      <td>31</td>\n",
       "      <td>failed</td>\n",
       "      <td>2.082379</td>\n",
       "      <td>50.380130</td>\n",
       "      <td>30-59</td>\n",
       "      <td>1000-1,999</td>\n",
       "      <td>1-14</td>\n",
       "    </tr>\n",
       "    <tr>\n",
       "      <th>2</th>\n",
       "      <td>PHAbulous Philaments - 3D printing: natural an...</td>\n",
       "      <td>Technology</td>\n",
       "      <td>3D Printing</td>\n",
       "      <td>AT</td>\n",
       "      <td>EUR</td>\n",
       "      <td>2015-07-22 12:08:26</td>\n",
       "      <td>2015-08-21 12:08:26</td>\n",
       "      <td>30</td>\n",
       "      <td>15000.0</td>\n",
       "      <td>4152.402045</td>\n",
       "      <td>46</td>\n",
       "      <td>failed</td>\n",
       "      <td>27.682680</td>\n",
       "      <td>90.269610</td>\n",
       "      <td>30-59</td>\n",
       "      <td>2,000-4,999</td>\n",
       "      <td>15-89</td>\n",
       "    </tr>\n",
       "    <tr>\n",
       "      <th>3</th>\n",
       "      <td>Schokostruder - Chocolate &amp;  Liquid Extruder f...</td>\n",
       "      <td>Technology</td>\n",
       "      <td>3D Printing</td>\n",
       "      <td>AT</td>\n",
       "      <td>EUR</td>\n",
       "      <td>2016-01-25 18:48:09</td>\n",
       "      <td>2016-02-24 18:48:09</td>\n",
       "      <td>30</td>\n",
       "      <td>20000.0</td>\n",
       "      <td>19.435528</td>\n",
       "      <td>6</td>\n",
       "      <td>failed</td>\n",
       "      <td>0.097178</td>\n",
       "      <td>3.239255</td>\n",
       "      <td>5-14</td>\n",
       "      <td>0-49</td>\n",
       "      <td>0-0.9</td>\n",
       "    </tr>\n",
       "    <tr>\n",
       "      <th>4</th>\n",
       "      <td>StarterMate - the 3D printing starter kit for ...</td>\n",
       "      <td>Technology</td>\n",
       "      <td>3D Printing</td>\n",
       "      <td>AT</td>\n",
       "      <td>EUR</td>\n",
       "      <td>2015-09-30 00:26:43</td>\n",
       "      <td>2015-11-09 00:26:43</td>\n",
       "      <td>40</td>\n",
       "      <td>20000.0</td>\n",
       "      <td>2908.076574</td>\n",
       "      <td>29</td>\n",
       "      <td>failed</td>\n",
       "      <td>14.540383</td>\n",
       "      <td>100.278503</td>\n",
       "      <td>15-29</td>\n",
       "      <td>2,000-4,999</td>\n",
       "      <td>1-14</td>\n",
       "    </tr>\n",
       "  </tbody>\n",
       "</table>\n",
       "</div>"
      ],
      "text/plain": [
       "                                                name main_category  \\\n",
       "0                                     French Cuisine          Food   \n",
       "1  HotRod Henry SUPERCHARGED - the ultimate 3D pr...    Technology   \n",
       "2  PHAbulous Philaments - 3D printing: natural an...    Technology   \n",
       "3  Schokostruder - Chocolate &  Liquid Extruder f...    Technology   \n",
       "4  StarterMate - the 3D printing starter kit for ...    Technology   \n",
       "\n",
       "      category country currency            launched            deadline  \\\n",
       "0    Cookbooks      US      USD 2014-08-09 03:16:02 2014-09-08 00:46:23   \n",
       "1  3D Printing      AT      EUR 2016-06-16 16:30:33 2016-07-21 23:59:00   \n",
       "2  3D Printing      AT      EUR 2015-07-22 12:08:26 2015-08-21 12:08:26   \n",
       "3  3D Printing      AT      EUR 2016-01-25 18:48:09 2016-02-24 18:48:09   \n",
       "4  3D Printing      AT      EUR 2015-09-30 00:26:43 2015-11-09 00:26:43   \n",
       "\n",
       "   length_days     goal  usd pledged  backers   state  pct_funded  \\\n",
       "0           29  13730.0  3984.000000       46  failed   29.016752   \n",
       "1           35  75000.0  1561.784015       31  failed    2.082379   \n",
       "2           30  15000.0  4152.402045       46  failed   27.682680   \n",
       "3           30  20000.0    19.435528        6  failed    0.097178   \n",
       "4           40  20000.0  2908.076574       29  failed   14.540383   \n",
       "\n",
       "   avg_pledge_per_backer backers_group usd_pledged_group pct_funded_group  \n",
       "0              86.608696         30-59       2,000-4,999            15-89  \n",
       "1              50.380130         30-59        1000-1,999             1-14  \n",
       "2              90.269610         30-59       2,000-4,999            15-89  \n",
       "3               3.239255          5-14              0-49            0-0.9  \n",
       "4             100.278503         15-29       2,000-4,999             1-14  "
      ]
     },
     "execution_count": 299,
     "metadata": {},
     "output_type": "execute_result"
    }
   ],
   "source": [
    "# create bins for pct_funded\n",
    "\n",
    "bins = [0, 1, 15, 90, 100, 110, 55000]\n",
    "bin_labels = [\"0-0.9\", \"1-14\", \"15-89\", \"90-99\", \"100-109\", \"110+\"]\n",
    "\n",
    "df3[\"pct_funded_group\"] = pd.cut(df3[\"pct_funded\"], bins, labels = bin_labels)\n",
    "\n",
    "df3.head()"
   ]
  },
  {
   "cell_type": "code",
   "execution_count": null,
   "metadata": {},
   "outputs": [],
   "source": []
  },
  {
   "cell_type": "markdown",
   "metadata": {},
   "source": [
    "# Visuals with Bins"
   ]
  },
  {
   "cell_type": "code",
   "execution_count": 300,
   "metadata": {},
   "outputs": [
    {
     "data": {
      "text/plain": [
       "<AxesSubplot:title={'center':'USD Pledged by Main Category and Pct Funded'}, xlabel='main_category', ylabel='usd pledged'>"
      ]
     },
     "execution_count": 300,
     "metadata": {},
     "output_type": "execute_result"
    },
    {
     "data": {
      "image/png": "[encoded data removed]",
      "text/plain": [
       "<Figure size 1080x360 with 1 Axes>"
      ]
     },
     "metadata": {
      "needs_background": "light"
     },
     "output_type": "display_data"
    }
   ],
   "source": [
    "# average number of backers and pledges by main category \n",
    "# include the variable \"pct_funded\" to get a better picture of the projects that met/exceeded their goal\n",
    "\n",
    "plt.figure(figsize = (15,5))\n",
    "plt.xticks(rotation = 90)\n",
    "plt.title(\"USD Pledged by Main Category and Pct Funded\")\n",
    "sns.barplot(x=df3[\"main_category\"], y = df3[\"usd pledged\"], hue = df3[\"pct_funded_group\"], ci=None)"
   ]
  },
  {
   "cell_type": "code",
   "execution_count": 301,
   "metadata": {},
   "outputs": [
    {
     "data": {
      "text/plain": [
       "<AxesSubplot:title={'center':'USD Pledged by Main Category and Backers'}, xlabel='main_category', ylabel='usd pledged'>"
      ]
     },
     "execution_count": 301,
     "metadata": {},
     "output_type": "execute_result"
    },
    {
     "data": {
      "image/png": "[encoded data removed]",
      "text/plain": [
       "<Figure size 1080x360 with 1 Axes>"
      ]
     },
     "metadata": {
      "needs_background": "light"
     },
     "output_type": "display_data"
    }
   ],
   "source": [
    "plt.figure(figsize = (15,5))\n",
    "plt.xticks(rotation = 90)\n",
    "plt.title(\"USD Pledged by Main Category and Backers\")\n",
    "sns.barplot(x=df3[\"main_category\"], y = df3[\"usd pledged\"], hue = df3[\"backers_group\"], ci=None)"
   ]
  },
  {
   "cell_type": "code",
   "execution_count": 302,
   "metadata": {},
   "outputs": [
    {
     "data": {
      "text/plain": [
       "<AxesSubplot:title={'center':'Pct Funded by Main Category and USD Pledged Group'}, xlabel='main_category', ylabel='pct_funded'>"
      ]
     },
     "execution_count": 302,
     "metadata": {},
     "output_type": "execute_result"
    },
    {
     "data": {
      "image/png": "[encoded data removed]",
      "text/plain": [
       "<Figure size 1080x360 with 1 Axes>"
      ]
     },
     "metadata": {
      "needs_background": "light"
     },
     "output_type": "display_data"
    }
   ],
   "source": [
    "plt.figure(figsize = (15,5))\n",
    "plt.xticks(rotation = 90)\n",
    "plt.title(\"Pct Funded by Main Category and USD Pledged Group\")\n",
    "sns.barplot(x=df3[\"main_category\"], y = df3[\"pct_funded\"], hue = df3[\"usd_pledged_group\"], ci=None)"
   ]
  },
  {
   "cell_type": "code",
   "execution_count": 304,
   "metadata": {},
   "outputs": [
    {
     "name": "stderr",
     "output_type": "stream",
     "text": [
      "C:\\Users\\liket\\anaconda3\\lib\\site-packages\\numpy\\lib\\function_base.py:4009: RuntimeWarning: invalid value encountered in subtract\n",
      "  diff_b_a = subtract(b, a)\n"
     ]
    },
    {
     "data": {
      "text/plain": [
       "<AxesSubplot:title={'center':'Avg Pledge per Backer by Main Category and USD Pledged Group'}, xlabel='main_category', ylabel='avg_pledge_per_backer'>"
      ]
     },
     "execution_count": 304,
     "metadata": {},
     "output_type": "execute_result"
    },
    {
     "data": {
      "image/png": "[encoded data removed]",
      "text/plain": [
       "<Figure size 1080x360 with 1 Axes>"
      ]
     },
     "metadata": {
      "needs_background": "light"
     },
     "output_type": "display_data"
    }
   ],
   "source": [
    "plt.figure(figsize = (15,5))\n",
    "plt.xticks(rotation = 90)\n",
    "plt.title(\"Avg Pledge per Backer by Main Category and USD Pledged Group\")\n",
    "sns.barplot(x=df3[\"main_category\"], y = df3[\"avg_pledge_per_backer\"])"
   ]
  },
  {
   "cell_type": "code",
   "execution_count": 305,
   "metadata": {},
   "outputs": [
    {
     "data": {
      "text/plain": [
       "<AxesSubplot:title={'center':'USD Pledged by Main Category and Pct Funded'}, xlabel='pct_funded_group', ylabel='usd pledged'>"
      ]
     },
     "execution_count": 305,
     "metadata": {},
     "output_type": "execute_result"
    },
    {
     "data": {
      "image/png": "[encoded data removed]",
      "text/plain": [
       "<Figure size 1080x360 with 1 Axes>"
      ]
     },
     "metadata": {
      "needs_background": "light"
     },
     "output_type": "display_data"
    }
   ],
   "source": [
    "plt.figure(figsize = (15,5))\n",
    "plt.xticks(rotation = 90)\n",
    "plt.title(\"USD Pledged by Main Category and Pct Funded\")\n",
    "sns.barplot(x=df3[\"pct_funded_group\"], y = df3[\"usd pledged\"], hue = df3[\"main_category\"], ci=None)"
   ]
  },
  {
   "cell_type": "code",
   "execution_count": 306,
   "metadata": {
    "scrolled": false
   },
   "outputs": [
    {
     "data": {
      "text/plain": [
       "<AxesSubplot:title={'center':'Average Goal by Main Category and State'}, xlabel='main_category', ylabel='goal'>"
      ]
     },
     "execution_count": 306,
     "metadata": {},
     "output_type": "execute_result"
    },
    {
     "data": {
      "image/png": "[encoded data removed]",
      "text/plain": [
       "<Figure size 1080x360 with 1 Axes>"
      ]
     },
     "metadata": {
      "needs_background": "light"
     },
     "output_type": "display_data"
    }
   ],
   "source": [
    "plt.figure(figsize = (15,5))\n",
    "plt.xticks(rotation = 90)\n",
    "plt.title(\"Average Goal by Main Category and State\")\n",
    "sns.barplot(data = df3, x=\"main_category\", y= \"goal\", hue = \"state\", ci = None)"
   ]
  },
  {
   "cell_type": "markdown",
   "metadata": {},
   "source": [
    "# Creating Datasets of Sub-Groups (Main Categories)"
   ]
  },
  {
   "cell_type": "code",
   "execution_count": 307,
   "metadata": {},
   "outputs": [],
   "source": [
    "# for sub-group analysis creating a dataset with main category = food only\n",
    "\n",
    "df3_food = df3.copy()"
   ]
  },
  {
   "cell_type": "code",
   "execution_count": 308,
   "metadata": {},
   "outputs": [
    {
     "data": {
      "text/html": [
       "<div>\n",
       "<style scoped>\n",
       "    .dataframe tbody tr th:only-of-type {\n",
       "        vertical-align: middle;\n",
       "    }\n",
       "\n",
       "    .dataframe tbody tr th {\n",
       "        vertical-align: top;\n",
       "    }\n",
       "\n",
       "    .dataframe thead th {\n",
       "        text-align: right;\n",
       "    }\n",
       "</style>\n",
       "<table border=\"1\" class=\"dataframe\">\n",
       "  <thead>\n",
       "    <tr style=\"text-align: right;\">\n",
       "      <th></th>\n",
       "      <th>name</th>\n",
       "      <th>main_category</th>\n",
       "      <th>category</th>\n",
       "      <th>country</th>\n",
       "      <th>currency</th>\n",
       "      <th>launched</th>\n",
       "      <th>deadline</th>\n",
       "      <th>length_days</th>\n",
       "      <th>goal</th>\n",
       "      <th>usd pledged</th>\n",
       "      <th>backers</th>\n",
       "      <th>state</th>\n",
       "      <th>pct_funded</th>\n",
       "      <th>avg_pledge_per_backer</th>\n",
       "      <th>backers_group</th>\n",
       "      <th>usd_pledged_group</th>\n",
       "      <th>pct_funded_group</th>\n",
       "      <th>Food Main Category</th>\n",
       "    </tr>\n",
       "  </thead>\n",
       "  <tbody>\n",
       "    <tr>\n",
       "      <th>0</th>\n",
       "      <td>French Cuisine</td>\n",
       "      <td>Food</td>\n",
       "      <td>Cookbooks</td>\n",
       "      <td>US</td>\n",
       "      <td>USD</td>\n",
       "      <td>2014-08-09 03:16:02</td>\n",
       "      <td>2014-09-08 00:46:23</td>\n",
       "      <td>29</td>\n",
       "      <td>13730.0</td>\n",
       "      <td>3984.000000</td>\n",
       "      <td>46</td>\n",
       "      <td>failed</td>\n",
       "      <td>29.016752</td>\n",
       "      <td>86.608696</td>\n",
       "      <td>30-59</td>\n",
       "      <td>2,000-4,999</td>\n",
       "      <td>15-89</td>\n",
       "      <td>Y</td>\n",
       "    </tr>\n",
       "    <tr>\n",
       "      <th>1</th>\n",
       "      <td>HotRod Henry SUPERCHARGED - the ultimate 3D pr...</td>\n",
       "      <td>Technology</td>\n",
       "      <td>3D Printing</td>\n",
       "      <td>AT</td>\n",
       "      <td>EUR</td>\n",
       "      <td>2016-06-16 16:30:33</td>\n",
       "      <td>2016-07-21 23:59:00</td>\n",
       "      <td>35</td>\n",
       "      <td>75000.0</td>\n",
       "      <td>1561.784015</td>\n",
       "      <td>31</td>\n",
       "      <td>failed</td>\n",
       "      <td>2.082379</td>\n",
       "      <td>50.380130</td>\n",
       "      <td>30-59</td>\n",
       "      <td>1000-1,999</td>\n",
       "      <td>1-14</td>\n",
       "      <td>N</td>\n",
       "    </tr>\n",
       "    <tr>\n",
       "      <th>2</th>\n",
       "      <td>PHAbulous Philaments - 3D printing: natural an...</td>\n",
       "      <td>Technology</td>\n",
       "      <td>3D Printing</td>\n",
       "      <td>AT</td>\n",
       "      <td>EUR</td>\n",
       "      <td>2015-07-22 12:08:26</td>\n",
       "      <td>2015-08-21 12:08:26</td>\n",
       "      <td>30</td>\n",
       "      <td>15000.0</td>\n",
       "      <td>4152.402045</td>\n",
       "      <td>46</td>\n",
       "      <td>failed</td>\n",
       "      <td>27.682680</td>\n",
       "      <td>90.269610</td>\n",
       "      <td>30-59</td>\n",
       "      <td>2,000-4,999</td>\n",
       "      <td>15-89</td>\n",
       "      <td>N</td>\n",
       "    </tr>\n",
       "    <tr>\n",
       "      <th>3</th>\n",
       "      <td>Schokostruder - Chocolate &amp;  Liquid Extruder f...</td>\n",
       "      <td>Technology</td>\n",
       "      <td>3D Printing</td>\n",
       "      <td>AT</td>\n",
       "      <td>EUR</td>\n",
       "      <td>2016-01-25 18:48:09</td>\n",
       "      <td>2016-02-24 18:48:09</td>\n",
       "      <td>30</td>\n",
       "      <td>20000.0</td>\n",
       "      <td>19.435528</td>\n",
       "      <td>6</td>\n",
       "      <td>failed</td>\n",
       "      <td>0.097178</td>\n",
       "      <td>3.239255</td>\n",
       "      <td>5-14</td>\n",
       "      <td>0-49</td>\n",
       "      <td>0-0.9</td>\n",
       "      <td>N</td>\n",
       "    </tr>\n",
       "    <tr>\n",
       "      <th>4</th>\n",
       "      <td>StarterMate - the 3D printing starter kit for ...</td>\n",
       "      <td>Technology</td>\n",
       "      <td>3D Printing</td>\n",
       "      <td>AT</td>\n",
       "      <td>EUR</td>\n",
       "      <td>2015-09-30 00:26:43</td>\n",
       "      <td>2015-11-09 00:26:43</td>\n",
       "      <td>40</td>\n",
       "      <td>20000.0</td>\n",
       "      <td>2908.076574</td>\n",
       "      <td>29</td>\n",
       "      <td>failed</td>\n",
       "      <td>14.540383</td>\n",
       "      <td>100.278503</td>\n",
       "      <td>15-29</td>\n",
       "      <td>2,000-4,999</td>\n",
       "      <td>1-14</td>\n",
       "      <td>N</td>\n",
       "    </tr>\n",
       "  </tbody>\n",
       "</table>\n",
       "</div>"
      ],
      "text/plain": [
       "                                                name main_category  \\\n",
       "0                                     French Cuisine          Food   \n",
       "1  HotRod Henry SUPERCHARGED - the ultimate 3D pr...    Technology   \n",
       "2  PHAbulous Philaments - 3D printing: natural an...    Technology   \n",
       "3  Schokostruder - Chocolate &  Liquid Extruder f...    Technology   \n",
       "4  StarterMate - the 3D printing starter kit for ...    Technology   \n",
       "\n",
       "      category country currency            launched            deadline  \\\n",
       "0    Cookbooks      US      USD 2014-08-09 03:16:02 2014-09-08 00:46:23   \n",
       "1  3D Printing      AT      EUR 2016-06-16 16:30:33 2016-07-21 23:59:00   \n",
       "2  3D Printing      AT      EUR 2015-07-22 12:08:26 2015-08-21 12:08:26   \n",
       "3  3D Printing      AT      EUR 2016-01-25 18:48:09 2016-02-24 18:48:09   \n",
       "4  3D Printing      AT      EUR 2015-09-30 00:26:43 2015-11-09 00:26:43   \n",
       "\n",
       "   length_days     goal  usd pledged  backers   state  pct_funded  \\\n",
       "0           29  13730.0  3984.000000       46  failed   29.016752   \n",
       "1           35  75000.0  1561.784015       31  failed    2.082379   \n",
       "2           30  15000.0  4152.402045       46  failed   27.682680   \n",
       "3           30  20000.0    19.435528        6  failed    0.097178   \n",
       "4           40  20000.0  2908.076574       29  failed   14.540383   \n",
       "\n",
       "   avg_pledge_per_backer backers_group usd_pledged_group pct_funded_group  \\\n",
       "0              86.608696         30-59       2,000-4,999            15-89   \n",
       "1              50.380130         30-59        1000-1,999             1-14   \n",
       "2              90.269610         30-59       2,000-4,999            15-89   \n",
       "3               3.239255          5-14              0-49            0-0.9   \n",
       "4             100.278503         15-29       2,000-4,999             1-14   \n",
       "\n",
       "  Food Main Category  \n",
       "0                  Y  \n",
       "1                  N  \n",
       "2                  N  \n",
       "3                  N  \n",
       "4                  N  "
      ]
     },
     "execution_count": 308,
     "metadata": {},
     "output_type": "execute_result"
    }
   ],
   "source": [
    "df3_food[\"Food Main Category\"] = np.where(df3[\"main_category\"]==\"Food\", \"Y\", \"N\")\n",
    "df3_food.head()"
   ]
  },
  {
   "cell_type": "code",
   "execution_count": 309,
   "metadata": {},
   "outputs": [],
   "source": [
    "df3_food.drop(df3_food.loc[df3_food[\"Food Main Category\"]==\"N\"].index, inplace = True)"
   ]
  },
  {
   "cell_type": "code",
   "execution_count": 310,
   "metadata": {},
   "outputs": [
    {
     "name": "stdout",
     "output_type": "stream",
     "text": [
      "<class 'pandas.core.frame.DataFrame'>\n",
      "Int64Index: 18827 entries, 0 to 260615\n",
      "Data columns (total 18 columns):\n",
      " #   Column                 Non-Null Count  Dtype         \n",
      "---  ------                 --------------  -----         \n",
      " 0   name                   18827 non-null  object        \n",
      " 1   main_category          18827 non-null  object        \n",
      " 2   category               18827 non-null  object        \n",
      " 3   country                18827 non-null  object        \n",
      " 4   currency               18827 non-null  object        \n",
      " 5   launched               18827 non-null  datetime64[ns]\n",
      " 6   deadline               18827 non-null  datetime64[ns]\n",
      " 7   length_days            18827 non-null  int64         \n",
      " 8   goal                   18827 non-null  float64       \n",
      " 9   usd pledged            18827 non-null  float64       \n",
      " 10  backers                18827 non-null  int64         \n",
      " 11  state                  18827 non-null  object        \n",
      " 12  pct_funded             18827 non-null  float64       \n",
      " 13  avg_pledge_per_backer  16055 non-null  float64       \n",
      " 14  backers_group          16052 non-null  category      \n",
      " 15  usd_pledged_group      15706 non-null  category      \n",
      " 16  pct_funded_group       15706 non-null  category      \n",
      " 17  Food Main Category     18827 non-null  object        \n",
      "dtypes: category(3), datetime64[ns](2), float64(4), int64(2), object(7)\n",
      "memory usage: 2.4+ MB\n"
     ]
    }
   ],
   "source": [
    "df3_food.info()"
   ]
  },
  {
   "cell_type": "code",
   "execution_count": 311,
   "metadata": {},
   "outputs": [
    {
     "name": "stdout",
     "output_type": "stream",
     "text": [
      "<class 'pandas.core.frame.DataFrame'>\n",
      "Int64Index: 278002 entries, 0 to 281855\n",
      "Data columns (total 18 columns):\n",
      " #   Column                 Non-Null Count   Dtype         \n",
      "---  ------                 --------------   -----         \n",
      " 0   name                   278002 non-null  object        \n",
      " 1   main_category          278002 non-null  object        \n",
      " 2   category               278002 non-null  object        \n",
      " 3   country                278002 non-null  object        \n",
      " 4   currency               278002 non-null  object        \n",
      " 5   launched               278002 non-null  datetime64[ns]\n",
      " 6   deadline               278002 non-null  datetime64[ns]\n",
      " 7   length_days            278002 non-null  int64         \n",
      " 8   goal                   278002 non-null  float64       \n",
      " 9   usd pledged            278002 non-null  float64       \n",
      " 10  backers                278002 non-null  int64         \n",
      " 11  state                  278002 non-null  object        \n",
      " 12  pct_funded             278002 non-null  float64       \n",
      " 13  avg_pledge_per_backer  244743 non-null  float64       \n",
      " 14  backers_group          244725 non-null  category      \n",
      " 15  usd_pledged_group      240499 non-null  category      \n",
      " 16  pct_funded_group       240499 non-null  category      \n",
      " 17  Tech Main Category     278002 non-null  object        \n",
      "dtypes: category(3), datetime64[ns](2), float64(4), int64(2), object(7)\n",
      "memory usage: 42.8+ MB\n"
     ]
    }
   ],
   "source": [
    "# for sub-group analysis creating a dataset with main category = techonology only\n",
    "\n",
    "df3_tech = df3.copy()\n",
    "df3_tech[\"Tech Main Category\"] = np.where(df3[\"main_category\"]==\"Technology\", \"Y\", \"N\")\n",
    "df3_tech.info()"
   ]
  },
  {
   "cell_type": "code",
   "execution_count": 312,
   "metadata": {},
   "outputs": [
    {
     "name": "stdout",
     "output_type": "stream",
     "text": [
      "<class 'pandas.core.frame.DataFrame'>\n",
      "Int64Index: 20730 entries, 1 to 273153\n",
      "Data columns (total 18 columns):\n",
      " #   Column                 Non-Null Count  Dtype         \n",
      "---  ------                 --------------  -----         \n",
      " 0   name                   20730 non-null  object        \n",
      " 1   main_category          20730 non-null  object        \n",
      " 2   category               20730 non-null  object        \n",
      " 3   country                20730 non-null  object        \n",
      " 4   currency               20730 non-null  object        \n",
      " 5   launched               20730 non-null  datetime64[ns]\n",
      " 6   deadline               20730 non-null  datetime64[ns]\n",
      " 7   length_days            20730 non-null  int64         \n",
      " 8   goal                   20730 non-null  float64       \n",
      " 9   usd pledged            20730 non-null  float64       \n",
      " 10  backers                20730 non-null  int64         \n",
      " 11  state                  20730 non-null  object        \n",
      " 12  pct_funded             20730 non-null  float64       \n",
      " 13  avg_pledge_per_backer  17505 non-null  float64       \n",
      " 14  backers_group          17504 non-null  category      \n",
      " 15  usd_pledged_group      17015 non-null  category      \n",
      " 16  pct_funded_group       17015 non-null  category      \n",
      " 17  Tech Main Category     20730 non-null  object        \n",
      "dtypes: category(3), datetime64[ns](2), float64(4), int64(2), object(7)\n",
      "memory usage: 2.6+ MB\n"
     ]
    }
   ],
   "source": [
    "df3_tech.drop(df3_tech.loc[df3_tech[\"Tech Main Category\"]==\"N\"].index, inplace = True)\n",
    "df3_tech.info()"
   ]
  },
  {
   "cell_type": "code",
   "execution_count": 313,
   "metadata": {},
   "outputs": [
    {
     "name": "stdout",
     "output_type": "stream",
     "text": [
      "<class 'pandas.core.frame.DataFrame'>\n",
      "Int64Index: 278002 entries, 0 to 281855\n",
      "Data columns (total 18 columns):\n",
      " #   Column                    Non-Null Count   Dtype         \n",
      "---  ------                    --------------   -----         \n",
      " 0   name                      278002 non-null  object        \n",
      " 1   main_category             278002 non-null  object        \n",
      " 2   category                  278002 non-null  object        \n",
      " 3   country                   278002 non-null  object        \n",
      " 4   currency                  278002 non-null  object        \n",
      " 5   launched                  278002 non-null  datetime64[ns]\n",
      " 6   deadline                  278002 non-null  datetime64[ns]\n",
      " 7   length_days               278002 non-null  int64         \n",
      " 8   goal                      278002 non-null  float64       \n",
      " 9   usd pledged               278002 non-null  float64       \n",
      " 10  backers                   278002 non-null  int64         \n",
      " 11  state                     278002 non-null  object        \n",
      " 12  pct_funded                278002 non-null  float64       \n",
      " 13  avg_pledge_per_backer     244743 non-null  float64       \n",
      " 14  backers_group             244725 non-null  category      \n",
      " 15  usd_pledged_group         240499 non-null  category      \n",
      " 16  pct_funded_group          240499 non-null  category      \n",
      " 17  Publishing Main Category  278002 non-null  object        \n",
      "dtypes: category(3), datetime64[ns](2), float64(4), int64(2), object(7)\n",
      "memory usage: 42.8+ MB\n"
     ]
    }
   ],
   "source": [
    "# for sub-group analysis creating a dataset with main category = publishing only\n",
    "\n",
    "df3_pub = df3.copy()\n",
    "df3_pub[\"Publishing Main Category\"] = np.where(df3_pub[\"main_category\"]==\"Publishing\", \"Y\", \"N\")\n",
    "df3_pub.info()"
   ]
  },
  {
   "cell_type": "code",
   "execution_count": 314,
   "metadata": {},
   "outputs": [
    {
     "name": "stdout",
     "output_type": "stream",
     "text": [
      "<class 'pandas.core.frame.DataFrame'>\n",
      "Int64Index: 30150 entries, 456 to 281855\n",
      "Data columns (total 18 columns):\n",
      " #   Column                    Non-Null Count  Dtype         \n",
      "---  ------                    --------------  -----         \n",
      " 0   name                      30150 non-null  object        \n",
      " 1   main_category             30150 non-null  object        \n",
      " 2   category                  30150 non-null  object        \n",
      " 3   country                   30150 non-null  object        \n",
      " 4   currency                  30150 non-null  object        \n",
      " 5   launched                  30150 non-null  datetime64[ns]\n",
      " 6   deadline                  30150 non-null  datetime64[ns]\n",
      " 7   length_days               30150 non-null  int64         \n",
      " 8   goal                      30150 non-null  float64       \n",
      " 9   usd pledged               30150 non-null  float64       \n",
      " 10  backers                   30150 non-null  int64         \n",
      " 11  state                     30150 non-null  object        \n",
      " 12  pct_funded                30150 non-null  float64       \n",
      " 13  avg_pledge_per_backer     25642 non-null  float64       \n",
      " 14  backers_group             25640 non-null  category      \n",
      " 15  usd_pledged_group         25147 non-null  category      \n",
      " 16  pct_funded_group          25147 non-null  category      \n",
      " 17  Publishing Main Category  30150 non-null  object        \n",
      "dtypes: category(3), datetime64[ns](2), float64(4), int64(2), object(7)\n",
      "memory usage: 3.8+ MB\n"
     ]
    }
   ],
   "source": [
    "df3_pub.drop(df3_pub.loc[df3_pub[\"Publishing Main Category\"]==\"N\"].index, inplace = True)\n",
    "df3_pub.info()"
   ]
  },
  {
   "cell_type": "code",
   "execution_count": 315,
   "metadata": {},
   "outputs": [
    {
     "name": "stdout",
     "output_type": "stream",
     "text": [
      "<class 'pandas.core.frame.DataFrame'>\n",
      "Int64Index: 278002 entries, 0 to 281855\n",
      "Data columns (total 18 columns):\n",
      " #   Column                 Non-Null Count   Dtype         \n",
      "---  ------                 --------------   -----         \n",
      " 0   name                   278002 non-null  object        \n",
      " 1   main_category          278002 non-null  object        \n",
      " 2   category               278002 non-null  object        \n",
      " 3   country                278002 non-null  object        \n",
      " 4   currency               278002 non-null  object        \n",
      " 5   launched               278002 non-null  datetime64[ns]\n",
      " 6   deadline               278002 non-null  datetime64[ns]\n",
      " 7   length_days            278002 non-null  int64         \n",
      " 8   goal                   278002 non-null  float64       \n",
      " 9   usd pledged            278002 non-null  float64       \n",
      " 10  backers                278002 non-null  int64         \n",
      " 11  state                  278002 non-null  object        \n",
      " 12  pct_funded             278002 non-null  float64       \n",
      " 13  avg_pledge_per_backer  244743 non-null  float64       \n",
      " 14  backers_group          244725 non-null  category      \n",
      " 15  usd_pledged_group      240499 non-null  category      \n",
      " 16  pct_funded_group       240499 non-null  category      \n",
      " 17  Fashion Main Category  278002 non-null  object        \n",
      "dtypes: category(3), datetime64[ns](2), float64(4), int64(2), object(7)\n",
      "memory usage: 42.8+ MB\n"
     ]
    }
   ],
   "source": [
    "# for sub-group analysis creating a dataset with main category = fashion only\n",
    "\n",
    "df3_fash = df3.copy()\n",
    "df3_fash[\"Fashion Main Category\"] = np.where(df3_fash[\"main_category\"]==\"Fashion\", \"Y\", \"N\")\n",
    "df3_fash.info()"
   ]
  },
  {
   "cell_type": "code",
   "execution_count": 316,
   "metadata": {},
   "outputs": [
    {
     "name": "stdout",
     "output_type": "stream",
     "text": [
      "<class 'pandas.core.frame.DataFrame'>\n",
      "Int64Index: 15728 entries, 1046 to 212623\n",
      "Data columns (total 18 columns):\n",
      " #   Column                 Non-Null Count  Dtype         \n",
      "---  ------                 --------------  -----         \n",
      " 0   name                   15728 non-null  object        \n",
      " 1   main_category          15728 non-null  object        \n",
      " 2   category               15728 non-null  object        \n",
      " 3   country                15728 non-null  object        \n",
      " 4   currency               15728 non-null  object        \n",
      " 5   launched               15728 non-null  datetime64[ns]\n",
      " 6   deadline               15728 non-null  datetime64[ns]\n",
      " 7   length_days            15728 non-null  int64         \n",
      " 8   goal                   15728 non-null  float64       \n",
      " 9   usd pledged            15728 non-null  float64       \n",
      " 10  backers                15728 non-null  int64         \n",
      " 11  state                  15728 non-null  object        \n",
      " 12  pct_funded             15728 non-null  float64       \n",
      " 13  avg_pledge_per_backer  12850 non-null  float64       \n",
      " 14  backers_group          12848 non-null  category      \n",
      " 15  usd_pledged_group      12523 non-null  category      \n",
      " 16  pct_funded_group       12523 non-null  category      \n",
      " 17  Fashion Main Category  15728 non-null  object        \n",
      "dtypes: category(3), datetime64[ns](2), float64(4), int64(2), object(7)\n",
      "memory usage: 2.0+ MB\n"
     ]
    }
   ],
   "source": [
    "df3_fash.drop(df3_fash.loc[df3_fash[\"Fashion Main Category\"]==\"N\"].index, inplace = True)\n",
    "df3_fash.info()"
   ]
  },
  {
   "cell_type": "code",
   "execution_count": 317,
   "metadata": {},
   "outputs": [
    {
     "name": "stdout",
     "output_type": "stream",
     "text": [
      "<class 'pandas.core.frame.DataFrame'>\n",
      "Int64Index: 278002 entries, 0 to 281855\n",
      "Data columns (total 18 columns):\n",
      " #   Column                      Non-Null Count   Dtype         \n",
      "---  ------                      --------------   -----         \n",
      " 0   name                        278002 non-null  object        \n",
      " 1   main_category               278002 non-null  object        \n",
      " 2   category                    278002 non-null  object        \n",
      " 3   country                     278002 non-null  object        \n",
      " 4   currency                    278002 non-null  object        \n",
      " 5   launched                    278002 non-null  datetime64[ns]\n",
      " 6   deadline                    278002 non-null  datetime64[ns]\n",
      " 7   length_days                 278002 non-null  int64         \n",
      " 8   goal                        278002 non-null  float64       \n",
      " 9   usd pledged                 278002 non-null  float64       \n",
      " 10  backers                     278002 non-null  int64         \n",
      " 11  state                       278002 non-null  object        \n",
      " 12  pct_funded                  278002 non-null  float64       \n",
      " 13  avg_pledge_per_backer       244743 non-null  float64       \n",
      " 14  backers_group               244725 non-null  category      \n",
      " 15  usd_pledged_group           240499 non-null  category      \n",
      " 16  pct_funded_group            240499 non-null  category      \n",
      " 17  Film & Video Main Category  278002 non-null  object        \n",
      "dtypes: category(3), datetime64[ns](2), float64(4), int64(2), object(7)\n",
      "memory usage: 42.8+ MB\n"
     ]
    }
   ],
   "source": [
    "# for sub-group analysis creating a dataset with main category = film & video only\n",
    "\n",
    "df3_film = df3.copy()\n",
    "df3_film[\"Film & Video Main Category\"] = np.where(df3_film[\"main_category\"]==\"Film & Video\", \"Y\", \"N\")\n",
    "df3_film.info()"
   ]
  },
  {
   "cell_type": "code",
   "execution_count": 318,
   "metadata": {},
   "outputs": [
    {
     "name": "stdout",
     "output_type": "stream",
     "text": [
      "<class 'pandas.core.frame.DataFrame'>\n",
      "Int64Index: 50747 entries, 2784 to 278356\n",
      "Data columns (total 18 columns):\n",
      " #   Column                      Non-Null Count  Dtype         \n",
      "---  ------                      --------------  -----         \n",
      " 0   name                        50747 non-null  object        \n",
      " 1   main_category               50747 non-null  object        \n",
      " 2   category                    50747 non-null  object        \n",
      " 3   country                     50747 non-null  object        \n",
      " 4   currency                    50747 non-null  object        \n",
      " 5   launched                    50747 non-null  datetime64[ns]\n",
      " 6   deadline                    50747 non-null  datetime64[ns]\n",
      " 7   length_days                 50747 non-null  int64         \n",
      " 8   goal                        50747 non-null  float64       \n",
      " 9   usd pledged                 50747 non-null  float64       \n",
      " 10  backers                     50747 non-null  int64         \n",
      " 11  state                       50747 non-null  object        \n",
      " 12  pct_funded                  50747 non-null  float64       \n",
      " 13  avg_pledge_per_backer       44413 non-null  float64       \n",
      " 14  backers_group               44411 non-null  category      \n",
      " 15  usd_pledged_group           43807 non-null  category      \n",
      " 16  pct_funded_group            43807 non-null  category      \n",
      " 17  Film & Video Main Category  50747 non-null  object        \n",
      "dtypes: category(3), datetime64[ns](2), float64(4), int64(2), object(7)\n",
      "memory usage: 6.3+ MB\n"
     ]
    }
   ],
   "source": [
    "df3_film.drop(df3_film.loc[df3_film[\"Film & Video Main Category\"]==\"N\"].index, inplace = True)\n",
    "df3_film.info()"
   ]
  },
  {
   "cell_type": "code",
   "execution_count": 319,
   "metadata": {},
   "outputs": [
    {
     "name": "stdout",
     "output_type": "stream",
     "text": [
      "<class 'pandas.core.frame.DataFrame'>\n",
      "Int64Index: 278002 entries, 0 to 281855\n",
      "Data columns (total 18 columns):\n",
      " #   Column                     Non-Null Count   Dtype         \n",
      "---  ------                     --------------   -----         \n",
      " 0   name                       278002 non-null  object        \n",
      " 1   main_category              278002 non-null  object        \n",
      " 2   category                   278002 non-null  object        \n",
      " 3   country                    278002 non-null  object        \n",
      " 4   currency                   278002 non-null  object        \n",
      " 5   launched                   278002 non-null  datetime64[ns]\n",
      " 6   deadline                   278002 non-null  datetime64[ns]\n",
      " 7   length_days                278002 non-null  int64         \n",
      " 8   goal                       278002 non-null  float64       \n",
      " 9   usd pledged                278002 non-null  float64       \n",
      " 10  backers                    278002 non-null  int64         \n",
      " 11  state                      278002 non-null  object        \n",
      " 12  pct_funded                 278002 non-null  float64       \n",
      " 13  avg_pledge_per_backer      244743 non-null  float64       \n",
      " 14  backers_group              244725 non-null  category      \n",
      " 15  usd_pledged_group          240499 non-null  category      \n",
      " 16  pct_funded_group           240499 non-null  category      \n",
      " 17  Photography Main Category  278002 non-null  object        \n",
      "dtypes: category(3), datetime64[ns](2), float64(4), int64(2), object(7)\n",
      "memory usage: 42.8+ MB\n"
     ]
    }
   ],
   "source": [
    "# for sub-group analysis creating a dataset with main category = photography only\n",
    "\n",
    "df3_photo = df3.copy()\n",
    "df3_photo[\"Photography Main Category\"] = np.where(df3_photo[\"main_category\"]==\"Photography\", \"Y\", \"N\")\n",
    "df3_photo.info()"
   ]
  },
  {
   "cell_type": "code",
   "execution_count": 320,
   "metadata": {},
   "outputs": [
    {
     "name": "stdout",
     "output_type": "stream",
     "text": [
      "<class 'pandas.core.frame.DataFrame'>\n",
      "Int64Index: 8656 entries, 3279 to 182183\n",
      "Data columns (total 18 columns):\n",
      " #   Column                     Non-Null Count  Dtype         \n",
      "---  ------                     --------------  -----         \n",
      " 0   name                       8656 non-null   object        \n",
      " 1   main_category              8656 non-null   object        \n",
      " 2   category                   8656 non-null   object        \n",
      " 3   country                    8656 non-null   object        \n",
      " 4   currency                   8656 non-null   object        \n",
      " 5   launched                   8656 non-null   datetime64[ns]\n",
      " 6   deadline                   8656 non-null   datetime64[ns]\n",
      " 7   length_days                8656 non-null   int64         \n",
      " 8   goal                       8656 non-null   float64       \n",
      " 9   usd pledged                8656 non-null   float64       \n",
      " 10  backers                    8656 non-null   int64         \n",
      " 11  state                      8656 non-null   object        \n",
      " 12  pct_funded                 8656 non-null   float64       \n",
      " 13  avg_pledge_per_backer      7323 non-null   float64       \n",
      " 14  backers_group              7323 non-null   category      \n",
      " 15  usd_pledged_group          7200 non-null   category      \n",
      " 16  pct_funded_group           7200 non-null   category      \n",
      " 17  Photography Main Category  8656 non-null   object        \n",
      "dtypes: category(3), datetime64[ns](2), float64(4), int64(2), object(7)\n",
      "memory usage: 1.1+ MB\n"
     ]
    }
   ],
   "source": [
    "df3_photo.drop(df3_photo.loc[df3_photo[\"Photography Main Category\"]==\"N\"].index, inplace = True)\n",
    "df3_photo.info()"
   ]
  },
  {
   "cell_type": "code",
   "execution_count": 321,
   "metadata": {},
   "outputs": [
    {
     "name": "stdout",
     "output_type": "stream",
     "text": [
      "<class 'pandas.core.frame.DataFrame'>\n",
      "Int64Index: 278002 entries, 0 to 281855\n",
      "Data columns (total 18 columns):\n",
      " #   Column                 Non-Null Count   Dtype         \n",
      "---  ------                 --------------   -----         \n",
      " 0   name                   278002 non-null  object        \n",
      " 1   main_category          278002 non-null  object        \n",
      " 2   category               278002 non-null  object        \n",
      " 3   country                278002 non-null  object        \n",
      " 4   currency               278002 non-null  object        \n",
      " 5   launched               278002 non-null  datetime64[ns]\n",
      " 6   deadline               278002 non-null  datetime64[ns]\n",
      " 7   length_days            278002 non-null  int64         \n",
      " 8   goal                   278002 non-null  float64       \n",
      " 9   usd pledged            278002 non-null  float64       \n",
      " 10  backers                278002 non-null  int64         \n",
      " 11  state                  278002 non-null  object        \n",
      " 12  pct_funded             278002 non-null  float64       \n",
      " 13  avg_pledge_per_backer  244743 non-null  float64       \n",
      " 14  backers_group          244725 non-null  category      \n",
      " 15  usd_pledged_group      240499 non-null  category      \n",
      " 16  pct_funded_group       240499 non-null  category      \n",
      " 17  Comics Main Category   278002 non-null  object        \n",
      "dtypes: category(3), datetime64[ns](2), float64(4), int64(2), object(7)\n",
      "memory usage: 42.8+ MB\n"
     ]
    }
   ],
   "source": [
    "# for sub-group analysis creating a dataset with main category = comics only\n",
    "\n",
    "df3_comics = df3.copy()\n",
    "df3_comics[\"Comics Main Category\"] = np.where(df3_comics[\"main_category\"]==\"Comics\", \"Y\", \"N\")\n",
    "df3_comics.info()"
   ]
  },
  {
   "cell_type": "code",
   "execution_count": 322,
   "metadata": {},
   "outputs": [
    {
     "name": "stdout",
     "output_type": "stream",
     "text": [
      "<class 'pandas.core.frame.DataFrame'>\n",
      "Int64Index: 7774 entries, 5443 to 273584\n",
      "Data columns (total 18 columns):\n",
      " #   Column                 Non-Null Count  Dtype         \n",
      "---  ------                 --------------  -----         \n",
      " 0   name                   7774 non-null   object        \n",
      " 1   main_category          7774 non-null   object        \n",
      " 2   category               7774 non-null   object        \n",
      " 3   country                7774 non-null   object        \n",
      " 4   currency               7774 non-null   object        \n",
      " 5   launched               7774 non-null   datetime64[ns]\n",
      " 6   deadline               7774 non-null   datetime64[ns]\n",
      " 7   length_days            7774 non-null   int64         \n",
      " 8   goal                   7774 non-null   float64       \n",
      " 9   usd pledged            7774 non-null   float64       \n",
      " 10  backers                7774 non-null   int64         \n",
      " 11  state                  7774 non-null   object        \n",
      " 12  pct_funded             7774 non-null   float64       \n",
      " 13  avg_pledge_per_backer  7534 non-null   float64       \n",
      " 14  backers_group          7534 non-null   category      \n",
      " 15  usd_pledged_group      7444 non-null   category      \n",
      " 16  pct_funded_group       7444 non-null   category      \n",
      " 17  Comics Main Category   7774 non-null   object        \n",
      "dtypes: category(3), datetime64[ns](2), float64(4), int64(2), object(7)\n",
      "memory usage: 995.3+ KB\n"
     ]
    }
   ],
   "source": [
    "df3_comics.drop(df3_comics.loc[df3_comics[\"Comics Main Category\"]==\"N\"].index, inplace = True)\n",
    "df3_comics.info()"
   ]
  },
  {
   "cell_type": "code",
   "execution_count": 323,
   "metadata": {},
   "outputs": [
    {
     "name": "stdout",
     "output_type": "stream",
     "text": [
      "<class 'pandas.core.frame.DataFrame'>\n",
      "Int64Index: 278002 entries, 0 to 281855\n",
      "Data columns (total 18 columns):\n",
      " #   Column                 Non-Null Count   Dtype         \n",
      "---  ------                 --------------   -----         \n",
      " 0   name                   278002 non-null  object        \n",
      " 1   main_category          278002 non-null  object        \n",
      " 2   category               278002 non-null  object        \n",
      " 3   country                278002 non-null  object        \n",
      " 4   currency               278002 non-null  object        \n",
      " 5   launched               278002 non-null  datetime64[ns]\n",
      " 6   deadline               278002 non-null  datetime64[ns]\n",
      " 7   length_days            278002 non-null  int64         \n",
      " 8   goal                   278002 non-null  float64       \n",
      " 9   usd pledged            278002 non-null  float64       \n",
      " 10  backers                278002 non-null  int64         \n",
      " 11  state                  278002 non-null  object        \n",
      " 12  pct_funded             278002 non-null  float64       \n",
      " 13  avg_pledge_per_backer  244743 non-null  float64       \n",
      " 14  backers_group          244725 non-null  category      \n",
      " 15  usd_pledged_group      240499 non-null  category      \n",
      " 16  pct_funded_group       240499 non-null  category      \n",
      " 17  Design Main Category   278002 non-null  object        \n",
      "dtypes: category(3), datetime64[ns](2), float64(4), int64(2), object(7)\n",
      "memory usage: 42.8+ MB\n"
     ]
    }
   ],
   "source": [
    "# for sub-group analysis creating a dataset with main category = design only\n",
    "\n",
    "df3_design = df3.copy()\n",
    "df3_design[\"Design Main Category\"] = np.where(df3_design[\"main_category\"]==\"Design\", \"Y\", \"N\")\n",
    "df3_design.info()"
   ]
  },
  {
   "cell_type": "code",
   "execution_count": 324,
   "metadata": {},
   "outputs": [
    {
     "name": "stdout",
     "output_type": "stream",
     "text": [
      "<class 'pandas.core.frame.DataFrame'>\n",
      "Int64Index: 19244 entries, 14594 to 260245\n",
      "Data columns (total 18 columns):\n",
      " #   Column                 Non-Null Count  Dtype         \n",
      "---  ------                 --------------  -----         \n",
      " 0   name                   19244 non-null  object        \n",
      " 1   main_category          19244 non-null  object        \n",
      " 2   category               19244 non-null  object        \n",
      " 3   country                19244 non-null  object        \n",
      " 4   currency               19244 non-null  object        \n",
      " 5   launched               19244 non-null  datetime64[ns]\n",
      " 6   deadline               19244 non-null  datetime64[ns]\n",
      " 7   length_days            19244 non-null  int64         \n",
      " 8   goal                   19244 non-null  float64       \n",
      " 9   usd pledged            19244 non-null  float64       \n",
      " 10  backers                19244 non-null  int64         \n",
      " 11  state                  19244 non-null  object        \n",
      " 12  pct_funded             19244 non-null  float64       \n",
      " 13  avg_pledge_per_backer  18172 non-null  float64       \n",
      " 14  backers_group          18168 non-null  category      \n",
      " 15  usd_pledged_group      17930 non-null  category      \n",
      " 16  pct_funded_group       17930 non-null  category      \n",
      " 17  Design Main Category   19244 non-null  object        \n",
      "dtypes: category(3), datetime64[ns](2), float64(4), int64(2), object(7)\n",
      "memory usage: 2.4+ MB\n"
     ]
    }
   ],
   "source": [
    "df3_design.drop(df3_design.loc[df3_design[\"Design Main Category\"]==\"N\"].index, inplace = True)\n",
    "df3_design.info()"
   ]
  },
  {
   "cell_type": "code",
   "execution_count": 325,
   "metadata": {},
   "outputs": [
    {
     "name": "stdout",
     "output_type": "stream",
     "text": [
      "<class 'pandas.core.frame.DataFrame'>\n",
      "Int64Index: 278002 entries, 0 to 281855\n",
      "Data columns (total 18 columns):\n",
      " #   Column                 Non-Null Count   Dtype         \n",
      "---  ------                 --------------   -----         \n",
      " 0   name                   278002 non-null  object        \n",
      " 1   main_category          278002 non-null  object        \n",
      " 2   category               278002 non-null  object        \n",
      " 3   country                278002 non-null  object        \n",
      " 4   currency               278002 non-null  object        \n",
      " 5   launched               278002 non-null  datetime64[ns]\n",
      " 6   deadline               278002 non-null  datetime64[ns]\n",
      " 7   length_days            278002 non-null  int64         \n",
      " 8   goal                   278002 non-null  float64       \n",
      " 9   usd pledged            278002 non-null  float64       \n",
      " 10  backers                278002 non-null  int64         \n",
      " 11  state                  278002 non-null  object        \n",
      " 12  pct_funded             278002 non-null  float64       \n",
      " 13  avg_pledge_per_backer  244743 non-null  float64       \n",
      " 14  backers_group          244725 non-null  category      \n",
      " 15  usd_pledged_group      240499 non-null  category      \n",
      " 16  pct_funded_group       240499 non-null  category      \n",
      " 17  Art Main Category      278002 non-null  object        \n",
      "dtypes: category(3), datetime64[ns](2), float64(4), int64(2), object(7)\n",
      "memory usage: 42.8+ MB\n"
     ]
    }
   ],
   "source": [
    "# for sub-group analysis creating a dataset with main category = art only\n",
    "\n",
    "df3_art = df3.copy()\n",
    "df3_art[\"Art Main Category\"] = np.where(df3_art[\"main_category\"]==\"Art\", \"Y\", \"N\")\n",
    "df3_art.info()"
   ]
  },
  {
   "cell_type": "code",
   "execution_count": 326,
   "metadata": {},
   "outputs": [
    {
     "name": "stdout",
     "output_type": "stream",
     "text": [
      "<class 'pandas.core.frame.DataFrame'>\n",
      "Int64Index: 21751 entries, 15125 to 261057\n",
      "Data columns (total 18 columns):\n",
      " #   Column                 Non-Null Count  Dtype         \n",
      "---  ------                 --------------  -----         \n",
      " 0   name                   21751 non-null  object        \n",
      " 1   main_category          21751 non-null  object        \n",
      " 2   category               21751 non-null  object        \n",
      " 3   country                21751 non-null  object        \n",
      " 4   currency               21751 non-null  object        \n",
      " 5   launched               21751 non-null  datetime64[ns]\n",
      " 6   deadline               21751 non-null  datetime64[ns]\n",
      " 7   length_days            21751 non-null  int64         \n",
      " 8   goal                   21751 non-null  float64       \n",
      " 9   usd pledged            21751 non-null  float64       \n",
      " 10  backers                21751 non-null  int64         \n",
      " 11  state                  21751 non-null  object        \n",
      " 12  pct_funded             21751 non-null  float64       \n",
      " 13  avg_pledge_per_backer  19109 non-null  float64       \n",
      " 14  backers_group          19109 non-null  category      \n",
      " 15  usd_pledged_group      18759 non-null  category      \n",
      " 16  pct_funded_group       18759 non-null  category      \n",
      " 17  Art Main Category      21751 non-null  object        \n",
      "dtypes: category(3), datetime64[ns](2), float64(4), int64(2), object(7)\n",
      "memory usage: 2.7+ MB\n"
     ]
    }
   ],
   "source": [
    "df3_art.drop(df3_art.loc[df3_art[\"Art Main Category\"]==\"N\"].index, inplace = True)\n",
    "df3_art.info()"
   ]
  },
  {
   "cell_type": "code",
   "execution_count": 327,
   "metadata": {},
   "outputs": [
    {
     "name": "stdout",
     "output_type": "stream",
     "text": [
      "<class 'pandas.core.frame.DataFrame'>\n",
      "Int64Index: 278002 entries, 0 to 281855\n",
      "Data columns (total 18 columns):\n",
      " #   Column                    Non-Null Count   Dtype         \n",
      "---  ------                    --------------   -----         \n",
      " 0   name                      278002 non-null  object        \n",
      " 1   main_category             278002 non-null  object        \n",
      " 2   category                  278002 non-null  object        \n",
      " 3   country                   278002 non-null  object        \n",
      " 4   currency                  278002 non-null  object        \n",
      " 5   launched                  278002 non-null  datetime64[ns]\n",
      " 6   deadline                  278002 non-null  datetime64[ns]\n",
      " 7   length_days               278002 non-null  int64         \n",
      " 8   goal                      278002 non-null  float64       \n",
      " 9   usd pledged               278002 non-null  float64       \n",
      " 10  backers                   278002 non-null  int64         \n",
      " 11  state                     278002 non-null  object        \n",
      " 12  pct_funded                278002 non-null  float64       \n",
      " 13  avg_pledge_per_backer     244743 non-null  float64       \n",
      " 14  backers_group             244725 non-null  category      \n",
      " 15  usd_pledged_group         240499 non-null  category      \n",
      " 16  pct_funded_group          240499 non-null  category      \n",
      " 17  Journalism Main Category  278002 non-null  object        \n",
      "dtypes: category(3), datetime64[ns](2), float64(4), int64(2), object(7)\n",
      "memory usage: 42.8+ MB\n"
     ]
    }
   ],
   "source": [
    "# for sub-group analysis creating a dataset with main category = journalism only\n",
    "\n",
    "df3_journ = df3.copy()\n",
    "df3_journ[\"Journalism Main Category\"] = np.where(df3_journ[\"main_category\"]==\"Journalism\", \"Y\", \"N\")\n",
    "df3_journ.info()"
   ]
  },
  {
   "cell_type": "code",
   "execution_count": 328,
   "metadata": {},
   "outputs": [
    {
     "name": "stdout",
     "output_type": "stream",
     "text": [
      "<class 'pandas.core.frame.DataFrame'>\n",
      "Int64Index: 3519 entries, 23416 to 273155\n",
      "Data columns (total 18 columns):\n",
      " #   Column                    Non-Null Count  Dtype         \n",
      "---  ------                    --------------  -----         \n",
      " 0   name                      3519 non-null   object        \n",
      " 1   main_category             3519 non-null   object        \n",
      " 2   category                  3519 non-null   object        \n",
      " 3   country                   3519 non-null   object        \n",
      " 4   currency                  3519 non-null   object        \n",
      " 5   launched                  3519 non-null   datetime64[ns]\n",
      " 6   deadline                  3519 non-null   datetime64[ns]\n",
      " 7   length_days               3519 non-null   int64         \n",
      " 8   goal                      3519 non-null   float64       \n",
      " 9   usd pledged               3519 non-null   float64       \n",
      " 10  backers                   3519 non-null   int64         \n",
      " 11  state                     3519 non-null   object        \n",
      " 12  pct_funded                3519 non-null   float64       \n",
      " 13  avg_pledge_per_backer     2742 non-null   float64       \n",
      " 14  backers_group             2742 non-null   category      \n",
      " 15  usd_pledged_group         2653 non-null   category      \n",
      " 16  pct_funded_group          2653 non-null   category      \n",
      " 17  Journalism Main Category  3519 non-null   object        \n",
      "dtypes: category(3), datetime64[ns](2), float64(4), int64(2), object(7)\n",
      "memory usage: 451.0+ KB\n"
     ]
    }
   ],
   "source": [
    "df3_journ.drop(df3_journ.loc[df3_journ[\"Journalism Main Category\"]==\"N\"].index, inplace = True)\n",
    "df3_journ.info()"
   ]
  },
  {
   "cell_type": "code",
   "execution_count": 329,
   "metadata": {},
   "outputs": [
    {
     "name": "stdout",
     "output_type": "stream",
     "text": [
      "<class 'pandas.core.frame.DataFrame'>\n",
      "Int64Index: 278002 entries, 0 to 281855\n",
      "Data columns (total 18 columns):\n",
      " #   Column                 Non-Null Count   Dtype         \n",
      "---  ------                 --------------   -----         \n",
      " 0   name                   278002 non-null  object        \n",
      " 1   main_category          278002 non-null  object        \n",
      " 2   category               278002 non-null  object        \n",
      " 3   country                278002 non-null  object        \n",
      " 4   currency               278002 non-null  object        \n",
      " 5   launched               278002 non-null  datetime64[ns]\n",
      " 6   deadline               278002 non-null  datetime64[ns]\n",
      " 7   length_days            278002 non-null  int64         \n",
      " 8   goal                   278002 non-null  float64       \n",
      " 9   usd pledged            278002 non-null  float64       \n",
      " 10  backers                278002 non-null  int64         \n",
      " 11  state                  278002 non-null  object        \n",
      " 12  pct_funded             278002 non-null  float64       \n",
      " 13  avg_pledge_per_backer  244743 non-null  float64       \n",
      " 14  backers_group          244725 non-null  category      \n",
      " 15  usd_pledged_group      240499 non-null  category      \n",
      " 16  pct_funded_group       240499 non-null  category      \n",
      " 17  Music Main Category    278002 non-null  object        \n",
      "dtypes: category(3), datetime64[ns](2), float64(4), int64(2), object(7)\n",
      "memory usage: 42.8+ MB\n"
     ]
    }
   ],
   "source": [
    "# for sub-group analysis creating a dataset with main category = music only\n",
    "\n",
    "df3_music = df3.copy()\n",
    "df3_music[\"Music Main Category\"] = np.where(df3_music[\"main_category\"]==\"Music\", \"Y\", \"N\")\n",
    "df3_music.info()"
   ]
  },
  {
   "cell_type": "code",
   "execution_count": 330,
   "metadata": {},
   "outputs": [
    {
     "name": "stdout",
     "output_type": "stream",
     "text": [
      "<class 'pandas.core.frame.DataFrame'>\n",
      "Int64Index: 40763 entries, 23856 to 281029\n",
      "Data columns (total 18 columns):\n",
      " #   Column                 Non-Null Count  Dtype         \n",
      "---  ------                 --------------  -----         \n",
      " 0   name                   40763 non-null  object        \n",
      " 1   main_category          40763 non-null  object        \n",
      " 2   category               40763 non-null  object        \n",
      " 3   country                40763 non-null  object        \n",
      " 4   currency               40763 non-null  object        \n",
      " 5   launched               40763 non-null  datetime64[ns]\n",
      " 6   deadline               40763 non-null  datetime64[ns]\n",
      " 7   length_days            40763 non-null  int64         \n",
      " 8   goal                   40763 non-null  float64       \n",
      " 9   usd pledged            40763 non-null  float64       \n",
      " 10  backers                40763 non-null  int64         \n",
      " 11  state                  40763 non-null  object        \n",
      " 12  pct_funded             40763 non-null  float64       \n",
      " 13  avg_pledge_per_backer  36275 non-null  float64       \n",
      " 14  backers_group          36274 non-null  category      \n",
      " 15  usd_pledged_group      35854 non-null  category      \n",
      " 16  pct_funded_group       35854 non-null  category      \n",
      " 17  Music Main Category    40763 non-null  object        \n",
      "dtypes: category(3), datetime64[ns](2), float64(4), int64(2), object(7)\n",
      "memory usage: 5.1+ MB\n"
     ]
    }
   ],
   "source": [
    "df3_music.drop(df3_music.loc[df3_music[\"Music Main Category\"]==\"N\"].index, inplace = True)\n",
    "df3_music.info()"
   ]
  },
  {
   "cell_type": "code",
   "execution_count": 331,
   "metadata": {},
   "outputs": [
    {
     "name": "stdout",
     "output_type": "stream",
     "text": [
      "<class 'pandas.core.frame.DataFrame'>\n",
      "Int64Index: 278002 entries, 0 to 281855\n",
      "Data columns (total 18 columns):\n",
      " #   Column                 Non-Null Count   Dtype         \n",
      "---  ------                 --------------   -----         \n",
      " 0   name                   278002 non-null  object        \n",
      " 1   main_category          278002 non-null  object        \n",
      " 2   category               278002 non-null  object        \n",
      " 3   country                278002 non-null  object        \n",
      " 4   currency               278002 non-null  object        \n",
      " 5   launched               278002 non-null  datetime64[ns]\n",
      " 6   deadline               278002 non-null  datetime64[ns]\n",
      " 7   length_days            278002 non-null  int64         \n",
      " 8   goal                   278002 non-null  float64       \n",
      " 9   usd pledged            278002 non-null  float64       \n",
      " 10  backers                278002 non-null  int64         \n",
      " 11  state                  278002 non-null  object        \n",
      " 12  pct_funded             278002 non-null  float64       \n",
      " 13  avg_pledge_per_backer  244743 non-null  float64       \n",
      " 14  backers_group          244725 non-null  category      \n",
      " 15  usd_pledged_group      240499 non-null  category      \n",
      " 16  pct_funded_group       240499 non-null  category      \n",
      " 17  Crafts Main Category   278002 non-null  object        \n",
      "dtypes: category(3), datetime64[ns](2), float64(4), int64(2), object(7)\n",
      "memory usage: 42.8+ MB\n"
     ]
    }
   ],
   "source": [
    "# for sub-group analysis creating a dataset with main category = crafts only\n",
    "\n",
    "df3_crafts = df3.copy()\n",
    "df3_crafts[\"Crafts Main Category\"] = np.where(df3_crafts[\"main_category\"]==\"Crafts\", \"Y\", \"N\")\n",
    "df3_crafts.info()"
   ]
  },
  {
   "cell_type": "code",
   "execution_count": 332,
   "metadata": {},
   "outputs": [
    {
     "name": "stdout",
     "output_type": "stream",
     "text": [
      "<class 'pandas.core.frame.DataFrame'>\n",
      "Int64Index: 6303 entries, 24505 to 279198\n",
      "Data columns (total 18 columns):\n",
      " #   Column                 Non-Null Count  Dtype         \n",
      "---  ------                 --------------  -----         \n",
      " 0   name                   6303 non-null   object        \n",
      " 1   main_category          6303 non-null   object        \n",
      " 2   category               6303 non-null   object        \n",
      " 3   country                6303 non-null   object        \n",
      " 4   currency               6303 non-null   object        \n",
      " 5   launched               6303 non-null   datetime64[ns]\n",
      " 6   deadline               6303 non-null   datetime64[ns]\n",
      " 7   length_days            6303 non-null   int64         \n",
      " 8   goal                   6303 non-null   float64       \n",
      " 9   usd pledged            6303 non-null   float64       \n",
      " 10  backers                6303 non-null   int64         \n",
      " 11  state                  6303 non-null   object        \n",
      " 12  pct_funded             6303 non-null   float64       \n",
      " 13  avg_pledge_per_backer  5258 non-null   float64       \n",
      " 14  backers_group          5257 non-null   category      \n",
      " 15  usd_pledged_group      5045 non-null   category      \n",
      " 16  pct_funded_group       5045 non-null   category      \n",
      " 17  Crafts Main Category   6303 non-null   object        \n",
      "dtypes: category(3), datetime64[ns](2), float64(4), int64(2), object(7)\n",
      "memory usage: 807.1+ KB\n"
     ]
    }
   ],
   "source": [
    "df3_crafts.drop(df3_crafts.loc[df3_crafts[\"Crafts Main Category\"]==\"N\"].index, inplace = True)\n",
    "df3_crafts.info()"
   ]
  },
  {
   "cell_type": "code",
   "execution_count": 333,
   "metadata": {},
   "outputs": [
    {
     "name": "stdout",
     "output_type": "stream",
     "text": [
      "<class 'pandas.core.frame.DataFrame'>\n",
      "Int64Index: 278002 entries, 0 to 281855\n",
      "Data columns (total 18 columns):\n",
      " #   Column                 Non-Null Count   Dtype         \n",
      "---  ------                 --------------   -----         \n",
      " 0   name                   278002 non-null  object        \n",
      " 1   main_category          278002 non-null  object        \n",
      " 2   category               278002 non-null  object        \n",
      " 3   country                278002 non-null  object        \n",
      " 4   currency               278002 non-null  object        \n",
      " 5   launched               278002 non-null  datetime64[ns]\n",
      " 6   deadline               278002 non-null  datetime64[ns]\n",
      " 7   length_days            278002 non-null  int64         \n",
      " 8   goal                   278002 non-null  float64       \n",
      " 9   usd pledged            278002 non-null  float64       \n",
      " 10  backers                278002 non-null  int64         \n",
      " 11  state                  278002 non-null  object        \n",
      " 12  pct_funded             278002 non-null  float64       \n",
      " 13  avg_pledge_per_backer  244743 non-null  float64       \n",
      " 14  backers_group          244725 non-null  category      \n",
      " 15  usd_pledged_group      240499 non-null  category      \n",
      " 16  pct_funded_group       240499 non-null  category      \n",
      " 17  Dance Main Category    278002 non-null  object        \n",
      "dtypes: category(3), datetime64[ns](2), float64(4), int64(2), object(7)\n",
      "memory usage: 42.8+ MB\n"
     ]
    }
   ],
   "source": [
    "# for sub-group analysis creating a dataset with main category = dance only\n",
    "\n",
    "df3_dance = df3.copy()\n",
    "df3_dance[\"Dance Main Category\"] = np.where(df3_dance[\"main_category\"]==\"Dance\", \"Y\", \"N\")\n",
    "df3_dance.info()"
   ]
  },
  {
   "cell_type": "code",
   "execution_count": 334,
   "metadata": {},
   "outputs": [
    {
     "name": "stdout",
     "output_type": "stream",
     "text": [
      "<class 'pandas.core.frame.DataFrame'>\n",
      "Int64Index: 3194 entries, 49379 to 279317\n",
      "Data columns (total 18 columns):\n",
      " #   Column                 Non-Null Count  Dtype         \n",
      "---  ------                 --------------  -----         \n",
      " 0   name                   3194 non-null   object        \n",
      " 1   main_category          3194 non-null   object        \n",
      " 2   category               3194 non-null   object        \n",
      " 3   country                3194 non-null   object        \n",
      " 4   currency               3194 non-null   object        \n",
      " 5   launched               3194 non-null   datetime64[ns]\n",
      " 6   deadline               3194 non-null   datetime64[ns]\n",
      " 7   length_days            3194 non-null   int64         \n",
      " 8   goal                   3194 non-null   float64       \n",
      " 9   usd pledged            3194 non-null   float64       \n",
      " 10  backers                3194 non-null   int64         \n",
      " 11  state                  3194 non-null   object        \n",
      " 12  pct_funded             3194 non-null   float64       \n",
      " 13  avg_pledge_per_backer  3016 non-null   float64       \n",
      " 14  backers_group          3015 non-null   category      \n",
      " 15  usd_pledged_group      2979 non-null   category      \n",
      " 16  pct_funded_group       2979 non-null   category      \n",
      " 17  Dance Main Category    3194 non-null   object        \n",
      "dtypes: category(3), datetime64[ns](2), float64(4), int64(2), object(7)\n",
      "memory usage: 409.4+ KB\n"
     ]
    }
   ],
   "source": [
    "df3_dance.drop(df3_dance.loc[df3_dance[\"Dance Main Category\"]==\"N\"].index, inplace = True)\n",
    "df3_dance.info()"
   ]
  },
  {
   "cell_type": "code",
   "execution_count": 335,
   "metadata": {},
   "outputs": [
    {
     "name": "stdout",
     "output_type": "stream",
     "text": [
      "<class 'pandas.core.frame.DataFrame'>\n",
      "Int64Index: 278002 entries, 0 to 281855\n",
      "Data columns (total 18 columns):\n",
      " #   Column                 Non-Null Count   Dtype         \n",
      "---  ------                 --------------   -----         \n",
      " 0   name                   278002 non-null  object        \n",
      " 1   main_category          278002 non-null  object        \n",
      " 2   category               278002 non-null  object        \n",
      " 3   country                278002 non-null  object        \n",
      " 4   currency               278002 non-null  object        \n",
      " 5   launched               278002 non-null  datetime64[ns]\n",
      " 6   deadline               278002 non-null  datetime64[ns]\n",
      " 7   length_days            278002 non-null  int64         \n",
      " 8   goal                   278002 non-null  float64       \n",
      " 9   usd pledged            278002 non-null  float64       \n",
      " 10  backers                278002 non-null  int64         \n",
      " 11  state                  278002 non-null  object        \n",
      " 12  pct_funded             278002 non-null  float64       \n",
      " 13  avg_pledge_per_backer  244743 non-null  float64       \n",
      " 14  backers_group          244725 non-null  category      \n",
      " 15  usd_pledged_group      240499 non-null  category      \n",
      " 16  pct_funded_group       240499 non-null  category      \n",
      " 17  Theater Main Category  278002 non-null  object        \n",
      "dtypes: category(3), datetime64[ns](2), float64(4), int64(2), object(7)\n",
      "memory usage: 42.8+ MB\n"
     ]
    }
   ],
   "source": [
    "# for sub-group analysis creating a dataset with main category = theater only\n",
    "\n",
    "df3_thea = df3.copy()\n",
    "df3_thea[\"Theater Main Category\"] = np.where(df3_thea[\"main_category\"]==\"Theater\", \"Y\", \"N\")\n",
    "df3_thea.info()"
   ]
  },
  {
   "cell_type": "code",
   "execution_count": 336,
   "metadata": {},
   "outputs": [
    {
     "name": "stdout",
     "output_type": "stream",
     "text": [
      "<class 'pandas.core.frame.DataFrame'>\n",
      "Int64Index: 9323 entries, 75588 to 259564\n",
      "Data columns (total 18 columns):\n",
      " #   Column                 Non-Null Count  Dtype         \n",
      "---  ------                 --------------  -----         \n",
      " 0   name                   9323 non-null   object        \n",
      " 1   main_category          9323 non-null   object        \n",
      " 2   category               9323 non-null   object        \n",
      " 3   country                9323 non-null   object        \n",
      " 4   currency               9323 non-null   object        \n",
      " 5   launched               9323 non-null   datetime64[ns]\n",
      " 6   deadline               9323 non-null   datetime64[ns]\n",
      " 7   length_days            9323 non-null   int64         \n",
      " 8   goal                   9323 non-null   float64       \n",
      " 9   usd pledged            9323 non-null   float64       \n",
      " 10  backers                9323 non-null   int64         \n",
      " 11  state                  9323 non-null   object        \n",
      " 12  pct_funded             9323 non-null   float64       \n",
      " 13  avg_pledge_per_backer  8757 non-null   float64       \n",
      " 14  backers_group          8756 non-null   category      \n",
      " 15  usd_pledged_group      8673 non-null   category      \n",
      " 16  pct_funded_group       8673 non-null   category      \n",
      " 17  Theater Main Category  9323 non-null   object        \n",
      "dtypes: category(3), datetime64[ns](2), float64(4), int64(2), object(7)\n",
      "memory usage: 1.2+ MB\n"
     ]
    }
   ],
   "source": [
    "df3_thea.drop(df3_thea.loc[df3_thea[\"Theater Main Category\"]==\"N\"].index, inplace = True)\n",
    "df3_thea.info()"
   ]
  },
  {
   "cell_type": "code",
   "execution_count": 337,
   "metadata": {},
   "outputs": [
    {
     "name": "stdout",
     "output_type": "stream",
     "text": [
      "<class 'pandas.core.frame.DataFrame'>\n",
      "Int64Index: 278002 entries, 0 to 281855\n",
      "Data columns (total 18 columns):\n",
      " #   Column                 Non-Null Count   Dtype         \n",
      "---  ------                 --------------   -----         \n",
      " 0   name                   278002 non-null  object        \n",
      " 1   main_category          278002 non-null  object        \n",
      " 2   category               278002 non-null  object        \n",
      " 3   country                278002 non-null  object        \n",
      " 4   currency               278002 non-null  object        \n",
      " 5   launched               278002 non-null  datetime64[ns]\n",
      " 6   deadline               278002 non-null  datetime64[ns]\n",
      " 7   length_days            278002 non-null  int64         \n",
      " 8   goal                   278002 non-null  float64       \n",
      " 9   usd pledged            278002 non-null  float64       \n",
      " 10  backers                278002 non-null  int64         \n",
      " 11  state                  278002 non-null  object        \n",
      " 12  pct_funded             278002 non-null  float64       \n",
      " 13  avg_pledge_per_backer  244743 non-null  float64       \n",
      " 14  backers_group          244725 non-null  category      \n",
      " 15  usd_pledged_group      240499 non-null  category      \n",
      " 16  pct_funded_group       240499 non-null  category      \n",
      " 17  Games Main Category    278002 non-null  object        \n",
      "dtypes: category(3), datetime64[ns](2), float64(4), int64(2), object(7)\n",
      "memory usage: 42.8+ MB\n"
     ]
    }
   ],
   "source": [
    "# for sub-group analysis creating a dataset with main category = games only\n",
    "\n",
    "df3_games = df3.copy()\n",
    "df3_games[\"Games Main Category\"] = np.where(df3_games[\"main_category\"]==\"Games\", \"Y\", \"N\")\n",
    "df3_games.info()"
   ]
  },
  {
   "cell_type": "code",
   "execution_count": 338,
   "metadata": {},
   "outputs": [
    {
     "name": "stdout",
     "output_type": "stream",
     "text": [
      "<class 'pandas.core.frame.DataFrame'>\n",
      "Int64Index: 21293 entries, 115589 to 268928\n",
      "Data columns (total 18 columns):\n",
      " #   Column                 Non-Null Count  Dtype         \n",
      "---  ------                 --------------  -----         \n",
      " 0   name                   21293 non-null  object        \n",
      " 1   main_category          21293 non-null  object        \n",
      " 2   category               21293 non-null  object        \n",
      " 3   country                21293 non-null  object        \n",
      " 4   currency               21293 non-null  object        \n",
      " 5   launched               21293 non-null  datetime64[ns]\n",
      " 6   deadline               21293 non-null  datetime64[ns]\n",
      " 7   length_days            21293 non-null  int64         \n",
      " 8   goal                   21293 non-null  float64       \n",
      " 9   usd pledged            21293 non-null  float64       \n",
      " 10  backers                21293 non-null  int64         \n",
      " 11  state                  21293 non-null  object        \n",
      " 12  pct_funded             21293 non-null  float64       \n",
      " 13  avg_pledge_per_backer  20092 non-null  float64       \n",
      " 14  backers_group          20092 non-null  category      \n",
      " 15  usd_pledged_group      19764 non-null  category      \n",
      " 16  pct_funded_group       19764 non-null  category      \n",
      " 17  Games Main Category    21293 non-null  object        \n",
      "dtypes: category(3), datetime64[ns](2), float64(4), int64(2), object(7)\n",
      "memory usage: 2.7+ MB\n"
     ]
    }
   ],
   "source": [
    "df3_games.drop(df3_games.loc[df3_games[\"Games Main Category\"]==\"N\"].index, inplace = True)\n",
    "df3_games.info()"
   ]
  },
  {
   "cell_type": "markdown",
   "metadata": {},
   "source": [
    "# More Visuals for a Deeper Look"
   ]
  },
  {
   "cell_type": "code",
   "execution_count": 347,
   "metadata": {},
   "outputs": [
    {
     "data": {
      "text/plain": [
       "Text(0.5, 1.0, 'Goal vs. Length_Days per State')"
      ]
     },
     "execution_count": 347,
     "metadata": {},
     "output_type": "execute_result"
    },
    {
     "data": {
      "image/png": "[encoded data removed]",
      "text/plain": [
       "<Figure size 952.125x576 with 1 Axes>"
      ]
     },
     "metadata": {
      "needs_background": "light"
     },
     "output_type": "display_data"
    }
   ],
   "source": [
    "sns.lmplot(data = df3, x = 'goal', y = 'length_days', fit_reg = False, hue = \"state\", height = 8, aspect = 1.5)\n",
    "plt.title(\"Goal vs. Length_Days per State\")\n",
    "\n",
    "#looks like length doesn't matter as much as goal"
   ]
  },
  {
   "cell_type": "code",
   "execution_count": 351,
   "metadata": {},
   "outputs": [
    {
     "data": {
      "text/plain": [
       "Text(0.5, 1.0, 'Goal vs. Avg Pledge per Backer')"
      ]
     },
     "execution_count": 351,
     "metadata": {},
     "output_type": "execute_result"
    },
    {
     "data": {
      "image/png": "[encoded data removed]",
      "text/plain": [
       "<Figure size 952.125x576 with 1 Axes>"
      ]
     },
     "metadata": {
      "needs_background": "light"
     },
     "output_type": "display_data"
    }
   ],
   "source": [
    "sns.lmplot(data = df3, x = 'goal', y = 'avg_pledge_per_backer', fit_reg = False, hue = \"state\", height = 8, aspect = 1.5)\n",
    "plt.title(\"Goal vs. Avg Pledge per Backer\")\n",
    "\n",
    "# reaffirms that lower goal is more successful, directly correlates with average pledge per backer"
   ]
  },
  {
   "cell_type": "code",
   "execution_count": 353,
   "metadata": {},
   "outputs": [
    {
     "data": {
      "text/plain": [
       "Text(0.5, 1.0, 'Goal vs. Avg Pledge per Backer')"
      ]
     },
     "execution_count": 353,
     "metadata": {},
     "output_type": "execute_result"
    },
    {
     "data": {
      "image/png": "[encoded data removed]",
      "text/plain": [
       "<Figure size 952.125x576 with 1 Axes>"
      ]
     },
     "metadata": {
      "needs_background": "light"
     },
     "output_type": "display_data"
    }
   ],
   "source": [
    "sns.lmplot(data = df3, x = 'length_days', y = 'avg_pledge_per_backer', fit_reg = False, hue = \"state\", height = 8, aspect = 1.5)\n",
    "plt.title(\"Goal vs. Avg Pledge per Backer\")\n",
    "\n",
    "#interesting!  no apparent correlation between the two variables.  successful projects have lower goals"
   ]
  },
  {
   "cell_type": "code",
   "execution_count": null,
   "metadata": {},
   "outputs": [],
   "source": []
  },
  {
   "cell_type": "code",
   "execution_count": null,
   "metadata": {},
   "outputs": [],
   "source": []
  },
  {
   "cell_type": "code",
   "execution_count": null,
   "metadata": {},
   "outputs": [],
   "source": [
    "# average number of backers and pledges by main category and subcategory \n"
   ]
  },
  {
   "cell_type": "code",
   "execution_count": 174,
   "metadata": {},
   "outputs": [
    {
     "data": {
      "text/html": [
       "<div>\n",
       "<style scoped>\n",
       "    .dataframe tbody tr th:only-of-type {\n",
       "        vertical-align: middle;\n",
       "    }\n",
       "\n",
       "    .dataframe tbody tr th {\n",
       "        vertical-align: top;\n",
       "    }\n",
       "\n",
       "    .dataframe thead th {\n",
       "        text-align: right;\n",
       "    }\n",
       "</style>\n",
       "<table border=\"1\" class=\"dataframe\">\n",
       "  <thead>\n",
       "    <tr style=\"text-align: right;\">\n",
       "      <th>state</th>\n",
       "      <th>failed</th>\n",
       "      <th>successful</th>\n",
       "    </tr>\n",
       "    <tr>\n",
       "      <th>main_category</th>\n",
       "      <th></th>\n",
       "      <th></th>\n",
       "    </tr>\n",
       "  </thead>\n",
       "  <tbody>\n",
       "    <tr>\n",
       "      <th>Art</th>\n",
       "      <td>12128</td>\n",
       "      <td>9665</td>\n",
       "    </tr>\n",
       "    <tr>\n",
       "      <th>Comics</th>\n",
       "      <td>3411</td>\n",
       "      <td>4471</td>\n",
       "    </tr>\n",
       "    <tr>\n",
       "      <th>Crafts</th>\n",
       "      <td>4637</td>\n",
       "      <td>1671</td>\n",
       "    </tr>\n",
       "    <tr>\n",
       "      <th>Dance</th>\n",
       "      <td>1091</td>\n",
       "      <td>2104</td>\n",
       "    </tr>\n",
       "    <tr>\n",
       "      <th>Design</th>\n",
       "      <td>12060</td>\n",
       "      <td>7730</td>\n",
       "    </tr>\n",
       "    <tr>\n",
       "      <th>Fashion</th>\n",
       "      <td>11520</td>\n",
       "      <td>4284</td>\n",
       "    </tr>\n",
       "    <tr>\n",
       "      <th>Film &amp; Video</th>\n",
       "      <td>29696</td>\n",
       "      <td>21350</td>\n",
       "    </tr>\n",
       "    <tr>\n",
       "      <th>Food</th>\n",
       "      <td>13632</td>\n",
       "      <td>5250</td>\n",
       "    </tr>\n",
       "    <tr>\n",
       "      <th>Games</th>\n",
       "      <td>13028</td>\n",
       "      <td>9110</td>\n",
       "    </tr>\n",
       "    <tr>\n",
       "      <th>Journalism</th>\n",
       "      <td>2667</td>\n",
       "      <td>870</td>\n",
       "    </tr>\n",
       "    <tr>\n",
       "      <th>Music</th>\n",
       "      <td>19172</td>\n",
       "      <td>21661</td>\n",
       "    </tr>\n",
       "    <tr>\n",
       "      <th>Photography</th>\n",
       "      <td>5760</td>\n",
       "      <td>2902</td>\n",
       "    </tr>\n",
       "    <tr>\n",
       "      <th>Publishing</th>\n",
       "      <td>19973</td>\n",
       "      <td>10260</td>\n",
       "    </tr>\n",
       "    <tr>\n",
       "      <th>Technology</th>\n",
       "      <td>16373</td>\n",
       "      <td>4744</td>\n",
       "    </tr>\n",
       "    <tr>\n",
       "      <th>Theater</th>\n",
       "      <td>3343</td>\n",
       "      <td>5994</td>\n",
       "    </tr>\n",
       "  </tbody>\n",
       "</table>\n",
       "</div>"
      ],
      "text/plain": [
       "state          failed  successful\n",
       "main_category                    \n",
       "Art             12128        9665\n",
       "Comics           3411        4471\n",
       "Crafts           4637        1671\n",
       "Dance            1091        2104\n",
       "Design          12060        7730\n",
       "Fashion         11520        4284\n",
       "Film & Video    29696       21350\n",
       "Food            13632        5250\n",
       "Games           13028        9110\n",
       "Journalism       2667         870\n",
       "Music           19172       21661\n",
       "Photography      5760        2902\n",
       "Publishing      19973       10260\n",
       "Technology      16373        4744\n",
       "Theater          3343        5994"
      ]
     },
     "execution_count": 174,
     "metadata": {},
     "output_type": "execute_result"
    }
   ],
   "source": [
    "## state by campaign main category (crosstab)\n",
    "\n",
    "pd.crosstab(df3[\"main_category\"], df3[\"state\"])\n",
    "\n",
    "#success rates PER MAIN CATEGORY:\n",
    "#art: 44%\n",
    "#comics: 57% \n",
    "#crafts: 26%\n",
    "#dance: 66%\n",
    "#design: 39%\n",
    "#fashion: 27%\n",
    "#film&video: 42%\n",
    "#food: 28%\n",
    "#games: 41%\n",
    "#journalism: 25%\n",
    "#music: 53%\n",
    "#photography: 34%\n",
    "#publishing: 34%\n",
    "#technology: 22%\n",
    "#theater: 64%\n",
    "\n",
    "# Film & Video, Music comopose greatest % of overall success (across all main categories) on Kickstarter, as a result of having the most projects"
   ]
  },
  {
   "cell_type": "code",
   "execution_count": 175,
   "metadata": {},
   "outputs": [
    {
     "data": {
      "text/html": [
       "<div>\n",
       "<style scoped>\n",
       "    .dataframe tbody tr th:only-of-type {\n",
       "        vertical-align: middle;\n",
       "    }\n",
       "\n",
       "    .dataframe tbody tr th {\n",
       "        vertical-align: top;\n",
       "    }\n",
       "\n",
       "    .dataframe thead th {\n",
       "        text-align: right;\n",
       "    }\n",
       "</style>\n",
       "<table border=\"1\" class=\"dataframe\">\n",
       "  <thead>\n",
       "    <tr style=\"text-align: right;\">\n",
       "      <th>state</th>\n",
       "      <th>failed</th>\n",
       "      <th>successful</th>\n",
       "    </tr>\n",
       "    <tr>\n",
       "      <th>category</th>\n",
       "      <th></th>\n",
       "      <th></th>\n",
       "    </tr>\n",
       "  </thead>\n",
       "  <tbody>\n",
       "    <tr>\n",
       "      <th>Art</th>\n",
       "      <td>3452</td>\n",
       "      <td>2785</td>\n",
       "    </tr>\n",
       "    <tr>\n",
       "      <th>Ceramics</th>\n",
       "      <td>109</td>\n",
       "      <td>92</td>\n",
       "    </tr>\n",
       "    <tr>\n",
       "      <th>Conceptual Art</th>\n",
       "      <td>496</td>\n",
       "      <td>330</td>\n",
       "    </tr>\n",
       "    <tr>\n",
       "      <th>Digital Art</th>\n",
       "      <td>671</td>\n",
       "      <td>306</td>\n",
       "    </tr>\n",
       "    <tr>\n",
       "      <th>Illustration</th>\n",
       "      <td>992</td>\n",
       "      <td>1110</td>\n",
       "    </tr>\n",
       "    <tr>\n",
       "      <th>Installations</th>\n",
       "      <td>156</td>\n",
       "      <td>194</td>\n",
       "    </tr>\n",
       "    <tr>\n",
       "      <th>Mixed Media</th>\n",
       "      <td>1369</td>\n",
       "      <td>816</td>\n",
       "    </tr>\n",
       "    <tr>\n",
       "      <th>Painting</th>\n",
       "      <td>1648</td>\n",
       "      <td>993</td>\n",
       "    </tr>\n",
       "    <tr>\n",
       "      <th>Performance Art</th>\n",
       "      <td>971</td>\n",
       "      <td>874</td>\n",
       "    </tr>\n",
       "    <tr>\n",
       "      <th>Public Art</th>\n",
       "      <td>1186</td>\n",
       "      <td>1438</td>\n",
       "    </tr>\n",
       "    <tr>\n",
       "      <th>Sculpture</th>\n",
       "      <td>855</td>\n",
       "      <td>635</td>\n",
       "    </tr>\n",
       "    <tr>\n",
       "      <th>Textiles</th>\n",
       "      <td>122</td>\n",
       "      <td>53</td>\n",
       "    </tr>\n",
       "    <tr>\n",
       "      <th>Video Art</th>\n",
       "      <td>101</td>\n",
       "      <td>39</td>\n",
       "    </tr>\n",
       "  </tbody>\n",
       "</table>\n",
       "</div>"
      ],
      "text/plain": [
       "state            failed  successful\n",
       "category                           \n",
       "Art                3452        2785\n",
       "Ceramics            109          92\n",
       "Conceptual Art      496         330\n",
       "Digital Art         671         306\n",
       "Illustration        992        1110\n",
       "Installations       156         194\n",
       "Mixed Media        1369         816\n",
       "Painting           1648         993\n",
       "Performance Art     971         874\n",
       "Public Art         1186        1438\n",
       "Sculpture           855         635\n",
       "Textiles            122          53\n",
       "Video Art           101          39"
      ]
     },
     "execution_count": 175,
     "metadata": {},
     "output_type": "execute_result"
    }
   ],
   "source": [
    "## state by campaign sub-category (crosstab)\n",
    "pd.crosstab(df3_art[\"category\"], df3[\"state\"])\n"
   ]
  },
  {
   "cell_type": "code",
   "execution_count": 179,
   "metadata": {},
   "outputs": [
    {
     "name": "stdout",
     "output_type": "stream",
     "text": [
      "['TheNameCloud' 'Sokovikova-Art'\n",
      " 'REEFCALENDAR - The Project for our Reefs!' ... 'Short Film Funding!'\n",
      " 'deforme.' 'Children at Work - What are their stories?']\n",
      "['Art']\n",
      "['Art' 'Ceramics' 'Conceptual Art' 'Digital Art' 'Illustration'\n",
      " 'Installations' 'Mixed Media' 'Painting' 'Performance Art' 'Public Art'\n",
      " 'Sculpture' 'Textiles' 'Video Art']\n",
      "['AT' 'AU' 'BE' 'CA' 'CH' 'DE' 'DK' 'ES' 'FR' 'GB' 'HK' 'IE' 'IT' 'MX'\n",
      " 'NL' 'NO' 'NZ' 'SE' 'US' 'SG' 'LU']\n",
      "['EUR' 'AUD' 'CAD' 'CHF' 'DKK' 'GBP' 'HKD' 'MXN' 'NOK' 'NZD' 'SEK' 'USD'\n",
      " 'SGD']\n",
      "['2015-11-14T23:52:09.000000000' '2016-01-04T18:38:25.000000000'\n",
      " '2016-09-13T22:05:56.000000000' ... '2015-05-02T00:14:08.000000000'\n",
      " '2016-10-10T02:31:55.000000000' '2015-02-18T17:35:06.000000000']\n",
      "['2015-12-29T23:52:09.000000000' '2016-02-29T23:59:00.000000000'\n",
      " '2016-11-01T11:30:00.000000000' ... '2015-04-24T08:44:58.000000000'\n",
      " '2015-06-01T00:14:08.000000000' '2015-03-20T16:35:06.000000000']\n",
      "[45 56 48 30 60 32 14 28 29 11  8 40 59 10 43 33 15 26 31 20 38 42 17 21\n",
      "  6 22 23 44 41 24 35 36 25 12 18 19 16  7  5 51 37 27 49 39  9 47 34 58\n",
      " 13 50 55  3  4 57 54  1 61 53 76 62 88 90 82 70 66 78 91 83 85 46 71 89\n",
      " 72 65 74 63 73 75 67 52 64 87 79 80 69 68  2 84 86 77 81]\n",
      "[ 5000.  3000.  6600. ...  7001. 29011.   507.]\n",
      "[ 240.6479145 1461.673948   186.6007195 ... 9353.        2822.\n",
      " 7146.66     ]\n",
      "[  13   10   72   50    3   22   80    5   40   34    1   31   30    0\n",
      "    2   16   29    4    7    8  715   20    6   15   14  175  185   32\n",
      "   41   55   11   24  118   96   84   70  203  121   45   64  214  133\n",
      "  116   66   47   12  182  132   38   19   48   33   23  297    9  140\n",
      "   18   27  216   25  442   39   97  374   43  125  204  141   59  157\n",
      "   61   21  123  336  137  129   65  134   74  109   54  169   37   26\n",
      "  156   28   35   17   68   75  102   53  168   87  230   56   92   52\n",
      "  184   85  628   81   44  135   73  147   94  721   42   36   78   69\n",
      "  172  165  166  234  101   77   88  103 1575 2180   71  151  304   46\n",
      "   62  346  143  404  149   63   76  264   86   57  195   82   99  508\n",
      "  113  111  552   98   90  252  759   51   67  296   49  112  742  248\n",
      "  215   79   83  188  494  110  263  126  183  145  162   95 2836  104\n",
      " 1016  177  138  114  115   89   58  223  186   91  208  352  130  312\n",
      "  501  629  108  361  191   60  242  371  257  226  232  146  192  124\n",
      "  155  100  595  221  106  160  625  144  127  236  445  655  105  247\n",
      "  321  148  120  202  413   93  393  136  253 1117  340  196  376  158\n",
      "  317  382  418  119  187  332  218  277  190  384 1565  167  239  370\n",
      "  912  399  285  107 1312  152  231  366  388  201  341  176  585  249\n",
      "  217  540  367  122  766  235  405  207  859  453  179  142  198  435\n",
      "  691  379  229  228  830  206  131  227  407  240  381 1222  733  389\n",
      "  174  237  357  466  209  153 1022  396  189  117  222  271  200  181\n",
      "  601  224  211  178  482  576  436  266  472 1557  225  362  387 1522\n",
      "  199  139  279  324  680  213  318 2987  301  587  462  383  154  658\n",
      "  159  351 3882  373  349  538  345  596  258  212  282  193  262  525\n",
      "  883  302  238  268  348  171  173  391  219  454  265  567  314  353\n",
      "  788  338  292  981  194  269  504  308  284  163  505  355  927  220\n",
      "  233  245  128  278  273 1079  819 1633  164  622  170  419 1149  339\n",
      "  180  437  205  838  568  946  837  539 1627  565 1108  594  267  929\n",
      "  616  323  272  335  647  294  670  261 1139  303  513  293 1007 2027\n",
      "  901  820  251  274  769  939  740  536  298  973  415  998  443  401\n",
      " 1095  306  360  547  424 1253  270 3071  483  334  260  350  244  316\n",
      "  803  281  783  283  150  365  254  331  643  342  210  523  409  519\n",
      " 1137  544 1756  420  403  287  631 1185  380  829 1122  421  678  456\n",
      "  492  526  590 1255  255  648  617  288  577 1623  452  485  465  250\n",
      "  280 1828  532  706  325  197  880  291  364  395  910  343  470 1856\n",
      " 1043  406  999  533  434  369  455  161  780  609 2040  553  732  333\n",
      "  447  487  995  574 1202  397  479  375  299 1057 1510  593  276  398\n",
      "  444  915  328  256  584  426  408  692  683  909 1711  618 1696  914\n",
      "  918  549  295  745  311  372  586  690  701  330 1317  722  644 2564\n",
      "  583  907  313  241 2486  700  582  438  359  368  833  326  411  511\n",
      "  848  709  535  322 1319  955 1992 1109 1963  385  818  730  347  386\n",
      "  667 2718  337]\n",
      "['failed' 'successful']\n",
      "[  4.81295829  48.72246493   3.73201439 ...   0.42742408   1.58730159\n",
      " 100.59171598]\n",
      "['10-14', '5-9', '60-99', '30-59', '0-4', '15-29', NaN, '100-999999']\n",
      "Categories (7, object): ['0-4' < '5-9' < '10-14' < '15-29' < '30-59' < '60-99' < '100-999999']\n",
      "['100-499', '500-1,999', '5,000-9,999', '0-19', '10,000-99,999', '40-99', '2,000-4,999', '20-39', NaN, '100,000+']\n",
      "Categories (9, object): ['0-19' < '20-39' < '40-99' < '100-499' ... '2,000-4,999' < '5,000-9,999' < '10,000-99,999' < '100,000+']\n",
      "['1-4', '15-49', '90-99', '0-0.9', '50-89', '110+', '100-109', NaN]\n",
      "Categories (7, object): ['0-0.9' < '1-4' < '15-49' < '50-89' < '90-99' < '100-109' < '110+']\n",
      "[0.15218165 0.07962126 0.15396791 ... 0.15942874 0.15751204 0.0060926 ]\n",
      "[0.09473282 0.0808003  0.09534953 ... 0.00924368 0.0652783  0.01593177]\n",
      "['Y']\n"
     ]
    }
   ],
   "source": [
    "for col in df3_art:\n",
    "    print(df3_art[col].unique())"
   ]
  },
  {
   "cell_type": "code",
   "execution_count": 184,
   "metadata": {},
   "outputs": [
    {
     "ename": "ValueError",
     "evalue": "The truth value of a Series is ambiguous. Use a.empty, a.bool(), a.item(), a.any() or a.all().",
     "output_type": "error",
     "traceback": [
      "\u001b[1;31m---------------------------------------------------------------------------\u001b[0m",
      "\u001b[1;31mValueError\u001b[0m                                Traceback (most recent call last)",
      "Input \u001b[1;32mIn [184]\u001b[0m, in \u001b[0;36m<cell line: 5>\u001b[1;34m()\u001b[0m\n\u001b[0;32m      1\u001b[0m \u001b[38;5;66;03m#arts = {\"Sub-Category\":['Art', 'Ceramics', 'Conceptual Art', 'Digital Art', 'Illustration',\u001b[39;00m\n\u001b[0;32m      2\u001b[0m  \u001b[38;5;66;03m#'Installations', 'Mixed Media', 'Painting', 'Performance Art', 'Public Art',\u001b[39;00m\n\u001b[0;32m      3\u001b[0m  \u001b[38;5;66;03m#'Sculpture', 'Textiles', 'Video Art'], \u001b[39;00m\n\u001b[0;32m      4\u001b[0m             \u001b[38;5;66;03m# \"Success\":[\u001b[39;00m\n\u001b[1;32m----> 5\u001b[0m df\u001b[38;5;241m.\u001b[39mloc[df3_art[\u001b[38;5;124m\"\u001b[39m\u001b[38;5;124mcategory\u001b[39m\u001b[38;5;124m\"\u001b[39m]\u001b[38;5;241m==\u001b[39m\u001b[38;5;124m\"\u001b[39m\u001b[38;5;124mArt\u001b[39m\u001b[38;5;124m\"\u001b[39m \u001b[38;5;129;01mand\u001b[39;00m df3_art[\u001b[38;5;124m\"\u001b[39m\u001b[38;5;124mstate\u001b[39m\u001b[38;5;124m\"\u001b[39m]\u001b[38;5;241m==\u001b[39m\u001b[38;5;124m'\u001b[39m\u001b[38;5;124msuccessful\u001b[39m\u001b[38;5;124m'\u001b[39m]\u001b[38;5;241m.\u001b[39msum()\n",
      "File \u001b[1;32m~\\anaconda3\\lib\\site-packages\\pandas\\core\\generic.py:1527\u001b[0m, in \u001b[0;36mNDFrame.__nonzero__\u001b[1;34m(self)\u001b[0m\n\u001b[0;32m   1525\u001b[0m \u001b[38;5;129m@final\u001b[39m\n\u001b[0;32m   1526\u001b[0m \u001b[38;5;28;01mdef\u001b[39;00m \u001b[38;5;21m__nonzero__\u001b[39m(\u001b[38;5;28mself\u001b[39m):\n\u001b[1;32m-> 1527\u001b[0m     \u001b[38;5;28;01mraise\u001b[39;00m \u001b[38;5;167;01mValueError\u001b[39;00m(\n\u001b[0;32m   1528\u001b[0m         \u001b[38;5;124mf\u001b[39m\u001b[38;5;124m\"\u001b[39m\u001b[38;5;124mThe truth value of a \u001b[39m\u001b[38;5;132;01m{\u001b[39;00m\u001b[38;5;28mtype\u001b[39m(\u001b[38;5;28mself\u001b[39m)\u001b[38;5;241m.\u001b[39m\u001b[38;5;18m__name__\u001b[39m\u001b[38;5;132;01m}\u001b[39;00m\u001b[38;5;124m is ambiguous. \u001b[39m\u001b[38;5;124m\"\u001b[39m\n\u001b[0;32m   1529\u001b[0m         \u001b[38;5;124m\"\u001b[39m\u001b[38;5;124mUse a.empty, a.bool(), a.item(), a.any() or a.all().\u001b[39m\u001b[38;5;124m\"\u001b[39m\n\u001b[0;32m   1530\u001b[0m     )\n",
      "\u001b[1;31mValueError\u001b[0m: The truth value of a Series is ambiguous. Use a.empty, a.bool(), a.item(), a.any() or a.all()."
     ]
    }
   ],
   "source": [
    "#arts = {\"Sub-Category\":['Art', 'Ceramics', 'Conceptual Art', 'Digital Art', 'Illustration',\n",
    " #'Installations', 'Mixed Media', 'Painting', 'Performance Art', 'Public Art',\n",
    " #'Sculpture', 'Textiles', 'Video Art'], \n",
    "            # \"Success\":[\n",
    "(df.loc[df3_art[\"category\"]==\"Art\" and df3_art[\"state\"]=='successful'].index).sum()\n",
    "             #\"Fail\":[\"Columbia\", \"Scotland\", \"USA\", \"Canada\", \"South Africa\"], \n",
    "\n",
    "\n",
    "#df = pd.DataFrame(passenger)\n",
    "\n",
    "#df"
   ]
  },
  {
   "cell_type": "code",
   "execution_count": null,
   "metadata": {},
   "outputs": [],
   "source": []
  },
  {
   "cell_type": "markdown",
   "metadata": {},
   "source": [
    "## <font color=#306EFF>Part 5: Group Presentation</font>\n",
    "\n",
    "By now, your group should feel very comfortable with the aspects of the Kickstarter dataset. You should have a firm understanding of what Kickstarter is, what the dataset contains, the characteristics of each variable, how the variables interact with each other, and finally, which variables influence the outcome of the Kickstarter campaign. Can you put all this information together to tell a story about the data? Your presentation should include visualizations and clear answers to the two primary questions:\n",
    "\n",
    "    1. What kinds of projects should the Kickstarter Marking Team focus their attention on?\n",
    "    2. Why should the Marketing Team focus their attention in that direction?\n",
    "\n",
    "In addition to these two questions, your presentation should cover the additional questions listed below. These questions should be easy to answer using the information you discovered above. When you are done, submit your completed notebook to me.   \n",
    "\n",
    "### <font color=#306EFF>Questions to Answer</font>\n",
    "1.\tWhat main category is the most profitable (highest amount of money pledged)? \n",
    "2.\tWhich main category is the most popular (highest number of backers)?\n",
    "3.\tWhich sub-categories are the most profitable and popular (top 3)?\n",
    "4.\tWhat are some of the characteristics of a successful Kickstarter campaign? \n",
    "5.\tHow does the success or failure of Kickstarter campaigns differ between main category, sub-category, country, and length of campaign? Please mention only the most notable – you do not need to detail the success/failure rate for each category/sub-category? \n",
    "\n",
    "***\n",
    "\n",
    "### <font color=#306EFF>TIPS FOR A GREAT PRESENTATION</font>\n",
    "\n",
    "* Start with the most important information (answers to the two questions above), and work backwards. The entire class will be working with the same dataset, therefore, we don't need to know the details of all your coding -- we just want to know what findings are most important to the questions. \n",
    "* Create clear visualizations. Make sure your audience can quickly and easily understand what your visualizations are showing. While you have a lot of options for how to style your visualizations, don't go overboard! \n",
    "* Make sure everyone understands what the visualization is showing; it should not have to stand on its own. When you present a visualization, you should be able to discuss what it means and what the significance is. \n",
    "* Use a single presentation format -- you can create a PowerPoint presentation or organize your notebook in a way that is easy to follow; reguardless of what your group puts together, you should use only ONE format. "
   ]
  },
  {
   "cell_type": "code",
   "execution_count": null,
   "metadata": {},
   "outputs": [],
   "source": []
  }
 ],
 "metadata": {
  "kernelspec": {
   "display_name": "Python 3 (ipykernel)",
   "language": "python",
   "name": "python3"
  },
  "language_info": {
   "codemirror_mode": {
    "name": "ipython",
    "version": 3
   },
   "file_extension": ".py",
   "mimetype": "text/x-python",
   "name": "python",
   "nbconvert_exporter": "python",
   "pygments_lexer": "ipython3",
   "version": "3.9.12"
  }
 },
 "nbformat": 4,
 "nbformat_minor": 4
}
