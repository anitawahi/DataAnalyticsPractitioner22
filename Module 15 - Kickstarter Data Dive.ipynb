{
 "cells": [
  {
   "cell_type": "markdown",
   "metadata": {},
   "source": [
    "# <u>Group Project: Kickstarter Campaign</u>\n",
    "\n",
    "Kickstarter is a company that provides the space for independent artists, creative, innovators, and entrepreneurs to bring their unique projects to life. Kickstarter allows anyone to financially support the project through an online pledging system - this means; anyone can pledge a specific amount of money towards the funding goal of the project. Kickstarter projects (also called campaigns) are all-or-nothing -- meaning, if the funding goal isn't met 100% (or exceeded), the project campaign fails and no funding is provided. The stakes are high - but what is it about certain campaigns that make them succeed while others fail? \n",
    "\n",
    "You have joined the marketing team for Kickstarter and you are tasked with exploring the features of several campaigns over the past few years. You are responsible for looking at this dataset and pulling out key insights about the characteristics of Kickstarter campaigns that make them more likely to succeed or fail. The marketing team at Kickstarter has a limited amount of funds to devote to highlighting specific projects, and they want to highlight projects that have the best chance of succeeding (i.e. meeting the funding goal). Can you help them determine who that might be?\n",
    "\n",
    "Complete the steps below to take a dataset from inception to insights, for the purpose of answering the following two questions:\n",
    "\n",
    "    1. What kinds of projects should the Kickstarter Marking Team focus their attention on?\n",
    "    2. Why should the Marketing Team focus their attention in that direction?\n",
    "\n",
    "After you have combed through the data, your group will put together a presentation (including visualizations), that clearly answers the two questions above. The Kickstarter dataset is posted to Canvas. Complete the code in the notebook below to complete the project. <b> You are NOT restricted to the steps laid out in this notebook to complete your project, You can conduct additional analyses or create additional visualizations. This notebook is everything you need to cover, but feel free to expand on these steps! This includes completing regression analyses with the dataset.</b>"
   ]
  },
  {
   "cell_type": "markdown",
   "metadata": {},
   "source": [
    "## <font color=red>Part 1: Domain Knowledge</font>\n",
    "\n",
    "Before you begin looking at the data, you need to expand your knowledge of the subject matter. Start by visiting www.kickstarter.com and read all you can about the company. What is the objective of the company? How does it work? What does the project timeline look like? You should research the company until you feel comfortable speaking about the basics of Kickstarter projects. Use the space below (double-click the cell to activate) to write a brief paragraph about what you learned about Kickstarter. \n",
    "\n",
    "### <font color=red>Questions to Answer</font>\n",
    "1. What is Kickstarter?\n",
    "2. What is the purpose of Kickstarter?\n",
    "3. Who are the \"backers\" of a Kickstarter campaign?\n",
    "4. How is success determined for a project campaign?\n",
    "\n",
    "****\n",
    "\n",
    "### <font color=red>KICKSTARTER INFORMATION</font>\n",
    "\n",
    "#### In a nutshell:\n",
    "Kickstarter is an online funding platform designed as a connection between creativity and capital. Its purpose is to break free from a central focus on profit at all costs.  The \"backers\" are individuals or groups that pledge money if a project gets fully funded. Success is determined as a project meeting its funding goal within its timeline.\n"
   ]
  },
  {
   "cell_type": "markdown",
   "metadata": {},
   "source": [
    "## <font color=darkorange>Part 2: Data Import and Cleaning</font>\n",
    "\n",
    "Now that you are familiar with where the data is coming from, you are ready to start examining the data. The Kickstarter Dataset is a collection of project campaign information from 2016. Data includes information about the project name, length, country of origin, goal, and the amount of money raised, etc. If you open the Kickstarter Dataset in excel, the second tab provides descriptions of each of the columns/variables. Import the dataset into this notebook and follow the steps below to gather information about the data and to clean up the dataset. Use the space below (double-click the cell to activate) to write a brief paragraph describing the dataset and the steps you took while cleaning the data. \n",
    "\n",
    "### <font color=darkorange>Questions to Answer</font>\n",
    "1. How many columns are in the dataset? How many rows?\n",
    "2. What type of variables (continuous, categorical) make up this dataset?\n",
    "3. Which variables have missing values? \n",
    "4. How did you handle the missing data in the dataset?\n",
    "5. How many rows are in your dataset after handling missing data?\n",
    "6. Are there any odd or inappropriate values within a column that don't make sense? If so, what are they?\n",
    "7. What percentage of the each project was funded? In other words, how close were they to reaching the goal? You will need to create a new variable to answer this question.\n",
    "\n",
    "***\n",
    "\n",
    "### <font color=darkorange>DATASET INFORMATION AND CLEANING</font>\n",
    "\n",
    "#### Answers below:\n",
    "1. 281,856 rows and 14 columns\n",
    "2. All types of variables - integer, decimal, date/time, and categorical\n",
    "3. missing variables in the following categories: name, usd pledged\n",
    "4. a project without a name is still a project, so just changed the name to unknown; a project without pledges, though, is neither a success nor a failure and therefore useless to include in dataset (dropped)\n",
    "5. 281,646 rows after handling missing data\n",
    "6. I found no odd or inappropriate values in any of the columns, including usd pledged, which has no negative values\n",
    "7. done"
   ]
  },
  {
   "cell_type": "code",
   "execution_count": 1,
   "metadata": {},
   "outputs": [],
   "source": [
    "## import libraries and import Kickstarter dataset\n",
    "import pandas as pd\n",
    "import numpy as np\n",
    "import seaborn as sns\n",
    "import statsmodels.formula.api as sm\n",
    "import scipy.stats as stats\n",
    "\n",
    "from matplotlib import pyplot as plt\n",
    "%matplotlib inline\n",
    "\n",
    "from sklearn.cluster import KMeans\n",
    "\n",
    "df = pd.read_excel(\"Kickstarter_Dataset.xlsx\")\n",
    "\n",
    "## this is a large dataset, we want to see all rows \n",
    "# pd.set_option('display.max_rows', None)\n",
    "\n",
    "\n",
    "## this is a very large dataset, be patient, it may take a while to import!!\n",
    "\n"
   ]
  },
  {
   "cell_type": "code",
   "execution_count": 2,
   "metadata": {},
   "outputs": [
    {
     "name": "stdout",
     "output_type": "stream",
     "text": [
      "<class 'pandas.core.frame.DataFrame'>\n",
      "RangeIndex: 281856 entries, 0 to 281855\n",
      "Data columns (total 14 columns):\n",
      " #   Column         Non-Null Count   Dtype         \n",
      "---  ------         --------------   -----         \n",
      " 0   ID             281856 non-null  int64         \n",
      " 1   name           281821 non-null  object        \n",
      " 2   main_category  281856 non-null  object        \n",
      " 3   category       281856 non-null  object        \n",
      " 4   country        281856 non-null  object        \n",
      " 5   currency       281856 non-null  object        \n",
      " 6   launched       281856 non-null  datetime64[ns]\n",
      " 7   deadline       281856 non-null  datetime64[ns]\n",
      " 8   length_days    281856 non-null  int64         \n",
      " 9   goal           281856 non-null  float64       \n",
      " 10  pledged        281856 non-null  float64       \n",
      " 11  usd pledged    281646 non-null  float64       \n",
      " 12  backers        281856 non-null  int64         \n",
      " 13  state          281856 non-null  object        \n",
      "dtypes: datetime64[ns](2), float64(3), int64(3), object(6)\n",
      "memory usage: 30.1+ MB\n"
     ]
    }
   ],
   "source": [
    "## determine dataset shape (number of rows and columns)\n",
    "df.info()\n"
   ]
  },
  {
   "cell_type": "code",
   "execution_count": null,
   "metadata": {},
   "outputs": [],
   "source": [
    "## determine dataset features (info) and data types\n",
    "\n"
   ]
  },
  {
   "cell_type": "code",
   "execution_count": 3,
   "metadata": {},
   "outputs": [
    {
     "data": {
      "text/plain": [
       "ID                 0\n",
       "name              35\n",
       "main_category      0\n",
       "category           0\n",
       "country            0\n",
       "currency           0\n",
       "launched           0\n",
       "deadline           0\n",
       "length_days        0\n",
       "goal               0\n",
       "pledged            0\n",
       "usd pledged      210\n",
       "backers            0\n",
       "state              0\n",
       "dtype: int64"
      ]
     },
     "execution_count": 3,
     "metadata": {},
     "output_type": "execute_result"
    }
   ],
   "source": [
    "## determine which variables have missing data \n",
    "df.isnull().sum()\n"
   ]
  },
  {
   "cell_type": "code",
   "execution_count": 4,
   "metadata": {},
   "outputs": [
    {
     "data": {
      "text/plain": [
       "ID               0\n",
       "name             0\n",
       "main_category    0\n",
       "category         0\n",
       "country          0\n",
       "currency         0\n",
       "launched         0\n",
       "deadline         0\n",
       "length_days      0\n",
       "goal             0\n",
       "pledged          0\n",
       "usd pledged      0\n",
       "backers          0\n",
       "state            0\n",
       "dtype: int64"
      ]
     },
     "execution_count": 4,
     "metadata": {},
     "output_type": "execute_result"
    }
   ],
   "source": [
    "## handling missing data\n",
    "\n",
    "## fill all the missing values in \"name\" with \"Unknown Project Name\"\n",
    "df[\"name\"].replace(np.nan, \"Unknown Project Name\", inplace = True)\n",
    "#checking to see that it was done correctly\n",
    "df.loc[df[\"name\"]==\"Unknown Project Name\"]\n",
    "\n",
    "## drop all the rows where \"usd pledged\" is missing\n",
    "df.dropna(subset=[\"usd pledged\"], inplace = True)\n",
    "\n",
    "# checking for missing values\n",
    "df.isnull().sum()"
   ]
  },
  {
   "cell_type": "code",
   "execution_count": 5,
   "metadata": {},
   "outputs": [
    {
     "name": "stdout",
     "output_type": "stream",
     "text": [
      "<class 'pandas.core.frame.DataFrame'>\n",
      "Int64Index: 281646 entries, 0 to 281855\n",
      "Data columns (total 14 columns):\n",
      " #   Column         Non-Null Count   Dtype         \n",
      "---  ------         --------------   -----         \n",
      " 0   ID             281646 non-null  int64         \n",
      " 1   name           281646 non-null  object        \n",
      " 2   main_category  281646 non-null  object        \n",
      " 3   category       281646 non-null  object        \n",
      " 4   country        281646 non-null  object        \n",
      " 5   currency       281646 non-null  object        \n",
      " 6   launched       281646 non-null  datetime64[ns]\n",
      " 7   deadline       281646 non-null  datetime64[ns]\n",
      " 8   length_days    281646 non-null  int64         \n",
      " 9   goal           281646 non-null  float64       \n",
      " 10  pledged        281646 non-null  float64       \n",
      " 11  usd pledged    281646 non-null  float64       \n",
      " 12  backers        281646 non-null  int64         \n",
      " 13  state          281646 non-null  object        \n",
      "dtypes: datetime64[ns](2), float64(3), int64(3), object(6)\n",
      "memory usage: 32.2+ MB\n"
     ]
    },
    {
     "data": {
      "text/plain": [
       "failed        168503\n",
       "successful    113143\n",
       "Name: state, dtype: int64"
      ]
     },
     "execution_count": 5,
     "metadata": {},
     "output_type": "execute_result"
    }
   ],
   "source": [
    "## inappropriate values in categorical variables; check value counts\n",
    "df.info()\n",
    "df[\"main_category\"].value_counts()\n",
    "df[\"category\"].value_counts()\n",
    "df[\"country\"].value_counts()\n",
    "df[\"currency\"].value_counts()\n",
    "df[\"state\"].value_counts()"
   ]
  },
  {
   "cell_type": "code",
   "execution_count": 7,
   "metadata": {
    "scrolled": false
   },
   "outputs": [
    {
     "data": {
      "text/plain": [
       "Int64Index([], dtype='int64')"
      ]
     },
     "execution_count": 7,
     "metadata": {},
     "output_type": "execute_result"
    }
   ],
   "source": [
    "df.loc[df[\"usd pledged\"]<0].index"
   ]
  },
  {
   "cell_type": "code",
   "execution_count": 8,
   "metadata": {},
   "outputs": [],
   "source": [
    "df3 = df.copy()"
   ]
  },
  {
   "cell_type": "code",
   "execution_count": 9,
   "metadata": {},
   "outputs": [
    {
     "data": {
      "text/html": [
       "<div>\n",
       "<style scoped>\n",
       "    .dataframe tbody tr th:only-of-type {\n",
       "        vertical-align: middle;\n",
       "    }\n",
       "\n",
       "    .dataframe tbody tr th {\n",
       "        vertical-align: top;\n",
       "    }\n",
       "\n",
       "    .dataframe thead th {\n",
       "        text-align: right;\n",
       "    }\n",
       "</style>\n",
       "<table border=\"1\" class=\"dataframe\">\n",
       "  <thead>\n",
       "    <tr style=\"text-align: right;\">\n",
       "      <th></th>\n",
       "      <th>main_category</th>\n",
       "      <th>category</th>\n",
       "      <th>country</th>\n",
       "      <th>currency</th>\n",
       "      <th>length_days</th>\n",
       "      <th>goal</th>\n",
       "      <th>usd pledged</th>\n",
       "      <th>backers</th>\n",
       "      <th>state</th>\n",
       "    </tr>\n",
       "  </thead>\n",
       "  <tbody>\n",
       "    <tr>\n",
       "      <th>0</th>\n",
       "      <td>Food</td>\n",
       "      <td>Cookbooks</td>\n",
       "      <td>US</td>\n",
       "      <td>USD</td>\n",
       "      <td>29</td>\n",
       "      <td>13730.0</td>\n",
       "      <td>3984.000000</td>\n",
       "      <td>46</td>\n",
       "      <td>failed</td>\n",
       "    </tr>\n",
       "    <tr>\n",
       "      <th>1</th>\n",
       "      <td>Technology</td>\n",
       "      <td>3D Printing</td>\n",
       "      <td>AT</td>\n",
       "      <td>EUR</td>\n",
       "      <td>35</td>\n",
       "      <td>75000.0</td>\n",
       "      <td>1561.784015</td>\n",
       "      <td>31</td>\n",
       "      <td>failed</td>\n",
       "    </tr>\n",
       "    <tr>\n",
       "      <th>2</th>\n",
       "      <td>Technology</td>\n",
       "      <td>3D Printing</td>\n",
       "      <td>AT</td>\n",
       "      <td>EUR</td>\n",
       "      <td>30</td>\n",
       "      <td>15000.0</td>\n",
       "      <td>4152.402045</td>\n",
       "      <td>46</td>\n",
       "      <td>failed</td>\n",
       "    </tr>\n",
       "    <tr>\n",
       "      <th>3</th>\n",
       "      <td>Technology</td>\n",
       "      <td>3D Printing</td>\n",
       "      <td>AT</td>\n",
       "      <td>EUR</td>\n",
       "      <td>30</td>\n",
       "      <td>20000.0</td>\n",
       "      <td>19.435528</td>\n",
       "      <td>6</td>\n",
       "      <td>failed</td>\n",
       "    </tr>\n",
       "    <tr>\n",
       "      <th>4</th>\n",
       "      <td>Technology</td>\n",
       "      <td>3D Printing</td>\n",
       "      <td>AT</td>\n",
       "      <td>EUR</td>\n",
       "      <td>40</td>\n",
       "      <td>20000.0</td>\n",
       "      <td>2908.076574</td>\n",
       "      <td>29</td>\n",
       "      <td>failed</td>\n",
       "    </tr>\n",
       "  </tbody>\n",
       "</table>\n",
       "</div>"
      ],
      "text/plain": [
       "  main_category     category country currency  length_days     goal  \\\n",
       "0          Food    Cookbooks      US      USD           29  13730.0   \n",
       "1    Technology  3D Printing      AT      EUR           35  75000.0   \n",
       "2    Technology  3D Printing      AT      EUR           30  15000.0   \n",
       "3    Technology  3D Printing      AT      EUR           30  20000.0   \n",
       "4    Technology  3D Printing      AT      EUR           40  20000.0   \n",
       "\n",
       "   usd pledged  backers   state  \n",
       "0  3984.000000       46  failed  \n",
       "1  1561.784015       31  failed  \n",
       "2  4152.402045       46  failed  \n",
       "3    19.435528        6  failed  \n",
       "4  2908.076574       29  failed  "
      ]
     },
     "execution_count": 9,
     "metadata": {},
     "output_type": "execute_result"
    }
   ],
   "source": [
    "## drop unneeded columns (project ID, name, pledged, launched, deadline)\n",
    "# you will use usd pledged from now on\n",
    "\n",
    "df3.drop(columns = [\"ID\", \"name\", \"launched\", \"deadline\", \"pledged\"], inplace = True)\n",
    "\n",
    "df3.head()\n"
   ]
  },
  {
   "cell_type": "code",
   "execution_count": 15,
   "metadata": {},
   "outputs": [],
   "source": [
    "# create a new column\n",
    "## percentage of project that was funded - how close were they to reaching the goal?\n",
    "\n",
    "df[\"pct_funded\"] = (df[\"usd pledged\"]/df[\"goal\"])*100"
   ]
  },
  {
   "cell_type": "code",
   "execution_count": 16,
   "metadata": {},
   "outputs": [
    {
     "data": {
      "text/html": [
       "<div>\n",
       "<style scoped>\n",
       "    .dataframe tbody tr th:only-of-type {\n",
       "        vertical-align: middle;\n",
       "    }\n",
       "\n",
       "    .dataframe tbody tr th {\n",
       "        vertical-align: top;\n",
       "    }\n",
       "\n",
       "    .dataframe thead th {\n",
       "        text-align: right;\n",
       "    }\n",
       "</style>\n",
       "<table border=\"1\" class=\"dataframe\">\n",
       "  <thead>\n",
       "    <tr style=\"text-align: right;\">\n",
       "      <th></th>\n",
       "      <th>ID</th>\n",
       "      <th>length_days</th>\n",
       "      <th>goal</th>\n",
       "      <th>pledged</th>\n",
       "      <th>usd pledged</th>\n",
       "      <th>backers</th>\n",
       "      <th>pct_funded</th>\n",
       "    </tr>\n",
       "  </thead>\n",
       "  <tbody>\n",
       "    <tr>\n",
       "      <th>count</th>\n",
       "      <td>2.816460e+05</td>\n",
       "      <td>281646.000000</td>\n",
       "      <td>2.816460e+05</td>\n",
       "      <td>2.816460e+05</td>\n",
       "      <td>2.816460e+05</td>\n",
       "      <td>281646.000000</td>\n",
       "      <td>2.816460e+05</td>\n",
       "    </tr>\n",
       "    <tr>\n",
       "      <th>mean</th>\n",
       "      <td>1.074977e+09</td>\n",
       "      <td>33.976520</td>\n",
       "      <td>4.181597e+04</td>\n",
       "      <td>9.441571e+03</td>\n",
       "      <td>8.575848e+03</td>\n",
       "      <td>111.934801</td>\n",
       "      <td>2.762000e+02</td>\n",
       "    </tr>\n",
       "    <tr>\n",
       "      <th>std</th>\n",
       "      <td>6.194735e+08</td>\n",
       "      <td>12.894187</td>\n",
       "      <td>1.043830e+06</td>\n",
       "      <td>9.406700e+04</td>\n",
       "      <td>8.916948e+04</td>\n",
       "      <td>996.631624</td>\n",
       "      <td>1.826263e+04</td>\n",
       "    </tr>\n",
       "    <tr>\n",
       "      <th>min</th>\n",
       "      <td>5.971000e+03</td>\n",
       "      <td>1.000000</td>\n",
       "      <td>1.000000e-02</td>\n",
       "      <td>0.000000e+00</td>\n",
       "      <td>0.000000e+00</td>\n",
       "      <td>0.000000</td>\n",
       "      <td>0.000000e+00</td>\n",
       "    </tr>\n",
       "    <tr>\n",
       "      <th>25%</th>\n",
       "      <td>5.373189e+08</td>\n",
       "      <td>30.000000</td>\n",
       "      <td>2.000000e+03</td>\n",
       "      <td>5.000000e+01</td>\n",
       "      <td>4.000000e+01</td>\n",
       "      <td>2.000000</td>\n",
       "      <td>6.000000e-01</td>\n",
       "    </tr>\n",
       "    <tr>\n",
       "      <th>50%</th>\n",
       "      <td>1.075998e+09</td>\n",
       "      <td>30.000000</td>\n",
       "      <td>5.000000e+03</td>\n",
       "      <td>7.710000e+02</td>\n",
       "      <td>6.910000e+02</td>\n",
       "      <td>15.000000</td>\n",
       "      <td>1.661484e+01</td>\n",
       "    </tr>\n",
       "    <tr>\n",
       "      <th>75%</th>\n",
       "      <td>1.611435e+09</td>\n",
       "      <td>36.000000</td>\n",
       "      <td>1.500000e+04</td>\n",
       "      <td>4.448875e+03</td>\n",
       "      <td>4.109040e+03</td>\n",
       "      <td>62.000000</td>\n",
       "      <td>1.080828e+02</td>\n",
       "    </tr>\n",
       "    <tr>\n",
       "      <th>max</th>\n",
       "      <td>2.147476e+09</td>\n",
       "      <td>92.000000</td>\n",
       "      <td>1.000000e+08</td>\n",
       "      <td>2.033899e+07</td>\n",
       "      <td>2.033899e+07</td>\n",
       "      <td>219382.000000</td>\n",
       "      <td>5.526657e+06</td>\n",
       "    </tr>\n",
       "  </tbody>\n",
       "</table>\n",
       "</div>"
      ],
      "text/plain": [
       "                 ID    length_days          goal       pledged   usd pledged  \\\n",
       "count  2.816460e+05  281646.000000  2.816460e+05  2.816460e+05  2.816460e+05   \n",
       "mean   1.074977e+09      33.976520  4.181597e+04  9.441571e+03  8.575848e+03   \n",
       "std    6.194735e+08      12.894187  1.043830e+06  9.406700e+04  8.916948e+04   \n",
       "min    5.971000e+03       1.000000  1.000000e-02  0.000000e+00  0.000000e+00   \n",
       "25%    5.373189e+08      30.000000  2.000000e+03  5.000000e+01  4.000000e+01   \n",
       "50%    1.075998e+09      30.000000  5.000000e+03  7.710000e+02  6.910000e+02   \n",
       "75%    1.611435e+09      36.000000  1.500000e+04  4.448875e+03  4.109040e+03   \n",
       "max    2.147476e+09      92.000000  1.000000e+08  2.033899e+07  2.033899e+07   \n",
       "\n",
       "             backers    pct_funded  \n",
       "count  281646.000000  2.816460e+05  \n",
       "mean      111.934801  2.762000e+02  \n",
       "std       996.631624  1.826263e+04  \n",
       "min         0.000000  0.000000e+00  \n",
       "25%         2.000000  6.000000e-01  \n",
       "50%        15.000000  1.661484e+01  \n",
       "75%        62.000000  1.080828e+02  \n",
       "max    219382.000000  5.526657e+06  "
      ]
     },
     "execution_count": 16,
     "metadata": {},
     "output_type": "execute_result"
    }
   ],
   "source": [
    "df.describe()"
   ]
  },
  {
   "cell_type": "code",
   "execution_count": null,
   "metadata": {},
   "outputs": [],
   "source": []
  },
  {
   "cell_type": "markdown",
   "metadata": {},
   "source": [
    "## <font color=#EAC117>Part 3: Exploratory Analysis</font>\n",
    "\n",
    "With a clean dataset, you are now ready to start exploring the variables in your dataset. Don't worry about how your variables relate to each other - we will cover that in the next section. For now, it's more important that you get a clear sense of the variable characteristics on their own. Follow the steps below to explore all of the variables within your dataset and preform descriptive statistics. In addition to the descriptive statistics, you are tasked with creating a visualizations related to your results. Stylistic choices related to the visualizations is up to your group. Use the space below (double-click the cell to activate) to write a brief paragraph describing the steps you took to explore the data. \n",
    "\n",
    "### <font color=#EAC117>Questions to Answer</font>\n",
    "1.\tWhat is the average (mean) for the following variables: goal, usd pledged, backers, and length? \n",
    "2.\tWhat is the maximum value, minimum value, and range for the following variables: goal, usd pledged, backers, and length?\n",
    "3.\tWhat is the most common (mode) length for campaign projects?\n",
    "4.\tConsidering the categorical variables, what is the most frequent main category group? How many projects are classified under this category? What is the most frequent sub-category? How many projects are classified under this category? \n",
    "5.\tConsidering the categorical variables, what is the least frequent main category group? How many projects are classified under this category? What is the least frequent sub-category? How many projects are classified under this category? \n",
    "6.\tWhich country has started the most Kickstarter campaigns?\n",
    "7.\tHow many projects have failed? How many projects have succeeded?\n",
    "\n",
    "### <font color=#EAC117>Visualizations to Create</font> \n",
    "* Number of Projects by Main Category\n",
    "* Number of projects by State (outcome)\n",
    "* Number of projects from each country\n",
    "* Number of successful projects and failed projects by Main Category\n",
    "\n",
    "***\n",
    "\n",
    "### <font color=#EAC117>EXPLORATORY DATA ANALYSIS</font>\n",
    "\n",
    "#### Start your paragraph here . . . Be sure to answer all questions in this space!"
   ]
  },
  {
   "cell_type": "code",
   "execution_count": 18,
   "metadata": {},
   "outputs": [],
   "source": [
    "df3 = df.copy()"
   ]
  },
  {
   "cell_type": "code",
   "execution_count": 19,
   "metadata": {},
   "outputs": [
    {
     "data": {
      "text/html": [
       "<div>\n",
       "<style scoped>\n",
       "    .dataframe tbody tr th:only-of-type {\n",
       "        vertical-align: middle;\n",
       "    }\n",
       "\n",
       "    .dataframe tbody tr th {\n",
       "        vertical-align: top;\n",
       "    }\n",
       "\n",
       "    .dataframe thead th {\n",
       "        text-align: right;\n",
       "    }\n",
       "</style>\n",
       "<table border=\"1\" class=\"dataframe\">\n",
       "  <thead>\n",
       "    <tr style=\"text-align: right;\">\n",
       "      <th></th>\n",
       "      <th>ID</th>\n",
       "      <th>length_days</th>\n",
       "      <th>goal</th>\n",
       "      <th>pledged</th>\n",
       "      <th>usd pledged</th>\n",
       "      <th>backers</th>\n",
       "      <th>pct_funded</th>\n",
       "    </tr>\n",
       "  </thead>\n",
       "  <tbody>\n",
       "    <tr>\n",
       "      <th>count</th>\n",
       "      <td>2.816460e+05</td>\n",
       "      <td>281646.000000</td>\n",
       "      <td>2.816460e+05</td>\n",
       "      <td>2.816460e+05</td>\n",
       "      <td>2.816460e+05</td>\n",
       "      <td>281646.000000</td>\n",
       "      <td>2.816460e+05</td>\n",
       "    </tr>\n",
       "    <tr>\n",
       "      <th>mean</th>\n",
       "      <td>1.074977e+09</td>\n",
       "      <td>33.976520</td>\n",
       "      <td>4.181597e+04</td>\n",
       "      <td>9.441571e+03</td>\n",
       "      <td>8.575848e+03</td>\n",
       "      <td>111.934801</td>\n",
       "      <td>2.762000e+02</td>\n",
       "    </tr>\n",
       "    <tr>\n",
       "      <th>std</th>\n",
       "      <td>6.194735e+08</td>\n",
       "      <td>12.894187</td>\n",
       "      <td>1.043830e+06</td>\n",
       "      <td>9.406700e+04</td>\n",
       "      <td>8.916948e+04</td>\n",
       "      <td>996.631624</td>\n",
       "      <td>1.826263e+04</td>\n",
       "    </tr>\n",
       "    <tr>\n",
       "      <th>min</th>\n",
       "      <td>5.971000e+03</td>\n",
       "      <td>1.000000</td>\n",
       "      <td>1.000000e-02</td>\n",
       "      <td>0.000000e+00</td>\n",
       "      <td>0.000000e+00</td>\n",
       "      <td>0.000000</td>\n",
       "      <td>0.000000e+00</td>\n",
       "    </tr>\n",
       "    <tr>\n",
       "      <th>25%</th>\n",
       "      <td>5.373189e+08</td>\n",
       "      <td>30.000000</td>\n",
       "      <td>2.000000e+03</td>\n",
       "      <td>5.000000e+01</td>\n",
       "      <td>4.000000e+01</td>\n",
       "      <td>2.000000</td>\n",
       "      <td>6.000000e-01</td>\n",
       "    </tr>\n",
       "    <tr>\n",
       "      <th>50%</th>\n",
       "      <td>1.075998e+09</td>\n",
       "      <td>30.000000</td>\n",
       "      <td>5.000000e+03</td>\n",
       "      <td>7.710000e+02</td>\n",
       "      <td>6.910000e+02</td>\n",
       "      <td>15.000000</td>\n",
       "      <td>1.661484e+01</td>\n",
       "    </tr>\n",
       "    <tr>\n",
       "      <th>75%</th>\n",
       "      <td>1.611435e+09</td>\n",
       "      <td>36.000000</td>\n",
       "      <td>1.500000e+04</td>\n",
       "      <td>4.448875e+03</td>\n",
       "      <td>4.109040e+03</td>\n",
       "      <td>62.000000</td>\n",
       "      <td>1.080828e+02</td>\n",
       "    </tr>\n",
       "    <tr>\n",
       "      <th>max</th>\n",
       "      <td>2.147476e+09</td>\n",
       "      <td>92.000000</td>\n",
       "      <td>1.000000e+08</td>\n",
       "      <td>2.033899e+07</td>\n",
       "      <td>2.033899e+07</td>\n",
       "      <td>219382.000000</td>\n",
       "      <td>5.526657e+06</td>\n",
       "    </tr>\n",
       "  </tbody>\n",
       "</table>\n",
       "</div>"
      ],
      "text/plain": [
       "                 ID    length_days          goal       pledged   usd pledged  \\\n",
       "count  2.816460e+05  281646.000000  2.816460e+05  2.816460e+05  2.816460e+05   \n",
       "mean   1.074977e+09      33.976520  4.181597e+04  9.441571e+03  8.575848e+03   \n",
       "std    6.194735e+08      12.894187  1.043830e+06  9.406700e+04  8.916948e+04   \n",
       "min    5.971000e+03       1.000000  1.000000e-02  0.000000e+00  0.000000e+00   \n",
       "25%    5.373189e+08      30.000000  2.000000e+03  5.000000e+01  4.000000e+01   \n",
       "50%    1.075998e+09      30.000000  5.000000e+03  7.710000e+02  6.910000e+02   \n",
       "75%    1.611435e+09      36.000000  1.500000e+04  4.448875e+03  4.109040e+03   \n",
       "max    2.147476e+09      92.000000  1.000000e+08  2.033899e+07  2.033899e+07   \n",
       "\n",
       "             backers    pct_funded  \n",
       "count  281646.000000  2.816460e+05  \n",
       "mean      111.934801  2.762000e+02  \n",
       "std       996.631624  1.826263e+04  \n",
       "min         0.000000  0.000000e+00  \n",
       "25%         2.000000  6.000000e-01  \n",
       "50%        15.000000  1.661484e+01  \n",
       "75%        62.000000  1.080828e+02  \n",
       "max    219382.000000  5.526657e+06  "
      ]
     },
     "execution_count": 19,
     "metadata": {},
     "output_type": "execute_result"
    }
   ],
   "source": [
    "## output descriptive statistics for numeric variables in the dataset\n",
    "df3.describe()\n"
   ]
  },
  {
   "cell_type": "code",
   "execution_count": 20,
   "metadata": {},
   "outputs": [
    {
     "data": {
      "text/plain": [
       "0    30\n",
       "Name: length_days, dtype: int64"
      ]
     },
     "execution_count": 20,
     "metadata": {},
     "output_type": "execute_result"
    }
   ],
   "source": [
    "#finding mode of campaign lengths\n",
    "df3[\"length_days\"].mode()"
   ]
  },
  {
   "cell_type": "code",
   "execution_count": 21,
   "metadata": {},
   "outputs": [
    {
     "name": "stdout",
     "output_type": "stream",
     "text": [
      "Ranges\n",
      "------------------------------------\n",
      "Project length:\t\t91 days\n",
      "Goal Amount:\t\t$99999999\n",
      "USD Pledged Amount:\t$20338986\n",
      "Number of Backers:\t219382\n",
      "Percent Funded:\t\t552665700%\n"
     ]
    }
   ],
   "source": [
    "## calculate the range for all numeric variables\n",
    "days_range = df3[\"length_days\"].max() - df3[\"length_days\"].min()\n",
    "goal_range = df3[\"goal\"].max() - df3[\"goal\"].min()\n",
    "pledged_range = df3[\"usd pledged\"].max() - df3[\"usd pledged\"].min()\n",
    "backers_range = df3[\"backers\"].max() - df3[\"backers\"].min()\n",
    "pct_funded_range = df3[\"pct_funded\"].max() - df3[\"pct_funded\"].min()\n",
    "\n",
    "print(\"Ranges\")\n",
    "print(\"--\"*18)\n",
    "print(f\"Project length:\\t\\t{days_range} days\")\n",
    "print(f\"Goal Amount:\\t\\t${int(goal_range)}\")\n",
    "print(f\"USD Pledged Amount:\\t${int(pledged_range)}\")\n",
    "print(f\"Number of Backers:\\t{int(backers_range)}\")\n",
    "print(f\"Percent Funded:\\t\\t{int(pct_funded_range)*100}%\")"
   ]
  },
  {
   "cell_type": "code",
   "execution_count": 22,
   "metadata": {
    "scrolled": false
   },
   "outputs": [
    {
     "data": {
      "text/plain": [
       "Film & Video    51108\n",
       "Music           40868\n",
       "Publishing      30254\n",
       "Games           22429\n",
       "Art             21805\n",
       "Technology      21444\n",
       "Design          20032\n",
       "Food            18899\n",
       "Fashion         15839\n",
       "Theater          9340\n",
       "Photography      8668\n",
       "Comics           7918\n",
       "Crafts           6310\n",
       "Journalism       3537\n",
       "Dance            3195\n",
       "Name: main_category, dtype: int64"
      ]
     },
     "execution_count": 22,
     "metadata": {},
     "output_type": "execute_result"
    }
   ],
   "source": [
    "## frequency of categorical variable groups\n",
    "df3[\"main_category\"].value_counts()\n"
   ]
  },
  {
   "cell_type": "code",
   "execution_count": 23,
   "metadata": {
    "scrolled": false
   },
   "outputs": [
    {
     "data": {
      "text/plain": [
       "Product Design    14539\n",
       "Documentary       13371\n",
       "Shorts            10786\n",
       "Music             10744\n",
       "Food               9545\n",
       "                  ...  \n",
       "Weaving              59\n",
       "Residencies          52\n",
       "Letterpress          34\n",
       "Chiptune             31\n",
       "Taxidermy             9\n",
       "Name: category, Length: 158, dtype: int64"
      ]
     },
     "execution_count": 23,
     "metadata": {},
     "output_type": "execute_result"
    }
   ],
   "source": [
    "df3[\"category\"].value_counts()"
   ]
  },
  {
   "cell_type": "code",
   "execution_count": 24,
   "metadata": {},
   "outputs": [
    {
     "data": {
      "text/plain": [
       "US    229826\n",
       "GB     23877\n",
       "CA      9912\n",
       "AU      5195\n",
       "DE      2131\n",
       "NL      1873\n",
       "FR      1559\n",
       "IT      1394\n",
       "ES      1090\n",
       "SE      1066\n",
       "NZ       993\n",
       "DK       672\n",
       "IE       473\n",
       "NO       430\n",
       "CH       389\n",
       "BE       329\n",
       "AT       283\n",
       "SG        70\n",
       "HK        47\n",
       "LU        33\n",
       "MX         4\n",
       "Name: country, dtype: int64"
      ]
     },
     "execution_count": 24,
     "metadata": {},
     "output_type": "execute_result"
    }
   ],
   "source": [
    "df3[\"country\"].value_counts()\n"
   ]
  },
  {
   "cell_type": "code",
   "execution_count": 25,
   "metadata": {},
   "outputs": [
    {
     "data": {
      "text/plain": [
       "USD    229826\n",
       "GBP     23877\n",
       "CAD      9912\n",
       "EUR      9165\n",
       "AUD      5195\n",
       "SEK      1066\n",
       "NZD       993\n",
       "DKK       672\n",
       "NOK       430\n",
       "CHF       389\n",
       "SGD        70\n",
       "HKD        47\n",
       "MXN         4\n",
       "Name: currency, dtype: int64"
      ]
     },
     "execution_count": 25,
     "metadata": {},
     "output_type": "execute_result"
    }
   ],
   "source": [
    "df3[\"currency\"].value_counts()"
   ]
  },
  {
   "cell_type": "code",
   "execution_count": 26,
   "metadata": {},
   "outputs": [
    {
     "data": {
      "text/plain": [
       "failed        168503\n",
       "successful    113143\n",
       "Name: state, dtype: int64"
      ]
     },
     "execution_count": 26,
     "metadata": {},
     "output_type": "execute_result"
    }
   ],
   "source": [
    "df3[\"state\"].value_counts()"
   ]
  },
  {
   "cell_type": "code",
   "execution_count": 27,
   "metadata": {},
   "outputs": [
    {
     "data": {
      "text/plain": [
       "<AxesSubplot:title={'center':'Number of Projects by Main Category'}, xlabel='main_category', ylabel='Count'>"
      ]
     },
     "execution_count": 27,
     "metadata": {},
     "output_type": "execute_result"
    },
    {
     "data": {
      "image/png": "[encoded data removed]",
      "text/plain": [
       "<Figure size 1080x360 with 1 Axes>"
      ]
     },
     "metadata": {
      "needs_background": "light"
     },
     "output_type": "display_data"
    }
   ],
   "source": [
    "# visualization: number of projects by main category\n",
    "\n",
    "plt.figure(figsize = (15,5))\n",
    "plt.xticks(rotation = 90)\n",
    "plt.title(\"Number of Projects by Main Category\")\n",
    "sns.histplot(x = df3[\"main_category\"], kde = False)\n"
   ]
  },
  {
   "cell_type": "code",
   "execution_count": 28,
   "metadata": {},
   "outputs": [
    {
     "data": {
      "text/plain": [
       "<AxesSubplot:title={'center':'Number of Projects by Failure/Success'}, xlabel='state', ylabel='Count'>"
      ]
     },
     "execution_count": 28,
     "metadata": {},
     "output_type": "execute_result"
    },
    {
     "data": {
      "image/png": "[encoded data removed]",
      "text/plain": [
       "<Figure size 432x288 with 1 Axes>"
      ]
     },
     "metadata": {
      "needs_background": "light"
     },
     "output_type": "display_data"
    }
   ],
   "source": [
    "# visualization: number of projects by state\n",
    "plt.title(\"Number of Projects by Failure/Success\")\n",
    "plt.xticks(rotation = 90)\n",
    "sns.histplot(x = df3[\"state\"], kde = False)"
   ]
  },
  {
   "cell_type": "code",
   "execution_count": 29,
   "metadata": {},
   "outputs": [
    {
     "data": {
      "text/plain": [
       "<AxesSubplot:title={'center':'Number of Projects by Country'}, xlabel='country', ylabel='Count'>"
      ]
     },
     "execution_count": 29,
     "metadata": {},
     "output_type": "execute_result"
    },
    {
     "data": {
      "image/png": "[encoded data removed]",
      "text/plain": [
       "<Figure size 1080x360 with 1 Axes>"
      ]
     },
     "metadata": {
      "needs_background": "light"
     },
     "output_type": "display_data"
    }
   ],
   "source": [
    "# visualization: number of projects by country\n",
    "\n",
    "plt.figure(figsize = (15,5))\n",
    "plt.xticks(rotation = 90)\n",
    "plt.title(\"Number of Projects by Country\")\n",
    "sns.histplot(x = df3[\"country\"], kde = False)"
   ]
  },
  {
   "cell_type": "code",
   "execution_count": 30,
   "metadata": {},
   "outputs": [
    {
     "data": {
      "text/plain": [
       "<AxesSubplot:title={'center':'Number of Failed/Successful Projects by Main Category'}, xlabel='main_category', ylabel='count'>"
      ]
     },
     "execution_count": 30,
     "metadata": {},
     "output_type": "execute_result"
    },
    {
     "data": {
      "image/png": "[encoded data removed]",
      "text/plain": [
       "<Figure size 1080x360 with 1 Axes>"
      ]
     },
     "metadata": {
      "needs_background": "light"
     },
     "output_type": "display_data"
    }
   ],
   "source": [
    "# visualization: number of failed/successful projects by main category\n",
    "\n",
    "plt.figure(figsize = (15,5))\n",
    "plt.xticks(rotation = 90)\n",
    "plt.title(\"Number of Failed/Successful Projects by Main Category\")\n",
    "sns.countplot(x = df3[\"main_category\"], hue = df3[\"state\"])"
   ]
  },
  {
   "cell_type": "code",
   "execution_count": null,
   "metadata": {},
   "outputs": [],
   "source": []
  },
  {
   "cell_type": "markdown",
   "metadata": {},
   "source": [
    "## <font color=#6AA121>Part 4: Variable Relationships</font>\n",
    "\n",
    "It's time to explore the relationships between variables and answer some of the critical questions for the project. Your dependent/outcome variable is <b>STATE</b> - this is the variable that captures if the project was successful or not. In addition to exploring the relationships between your other independent variables, you want to pay close attention to the relationship between your independent variables and state. Follow the steps below to explore the relationships between your variables. In addition, you are tasked with creating visualizations related to your results. Stylistic choices related to the visualizations is up to your group. Use the space below (double-click the cell to activate) to write a brief paragraph describing the steps you took to determine variable relationships. \n",
    "\n",
    "### <font color=#6AA121>Questions to Answer</font>\n",
    "1.\tHow correlated are the numeric variables within this dataset? Create a correlation matrix to find out. Is anything highly correlated?\n",
    "2.\tWhat is the average amount of money pledged across each of the main categories? What about across the following: sub-category, country, currency, and state? Which main category is the most profitable? \n",
    "3.\tWhat is the average number of backers across each of the main categories? What about across the following: sub-category, country, currency, and state? Which main category is the most popular?\n",
    "4.\tWhat percentage of projects succeed and fail across each of the main categories?\n",
    "5.\tWhich of the main categories have the highest success rate (top 3)? Which of the sub-categories have the highest success rate (top 3)?\n",
    "6.\tWhat is the average duration of a campaign for projects that succeed? What is the average duration for projects that fail?\n",
    "7.  What is the average funding goal of a campaign for projects that succeed? What is the average funding goal for projects that fail?\n",
    "\n",
    "\n",
    "### <font color=#6AA121>Visualizations to Create</font> \n",
    "* Average Pledge by Main Category\n",
    "* Average Num Backers by Main Category\n",
    "* Average Pledge by State\n",
    "* Average Num Backers by State\n",
    "* Average Funding Goal by Main Category\n",
    "* Average Funding Goal by State\n",
    "* Average Percentage of Funding Collected by Main Category\n",
    "\n",
    "***\n",
    "\n",
    "### <font color=#6AA121>RELATIONSHIPS BETWEEN VARIABLES</font>\n",
    "\n",
    "#### Start your paragraph here . . . Be sure to answer all questions in this space!"
   ]
  },
  {
   "cell_type": "code",
   "execution_count": 32,
   "metadata": {},
   "outputs": [
    {
     "data": {
      "text/html": [
       "<div>\n",
       "<style scoped>\n",
       "    .dataframe tbody tr th:only-of-type {\n",
       "        vertical-align: middle;\n",
       "    }\n",
       "\n",
       "    .dataframe tbody tr th {\n",
       "        vertical-align: top;\n",
       "    }\n",
       "\n",
       "    .dataframe thead th {\n",
       "        text-align: right;\n",
       "    }\n",
       "</style>\n",
       "<table border=\"1\" class=\"dataframe\">\n",
       "  <thead>\n",
       "    <tr style=\"text-align: right;\">\n",
       "      <th></th>\n",
       "      <th>length_days</th>\n",
       "      <th>goal</th>\n",
       "      <th>pledged</th>\n",
       "      <th>usd pledged</th>\n",
       "      <th>backers</th>\n",
       "      <th>pct_funded</th>\n",
       "    </tr>\n",
       "  </thead>\n",
       "  <tbody>\n",
       "    <tr>\n",
       "      <th>length_days</th>\n",
       "      <td>1.000000</td>\n",
       "      <td>0.022077</td>\n",
       "      <td>0.006749</td>\n",
       "      <td>0.006316</td>\n",
       "      <td>-0.001391</td>\n",
       "      <td>-0.002499</td>\n",
       "    </tr>\n",
       "    <tr>\n",
       "      <th>goal</th>\n",
       "      <td>0.022077</td>\n",
       "      <td>1.000000</td>\n",
       "      <td>0.007927</td>\n",
       "      <td>0.007617</td>\n",
       "      <td>0.006090</td>\n",
       "      <td>-0.000561</td>\n",
       "    </tr>\n",
       "    <tr>\n",
       "      <th>pledged</th>\n",
       "      <td>0.006749</td>\n",
       "      <td>0.007927</td>\n",
       "      <td>1.000000</td>\n",
       "      <td>0.950399</td>\n",
       "      <td>0.750483</td>\n",
       "      <td>0.009932</td>\n",
       "    </tr>\n",
       "    <tr>\n",
       "      <th>usd pledged</th>\n",
       "      <td>0.006316</td>\n",
       "      <td>0.007617</td>\n",
       "      <td>0.950399</td>\n",
       "      <td>1.000000</td>\n",
       "      <td>0.716784</td>\n",
       "      <td>0.010074</td>\n",
       "    </tr>\n",
       "    <tr>\n",
       "      <th>backers</th>\n",
       "      <td>-0.001391</td>\n",
       "      <td>0.006090</td>\n",
       "      <td>0.750483</td>\n",
       "      <td>0.716784</td>\n",
       "      <td>1.000000</td>\n",
       "      <td>0.017322</td>\n",
       "    </tr>\n",
       "    <tr>\n",
       "      <th>pct_funded</th>\n",
       "      <td>-0.002499</td>\n",
       "      <td>-0.000561</td>\n",
       "      <td>0.009932</td>\n",
       "      <td>0.010074</td>\n",
       "      <td>0.017322</td>\n",
       "      <td>1.000000</td>\n",
       "    </tr>\n",
       "  </tbody>\n",
       "</table>\n",
       "</div>"
      ],
      "text/plain": [
       "             length_days      goal   pledged  usd pledged   backers  \\\n",
       "length_days     1.000000  0.022077  0.006749     0.006316 -0.001391   \n",
       "goal            0.022077  1.000000  0.007927     0.007617  0.006090   \n",
       "pledged         0.006749  0.007927  1.000000     0.950399  0.750483   \n",
       "usd pledged     0.006316  0.007617  0.950399     1.000000  0.716784   \n",
       "backers        -0.001391  0.006090  0.750483     0.716784  1.000000   \n",
       "pct_funded     -0.002499 -0.000561  0.009932     0.010074  0.017322   \n",
       "\n",
       "             pct_funded  \n",
       "length_days   -0.002499  \n",
       "goal          -0.000561  \n",
       "pledged        0.009932  \n",
       "usd pledged    0.010074  \n",
       "backers        0.017322  \n",
       "pct_funded     1.000000  "
      ]
     },
     "execution_count": 32,
     "metadata": {},
     "output_type": "execute_result"
    }
   ],
   "source": [
    "## create a correlation matrix for the continuous variables\n",
    "df3.drop(columns = \"ID\", inplace = True)\n",
    "df3.corr()\n",
    "\n",
    "# strongest correlation between amount pledged and number of backers"
   ]
  },
  {
   "cell_type": "code",
   "execution_count": 46,
   "metadata": {},
   "outputs": [],
   "source": [
    "df3.drop(columns = \"pledged\", inplace = True)"
   ]
  },
  {
   "cell_type": "code",
   "execution_count": 47,
   "metadata": {},
   "outputs": [
    {
     "data": {
      "text/plain": [
       "main_category\n",
       "Art              3069.410309\n",
       "Comics           6832.580096\n",
       "Crafts           1514.296337\n",
       "Dance            3424.076079\n",
       "Design          23132.730636\n",
       "Fashion          5665.158035\n",
       "Film & Video     6518.644822\n",
       "Food             5221.043908\n",
       "Games           22622.060660\n",
       "Journalism       2793.559315\n",
       "Music            3930.182092\n",
       "Photography      3265.703688\n",
       "Publishing       3206.302548\n",
       "Technology      20898.350418\n",
       "Theater          4018.430797\n",
       "Name: usd pledged, dtype: float64"
      ]
     },
     "execution_count": 47,
     "metadata": {},
     "output_type": "execute_result"
    }
   ],
   "source": [
    "## average pledge across categoricial variables (groupby)\n",
    "df3[\"usd pledged\"].groupby(df3[\"main_category\"]).mean()"
   ]
  },
  {
   "cell_type": "code",
   "execution_count": 48,
   "metadata": {},
   "outputs": [
    {
     "data": {
      "text/plain": [
       "<AxesSubplot:title={'center':'Average USD Pledged per Main Category'}, xlabel='main_category', ylabel='usd pledged'>"
      ]
     },
     "execution_count": 48,
     "metadata": {},
     "output_type": "execute_result"
    },
    {
     "data": {
      "image/png": "[encoded data removed]",
      "text/plain": [
       "<Figure size 432x288 with 1 Axes>"
      ]
     },
     "metadata": {
      "needs_background": "light"
     },
     "output_type": "display_data"
    }
   ],
   "source": [
    "# visualizing Average USD Pledged per Main Category\n",
    "plt.title(\"Average USD Pledged per Main Category\")\n",
    "plt.xticks(rotation = 90)\n",
    "sns.barplot(x = df3[\"main_category\"], y = df3[\"usd pledged\"], ci = None)\n"
   ]
  },
  {
   "cell_type": "code",
   "execution_count": 49,
   "metadata": {
    "scrolled": false
   },
   "outputs": [
    {
     "data": {
      "text/plain": [
       "category\n",
       "3D Printing    70321.848632\n",
       "Academic        2003.564080\n",
       "Accessories     7047.600829\n",
       "Action          4128.312842\n",
       "Animals         2382.214298\n",
       "                   ...     \n",
       "Woodworking     1549.588085\n",
       "Workshops       1357.862474\n",
       "World Music     3702.566343\n",
       "Young Adult     1383.475593\n",
       "Zines           2125.691922\n",
       "Name: usd pledged, Length: 158, dtype: float64"
      ]
     },
     "execution_count": 49,
     "metadata": {},
     "output_type": "execute_result"
    }
   ],
   "source": [
    "df3[\"usd pledged\"].groupby(df3[\"category\"]).mean()"
   ]
  },
  {
   "cell_type": "code",
   "execution_count": 50,
   "metadata": {},
   "outputs": [
    {
     "data": {
      "text/plain": [
       "country\n",
       "AT     9323.329982\n",
       "AU     4870.551735\n",
       "BE     5558.685332\n",
       "CA     6276.386389\n",
       "CH     8129.832529\n",
       "DE     8366.607351\n",
       "DK     5776.047339\n",
       "ES     4123.306576\n",
       "FR    11239.006871\n",
       "GB     6910.615376\n",
       "HK     2916.330505\n",
       "IE     4781.257653\n",
       "IT     4492.361917\n",
       "LU     4329.165422\n",
       "MX        8.136906\n",
       "NL     5412.893977\n",
       "NO     3355.555461\n",
       "NZ     4143.385873\n",
       "SE     4611.153023\n",
       "SG     3139.606720\n",
       "US     9058.345174\n",
       "Name: usd pledged, dtype: float64"
      ]
     },
     "execution_count": 50,
     "metadata": {},
     "output_type": "execute_result"
    }
   ],
   "source": [
    "df3[\"usd pledged\"].groupby(df3[\"country\"]).mean()"
   ]
  },
  {
   "cell_type": "code",
   "execution_count": 51,
   "metadata": {},
   "outputs": [
    {
     "data": {
      "text/plain": [
       "currency\n",
       "AUD    4870.551735\n",
       "CAD    6276.386389\n",
       "CHF    8129.832529\n",
       "DKK    5776.047339\n",
       "EUR    6886.815741\n",
       "GBP    6910.615376\n",
       "HKD    2916.330505\n",
       "MXN       8.136906\n",
       "NOK    3355.555461\n",
       "NZD    4143.385873\n",
       "SEK    4611.153023\n",
       "SGD    3139.606720\n",
       "USD    9058.345174\n",
       "Name: usd pledged, dtype: float64"
      ]
     },
     "execution_count": 51,
     "metadata": {},
     "output_type": "execute_result"
    }
   ],
   "source": [
    "df3[\"usd pledged\"].groupby(df3[\"currency\"]).mean()"
   ]
  },
  {
   "cell_type": "code",
   "execution_count": 52,
   "metadata": {},
   "outputs": [
    {
     "data": {
      "text/plain": [
       "state\n",
       "failed         1279.467288\n",
       "successful    19442.292414\n",
       "Name: usd pledged, dtype: float64"
      ]
     },
     "execution_count": 52,
     "metadata": {},
     "output_type": "execute_result"
    }
   ],
   "source": [
    "df3[\"usd pledged\"].groupby(df3[\"state\"]).mean()"
   ]
  },
  {
   "cell_type": "code",
   "execution_count": 53,
   "metadata": {},
   "outputs": [
    {
     "data": {
      "text/plain": [
       "<AxesSubplot:title={'center':'Average USD Pledged per Success/Fail State'}, xlabel='state', ylabel='usd pledged'>"
      ]
     },
     "execution_count": 53,
     "metadata": {},
     "output_type": "execute_result"
    },
    {
     "data": {
      "image/png": "[encoded data removed]",
      "text/plain": [
       "<Figure size 432x288 with 1 Axes>"
      ]
     },
     "metadata": {
      "needs_background": "light"
     },
     "output_type": "display_data"
    }
   ],
   "source": [
    "# visualizing Average USD Pledged per State\n",
    "plt.title(\"Average USD Pledged per Success/Fail State\")\n",
    "plt.xticks(rotation = 90)\n",
    "sns.barplot(x = df3[\"state\"], y = df3[\"usd pledged\"], ci = None)"
   ]
  },
  {
   "cell_type": "code",
   "execution_count": null,
   "metadata": {},
   "outputs": [],
   "source": []
  },
  {
   "cell_type": "code",
   "execution_count": 54,
   "metadata": {},
   "outputs": [
    {
     "data": {
      "text/plain": [
       "main_category\n",
       "Art              42.541206\n",
       "Comics          145.676812\n",
       "Crafts           29.562441\n",
       "Dance            45.290454\n",
       "Design          268.927566\n",
       "Fashion          69.507418\n",
       "Film & Video     73.161697\n",
       "Food             59.249431\n",
       "Games           386.230282\n",
       "Journalism       43.399774\n",
       "Music            57.797494\n",
       "Photography      40.766036\n",
       "Publishing       57.901567\n",
       "Technology      187.457750\n",
       "Theater          49.613383\n",
       "Name: backers, dtype: float64"
      ]
     },
     "execution_count": 54,
     "metadata": {},
     "output_type": "execute_result"
    }
   ],
   "source": [
    "## average number of backers across categorical variables (groupby)\n",
    "df3[\"backers\"].groupby(df3[\"main_category\"]).mean()"
   ]
  },
  {
   "cell_type": "code",
   "execution_count": 55,
   "metadata": {
    "scrolled": false
   },
   "outputs": [
    {
     "data": {
      "text/plain": [
       "category\n",
       "3D Printing    273.092308\n",
       "Academic        30.544068\n",
       "Accessories     99.114499\n",
       "Action          59.240404\n",
       "Animals         34.532663\n",
       "                  ...    \n",
       "Woodworking     22.099762\n",
       "Workshops       21.630252\n",
       "World Music     58.424650\n",
       "Young Adult     23.413732\n",
       "Zines           53.453488\n",
       "Name: backers, Length: 158, dtype: float64"
      ]
     },
     "execution_count": 55,
     "metadata": {},
     "output_type": "execute_result"
    }
   ],
   "source": [
    "df3[\"backers\"].groupby(df3[\"category\"]).mean()"
   ]
  },
  {
   "cell_type": "code",
   "execution_count": 56,
   "metadata": {},
   "outputs": [
    {
     "data": {
      "text/plain": [
       "country\n",
       "AT     69.727915\n",
       "AU     82.111453\n",
       "BE     50.629179\n",
       "CA     97.199758\n",
       "CH     76.814910\n",
       "DE    100.707180\n",
       "DK     70.949405\n",
       "ES     71.709174\n",
       "FR    126.205901\n",
       "GB     88.638481\n",
       "HK     68.595745\n",
       "IE     56.473573\n",
       "IT     48.080344\n",
       "LU     36.969697\n",
       "MX      9.250000\n",
       "NL     61.481580\n",
       "NO     39.090698\n",
       "NZ     67.182276\n",
       "SE     80.296435\n",
       "SG    180.557143\n",
       "US    117.571350\n",
       "Name: backers, dtype: float64"
      ]
     },
     "execution_count": 56,
     "metadata": {},
     "output_type": "execute_result"
    }
   ],
   "source": [
    "df3[\"backers\"].groupby(df3[\"country\"]).mean()"
   ]
  },
  {
   "cell_type": "code",
   "execution_count": 57,
   "metadata": {},
   "outputs": [
    {
     "data": {
      "text/plain": [
       "currency\n",
       "AUD     82.111453\n",
       "CAD     97.199758\n",
       "CHF     76.814910\n",
       "DKK     70.949405\n",
       "EUR     80.308347\n",
       "GBP     88.638481\n",
       "HKD     68.595745\n",
       "MXN      9.250000\n",
       "NOK     39.090698\n",
       "NZD     67.182276\n",
       "SEK     80.296435\n",
       "SGD    180.557143\n",
       "USD    117.571350\n",
       "Name: backers, dtype: float64"
      ]
     },
     "execution_count": 57,
     "metadata": {},
     "output_type": "execute_result"
    }
   ],
   "source": [
    "df3[\"backers\"].groupby(df3[\"currency\"]).mean()"
   ]
  },
  {
   "cell_type": "code",
   "execution_count": 58,
   "metadata": {},
   "outputs": [
    {
     "data": {
      "text/plain": [
       "state\n",
       "failed         16.768301\n",
       "successful    253.665538\n",
       "Name: backers, dtype: float64"
      ]
     },
     "execution_count": 58,
     "metadata": {},
     "output_type": "execute_result"
    }
   ],
   "source": [
    "df3[\"backers\"].groupby(df3[\"state\"]).mean()"
   ]
  },
  {
   "cell_type": "code",
   "execution_count": 59,
   "metadata": {},
   "outputs": [
    {
     "data": {
      "text/plain": [
       "<AxesSubplot:title={'center':'Average Number Backers per State'}, xlabel='state', ylabel='backers'>"
      ]
     },
     "execution_count": 59,
     "metadata": {},
     "output_type": "execute_result"
    },
    {
     "data": {
      "image/png": "[encoded data removed]",
      "text/plain": [
       "<Figure size 432x288 with 1 Axes>"
      ]
     },
     "metadata": {
      "needs_background": "light"
     },
     "output_type": "display_data"
    }
   ],
   "source": [
    "# visualizing Average Number Backers per State\n",
    "plt.title(\"Average Number Backers per State\")\n",
    "plt.xticks(rotation = 90)\n",
    "sns.barplot(x = df3[\"state\"], y = df3[\"backers\"], ci = None)"
   ]
  },
  {
   "cell_type": "code",
   "execution_count": 60,
   "metadata": {},
   "outputs": [
    {
     "data": {
      "text/plain": [
       "<AxesSubplot:title={'center':'Average Funding Goal per Main Category'}, xlabel='main_category', ylabel='goal'>"
      ]
     },
     "execution_count": 60,
     "metadata": {},
     "output_type": "execute_result"
    },
    {
     "data": {
      "image/png": "[encoded data removed]",
      "text/plain": [
       "<Figure size 432x288 with 1 Axes>"
      ]
     },
     "metadata": {
      "needs_background": "light"
     },
     "output_type": "display_data"
    }
   ],
   "source": [
    "# visualizing Average Funding Goal per Main Category\n",
    "plt.title(\"Average Funding Goal per Main Category\")\n",
    "plt.xticks(rotation = 90)\n",
    "sns.barplot(x = df3[\"main_category\"], y = df3[\"goal\"], ci = None)"
   ]
  },
  {
   "cell_type": "code",
   "execution_count": 61,
   "metadata": {},
   "outputs": [
    {
     "data": {
      "text/plain": [
       "<AxesSubplot:title={'center':'Average Funding Goal per State'}, xlabel='state', ylabel='goal'>"
      ]
     },
     "execution_count": 61,
     "metadata": {},
     "output_type": "execute_result"
    },
    {
     "data": {
      "image/png": "[encoded data removed]",
      "text/plain": [
       "<Figure size 432x288 with 1 Axes>"
      ]
     },
     "metadata": {
      "needs_background": "light"
     },
     "output_type": "display_data"
    }
   ],
   "source": [
    "# visualizing Average Funding Goal per State\n",
    "plt.title(\"Average Funding Goal per State\")\n",
    "plt.xticks(rotation = 90)\n",
    "sns.barplot(x = df3[\"state\"], y = df3[\"goal\"], ci = None)"
   ]
  },
  {
   "cell_type": "code",
   "execution_count": 62,
   "metadata": {},
   "outputs": [
    {
     "data": {
      "text/plain": [
       "<AxesSubplot:title={'center':'Average Percentage Funded per Main Category'}, xlabel='main_category', ylabel='pct_funded'>"
      ]
     },
     "execution_count": 62,
     "metadata": {},
     "output_type": "execute_result"
    },
    {
     "data": {
      "image/png": "[encoded data removed]",
      "text/plain": [
       "<Figure size 432x288 with 1 Axes>"
      ]
     },
     "metadata": {
      "needs_background": "light"
     },
     "output_type": "display_data"
    }
   ],
   "source": [
    "# visualizing Average Percentage Funded per Main Category\n",
    "plt.title(\"Average Percentage Funded per Main Category\")\n",
    "plt.xticks(rotation = 90)\n",
    "sns.barplot(x = df3[\"main_category\"], y = df3[\"pct_funded\"], ci = None)"
   ]
  },
  {
   "cell_type": "code",
   "execution_count": null,
   "metadata": {},
   "outputs": [],
   "source": []
  },
  {
   "cell_type": "code",
   "execution_count": 63,
   "metadata": {},
   "outputs": [
    {
     "data": {
      "text/plain": [
       "state\n",
       "failed        35.181658\n",
       "successful    32.181717\n",
       "Name: length_days, dtype: float64"
      ]
     },
     "execution_count": 63,
     "metadata": {},
     "output_type": "execute_result"
    }
   ],
   "source": [
    "## averages of all numeric variables grouped by state (groupby)\n",
    "df3[\"length_days\"].groupby(df3[\"state\"]).mean()"
   ]
  },
  {
   "cell_type": "code",
   "execution_count": 64,
   "metadata": {},
   "outputs": [
    {
     "data": {
      "text/plain": [
       "state\n",
       "failed         1279.467288\n",
       "successful    19442.292414\n",
       "Name: usd pledged, dtype: float64"
      ]
     },
     "execution_count": 64,
     "metadata": {},
     "output_type": "execute_result"
    }
   ],
   "source": [
    "df3[\"usd pledged\"].groupby(df3[\"state\"]).mean()"
   ]
  },
  {
   "cell_type": "code",
   "execution_count": 65,
   "metadata": {},
   "outputs": [
    {
     "data": {
      "text/plain": [
       "state\n",
       "failed        63432.182763\n",
       "successful     9623.108753\n",
       "Name: goal, dtype: float64"
      ]
     },
     "execution_count": 65,
     "metadata": {},
     "output_type": "execute_result"
    }
   ],
   "source": [
    "df3[\"goal\"].groupby(df3[\"state\"]).mean()"
   ]
  },
  {
   "cell_type": "code",
   "execution_count": 66,
   "metadata": {},
   "outputs": [
    {
     "data": {
      "text/plain": [
       "state\n",
       "failed         16.768301\n",
       "successful    253.665538\n",
       "Name: backers, dtype: float64"
      ]
     },
     "execution_count": 66,
     "metadata": {},
     "output_type": "execute_result"
    }
   ],
   "source": [
    "df3[\"backers\"].groupby(df3[\"state\"]).mean()"
   ]
  },
  {
   "cell_type": "code",
   "execution_count": 67,
   "metadata": {},
   "outputs": [
    {
     "data": {
      "text/plain": [
       "state\n",
       "failed          8.894607\n",
       "successful    674.295756\n",
       "Name: pct_funded, dtype: float64"
      ]
     },
     "execution_count": 67,
     "metadata": {},
     "output_type": "execute_result"
    }
   ],
   "source": [
    "df3[\"pct_funded\"].groupby(df3[\"state\"]).mean()"
   ]
  },
  {
   "cell_type": "code",
   "execution_count": 68,
   "metadata": {
    "scrolled": false
   },
   "outputs": [
    {
     "data": {
      "text/html": [
       "<div>\n",
       "<style scoped>\n",
       "    .dataframe tbody tr th:only-of-type {\n",
       "        vertical-align: middle;\n",
       "    }\n",
       "\n",
       "    .dataframe tbody tr th {\n",
       "        vertical-align: top;\n",
       "    }\n",
       "\n",
       "    .dataframe thead th {\n",
       "        text-align: right;\n",
       "    }\n",
       "</style>\n",
       "<table border=\"1\" class=\"dataframe\">\n",
       "  <thead>\n",
       "    <tr style=\"text-align: right;\">\n",
       "      <th></th>\n",
       "      <th>name</th>\n",
       "      <th>main_category</th>\n",
       "      <th>category</th>\n",
       "      <th>country</th>\n",
       "      <th>currency</th>\n",
       "      <th>launched</th>\n",
       "      <th>deadline</th>\n",
       "      <th>length_days</th>\n",
       "      <th>goal</th>\n",
       "      <th>usd pledged</th>\n",
       "      <th>backers</th>\n",
       "      <th>state</th>\n",
       "      <th>pct_funded</th>\n",
       "      <th>backers_group</th>\n",
       "    </tr>\n",
       "  </thead>\n",
       "  <tbody>\n",
       "    <tr>\n",
       "      <th>0</th>\n",
       "      <td>French Cuisine</td>\n",
       "      <td>Food</td>\n",
       "      <td>Cookbooks</td>\n",
       "      <td>US</td>\n",
       "      <td>USD</td>\n",
       "      <td>2014-08-09 03:16:02</td>\n",
       "      <td>2014-09-08 00:46:23</td>\n",
       "      <td>29</td>\n",
       "      <td>13730.0</td>\n",
       "      <td>3984.000000</td>\n",
       "      <td>46</td>\n",
       "      <td>failed</td>\n",
       "      <td>29.016752</td>\n",
       "      <td>30-59</td>\n",
       "    </tr>\n",
       "    <tr>\n",
       "      <th>1</th>\n",
       "      <td>HotRod Henry SUPERCHARGED - the ultimate 3D pr...</td>\n",
       "      <td>Technology</td>\n",
       "      <td>3D Printing</td>\n",
       "      <td>AT</td>\n",
       "      <td>EUR</td>\n",
       "      <td>2016-06-16 16:30:33</td>\n",
       "      <td>2016-07-21 23:59:00</td>\n",
       "      <td>35</td>\n",
       "      <td>75000.0</td>\n",
       "      <td>1561.784015</td>\n",
       "      <td>31</td>\n",
       "      <td>failed</td>\n",
       "      <td>2.082379</td>\n",
       "      <td>30-59</td>\n",
       "    </tr>\n",
       "    <tr>\n",
       "      <th>2</th>\n",
       "      <td>PHAbulous Philaments - 3D printing: natural an...</td>\n",
       "      <td>Technology</td>\n",
       "      <td>3D Printing</td>\n",
       "      <td>AT</td>\n",
       "      <td>EUR</td>\n",
       "      <td>2015-07-22 12:08:26</td>\n",
       "      <td>2015-08-21 12:08:26</td>\n",
       "      <td>30</td>\n",
       "      <td>15000.0</td>\n",
       "      <td>4152.402045</td>\n",
       "      <td>46</td>\n",
       "      <td>failed</td>\n",
       "      <td>27.682680</td>\n",
       "      <td>30-59</td>\n",
       "    </tr>\n",
       "    <tr>\n",
       "      <th>3</th>\n",
       "      <td>Schokostruder - Chocolate &amp;  Liquid Extruder f...</td>\n",
       "      <td>Technology</td>\n",
       "      <td>3D Printing</td>\n",
       "      <td>AT</td>\n",
       "      <td>EUR</td>\n",
       "      <td>2016-01-25 18:48:09</td>\n",
       "      <td>2016-02-24 18:48:09</td>\n",
       "      <td>30</td>\n",
       "      <td>20000.0</td>\n",
       "      <td>19.435528</td>\n",
       "      <td>6</td>\n",
       "      <td>failed</td>\n",
       "      <td>0.097178</td>\n",
       "      <td>5-9</td>\n",
       "    </tr>\n",
       "    <tr>\n",
       "      <th>4</th>\n",
       "      <td>StarterMate - the 3D printing starter kit for ...</td>\n",
       "      <td>Technology</td>\n",
       "      <td>3D Printing</td>\n",
       "      <td>AT</td>\n",
       "      <td>EUR</td>\n",
       "      <td>2015-09-30 00:26:43</td>\n",
       "      <td>2015-11-09 00:26:43</td>\n",
       "      <td>40</td>\n",
       "      <td>20000.0</td>\n",
       "      <td>2908.076574</td>\n",
       "      <td>29</td>\n",
       "      <td>failed</td>\n",
       "      <td>14.540383</td>\n",
       "      <td>15-29</td>\n",
       "    </tr>\n",
       "  </tbody>\n",
       "</table>\n",
       "</div>"
      ],
      "text/plain": [
       "                                                name main_category  \\\n",
       "0                                     French Cuisine          Food   \n",
       "1  HotRod Henry SUPERCHARGED - the ultimate 3D pr...    Technology   \n",
       "2  PHAbulous Philaments - 3D printing: natural an...    Technology   \n",
       "3  Schokostruder - Chocolate &  Liquid Extruder f...    Technology   \n",
       "4  StarterMate - the 3D printing starter kit for ...    Technology   \n",
       "\n",
       "      category country currency            launched            deadline  \\\n",
       "0    Cookbooks      US      USD 2014-08-09 03:16:02 2014-09-08 00:46:23   \n",
       "1  3D Printing      AT      EUR 2016-06-16 16:30:33 2016-07-21 23:59:00   \n",
       "2  3D Printing      AT      EUR 2015-07-22 12:08:26 2015-08-21 12:08:26   \n",
       "3  3D Printing      AT      EUR 2016-01-25 18:48:09 2016-02-24 18:48:09   \n",
       "4  3D Printing      AT      EUR 2015-09-30 00:26:43 2015-11-09 00:26:43   \n",
       "\n",
       "   length_days     goal  usd pledged  backers   state  pct_funded  \\\n",
       "0           29  13730.0  3984.000000       46  failed   29.016752   \n",
       "1           35  75000.0  1561.784015       31  failed    2.082379   \n",
       "2           30  15000.0  4152.402045       46  failed   27.682680   \n",
       "3           30  20000.0    19.435528        6  failed    0.097178   \n",
       "4           40  20000.0  2908.076574       29  failed   14.540383   \n",
       "\n",
       "  backers_group  \n",
       "0         30-59  \n",
       "1         30-59  \n",
       "2         30-59  \n",
       "3           5-9  \n",
       "4         15-29  "
      ]
     },
     "execution_count": 68,
     "metadata": {},
     "output_type": "execute_result"
    }
   ],
   "source": [
    "# create bins for number of backers\n",
    "\n",
    "bins = [0, 5, 10, 15, 30, 60, 100, 1000000]\n",
    "bin_labels = [\"0-4\", \"5-9\", \"10-14\", \"15-29\", \"30-59\", \"60-99\", \"100-999999\"]\n",
    "\n",
    "df3[\"backers_group\"] = pd.cut(df3[\"backers\"], bins, labels = bin_labels)\n",
    "\n",
    "df3.head()"
   ]
  },
  {
   "cell_type": "code",
   "execution_count": 71,
   "metadata": {},
   "outputs": [
    {
     "data": {
      "text/html": [
       "<div>\n",
       "<style scoped>\n",
       "    .dataframe tbody tr th:only-of-type {\n",
       "        vertical-align: middle;\n",
       "    }\n",
       "\n",
       "    .dataframe tbody tr th {\n",
       "        vertical-align: top;\n",
       "    }\n",
       "\n",
       "    .dataframe thead th {\n",
       "        text-align: right;\n",
       "    }\n",
       "</style>\n",
       "<table border=\"1\" class=\"dataframe\">\n",
       "  <thead>\n",
       "    <tr style=\"text-align: right;\">\n",
       "      <th></th>\n",
       "      <th>name</th>\n",
       "      <th>main_category</th>\n",
       "      <th>category</th>\n",
       "      <th>country</th>\n",
       "      <th>currency</th>\n",
       "      <th>launched</th>\n",
       "      <th>deadline</th>\n",
       "      <th>length_days</th>\n",
       "      <th>goal</th>\n",
       "      <th>usd pledged</th>\n",
       "      <th>backers</th>\n",
       "      <th>state</th>\n",
       "      <th>pct_funded</th>\n",
       "      <th>backers_group</th>\n",
       "      <th>usd_pledged_group</th>\n",
       "    </tr>\n",
       "  </thead>\n",
       "  <tbody>\n",
       "    <tr>\n",
       "      <th>0</th>\n",
       "      <td>French Cuisine</td>\n",
       "      <td>Food</td>\n",
       "      <td>Cookbooks</td>\n",
       "      <td>US</td>\n",
       "      <td>USD</td>\n",
       "      <td>2014-08-09 03:16:02</td>\n",
       "      <td>2014-09-08 00:46:23</td>\n",
       "      <td>29</td>\n",
       "      <td>13730.0</td>\n",
       "      <td>3984.000000</td>\n",
       "      <td>46</td>\n",
       "      <td>failed</td>\n",
       "      <td>29.016752</td>\n",
       "      <td>30-59</td>\n",
       "      <td>2,000-4,999</td>\n",
       "    </tr>\n",
       "    <tr>\n",
       "      <th>1</th>\n",
       "      <td>HotRod Henry SUPERCHARGED - the ultimate 3D pr...</td>\n",
       "      <td>Technology</td>\n",
       "      <td>3D Printing</td>\n",
       "      <td>AT</td>\n",
       "      <td>EUR</td>\n",
       "      <td>2016-06-16 16:30:33</td>\n",
       "      <td>2016-07-21 23:59:00</td>\n",
       "      <td>35</td>\n",
       "      <td>75000.0</td>\n",
       "      <td>1561.784015</td>\n",
       "      <td>31</td>\n",
       "      <td>failed</td>\n",
       "      <td>2.082379</td>\n",
       "      <td>30-59</td>\n",
       "      <td>500-1,999</td>\n",
       "    </tr>\n",
       "    <tr>\n",
       "      <th>2</th>\n",
       "      <td>PHAbulous Philaments - 3D printing: natural an...</td>\n",
       "      <td>Technology</td>\n",
       "      <td>3D Printing</td>\n",
       "      <td>AT</td>\n",
       "      <td>EUR</td>\n",
       "      <td>2015-07-22 12:08:26</td>\n",
       "      <td>2015-08-21 12:08:26</td>\n",
       "      <td>30</td>\n",
       "      <td>15000.0</td>\n",
       "      <td>4152.402045</td>\n",
       "      <td>46</td>\n",
       "      <td>failed</td>\n",
       "      <td>27.682680</td>\n",
       "      <td>30-59</td>\n",
       "      <td>2,000-4,999</td>\n",
       "    </tr>\n",
       "    <tr>\n",
       "      <th>3</th>\n",
       "      <td>Schokostruder - Chocolate &amp;  Liquid Extruder f...</td>\n",
       "      <td>Technology</td>\n",
       "      <td>3D Printing</td>\n",
       "      <td>AT</td>\n",
       "      <td>EUR</td>\n",
       "      <td>2016-01-25 18:48:09</td>\n",
       "      <td>2016-02-24 18:48:09</td>\n",
       "      <td>30</td>\n",
       "      <td>20000.0</td>\n",
       "      <td>19.435528</td>\n",
       "      <td>6</td>\n",
       "      <td>failed</td>\n",
       "      <td>0.097178</td>\n",
       "      <td>5-9</td>\n",
       "      <td>0-19</td>\n",
       "    </tr>\n",
       "    <tr>\n",
       "      <th>4</th>\n",
       "      <td>StarterMate - the 3D printing starter kit for ...</td>\n",
       "      <td>Technology</td>\n",
       "      <td>3D Printing</td>\n",
       "      <td>AT</td>\n",
       "      <td>EUR</td>\n",
       "      <td>2015-09-30 00:26:43</td>\n",
       "      <td>2015-11-09 00:26:43</td>\n",
       "      <td>40</td>\n",
       "      <td>20000.0</td>\n",
       "      <td>2908.076574</td>\n",
       "      <td>29</td>\n",
       "      <td>failed</td>\n",
       "      <td>14.540383</td>\n",
       "      <td>15-29</td>\n",
       "      <td>2,000-4,999</td>\n",
       "    </tr>\n",
       "  </tbody>\n",
       "</table>\n",
       "</div>"
      ],
      "text/plain": [
       "                                                name main_category  \\\n",
       "0                                     French Cuisine          Food   \n",
       "1  HotRod Henry SUPERCHARGED - the ultimate 3D pr...    Technology   \n",
       "2  PHAbulous Philaments - 3D printing: natural an...    Technology   \n",
       "3  Schokostruder - Chocolate &  Liquid Extruder f...    Technology   \n",
       "4  StarterMate - the 3D printing starter kit for ...    Technology   \n",
       "\n",
       "      category country currency            launched            deadline  \\\n",
       "0    Cookbooks      US      USD 2014-08-09 03:16:02 2014-09-08 00:46:23   \n",
       "1  3D Printing      AT      EUR 2016-06-16 16:30:33 2016-07-21 23:59:00   \n",
       "2  3D Printing      AT      EUR 2015-07-22 12:08:26 2015-08-21 12:08:26   \n",
       "3  3D Printing      AT      EUR 2016-01-25 18:48:09 2016-02-24 18:48:09   \n",
       "4  3D Printing      AT      EUR 2015-09-30 00:26:43 2015-11-09 00:26:43   \n",
       "\n",
       "   length_days     goal  usd pledged  backers   state  pct_funded  \\\n",
       "0           29  13730.0  3984.000000       46  failed   29.016752   \n",
       "1           35  75000.0  1561.784015       31  failed    2.082379   \n",
       "2           30  15000.0  4152.402045       46  failed   27.682680   \n",
       "3           30  20000.0    19.435528        6  failed    0.097178   \n",
       "4           40  20000.0  2908.076574       29  failed   14.540383   \n",
       "\n",
       "  backers_group usd_pledged_group  \n",
       "0         30-59       2,000-4,999  \n",
       "1         30-59         500-1,999  \n",
       "2         30-59       2,000-4,999  \n",
       "3           5-9              0-19  \n",
       "4         15-29       2,000-4,999  "
      ]
     },
     "execution_count": 71,
     "metadata": {},
     "output_type": "execute_result"
    }
   ],
   "source": [
    "# create bins for usd pledged\n",
    "\n",
    "bins = [0, 20, 40, 100, 500, 2000, 5000, 10000, 100000, 30000000]\n",
    "bin_labels = [\"0-19\", \"20-39\", \"40-99\", \"100-499\", \"500-1,999\", \"2,000-4,999\", \"5,000-9,999\", \"10,000-99,999\", \"100,000+\"]\n",
    "\n",
    "df3[\"usd_pledged_group\"] = pd.cut(df3[\"usd pledged\"], bins, labels = bin_labels)\n",
    "\n",
    "df3.head()"
   ]
  },
  {
   "cell_type": "code",
   "execution_count": 93,
   "metadata": {},
   "outputs": [
    {
     "name": "stderr",
     "output_type": "stream",
     "text": [
      "C:\\Users\\liket\\AppData\\Local\\Temp\\ipykernel_25116\\2421149236.py:6: SettingWithCopyWarning: \n",
      "A value is trying to be set on a copy of a slice from a DataFrame.\n",
      "Try using .loc[row_indexer,col_indexer] = value instead\n",
      "\n",
      "See the caveats in the documentation: https://pandas.pydata.org/pandas-docs/stable/user_guide/indexing.html#returning-a-view-versus-a-copy\n",
      "  df3[\"pct_funded_group\"] = pd.cut(df3[\"pct_funded\"], bins, labels = bin_labels)\n"
     ]
    },
    {
     "data": {
      "text/html": [
       "<div>\n",
       "<style scoped>\n",
       "    .dataframe tbody tr th:only-of-type {\n",
       "        vertical-align: middle;\n",
       "    }\n",
       "\n",
       "    .dataframe tbody tr th {\n",
       "        vertical-align: top;\n",
       "    }\n",
       "\n",
       "    .dataframe thead th {\n",
       "        text-align: right;\n",
       "    }\n",
       "</style>\n",
       "<table border=\"1\" class=\"dataframe\">\n",
       "  <thead>\n",
       "    <tr style=\"text-align: right;\">\n",
       "      <th></th>\n",
       "      <th>name</th>\n",
       "      <th>main_category</th>\n",
       "      <th>category</th>\n",
       "      <th>country</th>\n",
       "      <th>currency</th>\n",
       "      <th>launched</th>\n",
       "      <th>deadline</th>\n",
       "      <th>length_days</th>\n",
       "      <th>goal</th>\n",
       "      <th>usd pledged</th>\n",
       "      <th>backers</th>\n",
       "      <th>state</th>\n",
       "      <th>pct_funded</th>\n",
       "      <th>backers_group</th>\n",
       "      <th>usd_pledged_group</th>\n",
       "      <th>pct_funded_group</th>\n",
       "      <th>zscore_pct_funded</th>\n",
       "    </tr>\n",
       "  </thead>\n",
       "  <tbody>\n",
       "    <tr>\n",
       "      <th>0</th>\n",
       "      <td>French Cuisine</td>\n",
       "      <td>Food</td>\n",
       "      <td>Cookbooks</td>\n",
       "      <td>US</td>\n",
       "      <td>USD</td>\n",
       "      <td>2014-08-09 03:16:02</td>\n",
       "      <td>2014-09-08 00:46:23</td>\n",
       "      <td>29</td>\n",
       "      <td>13730.0</td>\n",
       "      <td>3984.000000</td>\n",
       "      <td>46</td>\n",
       "      <td>failed</td>\n",
       "      <td>29.016752</td>\n",
       "      <td>30-59</td>\n",
       "      <td>2,000-4,999</td>\n",
       "      <td>15-49</td>\n",
       "      <td>0.013535</td>\n",
       "    </tr>\n",
       "    <tr>\n",
       "      <th>1</th>\n",
       "      <td>HotRod Henry SUPERCHARGED - the ultimate 3D pr...</td>\n",
       "      <td>Technology</td>\n",
       "      <td>3D Printing</td>\n",
       "      <td>AT</td>\n",
       "      <td>EUR</td>\n",
       "      <td>2016-06-16 16:30:33</td>\n",
       "      <td>2016-07-21 23:59:00</td>\n",
       "      <td>35</td>\n",
       "      <td>75000.0</td>\n",
       "      <td>1561.784015</td>\n",
       "      <td>31</td>\n",
       "      <td>failed</td>\n",
       "      <td>2.082379</td>\n",
       "      <td>30-59</td>\n",
       "      <td>500-1,999</td>\n",
       "      <td>1-4</td>\n",
       "      <td>0.015010</td>\n",
       "    </tr>\n",
       "    <tr>\n",
       "      <th>2</th>\n",
       "      <td>PHAbulous Philaments - 3D printing: natural an...</td>\n",
       "      <td>Technology</td>\n",
       "      <td>3D Printing</td>\n",
       "      <td>AT</td>\n",
       "      <td>EUR</td>\n",
       "      <td>2015-07-22 12:08:26</td>\n",
       "      <td>2015-08-21 12:08:26</td>\n",
       "      <td>30</td>\n",
       "      <td>15000.0</td>\n",
       "      <td>4152.402045</td>\n",
       "      <td>46</td>\n",
       "      <td>failed</td>\n",
       "      <td>27.682680</td>\n",
       "      <td>30-59</td>\n",
       "      <td>2,000-4,999</td>\n",
       "      <td>15-49</td>\n",
       "      <td>0.013608</td>\n",
       "    </tr>\n",
       "    <tr>\n",
       "      <th>3</th>\n",
       "      <td>Schokostruder - Chocolate &amp;  Liquid Extruder f...</td>\n",
       "      <td>Technology</td>\n",
       "      <td>3D Printing</td>\n",
       "      <td>AT</td>\n",
       "      <td>EUR</td>\n",
       "      <td>2016-01-25 18:48:09</td>\n",
       "      <td>2016-02-24 18:48:09</td>\n",
       "      <td>30</td>\n",
       "      <td>20000.0</td>\n",
       "      <td>19.435528</td>\n",
       "      <td>6</td>\n",
       "      <td>failed</td>\n",
       "      <td>0.097178</td>\n",
       "      <td>5-9</td>\n",
       "      <td>0-19</td>\n",
       "      <td>0-0.9</td>\n",
       "      <td>0.015118</td>\n",
       "    </tr>\n",
       "    <tr>\n",
       "      <th>4</th>\n",
       "      <td>StarterMate - the 3D printing starter kit for ...</td>\n",
       "      <td>Technology</td>\n",
       "      <td>3D Printing</td>\n",
       "      <td>AT</td>\n",
       "      <td>EUR</td>\n",
       "      <td>2015-09-30 00:26:43</td>\n",
       "      <td>2015-11-09 00:26:43</td>\n",
       "      <td>40</td>\n",
       "      <td>20000.0</td>\n",
       "      <td>2908.076574</td>\n",
       "      <td>29</td>\n",
       "      <td>failed</td>\n",
       "      <td>14.540383</td>\n",
       "      <td>15-29</td>\n",
       "      <td>2,000-4,999</td>\n",
       "      <td>1-4</td>\n",
       "      <td>0.014328</td>\n",
       "    </tr>\n",
       "  </tbody>\n",
       "</table>\n",
       "</div>"
      ],
      "text/plain": [
       "                                                name main_category  \\\n",
       "0                                     French Cuisine          Food   \n",
       "1  HotRod Henry SUPERCHARGED - the ultimate 3D pr...    Technology   \n",
       "2  PHAbulous Philaments - 3D printing: natural an...    Technology   \n",
       "3  Schokostruder - Chocolate &  Liquid Extruder f...    Technology   \n",
       "4  StarterMate - the 3D printing starter kit for ...    Technology   \n",
       "\n",
       "      category country currency            launched            deadline  \\\n",
       "0    Cookbooks      US      USD 2014-08-09 03:16:02 2014-09-08 00:46:23   \n",
       "1  3D Printing      AT      EUR 2016-06-16 16:30:33 2016-07-21 23:59:00   \n",
       "2  3D Printing      AT      EUR 2015-07-22 12:08:26 2015-08-21 12:08:26   \n",
       "3  3D Printing      AT      EUR 2016-01-25 18:48:09 2016-02-24 18:48:09   \n",
       "4  3D Printing      AT      EUR 2015-09-30 00:26:43 2015-11-09 00:26:43   \n",
       "\n",
       "   length_days     goal  usd pledged  backers   state  pct_funded  \\\n",
       "0           29  13730.0  3984.000000       46  failed   29.016752   \n",
       "1           35  75000.0  1561.784015       31  failed    2.082379   \n",
       "2           30  15000.0  4152.402045       46  failed   27.682680   \n",
       "3           30  20000.0    19.435528        6  failed    0.097178   \n",
       "4           40  20000.0  2908.076574       29  failed   14.540383   \n",
       "\n",
       "  backers_group usd_pledged_group pct_funded_group  zscore_pct_funded  \n",
       "0         30-59       2,000-4,999            15-49           0.013535  \n",
       "1         30-59         500-1,999              1-4           0.015010  \n",
       "2         30-59       2,000-4,999            15-49           0.013608  \n",
       "3           5-9              0-19            0-0.9           0.015118  \n",
       "4         15-29       2,000-4,999              1-4           0.014328  "
      ]
     },
     "execution_count": 93,
     "metadata": {},
     "output_type": "execute_result"
    }
   ],
   "source": [
    "# create bins for pct_funded\n",
    "\n",
    "bins = [0, 1, 15, 50, 90, 100, 110, 55000]\n",
    "bin_labels = [\"0-0.9\", \"1-4\", \"15-49\", \"50-89\", \"90-99\", \"100-109\", \"110+\" ]\n",
    "\n",
    "df3[\"pct_funded_group\"] = pd.cut(df3[\"pct_funded\"], bins, labels = bin_labels)\n",
    "\n",
    "df3.head()"
   ]
  },
  {
   "cell_type": "code",
   "execution_count": 94,
   "metadata": {},
   "outputs": [
    {
     "name": "stderr",
     "output_type": "stream",
     "text": [
      "C:\\Users\\liket\\AppData\\Local\\Temp\\ipykernel_25116\\1002722841.py:2: SettingWithCopyWarning: \n",
      "A value is trying to be set on a copy of a slice from a DataFrame.\n",
      "Try using .loc[row_indexer,col_indexer] = value instead\n",
      "\n",
      "See the caveats in the documentation: https://pandas.pydata.org/pandas-docs/stable/user_guide/indexing.html#returning-a-view-versus-a-copy\n",
      "  df3[\"zscore_pct_funded\"] = np.abs(stats.zscore(df3[\"pct_funded\"]))\n"
     ]
    }
   ],
   "source": [
    "# there is a wild outlier in one of the categories ruining a graph - need to remove it\n",
    "df3[\"zscore_pct_funded\"] = np.abs(stats.zscore(df3[\"pct_funded\"]))"
   ]
  },
  {
   "cell_type": "code",
   "execution_count": 87,
   "metadata": {},
   "outputs": [
    {
     "name": "stdout",
     "output_type": "stream",
     "text": [
      "                                                     name main_category  \\\n",
      "758               A Post-Match Debrief from 2015 Matchers    Publishing   \n",
      "10542             Roll Play Dice Tees 2: Item Enchantment       Fashion   \n",
      "14481       YOGA : TIME  |  The best way to practice yoga    Technology   \n",
      "16745           Support Others to Share Their Art & Soul!           Art   \n",
      "22213   ROLL¥A¥SKETCH : Whimsical Coloring Book & Orig...    Publishing   \n",
      "...                                                   ...           ...   \n",
      "264536                                        Energy Hook         Games   \n",
      "266430                           The Hat Man: Shadow Ward         Games   \n",
      "275670  Hang Out With Me, Season 1 (a Myq Kaplan podca...  Film & Video   \n",
      "278870               Northwoods Coasters: Don't-cha-know!        Crafts   \n",
      "281436                     My Father DIDN'T Kill Himself!    Publishing   \n",
      "\n",
      "           category country currency            launched            deadline  \\\n",
      "758        Academic      US      USD 2015-04-16 20:10:28 2015-05-01 19:58:00   \n",
      "10542       Apparel      US      USD 2014-06-18 17:57:54 2014-07-02 17:57:54   \n",
      "14481          Apps      US      USD 2015-01-16 13:10:17 2015-03-11 12:10:17   \n",
      "16745           Art      US      USD 2015-02-28 23:53:31 2015-03-30 23:53:31   \n",
      "22213     Art Books      US      USD 2015-07-07 04:15:38 2015-07-27 22:30:00   \n",
      "...             ...     ...      ...                 ...                 ...   \n",
      "264536  Video Games      US      USD 2013-05-10 01:22:38 2013-06-10 00:00:00   \n",
      "266430  Video Games      US      USD 2013-12-04 00:16:52 2014-01-03 09:00:00   \n",
      "275670    Webseries      US      USD 2012-08-27 19:11:16 2012-09-18 17:11:00   \n",
      "278870  Woodworking      US      USD 2015-01-19 02:10:13 2015-02-23 02:10:13   \n",
      "281436  Young Adult      US      USD 2016-01-20 15:18:05 2016-03-02 03:00:00   \n",
      "\n",
      "        length_days   goal  usd pledged  backers       state    pct_funded  \\\n",
      "758              14    1.0       925.00       91  successful  9.250000e+04   \n",
      "10542            14    1.0      4684.00      136  successful  4.684000e+05   \n",
      "14481            53  108.0     86944.00     1620  successful  8.050370e+04   \n",
      "16745            30    1.0       796.00       37  successful  7.960000e+04   \n",
      "22213            20    1.0      3799.00      119  successful  3.799000e+05   \n",
      "...             ...    ...          ...      ...         ...           ...   \n",
      "264536           30    1.0     41535.01     1622  successful  4.153501e+06   \n",
      "266430           30    1.0      3341.00      196  successful  3.341000e+05   \n",
      "275670           21    1.0       996.78       81  successful  9.967800e+04   \n",
      "278870           35    1.0      1556.00       53  successful  1.556000e+05   \n",
      "281436           41    1.0      3431.00      155  successful  3.431000e+05   \n",
      "\n",
      "       backers_group usd_pledged_group pct_funded_group  zscore_pct_funded  \n",
      "758            60-99         500-1,999             110+           5.049874  \n",
      "10542     100-999999       2,000-4,999             110+          25.632929  \n",
      "14481     100-999999     10,000-99,999             110+           4.392996  \n",
      "16745          30-59         500-1,999             110+           4.343512  \n",
      "22213     100-999999       2,000-4,999             110+          20.786959  \n",
      "...              ...               ...              ...                ...  \n",
      "264536    100-999999     10,000-99,999              NaN         227.417017  \n",
      "266430    100-999999       2,000-4,999             110+          18.279100  \n",
      "275670         60-99         500-1,999             110+           5.442918  \n",
      "278870         30-59         500-1,999             110+           8.505024  \n",
      "281436    100-999999       2,000-4,999             110+          18.771911  \n",
      "\n",
      "[113 rows x 17 columns]\n"
     ]
    }
   ],
   "source": [
    "pct_funded_outlier = df3.loc[df3[\"zscore_pct_funded\"]>3]\n",
    "\n",
    "print(pct_funded_outlier)"
   ]
  },
  {
   "cell_type": "code",
   "execution_count": 91,
   "metadata": {},
   "outputs": [
    {
     "name": "stdout",
     "output_type": "stream",
     "text": [
      "<class 'pandas.core.frame.DataFrame'>\n",
      "Int64Index: 281533 entries, 0 to 281855\n",
      "Data columns (total 17 columns):\n",
      " #   Column             Non-Null Count   Dtype         \n",
      "---  ------             --------------   -----         \n",
      " 0   name               281533 non-null  object        \n",
      " 1   main_category      281533 non-null  object        \n",
      " 2   category           281533 non-null  object        \n",
      " 3   country            281533 non-null  object        \n",
      " 4   currency           281533 non-null  object        \n",
      " 5   launched           281533 non-null  datetime64[ns]\n",
      " 6   deadline           281533 non-null  datetime64[ns]\n",
      " 7   length_days        281533 non-null  int64         \n",
      " 8   goal               281533 non-null  float64       \n",
      " 9   usd pledged        281533 non-null  float64       \n",
      " 10  backers            281533 non-null  int64         \n",
      " 11  state              281533 non-null  object        \n",
      " 12  pct_funded         281533 non-null  float64       \n",
      " 13  backers_group      248161 non-null  category      \n",
      " 14  usd_pledged_group  243925 non-null  category      \n",
      " 15  pct_funded_group   243925 non-null  category      \n",
      " 16  zscore_pct_funded  281533 non-null  float64       \n",
      "dtypes: category(3), datetime64[ns](2), float64(4), int64(2), object(6)\n",
      "memory usage: 33.0+ MB\n"
     ]
    }
   ],
   "source": [
    "df3 = df3[df3[\"zscore_pct_funded\"]<=3]\n",
    "\n",
    "df3.info()"
   ]
  },
  {
   "cell_type": "code",
   "execution_count": 103,
   "metadata": {},
   "outputs": [
    {
     "name": "stdout",
     "output_type": "stream",
     "text": [
      "                                                     name main_category  \\\n",
      "17      The Peachy Printer - The First $100 3D Printer...    Technology   \n",
      "79      BigBox: THE Open Source Hi-Spec Desktop 3D Pri...    Technology   \n",
      "83      Robox : Desktop 3D Printer and Micro-Manufactu...    Technology   \n",
      "92      OverLord 3D Printer: MULTI-COLOR. SMART. STYLISH.    Technology   \n",
      "109       LIX - The Smallest 3D Printing Pen in the World    Technology   \n",
      "...                                                   ...           ...   \n",
      "273284         Religion: Ruining Everything Since 4004 BC        Comics   \n",
      "273394                              Ava's Demon: Book Two        Comics   \n",
      "274465              Bring Penny Arcade's Automata to Life  Film & Video   \n",
      "276292                             Video Game High School  Film & Video   \n",
      "276407          The Lizzie Bennet Diaries DVD...and More!  Film & Video   \n",
      "\n",
      "           category country currency            launched            deadline  \\\n",
      "17      3D Printing      CA      CAD 2013-09-20 23:21:14 2013-10-20 23:21:14   \n",
      "79      3D Printing      GB      GBP 2015-07-17 20:21:50 2015-08-16 20:21:50   \n",
      "83      3D Printing      GB      GBP 2013-11-21 01:03:21 2013-12-21 01:03:21   \n",
      "92      3D Printing      GB      GBP 2014-11-25 17:00:11 2015-01-09 17:00:11   \n",
      "109     3D Printing      GB      GBP 2014-04-29 15:56:47 2014-05-29 15:56:47   \n",
      "...             ...     ...      ...                 ...                 ...   \n",
      "273284    Webcomics      US      USD 2015-10-19 16:55:57 2015-11-18 16:55:57   \n",
      "273394    Webcomics      US      USD 2015-01-15 14:40:31 2015-02-24 14:40:31   \n",
      "274465    Webseries      US      USD 2015-07-08 19:55:39 2015-08-10 20:15:00   \n",
      "276292    Webseries      US      USD 2011-09-21 20:28:40 2011-10-22 08:59:00   \n",
      "276407    Webseries      US      USD 2013-03-22 18:49:24 2013-04-23 04:00:00   \n",
      "\n",
      "        length_days      goal   usd pledged  backers       state   pct_funded  \\\n",
      "17               30   50000.0  6.365025e+05     4420  successful  1273.005050   \n",
      "79               30   30000.0  4.095504e+05      465  successful  1365.168148   \n",
      "83               30  100000.0  4.523853e+05      435  successful   452.385287   \n",
      "92               45   10000.0  3.990697e+05      832  successful  3990.697325   \n",
      "109              30   30000.0  1.228460e+06     8030  successful  4094.865433   \n",
      "...             ...       ...           ...      ...         ...          ...   \n",
      "273284           30   15000.0  3.774710e+05     7119  successful  2516.473400   \n",
      "273394           40   75000.0  3.510764e+05     3729  successful   468.101880   \n",
      "274465           33  322637.0  4.734943e+05     5250  successful   146.757594   \n",
      "276292           30   75000.0  2.737256e+05     5661  successful   364.967440   \n",
      "276407           31   60000.0  4.624053e+05     7158  successful   770.675533   \n",
      "\n",
      "       backers_group usd_pledged_group pct_funded_group  zscore_pct_funded  \\\n",
      "17        100-999999          100,000+             110+           1.943504   \n",
      "79        100-999999          100,000+             110+           2.095803   \n",
      "83        100-999999          100,000+             110+           0.587431   \n",
      "92        100-999999          100,000+             110+           6.434486   \n",
      "109       100-999999          100,000+             110+           6.606624   \n",
      "...              ...               ...              ...                ...   \n",
      "273284    100-999999          100,000+             110+           3.998333   \n",
      "273394    100-999999          100,000+             110+           0.613403   \n",
      "274465    100-999999          100,000+             110+           0.082382   \n",
      "276292    100-999999          100,000+             110+           0.442973   \n",
      "276407    100-999999          100,000+             110+           1.113405   \n",
      "\n",
      "        zscore_usd_pledged  \n",
      "17                7.165334  \n",
      "79                4.575697  \n",
      "83                5.064464  \n",
      "92                4.456107  \n",
      "109              13.919861  \n",
      "...                    ...  \n",
      "273284            4.209654  \n",
      "273394            3.908479  \n",
      "274465            5.305328  \n",
      "276292            3.025867  \n",
      "276407            5.178797  \n",
      "\n",
      "[976 rows x 18 columns]\n"
     ]
    },
    {
     "name": "stderr",
     "output_type": "stream",
     "text": [
      "C:\\Users\\liket\\AppData\\Local\\Temp\\ipykernel_25116\\3831878065.py:3: SettingWithCopyWarning: \n",
      "A value is trying to be set on a copy of a slice from a DataFrame.\n",
      "Try using .loc[row_indexer,col_indexer] = value instead\n",
      "\n",
      "See the caveats in the documentation: https://pandas.pydata.org/pandas-docs/stable/user_guide/indexing.html#returning-a-view-versus-a-copy\n",
      "  df3[\"zscore_usd_pledged\"] = np.abs(stats.zscore(df3[\"usd pledged\"]))\n"
     ]
    }
   ],
   "source": [
    "#removing more outliers\n",
    "\n",
    "df3[\"zscore_usd_pledged\"] = np.abs(stats.zscore(df3[\"usd pledged\"]))\n",
    "usd_pledged_outlier = df3.loc[df3[\"zscore_usd_pledged\"]>3]\n",
    "print(usd_pledged_outlier)"
   ]
  },
  {
   "cell_type": "code",
   "execution_count": 105,
   "metadata": {},
   "outputs": [],
   "source": [
    "df3 = df3[df3['zscore_usd_pledged']<=3]"
   ]
  },
  {
   "cell_type": "code",
   "execution_count": 106,
   "metadata": {},
   "outputs": [
    {
     "data": {
      "text/html": [
       "<div>\n",
       "<style scoped>\n",
       "    .dataframe tbody tr th:only-of-type {\n",
       "        vertical-align: middle;\n",
       "    }\n",
       "\n",
       "    .dataframe tbody tr th {\n",
       "        vertical-align: top;\n",
       "    }\n",
       "\n",
       "    .dataframe thead th {\n",
       "        text-align: right;\n",
       "    }\n",
       "</style>\n",
       "<table border=\"1\" class=\"dataframe\">\n",
       "  <thead>\n",
       "    <tr style=\"text-align: right;\">\n",
       "      <th></th>\n",
       "      <th>length_days</th>\n",
       "      <th>goal</th>\n",
       "      <th>usd pledged</th>\n",
       "      <th>backers</th>\n",
       "      <th>pct_funded</th>\n",
       "      <th>zscore_pct_funded</th>\n",
       "      <th>zscore_usd_pledged</th>\n",
       "    </tr>\n",
       "  </thead>\n",
       "  <tbody>\n",
       "    <tr>\n",
       "      <th>count</th>\n",
       "      <td>280557.000000</td>\n",
       "      <td>2.805570e+05</td>\n",
       "      <td>280557.000000</td>\n",
       "      <td>280557.000000</td>\n",
       "      <td>280557.000000</td>\n",
       "      <td>280557.000000</td>\n",
       "      <td>280557.000000</td>\n",
       "    </tr>\n",
       "    <tr>\n",
       "      <th>mean</th>\n",
       "      <td>33.972145</td>\n",
       "      <td>4.135771e+04</td>\n",
       "      <td>5763.580987</td>\n",
       "      <td>86.007239</td>\n",
       "      <td>91.448293</td>\n",
       "      <td>0.171601</td>\n",
       "      <td>0.108076</td>\n",
       "    </tr>\n",
       "    <tr>\n",
       "      <th>std</th>\n",
       "      <td>12.901238</td>\n",
       "      <td>1.044857e+06</td>\n",
       "      <td>17663.577599</td>\n",
       "      <td>442.842704</td>\n",
       "      <td>573.449584</td>\n",
       "      <td>0.932001</td>\n",
       "      <td>0.173054</td>\n",
       "    </tr>\n",
       "    <tr>\n",
       "      <th>min</th>\n",
       "      <td>1.000000</td>\n",
       "      <td>1.500000e-01</td>\n",
       "      <td>0.000000</td>\n",
       "      <td>0.000000</td>\n",
       "      <td>0.000000</td>\n",
       "      <td>0.000015</td>\n",
       "      <td>0.000001</td>\n",
       "    </tr>\n",
       "    <tr>\n",
       "      <th>25%</th>\n",
       "      <td>30.000000</td>\n",
       "      <td>2.000000e+03</td>\n",
       "      <td>38.116275</td>\n",
       "      <td>2.000000</td>\n",
       "      <td>0.580000</td>\n",
       "      <td>0.061357</td>\n",
       "      <td>0.071771</td>\n",
       "    </tr>\n",
       "    <tr>\n",
       "      <th>50%</th>\n",
       "      <td>30.000000</td>\n",
       "      <td>5.000000e+03</td>\n",
       "      <td>680.000000</td>\n",
       "      <td>15.000000</td>\n",
       "      <td>16.280000</td>\n",
       "      <td>0.147670</td>\n",
       "      <td>0.093679</td>\n",
       "    </tr>\n",
       "    <tr>\n",
       "      <th>75%</th>\n",
       "      <td>36.000000</td>\n",
       "      <td>1.500000e+04</td>\n",
       "      <td>4049.000000</td>\n",
       "      <td>61.000000</td>\n",
       "      <td>107.780000</td>\n",
       "      <td>0.160005</td>\n",
       "      <td>0.097422</td>\n",
       "    </tr>\n",
       "    <tr>\n",
       "      <th>max</th>\n",
       "      <td>92.000000</td>\n",
       "      <td>1.000000e+08</td>\n",
       "      <td>271154.010000</td>\n",
       "      <td>154926.000000</td>\n",
       "      <td>54575.666667</td>\n",
       "      <td>90.026068</td>\n",
       "      <td>2.996524</td>\n",
       "    </tr>\n",
       "  </tbody>\n",
       "</table>\n",
       "</div>"
      ],
      "text/plain": [
       "         length_days          goal    usd pledged        backers  \\\n",
       "count  280557.000000  2.805570e+05  280557.000000  280557.000000   \n",
       "mean       33.972145  4.135771e+04    5763.580987      86.007239   \n",
       "std        12.901238  1.044857e+06   17663.577599     442.842704   \n",
       "min         1.000000  1.500000e-01       0.000000       0.000000   \n",
       "25%        30.000000  2.000000e+03      38.116275       2.000000   \n",
       "50%        30.000000  5.000000e+03     680.000000      15.000000   \n",
       "75%        36.000000  1.500000e+04    4049.000000      61.000000   \n",
       "max        92.000000  1.000000e+08  271154.010000  154926.000000   \n",
       "\n",
       "          pct_funded  zscore_pct_funded  zscore_usd_pledged  \n",
       "count  280557.000000      280557.000000       280557.000000  \n",
       "mean       91.448293           0.171601            0.108076  \n",
       "std       573.449584           0.932001            0.173054  \n",
       "min         0.000000           0.000015            0.000001  \n",
       "25%         0.580000           0.061357            0.071771  \n",
       "50%        16.280000           0.147670            0.093679  \n",
       "75%       107.780000           0.160005            0.097422  \n",
       "max     54575.666667          90.026068            2.996524  "
      ]
     },
     "execution_count": 106,
     "metadata": {},
     "output_type": "execute_result"
    }
   ],
   "source": [
    "df3.describe()"
   ]
  },
  {
   "cell_type": "code",
   "execution_count": 107,
   "metadata": {},
   "outputs": [
    {
     "data": {
      "text/plain": [
       "<AxesSubplot:title={'center':'USD Pledged by Main Category and Pct Funded'}, xlabel='main_category', ylabel='usd pledged'>"
      ]
     },
     "execution_count": 107,
     "metadata": {},
     "output_type": "execute_result"
    },
    {
     "data": {
      "image/png": "[encoded data removed]",
      "text/plain": [
       "<Figure size 1080x360 with 1 Axes>"
      ]
     },
     "metadata": {
      "needs_background": "light"
     },
     "output_type": "display_data"
    }
   ],
   "source": [
    "# average number of backers and pledges by main category \n",
    "# include the variable \"pct_funded\" to get a better picture of the projects that met/exceeded their goal\n",
    "\n",
    "plt.figure(figsize = (15,5))\n",
    "plt.xticks(rotation = 90)\n",
    "plt.title(\"USD Pledged by Main Category and Pct Funded\")\n",
    "sns.barplot(x=df3[\"main_category\"], y = df3[\"usd pledged\"], hue = df3[\"pct_funded_group\"], ci=None)"
   ]
  },
  {
   "cell_type": "code",
   "execution_count": 108,
   "metadata": {},
   "outputs": [
    {
     "data": {
      "text/plain": [
       "<AxesSubplot:title={'center':'USD Pledged by Main Category and Backers'}, xlabel='main_category', ylabel='usd pledged'>"
      ]
     },
     "execution_count": 108,
     "metadata": {},
     "output_type": "execute_result"
    },
    {
     "data": {
      "image/png": "[encoded data removed]",
      "text/plain": [
       "<Figure size 1080x360 with 1 Axes>"
      ]
     },
     "metadata": {
      "needs_background": "light"
     },
     "output_type": "display_data"
    }
   ],
   "source": [
    "plt.figure(figsize = (15,5))\n",
    "plt.xticks(rotation = 90)\n",
    "plt.title(\"USD Pledged by Main Category and Backers\")\n",
    "sns.barplot(x=df3[\"main_category\"], y = df3[\"usd pledged\"], hue = df3[\"backers_group\"], ci=None)"
   ]
  },
  {
   "cell_type": "code",
   "execution_count": 110,
   "metadata": {},
   "outputs": [
    {
     "data": {
      "text/plain": [
       "<AxesSubplot:title={'center':'Pct Funded by Main Category and USD Pledged Group'}, xlabel='main_category', ylabel='pct_funded'>"
      ]
     },
     "execution_count": 110,
     "metadata": {},
     "output_type": "execute_result"
    },
    {
     "data": {
      "image/png": "[encoded data removed]",
      "text/plain": [
       "<Figure size 1080x360 with 1 Axes>"
      ]
     },
     "metadata": {
      "needs_background": "light"
     },
     "output_type": "display_data"
    }
   ],
   "source": [
    "plt.figure(figsize = (15,5))\n",
    "plt.xticks(rotation = 90)\n",
    "plt.title(\"Pct Funded by Main Category and USD Pledged Group\")\n",
    "sns.barplot(x=df3[\"main_category\"], y = df3[\"pct_funded\"], hue = df3[\"usd_pledged_group\"], ci=None)"
   ]
  },
  {
   "cell_type": "code",
   "execution_count": 112,
   "metadata": {},
   "outputs": [
    {
     "data": {
      "text/plain": [
       "<AxesSubplot:title={'center':'USD Pledged by Main Category and Pct Funded'}, xlabel='pct_funded_group', ylabel='usd pledged'>"
      ]
     },
     "execution_count": 112,
     "metadata": {},
     "output_type": "execute_result"
    },
    {
     "data": {
      "image/png": "[encoded data removed]",
      "text/plain": [
       "<Figure size 1080x360 with 1 Axes>"
      ]
     },
     "metadata": {
      "needs_background": "light"
     },
     "output_type": "display_data"
    }
   ],
   "source": [
    "plt.figure(figsize = (15,5))\n",
    "plt.xticks(rotation = 90)\n",
    "plt.title(\"USD Pledged by Main Category and Pct Funded\")\n",
    "sns.barplot(x=df3[\"pct_funded_group\"], y = df3[\"usd pledged\"], hue = df3[\"main_category\"], ci=None)"
   ]
  },
  {
   "cell_type": "code",
   "execution_count": null,
   "metadata": {},
   "outputs": [],
   "source": []
  },
  {
   "cell_type": "code",
   "execution_count": null,
   "metadata": {},
   "outputs": [],
   "source": []
  },
  {
   "cell_type": "code",
   "execution_count": null,
   "metadata": {},
   "outputs": [],
   "source": [
    "# average number of backers and pledges by main category and subcategory \n"
   ]
  },
  {
   "cell_type": "code",
   "execution_count": null,
   "metadata": {},
   "outputs": [],
   "source": [
    "## state by campaign main category (crosstab)\n",
    "# hint: list 'state' second for an easier to read table\n",
    "\n",
    "\n",
    "# HINT: it's easier to understand the differences between groups by looking at percentages"
   ]
  },
  {
   "cell_type": "code",
   "execution_count": null,
   "metadata": {},
   "outputs": [],
   "source": [
    "## state by campaign sub-category (crosstab)\n",
    "# hint: list 'state' second for an easier to read table\n",
    "\n",
    "\n",
    "\n",
    "# HINT: it's easier to understand the differences between groups by looking at percentages"
   ]
  },
  {
   "cell_type": "markdown",
   "metadata": {},
   "source": [
    "## <font color=#306EFF>Part 5: Group Presentation</font>\n",
    "\n",
    "By now, your group should feel very comfortable with the aspects of the Kickstarter dataset. You should have a firm understanding of what Kickstarter is, what the dataset contains, the characteristics of each variable, how the variables interact with each other, and finally, which variables influence the outcome of the Kickstarter campaign. Can you put all this information together to tell a story about the data? Your presentation should include visualizations and clear answers to the two primary questions:\n",
    "\n",
    "    1. What kinds of projects should the Kickstarter Marking Team focus their attention on?\n",
    "    2. Why should the Marketing Team focus their attention in that direction?\n",
    "\n",
    "In addition to these two questions, your presentation should cover the additional questions listed below. These questions should be easy to answer using the information you discovered above. When you are done, submit your completed notebook to me.   \n",
    "\n",
    "### <font color=#306EFF>Questions to Answer</font>\n",
    "1.\tWhat main category is the most profitable (highest amount of money pledged)? \n",
    "2.\tWhich main category is the most popular (highest number of backers)?\n",
    "3.\tWhich sub-categories are the most profitable and popular (top 3)?\n",
    "4.\tWhat are some of the characteristics of a successful Kickstarter campaign? \n",
    "5.\tHow does the success or failure of Kickstarter campaigns differ between main category, sub-category, country, and length of campaign? Please mention only the most notable – you do not need to detail the success/failure rate for each category/sub-category? \n",
    "\n",
    "***\n",
    "\n",
    "### <font color=#306EFF>TIPS FOR A GREAT PRESENTATION</font>\n",
    "\n",
    "* Start with the most important information (answers to the two questions above), and work backwards. The entire class will be working with the same dataset, therefore, we don't need to know the details of all your coding -- we just want to know what findings are most important to the questions. \n",
    "* Create clear visualizations. Make sure your audience can quickly and easily understand what your visualizations are showing. While you have a lot of options for how to style your visualizations, don't go overboard! \n",
    "* Make sure everyone understands what the visualization is showing; it should not have to stand on its own. When you present a visualization, you should be able to discuss what it means and what the significance is. \n",
    "* Use a single presentation format -- you can create a PowerPoint presentation or organize your notebook in a way that is easy to follow; reguardless of what your group puts together, you should use only ONE format. "
   ]
  },
  {
   "cell_type": "code",
   "execution_count": null,
   "metadata": {},
   "outputs": [],
   "source": []
  }
 ],
 "metadata": {
  "kernelspec": {
   "display_name": "Python 3 (ipykernel)",
   "language": "python",
   "name": "python3"
  },
  "language_info": {
   "codemirror_mode": {
    "name": "ipython",
    "version": 3
   },
   "file_extension": ".py",
   "mimetype": "text/x-python",
   "name": "python",
   "nbconvert_exporter": "python",
   "pygments_lexer": "ipython3",
   "version": "3.9.12"
  }
 },
 "nbformat": 4,
 "nbformat_minor": 4
}
