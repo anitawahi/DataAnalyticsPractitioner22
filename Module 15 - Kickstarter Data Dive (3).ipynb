{
 "cells": [
  {
   "cell_type": "markdown",
   "metadata": {},
   "source": [
    "# <u>Group Project: Kickstarter Campaign</u>\n",
    "\n",
    "Kickstarter is a company that provides the space for independent artists, creative, innovators, and entrepreneurs to bring their unique projects to life. Kickstarter allows anyone to financially support the project through an online pledging system - this means; anyone can pledge a specific amount of money towards the funding goal of the project. Kickstarter projects (also called campaigns) are all-or-nothing -- meaning, if the funding goal isn't met 100% (or exceeded), the project campaign fails and no funding is provided. The stakes are high - but what is it about certain campaigns that make them succeed while others fail? \n",
    "\n",
    "You have joined the marketing team for Kickstarter and you are tasked with exploring the features of several campaigns over the past few years. You are responsible for looking at this dataset and pulling out key insights about the characteristics of Kickstarter campaigns that make them more likely to succeed or fail. The marketing team at Kickstarter has a limited amount of funds to devote to highlighting specific projects, and they want to highlight projects that have the best chance of succeeding (i.e. meeting the funding goal). Can you help them determine who that might be?\n",
    "\n",
    "Complete the steps below to take a dataset from inception to insights, for the purpose of answering the following two questions:\n",
    "\n",
    "    1. What kinds of projects should the Kickstarter Marking Team focus their attention on?\n",
    "    2. Why should the Marketing Team focus their attention in that direction?\n",
    "\n",
    "After you have combed through the data, your group will put together a presentation (including visualizations), that clearly answers the two questions above. The Kickstarter dataset is posted to Canvas. Complete the code in the notebook below to complete the project. <b> You are NOT restricted to the steps laid out in this notebook to complete your project, You can conduct additional analyses or create additional visualizations. This notebook is everything you need to cover, but feel free to expand on these steps! This includes completing regression analyses with the dataset.</b>"
   ]
  },
  {
   "cell_type": "markdown",
   "metadata": {},
   "source": [
    "## <font color=red>Part 1: Domain Knowledge</font>\n",
    "\n",
    "Before you begin looking at the data, you need to expand your knowledge of the subject matter. Start by visiting www.kickstarter.com and read all you can about the company. What is the objective of the company? How does it work? What does the project timeline look like? You should research the company until you feel comfortable speaking about the basics of Kickstarter projects. Use the space below (double-click the cell to activate) to write a brief paragraph about what you learned about Kickstarter. \n",
    "\n",
    "### <font color=red>Questions to Answer</font>\n",
    "1. What is Kickstarter?\n",
    "2. What is the purpose of Kickstarter?\n",
    "3. Who are the \"backers\" of a Kickstarter campaign?\n",
    "4. How is success determined for a project campaign?\n",
    "\n",
    "****\n",
    "\n",
    "### <font color=red>KICKSTARTER INFORMATION</font>\n",
    "\n",
    "#### In a nutshell:\n",
    "Kickstarter is an online funding platform designed as a connection between creativity and capital. Its purpose is to break free from a central focus on profit at all costs.  The \"backers\" are individuals or groups that pledge money if a project gets fully funded. Success is determined as a project meeting its funding goal within its timeline.\n"
   ]
  },
  {
   "cell_type": "markdown",
   "metadata": {},
   "source": [
    "## <font color=darkorange>Part 2: Data Import and Cleaning</font>\n",
    "\n",
    "Now that you are familiar with where the data is coming from, you are ready to start examining the data. The Kickstarter Dataset is a collection of project campaign information from 2016. Data includes information about the project name, length, country of origin, goal, and the amount of money raised, etc. If you open the Kickstarter Dataset in excel, the second tab provides descriptions of each of the columns/variables. Import the dataset into this notebook and follow the steps below to gather information about the data and to clean up the dataset. Use the space below (double-click the cell to activate) to write a brief paragraph describing the dataset and the steps you took while cleaning the data. \n",
    "\n",
    "### <font color=darkorange>Questions to Answer</font>\n",
    "1. How many columns are in the dataset? How many rows?\n",
    "2. What type of variables (continuous, categorical) make up this dataset?\n",
    "3. Which variables have missing values? \n",
    "4. How did you handle the missing data in the dataset?\n",
    "5. How many rows are in your dataset after handling missing data?\n",
    "6. Are there any odd or inappropriate values within a column that don't make sense? If so, what are they?\n",
    "7. What percentage of the each project was funded? In other words, how close were they to reaching the goal? You will need to create a new variable to answer this question.\n",
    "\n",
    "***\n",
    "\n",
    "### <font color=darkorange>DATASET INFORMATION AND CLEANING</font>\n",
    "\n",
    "#### Answers below:\n",
    "1. 281,856 rows and 14 columns\n",
    "2. All types of variables - integer, decimal, date/time, and categorical\n",
    "3. missing variables in the following categories: name, usd pledged\n",
    "4. a project without a name is still a project, so just changed the name to unknown; a project without pledges, though, is neither a success nor a failure and therefore useless to include in dataset (dropped)\n",
    "5. 281,646 rows after handling missing data\n",
    "6. I found no odd or inappropriate values in any of the columns, including usd pledged, which has no negative values\n",
    "7. done"
   ]
  },
  {
   "cell_type": "code",
   "execution_count": 1480,
   "metadata": {},
   "outputs": [],
   "source": [
    "## import libraries and import Kickstarter dataset\n",
    "import pandas as pd\n",
    "import numpy as np\n",
    "import seaborn as sns\n",
    "import statsmodels.formula.api as sm\n",
    "import scipy.stats as stats\n",
    "\n",
    "from matplotlib import pyplot as plt\n",
    "%matplotlib inline\n",
    "\n",
    "from sklearn.cluster import KMeans\n",
    "\n",
    "df = pd.read_excel(\"Kickstarter_Dataset.xlsx\")\n",
    "\n",
    "## this is a large dataset, we want to see all rows \n",
    "# pd.set_option('display.max_rows', None)\n",
    "\n",
    "\n",
    "## this is a very large dataset, be patient, it may take a while to import!!\n",
    "\n"
   ]
  },
  {
   "cell_type": "code",
   "execution_count": 1481,
   "metadata": {},
   "outputs": [
    {
     "name": "stdout",
     "output_type": "stream",
     "text": [
      "<class 'pandas.core.frame.DataFrame'>\n",
      "RangeIndex: 281856 entries, 0 to 281855\n",
      "Data columns (total 14 columns):\n",
      " #   Column         Non-Null Count   Dtype         \n",
      "---  ------         --------------   -----         \n",
      " 0   ID             281856 non-null  int64         \n",
      " 1   name           281821 non-null  object        \n",
      " 2   main_category  281856 non-null  object        \n",
      " 3   category       281856 non-null  object        \n",
      " 4   country        281856 non-null  object        \n",
      " 5   currency       281856 non-null  object        \n",
      " 6   launched       281856 non-null  datetime64[ns]\n",
      " 7   deadline       281856 non-null  datetime64[ns]\n",
      " 8   length_days    281856 non-null  int64         \n",
      " 9   goal           281856 non-null  float64       \n",
      " 10  pledged        281856 non-null  float64       \n",
      " 11  usd pledged    281646 non-null  float64       \n",
      " 12  backers        281856 non-null  int64         \n",
      " 13  state          281856 non-null  object        \n",
      "dtypes: datetime64[ns](2), float64(3), int64(3), object(6)\n",
      "memory usage: 30.1+ MB\n"
     ]
    }
   ],
   "source": [
    "## determine dataset shape (number of rows and columns)\n",
    "df.info()\n"
   ]
  },
  {
   "cell_type": "code",
   "execution_count": 1482,
   "metadata": {},
   "outputs": [
    {
     "data": {
      "text/html": [
       "<div>\n",
       "<style scoped>\n",
       "    .dataframe tbody tr th:only-of-type {\n",
       "        vertical-align: middle;\n",
       "    }\n",
       "\n",
       "    .dataframe tbody tr th {\n",
       "        vertical-align: top;\n",
       "    }\n",
       "\n",
       "    .dataframe thead th {\n",
       "        text-align: right;\n",
       "    }\n",
       "</style>\n",
       "<table border=\"1\" class=\"dataframe\">\n",
       "  <thead>\n",
       "    <tr style=\"text-align: right;\">\n",
       "      <th></th>\n",
       "      <th>ID</th>\n",
       "      <th>name</th>\n",
       "      <th>main_category</th>\n",
       "      <th>category</th>\n",
       "      <th>country</th>\n",
       "      <th>currency</th>\n",
       "      <th>launched</th>\n",
       "      <th>deadline</th>\n",
       "      <th>length_days</th>\n",
       "      <th>goal</th>\n",
       "      <th>pledged</th>\n",
       "      <th>usd pledged</th>\n",
       "      <th>backers</th>\n",
       "      <th>state</th>\n",
       "      <th>usd_pledged</th>\n",
       "    </tr>\n",
       "  </thead>\n",
       "  <tbody>\n",
       "    <tr>\n",
       "      <th>0</th>\n",
       "      <td>1009317190</td>\n",
       "      <td>French Cuisine</td>\n",
       "      <td>Food</td>\n",
       "      <td>Cookbooks</td>\n",
       "      <td>US</td>\n",
       "      <td>USD</td>\n",
       "      <td>2014-08-09 03:16:02</td>\n",
       "      <td>2014-09-08 00:46:23</td>\n",
       "      <td>29</td>\n",
       "      <td>13730.0</td>\n",
       "      <td>3984.0</td>\n",
       "      <td>3984.000000</td>\n",
       "      <td>46</td>\n",
       "      <td>failed</td>\n",
       "      <td>3984.000000</td>\n",
       "    </tr>\n",
       "    <tr>\n",
       "      <th>1</th>\n",
       "      <td>1618024139</td>\n",
       "      <td>HotRod Henry SUPERCHARGED - the ultimate 3D pr...</td>\n",
       "      <td>Technology</td>\n",
       "      <td>3D Printing</td>\n",
       "      <td>AT</td>\n",
       "      <td>EUR</td>\n",
       "      <td>2016-06-16 16:30:33</td>\n",
       "      <td>2016-07-21 23:59:00</td>\n",
       "      <td>35</td>\n",
       "      <td>75000.0</td>\n",
       "      <td>7386.0</td>\n",
       "      <td>1561.784015</td>\n",
       "      <td>31</td>\n",
       "      <td>failed</td>\n",
       "      <td>1561.784015</td>\n",
       "    </tr>\n",
       "    <tr>\n",
       "      <th>2</th>\n",
       "      <td>2004838949</td>\n",
       "      <td>PHAbulous Philaments - 3D printing: natural an...</td>\n",
       "      <td>Technology</td>\n",
       "      <td>3D Printing</td>\n",
       "      <td>AT</td>\n",
       "      <td>EUR</td>\n",
       "      <td>2015-07-22 12:08:26</td>\n",
       "      <td>2015-08-21 12:08:26</td>\n",
       "      <td>30</td>\n",
       "      <td>15000.0</td>\n",
       "      <td>3834.0</td>\n",
       "      <td>4152.402045</td>\n",
       "      <td>46</td>\n",
       "      <td>failed</td>\n",
       "      <td>4152.402045</td>\n",
       "    </tr>\n",
       "    <tr>\n",
       "      <th>3</th>\n",
       "      <td>258770123</td>\n",
       "      <td>Schokostruder - Chocolate &amp;  Liquid Extruder f...</td>\n",
       "      <td>Technology</td>\n",
       "      <td>3D Printing</td>\n",
       "      <td>AT</td>\n",
       "      <td>EUR</td>\n",
       "      <td>2016-01-25 18:48:09</td>\n",
       "      <td>2016-02-24 18:48:09</td>\n",
       "      <td>30</td>\n",
       "      <td>20000.0</td>\n",
       "      <td>18.0</td>\n",
       "      <td>19.435528</td>\n",
       "      <td>6</td>\n",
       "      <td>failed</td>\n",
       "      <td>19.435528</td>\n",
       "    </tr>\n",
       "    <tr>\n",
       "      <th>4</th>\n",
       "      <td>690137136</td>\n",
       "      <td>StarterMate - the 3D printing starter kit for ...</td>\n",
       "      <td>Technology</td>\n",
       "      <td>3D Printing</td>\n",
       "      <td>AT</td>\n",
       "      <td>EUR</td>\n",
       "      <td>2015-09-30 00:26:43</td>\n",
       "      <td>2015-11-09 00:26:43</td>\n",
       "      <td>40</td>\n",
       "      <td>20000.0</td>\n",
       "      <td>2598.0</td>\n",
       "      <td>2908.076574</td>\n",
       "      <td>29</td>\n",
       "      <td>failed</td>\n",
       "      <td>2908.076574</td>\n",
       "    </tr>\n",
       "  </tbody>\n",
       "</table>\n",
       "</div>"
      ],
      "text/plain": [
       "           ID                                               name  \\\n",
       "0  1009317190                                     French Cuisine   \n",
       "1  1618024139  HotRod Henry SUPERCHARGED - the ultimate 3D pr...   \n",
       "2  2004838949  PHAbulous Philaments - 3D printing: natural an...   \n",
       "3   258770123  Schokostruder - Chocolate &  Liquid Extruder f...   \n",
       "4   690137136  StarterMate - the 3D printing starter kit for ...   \n",
       "\n",
       "  main_category     category country currency            launched  \\\n",
       "0          Food    Cookbooks      US      USD 2014-08-09 03:16:02   \n",
       "1    Technology  3D Printing      AT      EUR 2016-06-16 16:30:33   \n",
       "2    Technology  3D Printing      AT      EUR 2015-07-22 12:08:26   \n",
       "3    Technology  3D Printing      AT      EUR 2016-01-25 18:48:09   \n",
       "4    Technology  3D Printing      AT      EUR 2015-09-30 00:26:43   \n",
       "\n",
       "             deadline  length_days     goal  pledged  usd pledged  backers  \\\n",
       "0 2014-09-08 00:46:23           29  13730.0   3984.0  3984.000000       46   \n",
       "1 2016-07-21 23:59:00           35  75000.0   7386.0  1561.784015       31   \n",
       "2 2015-08-21 12:08:26           30  15000.0   3834.0  4152.402045       46   \n",
       "3 2016-02-24 18:48:09           30  20000.0     18.0    19.435528        6   \n",
       "4 2015-11-09 00:26:43           40  20000.0   2598.0  2908.076574       29   \n",
       "\n",
       "    state  usd_pledged  \n",
       "0  failed  3984.000000  \n",
       "1  failed  1561.784015  \n",
       "2  failed  4152.402045  \n",
       "3  failed    19.435528  \n",
       "4  failed  2908.076574  "
      ]
     },
     "execution_count": 1482,
     "metadata": {},
     "output_type": "execute_result"
    }
   ],
   "source": [
    "df[\"usd_pledged\"] = df[\"usd pledged\"]\n",
    "df.head()"
   ]
  },
  {
   "cell_type": "code",
   "execution_count": 1483,
   "metadata": {},
   "outputs": [
    {
     "data": {
      "text/html": [
       "<div>\n",
       "<style scoped>\n",
       "    .dataframe tbody tr th:only-of-type {\n",
       "        vertical-align: middle;\n",
       "    }\n",
       "\n",
       "    .dataframe tbody tr th {\n",
       "        vertical-align: top;\n",
       "    }\n",
       "\n",
       "    .dataframe thead th {\n",
       "        text-align: right;\n",
       "    }\n",
       "</style>\n",
       "<table border=\"1\" class=\"dataframe\">\n",
       "  <thead>\n",
       "    <tr style=\"text-align: right;\">\n",
       "      <th></th>\n",
       "      <th>ID</th>\n",
       "      <th>name</th>\n",
       "      <th>main_category</th>\n",
       "      <th>category</th>\n",
       "      <th>country</th>\n",
       "      <th>currency</th>\n",
       "      <th>launched</th>\n",
       "      <th>deadline</th>\n",
       "      <th>length_days</th>\n",
       "      <th>goal</th>\n",
       "      <th>pledged</th>\n",
       "      <th>backers</th>\n",
       "      <th>state</th>\n",
       "      <th>usd_pledged</th>\n",
       "    </tr>\n",
       "  </thead>\n",
       "  <tbody>\n",
       "    <tr>\n",
       "      <th>0</th>\n",
       "      <td>1009317190</td>\n",
       "      <td>French Cuisine</td>\n",
       "      <td>Food</td>\n",
       "      <td>Cookbooks</td>\n",
       "      <td>US</td>\n",
       "      <td>USD</td>\n",
       "      <td>2014-08-09 03:16:02</td>\n",
       "      <td>2014-09-08 00:46:23</td>\n",
       "      <td>29</td>\n",
       "      <td>13730.0</td>\n",
       "      <td>3984.0</td>\n",
       "      <td>46</td>\n",
       "      <td>failed</td>\n",
       "      <td>3984.000000</td>\n",
       "    </tr>\n",
       "    <tr>\n",
       "      <th>1</th>\n",
       "      <td>1618024139</td>\n",
       "      <td>HotRod Henry SUPERCHARGED - the ultimate 3D pr...</td>\n",
       "      <td>Technology</td>\n",
       "      <td>3D Printing</td>\n",
       "      <td>AT</td>\n",
       "      <td>EUR</td>\n",
       "      <td>2016-06-16 16:30:33</td>\n",
       "      <td>2016-07-21 23:59:00</td>\n",
       "      <td>35</td>\n",
       "      <td>75000.0</td>\n",
       "      <td>7386.0</td>\n",
       "      <td>31</td>\n",
       "      <td>failed</td>\n",
       "      <td>1561.784015</td>\n",
       "    </tr>\n",
       "    <tr>\n",
       "      <th>2</th>\n",
       "      <td>2004838949</td>\n",
       "      <td>PHAbulous Philaments - 3D printing: natural an...</td>\n",
       "      <td>Technology</td>\n",
       "      <td>3D Printing</td>\n",
       "      <td>AT</td>\n",
       "      <td>EUR</td>\n",
       "      <td>2015-07-22 12:08:26</td>\n",
       "      <td>2015-08-21 12:08:26</td>\n",
       "      <td>30</td>\n",
       "      <td>15000.0</td>\n",
       "      <td>3834.0</td>\n",
       "      <td>46</td>\n",
       "      <td>failed</td>\n",
       "      <td>4152.402045</td>\n",
       "    </tr>\n",
       "    <tr>\n",
       "      <th>3</th>\n",
       "      <td>258770123</td>\n",
       "      <td>Schokostruder - Chocolate &amp;  Liquid Extruder f...</td>\n",
       "      <td>Technology</td>\n",
       "      <td>3D Printing</td>\n",
       "      <td>AT</td>\n",
       "      <td>EUR</td>\n",
       "      <td>2016-01-25 18:48:09</td>\n",
       "      <td>2016-02-24 18:48:09</td>\n",
       "      <td>30</td>\n",
       "      <td>20000.0</td>\n",
       "      <td>18.0</td>\n",
       "      <td>6</td>\n",
       "      <td>failed</td>\n",
       "      <td>19.435528</td>\n",
       "    </tr>\n",
       "    <tr>\n",
       "      <th>4</th>\n",
       "      <td>690137136</td>\n",
       "      <td>StarterMate - the 3D printing starter kit for ...</td>\n",
       "      <td>Technology</td>\n",
       "      <td>3D Printing</td>\n",
       "      <td>AT</td>\n",
       "      <td>EUR</td>\n",
       "      <td>2015-09-30 00:26:43</td>\n",
       "      <td>2015-11-09 00:26:43</td>\n",
       "      <td>40</td>\n",
       "      <td>20000.0</td>\n",
       "      <td>2598.0</td>\n",
       "      <td>29</td>\n",
       "      <td>failed</td>\n",
       "      <td>2908.076574</td>\n",
       "    </tr>\n",
       "  </tbody>\n",
       "</table>\n",
       "</div>"
      ],
      "text/plain": [
       "           ID                                               name  \\\n",
       "0  1009317190                                     French Cuisine   \n",
       "1  1618024139  HotRod Henry SUPERCHARGED - the ultimate 3D pr...   \n",
       "2  2004838949  PHAbulous Philaments - 3D printing: natural an...   \n",
       "3   258770123  Schokostruder - Chocolate &  Liquid Extruder f...   \n",
       "4   690137136  StarterMate - the 3D printing starter kit for ...   \n",
       "\n",
       "  main_category     category country currency            launched  \\\n",
       "0          Food    Cookbooks      US      USD 2014-08-09 03:16:02   \n",
       "1    Technology  3D Printing      AT      EUR 2016-06-16 16:30:33   \n",
       "2    Technology  3D Printing      AT      EUR 2015-07-22 12:08:26   \n",
       "3    Technology  3D Printing      AT      EUR 2016-01-25 18:48:09   \n",
       "4    Technology  3D Printing      AT      EUR 2015-09-30 00:26:43   \n",
       "\n",
       "             deadline  length_days     goal  pledged  backers   state  \\\n",
       "0 2014-09-08 00:46:23           29  13730.0   3984.0       46  failed   \n",
       "1 2016-07-21 23:59:00           35  75000.0   7386.0       31  failed   \n",
       "2 2015-08-21 12:08:26           30  15000.0   3834.0       46  failed   \n",
       "3 2016-02-24 18:48:09           30  20000.0     18.0        6  failed   \n",
       "4 2015-11-09 00:26:43           40  20000.0   2598.0       29  failed   \n",
       "\n",
       "   usd_pledged  \n",
       "0  3984.000000  \n",
       "1  1561.784015  \n",
       "2  4152.402045  \n",
       "3    19.435528  \n",
       "4  2908.076574  "
      ]
     },
     "execution_count": 1483,
     "metadata": {},
     "output_type": "execute_result"
    }
   ],
   "source": [
    "df.drop(columns = \"usd pledged\", inplace = True)\n",
    "df.head()"
   ]
  },
  {
   "cell_type": "code",
   "execution_count": 1484,
   "metadata": {},
   "outputs": [
    {
     "data": {
      "text/plain": [
       "ID                 0\n",
       "name              35\n",
       "main_category      0\n",
       "category           0\n",
       "country            0\n",
       "currency           0\n",
       "launched           0\n",
       "deadline           0\n",
       "length_days        0\n",
       "goal               0\n",
       "pledged            0\n",
       "backers            0\n",
       "state              0\n",
       "usd_pledged      210\n",
       "dtype: int64"
      ]
     },
     "execution_count": 1484,
     "metadata": {},
     "output_type": "execute_result"
    }
   ],
   "source": [
    "## determine which variables have missing data \n",
    "df.isnull().sum()\n"
   ]
  },
  {
   "cell_type": "code",
   "execution_count": 1485,
   "metadata": {},
   "outputs": [
    {
     "data": {
      "text/plain": [
       "ID               0\n",
       "name             0\n",
       "main_category    0\n",
       "category         0\n",
       "country          0\n",
       "currency         0\n",
       "launched         0\n",
       "deadline         0\n",
       "length_days      0\n",
       "goal             0\n",
       "pledged          0\n",
       "backers          0\n",
       "state            0\n",
       "usd_pledged      0\n",
       "dtype: int64"
      ]
     },
     "execution_count": 1485,
     "metadata": {},
     "output_type": "execute_result"
    }
   ],
   "source": [
    "## handling missing data\n",
    "\n",
    "## fill all the missing values in \"name\" with \"Unknown Project Name\"\n",
    "df[\"name\"].replace(np.nan, \"Unknown Project Name\", inplace = True)\n",
    "#checking to see that it was done correctly\n",
    "df.loc[df[\"name\"]==\"Unknown Project Name\"]\n",
    "\n",
    "## drop all the rows where \"usd pledged\" is missing\n",
    "df.dropna(subset=[\"usd_pledged\"], inplace = True)\n",
    "\n",
    "# checking for missing values\n",
    "df.isnull().sum()"
   ]
  },
  {
   "cell_type": "code",
   "execution_count": 1486,
   "metadata": {},
   "outputs": [
    {
     "name": "stdout",
     "output_type": "stream",
     "text": [
      "<class 'pandas.core.frame.DataFrame'>\n",
      "Int64Index: 281646 entries, 0 to 281855\n",
      "Data columns (total 14 columns):\n",
      " #   Column         Non-Null Count   Dtype         \n",
      "---  ------         --------------   -----         \n",
      " 0   ID             281646 non-null  int64         \n",
      " 1   name           281646 non-null  object        \n",
      " 2   main_category  281646 non-null  object        \n",
      " 3   category       281646 non-null  object        \n",
      " 4   country        281646 non-null  object        \n",
      " 5   currency       281646 non-null  object        \n",
      " 6   launched       281646 non-null  datetime64[ns]\n",
      " 7   deadline       281646 non-null  datetime64[ns]\n",
      " 8   length_days    281646 non-null  int64         \n",
      " 9   goal           281646 non-null  float64       \n",
      " 10  pledged        281646 non-null  float64       \n",
      " 11  backers        281646 non-null  int64         \n",
      " 12  state          281646 non-null  object        \n",
      " 13  usd_pledged    281646 non-null  float64       \n",
      "dtypes: datetime64[ns](2), float64(3), int64(3), object(6)\n",
      "memory usage: 32.2+ MB\n"
     ]
    },
    {
     "data": {
      "text/plain": [
       "failed        168503\n",
       "successful    113143\n",
       "Name: state, dtype: int64"
      ]
     },
     "execution_count": 1486,
     "metadata": {},
     "output_type": "execute_result"
    }
   ],
   "source": [
    "## inappropriate values in categorical variables; check value counts\n",
    "df.info()\n",
    "df[\"main_category\"].value_counts()\n",
    "df[\"category\"].value_counts()\n",
    "df[\"country\"].value_counts()\n",
    "df[\"currency\"].value_counts()\n",
    "df[\"state\"].value_counts()"
   ]
  },
  {
   "cell_type": "code",
   "execution_count": 1487,
   "metadata": {
    "scrolled": false
   },
   "outputs": [
    {
     "data": {
      "text/plain": [
       "Int64Index([], dtype='int64')"
      ]
     },
     "execution_count": 1487,
     "metadata": {},
     "output_type": "execute_result"
    }
   ],
   "source": [
    "df.loc[df[\"usd_pledged\"]<0].index"
   ]
  },
  {
   "cell_type": "code",
   "execution_count": 1488,
   "metadata": {},
   "outputs": [],
   "source": [
    "df3 = df.copy()"
   ]
  },
  {
   "cell_type": "code",
   "execution_count": 1489,
   "metadata": {},
   "outputs": [
    {
     "data": {
      "text/html": [
       "<div>\n",
       "<style scoped>\n",
       "    .dataframe tbody tr th:only-of-type {\n",
       "        vertical-align: middle;\n",
       "    }\n",
       "\n",
       "    .dataframe tbody tr th {\n",
       "        vertical-align: top;\n",
       "    }\n",
       "\n",
       "    .dataframe thead th {\n",
       "        text-align: right;\n",
       "    }\n",
       "</style>\n",
       "<table border=\"1\" class=\"dataframe\">\n",
       "  <thead>\n",
       "    <tr style=\"text-align: right;\">\n",
       "      <th></th>\n",
       "      <th>main_category</th>\n",
       "      <th>category</th>\n",
       "      <th>country</th>\n",
       "      <th>currency</th>\n",
       "      <th>length_days</th>\n",
       "      <th>goal</th>\n",
       "      <th>pledged</th>\n",
       "      <th>backers</th>\n",
       "      <th>state</th>\n",
       "      <th>usd_pledged</th>\n",
       "    </tr>\n",
       "  </thead>\n",
       "  <tbody>\n",
       "    <tr>\n",
       "      <th>0</th>\n",
       "      <td>Food</td>\n",
       "      <td>Cookbooks</td>\n",
       "      <td>US</td>\n",
       "      <td>USD</td>\n",
       "      <td>29</td>\n",
       "      <td>13730.0</td>\n",
       "      <td>3984.0</td>\n",
       "      <td>46</td>\n",
       "      <td>failed</td>\n",
       "      <td>3984.000000</td>\n",
       "    </tr>\n",
       "    <tr>\n",
       "      <th>1</th>\n",
       "      <td>Technology</td>\n",
       "      <td>3D Printing</td>\n",
       "      <td>AT</td>\n",
       "      <td>EUR</td>\n",
       "      <td>35</td>\n",
       "      <td>75000.0</td>\n",
       "      <td>7386.0</td>\n",
       "      <td>31</td>\n",
       "      <td>failed</td>\n",
       "      <td>1561.784015</td>\n",
       "    </tr>\n",
       "    <tr>\n",
       "      <th>2</th>\n",
       "      <td>Technology</td>\n",
       "      <td>3D Printing</td>\n",
       "      <td>AT</td>\n",
       "      <td>EUR</td>\n",
       "      <td>30</td>\n",
       "      <td>15000.0</td>\n",
       "      <td>3834.0</td>\n",
       "      <td>46</td>\n",
       "      <td>failed</td>\n",
       "      <td>4152.402045</td>\n",
       "    </tr>\n",
       "    <tr>\n",
       "      <th>3</th>\n",
       "      <td>Technology</td>\n",
       "      <td>3D Printing</td>\n",
       "      <td>AT</td>\n",
       "      <td>EUR</td>\n",
       "      <td>30</td>\n",
       "      <td>20000.0</td>\n",
       "      <td>18.0</td>\n",
       "      <td>6</td>\n",
       "      <td>failed</td>\n",
       "      <td>19.435528</td>\n",
       "    </tr>\n",
       "    <tr>\n",
       "      <th>4</th>\n",
       "      <td>Technology</td>\n",
       "      <td>3D Printing</td>\n",
       "      <td>AT</td>\n",
       "      <td>EUR</td>\n",
       "      <td>40</td>\n",
       "      <td>20000.0</td>\n",
       "      <td>2598.0</td>\n",
       "      <td>29</td>\n",
       "      <td>failed</td>\n",
       "      <td>2908.076574</td>\n",
       "    </tr>\n",
       "  </tbody>\n",
       "</table>\n",
       "</div>"
      ],
      "text/plain": [
       "  main_category     category country currency  length_days     goal  pledged  \\\n",
       "0          Food    Cookbooks      US      USD           29  13730.0   3984.0   \n",
       "1    Technology  3D Printing      AT      EUR           35  75000.0   7386.0   \n",
       "2    Technology  3D Printing      AT      EUR           30  15000.0   3834.0   \n",
       "3    Technology  3D Printing      AT      EUR           30  20000.0     18.0   \n",
       "4    Technology  3D Printing      AT      EUR           40  20000.0   2598.0   \n",
       "\n",
       "   backers   state  usd_pledged  \n",
       "0       46  failed  3984.000000  \n",
       "1       31  failed  1561.784015  \n",
       "2       46  failed  4152.402045  \n",
       "3        6  failed    19.435528  \n",
       "4       29  failed  2908.076574  "
      ]
     },
     "execution_count": 1489,
     "metadata": {},
     "output_type": "execute_result"
    }
   ],
   "source": [
    "## drop unneeded columns (project ID, name, pledged, launched, deadline)\n",
    "# you will use usd pledged from now on\n",
    "\n",
    "df3.drop(columns = [\"ID\", \"name\", \"launched\", \"deadline\"], inplace = True)\n",
    "\n",
    "df3.head()\n"
   ]
  },
  {
   "cell_type": "code",
   "execution_count": 1490,
   "metadata": {},
   "outputs": [],
   "source": [
    "# create a new column\n",
    "## percentage of project that was funded - how close were they to reaching the goal?\n",
    "\n",
    "df3[\"pct_funded\"] = (df3[\"pledged\"]/df3[\"goal\"])*100"
   ]
  },
  {
   "cell_type": "code",
   "execution_count": 1491,
   "metadata": {},
   "outputs": [
    {
     "data": {
      "text/html": [
       "<div>\n",
       "<style scoped>\n",
       "    .dataframe tbody tr th:only-of-type {\n",
       "        vertical-align: middle;\n",
       "    }\n",
       "\n",
       "    .dataframe tbody tr th {\n",
       "        vertical-align: top;\n",
       "    }\n",
       "\n",
       "    .dataframe thead th {\n",
       "        text-align: right;\n",
       "    }\n",
       "</style>\n",
       "<table border=\"1\" class=\"dataframe\">\n",
       "  <thead>\n",
       "    <tr style=\"text-align: right;\">\n",
       "      <th></th>\n",
       "      <th>length_days</th>\n",
       "      <th>goal</th>\n",
       "      <th>pledged</th>\n",
       "      <th>backers</th>\n",
       "      <th>usd_pledged</th>\n",
       "      <th>pct_funded</th>\n",
       "    </tr>\n",
       "  </thead>\n",
       "  <tbody>\n",
       "    <tr>\n",
       "      <th>count</th>\n",
       "      <td>281646.000000</td>\n",
       "      <td>2.816460e+05</td>\n",
       "      <td>2.816460e+05</td>\n",
       "      <td>281646.000000</td>\n",
       "      <td>2.816460e+05</td>\n",
       "      <td>2.816460e+05</td>\n",
       "    </tr>\n",
       "    <tr>\n",
       "      <th>mean</th>\n",
       "      <td>33.976520</td>\n",
       "      <td>4.181597e+04</td>\n",
       "      <td>9.441571e+03</td>\n",
       "      <td>111.934801</td>\n",
       "      <td>8.575848e+03</td>\n",
       "      <td>3.251992e+02</td>\n",
       "    </tr>\n",
       "    <tr>\n",
       "      <th>std</th>\n",
       "      <td>12.894187</td>\n",
       "      <td>1.043830e+06</td>\n",
       "      <td>9.406700e+04</td>\n",
       "      <td>996.631624</td>\n",
       "      <td>8.916948e+04</td>\n",
       "      <td>2.709311e+04</td>\n",
       "    </tr>\n",
       "    <tr>\n",
       "      <th>min</th>\n",
       "      <td>1.000000</td>\n",
       "      <td>1.000000e-02</td>\n",
       "      <td>0.000000e+00</td>\n",
       "      <td>0.000000</td>\n",
       "      <td>0.000000e+00</td>\n",
       "      <td>0.000000e+00</td>\n",
       "    </tr>\n",
       "    <tr>\n",
       "      <th>25%</th>\n",
       "      <td>30.000000</td>\n",
       "      <td>2.000000e+03</td>\n",
       "      <td>5.000000e+01</td>\n",
       "      <td>2.000000</td>\n",
       "      <td>4.000000e+01</td>\n",
       "      <td>7.400000e-01</td>\n",
       "    </tr>\n",
       "    <tr>\n",
       "      <th>50%</th>\n",
       "      <td>30.000000</td>\n",
       "      <td>5.000000e+03</td>\n",
       "      <td>7.710000e+02</td>\n",
       "      <td>15.000000</td>\n",
       "      <td>6.910000e+02</td>\n",
       "      <td>1.951317e+01</td>\n",
       "    </tr>\n",
       "    <tr>\n",
       "      <th>75%</th>\n",
       "      <td>36.000000</td>\n",
       "      <td>1.500000e+04</td>\n",
       "      <td>4.448875e+03</td>\n",
       "      <td>62.000000</td>\n",
       "      <td>4.109040e+03</td>\n",
       "      <td>1.088000e+02</td>\n",
       "    </tr>\n",
       "    <tr>\n",
       "      <th>max</th>\n",
       "      <td>92.000000</td>\n",
       "      <td>1.000000e+08</td>\n",
       "      <td>2.033899e+07</td>\n",
       "      <td>219382.000000</td>\n",
       "      <td>2.033899e+07</td>\n",
       "      <td>1.042779e+07</td>\n",
       "    </tr>\n",
       "  </tbody>\n",
       "</table>\n",
       "</div>"
      ],
      "text/plain": [
       "         length_days          goal       pledged        backers   usd_pledged  \\\n",
       "count  281646.000000  2.816460e+05  2.816460e+05  281646.000000  2.816460e+05   \n",
       "mean       33.976520  4.181597e+04  9.441571e+03     111.934801  8.575848e+03   \n",
       "std        12.894187  1.043830e+06  9.406700e+04     996.631624  8.916948e+04   \n",
       "min         1.000000  1.000000e-02  0.000000e+00       0.000000  0.000000e+00   \n",
       "25%        30.000000  2.000000e+03  5.000000e+01       2.000000  4.000000e+01   \n",
       "50%        30.000000  5.000000e+03  7.710000e+02      15.000000  6.910000e+02   \n",
       "75%        36.000000  1.500000e+04  4.448875e+03      62.000000  4.109040e+03   \n",
       "max        92.000000  1.000000e+08  2.033899e+07  219382.000000  2.033899e+07   \n",
       "\n",
       "         pct_funded  \n",
       "count  2.816460e+05  \n",
       "mean   3.251992e+02  \n",
       "std    2.709311e+04  \n",
       "min    0.000000e+00  \n",
       "25%    7.400000e-01  \n",
       "50%    1.951317e+01  \n",
       "75%    1.088000e+02  \n",
       "max    1.042779e+07  "
      ]
     },
     "execution_count": 1491,
     "metadata": {},
     "output_type": "execute_result"
    }
   ],
   "source": [
    "df3.describe()"
   ]
  },
  {
   "cell_type": "code",
   "execution_count": 1492,
   "metadata": {},
   "outputs": [
    {
     "data": {
      "text/html": [
       "<div>\n",
       "<style scoped>\n",
       "    .dataframe tbody tr th:only-of-type {\n",
       "        vertical-align: middle;\n",
       "    }\n",
       "\n",
       "    .dataframe tbody tr th {\n",
       "        vertical-align: top;\n",
       "    }\n",
       "\n",
       "    .dataframe thead th {\n",
       "        text-align: right;\n",
       "    }\n",
       "</style>\n",
       "<table border=\"1\" class=\"dataframe\">\n",
       "  <thead>\n",
       "    <tr style=\"text-align: right;\">\n",
       "      <th></th>\n",
       "      <th>length_days</th>\n",
       "      <th>goal</th>\n",
       "      <th>pledged</th>\n",
       "      <th>backers</th>\n",
       "      <th>usd_pledged</th>\n",
       "      <th>pct_funded</th>\n",
       "    </tr>\n",
       "  </thead>\n",
       "  <tbody>\n",
       "    <tr>\n",
       "      <th>length_days</th>\n",
       "      <td>1.000000</td>\n",
       "      <td>0.022077</td>\n",
       "      <td>0.006749</td>\n",
       "      <td>-0.001391</td>\n",
       "      <td>0.006316</td>\n",
       "      <td>0.000225</td>\n",
       "    </tr>\n",
       "    <tr>\n",
       "      <th>goal</th>\n",
       "      <td>0.022077</td>\n",
       "      <td>1.000000</td>\n",
       "      <td>0.007927</td>\n",
       "      <td>0.006090</td>\n",
       "      <td>0.007617</td>\n",
       "      <td>-0.000447</td>\n",
       "    </tr>\n",
       "    <tr>\n",
       "      <th>pledged</th>\n",
       "      <td>0.006749</td>\n",
       "      <td>0.007927</td>\n",
       "      <td>1.000000</td>\n",
       "      <td>0.750483</td>\n",
       "      <td>0.950399</td>\n",
       "      <td>0.008708</td>\n",
       "    </tr>\n",
       "    <tr>\n",
       "      <th>backers</th>\n",
       "      <td>-0.001391</td>\n",
       "      <td>0.006090</td>\n",
       "      <td>0.750483</td>\n",
       "      <td>1.000000</td>\n",
       "      <td>0.716784</td>\n",
       "      <td>0.017162</td>\n",
       "    </tr>\n",
       "    <tr>\n",
       "      <th>usd_pledged</th>\n",
       "      <td>0.006316</td>\n",
       "      <td>0.007617</td>\n",
       "      <td>0.950399</td>\n",
       "      <td>0.716784</td>\n",
       "      <td>1.000000</td>\n",
       "      <td>0.006988</td>\n",
       "    </tr>\n",
       "    <tr>\n",
       "      <th>pct_funded</th>\n",
       "      <td>0.000225</td>\n",
       "      <td>-0.000447</td>\n",
       "      <td>0.008708</td>\n",
       "      <td>0.017162</td>\n",
       "      <td>0.006988</td>\n",
       "      <td>1.000000</td>\n",
       "    </tr>\n",
       "  </tbody>\n",
       "</table>\n",
       "</div>"
      ],
      "text/plain": [
       "             length_days      goal   pledged   backers  usd_pledged  \\\n",
       "length_days     1.000000  0.022077  0.006749 -0.001391     0.006316   \n",
       "goal            0.022077  1.000000  0.007927  0.006090     0.007617   \n",
       "pledged         0.006749  0.007927  1.000000  0.750483     0.950399   \n",
       "backers        -0.001391  0.006090  0.750483  1.000000     0.716784   \n",
       "usd_pledged     0.006316  0.007617  0.950399  0.716784     1.000000   \n",
       "pct_funded      0.000225 -0.000447  0.008708  0.017162     0.006988   \n",
       "\n",
       "             pct_funded  \n",
       "length_days    0.000225  \n",
       "goal          -0.000447  \n",
       "pledged        0.008708  \n",
       "backers        0.017162  \n",
       "usd_pledged    0.006988  \n",
       "pct_funded     1.000000  "
      ]
     },
     "execution_count": 1492,
     "metadata": {},
     "output_type": "execute_result"
    }
   ],
   "source": [
    "df3.corr()"
   ]
  },
  {
   "cell_type": "markdown",
   "metadata": {},
   "source": [
    "## <font color=#EAC117>Part 3: Exploratory Analysis</font>\n",
    "\n",
    "With a clean dataset, you are now ready to start exploring the variables in your dataset. Don't worry about how your variables relate to each other - we will cover that in the next section. For now, it's more important that you get a clear sense of the variable characteristics on their own. Follow the steps below to explore all of the variables within your dataset and preform descriptive statistics. In addition to the descriptive statistics, you are tasked with creating a visualizations related to your results. Stylistic choices related to the visualizations is up to your group. Use the space below (double-click the cell to activate) to write a brief paragraph describing the steps you took to explore the data. \n",
    "\n",
    "### <font color=#EAC117>Questions to Answer</font>\n",
    "1.\tWhat is the average (mean) for the following variables: goal, usd pledged, backers, and length? \n",
    "2.\tWhat is the maximum value, minimum value, and range for the following variables: goal, usd pledged, backers, and length?\n",
    "3.\tWhat is the most common (mode) length for campaign projects?\n",
    "4.\tConsidering the categorical variables, what is the most frequent main category group? How many projects are classified under this category? What is the most frequent sub-category? How many projects are classified under this category? \n",
    "5.\tConsidering the categorical variables, what is the least frequent main category group? How many projects are classified under this category? What is the least frequent sub-category? How many projects are classified under this category? \n",
    "6.\tWhich country has started the most Kickstarter campaigns?\n",
    "7.\tHow many projects have failed? How many projects have succeeded?\n",
    "\n",
    "### <font color=#EAC117>Visualizations to Create</font> \n",
    "* Number of Projects by Main Category\n",
    "* Number of projects by State (outcome)\n",
    "* Number of projects from each country\n",
    "* Number of successful projects and failed projects by Main Category\n",
    "\n",
    "***\n",
    "\n",
    "### <font color=#EAC117>EXPLORATORY DATA ANALYSIS</font>\n",
    "\n",
    "#### Start your paragraph here . . . Be sure to answer all questions in this space!"
   ]
  },
  {
   "cell_type": "code",
   "execution_count": 1493,
   "metadata": {},
   "outputs": [
    {
     "data": {
      "text/html": [
       "<div>\n",
       "<style scoped>\n",
       "    .dataframe tbody tr th:only-of-type {\n",
       "        vertical-align: middle;\n",
       "    }\n",
       "\n",
       "    .dataframe tbody tr th {\n",
       "        vertical-align: top;\n",
       "    }\n",
       "\n",
       "    .dataframe thead th {\n",
       "        text-align: right;\n",
       "    }\n",
       "</style>\n",
       "<table border=\"1\" class=\"dataframe\">\n",
       "  <thead>\n",
       "    <tr style=\"text-align: right;\">\n",
       "      <th></th>\n",
       "      <th>main_category</th>\n",
       "      <th>category</th>\n",
       "      <th>country</th>\n",
       "      <th>currency</th>\n",
       "      <th>length_days</th>\n",
       "      <th>goal</th>\n",
       "      <th>pledged</th>\n",
       "      <th>backers</th>\n",
       "      <th>state</th>\n",
       "      <th>usd_pledged</th>\n",
       "      <th>pct_funded</th>\n",
       "      <th>avg_pledge_per_backer</th>\n",
       "    </tr>\n",
       "  </thead>\n",
       "  <tbody>\n",
       "    <tr>\n",
       "      <th>0</th>\n",
       "      <td>Food</td>\n",
       "      <td>Cookbooks</td>\n",
       "      <td>US</td>\n",
       "      <td>USD</td>\n",
       "      <td>29</td>\n",
       "      <td>13730.0</td>\n",
       "      <td>3984.0</td>\n",
       "      <td>46</td>\n",
       "      <td>failed</td>\n",
       "      <td>3984.000000</td>\n",
       "      <td>29.016752</td>\n",
       "      <td>86.608696</td>\n",
       "    </tr>\n",
       "    <tr>\n",
       "      <th>1</th>\n",
       "      <td>Technology</td>\n",
       "      <td>3D Printing</td>\n",
       "      <td>AT</td>\n",
       "      <td>EUR</td>\n",
       "      <td>35</td>\n",
       "      <td>75000.0</td>\n",
       "      <td>7386.0</td>\n",
       "      <td>31</td>\n",
       "      <td>failed</td>\n",
       "      <td>1561.784015</td>\n",
       "      <td>9.848000</td>\n",
       "      <td>50.380130</td>\n",
       "    </tr>\n",
       "    <tr>\n",
       "      <th>2</th>\n",
       "      <td>Technology</td>\n",
       "      <td>3D Printing</td>\n",
       "      <td>AT</td>\n",
       "      <td>EUR</td>\n",
       "      <td>30</td>\n",
       "      <td>15000.0</td>\n",
       "      <td>3834.0</td>\n",
       "      <td>46</td>\n",
       "      <td>failed</td>\n",
       "      <td>4152.402045</td>\n",
       "      <td>25.560000</td>\n",
       "      <td>90.269610</td>\n",
       "    </tr>\n",
       "    <tr>\n",
       "      <th>3</th>\n",
       "      <td>Technology</td>\n",
       "      <td>3D Printing</td>\n",
       "      <td>AT</td>\n",
       "      <td>EUR</td>\n",
       "      <td>30</td>\n",
       "      <td>20000.0</td>\n",
       "      <td>18.0</td>\n",
       "      <td>6</td>\n",
       "      <td>failed</td>\n",
       "      <td>19.435528</td>\n",
       "      <td>0.090000</td>\n",
       "      <td>3.239255</td>\n",
       "    </tr>\n",
       "    <tr>\n",
       "      <th>4</th>\n",
       "      <td>Technology</td>\n",
       "      <td>3D Printing</td>\n",
       "      <td>AT</td>\n",
       "      <td>EUR</td>\n",
       "      <td>40</td>\n",
       "      <td>20000.0</td>\n",
       "      <td>2598.0</td>\n",
       "      <td>29</td>\n",
       "      <td>failed</td>\n",
       "      <td>2908.076574</td>\n",
       "      <td>12.990000</td>\n",
       "      <td>100.278503</td>\n",
       "    </tr>\n",
       "  </tbody>\n",
       "</table>\n",
       "</div>"
      ],
      "text/plain": [
       "  main_category     category country currency  length_days     goal  pledged  \\\n",
       "0          Food    Cookbooks      US      USD           29  13730.0   3984.0   \n",
       "1    Technology  3D Printing      AT      EUR           35  75000.0   7386.0   \n",
       "2    Technology  3D Printing      AT      EUR           30  15000.0   3834.0   \n",
       "3    Technology  3D Printing      AT      EUR           30  20000.0     18.0   \n",
       "4    Technology  3D Printing      AT      EUR           40  20000.0   2598.0   \n",
       "\n",
       "   backers   state  usd_pledged  pct_funded  avg_pledge_per_backer  \n",
       "0       46  failed  3984.000000   29.016752              86.608696  \n",
       "1       31  failed  1561.784015    9.848000              50.380130  \n",
       "2       46  failed  4152.402045   25.560000              90.269610  \n",
       "3        6  failed    19.435528    0.090000               3.239255  \n",
       "4       29  failed  2908.076574   12.990000             100.278503  "
      ]
     },
     "execution_count": 1493,
     "metadata": {},
     "output_type": "execute_result"
    }
   ],
   "source": [
    "df3[\"avg_pledge_per_backer\"] = (df3[\"pledged\"]/df3[\"backers\"])\n",
    "df3.head()"
   ]
  },
  {
   "cell_type": "code",
   "execution_count": 1494,
   "metadata": {
    "scrolled": false
   },
   "outputs": [
    {
     "name": "stdout",
     "output_type": "stream",
     "text": [
      "<class 'pandas.core.frame.DataFrame'>\n",
      "Int64Index: 281547 entries, 0 to 281855\n",
      "Data columns (total 13 columns):\n",
      " #   Column                 Non-Null Count   Dtype  \n",
      "---  ------                 --------------   -----  \n",
      " 0   main_category          281547 non-null  object \n",
      " 1   category               281547 non-null  object \n",
      " 2   country                281547 non-null  object \n",
      " 3   currency               281547 non-null  object \n",
      " 4   length_days            281547 non-null  int64  \n",
      " 5   goal                   281547 non-null  float64\n",
      " 6   pledged                281547 non-null  float64\n",
      " 7   backers                281547 non-null  int64  \n",
      " 8   state                  281547 non-null  object \n",
      " 9   usd_pledged            281547 non-null  float64\n",
      " 10  pct_funded             281547 non-null  float64\n",
      " 11  avg_pledge_per_backer  248193 non-null  float64\n",
      " 12  zscore_pct_funded      281547 non-null  float64\n",
      "dtypes: float64(6), int64(2), object(5)\n",
      "memory usage: 30.1+ MB\n"
     ]
    }
   ],
   "source": [
    "# removing pct_funded outliers\n",
    "\n",
    "df3[\"zscore_pct_funded\"] = np.abs(stats.zscore(df3[\"pct_funded\"]))\n",
    "\n",
    "df3 = df3[df3[\"zscore_pct_funded\"]<=3]\n",
    "\n",
    "df3.info()"
   ]
  },
  {
   "cell_type": "code",
   "execution_count": 1533,
   "metadata": {},
   "outputs": [
    {
     "data": {
      "text/html": [
       "<div>\n",
       "<style scoped>\n",
       "    .dataframe tbody tr th:only-of-type {\n",
       "        vertical-align: middle;\n",
       "    }\n",
       "\n",
       "    .dataframe tbody tr th {\n",
       "        vertical-align: top;\n",
       "    }\n",
       "\n",
       "    .dataframe thead th {\n",
       "        text-align: right;\n",
       "    }\n",
       "</style>\n",
       "<table border=\"1\" class=\"dataframe\">\n",
       "  <thead>\n",
       "    <tr style=\"text-align: right;\">\n",
       "      <th></th>\n",
       "      <th>length_days</th>\n",
       "      <th>goal</th>\n",
       "      <th>pledged</th>\n",
       "      <th>backers</th>\n",
       "      <th>usd_pledged</th>\n",
       "      <th>pct_funded</th>\n",
       "      <th>avg_pledge_per_backer</th>\n",
       "      <th>zscore_pct_funded</th>\n",
       "      <th>zscore_usd_pledged</th>\n",
       "      <th>zscore_length_days</th>\n",
       "      <th>zscore_goal</th>\n",
       "      <th>zscore_backers</th>\n",
       "      <th>zscore_pledged</th>\n",
       "    </tr>\n",
       "  </thead>\n",
       "  <tbody>\n",
       "    <tr>\n",
       "      <th>count</th>\n",
       "      <td>263361.000000</td>\n",
       "      <td>2.633610e+05</td>\n",
       "      <td>263361.000000</td>\n",
       "      <td>263361.000000</td>\n",
       "      <td>263361.000000</td>\n",
       "      <td>263361.000000</td>\n",
       "      <td>2.305420e+05</td>\n",
       "      <td>2.633610e+05</td>\n",
       "      <td>2.633610e+05</td>\n",
       "      <td>263361.000000</td>\n",
       "      <td>263361.000000</td>\n",
       "      <td>263361.000000</td>\n",
       "      <td>263361.000000</td>\n",
       "    </tr>\n",
       "    <tr>\n",
       "      <th>mean</th>\n",
       "      <td>33.342879</td>\n",
       "      <td>2.051180e+04</td>\n",
       "      <td>2909.260022</td>\n",
       "      <td>44.233979</td>\n",
       "      <td>2810.327630</td>\n",
       "      <td>83.798527</td>\n",
       "      <td>inf</td>\n",
       "      <td>1.082323e-02</td>\n",
       "      <td>8.130837e-02</td>\n",
       "      <td>0.683764</td>\n",
       "      <td>0.039726</td>\n",
       "      <td>0.167509</td>\n",
       "      <td>0.498683</td>\n",
       "    </tr>\n",
       "    <tr>\n",
       "      <th>std</th>\n",
       "      <td>11.808814</td>\n",
       "      <td>9.585781e+04</td>\n",
       "      <td>4966.471363</td>\n",
       "      <td>85.058238</td>\n",
       "      <td>4971.352614</td>\n",
       "      <td>761.904724</td>\n",
       "      <td>NaN</td>\n",
       "      <td>2.744231e-02</td>\n",
       "      <td>2.977545e-02</td>\n",
       "      <td>0.610429</td>\n",
       "      <td>0.084759</td>\n",
       "      <td>0.132244</td>\n",
       "      <td>0.411451</td>\n",
       "    </tr>\n",
       "    <tr>\n",
       "      <th>min</th>\n",
       "      <td>1.000000</td>\n",
       "      <td>1.500000e-01</td>\n",
       "      <td>0.000000</td>\n",
       "      <td>0.000000</td>\n",
       "      <td>0.000000</td>\n",
       "      <td>0.000000</td>\n",
       "      <td>0.000000e+00</td>\n",
       "      <td>2.893195e-08</td>\n",
       "      <td>3.859857e-07</td>\n",
       "      <td>0.002182</td>\n",
       "      <td>0.000086</td>\n",
       "      <td>0.000779</td>\n",
       "      <td>0.000003</td>\n",
       "    </tr>\n",
       "    <tr>\n",
       "      <th>25%</th>\n",
       "      <td>30.000000</td>\n",
       "      <td>2.000000e+03</td>\n",
       "      <td>35.000000</td>\n",
       "      <td>2.000000</td>\n",
       "      <td>30.000000</td>\n",
       "      <td>0.555556</td>\n",
       "      <td>2.257618e+01</td>\n",
       "      <td>8.117179e-03</td>\n",
       "      <td>7.001031e-02</td>\n",
       "      <td>0.307859</td>\n",
       "      <td>0.029968</td>\n",
       "      <td>0.120471</td>\n",
       "      <td>0.328671</td>\n",
       "    </tr>\n",
       "    <tr>\n",
       "      <th>50%</th>\n",
       "      <td>30.000000</td>\n",
       "      <td>5.000000e+03</td>\n",
       "      <td>615.000000</td>\n",
       "      <td>13.000000</td>\n",
       "      <td>552.000000</td>\n",
       "      <td>14.902500</td>\n",
       "      <td>4.459169e+01</td>\n",
       "      <td>1.150151e-02</td>\n",
       "      <td>9.280897e-02</td>\n",
       "      <td>0.307859</td>\n",
       "      <td>0.034977</td>\n",
       "      <td>0.176605</td>\n",
       "      <td>0.477451</td>\n",
       "    </tr>\n",
       "    <tr>\n",
       "      <th>75%</th>\n",
       "      <td>35.000000</td>\n",
       "      <td>1.250000e+04</td>\n",
       "      <td>3395.000000</td>\n",
       "      <td>50.000000</td>\n",
       "      <td>3186.752684</td>\n",
       "      <td>106.125200</td>\n",
       "      <td>7.681117e+01</td>\n",
       "      <td>1.198459e-02</td>\n",
       "      <td>9.728198e-02</td>\n",
       "      <td>0.927941</td>\n",
       "      <td>0.038078</td>\n",
       "      <td>0.192323</td>\n",
       "      <td>0.501419</td>\n",
       "    </tr>\n",
       "    <tr>\n",
       "      <th>max</th>\n",
       "      <td>72.000000</td>\n",
       "      <td>3.141592e+06</td>\n",
       "      <td>27462.000000</td>\n",
       "      <td>1413.000000</td>\n",
       "      <td>46923.928950</td>\n",
       "      <td>81100.000000</td>\n",
       "      <td>inf</td>\n",
       "      <td>2.981383e+00</td>\n",
       "      <td>4.379494e-01</td>\n",
       "      <td>2.947572</td>\n",
       "      <td>2.957890</td>\n",
       "      <td>2.978142</td>\n",
       "      <td>2.999572</td>\n",
       "    </tr>\n",
       "  </tbody>\n",
       "</table>\n",
       "</div>"
      ],
      "text/plain": [
       "         length_days          goal        pledged        backers  \\\n",
       "count  263361.000000  2.633610e+05  263361.000000  263361.000000   \n",
       "mean       33.342879  2.051180e+04    2909.260022      44.233979   \n",
       "std        11.808814  9.585781e+04    4966.471363      85.058238   \n",
       "min         1.000000  1.500000e-01       0.000000       0.000000   \n",
       "25%        30.000000  2.000000e+03      35.000000       2.000000   \n",
       "50%        30.000000  5.000000e+03     615.000000      13.000000   \n",
       "75%        35.000000  1.250000e+04    3395.000000      50.000000   \n",
       "max        72.000000  3.141592e+06   27462.000000    1413.000000   \n",
       "\n",
       "         usd_pledged     pct_funded  avg_pledge_per_backer  zscore_pct_funded  \\\n",
       "count  263361.000000  263361.000000           2.305420e+05       2.633610e+05   \n",
       "mean     2810.327630      83.798527                    inf       1.082323e-02   \n",
       "std      4971.352614     761.904724                    NaN       2.744231e-02   \n",
       "min         0.000000       0.000000           0.000000e+00       2.893195e-08   \n",
       "25%        30.000000       0.555556           2.257618e+01       8.117179e-03   \n",
       "50%       552.000000      14.902500           4.459169e+01       1.150151e-02   \n",
       "75%      3186.752684     106.125200           7.681117e+01       1.198459e-02   \n",
       "max     46923.928950   81100.000000                    inf       2.981383e+00   \n",
       "\n",
       "       zscore_usd_pledged  zscore_length_days    zscore_goal  zscore_backers  \\\n",
       "count        2.633610e+05       263361.000000  263361.000000   263361.000000   \n",
       "mean         8.130837e-02            0.683764       0.039726        0.167509   \n",
       "std          2.977545e-02            0.610429       0.084759        0.132244   \n",
       "min          3.859857e-07            0.002182       0.000086        0.000779   \n",
       "25%          7.001031e-02            0.307859       0.029968        0.120471   \n",
       "50%          9.280897e-02            0.307859       0.034977        0.176605   \n",
       "75%          9.728198e-02            0.927941       0.038078        0.192323   \n",
       "max          4.379494e-01            2.947572       2.957890        2.978142   \n",
       "\n",
       "       zscore_pledged  \n",
       "count   263361.000000  \n",
       "mean         0.498683  \n",
       "std          0.411451  \n",
       "min          0.000003  \n",
       "25%          0.328671  \n",
       "50%          0.477451  \n",
       "75%          0.501419  \n",
       "max          2.999572  "
      ]
     },
     "execution_count": 1533,
     "metadata": {},
     "output_type": "execute_result"
    }
   ],
   "source": [
    "#removing pledged outliers\n",
    "\n",
    "df3[\"zscore_pledged\"] = np.abs(stats.zscore(df3[\"pledged\"]))\n",
    "\n",
    "usd_pledged_outlier = df3.loc[df3[\"zscore_pledged\"]>3]\n",
    "\n",
    "df3 = df3[df3['zscore_pledged']<=3]\n",
    "\n",
    "df3.describe()"
   ]
  },
  {
   "cell_type": "code",
   "execution_count": 1534,
   "metadata": {},
   "outputs": [
    {
     "data": {
      "text/html": [
       "<div>\n",
       "<style scoped>\n",
       "    .dataframe tbody tr th:only-of-type {\n",
       "        vertical-align: middle;\n",
       "    }\n",
       "\n",
       "    .dataframe tbody tr th {\n",
       "        vertical-align: top;\n",
       "    }\n",
       "\n",
       "    .dataframe thead th {\n",
       "        text-align: right;\n",
       "    }\n",
       "</style>\n",
       "<table border=\"1\" class=\"dataframe\">\n",
       "  <thead>\n",
       "    <tr style=\"text-align: right;\">\n",
       "      <th></th>\n",
       "      <th>length_days</th>\n",
       "      <th>goal</th>\n",
       "      <th>pledged</th>\n",
       "      <th>backers</th>\n",
       "      <th>usd_pledged</th>\n",
       "      <th>pct_funded</th>\n",
       "      <th>avg_pledge_per_backer</th>\n",
       "      <th>zscore_pct_funded</th>\n",
       "      <th>zscore_usd_pledged</th>\n",
       "      <th>zscore_length_days</th>\n",
       "      <th>zscore_goal</th>\n",
       "      <th>zscore_backers</th>\n",
       "      <th>zscore_pledged</th>\n",
       "    </tr>\n",
       "  </thead>\n",
       "  <tbody>\n",
       "    <tr>\n",
       "      <th>count</th>\n",
       "      <td>263049.000000</td>\n",
       "      <td>2.630490e+05</td>\n",
       "      <td>263049.000000</td>\n",
       "      <td>263049.000000</td>\n",
       "      <td>263049.000000</td>\n",
       "      <td>263049.000000</td>\n",
       "      <td>2.302700e+05</td>\n",
       "      <td>2.630490e+05</td>\n",
       "      <td>2.630490e+05</td>\n",
       "      <td>263049.000000</td>\n",
       "      <td>263049.000000</td>\n",
       "      <td>263049.000000</td>\n",
       "      <td>263049.000000</td>\n",
       "    </tr>\n",
       "    <tr>\n",
       "      <th>mean</th>\n",
       "      <td>33.298876</td>\n",
       "      <td>2.052668e+04</td>\n",
       "      <td>2909.174132</td>\n",
       "      <td>44.233706</td>\n",
       "      <td>2810.124396</td>\n",
       "      <td>83.821668</td>\n",
       "      <td>inf</td>\n",
       "      <td>1.082457e-02</td>\n",
       "      <td>8.131396e-02</td>\n",
       "      <td>0.720769</td>\n",
       "      <td>0.039733</td>\n",
       "      <td>0.167516</td>\n",
       "      <td>0.498727</td>\n",
       "    </tr>\n",
       "    <tr>\n",
       "      <th>std</th>\n",
       "      <td>11.746396</td>\n",
       "      <td>9.591266e+04</td>\n",
       "      <td>4966.912080</td>\n",
       "      <td>85.051664</td>\n",
       "      <td>4971.795805</td>\n",
       "      <td>762.351961</td>\n",
       "      <td>NaN</td>\n",
       "      <td>2.745842e-02</td>\n",
       "      <td>2.977492e-02</td>\n",
       "      <td>0.685540</td>\n",
       "      <td>0.084808</td>\n",
       "      <td>0.132215</td>\n",
       "      <td>0.411486</td>\n",
       "    </tr>\n",
       "    <tr>\n",
       "      <th>min</th>\n",
       "      <td>1.000000</td>\n",
       "      <td>1.500000e-01</td>\n",
       "      <td>0.000000</td>\n",
       "      <td>0.000000</td>\n",
       "      <td>0.000000</td>\n",
       "      <td>0.000000</td>\n",
       "      <td>0.000000e+00</td>\n",
       "      <td>2.893195e-08</td>\n",
       "      <td>3.859857e-07</td>\n",
       "      <td>0.029036</td>\n",
       "      <td>0.000086</td>\n",
       "      <td>0.000779</td>\n",
       "      <td>0.000003</td>\n",
       "    </tr>\n",
       "    <tr>\n",
       "      <th>25%</th>\n",
       "      <td>30.000000</td>\n",
       "      <td>2.000000e+03</td>\n",
       "      <td>35.000000</td>\n",
       "      <td>2.000000</td>\n",
       "      <td>30.000000</td>\n",
       "      <td>0.555556</td>\n",
       "      <td>2.255556e+01</td>\n",
       "      <td>8.117363e-03</td>\n",
       "      <td>7.003927e-02</td>\n",
       "      <td>0.283084</td>\n",
       "      <td>0.029968</td>\n",
       "      <td>0.120471</td>\n",
       "      <td>0.328799</td>\n",
       "    </tr>\n",
       "    <tr>\n",
       "      <th>50%</th>\n",
       "      <td>30.000000</td>\n",
       "      <td>5.000000e+03</td>\n",
       "      <td>614.000000</td>\n",
       "      <td>13.000000</td>\n",
       "      <td>552.000000</td>\n",
       "      <td>14.890000</td>\n",
       "      <td>4.458333e+01</td>\n",
       "      <td>1.150206e-02</td>\n",
       "      <td>9.280897e-02</td>\n",
       "      <td>0.283084</td>\n",
       "      <td>0.034977</td>\n",
       "      <td>0.176605</td>\n",
       "      <td>0.477573</td>\n",
       "    </tr>\n",
       "    <tr>\n",
       "      <th>75%</th>\n",
       "      <td>35.000000</td>\n",
       "      <td>1.250000e+04</td>\n",
       "      <td>3394.000000</td>\n",
       "      <td>50.000000</td>\n",
       "      <td>3186.000000</td>\n",
       "      <td>106.123077</td>\n",
       "      <td>7.680000e+01</td>\n",
       "      <td>1.198459e-02</td>\n",
       "      <td>9.728198e-02</td>\n",
       "      <td>0.987156</td>\n",
       "      <td>0.038078</td>\n",
       "      <td>0.192323</td>\n",
       "      <td>0.501419</td>\n",
       "    </tr>\n",
       "    <tr>\n",
       "      <th>max</th>\n",
       "      <td>68.000000</td>\n",
       "      <td>3.141592e+06</td>\n",
       "      <td>27462.000000</td>\n",
       "      <td>1413.000000</td>\n",
       "      <td>46923.928950</td>\n",
       "      <td>81100.000000</td>\n",
       "      <td>inf</td>\n",
       "      <td>2.981383e+00</td>\n",
       "      <td>4.379494e-01</td>\n",
       "      <td>2.934858</td>\n",
       "      <td>2.957890</td>\n",
       "      <td>2.978142</td>\n",
       "      <td>2.999572</td>\n",
       "    </tr>\n",
       "  </tbody>\n",
       "</table>\n",
       "</div>"
      ],
      "text/plain": [
       "         length_days          goal        pledged        backers  \\\n",
       "count  263049.000000  2.630490e+05  263049.000000  263049.000000   \n",
       "mean       33.298876  2.052668e+04    2909.174132      44.233706   \n",
       "std        11.746396  9.591266e+04    4966.912080      85.051664   \n",
       "min         1.000000  1.500000e-01       0.000000       0.000000   \n",
       "25%        30.000000  2.000000e+03      35.000000       2.000000   \n",
       "50%        30.000000  5.000000e+03     614.000000      13.000000   \n",
       "75%        35.000000  1.250000e+04    3394.000000      50.000000   \n",
       "max        68.000000  3.141592e+06   27462.000000    1413.000000   \n",
       "\n",
       "         usd_pledged     pct_funded  avg_pledge_per_backer  zscore_pct_funded  \\\n",
       "count  263049.000000  263049.000000           2.302700e+05       2.630490e+05   \n",
       "mean     2810.124396      83.821668                    inf       1.082457e-02   \n",
       "std      4971.795805     762.351961                    NaN       2.745842e-02   \n",
       "min         0.000000       0.000000           0.000000e+00       2.893195e-08   \n",
       "25%        30.000000       0.555556           2.255556e+01       8.117363e-03   \n",
       "50%       552.000000      14.890000           4.458333e+01       1.150206e-02   \n",
       "75%      3186.000000     106.123077           7.680000e+01       1.198459e-02   \n",
       "max     46923.928950   81100.000000                    inf       2.981383e+00   \n",
       "\n",
       "       zscore_usd_pledged  zscore_length_days    zscore_goal  zscore_backers  \\\n",
       "count        2.630490e+05       263049.000000  263049.000000   263049.000000   \n",
       "mean         8.131396e-02            0.720769       0.039733        0.167516   \n",
       "std          2.977492e-02            0.685540       0.084808        0.132215   \n",
       "min          3.859857e-07            0.029036       0.000086        0.000779   \n",
       "25%          7.003927e-02            0.283084       0.029968        0.120471   \n",
       "50%          9.280897e-02            0.283084       0.034977        0.176605   \n",
       "75%          9.728198e-02            0.987156       0.038078        0.192323   \n",
       "max          4.379494e-01            2.934858       2.957890        2.978142   \n",
       "\n",
       "       zscore_pledged  \n",
       "count   263049.000000  \n",
       "mean         0.498727  \n",
       "std          0.411486  \n",
       "min          0.000003  \n",
       "25%          0.328799  \n",
       "50%          0.477573  \n",
       "75%          0.501419  \n",
       "max          2.999572  "
      ]
     },
     "execution_count": 1534,
     "metadata": {},
     "output_type": "execute_result"
    }
   ],
   "source": [
    "#removing length_days outliers\n",
    "\n",
    "df3[\"zscore_length_days\"] = np.abs(stats.zscore(df3[\"length_days\"]))\n",
    "\n",
    "df3 = df3[df3['zscore_length_days']<=3]\n",
    "\n",
    "df3.describe()"
   ]
  },
  {
   "cell_type": "code",
   "execution_count": 1535,
   "metadata": {},
   "outputs": [
    {
     "data": {
      "text/html": [
       "<div>\n",
       "<style scoped>\n",
       "    .dataframe tbody tr th:only-of-type {\n",
       "        vertical-align: middle;\n",
       "    }\n",
       "\n",
       "    .dataframe tbody tr th {\n",
       "        vertical-align: top;\n",
       "    }\n",
       "\n",
       "    .dataframe thead th {\n",
       "        text-align: right;\n",
       "    }\n",
       "</style>\n",
       "<table border=\"1\" class=\"dataframe\">\n",
       "  <thead>\n",
       "    <tr style=\"text-align: right;\">\n",
       "      <th></th>\n",
       "      <th>length_days</th>\n",
       "      <th>goal</th>\n",
       "      <th>pledged</th>\n",
       "      <th>backers</th>\n",
       "      <th>usd_pledged</th>\n",
       "      <th>pct_funded</th>\n",
       "      <th>avg_pledge_per_backer</th>\n",
       "      <th>zscore_pct_funded</th>\n",
       "      <th>zscore_usd_pledged</th>\n",
       "      <th>zscore_length_days</th>\n",
       "      <th>zscore_goal</th>\n",
       "      <th>zscore_backers</th>\n",
       "      <th>zscore_pledged</th>\n",
       "    </tr>\n",
       "  </thead>\n",
       "  <tbody>\n",
       "    <tr>\n",
       "      <th>count</th>\n",
       "      <td>260937.000000</td>\n",
       "      <td>260937.000000</td>\n",
       "      <td>260937.000000</td>\n",
       "      <td>260937.000000</td>\n",
       "      <td>260937.000000</td>\n",
       "      <td>260937.000000</td>\n",
       "      <td>2.287550e+05</td>\n",
       "      <td>2.609370e+05</td>\n",
       "      <td>2.609370e+05</td>\n",
       "      <td>260937.000000</td>\n",
       "      <td>260937.000000</td>\n",
       "      <td>260937.000000</td>\n",
       "      <td>260937.000000</td>\n",
       "    </tr>\n",
       "    <tr>\n",
       "      <th>mean</th>\n",
       "      <td>33.243266</td>\n",
       "      <td>13907.881289</td>\n",
       "      <td>2920.909288</td>\n",
       "      <td>44.510334</td>\n",
       "      <td>2822.831806</td>\n",
       "      <td>84.497941</td>\n",
       "      <td>inf</td>\n",
       "      <td>1.081511e-02</td>\n",
       "      <td>8.122106e-02</td>\n",
       "      <td>0.718432</td>\n",
       "      <td>0.198330</td>\n",
       "      <td>0.167385</td>\n",
       "      <td>0.498481</td>\n",
       "    </tr>\n",
       "    <tr>\n",
       "      <th>std</th>\n",
       "      <td>11.707803</td>\n",
       "      <td>29478.816162</td>\n",
       "      <td>4970.634940</td>\n",
       "      <td>85.268814</td>\n",
       "      <td>4976.797263</td>\n",
       "      <td>765.393744</td>\n",
       "      <td>NaN</td>\n",
       "      <td>2.756912e-02</td>\n",
       "      <td>2.981899e-02</td>\n",
       "      <td>0.683296</td>\n",
       "      <td>0.244728</td>\n",
       "      <td>0.132639</td>\n",
       "      <td>0.412043</td>\n",
       "    </tr>\n",
       "    <tr>\n",
       "      <th>min</th>\n",
       "      <td>1.000000</td>\n",
       "      <td>0.150000</td>\n",
       "      <td>0.000000</td>\n",
       "      <td>0.000000</td>\n",
       "      <td>0.000000</td>\n",
       "      <td>0.000000</td>\n",
       "      <td>0.000000e+00</td>\n",
       "      <td>2.893195e-08</td>\n",
       "      <td>3.859857e-07</td>\n",
       "      <td>0.029036</td>\n",
       "      <td>0.000174</td>\n",
       "      <td>0.000779</td>\n",
       "      <td>0.000003</td>\n",
       "    </tr>\n",
       "    <tr>\n",
       "      <th>25%</th>\n",
       "      <td>30.000000</td>\n",
       "      <td>2000.000000</td>\n",
       "      <td>38.000000</td>\n",
       "      <td>2.000000</td>\n",
       "      <td>30.751584</td>\n",
       "      <td>0.625000</td>\n",
       "      <td>2.273170e+01</td>\n",
       "      <td>8.111628e-03</td>\n",
       "      <td>6.975928e-02</td>\n",
       "      <td>0.283084</td>\n",
       "      <td>0.120179</td>\n",
       "      <td>0.119784</td>\n",
       "      <td>0.327390</td>\n",
       "    </tr>\n",
       "    <tr>\n",
       "      <th>50%</th>\n",
       "      <td>30.000000</td>\n",
       "      <td>5000.000000</td>\n",
       "      <td>625.000000</td>\n",
       "      <td>13.000000</td>\n",
       "      <td>564.000000</td>\n",
       "      <td>15.450000</td>\n",
       "      <td>4.466667e+01</td>\n",
       "      <td>1.148077e-02</td>\n",
       "      <td>9.269486e-02</td>\n",
       "      <td>0.283084</td>\n",
       "      <td>0.177523</td>\n",
       "      <td>0.176605</td>\n",
       "      <td>0.476686</td>\n",
       "    </tr>\n",
       "    <tr>\n",
       "      <th>75%</th>\n",
       "      <td>35.000000</td>\n",
       "      <td>12000.000000</td>\n",
       "      <td>3420.000000</td>\n",
       "      <td>51.000000</td>\n",
       "      <td>3210.000000</td>\n",
       "      <td>106.294118</td>\n",
       "      <td>7.677930e+01</td>\n",
       "      <td>1.198422e-02</td>\n",
       "      <td>9.725916e-02</td>\n",
       "      <td>0.987156</td>\n",
       "      <td>0.203589</td>\n",
       "      <td>0.192323</td>\n",
       "      <td>0.501419</td>\n",
       "    </tr>\n",
       "    <tr>\n",
       "      <th>max</th>\n",
       "      <td>68.000000</td>\n",
       "      <td>308124.000000</td>\n",
       "      <td>27462.000000</td>\n",
       "      <td>1413.000000</td>\n",
       "      <td>46923.928950</td>\n",
       "      <td>81100.000000</td>\n",
       "      <td>inf</td>\n",
       "      <td>2.981383e+00</td>\n",
       "      <td>4.379494e-01</td>\n",
       "      <td>2.934858</td>\n",
       "      <td>2.998539</td>\n",
       "      <td>2.978142</td>\n",
       "      <td>2.999572</td>\n",
       "    </tr>\n",
       "  </tbody>\n",
       "</table>\n",
       "</div>"
      ],
      "text/plain": [
       "         length_days           goal        pledged        backers  \\\n",
       "count  260937.000000  260937.000000  260937.000000  260937.000000   \n",
       "mean       33.243266   13907.881289    2920.909288      44.510334   \n",
       "std        11.707803   29478.816162    4970.634940      85.268814   \n",
       "min         1.000000       0.150000       0.000000       0.000000   \n",
       "25%        30.000000    2000.000000      38.000000       2.000000   \n",
       "50%        30.000000    5000.000000     625.000000      13.000000   \n",
       "75%        35.000000   12000.000000    3420.000000      51.000000   \n",
       "max        68.000000  308124.000000   27462.000000    1413.000000   \n",
       "\n",
       "         usd_pledged     pct_funded  avg_pledge_per_backer  zscore_pct_funded  \\\n",
       "count  260937.000000  260937.000000           2.287550e+05       2.609370e+05   \n",
       "mean     2822.831806      84.497941                    inf       1.081511e-02   \n",
       "std      4976.797263     765.393744                    NaN       2.756912e-02   \n",
       "min         0.000000       0.000000           0.000000e+00       2.893195e-08   \n",
       "25%        30.751584       0.625000           2.273170e+01       8.111628e-03   \n",
       "50%       564.000000      15.450000           4.466667e+01       1.148077e-02   \n",
       "75%      3210.000000     106.294118           7.677930e+01       1.198422e-02   \n",
       "max     46923.928950   81100.000000                    inf       2.981383e+00   \n",
       "\n",
       "       zscore_usd_pledged  zscore_length_days    zscore_goal  zscore_backers  \\\n",
       "count        2.609370e+05       260937.000000  260937.000000   260937.000000   \n",
       "mean         8.122106e-02            0.718432       0.198330        0.167385   \n",
       "std          2.981899e-02            0.683296       0.244728        0.132639   \n",
       "min          3.859857e-07            0.029036       0.000174        0.000779   \n",
       "25%          6.975928e-02            0.283084       0.120179        0.119784   \n",
       "50%          9.269486e-02            0.283084       0.177523        0.176605   \n",
       "75%          9.725916e-02            0.987156       0.203589        0.192323   \n",
       "max          4.379494e-01            2.934858       2.998539        2.978142   \n",
       "\n",
       "       zscore_pledged  \n",
       "count   260937.000000  \n",
       "mean         0.498481  \n",
       "std          0.412043  \n",
       "min          0.000003  \n",
       "25%          0.327390  \n",
       "50%          0.476686  \n",
       "75%          0.501419  \n",
       "max          2.999572  "
      ]
     },
     "execution_count": 1535,
     "metadata": {},
     "output_type": "execute_result"
    }
   ],
   "source": [
    "#removing goal outliers\n",
    "\n",
    "df3[\"zscore_goal\"] = np.abs(stats.zscore(df3[\"goal\"]))\n",
    "\n",
    "df3 = df3[df3['zscore_goal']<=3]\n",
    "\n",
    "df3.describe()"
   ]
  },
  {
   "cell_type": "code",
   "execution_count": 1536,
   "metadata": {},
   "outputs": [
    {
     "data": {
      "text/html": [
       "<div>\n",
       "<style scoped>\n",
       "    .dataframe tbody tr th:only-of-type {\n",
       "        vertical-align: middle;\n",
       "    }\n",
       "\n",
       "    .dataframe tbody tr th {\n",
       "        vertical-align: top;\n",
       "    }\n",
       "\n",
       "    .dataframe thead th {\n",
       "        text-align: right;\n",
       "    }\n",
       "</style>\n",
       "<table border=\"1\" class=\"dataframe\">\n",
       "  <thead>\n",
       "    <tr style=\"text-align: right;\">\n",
       "      <th></th>\n",
       "      <th>length_days</th>\n",
       "      <th>goal</th>\n",
       "      <th>pledged</th>\n",
       "      <th>backers</th>\n",
       "      <th>usd_pledged</th>\n",
       "      <th>pct_funded</th>\n",
       "      <th>avg_pledge_per_backer</th>\n",
       "      <th>zscore_pct_funded</th>\n",
       "      <th>zscore_usd_pledged</th>\n",
       "      <th>zscore_length_days</th>\n",
       "      <th>zscore_goal</th>\n",
       "      <th>zscore_backers</th>\n",
       "      <th>zscore_pledged</th>\n",
       "    </tr>\n",
       "  </thead>\n",
       "  <tbody>\n",
       "    <tr>\n",
       "      <th>count</th>\n",
       "      <td>255455.000000</td>\n",
       "      <td>255455.000000</td>\n",
       "      <td>255455.000000</td>\n",
       "      <td>255455.000000</td>\n",
       "      <td>255455.000000</td>\n",
       "      <td>255455.000000</td>\n",
       "      <td>2.232730e+05</td>\n",
       "      <td>2.554550e+05</td>\n",
       "      <td>2.554550e+05</td>\n",
       "      <td>255455.000000</td>\n",
       "      <td>255455.000000</td>\n",
       "      <td>255455.000000</td>\n",
       "      <td>255455.000000</td>\n",
       "    </tr>\n",
       "    <tr>\n",
       "      <th>mean</th>\n",
       "      <td>33.272948</td>\n",
       "      <td>13919.101953</td>\n",
       "      <td>2614.332991</td>\n",
       "      <td>35.411086</td>\n",
       "      <td>2522.698457</td>\n",
       "      <td>78.195160</td>\n",
       "      <td>inf</td>\n",
       "      <td>1.078983e-02</td>\n",
       "      <td>8.066917e-02</td>\n",
       "      <td>0.722176</td>\n",
       "      <td>0.199706</td>\n",
       "      <td>0.486872</td>\n",
       "      <td>0.472834</td>\n",
       "    </tr>\n",
       "    <tr>\n",
       "      <th>std</th>\n",
       "      <td>11.758320</td>\n",
       "      <td>29649.745813</td>\n",
       "      <td>4471.019643</td>\n",
       "      <td>52.931812</td>\n",
       "      <td>4447.549886</td>\n",
       "      <td>739.976193</td>\n",
       "      <td>NaN</td>\n",
       "      <td>2.669576e-02</td>\n",
       "      <td>2.806996e-02</td>\n",
       "      <td>0.685540</td>\n",
       "      <td>0.245819</td>\n",
       "      <td>0.399614</td>\n",
       "      <td>0.360061</td>\n",
       "    </tr>\n",
       "    <tr>\n",
       "      <th>min</th>\n",
       "      <td>1.000000</td>\n",
       "      <td>0.150000</td>\n",
       "      <td>0.000000</td>\n",
       "      <td>0.000000</td>\n",
       "      <td>0.000000</td>\n",
       "      <td>0.000000</td>\n",
       "      <td>0.000000e+00</td>\n",
       "      <td>2.893195e-08</td>\n",
       "      <td>3.859857e-07</td>\n",
       "      <td>0.029036</td>\n",
       "      <td>0.000174</td>\n",
       "      <td>0.005743</td>\n",
       "      <td>0.000003</td>\n",
       "    </tr>\n",
       "    <tr>\n",
       "      <th>25%</th>\n",
       "      <td>30.000000</td>\n",
       "      <td>1800.000000</td>\n",
       "      <td>35.000000</td>\n",
       "      <td>2.000000</td>\n",
       "      <td>29.862143</td>\n",
       "      <td>0.555556</td>\n",
       "      <td>2.258333e+01</td>\n",
       "      <td>8.140227e-03</td>\n",
       "      <td>7.013241e-02</td>\n",
       "      <td>0.283084</td>\n",
       "      <td>0.121222</td>\n",
       "      <td>0.298934</td>\n",
       "      <td>0.322042</td>\n",
       "    </tr>\n",
       "    <tr>\n",
       "      <th>50%</th>\n",
       "      <td>30.000000</td>\n",
       "      <td>5000.000000</td>\n",
       "      <td>575.000000</td>\n",
       "      <td>12.000000</td>\n",
       "      <td>520.000000</td>\n",
       "      <td>14.000000</td>\n",
       "      <td>4.500000e+01</td>\n",
       "      <td>1.152322e-02</td>\n",
       "      <td>9.266324e-02</td>\n",
       "      <td>0.283084</td>\n",
       "      <td>0.177523</td>\n",
       "      <td>0.463363</td>\n",
       "      <td>0.474774</td>\n",
       "    </tr>\n",
       "    <tr>\n",
       "      <th>75%</th>\n",
       "      <td>35.000000</td>\n",
       "      <td>12000.000000</td>\n",
       "      <td>3125.000000</td>\n",
       "      <td>47.000000</td>\n",
       "      <td>3000.000000</td>\n",
       "      <td>105.285714</td>\n",
       "      <td>7.781818e+01</td>\n",
       "      <td>1.198459e-02</td>\n",
       "      <td>9.725916e-02</td>\n",
       "      <td>0.987156</td>\n",
       "      <td>0.203589</td>\n",
       "      <td>0.522001</td>\n",
       "      <td>0.501419</td>\n",
       "    </tr>\n",
       "    <tr>\n",
       "      <th>max</th>\n",
       "      <td>68.000000</td>\n",
       "      <td>308124.000000</td>\n",
       "      <td>27462.000000</td>\n",
       "      <td>300.000000</td>\n",
       "      <td>44262.811260</td>\n",
       "      <td>81100.000000</td>\n",
       "      <td>inf</td>\n",
       "      <td>2.981383e+00</td>\n",
       "      <td>4.075841e-01</td>\n",
       "      <td>2.934858</td>\n",
       "      <td>2.998539</td>\n",
       "      <td>2.996291</td>\n",
       "      <td>2.999572</td>\n",
       "    </tr>\n",
       "  </tbody>\n",
       "</table>\n",
       "</div>"
      ],
      "text/plain": [
       "         length_days           goal        pledged        backers  \\\n",
       "count  255455.000000  255455.000000  255455.000000  255455.000000   \n",
       "mean       33.272948   13919.101953    2614.332991      35.411086   \n",
       "std        11.758320   29649.745813    4471.019643      52.931812   \n",
       "min         1.000000       0.150000       0.000000       0.000000   \n",
       "25%        30.000000    1800.000000      35.000000       2.000000   \n",
       "50%        30.000000    5000.000000     575.000000      12.000000   \n",
       "75%        35.000000   12000.000000    3125.000000      47.000000   \n",
       "max        68.000000  308124.000000   27462.000000     300.000000   \n",
       "\n",
       "         usd_pledged     pct_funded  avg_pledge_per_backer  zscore_pct_funded  \\\n",
       "count  255455.000000  255455.000000           2.232730e+05       2.554550e+05   \n",
       "mean     2522.698457      78.195160                    inf       1.078983e-02   \n",
       "std      4447.549886     739.976193                    NaN       2.669576e-02   \n",
       "min         0.000000       0.000000           0.000000e+00       2.893195e-08   \n",
       "25%        29.862143       0.555556           2.258333e+01       8.140227e-03   \n",
       "50%       520.000000      14.000000           4.500000e+01       1.152322e-02   \n",
       "75%      3000.000000     105.285714           7.781818e+01       1.198459e-02   \n",
       "max     44262.811260   81100.000000                    inf       2.981383e+00   \n",
       "\n",
       "       zscore_usd_pledged  zscore_length_days    zscore_goal  zscore_backers  \\\n",
       "count        2.554550e+05       255455.000000  255455.000000   255455.000000   \n",
       "mean         8.066917e-02            0.722176       0.199706        0.486872   \n",
       "std          2.806996e-02            0.685540       0.245819        0.399614   \n",
       "min          3.859857e-07            0.029036       0.000174        0.005743   \n",
       "25%          7.013241e-02            0.283084       0.121222        0.298934   \n",
       "50%          9.266324e-02            0.283084       0.177523        0.463363   \n",
       "75%          9.725916e-02            0.987156       0.203589        0.522001   \n",
       "max          4.075841e-01            2.934858       2.998539        2.996291   \n",
       "\n",
       "       zscore_pledged  \n",
       "count   255455.000000  \n",
       "mean         0.472834  \n",
       "std          0.360061  \n",
       "min          0.000003  \n",
       "25%          0.322042  \n",
       "50%          0.474774  \n",
       "75%          0.501419  \n",
       "max          2.999572  "
      ]
     },
     "execution_count": 1536,
     "metadata": {},
     "output_type": "execute_result"
    }
   ],
   "source": [
    "#removing backers outliers\n",
    "\n",
    "df3[\"zscore_backers\"] = np.abs(stats.zscore(df3[\"backers\"]))\n",
    "\n",
    "df3 = df3[df3['zscore_backers']<=3]\n",
    "\n",
    "df3.describe()"
   ]
  },
  {
   "cell_type": "code",
   "execution_count": 1537,
   "metadata": {},
   "outputs": [
    {
     "name": "stdout",
     "output_type": "stream",
     "text": [
      "<class 'pandas.core.frame.DataFrame'>\n",
      "Int64Index: 255455 entries, 0 to 281855\n",
      "Data columns (total 18 columns):\n",
      " #   Column                 Non-Null Count   Dtype  \n",
      "---  ------                 --------------   -----  \n",
      " 0   main_category          255455 non-null  object \n",
      " 1   category               255455 non-null  object \n",
      " 2   country                255455 non-null  object \n",
      " 3   currency               255455 non-null  object \n",
      " 4   length_days            255455 non-null  int64  \n",
      " 5   goal                   255455 non-null  float64\n",
      " 6   pledged                255455 non-null  float64\n",
      " 7   backers                255455 non-null  int64  \n",
      " 8   state                  255455 non-null  object \n",
      " 9   usd_pledged            255455 non-null  float64\n",
      " 10  pct_funded             255455 non-null  float64\n",
      " 11  avg_pledge_per_backer  223273 non-null  float64\n",
      " 12  zscore_pct_funded      255455 non-null  float64\n",
      " 13  zscore_usd_pledged     255455 non-null  float64\n",
      " 14  zscore_length_days     255455 non-null  float64\n",
      " 15  zscore_goal            255455 non-null  float64\n",
      " 16  zscore_backers         255455 non-null  float64\n",
      " 17  zscore_pledged         255455 non-null  float64\n",
      "dtypes: float64(11), int64(2), object(5)\n",
      "memory usage: 37.0+ MB\n"
     ]
    }
   ],
   "source": [
    "df3.info()"
   ]
  },
  {
   "cell_type": "code",
   "execution_count": 1538,
   "metadata": {},
   "outputs": [
    {
     "data": {
      "text/plain": [
       "0    30\n",
       "dtype: int64"
      ]
     },
     "execution_count": 1538,
     "metadata": {},
     "output_type": "execute_result"
    }
   ],
   "source": [
    "#finding mode of campaign lengths\n",
    "df3[\"length_days\"].mode()"
   ]
  },
  {
   "cell_type": "code",
   "execution_count": 1539,
   "metadata": {},
   "outputs": [
    {
     "name": "stdout",
     "output_type": "stream",
     "text": [
      "Ranges\n",
      "------------------------------------\n",
      "Project length:\t\t67 days\n",
      "Goal Amount:\t\t$308123\n",
      "USD Pledged Amount:\t$44262\n",
      "Number of Backers:\t300\n",
      "Percent Funded:\t\t8110000%\n"
     ]
    }
   ],
   "source": [
    "## calculate the range for all numeric variables\n",
    "days_range = df3[\"length_days\"].max() - df3[\"length_days\"].min()\n",
    "goal_range = df3[\"goal\"].max() - df3[\"goal\"].min()\n",
    "pledged_range = df3[\"usd_pledged\"].max() - df3[\"usd_pledged\"].min()\n",
    "backers_range = df3[\"backers\"].max() - df3[\"backers\"].min()\n",
    "pct_funded_range = df3[\"pct_funded\"].max() - df3[\"pct_funded\"].min()\n",
    "\n",
    "print(\"Ranges\")\n",
    "print(\"--\"*18)\n",
    "print(f\"Project length:\\t\\t{days_range} days\")\n",
    "print(f\"Goal Amount:\\t\\t${int(goal_range)}\")\n",
    "print(f\"USD Pledged Amount:\\t${int(pledged_range)}\")\n",
    "print(f\"Number of Backers:\\t{int(backers_range)}\")\n",
    "print(f\"Percent Funded:\\t\\t{int(pct_funded_range)*100}%\")"
   ]
  },
  {
   "cell_type": "code",
   "execution_count": 1540,
   "metadata": {
    "scrolled": false
   },
   "outputs": [
    {
     "data": {
      "text/plain": [
       "Film & Video    46355\n",
       "Music           38787\n",
       "Publishing      28727\n",
       "Art             20904\n",
       "Technology      17852\n",
       "Games           17603\n",
       "Food            17585\n",
       "Design          16108\n",
       "Fashion         14850\n",
       "Theater          8889\n",
       "Photography      8270\n",
       "Comics           6924\n",
       "Crafts           6163\n",
       "Journalism       3318\n",
       "Dance            3120\n",
       "Name: main_category, dtype: int64"
      ]
     },
     "execution_count": 1540,
     "metadata": {},
     "output_type": "execute_result"
    }
   ],
   "source": [
    "## frequency of categorical variable groups\n",
    "df3[\"main_category\"].value_counts()\n"
   ]
  },
  {
   "cell_type": "code",
   "execution_count": 1541,
   "metadata": {
    "scrolled": false
   },
   "outputs": [
    {
     "data": {
      "text/plain": [
       "Documentary           11485\n",
       "Product Design        11314\n",
       "Shorts                10361\n",
       "Music                 10005\n",
       "Food                   8886\n",
       "Fiction                7089\n",
       "Film & Video           7072\n",
       "Fashion                6579\n",
       "Video Games            6366\n",
       "Nonfiction             6278\n",
       "Theater                6134\n",
       "Tabletop Games         6110\n",
       "Art                    5962\n",
       "Rock                   5594\n",
       "Children's Books       4943\n",
       "Photography            4789\n",
       "Indie Rock             4738\n",
       "Webseries              4493\n",
       "Apparel                4399\n",
       "Technology             3908\n",
       "Publishing             3863\n",
       "Narrative Film         3829\n",
       "Apps                   3800\n",
       "Comics                 3720\n",
       "Country & Folk         3659\n",
       "Crafts                 3317\n",
       "Web                    3306\n",
       "Hip-Hop                2973\n",
       "Pop                    2617\n",
       "Painting               2567\n",
       "Public Art             2495\n",
       "Design                 2464\n",
       "Classical Music        2136\n",
       "Mixed Media            2127\n",
       "Dance                  2068\n",
       "Illustration           1992\n",
       "Games                  1951\n",
       "Software               1925\n",
       "Hardware               1862\n",
       "Restaurants            1820\n",
       "Performance Art        1784\n",
       "Art Books              1778\n",
       "Animation              1759\n",
       "World Music            1642\n",
       "Electronic Music       1582\n",
       "Accessories            1581\n",
       "Comic Books            1561\n",
       "Jazz                   1498\n",
       "Drinks                 1480\n",
       "Comedy                 1423\n",
       "Sculpture              1410\n",
       "Drama                  1380\n",
       "Graphic Design         1358\n",
       "Journalism             1312\n",
       "Food Trucks            1287\n",
       "Small Batch            1235\n",
       "Gadgets                1219\n",
       "Playing Cards          1119\n",
       "Poetry                 1087\n",
       "Mobile Games           1082\n",
       "Plays                  1052\n",
       "Graphic Novels         1009\n",
       "Photobooks              983\n",
       "Periodicals             946\n",
       "Digital Art             934\n",
       "Woodworking             829\n",
       "Horror                  809\n",
       "Conceptual Art          802\n",
       "Farms                   801\n",
       "People                  790\n",
       "Faith                   788\n",
       "DIY                     778\n",
       "Performances            754\n",
       "Jewelry                 706\n",
       "Radio & Podcasts        682\n",
       "Musical                 661\n",
       "Live Games              655\n",
       "Experimental            652\n",
       "Television              651\n",
       "Festivals               623\n",
       "Events                  581\n",
       "Academic                569\n",
       "Ready-to-wear           558\n",
       "Young Adult             557\n",
       "Fine Art                552\n",
       "Places                  548\n",
       "Metal                   537\n",
       "Music Videos            508\n",
       "Spaces                  494\n",
       "Print                   491\n",
       "DIY Electronics         472\n",
       "Wearables               459\n",
       "Architecture            459\n",
       "Thrillers               457\n",
       "Science Fiction         456\n",
       "Footwear                451\n",
       "Action                  440\n",
       "Nature                  417\n",
       "Anthologies             405\n",
       "Cookbooks               337\n",
       "Installations           329\n",
       "Vegan                   329\n",
       "Webcomics               325\n",
       "3D Printing             315\n",
       "R&B                     309\n",
       "Robots                  303\n",
       "Candles                 303\n",
       "Farmer's Markets        303\n",
       "Childrenswear           302\n",
       "Video                   294\n",
       "Sound                   264\n",
       "Interactive Design      262\n",
       "Audio                   253\n",
       "Zines                   248\n",
       "Flight                  245\n",
       "Community Gardens       230\n",
       "Immersive               223\n",
       "Family                  221\n",
       "Punk                    212\n",
       "Kids                    204\n",
       "Fantasy                 195\n",
       "Civic Design            194\n",
       "Ceramics                193\n",
       "Animals                 191\n",
       "Calendars               190\n",
       "Gaming Hardware         187\n",
       "Literary Journals       187\n",
       "Couture                 186\n",
       "Space Exploration       182\n",
       "Blues                   181\n",
       "Textiles                173\n",
       "Bacon                   155\n",
       "Printing                147\n",
       "Makerspaces             144\n",
       "Camera Equipment        144\n",
       "Stationery              138\n",
       "Photo                   136\n",
       "Fabrication Tools       136\n",
       "Video Art               136\n",
       "Puzzles                 133\n",
       "Knitting                126\n",
       "Crochet                 122\n",
       "Movie Theaters          121\n",
       "Romance                 120\n",
       "Workshops               119\n",
       "Glass                   108\n",
       "Translations            108\n",
       "Pet Fashion              88\n",
       "Latin                    87\n",
       "Embroidery               70\n",
       "Quilts                   63\n",
       "Pottery                  63\n",
       "Weaving                  59\n",
       "Typography               57\n",
       "Residencies              51\n",
       "Letterpress              31\n",
       "Chiptune                 25\n",
       "Taxidermy                 9\n",
       "Name: category, dtype: int64"
      ]
     },
     "execution_count": 1541,
     "metadata": {},
     "output_type": "execute_result"
    }
   ],
   "source": [
    "df3[\"category\"].value_counts()"
   ]
  },
  {
   "cell_type": "code",
   "execution_count": 1542,
   "metadata": {},
   "outputs": [
    {
     "data": {
      "text/plain": [
       "US    207953\n",
       "GB     22381\n",
       "CA      9090\n",
       "AU      4748\n",
       "DE      1927\n",
       "NL      1732\n",
       "FR      1384\n",
       "IT      1306\n",
       "ES      1001\n",
       "NZ       912\n",
       "SE       742\n",
       "DK       489\n",
       "IE       440\n",
       "CH       341\n",
       "NO       320\n",
       "BE       303\n",
       "AT       261\n",
       "SG        58\n",
       "LU        32\n",
       "HK        31\n",
       "MX         4\n",
       "Name: country, dtype: int64"
      ]
     },
     "execution_count": 1542,
     "metadata": {},
     "output_type": "execute_result"
    }
   ],
   "source": [
    "df3[\"country\"].value_counts()"
   ]
  },
  {
   "cell_type": "code",
   "execution_count": 1543,
   "metadata": {},
   "outputs": [
    {
     "data": {
      "text/plain": [
       "USD    207953\n",
       "GBP     22381\n",
       "CAD      9090\n",
       "EUR      8386\n",
       "AUD      4748\n",
       "NZD       912\n",
       "SEK       742\n",
       "DKK       489\n",
       "CHF       341\n",
       "NOK       320\n",
       "SGD        58\n",
       "HKD        31\n",
       "MXN         4\n",
       "Name: currency, dtype: int64"
      ]
     },
     "execution_count": 1543,
     "metadata": {},
     "output_type": "execute_result"
    }
   ],
   "source": [
    "df3[\"currency\"].value_counts()"
   ]
  },
  {
   "cell_type": "code",
   "execution_count": 1544,
   "metadata": {},
   "outputs": [
    {
     "data": {
      "text/plain": [
       "failed        162503\n",
       "successful     92952\n",
       "Name: state, dtype: int64"
      ]
     },
     "execution_count": 1544,
     "metadata": {},
     "output_type": "execute_result"
    }
   ],
   "source": [
    "df3[\"state\"].value_counts()"
   ]
  },
  {
   "cell_type": "code",
   "execution_count": 1545,
   "metadata": {},
   "outputs": [
    {
     "data": {
      "text/plain": [
       "<AxesSubplot:title={'center':'Number of Projects by Main Category'}, xlabel='main_category', ylabel='Count'>"
      ]
     },
     "execution_count": 1545,
     "metadata": {},
     "output_type": "execute_result"
    },
    {
     "data": {
      "image/png": "[encoded data removed]",
      "text/plain": [
       "<Figure size 1080x360 with 1 Axes>"
      ]
     },
     "metadata": {
      "needs_background": "light"
     },
     "output_type": "display_data"
    }
   ],
   "source": [
    "# visualization: number of projects by main category\n",
    "\n",
    "plt.figure(figsize = (15,5))\n",
    "plt.xticks(rotation = 90)\n",
    "plt.title(\"Number of Projects by Main Category\")\n",
    "sns.histplot(x = df3[\"main_category\"], kde = False)\n"
   ]
  },
  {
   "cell_type": "code",
   "execution_count": 1546,
   "metadata": {},
   "outputs": [
    {
     "data": {
      "text/plain": [
       "<AxesSubplot:title={'center':'Number of Projects by Failure/Success'}, xlabel='state', ylabel='Count'>"
      ]
     },
     "execution_count": 1546,
     "metadata": {},
     "output_type": "execute_result"
    },
    {
     "data": {
      "image/png": "[encoded data removed]",
      "text/plain": [
       "<Figure size 432x288 with 1 Axes>"
      ]
     },
     "metadata": {
      "needs_background": "light"
     },
     "output_type": "display_data"
    }
   ],
   "source": [
    "# visualization: number of projects by state\n",
    "plt.title(\"Number of Projects by Failure/Success\")\n",
    "plt.xticks(rotation = 90)\n",
    "sns.histplot(x = df3[\"state\"], kde = False)"
   ]
  },
  {
   "cell_type": "code",
   "execution_count": 1547,
   "metadata": {},
   "outputs": [
    {
     "data": {
      "text/plain": [
       "<AxesSubplot:title={'center':'Number of Projects by Country'}, xlabel='country', ylabel='Count'>"
      ]
     },
     "execution_count": 1547,
     "metadata": {},
     "output_type": "execute_result"
    },
    {
     "data": {
      "image/png": "[encoded data removed]",
      "text/plain": [
       "<Figure size 1080x360 with 1 Axes>"
      ]
     },
     "metadata": {
      "needs_background": "light"
     },
     "output_type": "display_data"
    }
   ],
   "source": [
    "# visualization: number of projects by country\n",
    "\n",
    "plt.figure(figsize = (15,5))\n",
    "plt.xticks(rotation = 90)\n",
    "plt.title(\"Number of Projects by Country\")\n",
    "sns.histplot(x = df3[\"country\"], kde = False)"
   ]
  },
  {
   "cell_type": "code",
   "execution_count": 1548,
   "metadata": {},
   "outputs": [
    {
     "data": {
      "text/plain": [
       "<AxesSubplot:title={'center':'Number of Failed/Successful Projects by Main Category'}, xlabel='main_category', ylabel='count'>"
      ]
     },
     "execution_count": 1548,
     "metadata": {},
     "output_type": "execute_result"
    },
    {
     "data": {
      "image/png": "[encoded data removed]",
      "text/plain": [
       "<Figure size 1080x360 with 1 Axes>"
      ]
     },
     "metadata": {
      "needs_background": "light"
     },
     "output_type": "display_data"
    }
   ],
   "source": [
    "# visualization: number of failed/successful projects by main category\n",
    "\n",
    "plt.figure(figsize = (15,5))\n",
    "plt.xticks(rotation = 90)\n",
    "plt.title(\"Number of Failed/Successful Projects by Main Category\")\n",
    "sns.countplot(x = df3[\"main_category\"], hue = df3[\"state\"])"
   ]
  },
  {
   "cell_type": "markdown",
   "metadata": {},
   "source": [
    "## <font color=#6AA121>Part 4: Variable Relationships</font>\n",
    "\n",
    "It's time to explore the relationships between variables and answer some of the critical questions for the project. Your dependent/outcome variable is <b>STATE</b> - this is the variable that captures if the project was successful or not. In addition to exploring the relationships between your other independent variables, you want to pay close attention to the relationship between your independent variables and state. Follow the steps below to explore the relationships between your variables. In addition, you are tasked with creating visualizations related to your results. Stylistic choices related to the visualizations is up to your group. Use the space below (double-click the cell to activate) to write a brief paragraph describing the steps you took to determine variable relationships. \n",
    "\n",
    "### <font color=#6AA121>Questions to Answer</font>\n",
    "1.\tHow correlated are the numeric variables within this dataset? Create a correlation matrix to find out. Is anything highly correlated?\n",
    "2.\tWhat is the average amount of money pledged across each of the main categories? What about across the following: sub-category, country, currency, and state? Which main category is the most profitable? \n",
    "3.\tWhat is the average number of backers across each of the main categories? What about across the following: sub-category, country, currency, and state? Which main category is the most popular?\n",
    "4.\tWhat percentage of projects succeed and fail across each of the main categories?\n",
    "5.\tWhich of the main categories have the highest success rate (top 3)? Which of the sub-categories have the highest success rate (top 3)?\n",
    "6.\tWhat is the average duration of a campaign for projects that succeed? What is the average duration for projects that fail?\n",
    "7.  What is the average funding goal of a campaign for projects that succeed? What is the average funding goal for projects that fail?\n",
    "\n",
    "\n",
    "### <font color=#6AA121>Visualizations to Create</font> \n",
    "* Average Pledge by Main Category\n",
    "* Average Num Backers by Main Category\n",
    "* Average Pledge by State\n",
    "* Average Num Backers by State\n",
    "* Average Funding Goal by Main Category\n",
    "* Average Funding Goal by State\n",
    "* Average Percentage of Funding Collected by Main Category\n",
    "\n",
    "***\n",
    "\n",
    "### <font color=#6AA121>RELATIONSHIPS BETWEEN VARIABLES</font>\n",
    "\n",
    "#### Start your paragraph here . . . Be sure to answer all questions in this space!"
   ]
  },
  {
   "cell_type": "code",
   "execution_count": 1549,
   "metadata": {},
   "outputs": [
    {
     "name": "stdout",
     "output_type": "stream",
     "text": [
      "<class 'pandas.core.frame.DataFrame'>\n",
      "Int64Index: 255455 entries, 0 to 281855\n",
      "Data columns (total 18 columns):\n",
      " #   Column                 Non-Null Count   Dtype  \n",
      "---  ------                 --------------   -----  \n",
      " 0   main_category          255455 non-null  object \n",
      " 1   category               255455 non-null  object \n",
      " 2   country                255455 non-null  object \n",
      " 3   currency               255455 non-null  object \n",
      " 4   length_days            255455 non-null  int64  \n",
      " 5   goal                   255455 non-null  float64\n",
      " 6   pledged                255455 non-null  float64\n",
      " 7   backers                255455 non-null  int64  \n",
      " 8   state                  255455 non-null  object \n",
      " 9   usd_pledged            255455 non-null  float64\n",
      " 10  pct_funded             255455 non-null  float64\n",
      " 11  avg_pledge_per_backer  223273 non-null  float64\n",
      " 12  zscore_pct_funded      255455 non-null  float64\n",
      " 13  zscore_usd_pledged     255455 non-null  float64\n",
      " 14  zscore_length_days     255455 non-null  float64\n",
      " 15  zscore_goal            255455 non-null  float64\n",
      " 16  zscore_backers         255455 non-null  float64\n",
      " 17  zscore_pledged         255455 non-null  float64\n",
      "dtypes: float64(11), int64(2), object(5)\n",
      "memory usage: 45.1+ MB\n"
     ]
    }
   ],
   "source": [
    "df3.info()"
   ]
  },
  {
   "cell_type": "code",
   "execution_count": 1550,
   "metadata": {},
   "outputs": [
    {
     "data": {
      "text/plain": [
       "main_category\n",
       "Art             1997.360462\n",
       "Comics          2570.534248\n",
       "Crafts           975.190867\n",
       "Dance           3076.618001\n",
       "Design          3354.558023\n",
       "Fashion         2136.543387\n",
       "Film & Video    3073.220146\n",
       "Food            2645.230308\n",
       "Games           2541.648571\n",
       "Journalism      1312.453967\n",
       "Music           2898.832922\n",
       "Photography     1974.053745\n",
       "Publishing      1812.615540\n",
       "Technology      2161.891974\n",
       "Theater         2926.569554\n",
       "Name: usd_pledged, dtype: float64"
      ]
     },
     "execution_count": 1550,
     "metadata": {},
     "output_type": "execute_result"
    }
   ],
   "source": [
    "## average pledge across categoricial variables (groupby)\n",
    "df3[\"usd_pledged\"].groupby(df3[\"main_category\"]).mean()"
   ]
  },
  {
   "cell_type": "code",
   "execution_count": 1551,
   "metadata": {},
   "outputs": [
    {
     "data": {
      "text/plain": [
       "<AxesSubplot:title={'center':'Average USD Pledged per Main Category'}, xlabel='main_category', ylabel='usd_pledged'>"
      ]
     },
     "execution_count": 1551,
     "metadata": {},
     "output_type": "execute_result"
    },
    {
     "data": {
      "image/png": "[encoded data removed]",
      "text/plain": [
       "<Figure size 432x288 with 1 Axes>"
      ]
     },
     "metadata": {
      "needs_background": "light"
     },
     "output_type": "display_data"
    }
   ],
   "source": [
    "# visualizing Average USD Pledged per Main Category\n",
    "plt.title(\"Average USD Pledged per Main Category\")\n",
    "plt.xticks(rotation = 90)\n",
    "sns.barplot(x = df3[\"main_category\"], y = df3[\"usd_pledged\"], ci = None)\n"
   ]
  },
  {
   "cell_type": "code",
   "execution_count": 1552,
   "metadata": {
    "scrolled": false
   },
   "outputs": [
    {
     "data": {
      "text/plain": [
       "category\n",
       "3D Printing           4243.485148\n",
       "Academic              1133.105677\n",
       "Accessories           2724.867686\n",
       "Action                1244.742582\n",
       "Animals               1175.238449\n",
       "Animation             2548.994877\n",
       "Anthologies           2737.113098\n",
       "Apparel               1697.974536\n",
       "Apps                   848.561063\n",
       "Architecture          2455.616959\n",
       "Art                   2160.058763\n",
       "Art Books             3590.417649\n",
       "Audio                  873.436594\n",
       "Bacon                  690.047521\n",
       "Blues                 2827.423421\n",
       "Calendars             1537.241172\n",
       "Camera Equipment      4526.270420\n",
       "Candles                402.468948\n",
       "Ceramics              3150.915252\n",
       "Children's Books      2164.623711\n",
       "Childrenswear         1747.461740\n",
       "Chiptune              2428.863539\n",
       "Civic Design          3357.492037\n",
       "Classical Music       3831.146116\n",
       "Comedy                2874.273682\n",
       "Comic Books           2073.751347\n",
       "Comics                2652.883533\n",
       "Community Gardens     1479.156040\n",
       "Conceptual Art        1432.089660\n",
       "Cookbooks             1695.543842\n",
       "Country & Folk        3981.128766\n",
       "Couture               1337.906165\n",
       "Crafts                 976.938840\n",
       "Crochet                300.835473\n",
       "DIY                    564.466038\n",
       "DIY Electronics       3584.265071\n",
       "Dance                 3240.094815\n",
       "Design                2592.109099\n",
       "Digital Art           1124.191624\n",
       "Documentary           3928.879363\n",
       "Drama                 2623.078491\n",
       "Drinks                3280.585857\n",
       "Electronic Music      1418.603991\n",
       "Embroidery             618.892421\n",
       "Events                1243.459635\n",
       "Experimental          1748.537698\n",
       "Fabrication Tools     2519.120945\n",
       "Faith                 3061.985383\n",
       "Family                2221.232367\n",
       "Fantasy               1772.232062\n",
       "Farmer's Markets      1161.631361\n",
       "Farms                 2475.603189\n",
       "Fashion               2342.550758\n",
       "Festivals             2320.921962\n",
       "Fiction               1091.724227\n",
       "Film & Video          2401.723058\n",
       "Fine Art              1997.187828\n",
       "Flight                2200.963455\n",
       "Food                  3093.542837\n",
       "Food Trucks           1544.436148\n",
       "Footwear              3669.301158\n",
       "Gadgets               3201.804477\n",
       "Games                 1783.975037\n",
       "Gaming Hardware       2492.253345\n",
       "Glass                 1433.554831\n",
       "Graphic Design        1610.024410\n",
       "Graphic Novels        2985.567875\n",
       "Hardware              4382.410817\n",
       "Hip-Hop                755.381970\n",
       "Horror                2104.804345\n",
       "Illustration          1701.511563\n",
       "Immersive             2912.929110\n",
       "Indie Rock            3139.449664\n",
       "Installations         2987.099185\n",
       "Interactive Design    2064.277402\n",
       "Jazz                  4080.639146\n",
       "Jewelry               1471.425075\n",
       "Journalism            1872.856419\n",
       "Kids                  3501.453558\n",
       "Knitting              2308.092937\n",
       "Latin                 3252.052266\n",
       "Letterpress           4618.096256\n",
       "Literary Journals     1699.059960\n",
       "Live Games            1218.978408\n",
       "Makerspaces           4467.376295\n",
       "Metal                 1465.622910\n",
       "Mixed Media           1613.754259\n",
       "Mobile Games           656.198155\n",
       "Movie Theaters        2306.975146\n",
       "Music                 3107.543906\n",
       "Music Videos          1555.817210\n",
       "Musical               3245.741071\n",
       "Narrative Film        4376.026204\n",
       "Nature                1156.793468\n",
       "Nonfiction            1903.703847\n",
       "Painting              1463.359608\n",
       "People                1346.880359\n",
       "Performance Art       1958.608952\n",
       "Performances          2884.800964\n",
       "Periodicals           2878.878251\n",
       "Pet Fashion           2122.141065\n",
       "Photo                  787.534363\n",
       "Photobooks            3213.956268\n",
       "Photography           2066.353916\n",
       "Places                 724.452498\n",
       "Playing Cards         2584.480617\n",
       "Plays                 2475.310000\n",
       "Poetry                1027.060838\n",
       "Pop                   3050.776148\n",
       "Pottery               3233.304036\n",
       "Print                 1285.120670\n",
       "Printing               700.242413\n",
       "Product Design        3795.608564\n",
       "Public Art            2913.161369\n",
       "Publishing            1835.711485\n",
       "Punk                  1473.005031\n",
       "Puzzles               2072.021752\n",
       "Quilts                1307.953179\n",
       "R&B                   1671.178688\n",
       "Radio & Podcasts      2334.949005\n",
       "Ready-to-wear         1579.943964\n",
       "Residencies           3020.328942\n",
       "Restaurants           2139.460290\n",
       "Robots                3049.345828\n",
       "Rock                  2563.451272\n",
       "Romance               2141.960468\n",
       "Science Fiction       3365.731885\n",
       "Sculpture             2289.745008\n",
       "Shorts                3095.953335\n",
       "Small Batch           2280.454366\n",
       "Software              1415.952376\n",
       "Sound                 4418.025185\n",
       "Space Exploration     2154.859207\n",
       "Spaces                3418.824309\n",
       "Stationery             916.916307\n",
       "Tabletop Games        4162.012169\n",
       "Taxidermy             4071.061114\n",
       "Technology            2313.441746\n",
       "Television            1674.201772\n",
       "Textiles              1678.096817\n",
       "Theater               3019.001566\n",
       "Thrillers             1919.995636\n",
       "Translations          1651.932779\n",
       "Typography            3491.457078\n",
       "Vegan                 2300.895443\n",
       "Video                  838.842853\n",
       "Video Art             1657.955464\n",
       "Video Games           1678.936351\n",
       "Wearables             3815.403618\n",
       "Weaving               1029.554598\n",
       "Web                    844.693000\n",
       "Webcomics             2456.808953\n",
       "Webseries             2332.759928\n",
       "Woodworking           1117.866027\n",
       "Workshops             1357.862474\n",
       "World Music           3164.550716\n",
       "Young Adult            923.830048\n",
       "Zines                 1601.151638\n",
       "Name: usd_pledged, dtype: float64"
      ]
     },
     "execution_count": 1552,
     "metadata": {},
     "output_type": "execute_result"
    }
   ],
   "source": [
    "df3[\"usd_pledged\"].groupby(df3[\"category\"]).mean()"
   ]
  },
  {
   "cell_type": "code",
   "execution_count": 1553,
   "metadata": {},
   "outputs": [
    {
     "data": {
      "text/plain": [
       "country\n",
       "AT    2145.329735\n",
       "AU    1548.986339\n",
       "BE    1082.979793\n",
       "CA    1808.310779\n",
       "CH    1626.978210\n",
       "DE    1638.095453\n",
       "DK     652.026842\n",
       "ES    1451.493658\n",
       "FR    2357.345180\n",
       "GB    2410.823653\n",
       "HK     157.601902\n",
       "IE    1840.914326\n",
       "IT    1236.791064\n",
       "LU    1864.686741\n",
       "MX       8.136906\n",
       "NL    2081.689048\n",
       "NO     384.765900\n",
       "NZ    1672.546481\n",
       "SE     414.290251\n",
       "SG     669.778114\n",
       "US    2639.842944\n",
       "Name: usd_pledged, dtype: float64"
      ]
     },
     "execution_count": 1553,
     "metadata": {},
     "output_type": "execute_result"
    }
   ],
   "source": [
    "df3[\"usd_pledged\"].groupby(df3[\"country\"]).mean()"
   ]
  },
  {
   "cell_type": "code",
   "execution_count": 1554,
   "metadata": {},
   "outputs": [
    {
     "data": {
      "text/plain": [
       "currency\n",
       "AUD    1548.986339\n",
       "CAD    1808.310779\n",
       "CHF    1626.978210\n",
       "DKK     652.026842\n",
       "EUR    1770.880229\n",
       "GBP    2410.823653\n",
       "HKD     157.601902\n",
       "MXN       8.136906\n",
       "NOK     384.765900\n",
       "NZD    1672.546481\n",
       "SEK     414.290251\n",
       "SGD     669.778114\n",
       "USD    2639.842944\n",
       "Name: usd_pledged, dtype: float64"
      ]
     },
     "execution_count": 1554,
     "metadata": {},
     "output_type": "execute_result"
    }
   ],
   "source": [
    "df3[\"usd_pledged\"].groupby(df3[\"currency\"]).mean()"
   ]
  },
  {
   "cell_type": "code",
   "execution_count": 1555,
   "metadata": {},
   "outputs": [
    {
     "data": {
      "text/plain": [
       "state\n",
       "failed         908.893178\n",
       "successful    5344.027738\n",
       "Name: usd_pledged, dtype: float64"
      ]
     },
     "execution_count": 1555,
     "metadata": {},
     "output_type": "execute_result"
    }
   ],
   "source": [
    "#average usd pledged by state\n",
    "\n",
    "df3[\"usd_pledged\"].groupby(df3[\"state\"]).mean()"
   ]
  },
  {
   "cell_type": "code",
   "execution_count": 1556,
   "metadata": {},
   "outputs": [
    {
     "data": {
      "text/plain": [
       "<AxesSubplot:title={'center':'Average USD Pledged per Success/Fail State'}, xlabel='state', ylabel='usd_pledged'>"
      ]
     },
     "execution_count": 1556,
     "metadata": {},
     "output_type": "execute_result"
    },
    {
     "data": {
      "image/png": "[encoded data removed]",
      "text/plain": [
       "<Figure size 432x288 with 1 Axes>"
      ]
     },
     "metadata": {
      "needs_background": "light"
     },
     "output_type": "display_data"
    }
   ],
   "source": [
    "# visualizing Average USD Pledged per State\n",
    "plt.title(\"Average USD Pledged per Success/Fail State\")\n",
    "plt.xticks(rotation = 90)\n",
    "sns.barplot(x = df3[\"state\"], y = df3[\"usd_pledged\"], ci = None)"
   ]
  },
  {
   "cell_type": "code",
   "execution_count": 1557,
   "metadata": {},
   "outputs": [
    {
     "data": {
      "text/plain": [
       "main_category\n",
       "Art             29.397723\n",
       "Comics          60.564702\n",
       "Crafts          18.204121\n",
       "Dance           40.732051\n",
       "Design          46.885274\n",
       "Fashion         25.391717\n",
       "Film & Video    34.267026\n",
       "Food            31.478817\n",
       "Games           52.103960\n",
       "Journalism      19.764014\n",
       "Music           41.777683\n",
       "Photography     26.573398\n",
       "Publishing      30.583006\n",
       "Technology      24.830719\n",
       "Theater         39.789965\n",
       "Name: backers, dtype: float64"
      ]
     },
     "execution_count": 1557,
     "metadata": {},
     "output_type": "execute_result"
    }
   ],
   "source": [
    "## average number of backers across categorical variables (groupby)\n",
    "df3[\"backers\"].groupby(df3[\"main_category\"]).mean()"
   ]
  },
  {
   "cell_type": "code",
   "execution_count": 1558,
   "metadata": {
    "scrolled": false
   },
   "outputs": [
    {
     "data": {
      "text/plain": [
       "category\n",
       "3D Printing           34.269841\n",
       "Academic              19.054482\n",
       "Accessories           34.143580\n",
       "Action                12.386364\n",
       "Animals               17.958115\n",
       "Animation             32.019329\n",
       "Anthologies           83.088889\n",
       "Apparel               20.077290\n",
       "Apps                  10.902368\n",
       "Architecture          25.614379\n",
       "Art                   30.629319\n",
       "Art Books             54.813836\n",
       "Audio                 16.335968\n",
       "Bacon                 12.916129\n",
       "Blues                 36.718232\n",
       "Calendars             43.289474\n",
       "Camera Equipment      47.111111\n",
       "Candles                9.696370\n",
       "Ceramics              38.290155\n",
       "Children's Books      35.658102\n",
       "Childrenswear         23.629139\n",
       "Chiptune              61.640000\n",
       "Civic Design          41.360825\n",
       "Classical Music       45.839888\n",
       "Comedy                33.943781\n",
       "Comic Books           60.206278\n",
       "Comics                57.034677\n",
       "Community Gardens     19.804348\n",
       "Conceptual Art        23.982544\n",
       "Cookbooks             25.632047\n",
       "Country & Folk        57.888494\n",
       "Couture               11.430108\n",
       "Crafts                18.839614\n",
       "Crochet                8.196721\n",
       "DIY                   12.006427\n",
       "DIY Electronics       55.213983\n",
       "Dance                 43.166344\n",
       "Design                39.015016\n",
       "Digital Art           19.966809\n",
       "Documentary           42.266522\n",
       "Drama                 26.470290\n",
       "Drinks                33.666892\n",
       "Electronic Music      26.640329\n",
       "Embroidery            13.214286\n",
       "Events                17.368330\n",
       "Experimental          26.282209\n",
       "Fabrication Tools     21.970588\n",
       "Faith                 35.390863\n",
       "Family                21.733032\n",
       "Fantasy               23.528205\n",
       "Farmer's Markets      13.382838\n",
       "Farms                 25.810237\n",
       "Fashion               28.356893\n",
       "Festivals             33.377207\n",
       "Fiction               21.417689\n",
       "Film & Video          27.064197\n",
       "Fine Art              23.875000\n",
       "Flight                19.379592\n",
       "Food                  38.137632\n",
       "Food Trucks           16.385392\n",
       "Footwear              33.603104\n",
       "Gadgets               39.284660\n",
       "Games                 31.433111\n",
       "Gaming Hardware       30.171123\n",
       "Glass                 16.935185\n",
       "Graphic Design        37.271723\n",
       "Graphic Novels        69.621407\n",
       "Hardware              46.458110\n",
       "Hip-Hop               12.884292\n",
       "Horror                25.333745\n",
       "Illustration          37.743474\n",
       "Immersive             39.565022\n",
       "Indie Rock            49.998945\n",
       "Installations         39.094225\n",
       "Interactive Design    25.286260\n",
       "Jazz                  53.068091\n",
       "Jewelry               17.388102\n",
       "Journalism            26.054878\n",
       "Kids                  50.338235\n",
       "Knitting              39.896825\n",
       "Latin                 35.310345\n",
       "Letterpress           65.967742\n",
       "Literary Journals     37.919786\n",
       "Live Games            17.792366\n",
       "Makerspaces           44.583333\n",
       "Metal                 30.055866\n",
       "Mixed Media           22.945463\n",
       "Mobile Games          11.248614\n",
       "Movie Theaters        32.008264\n",
       "Music                 43.424988\n",
       "Music Videos          21.602362\n",
       "Musical               36.960666\n",
       "Narrative Film        42.767824\n",
       "Nature                14.340528\n",
       "Nonfiction            28.822236\n",
       "Painting              18.469030\n",
       "People                17.962025\n",
       "Performance Art       29.090247\n",
       "Performances          38.614058\n",
       "Periodicals           46.410148\n",
       "Pet Fashion           28.215909\n",
       "Photo                 12.125000\n",
       "Photobooks            40.695829\n",
       "Photography           28.608895\n",
       "Places                10.895985\n",
       "Playing Cards         70.210903\n",
       "Plays                 34.273764\n",
       "Poetry                21.783809\n",
       "Pop                   42.201376\n",
       "Pottery               44.285714\n",
       "Print                 21.297352\n",
       "Printing              17.884354\n",
       "Product Design        51.084851\n",
       "Public Art            41.509820\n",
       "Publishing            30.190525\n",
       "Punk                  32.655660\n",
       "Puzzles               49.466165\n",
       "Quilts                18.888889\n",
       "R&B                   23.754045\n",
       "Radio & Podcasts      39.557185\n",
       "Ready-to-wear         16.182796\n",
       "Residencies           40.960784\n",
       "Restaurants           20.159341\n",
       "Robots                30.858086\n",
       "Rock                  38.133357\n",
       "Romance               25.708333\n",
       "Science Fiction       37.629386\n",
       "Sculpture             28.595035\n",
       "Shorts                35.137728\n",
       "Small Batch           31.128745\n",
       "Software              19.203117\n",
       "Sound                 35.992424\n",
       "Space Exploration     35.807692\n",
       "Spaces                39.336032\n",
       "Stationery            30.086957\n",
       "Tabletop Games        83.456792\n",
       "Taxidermy             48.555556\n",
       "Technology            26.812948\n",
       "Television            16.967742\n",
       "Textiles              21.387283\n",
       "Theater               41.527062\n",
       "Thrillers             20.857768\n",
       "Translations          27.842593\n",
       "Typography            71.929825\n",
       "Vegan                 37.264438\n",
       "Video                 11.656463\n",
       "Video Art             21.323529\n",
       "Video Games           36.337889\n",
       "Wearables             38.801743\n",
       "Weaving               17.745763\n",
       "Web                   11.027526\n",
       "Webcomics             56.052308\n",
       "Webseries             30.705765\n",
       "Woodworking           17.311218\n",
       "Workshops             21.630252\n",
       "World Music           46.173569\n",
       "Young Adult           17.746858\n",
       "Zines                 37.350806\n",
       "Name: backers, dtype: float64"
      ]
     },
     "execution_count": 1558,
     "metadata": {},
     "output_type": "execute_result"
    }
   ],
   "source": [
    "df3[\"backers\"].groupby(df3[\"category\"]).mean()"
   ]
  },
  {
   "cell_type": "code",
   "execution_count": 1559,
   "metadata": {},
   "outputs": [
    {
     "data": {
      "text/plain": [
       "country\n",
       "AT    23.869732\n",
       "AU    25.414069\n",
       "BE    19.650165\n",
       "CA    28.252365\n",
       "CH    20.395894\n",
       "DE    25.453555\n",
       "DK    15.298569\n",
       "ES    24.748252\n",
       "FR    34.442919\n",
       "GB    32.838256\n",
       "HK    11.548387\n",
       "IE    32.077273\n",
       "IT    19.590352\n",
       "LU    33.156250\n",
       "MX     9.250000\n",
       "NL    23.927252\n",
       "NO     9.865625\n",
       "NZ    28.224781\n",
       "SE    12.000000\n",
       "SG    42.327586\n",
       "US    36.847466\n",
       "Name: backers, dtype: float64"
      ]
     },
     "execution_count": 1559,
     "metadata": {},
     "output_type": "execute_result"
    }
   ],
   "source": [
    "df3[\"backers\"].groupby(df3[\"country\"]).mean()"
   ]
  },
  {
   "cell_type": "code",
   "execution_count": 1560,
   "metadata": {},
   "outputs": [
    {
     "data": {
      "text/plain": [
       "currency\n",
       "AUD    25.414069\n",
       "CAD    28.252365\n",
       "CHF    20.395894\n",
       "DKK    15.298569\n",
       "EUR    25.742547\n",
       "GBP    32.838256\n",
       "HKD    11.548387\n",
       "MXN     9.250000\n",
       "NOK     9.865625\n",
       "NZD    28.224781\n",
       "SEK    12.000000\n",
       "SGD    42.327586\n",
       "USD    36.847466\n",
       "Name: backers, dtype: float64"
      ]
     },
     "execution_count": 1560,
     "metadata": {},
     "output_type": "execute_result"
    }
   ],
   "source": [
    "df3[\"backers\"].groupby(df3[\"currency\"]).mean()"
   ]
  },
  {
   "cell_type": "code",
   "execution_count": 1561,
   "metadata": {},
   "outputs": [
    {
     "data": {
      "text/plain": [
       "state\n",
       "failed        13.089801\n",
       "successful    74.434192\n",
       "Name: backers, dtype: float64"
      ]
     },
     "execution_count": 1561,
     "metadata": {},
     "output_type": "execute_result"
    }
   ],
   "source": [
    "df3[\"backers\"].groupby(df3[\"state\"]).mean()"
   ]
  },
  {
   "cell_type": "code",
   "execution_count": 1562,
   "metadata": {},
   "outputs": [
    {
     "data": {
      "text/plain": [
       "<AxesSubplot:title={'center':'Average Number Backers per State'}, xlabel='state', ylabel='backers'>"
      ]
     },
     "execution_count": 1562,
     "metadata": {},
     "output_type": "execute_result"
    },
    {
     "data": {
      "image/png": "[encoded data removed]",
      "text/plain": [
       "<Figure size 432x288 with 1 Axes>"
      ]
     },
     "metadata": {
      "needs_background": "light"
     },
     "output_type": "display_data"
    }
   ],
   "source": [
    "# visualizing Average Number Backers per State\n",
    "plt.title(\"Average Number Backers per State\")\n",
    "plt.xticks(rotation = 90)\n",
    "sns.barplot(x = df3[\"state\"], y = df3[\"backers\"], ci = None)"
   ]
  },
  {
   "cell_type": "code",
   "execution_count": 1563,
   "metadata": {},
   "outputs": [
    {
     "data": {
      "text/plain": [
       "<AxesSubplot:title={'center':'Average Funding Goal per Main Category'}, xlabel='main_category', ylabel='goal'>"
      ]
     },
     "execution_count": 1563,
     "metadata": {},
     "output_type": "execute_result"
    },
    {
     "data": {
      "image/png": "[encoded data removed]",
      "text/plain": [
       "<Figure size 432x288 with 1 Axes>"
      ]
     },
     "metadata": {
      "needs_background": "light"
     },
     "output_type": "display_data"
    }
   ],
   "source": [
    "# visualizing Average Funding Goal per Main Category\n",
    "plt.title(\"Average Funding Goal per Main Category\")\n",
    "plt.xticks(rotation = 90)\n",
    "sns.barplot(x = df3[\"main_category\"], y = df3[\"goal\"], ci = None)"
   ]
  },
  {
   "cell_type": "code",
   "execution_count": 1564,
   "metadata": {},
   "outputs": [
    {
     "data": {
      "text/plain": [
       "<AxesSubplot:title={'center':'Average Funding Goal per State'}, xlabel='state', ylabel='goal'>"
      ]
     },
     "execution_count": 1564,
     "metadata": {},
     "output_type": "execute_result"
    },
    {
     "data": {
      "image/png": "[encoded data removed]",
      "text/plain": [
       "<Figure size 432x288 with 1 Axes>"
      ]
     },
     "metadata": {
      "needs_background": "light"
     },
     "output_type": "display_data"
    }
   ],
   "source": [
    "# visualizing Average Funding Goal per State\n",
    "plt.title(\"Average Funding Goal per State\")\n",
    "plt.xticks(rotation = 90)\n",
    "sns.barplot(x = df3[\"state\"], y = df3[\"goal\"], ci = None)"
   ]
  },
  {
   "cell_type": "code",
   "execution_count": 1565,
   "metadata": {},
   "outputs": [
    {
     "data": {
      "text/plain": [
       "<AxesSubplot:title={'center':'Avg Goal of Failed/Successful Projects by Main Category'}, xlabel='main_category', ylabel='goal'>"
      ]
     },
     "execution_count": 1565,
     "metadata": {},
     "output_type": "execute_result"
    },
    {
     "data": {
      "image/png": "[encoded data removed]",
      "text/plain": [
       "<Figure size 1080x360 with 1 Axes>"
      ]
     },
     "metadata": {
      "needs_background": "light"
     },
     "output_type": "display_data"
    }
   ],
   "source": [
    "# visualization: avg goal of failed/successful projects by main category\n",
    "\n",
    "plt.figure(figsize = (15,5))\n",
    "plt.xticks(rotation = 90)\n",
    "plt.title(\"Avg Goal of Failed/Successful Projects by Main Category\")\n",
    "sns.barplot(x = df3[\"main_category\"], y = df3[\"goal\"], hue = df3[\"state\"])"
   ]
  },
  {
   "cell_type": "code",
   "execution_count": 1566,
   "metadata": {},
   "outputs": [
    {
     "data": {
      "text/plain": [
       "<AxesSubplot:title={'center':'Average Percentage Funded per Main Category'}, xlabel='main_category', ylabel='pct_funded'>"
      ]
     },
     "execution_count": 1566,
     "metadata": {},
     "output_type": "execute_result"
    },
    {
     "data": {
      "image/png": "[encoded data removed]",
      "text/plain": [
       "<Figure size 432x288 with 1 Axes>"
      ]
     },
     "metadata": {
      "needs_background": "light"
     },
     "output_type": "display_data"
    }
   ],
   "source": [
    "# visualizing Average Percentage Funded per Main Category\n",
    "plt.title(\"Average Percentage Funded per Main Category\")\n",
    "plt.xticks(rotation = 90)\n",
    "sns.barplot(x = df3[\"main_category\"], y = df3[\"pct_funded\"], ci = None)"
   ]
  },
  {
   "cell_type": "code",
   "execution_count": 1567,
   "metadata": {},
   "outputs": [
    {
     "data": {
      "text/plain": [
       "state\n",
       "failed        34.431721\n",
       "successful    31.247128\n",
       "Name: length_days, dtype: float64"
      ]
     },
     "execution_count": 1567,
     "metadata": {},
     "output_type": "execute_result"
    }
   ],
   "source": [
    "## averages of all numeric variables grouped by state (groupby)\n",
    "df3[\"length_days\"].groupby(df3[\"state\"]).mean()\n",
    "\n",
    "#shorter projects more successful"
   ]
  },
  {
   "cell_type": "code",
   "execution_count": 1568,
   "metadata": {},
   "outputs": [
    {
     "data": {
      "text/plain": [
       "state\n",
       "failed         908.893178\n",
       "successful    5344.027738\n",
       "Name: usd_pledged, dtype: float64"
      ]
     },
     "execution_count": 1568,
     "metadata": {},
     "output_type": "execute_result"
    }
   ],
   "source": [
    "df3[\"usd_pledged\"].groupby(df3[\"state\"]).mean()"
   ]
  },
  {
   "cell_type": "code",
   "execution_count": 1569,
   "metadata": {},
   "outputs": [
    {
     "data": {
      "text/plain": [
       "state\n",
       "failed        19292.668982\n",
       "successful     4524.782705\n",
       "Name: goal, dtype: float64"
      ]
     },
     "execution_count": 1569,
     "metadata": {},
     "output_type": "execute_result"
    }
   ],
   "source": [
    "df3[\"goal\"].groupby(df3[\"state\"]).mean()\n",
    "\n",
    "#lower goal more successful"
   ]
  },
  {
   "cell_type": "code",
   "execution_count": 1570,
   "metadata": {},
   "outputs": [
    {
     "data": {
      "text/plain": [
       "<AxesSubplot:xlabel='state', ylabel='goal'>"
      ]
     },
     "execution_count": 1570,
     "metadata": {},
     "output_type": "execute_result"
    },
    {
     "data": {
      "image/png": "[encoded data removed]",
      "text/plain": [
       "<Figure size 432x288 with 1 Axes>"
      ]
     },
     "metadata": {
      "needs_background": "light"
     },
     "output_type": "display_data"
    }
   ],
   "source": [
    "#visualization of goal by state\n",
    "\n",
    "sns.barplot(data = df3, x = \"state\", y = \"goal\")"
   ]
  },
  {
   "cell_type": "code",
   "execution_count": 1571,
   "metadata": {},
   "outputs": [
    {
     "data": {
      "text/plain": [
       "state\n",
       "failed        13.089801\n",
       "successful    74.434192\n",
       "Name: backers, dtype: float64"
      ]
     },
     "execution_count": 1571,
     "metadata": {},
     "output_type": "execute_result"
    }
   ],
   "source": [
    "df3[\"backers\"].groupby(df3[\"state\"]).mean()"
   ]
  },
  {
   "cell_type": "code",
   "execution_count": 1572,
   "metadata": {},
   "outputs": [
    {
     "data": {
      "text/plain": [
       "state\n",
       "failed          8.815714\n",
       "successful    199.487527\n",
       "Name: pct_funded, dtype: float64"
      ]
     },
     "execution_count": 1572,
     "metadata": {},
     "output_type": "execute_result"
    }
   ],
   "source": [
    "df3[\"pct_funded\"].groupby(df3[\"state\"]).mean()"
   ]
  },
  {
   "cell_type": "code",
   "execution_count": 1573,
   "metadata": {},
   "outputs": [
    {
     "data": {
      "text/plain": [
       "state\n",
       "failed              NaN\n",
       "successful    79.447103\n",
       "Name: avg_pledge_per_backer, dtype: float64"
      ]
     },
     "execution_count": 1573,
     "metadata": {},
     "output_type": "execute_result"
    }
   ],
   "source": [
    "df3[\"avg_pledge_per_backer\"].groupby(df3[\"state\"]).mean()"
   ]
  },
  {
   "cell_type": "code",
   "execution_count": 1574,
   "metadata": {},
   "outputs": [
    {
     "data": {
      "text/html": [
       "<div>\n",
       "<style scoped>\n",
       "    .dataframe tbody tr th:only-of-type {\n",
       "        vertical-align: middle;\n",
       "    }\n",
       "\n",
       "    .dataframe tbody tr th {\n",
       "        vertical-align: top;\n",
       "    }\n",
       "\n",
       "    .dataframe thead th {\n",
       "        text-align: right;\n",
       "    }\n",
       "</style>\n",
       "<table border=\"1\" class=\"dataframe\">\n",
       "  <thead>\n",
       "    <tr style=\"text-align: right;\">\n",
       "      <th></th>\n",
       "      <th>length_days</th>\n",
       "      <th>goal</th>\n",
       "      <th>pledged</th>\n",
       "      <th>backers</th>\n",
       "      <th>usd_pledged</th>\n",
       "      <th>pct_funded</th>\n",
       "      <th>avg_pledge_per_backer</th>\n",
       "      <th>zscore_pct_funded</th>\n",
       "      <th>zscore_usd_pledged</th>\n",
       "      <th>zscore_length_days</th>\n",
       "      <th>zscore_goal</th>\n",
       "      <th>zscore_backers</th>\n",
       "      <th>zscore_pledged</th>\n",
       "    </tr>\n",
       "  </thead>\n",
       "  <tbody>\n",
       "    <tr>\n",
       "      <th>count</th>\n",
       "      <td>255455.000000</td>\n",
       "      <td>255455.000000</td>\n",
       "      <td>255455.000000</td>\n",
       "      <td>255455.000000</td>\n",
       "      <td>255455.000000</td>\n",
       "      <td>255455.000000</td>\n",
       "      <td>2.232730e+05</td>\n",
       "      <td>2.554550e+05</td>\n",
       "      <td>2.554550e+05</td>\n",
       "      <td>255455.000000</td>\n",
       "      <td>255455.000000</td>\n",
       "      <td>255455.000000</td>\n",
       "      <td>255455.000000</td>\n",
       "    </tr>\n",
       "    <tr>\n",
       "      <th>mean</th>\n",
       "      <td>33.272948</td>\n",
       "      <td>13919.101953</td>\n",
       "      <td>2614.332991</td>\n",
       "      <td>35.411086</td>\n",
       "      <td>2522.698457</td>\n",
       "      <td>78.195160</td>\n",
       "      <td>inf</td>\n",
       "      <td>1.078983e-02</td>\n",
       "      <td>8.066917e-02</td>\n",
       "      <td>0.722176</td>\n",
       "      <td>0.199706</td>\n",
       "      <td>0.486872</td>\n",
       "      <td>0.472834</td>\n",
       "    </tr>\n",
       "    <tr>\n",
       "      <th>std</th>\n",
       "      <td>11.758320</td>\n",
       "      <td>29649.745813</td>\n",
       "      <td>4471.019643</td>\n",
       "      <td>52.931812</td>\n",
       "      <td>4447.549886</td>\n",
       "      <td>739.976193</td>\n",
       "      <td>NaN</td>\n",
       "      <td>2.669576e-02</td>\n",
       "      <td>2.806996e-02</td>\n",
       "      <td>0.685540</td>\n",
       "      <td>0.245819</td>\n",
       "      <td>0.399614</td>\n",
       "      <td>0.360061</td>\n",
       "    </tr>\n",
       "    <tr>\n",
       "      <th>min</th>\n",
       "      <td>1.000000</td>\n",
       "      <td>0.150000</td>\n",
       "      <td>0.000000</td>\n",
       "      <td>0.000000</td>\n",
       "      <td>0.000000</td>\n",
       "      <td>0.000000</td>\n",
       "      <td>0.000000e+00</td>\n",
       "      <td>2.893195e-08</td>\n",
       "      <td>3.859857e-07</td>\n",
       "      <td>0.029036</td>\n",
       "      <td>0.000174</td>\n",
       "      <td>0.005743</td>\n",
       "      <td>0.000003</td>\n",
       "    </tr>\n",
       "    <tr>\n",
       "      <th>25%</th>\n",
       "      <td>30.000000</td>\n",
       "      <td>1800.000000</td>\n",
       "      <td>35.000000</td>\n",
       "      <td>2.000000</td>\n",
       "      <td>29.862143</td>\n",
       "      <td>0.555556</td>\n",
       "      <td>2.258333e+01</td>\n",
       "      <td>8.140227e-03</td>\n",
       "      <td>7.013241e-02</td>\n",
       "      <td>0.283084</td>\n",
       "      <td>0.121222</td>\n",
       "      <td>0.298934</td>\n",
       "      <td>0.322042</td>\n",
       "    </tr>\n",
       "    <tr>\n",
       "      <th>50%</th>\n",
       "      <td>30.000000</td>\n",
       "      <td>5000.000000</td>\n",
       "      <td>575.000000</td>\n",
       "      <td>12.000000</td>\n",
       "      <td>520.000000</td>\n",
       "      <td>14.000000</td>\n",
       "      <td>4.500000e+01</td>\n",
       "      <td>1.152322e-02</td>\n",
       "      <td>9.266324e-02</td>\n",
       "      <td>0.283084</td>\n",
       "      <td>0.177523</td>\n",
       "      <td>0.463363</td>\n",
       "      <td>0.474774</td>\n",
       "    </tr>\n",
       "    <tr>\n",
       "      <th>75%</th>\n",
       "      <td>35.000000</td>\n",
       "      <td>12000.000000</td>\n",
       "      <td>3125.000000</td>\n",
       "      <td>47.000000</td>\n",
       "      <td>3000.000000</td>\n",
       "      <td>105.285714</td>\n",
       "      <td>7.781818e+01</td>\n",
       "      <td>1.198459e-02</td>\n",
       "      <td>9.725916e-02</td>\n",
       "      <td>0.987156</td>\n",
       "      <td>0.203589</td>\n",
       "      <td>0.522001</td>\n",
       "      <td>0.501419</td>\n",
       "    </tr>\n",
       "    <tr>\n",
       "      <th>max</th>\n",
       "      <td>68.000000</td>\n",
       "      <td>308124.000000</td>\n",
       "      <td>27462.000000</td>\n",
       "      <td>300.000000</td>\n",
       "      <td>44262.811260</td>\n",
       "      <td>81100.000000</td>\n",
       "      <td>inf</td>\n",
       "      <td>2.981383e+00</td>\n",
       "      <td>4.075841e-01</td>\n",
       "      <td>2.934858</td>\n",
       "      <td>2.998539</td>\n",
       "      <td>2.996291</td>\n",
       "      <td>2.999572</td>\n",
       "    </tr>\n",
       "  </tbody>\n",
       "</table>\n",
       "</div>"
      ],
      "text/plain": [
       "         length_days           goal        pledged        backers  \\\n",
       "count  255455.000000  255455.000000  255455.000000  255455.000000   \n",
       "mean       33.272948   13919.101953    2614.332991      35.411086   \n",
       "std        11.758320   29649.745813    4471.019643      52.931812   \n",
       "min         1.000000       0.150000       0.000000       0.000000   \n",
       "25%        30.000000    1800.000000      35.000000       2.000000   \n",
       "50%        30.000000    5000.000000     575.000000      12.000000   \n",
       "75%        35.000000   12000.000000    3125.000000      47.000000   \n",
       "max        68.000000  308124.000000   27462.000000     300.000000   \n",
       "\n",
       "         usd_pledged     pct_funded  avg_pledge_per_backer  zscore_pct_funded  \\\n",
       "count  255455.000000  255455.000000           2.232730e+05       2.554550e+05   \n",
       "mean     2522.698457      78.195160                    inf       1.078983e-02   \n",
       "std      4447.549886     739.976193                    NaN       2.669576e-02   \n",
       "min         0.000000       0.000000           0.000000e+00       2.893195e-08   \n",
       "25%        29.862143       0.555556           2.258333e+01       8.140227e-03   \n",
       "50%       520.000000      14.000000           4.500000e+01       1.152322e-02   \n",
       "75%      3000.000000     105.285714           7.781818e+01       1.198459e-02   \n",
       "max     44262.811260   81100.000000                    inf       2.981383e+00   \n",
       "\n",
       "       zscore_usd_pledged  zscore_length_days    zscore_goal  zscore_backers  \\\n",
       "count        2.554550e+05       255455.000000  255455.000000   255455.000000   \n",
       "mean         8.066917e-02            0.722176       0.199706        0.486872   \n",
       "std          2.806996e-02            0.685540       0.245819        0.399614   \n",
       "min          3.859857e-07            0.029036       0.000174        0.005743   \n",
       "25%          7.013241e-02            0.283084       0.121222        0.298934   \n",
       "50%          9.266324e-02            0.283084       0.177523        0.463363   \n",
       "75%          9.725916e-02            0.987156       0.203589        0.522001   \n",
       "max          4.075841e-01            2.934858       2.998539        2.996291   \n",
       "\n",
       "       zscore_pledged  \n",
       "count   255455.000000  \n",
       "mean         0.472834  \n",
       "std          0.360061  \n",
       "min          0.000003  \n",
       "25%          0.322042  \n",
       "50%          0.474774  \n",
       "75%          0.501419  \n",
       "max          2.999572  "
      ]
     },
     "execution_count": 1574,
     "metadata": {},
     "output_type": "execute_result"
    }
   ],
   "source": [
    "df3.describe()"
   ]
  },
  {
   "cell_type": "markdown",
   "metadata": {},
   "source": [
    "# BINNING"
   ]
  },
  {
   "cell_type": "code",
   "execution_count": 1575,
   "metadata": {
    "scrolled": false
   },
   "outputs": [
    {
     "data": {
      "text/html": [
       "<div>\n",
       "<style scoped>\n",
       "    .dataframe tbody tr th:only-of-type {\n",
       "        vertical-align: middle;\n",
       "    }\n",
       "\n",
       "    .dataframe tbody tr th {\n",
       "        vertical-align: top;\n",
       "    }\n",
       "\n",
       "    .dataframe thead th {\n",
       "        text-align: right;\n",
       "    }\n",
       "</style>\n",
       "<table border=\"1\" class=\"dataframe\">\n",
       "  <thead>\n",
       "    <tr style=\"text-align: right;\">\n",
       "      <th></th>\n",
       "      <th>main_category</th>\n",
       "      <th>category</th>\n",
       "      <th>country</th>\n",
       "      <th>currency</th>\n",
       "      <th>length_days</th>\n",
       "      <th>goal</th>\n",
       "      <th>pledged</th>\n",
       "      <th>backers</th>\n",
       "      <th>state</th>\n",
       "      <th>usd_pledged</th>\n",
       "      <th>pct_funded</th>\n",
       "      <th>avg_pledge_per_backer</th>\n",
       "      <th>zscore_pct_funded</th>\n",
       "      <th>zscore_usd_pledged</th>\n",
       "      <th>zscore_length_days</th>\n",
       "      <th>zscore_goal</th>\n",
       "      <th>zscore_backers</th>\n",
       "      <th>zscore_pledged</th>\n",
       "      <th>backers_group</th>\n",
       "    </tr>\n",
       "  </thead>\n",
       "  <tbody>\n",
       "    <tr>\n",
       "      <th>0</th>\n",
       "      <td>Food</td>\n",
       "      <td>Cookbooks</td>\n",
       "      <td>US</td>\n",
       "      <td>USD</td>\n",
       "      <td>29</td>\n",
       "      <td>13730.0</td>\n",
       "      <td>3984.0</td>\n",
       "      <td>46</td>\n",
       "      <td>failed</td>\n",
       "      <td>3984.000000</td>\n",
       "      <td>29.016752</td>\n",
       "      <td>86.608696</td>\n",
       "      <td>0.010932</td>\n",
       "      <td>0.052027</td>\n",
       "      <td>0.367767</td>\n",
       "      <td>0.070863</td>\n",
       "      <td>0.017470</td>\n",
       "      <td>0.006372</td>\n",
       "      <td>20-59</td>\n",
       "    </tr>\n",
       "    <tr>\n",
       "      <th>1</th>\n",
       "      <td>Technology</td>\n",
       "      <td>3D Printing</td>\n",
       "      <td>AT</td>\n",
       "      <td>EUR</td>\n",
       "      <td>35</td>\n",
       "      <td>75000.0</td>\n",
       "      <td>7386.0</td>\n",
       "      <td>31</td>\n",
       "      <td>failed</td>\n",
       "      <td>1561.784015</td>\n",
       "      <td>9.848000</td>\n",
       "      <td>50.380130</td>\n",
       "      <td>0.011640</td>\n",
       "      <td>0.079666</td>\n",
       "      <td>0.140329</td>\n",
       "      <td>0.567948</td>\n",
       "      <td>0.158444</td>\n",
       "      <td>0.440091</td>\n",
       "      <td>20-59</td>\n",
       "    </tr>\n",
       "    <tr>\n",
       "      <th>2</th>\n",
       "      <td>Technology</td>\n",
       "      <td>3D Printing</td>\n",
       "      <td>AT</td>\n",
       "      <td>EUR</td>\n",
       "      <td>30</td>\n",
       "      <td>15000.0</td>\n",
       "      <td>3834.0</td>\n",
       "      <td>46</td>\n",
       "      <td>failed</td>\n",
       "      <td>4152.402045</td>\n",
       "      <td>25.560000</td>\n",
       "      <td>90.269610</td>\n",
       "      <td>0.011060</td>\n",
       "      <td>0.050105</td>\n",
       "      <td>0.283084</td>\n",
       "      <td>0.057622</td>\n",
       "      <td>0.017470</td>\n",
       "      <td>0.012752</td>\n",
       "      <td>20-59</td>\n",
       "    </tr>\n",
       "    <tr>\n",
       "      <th>3</th>\n",
       "      <td>Technology</td>\n",
       "      <td>3D Printing</td>\n",
       "      <td>AT</td>\n",
       "      <td>EUR</td>\n",
       "      <td>30</td>\n",
       "      <td>20000.0</td>\n",
       "      <td>18.0</td>\n",
       "      <td>6</td>\n",
       "      <td>failed</td>\n",
       "      <td>19.435528</td>\n",
       "      <td>0.090000</td>\n",
       "      <td>3.239255</td>\n",
       "      <td>0.012000</td>\n",
       "      <td>0.097266</td>\n",
       "      <td>0.283084</td>\n",
       "      <td>0.005491</td>\n",
       "      <td>0.451635</td>\n",
       "      <td>0.499252</td>\n",
       "      <td>5-19</td>\n",
       "    </tr>\n",
       "    <tr>\n",
       "      <th>4</th>\n",
       "      <td>Technology</td>\n",
       "      <td>3D Printing</td>\n",
       "      <td>AT</td>\n",
       "      <td>EUR</td>\n",
       "      <td>40</td>\n",
       "      <td>20000.0</td>\n",
       "      <td>2598.0</td>\n",
       "      <td>29</td>\n",
       "      <td>failed</td>\n",
       "      <td>2908.076574</td>\n",
       "      <td>12.990000</td>\n",
       "      <td>100.278503</td>\n",
       "      <td>0.011524</td>\n",
       "      <td>0.064304</td>\n",
       "      <td>0.563743</td>\n",
       "      <td>0.005491</td>\n",
       "      <td>0.181900</td>\n",
       "      <td>0.170329</td>\n",
       "      <td>20-59</td>\n",
       "    </tr>\n",
       "  </tbody>\n",
       "</table>\n",
       "</div>"
      ],
      "text/plain": [
       "  main_category     category country currency  length_days     goal  pledged  \\\n",
       "0          Food    Cookbooks      US      USD           29  13730.0   3984.0   \n",
       "1    Technology  3D Printing      AT      EUR           35  75000.0   7386.0   \n",
       "2    Technology  3D Printing      AT      EUR           30  15000.0   3834.0   \n",
       "3    Technology  3D Printing      AT      EUR           30  20000.0     18.0   \n",
       "4    Technology  3D Printing      AT      EUR           40  20000.0   2598.0   \n",
       "\n",
       "   backers   state  usd_pledged  pct_funded  avg_pledge_per_backer  \\\n",
       "0       46  failed  3984.000000   29.016752              86.608696   \n",
       "1       31  failed  1561.784015    9.848000              50.380130   \n",
       "2       46  failed  4152.402045   25.560000              90.269610   \n",
       "3        6  failed    19.435528    0.090000               3.239255   \n",
       "4       29  failed  2908.076574   12.990000             100.278503   \n",
       "\n",
       "   zscore_pct_funded  zscore_usd_pledged  zscore_length_days  zscore_goal  \\\n",
       "0           0.010932            0.052027            0.367767     0.070863   \n",
       "1           0.011640            0.079666            0.140329     0.567948   \n",
       "2           0.011060            0.050105            0.283084     0.057622   \n",
       "3           0.012000            0.097266            0.283084     0.005491   \n",
       "4           0.011524            0.064304            0.563743     0.005491   \n",
       "\n",
       "   zscore_backers  zscore_pledged backers_group  \n",
       "0        0.017470        0.006372         20-59  \n",
       "1        0.158444        0.440091         20-59  \n",
       "2        0.017470        0.012752         20-59  \n",
       "3        0.451635        0.499252          5-19  \n",
       "4        0.181900        0.170329         20-59  "
      ]
     },
     "execution_count": 1575,
     "metadata": {},
     "output_type": "execute_result"
    }
   ],
   "source": [
    "# create bins for number of backers\n",
    "\n",
    "bins = [0, 5, 20, 60, 100, 150000]\n",
    "bin_labels = [\"0-4\", \"5-19\", \"20-59\", \"60-99\", \"100+\"]\n",
    "\n",
    "df3[\"backers_group\"] = pd.cut(df3[\"backers\"], bins, labels = bin_labels)\n",
    "\n",
    "df3.head()"
   ]
  },
  {
   "cell_type": "code",
   "execution_count": 1576,
   "metadata": {},
   "outputs": [
    {
     "data": {
      "text/html": [
       "<div>\n",
       "<style scoped>\n",
       "    .dataframe tbody tr th:only-of-type {\n",
       "        vertical-align: middle;\n",
       "    }\n",
       "\n",
       "    .dataframe tbody tr th {\n",
       "        vertical-align: top;\n",
       "    }\n",
       "\n",
       "    .dataframe thead th {\n",
       "        text-align: right;\n",
       "    }\n",
       "</style>\n",
       "<table border=\"1\" class=\"dataframe\">\n",
       "  <thead>\n",
       "    <tr style=\"text-align: right;\">\n",
       "      <th></th>\n",
       "      <th>main_category</th>\n",
       "      <th>category</th>\n",
       "      <th>country</th>\n",
       "      <th>currency</th>\n",
       "      <th>length_days</th>\n",
       "      <th>goal</th>\n",
       "      <th>pledged</th>\n",
       "      <th>backers</th>\n",
       "      <th>state</th>\n",
       "      <th>usd_pledged</th>\n",
       "      <th>pct_funded</th>\n",
       "      <th>avg_pledge_per_backer</th>\n",
       "      <th>zscore_pct_funded</th>\n",
       "      <th>zscore_usd_pledged</th>\n",
       "      <th>zscore_length_days</th>\n",
       "      <th>zscore_goal</th>\n",
       "      <th>zscore_backers</th>\n",
       "      <th>zscore_pledged</th>\n",
       "      <th>backers_group</th>\n",
       "      <th>usd_pledged_group</th>\n",
       "    </tr>\n",
       "  </thead>\n",
       "  <tbody>\n",
       "    <tr>\n",
       "      <th>0</th>\n",
       "      <td>Food</td>\n",
       "      <td>Cookbooks</td>\n",
       "      <td>US</td>\n",
       "      <td>USD</td>\n",
       "      <td>29</td>\n",
       "      <td>13730.0</td>\n",
       "      <td>3984.0</td>\n",
       "      <td>46</td>\n",
       "      <td>failed</td>\n",
       "      <td>3984.000000</td>\n",
       "      <td>29.016752</td>\n",
       "      <td>86.608696</td>\n",
       "      <td>0.010932</td>\n",
       "      <td>0.052027</td>\n",
       "      <td>0.367767</td>\n",
       "      <td>0.070863</td>\n",
       "      <td>0.017470</td>\n",
       "      <td>0.006372</td>\n",
       "      <td>20-59</td>\n",
       "      <td>1,000-4,999</td>\n",
       "    </tr>\n",
       "    <tr>\n",
       "      <th>1</th>\n",
       "      <td>Technology</td>\n",
       "      <td>3D Printing</td>\n",
       "      <td>AT</td>\n",
       "      <td>EUR</td>\n",
       "      <td>35</td>\n",
       "      <td>75000.0</td>\n",
       "      <td>7386.0</td>\n",
       "      <td>31</td>\n",
       "      <td>failed</td>\n",
       "      <td>1561.784015</td>\n",
       "      <td>9.848000</td>\n",
       "      <td>50.380130</td>\n",
       "      <td>0.011640</td>\n",
       "      <td>0.079666</td>\n",
       "      <td>0.140329</td>\n",
       "      <td>0.567948</td>\n",
       "      <td>0.158444</td>\n",
       "      <td>0.440091</td>\n",
       "      <td>20-59</td>\n",
       "      <td>1,000-4,999</td>\n",
       "    </tr>\n",
       "    <tr>\n",
       "      <th>2</th>\n",
       "      <td>Technology</td>\n",
       "      <td>3D Printing</td>\n",
       "      <td>AT</td>\n",
       "      <td>EUR</td>\n",
       "      <td>30</td>\n",
       "      <td>15000.0</td>\n",
       "      <td>3834.0</td>\n",
       "      <td>46</td>\n",
       "      <td>failed</td>\n",
       "      <td>4152.402045</td>\n",
       "      <td>25.560000</td>\n",
       "      <td>90.269610</td>\n",
       "      <td>0.011060</td>\n",
       "      <td>0.050105</td>\n",
       "      <td>0.283084</td>\n",
       "      <td>0.057622</td>\n",
       "      <td>0.017470</td>\n",
       "      <td>0.012752</td>\n",
       "      <td>20-59</td>\n",
       "      <td>1,000-4,999</td>\n",
       "    </tr>\n",
       "    <tr>\n",
       "      <th>3</th>\n",
       "      <td>Technology</td>\n",
       "      <td>3D Printing</td>\n",
       "      <td>AT</td>\n",
       "      <td>EUR</td>\n",
       "      <td>30</td>\n",
       "      <td>20000.0</td>\n",
       "      <td>18.0</td>\n",
       "      <td>6</td>\n",
       "      <td>failed</td>\n",
       "      <td>19.435528</td>\n",
       "      <td>0.090000</td>\n",
       "      <td>3.239255</td>\n",
       "      <td>0.012000</td>\n",
       "      <td>0.097266</td>\n",
       "      <td>0.283084</td>\n",
       "      <td>0.005491</td>\n",
       "      <td>0.451635</td>\n",
       "      <td>0.499252</td>\n",
       "      <td>5-19</td>\n",
       "      <td>0-99</td>\n",
       "    </tr>\n",
       "    <tr>\n",
       "      <th>4</th>\n",
       "      <td>Technology</td>\n",
       "      <td>3D Printing</td>\n",
       "      <td>AT</td>\n",
       "      <td>EUR</td>\n",
       "      <td>40</td>\n",
       "      <td>20000.0</td>\n",
       "      <td>2598.0</td>\n",
       "      <td>29</td>\n",
       "      <td>failed</td>\n",
       "      <td>2908.076574</td>\n",
       "      <td>12.990000</td>\n",
       "      <td>100.278503</td>\n",
       "      <td>0.011524</td>\n",
       "      <td>0.064304</td>\n",
       "      <td>0.563743</td>\n",
       "      <td>0.005491</td>\n",
       "      <td>0.181900</td>\n",
       "      <td>0.170329</td>\n",
       "      <td>20-59</td>\n",
       "      <td>1,000-4,999</td>\n",
       "    </tr>\n",
       "  </tbody>\n",
       "</table>\n",
       "</div>"
      ],
      "text/plain": [
       "  main_category     category country currency  length_days     goal  pledged  \\\n",
       "0          Food    Cookbooks      US      USD           29  13730.0   3984.0   \n",
       "1    Technology  3D Printing      AT      EUR           35  75000.0   7386.0   \n",
       "2    Technology  3D Printing      AT      EUR           30  15000.0   3834.0   \n",
       "3    Technology  3D Printing      AT      EUR           30  20000.0     18.0   \n",
       "4    Technology  3D Printing      AT      EUR           40  20000.0   2598.0   \n",
       "\n",
       "   backers   state  usd_pledged  pct_funded  avg_pledge_per_backer  \\\n",
       "0       46  failed  3984.000000   29.016752              86.608696   \n",
       "1       31  failed  1561.784015    9.848000              50.380130   \n",
       "2       46  failed  4152.402045   25.560000              90.269610   \n",
       "3        6  failed    19.435528    0.090000               3.239255   \n",
       "4       29  failed  2908.076574   12.990000             100.278503   \n",
       "\n",
       "   zscore_pct_funded  zscore_usd_pledged  zscore_length_days  zscore_goal  \\\n",
       "0           0.010932            0.052027            0.367767     0.070863   \n",
       "1           0.011640            0.079666            0.140329     0.567948   \n",
       "2           0.011060            0.050105            0.283084     0.057622   \n",
       "3           0.012000            0.097266            0.283084     0.005491   \n",
       "4           0.011524            0.064304            0.563743     0.005491   \n",
       "\n",
       "   zscore_backers  zscore_pledged backers_group usd_pledged_group  \n",
       "0        0.017470        0.006372         20-59       1,000-4,999  \n",
       "1        0.158444        0.440091         20-59       1,000-4,999  \n",
       "2        0.017470        0.012752         20-59       1,000-4,999  \n",
       "3        0.451635        0.499252          5-19              0-99  \n",
       "4        0.181900        0.170329         20-59       1,000-4,999  "
      ]
     },
     "execution_count": 1576,
     "metadata": {},
     "output_type": "execute_result"
    }
   ],
   "source": [
    "# create bins for usd pledged\n",
    "\n",
    "bins = [0, 100, 1000, 5000, 100000, 300000]\n",
    "bin_labels = [\"0-99\", \"100-999\", \"1,000-4,999\", \"5,000-99,999\", \"100,000-300,000\"]\n",
    "\n",
    "df3[\"usd_pledged_group\"] = pd.cut(df3[\"usd_pledged\"], bins, labels = bin_labels)\n",
    "\n",
    "df3.head()"
   ]
  },
  {
   "cell_type": "code",
   "execution_count": 1577,
   "metadata": {
    "scrolled": false
   },
   "outputs": [
    {
     "data": {
      "text/html": [
       "<div>\n",
       "<style scoped>\n",
       "    .dataframe tbody tr th:only-of-type {\n",
       "        vertical-align: middle;\n",
       "    }\n",
       "\n",
       "    .dataframe tbody tr th {\n",
       "        vertical-align: top;\n",
       "    }\n",
       "\n",
       "    .dataframe thead th {\n",
       "        text-align: right;\n",
       "    }\n",
       "</style>\n",
       "<table border=\"1\" class=\"dataframe\">\n",
       "  <thead>\n",
       "    <tr style=\"text-align: right;\">\n",
       "      <th></th>\n",
       "      <th>main_category</th>\n",
       "      <th>category</th>\n",
       "      <th>country</th>\n",
       "      <th>currency</th>\n",
       "      <th>length_days</th>\n",
       "      <th>goal</th>\n",
       "      <th>pledged</th>\n",
       "      <th>backers</th>\n",
       "      <th>state</th>\n",
       "      <th>usd_pledged</th>\n",
       "      <th>...</th>\n",
       "      <th>avg_pledge_per_backer</th>\n",
       "      <th>zscore_pct_funded</th>\n",
       "      <th>zscore_usd_pledged</th>\n",
       "      <th>zscore_length_days</th>\n",
       "      <th>zscore_goal</th>\n",
       "      <th>zscore_backers</th>\n",
       "      <th>zscore_pledged</th>\n",
       "      <th>backers_group</th>\n",
       "      <th>usd_pledged_group</th>\n",
       "      <th>pct_funded_group</th>\n",
       "    </tr>\n",
       "  </thead>\n",
       "  <tbody>\n",
       "    <tr>\n",
       "      <th>0</th>\n",
       "      <td>Food</td>\n",
       "      <td>Cookbooks</td>\n",
       "      <td>US</td>\n",
       "      <td>USD</td>\n",
       "      <td>29</td>\n",
       "      <td>13730.0</td>\n",
       "      <td>3984.0</td>\n",
       "      <td>46</td>\n",
       "      <td>failed</td>\n",
       "      <td>3984.000000</td>\n",
       "      <td>...</td>\n",
       "      <td>86.608696</td>\n",
       "      <td>0.010932</td>\n",
       "      <td>0.052027</td>\n",
       "      <td>0.367767</td>\n",
       "      <td>0.070863</td>\n",
       "      <td>0.017470</td>\n",
       "      <td>0.006372</td>\n",
       "      <td>20-59</td>\n",
       "      <td>1,000-4,999</td>\n",
       "      <td>0-49</td>\n",
       "    </tr>\n",
       "    <tr>\n",
       "      <th>1</th>\n",
       "      <td>Technology</td>\n",
       "      <td>3D Printing</td>\n",
       "      <td>AT</td>\n",
       "      <td>EUR</td>\n",
       "      <td>35</td>\n",
       "      <td>75000.0</td>\n",
       "      <td>7386.0</td>\n",
       "      <td>31</td>\n",
       "      <td>failed</td>\n",
       "      <td>1561.784015</td>\n",
       "      <td>...</td>\n",
       "      <td>50.380130</td>\n",
       "      <td>0.011640</td>\n",
       "      <td>0.079666</td>\n",
       "      <td>0.140329</td>\n",
       "      <td>0.567948</td>\n",
       "      <td>0.158444</td>\n",
       "      <td>0.440091</td>\n",
       "      <td>20-59</td>\n",
       "      <td>1,000-4,999</td>\n",
       "      <td>0-49</td>\n",
       "    </tr>\n",
       "    <tr>\n",
       "      <th>2</th>\n",
       "      <td>Technology</td>\n",
       "      <td>3D Printing</td>\n",
       "      <td>AT</td>\n",
       "      <td>EUR</td>\n",
       "      <td>30</td>\n",
       "      <td>15000.0</td>\n",
       "      <td>3834.0</td>\n",
       "      <td>46</td>\n",
       "      <td>failed</td>\n",
       "      <td>4152.402045</td>\n",
       "      <td>...</td>\n",
       "      <td>90.269610</td>\n",
       "      <td>0.011060</td>\n",
       "      <td>0.050105</td>\n",
       "      <td>0.283084</td>\n",
       "      <td>0.057622</td>\n",
       "      <td>0.017470</td>\n",
       "      <td>0.012752</td>\n",
       "      <td>20-59</td>\n",
       "      <td>1,000-4,999</td>\n",
       "      <td>0-49</td>\n",
       "    </tr>\n",
       "    <tr>\n",
       "      <th>3</th>\n",
       "      <td>Technology</td>\n",
       "      <td>3D Printing</td>\n",
       "      <td>AT</td>\n",
       "      <td>EUR</td>\n",
       "      <td>30</td>\n",
       "      <td>20000.0</td>\n",
       "      <td>18.0</td>\n",
       "      <td>6</td>\n",
       "      <td>failed</td>\n",
       "      <td>19.435528</td>\n",
       "      <td>...</td>\n",
       "      <td>3.239255</td>\n",
       "      <td>0.012000</td>\n",
       "      <td>0.097266</td>\n",
       "      <td>0.283084</td>\n",
       "      <td>0.005491</td>\n",
       "      <td>0.451635</td>\n",
       "      <td>0.499252</td>\n",
       "      <td>5-19</td>\n",
       "      <td>0-99</td>\n",
       "      <td>0-49</td>\n",
       "    </tr>\n",
       "    <tr>\n",
       "      <th>4</th>\n",
       "      <td>Technology</td>\n",
       "      <td>3D Printing</td>\n",
       "      <td>AT</td>\n",
       "      <td>EUR</td>\n",
       "      <td>40</td>\n",
       "      <td>20000.0</td>\n",
       "      <td>2598.0</td>\n",
       "      <td>29</td>\n",
       "      <td>failed</td>\n",
       "      <td>2908.076574</td>\n",
       "      <td>...</td>\n",
       "      <td>100.278503</td>\n",
       "      <td>0.011524</td>\n",
       "      <td>0.064304</td>\n",
       "      <td>0.563743</td>\n",
       "      <td>0.005491</td>\n",
       "      <td>0.181900</td>\n",
       "      <td>0.170329</td>\n",
       "      <td>20-59</td>\n",
       "      <td>1,000-4,999</td>\n",
       "      <td>0-49</td>\n",
       "    </tr>\n",
       "  </tbody>\n",
       "</table>\n",
       "<p>5 rows × 21 columns</p>\n",
       "</div>"
      ],
      "text/plain": [
       "  main_category     category country currency  length_days     goal  pledged  \\\n",
       "0          Food    Cookbooks      US      USD           29  13730.0   3984.0   \n",
       "1    Technology  3D Printing      AT      EUR           35  75000.0   7386.0   \n",
       "2    Technology  3D Printing      AT      EUR           30  15000.0   3834.0   \n",
       "3    Technology  3D Printing      AT      EUR           30  20000.0     18.0   \n",
       "4    Technology  3D Printing      AT      EUR           40  20000.0   2598.0   \n",
       "\n",
       "   backers   state  usd_pledged  ...  avg_pledge_per_backer  \\\n",
       "0       46  failed  3984.000000  ...              86.608696   \n",
       "1       31  failed  1561.784015  ...              50.380130   \n",
       "2       46  failed  4152.402045  ...              90.269610   \n",
       "3        6  failed    19.435528  ...               3.239255   \n",
       "4       29  failed  2908.076574  ...             100.278503   \n",
       "\n",
       "   zscore_pct_funded  zscore_usd_pledged  zscore_length_days  zscore_goal  \\\n",
       "0           0.010932            0.052027            0.367767     0.070863   \n",
       "1           0.011640            0.079666            0.140329     0.567948   \n",
       "2           0.011060            0.050105            0.283084     0.057622   \n",
       "3           0.012000            0.097266            0.283084     0.005491   \n",
       "4           0.011524            0.064304            0.563743     0.005491   \n",
       "\n",
       "   zscore_backers  zscore_pledged  backers_group usd_pledged_group  \\\n",
       "0        0.017470        0.006372          20-59       1,000-4,999   \n",
       "1        0.158444        0.440091          20-59       1,000-4,999   \n",
       "2        0.017470        0.012752          20-59       1,000-4,999   \n",
       "3        0.451635        0.499252           5-19              0-99   \n",
       "4        0.181900        0.170329          20-59       1,000-4,999   \n",
       "\n",
       "  pct_funded_group  \n",
       "0             0-49  \n",
       "1             0-49  \n",
       "2             0-49  \n",
       "3             0-49  \n",
       "4             0-49  \n",
       "\n",
       "[5 rows x 21 columns]"
      ]
     },
     "execution_count": 1577,
     "metadata": {},
     "output_type": "execute_result"
    }
   ],
   "source": [
    "# create bins for pct_funded\n",
    "\n",
    "bins = [0, 50, 90, 100, 110, 550000]\n",
    "bin_labels = [\"0-49\", \"50-89\", \"90-99\", \"100-109\", \"110+\"]\n",
    "\n",
    "df3[\"pct_funded_group\"] = pd.cut(df3[\"pct_funded\"], bins, labels = bin_labels)\n",
    "\n",
    "df3.head()"
   ]
  },
  {
   "cell_type": "code",
   "execution_count": 1578,
   "metadata": {},
   "outputs": [
    {
     "data": {
      "text/html": [
       "<div>\n",
       "<style scoped>\n",
       "    .dataframe tbody tr th:only-of-type {\n",
       "        vertical-align: middle;\n",
       "    }\n",
       "\n",
       "    .dataframe tbody tr th {\n",
       "        vertical-align: top;\n",
       "    }\n",
       "\n",
       "    .dataframe thead th {\n",
       "        text-align: right;\n",
       "    }\n",
       "</style>\n",
       "<table border=\"1\" class=\"dataframe\">\n",
       "  <thead>\n",
       "    <tr style=\"text-align: right;\">\n",
       "      <th></th>\n",
       "      <th>main_category</th>\n",
       "      <th>category</th>\n",
       "      <th>country</th>\n",
       "      <th>currency</th>\n",
       "      <th>length_days</th>\n",
       "      <th>goal</th>\n",
       "      <th>pledged</th>\n",
       "      <th>backers</th>\n",
       "      <th>state</th>\n",
       "      <th>usd_pledged</th>\n",
       "      <th>...</th>\n",
       "      <th>zscore_pct_funded</th>\n",
       "      <th>zscore_usd_pledged</th>\n",
       "      <th>zscore_length_days</th>\n",
       "      <th>zscore_goal</th>\n",
       "      <th>zscore_backers</th>\n",
       "      <th>zscore_pledged</th>\n",
       "      <th>backers_group</th>\n",
       "      <th>usd_pledged_group</th>\n",
       "      <th>pct_funded_group</th>\n",
       "      <th>length_days_group</th>\n",
       "    </tr>\n",
       "  </thead>\n",
       "  <tbody>\n",
       "    <tr>\n",
       "      <th>0</th>\n",
       "      <td>Food</td>\n",
       "      <td>Cookbooks</td>\n",
       "      <td>US</td>\n",
       "      <td>USD</td>\n",
       "      <td>29</td>\n",
       "      <td>13730.0</td>\n",
       "      <td>3984.0</td>\n",
       "      <td>46</td>\n",
       "      <td>failed</td>\n",
       "      <td>3984.000000</td>\n",
       "      <td>...</td>\n",
       "      <td>0.010932</td>\n",
       "      <td>0.052027</td>\n",
       "      <td>0.367767</td>\n",
       "      <td>0.070863</td>\n",
       "      <td>0.017470</td>\n",
       "      <td>0.006372</td>\n",
       "      <td>20-59</td>\n",
       "      <td>1,000-4,999</td>\n",
       "      <td>0-49</td>\n",
       "      <td>20-29</td>\n",
       "    </tr>\n",
       "    <tr>\n",
       "      <th>1</th>\n",
       "      <td>Technology</td>\n",
       "      <td>3D Printing</td>\n",
       "      <td>AT</td>\n",
       "      <td>EUR</td>\n",
       "      <td>35</td>\n",
       "      <td>75000.0</td>\n",
       "      <td>7386.0</td>\n",
       "      <td>31</td>\n",
       "      <td>failed</td>\n",
       "      <td>1561.784015</td>\n",
       "      <td>...</td>\n",
       "      <td>0.011640</td>\n",
       "      <td>0.079666</td>\n",
       "      <td>0.140329</td>\n",
       "      <td>0.567948</td>\n",
       "      <td>0.158444</td>\n",
       "      <td>0.440091</td>\n",
       "      <td>20-59</td>\n",
       "      <td>1,000-4,999</td>\n",
       "      <td>0-49</td>\n",
       "      <td>30-59</td>\n",
       "    </tr>\n",
       "    <tr>\n",
       "      <th>2</th>\n",
       "      <td>Technology</td>\n",
       "      <td>3D Printing</td>\n",
       "      <td>AT</td>\n",
       "      <td>EUR</td>\n",
       "      <td>30</td>\n",
       "      <td>15000.0</td>\n",
       "      <td>3834.0</td>\n",
       "      <td>46</td>\n",
       "      <td>failed</td>\n",
       "      <td>4152.402045</td>\n",
       "      <td>...</td>\n",
       "      <td>0.011060</td>\n",
       "      <td>0.050105</td>\n",
       "      <td>0.283084</td>\n",
       "      <td>0.057622</td>\n",
       "      <td>0.017470</td>\n",
       "      <td>0.012752</td>\n",
       "      <td>20-59</td>\n",
       "      <td>1,000-4,999</td>\n",
       "      <td>0-49</td>\n",
       "      <td>20-29</td>\n",
       "    </tr>\n",
       "    <tr>\n",
       "      <th>3</th>\n",
       "      <td>Technology</td>\n",
       "      <td>3D Printing</td>\n",
       "      <td>AT</td>\n",
       "      <td>EUR</td>\n",
       "      <td>30</td>\n",
       "      <td>20000.0</td>\n",
       "      <td>18.0</td>\n",
       "      <td>6</td>\n",
       "      <td>failed</td>\n",
       "      <td>19.435528</td>\n",
       "      <td>...</td>\n",
       "      <td>0.012000</td>\n",
       "      <td>0.097266</td>\n",
       "      <td>0.283084</td>\n",
       "      <td>0.005491</td>\n",
       "      <td>0.451635</td>\n",
       "      <td>0.499252</td>\n",
       "      <td>5-19</td>\n",
       "      <td>0-99</td>\n",
       "      <td>0-49</td>\n",
       "      <td>20-29</td>\n",
       "    </tr>\n",
       "    <tr>\n",
       "      <th>4</th>\n",
       "      <td>Technology</td>\n",
       "      <td>3D Printing</td>\n",
       "      <td>AT</td>\n",
       "      <td>EUR</td>\n",
       "      <td>40</td>\n",
       "      <td>20000.0</td>\n",
       "      <td>2598.0</td>\n",
       "      <td>29</td>\n",
       "      <td>failed</td>\n",
       "      <td>2908.076574</td>\n",
       "      <td>...</td>\n",
       "      <td>0.011524</td>\n",
       "      <td>0.064304</td>\n",
       "      <td>0.563743</td>\n",
       "      <td>0.005491</td>\n",
       "      <td>0.181900</td>\n",
       "      <td>0.170329</td>\n",
       "      <td>20-59</td>\n",
       "      <td>1,000-4,999</td>\n",
       "      <td>0-49</td>\n",
       "      <td>30-59</td>\n",
       "    </tr>\n",
       "  </tbody>\n",
       "</table>\n",
       "<p>5 rows × 22 columns</p>\n",
       "</div>"
      ],
      "text/plain": [
       "  main_category     category country currency  length_days     goal  pledged  \\\n",
       "0          Food    Cookbooks      US      USD           29  13730.0   3984.0   \n",
       "1    Technology  3D Printing      AT      EUR           35  75000.0   7386.0   \n",
       "2    Technology  3D Printing      AT      EUR           30  15000.0   3834.0   \n",
       "3    Technology  3D Printing      AT      EUR           30  20000.0     18.0   \n",
       "4    Technology  3D Printing      AT      EUR           40  20000.0   2598.0   \n",
       "\n",
       "   backers   state  usd_pledged  ...  zscore_pct_funded  zscore_usd_pledged  \\\n",
       "0       46  failed  3984.000000  ...           0.010932            0.052027   \n",
       "1       31  failed  1561.784015  ...           0.011640            0.079666   \n",
       "2       46  failed  4152.402045  ...           0.011060            0.050105   \n",
       "3        6  failed    19.435528  ...           0.012000            0.097266   \n",
       "4       29  failed  2908.076574  ...           0.011524            0.064304   \n",
       "\n",
       "   zscore_length_days  zscore_goal  zscore_backers  zscore_pledged  \\\n",
       "0            0.367767     0.070863        0.017470        0.006372   \n",
       "1            0.140329     0.567948        0.158444        0.440091   \n",
       "2            0.283084     0.057622        0.017470        0.012752   \n",
       "3            0.283084     0.005491        0.451635        0.499252   \n",
       "4            0.563743     0.005491        0.181900        0.170329   \n",
       "\n",
       "   backers_group  usd_pledged_group pct_funded_group length_days_group  \n",
       "0          20-59        1,000-4,999             0-49             20-29  \n",
       "1          20-59        1,000-4,999             0-49             30-59  \n",
       "2          20-59        1,000-4,999             0-49             20-29  \n",
       "3           5-19               0-99             0-49             20-29  \n",
       "4          20-59        1,000-4,999             0-49             30-59  \n",
       "\n",
       "[5 rows x 22 columns]"
      ]
     },
     "execution_count": 1578,
     "metadata": {},
     "output_type": "execute_result"
    }
   ],
   "source": [
    "# create bins for length_days\n",
    "\n",
    "bins = [0, 15, 20, 30, 60, 101]\n",
    "bin_labels = [\"0-14\", \"15-19\", \"20-29\", \"30-59\", \"60-100\"]\n",
    "\n",
    "df3[\"length_days_group\"] = pd.cut(df3[\"length_days\"], bins, labels = bin_labels)\n",
    "\n",
    "df3.head()"
   ]
  },
  {
   "cell_type": "code",
   "execution_count": 1579,
   "metadata": {},
   "outputs": [
    {
     "data": {
      "text/html": [
       "<div>\n",
       "<style scoped>\n",
       "    .dataframe tbody tr th:only-of-type {\n",
       "        vertical-align: middle;\n",
       "    }\n",
       "\n",
       "    .dataframe tbody tr th {\n",
       "        vertical-align: top;\n",
       "    }\n",
       "\n",
       "    .dataframe thead th {\n",
       "        text-align: right;\n",
       "    }\n",
       "</style>\n",
       "<table border=\"1\" class=\"dataframe\">\n",
       "  <thead>\n",
       "    <tr style=\"text-align: right;\">\n",
       "      <th></th>\n",
       "      <th>main_category</th>\n",
       "      <th>category</th>\n",
       "      <th>country</th>\n",
       "      <th>currency</th>\n",
       "      <th>length_days</th>\n",
       "      <th>goal</th>\n",
       "      <th>pledged</th>\n",
       "      <th>backers</th>\n",
       "      <th>state</th>\n",
       "      <th>usd_pledged</th>\n",
       "      <th>...</th>\n",
       "      <th>zscore_usd_pledged</th>\n",
       "      <th>zscore_length_days</th>\n",
       "      <th>zscore_goal</th>\n",
       "      <th>zscore_backers</th>\n",
       "      <th>zscore_pledged</th>\n",
       "      <th>backers_group</th>\n",
       "      <th>usd_pledged_group</th>\n",
       "      <th>pct_funded_group</th>\n",
       "      <th>length_days_group</th>\n",
       "      <th>goal_group</th>\n",
       "    </tr>\n",
       "  </thead>\n",
       "  <tbody>\n",
       "    <tr>\n",
       "      <th>0</th>\n",
       "      <td>Food</td>\n",
       "      <td>Cookbooks</td>\n",
       "      <td>US</td>\n",
       "      <td>USD</td>\n",
       "      <td>29</td>\n",
       "      <td>13730.0</td>\n",
       "      <td>3984.0</td>\n",
       "      <td>46</td>\n",
       "      <td>failed</td>\n",
       "      <td>3984.000000</td>\n",
       "      <td>...</td>\n",
       "      <td>0.052027</td>\n",
       "      <td>0.367767</td>\n",
       "      <td>0.070863</td>\n",
       "      <td>0.017470</td>\n",
       "      <td>0.006372</td>\n",
       "      <td>20-59</td>\n",
       "      <td>1,000-4,999</td>\n",
       "      <td>0-49</td>\n",
       "      <td>20-29</td>\n",
       "      <td>5,000-14,999</td>\n",
       "    </tr>\n",
       "    <tr>\n",
       "      <th>1</th>\n",
       "      <td>Technology</td>\n",
       "      <td>3D Printing</td>\n",
       "      <td>AT</td>\n",
       "      <td>EUR</td>\n",
       "      <td>35</td>\n",
       "      <td>75000.0</td>\n",
       "      <td>7386.0</td>\n",
       "      <td>31</td>\n",
       "      <td>failed</td>\n",
       "      <td>1561.784015</td>\n",
       "      <td>...</td>\n",
       "      <td>0.079666</td>\n",
       "      <td>0.140329</td>\n",
       "      <td>0.567948</td>\n",
       "      <td>0.158444</td>\n",
       "      <td>0.440091</td>\n",
       "      <td>20-59</td>\n",
       "      <td>1,000-4,999</td>\n",
       "      <td>0-49</td>\n",
       "      <td>30-59</td>\n",
       "      <td>30,000+</td>\n",
       "    </tr>\n",
       "    <tr>\n",
       "      <th>2</th>\n",
       "      <td>Technology</td>\n",
       "      <td>3D Printing</td>\n",
       "      <td>AT</td>\n",
       "      <td>EUR</td>\n",
       "      <td>30</td>\n",
       "      <td>15000.0</td>\n",
       "      <td>3834.0</td>\n",
       "      <td>46</td>\n",
       "      <td>failed</td>\n",
       "      <td>4152.402045</td>\n",
       "      <td>...</td>\n",
       "      <td>0.050105</td>\n",
       "      <td>0.283084</td>\n",
       "      <td>0.057622</td>\n",
       "      <td>0.017470</td>\n",
       "      <td>0.012752</td>\n",
       "      <td>20-59</td>\n",
       "      <td>1,000-4,999</td>\n",
       "      <td>0-49</td>\n",
       "      <td>20-29</td>\n",
       "      <td>5,000-14,999</td>\n",
       "    </tr>\n",
       "    <tr>\n",
       "      <th>3</th>\n",
       "      <td>Technology</td>\n",
       "      <td>3D Printing</td>\n",
       "      <td>AT</td>\n",
       "      <td>EUR</td>\n",
       "      <td>30</td>\n",
       "      <td>20000.0</td>\n",
       "      <td>18.0</td>\n",
       "      <td>6</td>\n",
       "      <td>failed</td>\n",
       "      <td>19.435528</td>\n",
       "      <td>...</td>\n",
       "      <td>0.097266</td>\n",
       "      <td>0.283084</td>\n",
       "      <td>0.005491</td>\n",
       "      <td>0.451635</td>\n",
       "      <td>0.499252</td>\n",
       "      <td>5-19</td>\n",
       "      <td>0-99</td>\n",
       "      <td>0-49</td>\n",
       "      <td>20-29</td>\n",
       "      <td>15,000-29,999</td>\n",
       "    </tr>\n",
       "    <tr>\n",
       "      <th>4</th>\n",
       "      <td>Technology</td>\n",
       "      <td>3D Printing</td>\n",
       "      <td>AT</td>\n",
       "      <td>EUR</td>\n",
       "      <td>40</td>\n",
       "      <td>20000.0</td>\n",
       "      <td>2598.0</td>\n",
       "      <td>29</td>\n",
       "      <td>failed</td>\n",
       "      <td>2908.076574</td>\n",
       "      <td>...</td>\n",
       "      <td>0.064304</td>\n",
       "      <td>0.563743</td>\n",
       "      <td>0.005491</td>\n",
       "      <td>0.181900</td>\n",
       "      <td>0.170329</td>\n",
       "      <td>20-59</td>\n",
       "      <td>1,000-4,999</td>\n",
       "      <td>0-49</td>\n",
       "      <td>30-59</td>\n",
       "      <td>15,000-29,999</td>\n",
       "    </tr>\n",
       "  </tbody>\n",
       "</table>\n",
       "<p>5 rows × 23 columns</p>\n",
       "</div>"
      ],
      "text/plain": [
       "  main_category     category country currency  length_days     goal  pledged  \\\n",
       "0          Food    Cookbooks      US      USD           29  13730.0   3984.0   \n",
       "1    Technology  3D Printing      AT      EUR           35  75000.0   7386.0   \n",
       "2    Technology  3D Printing      AT      EUR           30  15000.0   3834.0   \n",
       "3    Technology  3D Printing      AT      EUR           30  20000.0     18.0   \n",
       "4    Technology  3D Printing      AT      EUR           40  20000.0   2598.0   \n",
       "\n",
       "   backers   state  usd_pledged  ...  zscore_usd_pledged  zscore_length_days  \\\n",
       "0       46  failed  3984.000000  ...            0.052027            0.367767   \n",
       "1       31  failed  1561.784015  ...            0.079666            0.140329   \n",
       "2       46  failed  4152.402045  ...            0.050105            0.283084   \n",
       "3        6  failed    19.435528  ...            0.097266            0.283084   \n",
       "4       29  failed  2908.076574  ...            0.064304            0.563743   \n",
       "\n",
       "   zscore_goal  zscore_backers  zscore_pledged  backers_group  \\\n",
       "0     0.070863        0.017470        0.006372          20-59   \n",
       "1     0.567948        0.158444        0.440091          20-59   \n",
       "2     0.057622        0.017470        0.012752          20-59   \n",
       "3     0.005491        0.451635        0.499252           5-19   \n",
       "4     0.005491        0.181900        0.170329          20-59   \n",
       "\n",
       "   usd_pledged_group  pct_funded_group length_days_group     goal_group  \n",
       "0        1,000-4,999              0-49             20-29   5,000-14,999  \n",
       "1        1,000-4,999              0-49             30-59        30,000+  \n",
       "2        1,000-4,999              0-49             20-29   5,000-14,999  \n",
       "3               0-99              0-49             20-29  15,000-29,999  \n",
       "4        1,000-4,999              0-49             30-59  15,000-29,999  \n",
       "\n",
       "[5 rows x 23 columns]"
      ]
     },
     "execution_count": 1579,
     "metadata": {},
     "output_type": "execute_result"
    }
   ],
   "source": [
    "# create bins for goal\n",
    "\n",
    "bins = [0, 2000, 5000, 15000, 30000, 10000000]\n",
    "bin_labels = [\"0-1,999\", \"2,000-4,999\", \"5,000-14,999\", \"15,000-29,999\", \"30,000+\"]\n",
    "\n",
    "df3[\"goal_group\"] = pd.cut(df3[\"goal\"], bins, labels = bin_labels)\n",
    "\n",
    "df3.head()"
   ]
  },
  {
   "cell_type": "code",
   "execution_count": null,
   "metadata": {},
   "outputs": [],
   "source": []
  },
  {
   "cell_type": "code",
   "execution_count": null,
   "metadata": {},
   "outputs": [],
   "source": []
  },
  {
   "cell_type": "markdown",
   "metadata": {},
   "source": [
    "# Visuals with Bins"
   ]
  },
  {
   "cell_type": "code",
   "execution_count": 1580,
   "metadata": {},
   "outputs": [
    {
     "data": {
      "text/plain": [
       "<AxesSubplot:title={'center':'USD Pledged by Main Category and Pct Funded'}, xlabel='main_category', ylabel='usd_pledged'>"
      ]
     },
     "execution_count": 1580,
     "metadata": {},
     "output_type": "execute_result"
    },
    {
     "data": {
      "image/png": "[encoded data removed]",
      "text/plain": [
       "<Figure size 1080x360 with 1 Axes>"
      ]
     },
     "metadata": {
      "needs_background": "light"
     },
     "output_type": "display_data"
    }
   ],
   "source": [
    "# average number of backers and pledges by main category \n",
    "# include the variable \"pct_funded\" to get a better picture of the projects that met/exceeded their goal\n",
    "\n",
    "plt.figure(figsize = (15,5))\n",
    "plt.xticks(rotation = 90)\n",
    "plt.title(\"USD Pledged by Main Category and Pct Funded\")\n",
    "sns.barplot(x=df3[\"main_category\"], y = df3[\"usd_pledged\"], hue = df3[\"pct_funded_group\"], ci=None)"
   ]
  },
  {
   "cell_type": "code",
   "execution_count": 1581,
   "metadata": {},
   "outputs": [
    {
     "data": {
      "text/plain": [
       "<AxesSubplot:title={'center':'USD Pledged by Main Category and Backers'}, xlabel='main_category', ylabel='usd_pledged'>"
      ]
     },
     "execution_count": 1581,
     "metadata": {},
     "output_type": "execute_result"
    },
    {
     "data": {
      "image/png": "[encoded data removed]",
      "text/plain": [
       "<Figure size 1080x360 with 1 Axes>"
      ]
     },
     "metadata": {
      "needs_background": "light"
     },
     "output_type": "display_data"
    }
   ],
   "source": [
    "plt.figure(figsize = (15,5))\n",
    "plt.xticks(rotation = 90)\n",
    "plt.title(\"USD Pledged by Main Category and Backers\")\n",
    "sns.barplot(x=df3[\"main_category\"], y = df3[\"usd_pledged\"], hue = df3[\"backers_group\"], ci=None)"
   ]
  },
  {
   "cell_type": "code",
   "execution_count": 1582,
   "metadata": {},
   "outputs": [
    {
     "data": {
      "text/plain": [
       "<AxesSubplot:title={'center':'Pct Funded by Main Category and USD Pledged Group'}, xlabel='main_category', ylabel='pct_funded'>"
      ]
     },
     "execution_count": 1582,
     "metadata": {},
     "output_type": "execute_result"
    },
    {
     "data": {
      "image/png": "[encoded data removed]",
      "text/plain": [
       "<Figure size 1080x360 with 1 Axes>"
      ]
     },
     "metadata": {
      "needs_background": "light"
     },
     "output_type": "display_data"
    }
   ],
   "source": [
    "plt.figure(figsize = (15,5))\n",
    "plt.xticks(rotation = 90)\n",
    "plt.title(\"Pct Funded by Main Category and USD Pledged Group\")\n",
    "sns.barplot(x=df3[\"main_category\"], y = df3[\"pct_funded\"], hue = df3[\"usd_pledged_group\"], ci=None)"
   ]
  },
  {
   "cell_type": "code",
   "execution_count": 1583,
   "metadata": {},
   "outputs": [
    {
     "data": {
      "text/plain": [
       "<AxesSubplot:title={'center':'USD Pledged by Main Category and Pct Funded'}, xlabel='pct_funded_group', ylabel='usd_pledged'>"
      ]
     },
     "execution_count": 1583,
     "metadata": {},
     "output_type": "execute_result"
    },
    {
     "data": {
      "image/png": "[encoded data removed]",
      "text/plain": [
       "<Figure size 1080x360 with 1 Axes>"
      ]
     },
     "metadata": {
      "needs_background": "light"
     },
     "output_type": "display_data"
    }
   ],
   "source": [
    "plt.figure(figsize = (15,5))\n",
    "plt.xticks(rotation = 90)\n",
    "plt.title(\"USD Pledged by Main Category and Pct Funded\")\n",
    "sns.barplot(x=df3[\"pct_funded_group\"], y = df3[\"usd_pledged\"], hue = df3[\"main_category\"], ci=None)"
   ]
  },
  {
   "cell_type": "code",
   "execution_count": 1584,
   "metadata": {
    "scrolled": false
   },
   "outputs": [
    {
     "data": {
      "text/plain": [
       "<AxesSubplot:title={'center':'Average Goal by Main Category and State'}, xlabel='main_category', ylabel='goal'>"
      ]
     },
     "execution_count": 1584,
     "metadata": {},
     "output_type": "execute_result"
    },
    {
     "data": {
      "image/png": "[encoded data removed]",
      "text/plain": [
       "<Figure size 1080x360 with 1 Axes>"
      ]
     },
     "metadata": {
      "needs_background": "light"
     },
     "output_type": "display_data"
    }
   ],
   "source": [
    "plt.figure(figsize = (15,5))\n",
    "plt.xticks(rotation = 90)\n",
    "plt.title(\"Average Goal by Main Category and State\")\n",
    "sns.barplot(data = df3, x=\"main_category\", y= \"goal\", hue = \"state\")"
   ]
  },
  {
   "cell_type": "markdown",
   "metadata": {},
   "source": [
    "# Creating Datasets of Sub-Groups (Numerical Groupings)"
   ]
  },
  {
   "cell_type": "code",
   "execution_count": 1585,
   "metadata": {},
   "outputs": [],
   "source": [
    "df3[\"state_binary\"]=np.where(df3[\"state\"]==\"successful\", 1, 0)"
   ]
  },
  {
   "cell_type": "code",
   "execution_count": 1586,
   "metadata": {},
   "outputs": [
    {
     "data": {
      "text/html": [
       "<div>\n",
       "<style scoped>\n",
       "    .dataframe tbody tr th:only-of-type {\n",
       "        vertical-align: middle;\n",
       "    }\n",
       "\n",
       "    .dataframe tbody tr th {\n",
       "        vertical-align: top;\n",
       "    }\n",
       "\n",
       "    .dataframe thead th {\n",
       "        text-align: right;\n",
       "    }\n",
       "</style>\n",
       "<table border=\"1\" class=\"dataframe\">\n",
       "  <thead>\n",
       "    <tr style=\"text-align: right;\">\n",
       "      <th></th>\n",
       "      <th>main_category</th>\n",
       "      <th>category</th>\n",
       "      <th>country</th>\n",
       "      <th>currency</th>\n",
       "      <th>length_days</th>\n",
       "      <th>goal</th>\n",
       "      <th>pledged</th>\n",
       "      <th>backers</th>\n",
       "      <th>state</th>\n",
       "      <th>usd_pledged</th>\n",
       "      <th>...</th>\n",
       "      <th>zscore_goal</th>\n",
       "      <th>zscore_backers</th>\n",
       "      <th>zscore_pledged</th>\n",
       "      <th>backers_group</th>\n",
       "      <th>usd_pledged_group</th>\n",
       "      <th>pct_funded_group</th>\n",
       "      <th>length_days_group</th>\n",
       "      <th>goal_group</th>\n",
       "      <th>state_binary</th>\n",
       "      <th>Success</th>\n",
       "    </tr>\n",
       "  </thead>\n",
       "  <tbody>\n",
       "    <tr>\n",
       "      <th>0</th>\n",
       "      <td>Food</td>\n",
       "      <td>Cookbooks</td>\n",
       "      <td>US</td>\n",
       "      <td>USD</td>\n",
       "      <td>29</td>\n",
       "      <td>13730.0</td>\n",
       "      <td>3984.0</td>\n",
       "      <td>46</td>\n",
       "      <td>failed</td>\n",
       "      <td>3984.000000</td>\n",
       "      <td>...</td>\n",
       "      <td>0.070863</td>\n",
       "      <td>0.017470</td>\n",
       "      <td>0.006372</td>\n",
       "      <td>20-59</td>\n",
       "      <td>1,000-4,999</td>\n",
       "      <td>0-49</td>\n",
       "      <td>20-29</td>\n",
       "      <td>5,000-14,999</td>\n",
       "      <td>0</td>\n",
       "      <td>N</td>\n",
       "    </tr>\n",
       "    <tr>\n",
       "      <th>1</th>\n",
       "      <td>Technology</td>\n",
       "      <td>3D Printing</td>\n",
       "      <td>AT</td>\n",
       "      <td>EUR</td>\n",
       "      <td>35</td>\n",
       "      <td>75000.0</td>\n",
       "      <td>7386.0</td>\n",
       "      <td>31</td>\n",
       "      <td>failed</td>\n",
       "      <td>1561.784015</td>\n",
       "      <td>...</td>\n",
       "      <td>0.567948</td>\n",
       "      <td>0.158444</td>\n",
       "      <td>0.440091</td>\n",
       "      <td>20-59</td>\n",
       "      <td>1,000-4,999</td>\n",
       "      <td>0-49</td>\n",
       "      <td>30-59</td>\n",
       "      <td>30,000+</td>\n",
       "      <td>0</td>\n",
       "      <td>N</td>\n",
       "    </tr>\n",
       "    <tr>\n",
       "      <th>2</th>\n",
       "      <td>Technology</td>\n",
       "      <td>3D Printing</td>\n",
       "      <td>AT</td>\n",
       "      <td>EUR</td>\n",
       "      <td>30</td>\n",
       "      <td>15000.0</td>\n",
       "      <td>3834.0</td>\n",
       "      <td>46</td>\n",
       "      <td>failed</td>\n",
       "      <td>4152.402045</td>\n",
       "      <td>...</td>\n",
       "      <td>0.057622</td>\n",
       "      <td>0.017470</td>\n",
       "      <td>0.012752</td>\n",
       "      <td>20-59</td>\n",
       "      <td>1,000-4,999</td>\n",
       "      <td>0-49</td>\n",
       "      <td>20-29</td>\n",
       "      <td>5,000-14,999</td>\n",
       "      <td>0</td>\n",
       "      <td>N</td>\n",
       "    </tr>\n",
       "    <tr>\n",
       "      <th>3</th>\n",
       "      <td>Technology</td>\n",
       "      <td>3D Printing</td>\n",
       "      <td>AT</td>\n",
       "      <td>EUR</td>\n",
       "      <td>30</td>\n",
       "      <td>20000.0</td>\n",
       "      <td>18.0</td>\n",
       "      <td>6</td>\n",
       "      <td>failed</td>\n",
       "      <td>19.435528</td>\n",
       "      <td>...</td>\n",
       "      <td>0.005491</td>\n",
       "      <td>0.451635</td>\n",
       "      <td>0.499252</td>\n",
       "      <td>5-19</td>\n",
       "      <td>0-99</td>\n",
       "      <td>0-49</td>\n",
       "      <td>20-29</td>\n",
       "      <td>15,000-29,999</td>\n",
       "      <td>0</td>\n",
       "      <td>N</td>\n",
       "    </tr>\n",
       "    <tr>\n",
       "      <th>4</th>\n",
       "      <td>Technology</td>\n",
       "      <td>3D Printing</td>\n",
       "      <td>AT</td>\n",
       "      <td>EUR</td>\n",
       "      <td>40</td>\n",
       "      <td>20000.0</td>\n",
       "      <td>2598.0</td>\n",
       "      <td>29</td>\n",
       "      <td>failed</td>\n",
       "      <td>2908.076574</td>\n",
       "      <td>...</td>\n",
       "      <td>0.005491</td>\n",
       "      <td>0.181900</td>\n",
       "      <td>0.170329</td>\n",
       "      <td>20-59</td>\n",
       "      <td>1,000-4,999</td>\n",
       "      <td>0-49</td>\n",
       "      <td>30-59</td>\n",
       "      <td>15,000-29,999</td>\n",
       "      <td>0</td>\n",
       "      <td>N</td>\n",
       "    </tr>\n",
       "  </tbody>\n",
       "</table>\n",
       "<p>5 rows × 25 columns</p>\n",
       "</div>"
      ],
      "text/plain": [
       "  main_category     category country currency  length_days     goal  pledged  \\\n",
       "0          Food    Cookbooks      US      USD           29  13730.0   3984.0   \n",
       "1    Technology  3D Printing      AT      EUR           35  75000.0   7386.0   \n",
       "2    Technology  3D Printing      AT      EUR           30  15000.0   3834.0   \n",
       "3    Technology  3D Printing      AT      EUR           30  20000.0     18.0   \n",
       "4    Technology  3D Printing      AT      EUR           40  20000.0   2598.0   \n",
       "\n",
       "   backers   state  usd_pledged  ...  zscore_goal  zscore_backers  \\\n",
       "0       46  failed  3984.000000  ...     0.070863        0.017470   \n",
       "1       31  failed  1561.784015  ...     0.567948        0.158444   \n",
       "2       46  failed  4152.402045  ...     0.057622        0.017470   \n",
       "3        6  failed    19.435528  ...     0.005491        0.451635   \n",
       "4       29  failed  2908.076574  ...     0.005491        0.181900   \n",
       "\n",
       "   zscore_pledged  backers_group  usd_pledged_group  pct_funded_group  \\\n",
       "0        0.006372          20-59        1,000-4,999              0-49   \n",
       "1        0.440091          20-59        1,000-4,999              0-49   \n",
       "2        0.012752          20-59        1,000-4,999              0-49   \n",
       "3        0.499252           5-19               0-99              0-49   \n",
       "4        0.170329          20-59        1,000-4,999              0-49   \n",
       "\n",
       "   length_days_group     goal_group state_binary Success  \n",
       "0              20-29   5,000-14,999            0       N  \n",
       "1              30-59        30,000+            0       N  \n",
       "2              20-29   5,000-14,999            0       N  \n",
       "3              20-29  15,000-29,999            0       N  \n",
       "4              30-59  15,000-29,999            0       N  \n",
       "\n",
       "[5 rows x 25 columns]"
      ]
     },
     "execution_count": 1586,
     "metadata": {},
     "output_type": "execute_result"
    }
   ],
   "source": [
    "# Dataset of successful campaigns\n",
    "\n",
    "df3_successful = df3.copy()\n",
    "df3_successful[\"Success\"] = np.where(df3[\"state\"]==\"successful\", \"Y\", \"N\")\n",
    "df3_successful.head()"
   ]
  },
  {
   "cell_type": "code",
   "execution_count": 1587,
   "metadata": {},
   "outputs": [
    {
     "name": "stdout",
     "output_type": "stream",
     "text": [
      "<class 'pandas.core.frame.DataFrame'>\n",
      "Int64Index: 92952 entries, 10 to 281855\n",
      "Data columns (total 25 columns):\n",
      " #   Column                 Non-Null Count  Dtype   \n",
      "---  ------                 --------------  -----   \n",
      " 0   main_category          92952 non-null  object  \n",
      " 1   category               92952 non-null  object  \n",
      " 2   country                92952 non-null  object  \n",
      " 3   currency               92952 non-null  object  \n",
      " 4   length_days            92952 non-null  int64   \n",
      " 5   goal                   92952 non-null  float64 \n",
      " 6   pledged                92952 non-null  float64 \n",
      " 7   backers                92952 non-null  int64   \n",
      " 8   state                  92952 non-null  object  \n",
      " 9   usd_pledged            92952 non-null  float64 \n",
      " 10  pct_funded             92952 non-null  float64 \n",
      " 11  avg_pledge_per_backer  92952 non-null  float64 \n",
      " 12  zscore_pct_funded      92952 non-null  float64 \n",
      " 13  zscore_usd_pledged     92952 non-null  float64 \n",
      " 14  zscore_length_days     92952 non-null  float64 \n",
      " 15  zscore_goal            92952 non-null  float64 \n",
      " 16  zscore_backers         92952 non-null  float64 \n",
      " 17  zscore_pledged         92952 non-null  float64 \n",
      " 18  backers_group          92952 non-null  category\n",
      " 19  usd_pledged_group      92426 non-null  category\n",
      " 20  pct_funded_group       92952 non-null  category\n",
      " 21  length_days_group      92952 non-null  category\n",
      " 22  goal_group             92952 non-null  category\n",
      " 23  state_binary           92952 non-null  int32   \n",
      " 24  Success                92952 non-null  object  \n",
      "dtypes: category(5), float64(11), int32(1), int64(2), object(6)\n",
      "memory usage: 15.0+ MB\n"
     ]
    }
   ],
   "source": [
    "df3_successful.drop(df3_successful.loc[df3_successful[\"Success\"]==\"N\"].index, inplace = True)\n",
    "df3_successful.info()"
   ]
  },
  {
   "cell_type": "code",
   "execution_count": 1588,
   "metadata": {},
   "outputs": [
    {
     "data": {
      "text/html": [
       "<div>\n",
       "<style scoped>\n",
       "    .dataframe tbody tr th:only-of-type {\n",
       "        vertical-align: middle;\n",
       "    }\n",
       "\n",
       "    .dataframe tbody tr th {\n",
       "        vertical-align: top;\n",
       "    }\n",
       "\n",
       "    .dataframe thead th {\n",
       "        text-align: right;\n",
       "    }\n",
       "</style>\n",
       "<table border=\"1\" class=\"dataframe\">\n",
       "  <thead>\n",
       "    <tr style=\"text-align: right;\">\n",
       "      <th></th>\n",
       "      <th>main_category</th>\n",
       "      <th>category</th>\n",
       "      <th>country</th>\n",
       "      <th>currency</th>\n",
       "      <th>length_days</th>\n",
       "      <th>goal</th>\n",
       "      <th>pledged</th>\n",
       "      <th>backers</th>\n",
       "      <th>state</th>\n",
       "      <th>usd_pledged</th>\n",
       "      <th>...</th>\n",
       "      <th>zscore_goal</th>\n",
       "      <th>zscore_backers</th>\n",
       "      <th>zscore_pledged</th>\n",
       "      <th>backers_group</th>\n",
       "      <th>usd_pledged_group</th>\n",
       "      <th>pct_funded_group</th>\n",
       "      <th>length_days_group</th>\n",
       "      <th>goal_group</th>\n",
       "      <th>state_binary</th>\n",
       "      <th>Success</th>\n",
       "    </tr>\n",
       "  </thead>\n",
       "  <tbody>\n",
       "    <tr>\n",
       "      <th>0</th>\n",
       "      <td>Food</td>\n",
       "      <td>Cookbooks</td>\n",
       "      <td>US</td>\n",
       "      <td>USD</td>\n",
       "      <td>29</td>\n",
       "      <td>13730.0</td>\n",
       "      <td>3984.0</td>\n",
       "      <td>46</td>\n",
       "      <td>failed</td>\n",
       "      <td>3984.000000</td>\n",
       "      <td>...</td>\n",
       "      <td>0.070863</td>\n",
       "      <td>0.017470</td>\n",
       "      <td>0.006372</td>\n",
       "      <td>20-59</td>\n",
       "      <td>1,000-4,999</td>\n",
       "      <td>0-49</td>\n",
       "      <td>20-29</td>\n",
       "      <td>5,000-14,999</td>\n",
       "      <td>0</td>\n",
       "      <td>N</td>\n",
       "    </tr>\n",
       "    <tr>\n",
       "      <th>1</th>\n",
       "      <td>Technology</td>\n",
       "      <td>3D Printing</td>\n",
       "      <td>AT</td>\n",
       "      <td>EUR</td>\n",
       "      <td>35</td>\n",
       "      <td>75000.0</td>\n",
       "      <td>7386.0</td>\n",
       "      <td>31</td>\n",
       "      <td>failed</td>\n",
       "      <td>1561.784015</td>\n",
       "      <td>...</td>\n",
       "      <td>0.567948</td>\n",
       "      <td>0.158444</td>\n",
       "      <td>0.440091</td>\n",
       "      <td>20-59</td>\n",
       "      <td>1,000-4,999</td>\n",
       "      <td>0-49</td>\n",
       "      <td>30-59</td>\n",
       "      <td>30,000+</td>\n",
       "      <td>0</td>\n",
       "      <td>N</td>\n",
       "    </tr>\n",
       "    <tr>\n",
       "      <th>2</th>\n",
       "      <td>Technology</td>\n",
       "      <td>3D Printing</td>\n",
       "      <td>AT</td>\n",
       "      <td>EUR</td>\n",
       "      <td>30</td>\n",
       "      <td>15000.0</td>\n",
       "      <td>3834.0</td>\n",
       "      <td>46</td>\n",
       "      <td>failed</td>\n",
       "      <td>4152.402045</td>\n",
       "      <td>...</td>\n",
       "      <td>0.057622</td>\n",
       "      <td>0.017470</td>\n",
       "      <td>0.012752</td>\n",
       "      <td>20-59</td>\n",
       "      <td>1,000-4,999</td>\n",
       "      <td>0-49</td>\n",
       "      <td>20-29</td>\n",
       "      <td>5,000-14,999</td>\n",
       "      <td>0</td>\n",
       "      <td>N</td>\n",
       "    </tr>\n",
       "    <tr>\n",
       "      <th>3</th>\n",
       "      <td>Technology</td>\n",
       "      <td>3D Printing</td>\n",
       "      <td>AT</td>\n",
       "      <td>EUR</td>\n",
       "      <td>30</td>\n",
       "      <td>20000.0</td>\n",
       "      <td>18.0</td>\n",
       "      <td>6</td>\n",
       "      <td>failed</td>\n",
       "      <td>19.435528</td>\n",
       "      <td>...</td>\n",
       "      <td>0.005491</td>\n",
       "      <td>0.451635</td>\n",
       "      <td>0.499252</td>\n",
       "      <td>5-19</td>\n",
       "      <td>0-99</td>\n",
       "      <td>0-49</td>\n",
       "      <td>20-29</td>\n",
       "      <td>15,000-29,999</td>\n",
       "      <td>0</td>\n",
       "      <td>N</td>\n",
       "    </tr>\n",
       "    <tr>\n",
       "      <th>4</th>\n",
       "      <td>Technology</td>\n",
       "      <td>3D Printing</td>\n",
       "      <td>AT</td>\n",
       "      <td>EUR</td>\n",
       "      <td>40</td>\n",
       "      <td>20000.0</td>\n",
       "      <td>2598.0</td>\n",
       "      <td>29</td>\n",
       "      <td>failed</td>\n",
       "      <td>2908.076574</td>\n",
       "      <td>...</td>\n",
       "      <td>0.005491</td>\n",
       "      <td>0.181900</td>\n",
       "      <td>0.170329</td>\n",
       "      <td>20-59</td>\n",
       "      <td>1,000-4,999</td>\n",
       "      <td>0-49</td>\n",
       "      <td>30-59</td>\n",
       "      <td>15,000-29,999</td>\n",
       "      <td>0</td>\n",
       "      <td>N</td>\n",
       "    </tr>\n",
       "  </tbody>\n",
       "</table>\n",
       "<p>5 rows × 25 columns</p>\n",
       "</div>"
      ],
      "text/plain": [
       "  main_category     category country currency  length_days     goal  pledged  \\\n",
       "0          Food    Cookbooks      US      USD           29  13730.0   3984.0   \n",
       "1    Technology  3D Printing      AT      EUR           35  75000.0   7386.0   \n",
       "2    Technology  3D Printing      AT      EUR           30  15000.0   3834.0   \n",
       "3    Technology  3D Printing      AT      EUR           30  20000.0     18.0   \n",
       "4    Technology  3D Printing      AT      EUR           40  20000.0   2598.0   \n",
       "\n",
       "   backers   state  usd_pledged  ...  zscore_goal  zscore_backers  \\\n",
       "0       46  failed  3984.000000  ...     0.070863        0.017470   \n",
       "1       31  failed  1561.784015  ...     0.567948        0.158444   \n",
       "2       46  failed  4152.402045  ...     0.057622        0.017470   \n",
       "3        6  failed    19.435528  ...     0.005491        0.451635   \n",
       "4       29  failed  2908.076574  ...     0.005491        0.181900   \n",
       "\n",
       "   zscore_pledged  backers_group  usd_pledged_group  pct_funded_group  \\\n",
       "0        0.006372          20-59        1,000-4,999              0-49   \n",
       "1        0.440091          20-59        1,000-4,999              0-49   \n",
       "2        0.012752          20-59        1,000-4,999              0-49   \n",
       "3        0.499252           5-19               0-99              0-49   \n",
       "4        0.170329          20-59        1,000-4,999              0-49   \n",
       "\n",
       "   length_days_group     goal_group state_binary Success  \n",
       "0              20-29   5,000-14,999            0       N  \n",
       "1              30-59        30,000+            0       N  \n",
       "2              20-29   5,000-14,999            0       N  \n",
       "3              20-29  15,000-29,999            0       N  \n",
       "4              30-59  15,000-29,999            0       N  \n",
       "\n",
       "[5 rows x 25 columns]"
      ]
     },
     "execution_count": 1588,
     "metadata": {},
     "output_type": "execute_result"
    }
   ],
   "source": [
    "# Dataset of failed campaigns\n",
    "\n",
    "df3_failed = df3.copy()\n",
    "df3_failed[\"Success\"] = np.where(df3[\"state\"]==\"successful\", \"Y\", \"N\")\n",
    "df3_failed.head()"
   ]
  },
  {
   "cell_type": "code",
   "execution_count": 1589,
   "metadata": {},
   "outputs": [
    {
     "name": "stdout",
     "output_type": "stream",
     "text": [
      "<class 'pandas.core.frame.DataFrame'>\n",
      "Int64Index: 162503 entries, 0 to 281853\n",
      "Data columns (total 25 columns):\n",
      " #   Column                 Non-Null Count   Dtype   \n",
      "---  ------                 --------------   -----   \n",
      " 0   main_category          162503 non-null  object  \n",
      " 1   category               162503 non-null  object  \n",
      " 2   country                162503 non-null  object  \n",
      " 3   currency               162503 non-null  object  \n",
      " 4   length_days            162503 non-null  int64   \n",
      " 5   goal                   162503 non-null  float64 \n",
      " 6   pledged                162503 non-null  float64 \n",
      " 7   backers                162503 non-null  int64   \n",
      " 8   state                  162503 non-null  object  \n",
      " 9   usd_pledged            162503 non-null  float64 \n",
      " 10  pct_funded             162503 non-null  float64 \n",
      " 11  avg_pledge_per_backer  130321 non-null  float64 \n",
      " 12  zscore_pct_funded      162503 non-null  float64 \n",
      " 13  zscore_usd_pledged     162503 non-null  float64 \n",
      " 14  zscore_length_days     162503 non-null  float64 \n",
      " 15  zscore_goal            162503 non-null  float64 \n",
      " 16  zscore_backers         162503 non-null  float64 \n",
      " 17  zscore_pledged         162503 non-null  float64 \n",
      " 18  backers_group          130303 non-null  category\n",
      " 19  usd_pledged_group      126728 non-null  category\n",
      " 20  pct_funded_group       130306 non-null  category\n",
      " 21  length_days_group      162503 non-null  category\n",
      " 22  goal_group             162503 non-null  category\n",
      " 23  state_binary           162503 non-null  int32   \n",
      " 24  Success                162503 non-null  object  \n",
      "dtypes: category(5), float64(11), int32(1), int64(2), object(6)\n",
      "memory usage: 26.2+ MB\n"
     ]
    }
   ],
   "source": [
    "df3_failed.drop(df3_failed.loc[df3_failed[\"Success\"]==\"Y\"].index, inplace = True)\n",
    "df3_failed.info()"
   ]
  },
  {
   "cell_type": "code",
   "execution_count": 1590,
   "metadata": {},
   "outputs": [],
   "source": [
    "#df3.to_excel(\"Kickstarter_df3.xlsx\")"
   ]
  },
  {
   "cell_type": "code",
   "execution_count": null,
   "metadata": {},
   "outputs": [],
   "source": []
  },
  {
   "cell_type": "code",
   "execution_count": null,
   "metadata": {},
   "outputs": [],
   "source": []
  },
  {
   "cell_type": "markdown",
   "metadata": {},
   "source": [
    "### Backers Groups: \n",
    "- df3_backers_1: 0-4     68,698 rows\n",
    "- df3_backers_2: 5-19    51,506 rows\n",
    "- df3_backers_3: 20-59   54,341 rows\n",
    "- df3_backers_4: 60-99   23,892 rows\n",
    "- df3_backers_5: 100+    43,736 rows"
   ]
  },
  {
   "cell_type": "code",
   "execution_count": 1591,
   "metadata": {},
   "outputs": [
    {
     "name": "stdout",
     "output_type": "stream",
     "text": [
      "<class 'pandas.core.frame.DataFrame'>\n",
      "Int64Index: 255455 entries, 0 to 281855\n",
      "Data columns (total 25 columns):\n",
      " #   Column                 Non-Null Count   Dtype   \n",
      "---  ------                 --------------   -----   \n",
      " 0   main_category          255455 non-null  object  \n",
      " 1   category               255455 non-null  object  \n",
      " 2   country                255455 non-null  object  \n",
      " 3   currency               255455 non-null  object  \n",
      " 4   length_days            255455 non-null  int64   \n",
      " 5   goal                   255455 non-null  float64 \n",
      " 6   pledged                255455 non-null  float64 \n",
      " 7   backers                255455 non-null  int64   \n",
      " 8   state                  255455 non-null  object  \n",
      " 9   usd_pledged            255455 non-null  float64 \n",
      " 10  pct_funded             255455 non-null  float64 \n",
      " 11  avg_pledge_per_backer  223273 non-null  float64 \n",
      " 12  zscore_pct_funded      255455 non-null  float64 \n",
      " 13  zscore_usd_pledged     255455 non-null  float64 \n",
      " 14  zscore_length_days     255455 non-null  float64 \n",
      " 15  zscore_goal            255455 non-null  float64 \n",
      " 16  zscore_backers         255455 non-null  float64 \n",
      " 17  zscore_pledged         255455 non-null  float64 \n",
      " 18  backers_group          223255 non-null  category\n",
      " 19  usd_pledged_group      219154 non-null  category\n",
      " 20  pct_funded_group       223258 non-null  category\n",
      " 21  length_days_group      255455 non-null  category\n",
      " 22  goal_group             255455 non-null  category\n",
      " 23  state_binary           255455 non-null  int32   \n",
      " 24  Backers_0-4            255455 non-null  object  \n",
      "dtypes: category(5), float64(11), int32(1), int64(2), object(6)\n",
      "memory usage: 49.2+ MB\n"
     ]
    }
   ],
   "source": [
    "df3_backers_1 = df3.copy()\n",
    "df3_backers_1[\"Backers_0-4\"] = np.where(df3[\"backers_group\"]==\"0-4\", \"Y\", \"N\")\n",
    "df3_backers_1.info()"
   ]
  },
  {
   "cell_type": "code",
   "execution_count": 1592,
   "metadata": {},
   "outputs": [
    {
     "name": "stdout",
     "output_type": "stream",
     "text": [
      "<class 'pandas.core.frame.DataFrame'>\n",
      "Int64Index: 67620 entries, 6 to 281851\n",
      "Data columns (total 25 columns):\n",
      " #   Column                 Non-Null Count  Dtype   \n",
      "---  ------                 --------------  -----   \n",
      " 0   main_category          67620 non-null  object  \n",
      " 1   category               67620 non-null  object  \n",
      " 2   country                67620 non-null  object  \n",
      " 3   currency               67620 non-null  object  \n",
      " 4   length_days            67620 non-null  int64   \n",
      " 5   goal                   67620 non-null  float64 \n",
      " 6   pledged                67620 non-null  float64 \n",
      " 7   backers                67620 non-null  int64   \n",
      " 8   state                  67620 non-null  object  \n",
      " 9   usd_pledged            67620 non-null  float64 \n",
      " 10  pct_funded             67620 non-null  float64 \n",
      " 11  avg_pledge_per_backer  67620 non-null  float64 \n",
      " 12  zscore_pct_funded      67620 non-null  float64 \n",
      " 13  zscore_usd_pledged     67620 non-null  float64 \n",
      " 14  zscore_length_days     67620 non-null  float64 \n",
      " 15  zscore_goal            67620 non-null  float64 \n",
      " 16  zscore_backers         67620 non-null  float64 \n",
      " 17  zscore_pledged         67620 non-null  float64 \n",
      " 18  backers_group          67620 non-null  category\n",
      " 19  usd_pledged_group      64524 non-null  category\n",
      " 20  pct_funded_group       67620 non-null  category\n",
      " 21  length_days_group      67620 non-null  category\n",
      " 22  goal_group             67620 non-null  category\n",
      " 23  state_binary           67620 non-null  int32   \n",
      " 24  Backers_0-4            67620 non-null  object  \n",
      "dtypes: category(5), float64(11), int32(1), int64(2), object(6)\n",
      "memory usage: 10.9+ MB\n"
     ]
    }
   ],
   "source": [
    "df3_backers_1.drop(df3_backers_1.loc[df3_backers_1[\"Backers_0-4\"]==\"N\"].index, inplace = True)\n",
    "df3_backers_1.info()"
   ]
  },
  {
   "cell_type": "code",
   "execution_count": 1593,
   "metadata": {},
   "outputs": [],
   "source": [
    "df3_backers_2 = df3.copy()\n",
    "df3_backers_2[\"Backers_5-19\"] = np.where(df3_backers_2[\"backers_group\"]==\"5-19\", \"Y\", \"N\")"
   ]
  },
  {
   "cell_type": "code",
   "execution_count": 1594,
   "metadata": {},
   "outputs": [
    {
     "name": "stdout",
     "output_type": "stream",
     "text": [
      "<class 'pandas.core.frame.DataFrame'>\n",
      "Int64Index: 51102 entries, 3 to 281853\n",
      "Data columns (total 25 columns):\n",
      " #   Column                 Non-Null Count  Dtype   \n",
      "---  ------                 --------------  -----   \n",
      " 0   main_category          51102 non-null  object  \n",
      " 1   category               51102 non-null  object  \n",
      " 2   country                51102 non-null  object  \n",
      " 3   currency               51102 non-null  object  \n",
      " 4   length_days            51102 non-null  int64   \n",
      " 5   goal                   51102 non-null  float64 \n",
      " 6   pledged                51102 non-null  float64 \n",
      " 7   backers                51102 non-null  int64   \n",
      " 8   state                  51102 non-null  object  \n",
      " 9   usd_pledged            51102 non-null  float64 \n",
      " 10  pct_funded             51102 non-null  float64 \n",
      " 11  avg_pledge_per_backer  51102 non-null  float64 \n",
      " 12  zscore_pct_funded      51102 non-null  float64 \n",
      " 13  zscore_usd_pledged     51102 non-null  float64 \n",
      " 14  zscore_length_days     51102 non-null  float64 \n",
      " 15  zscore_goal            51102 non-null  float64 \n",
      " 16  zscore_backers         51102 non-null  float64 \n",
      " 17  zscore_pledged         51102 non-null  float64 \n",
      " 18  backers_group          51102 non-null  category\n",
      " 19  usd_pledged_group      50536 non-null  category\n",
      " 20  pct_funded_group       51102 non-null  category\n",
      " 21  length_days_group      51102 non-null  category\n",
      " 22  goal_group             51102 non-null  category\n",
      " 23  state_binary           51102 non-null  int32   \n",
      " 24  Backers_5-19           51102 non-null  object  \n",
      "dtypes: category(5), float64(11), int32(1), int64(2), object(6)\n",
      "memory usage: 8.2+ MB\n"
     ]
    }
   ],
   "source": [
    "df3_backers_2.drop(df3_backers_2.loc[df3_backers_2[\"Backers_5-19\"]==\"N\"].index, inplace = True)\n",
    "df3_backers_2.info()"
   ]
  },
  {
   "cell_type": "code",
   "execution_count": 1595,
   "metadata": {},
   "outputs": [],
   "source": [
    "df3_backers_3 = df3.copy()\n",
    "df3_backers_3[\"Backers_20-59\"] = np.where(df3_backers_3[\"backers_group\"]==\"20-59\", \"Y\", \"N\")"
   ]
  },
  {
   "cell_type": "code",
   "execution_count": 1596,
   "metadata": {},
   "outputs": [
    {
     "name": "stdout",
     "output_type": "stream",
     "text": [
      "<class 'pandas.core.frame.DataFrame'>\n",
      "Int64Index: 53909 entries, 0 to 281855\n",
      "Data columns (total 25 columns):\n",
      " #   Column                 Non-Null Count  Dtype   \n",
      "---  ------                 --------------  -----   \n",
      " 0   main_category          53909 non-null  object  \n",
      " 1   category               53909 non-null  object  \n",
      " 2   country                53909 non-null  object  \n",
      " 3   currency               53909 non-null  object  \n",
      " 4   length_days            53909 non-null  int64   \n",
      " 5   goal                   53909 non-null  float64 \n",
      " 6   pledged                53909 non-null  float64 \n",
      " 7   backers                53909 non-null  int64   \n",
      " 8   state                  53909 non-null  object  \n",
      " 9   usd_pledged            53909 non-null  float64 \n",
      " 10  pct_funded             53909 non-null  float64 \n",
      " 11  avg_pledge_per_backer  53909 non-null  float64 \n",
      " 12  zscore_pct_funded      53909 non-null  float64 \n",
      " 13  zscore_usd_pledged     53909 non-null  float64 \n",
      " 14  zscore_length_days     53909 non-null  float64 \n",
      " 15  zscore_goal            53909 non-null  float64 \n",
      " 16  zscore_backers         53909 non-null  float64 \n",
      " 17  zscore_pledged         53909 non-null  float64 \n",
      " 18  backers_group          53909 non-null  category\n",
      " 19  usd_pledged_group      53607 non-null  category\n",
      " 20  pct_funded_group       53909 non-null  category\n",
      " 21  length_days_group      53909 non-null  category\n",
      " 22  goal_group             53909 non-null  category\n",
      " 23  state_binary           53909 non-null  int32   \n",
      " 24  Backers_20-59          53909 non-null  object  \n",
      "dtypes: category(5), float64(11), int32(1), int64(2), object(6)\n",
      "memory usage: 8.7+ MB\n"
     ]
    }
   ],
   "source": [
    "df3_backers_3.drop(df3_backers_3.loc[df3_backers_3[\"Backers_20-59\"]==\"N\"].index, inplace = True)\n",
    "df3_backers_3.info()"
   ]
  },
  {
   "cell_type": "code",
   "execution_count": 1597,
   "metadata": {},
   "outputs": [],
   "source": [
    "df3_backers_4 = df3.copy()\n",
    "df3_backers_4[\"Backers_60-99\"] = np.where(df3_backers_4[\"backers_group\"]==\"60-99\", \"Y\", \"N\")"
   ]
  },
  {
   "cell_type": "code",
   "execution_count": 1598,
   "metadata": {},
   "outputs": [
    {
     "name": "stdout",
     "output_type": "stream",
     "text": [
      "<class 'pandas.core.frame.DataFrame'>\n",
      "Int64Index: 23372 entries, 10 to 281846\n",
      "Data columns (total 25 columns):\n",
      " #   Column                 Non-Null Count  Dtype   \n",
      "---  ------                 --------------  -----   \n",
      " 0   main_category          23372 non-null  object  \n",
      " 1   category               23372 non-null  object  \n",
      " 2   country                23372 non-null  object  \n",
      " 3   currency               23372 non-null  object  \n",
      " 4   length_days            23372 non-null  int64   \n",
      " 5   goal                   23372 non-null  float64 \n",
      " 6   pledged                23372 non-null  float64 \n",
      " 7   backers                23372 non-null  int64   \n",
      " 8   state                  23372 non-null  object  \n",
      " 9   usd_pledged            23372 non-null  float64 \n",
      " 10  pct_funded             23372 non-null  float64 \n",
      " 11  avg_pledge_per_backer  23372 non-null  float64 \n",
      " 12  zscore_pct_funded      23372 non-null  float64 \n",
      " 13  zscore_usd_pledged     23372 non-null  float64 \n",
      " 14  zscore_length_days     23372 non-null  float64 \n",
      " 15  zscore_goal            23372 non-null  float64 \n",
      " 16  zscore_backers         23372 non-null  float64 \n",
      " 17  zscore_pledged         23372 non-null  float64 \n",
      " 18  backers_group          23372 non-null  category\n",
      " 19  usd_pledged_group      23291 non-null  category\n",
      " 20  pct_funded_group       23372 non-null  category\n",
      " 21  length_days_group      23372 non-null  category\n",
      " 22  goal_group             23372 non-null  category\n",
      " 23  state_binary           23372 non-null  int32   \n",
      " 24  Backers_60-99          23372 non-null  object  \n",
      "dtypes: category(5), float64(11), int32(1), int64(2), object(6)\n",
      "memory usage: 3.8+ MB\n"
     ]
    }
   ],
   "source": [
    "df3_backers_4.drop(df3_backers_4.loc[df3_backers_4[\"Backers_60-99\"]==\"N\"].index, inplace = True)\n",
    "df3_backers_4.info()"
   ]
  },
  {
   "cell_type": "code",
   "execution_count": 1599,
   "metadata": {},
   "outputs": [],
   "source": [
    "df3_backers_5 = df3.copy()\n",
    "df3_backers_5[\"Backers_100+\"] = np.where(df3_backers_5[\"backers_group\"]==\"100+\", \"Y\", \"N\")"
   ]
  },
  {
   "cell_type": "code",
   "execution_count": 1600,
   "metadata": {},
   "outputs": [
    {
     "name": "stdout",
     "output_type": "stream",
     "text": [
      "<class 'pandas.core.frame.DataFrame'>\n",
      "Int64Index: 27252 entries, 44 to 281854\n",
      "Data columns (total 25 columns):\n",
      " #   Column                 Non-Null Count  Dtype   \n",
      "---  ------                 --------------  -----   \n",
      " 0   main_category          27252 non-null  object  \n",
      " 1   category               27252 non-null  object  \n",
      " 2   country                27252 non-null  object  \n",
      " 3   currency               27252 non-null  object  \n",
      " 4   length_days            27252 non-null  int64   \n",
      " 5   goal                   27252 non-null  float64 \n",
      " 6   pledged                27252 non-null  float64 \n",
      " 7   backers                27252 non-null  int64   \n",
      " 8   state                  27252 non-null  object  \n",
      " 9   usd_pledged            27252 non-null  float64 \n",
      " 10  pct_funded             27252 non-null  float64 \n",
      " 11  avg_pledge_per_backer  27252 non-null  float64 \n",
      " 12  zscore_pct_funded      27252 non-null  float64 \n",
      " 13  zscore_usd_pledged     27252 non-null  float64 \n",
      " 14  zscore_length_days     27252 non-null  float64 \n",
      " 15  zscore_goal            27252 non-null  float64 \n",
      " 16  zscore_backers         27252 non-null  float64 \n",
      " 17  zscore_pledged         27252 non-null  float64 \n",
      " 18  backers_group          27252 non-null  category\n",
      " 19  usd_pledged_group      27178 non-null  category\n",
      " 20  pct_funded_group       27252 non-null  category\n",
      " 21  length_days_group      27252 non-null  category\n",
      " 22  goal_group             27252 non-null  category\n",
      " 23  state_binary           27252 non-null  int32   \n",
      " 24  Backers_100+           27252 non-null  object  \n",
      "dtypes: category(5), float64(11), int32(1), int64(2), object(6)\n",
      "memory usage: 4.4+ MB\n"
     ]
    }
   ],
   "source": [
    "df3_backers_5.drop(df3_backers_5.loc[df3_backers_5[\"Backers_100+\"]==\"N\"].index, inplace = True)\n",
    "df3_backers_5.info()"
   ]
  },
  {
   "cell_type": "markdown",
   "metadata": {},
   "source": [
    "### USD Pledged Groups: \n",
    "- df3_usd_pledged_1: 0-99               50,919 rows\n",
    "- df3_usd_pledged_2: 100-999            62,956 rows\n",
    "- df3_usd_pledged_3: 1,000-4,999        64,278 rows\n",
    "- df3_usd_pledged_4: 5,000-99,999       58,575 rows\n",
    "- df3_usd_pledged_5: 100,000-300,000    3,219 rows"
   ]
  },
  {
   "cell_type": "code",
   "execution_count": 1601,
   "metadata": {},
   "outputs": [],
   "source": [
    "df3_usd_pledged_1 = df3.copy()\n",
    "df3_usd_pledged_1[\"USD_Pledged_0-99\"] = np.where(df3_usd_pledged_1[\"usd_pledged_group\"]==\"0-99\", \"Y\", \"N\")"
   ]
  },
  {
   "cell_type": "code",
   "execution_count": 1602,
   "metadata": {},
   "outputs": [
    {
     "name": "stdout",
     "output_type": "stream",
     "text": [
      "<class 'pandas.core.frame.DataFrame'>\n",
      "Int64Index: 50126 entries, 3 to 281832\n",
      "Data columns (total 25 columns):\n",
      " #   Column                 Non-Null Count  Dtype   \n",
      "---  ------                 --------------  -----   \n",
      " 0   main_category          50126 non-null  object  \n",
      " 1   category               50126 non-null  object  \n",
      " 2   country                50126 non-null  object  \n",
      " 3   currency               50126 non-null  object  \n",
      " 4   length_days            50126 non-null  int64   \n",
      " 5   goal                   50126 non-null  float64 \n",
      " 6   pledged                50126 non-null  float64 \n",
      " 7   backers                50126 non-null  int64   \n",
      " 8   state                  50126 non-null  object  \n",
      " 9   usd_pledged            50126 non-null  float64 \n",
      " 10  pct_funded             50126 non-null  float64 \n",
      " 11  avg_pledge_per_backer  50126 non-null  float64 \n",
      " 12  zscore_pct_funded      50126 non-null  float64 \n",
      " 13  zscore_usd_pledged     50126 non-null  float64 \n",
      " 14  zscore_length_days     50126 non-null  float64 \n",
      " 15  zscore_goal            50126 non-null  float64 \n",
      " 16  zscore_backers         50126 non-null  float64 \n",
      " 17  zscore_pledged         50126 non-null  float64 \n",
      " 18  backers_group          50112 non-null  category\n",
      " 19  usd_pledged_group      50126 non-null  category\n",
      " 20  pct_funded_group       50113 non-null  category\n",
      " 21  length_days_group      50126 non-null  category\n",
      " 22  goal_group             50126 non-null  category\n",
      " 23  state_binary           50126 non-null  int32   \n",
      " 24  USD_Pledged_0-99       50126 non-null  object  \n",
      "dtypes: category(5), float64(11), int32(1), int64(2), object(6)\n",
      "memory usage: 8.1+ MB\n"
     ]
    }
   ],
   "source": [
    "df3_usd_pledged_1.drop(df3_usd_pledged_1.loc[df3_usd_pledged_1[\"USD_Pledged_0-99\"]==\"N\"].index, inplace = True)\n",
    "df3_usd_pledged_1.info()"
   ]
  },
  {
   "cell_type": "code",
   "execution_count": 1603,
   "metadata": {},
   "outputs": [],
   "source": [
    "df3_usd_pledged_2 = df3.copy()\n",
    "df3_usd_pledged_2[\"USD_Pledged_100-999\"] = np.where(df3_usd_pledged_2[\"usd_pledged_group\"]==\"100-999\", \"Y\", \"N\")"
   ]
  },
  {
   "cell_type": "code",
   "execution_count": 1604,
   "metadata": {},
   "outputs": [
    {
     "name": "stdout",
     "output_type": "stream",
     "text": [
      "<class 'pandas.core.frame.DataFrame'>\n",
      "Int64Index: 62342 entries, 5 to 281855\n",
      "Data columns (total 25 columns):\n",
      " #   Column                 Non-Null Count  Dtype   \n",
      "---  ------                 --------------  -----   \n",
      " 0   main_category          62342 non-null  object  \n",
      " 1   category               62342 non-null  object  \n",
      " 2   country                62342 non-null  object  \n",
      " 3   currency               62342 non-null  object  \n",
      " 4   length_days            62342 non-null  int64   \n",
      " 5   goal                   62342 non-null  float64 \n",
      " 6   pledged                62342 non-null  float64 \n",
      " 7   backers                62342 non-null  int64   \n",
      " 8   state                  62342 non-null  object  \n",
      " 9   usd_pledged            62342 non-null  float64 \n",
      " 10  pct_funded             62342 non-null  float64 \n",
      " 11  avg_pledge_per_backer  62342 non-null  float64 \n",
      " 12  zscore_pct_funded      62342 non-null  float64 \n",
      " 13  zscore_usd_pledged     62342 non-null  float64 \n",
      " 14  zscore_length_days     62342 non-null  float64 \n",
      " 15  zscore_goal            62342 non-null  float64 \n",
      " 16  zscore_backers         62342 non-null  float64 \n",
      " 17  zscore_pledged         62342 non-null  float64 \n",
      " 18  backers_group          62338 non-null  category\n",
      " 19  usd_pledged_group      62342 non-null  category\n",
      " 20  pct_funded_group       62339 non-null  category\n",
      " 21  length_days_group      62342 non-null  category\n",
      " 22  goal_group             62342 non-null  category\n",
      " 23  state_binary           62342 non-null  int32   \n",
      " 24  USD_Pledged_100-999    62342 non-null  object  \n",
      "dtypes: category(5), float64(11), int32(1), int64(2), object(6)\n",
      "memory usage: 10.0+ MB\n"
     ]
    }
   ],
   "source": [
    "df3_usd_pledged_2.drop(df3_usd_pledged_2.loc[df3_usd_pledged_2[\"USD_Pledged_100-999\"]==\"N\"].index, inplace = True)\n",
    "df3_usd_pledged_2.info()"
   ]
  },
  {
   "cell_type": "code",
   "execution_count": 1605,
   "metadata": {},
   "outputs": [],
   "source": [
    "df3_usd_pledged_3 = df3.copy()\n",
    "df3_usd_pledged_3[\"USD_Pledged_1,000-4,999\"] = np.where(df3_usd_pledged_3[\"usd_pledged_group\"]==\"1,000-4,999\", \"Y\", \"N\")"
   ]
  },
  {
   "cell_type": "code",
   "execution_count": 1606,
   "metadata": {},
   "outputs": [
    {
     "name": "stdout",
     "output_type": "stream",
     "text": [
      "<class 'pandas.core.frame.DataFrame'>\n",
      "Int64Index: 63395 entries, 0 to 281846\n",
      "Data columns (total 25 columns):\n",
      " #   Column                   Non-Null Count  Dtype   \n",
      "---  ------                   --------------  -----   \n",
      " 0   main_category            63395 non-null  object  \n",
      " 1   category                 63395 non-null  object  \n",
      " 2   country                  63395 non-null  object  \n",
      " 3   currency                 63395 non-null  object  \n",
      " 4   length_days              63395 non-null  int64   \n",
      " 5   goal                     63395 non-null  float64 \n",
      " 6   pledged                  63395 non-null  float64 \n",
      " 7   backers                  63395 non-null  int64   \n",
      " 8   state                    63395 non-null  object  \n",
      " 9   usd_pledged              63395 non-null  float64 \n",
      " 10  pct_funded               63395 non-null  float64 \n",
      " 11  avg_pledge_per_backer    63395 non-null  float64 \n",
      " 12  zscore_pct_funded        63395 non-null  float64 \n",
      " 13  zscore_usd_pledged       63395 non-null  float64 \n",
      " 14  zscore_length_days       63395 non-null  float64 \n",
      " 15  zscore_goal              63395 non-null  float64 \n",
      " 16  zscore_backers           63395 non-null  float64 \n",
      " 17  zscore_pledged           63395 non-null  float64 \n",
      " 18  backers_group            63395 non-null  category\n",
      " 19  usd_pledged_group        63395 non-null  category\n",
      " 20  pct_funded_group         63395 non-null  category\n",
      " 21  length_days_group        63395 non-null  category\n",
      " 22  goal_group               63395 non-null  category\n",
      " 23  state_binary             63395 non-null  int32   \n",
      " 24  USD_Pledged_1,000-4,999  63395 non-null  object  \n",
      "dtypes: category(5), float64(11), int32(1), int64(2), object(6)\n",
      "memory usage: 10.2+ MB\n"
     ]
    }
   ],
   "source": [
    "df3_usd_pledged_3.drop(df3_usd_pledged_3.loc[df3_usd_pledged_3[\"USD_Pledged_1,000-4,999\"]==\"N\"].index, inplace = True)\n",
    "df3_usd_pledged_3.info()"
   ]
  },
  {
   "cell_type": "code",
   "execution_count": 1607,
   "metadata": {},
   "outputs": [],
   "source": [
    "df3_usd_pledged_4 = df3.copy()\n",
    "df3_usd_pledged_4[\"USD_Pledged_5,000-99,999\"] = np.where(df3_usd_pledged_4[\"usd_pledged_group\"]==\"5,000-99,999\", \"Y\", \"N\")"
   ]
  },
  {
   "cell_type": "code",
   "execution_count": 1608,
   "metadata": {},
   "outputs": [
    {
     "name": "stdout",
     "output_type": "stream",
     "text": [
      "<class 'pandas.core.frame.DataFrame'>\n",
      "Int64Index: 43291 entries, 7 to 281854\n",
      "Data columns (total 25 columns):\n",
      " #   Column                    Non-Null Count  Dtype   \n",
      "---  ------                    --------------  -----   \n",
      " 0   main_category             43291 non-null  object  \n",
      " 1   category                  43291 non-null  object  \n",
      " 2   country                   43291 non-null  object  \n",
      " 3   currency                  43291 non-null  object  \n",
      " 4   length_days               43291 non-null  int64   \n",
      " 5   goal                      43291 non-null  float64 \n",
      " 6   pledged                   43291 non-null  float64 \n",
      " 7   backers                   43291 non-null  int64   \n",
      " 8   state                     43291 non-null  object  \n",
      " 9   usd_pledged               43291 non-null  float64 \n",
      " 10  pct_funded                43291 non-null  float64 \n",
      " 11  avg_pledge_per_backer     43291 non-null  float64 \n",
      " 12  zscore_pct_funded         43291 non-null  float64 \n",
      " 13  zscore_usd_pledged        43291 non-null  float64 \n",
      " 14  zscore_length_days        43291 non-null  float64 \n",
      " 15  zscore_goal               43291 non-null  float64 \n",
      " 16  zscore_backers            43291 non-null  float64 \n",
      " 17  zscore_pledged            43291 non-null  float64 \n",
      " 18  backers_group             43291 non-null  category\n",
      " 19  usd_pledged_group         43291 non-null  category\n",
      " 20  pct_funded_group          43291 non-null  category\n",
      " 21  length_days_group         43291 non-null  category\n",
      " 22  goal_group                43291 non-null  category\n",
      " 23  state_binary              43291 non-null  int32   \n",
      " 24  USD_Pledged_5,000-99,999  43291 non-null  object  \n",
      "dtypes: category(5), float64(11), int32(1), int64(2), object(6)\n",
      "memory usage: 7.0+ MB\n"
     ]
    }
   ],
   "source": [
    "df3_usd_pledged_4.drop(df3_usd_pledged_4.loc[df3_usd_pledged_4[\"USD_Pledged_5,000-99,999\"]==\"N\"].index, inplace = True)\n",
    "df3_usd_pledged_4.info()"
   ]
  },
  {
   "cell_type": "code",
   "execution_count": 1609,
   "metadata": {},
   "outputs": [],
   "source": [
    "df3_usd_pledged_5 = df3.copy()\n",
    "df3_usd_pledged_5[\"USD_Pledged_100,000-300,000\"] = np.where(df3_usd_pledged_5[\"usd_pledged_group\"]==\"100,000-300,000\", \"Y\", \"N\")"
   ]
  },
  {
   "cell_type": "code",
   "execution_count": 1610,
   "metadata": {},
   "outputs": [
    {
     "name": "stdout",
     "output_type": "stream",
     "text": [
      "<class 'pandas.core.frame.DataFrame'>\n",
      "Int64Index: 0 entries\n",
      "Data columns (total 25 columns):\n",
      " #   Column                       Non-Null Count  Dtype   \n",
      "---  ------                       --------------  -----   \n",
      " 0   main_category                0 non-null      object  \n",
      " 1   category                     0 non-null      object  \n",
      " 2   country                      0 non-null      object  \n",
      " 3   currency                     0 non-null      object  \n",
      " 4   length_days                  0 non-null      int64   \n",
      " 5   goal                         0 non-null      float64 \n",
      " 6   pledged                      0 non-null      float64 \n",
      " 7   backers                      0 non-null      int64   \n",
      " 8   state                        0 non-null      object  \n",
      " 9   usd_pledged                  0 non-null      float64 \n",
      " 10  pct_funded                   0 non-null      float64 \n",
      " 11  avg_pledge_per_backer        0 non-null      float64 \n",
      " 12  zscore_pct_funded            0 non-null      float64 \n",
      " 13  zscore_usd_pledged           0 non-null      float64 \n",
      " 14  zscore_length_days           0 non-null      float64 \n",
      " 15  zscore_goal                  0 non-null      float64 \n",
      " 16  zscore_backers               0 non-null      float64 \n",
      " 17  zscore_pledged               0 non-null      float64 \n",
      " 18  backers_group                0 non-null      category\n",
      " 19  usd_pledged_group            0 non-null      category\n",
      " 20  pct_funded_group             0 non-null      category\n",
      " 21  length_days_group            0 non-null      category\n",
      " 22  goal_group                   0 non-null      category\n",
      " 23  state_binary                 0 non-null      int32   \n",
      " 24  USD_Pledged_100,000-300,000  0 non-null      object  \n",
      "dtypes: category(5), float64(11), int32(1), int64(2), object(6)\n",
      "memory usage: 1.0+ KB\n"
     ]
    }
   ],
   "source": [
    "df3_usd_pledged_5.drop(df3_usd_pledged_5.loc[df3_usd_pledged_5[\"USD_Pledged_100,000-300,000\"]==\"N\"].index, inplace = True)\n",
    "df3_usd_pledged_5.info()"
   ]
  },
  {
   "cell_type": "code",
   "execution_count": 1611,
   "metadata": {},
   "outputs": [],
   "source": [
    "#df3_backers_1.to_excel(\"df3_backers_1.xlsx\")\n",
    "#df3_backers_2.to_excel(\"df3_backers_2.xlsx\")\n",
    "#df3_backers_3.to_excel(\"df3_backers_3.xlsx\")\n",
    "#df3_backers_4.to_excel(\"df3_backers_4.xlsx\")\n",
    "#df3_backers_5.to_excel(\"df3_backers_5.xlsx\")"
   ]
  },
  {
   "cell_type": "code",
   "execution_count": 1612,
   "metadata": {},
   "outputs": [],
   "source": [
    "#df3.to_excel(\"Kickstarter_df3.xlsx\")"
   ]
  },
  {
   "cell_type": "code",
   "execution_count": 1613,
   "metadata": {},
   "outputs": [],
   "source": [
    "#df3_usd_pledged_1.to_excel(\"df3_usd_pledged_1.xlsx\")\n",
    "#df3_usd_pledged_2.to_excel(\"df3_usd_pledged_2.xlsx\")\n",
    "#df3_usd_pledged_3.to_excel(\"df3_usd_pledged_3.xlsx\")\n",
    "#df3_usd_pledged_4.to_excel(\"df3_usd_pledged_4.xlsx\")\n",
    "#df3_usd_pledged_5.to_excel(\"df3_usd_pledged_5.xlsx\")"
   ]
  },
  {
   "cell_type": "markdown",
   "metadata": {},
   "source": [
    "### Pct Funded Groups: \n",
    "- df3_pct_funded_1: 0-49           128,844 rows\n",
    "- df3_pct_funded_2: 50-89            7,557 rows\n",
    "- df3_pct_funded_3: 90-99            3,925 rows\n",
    "- df3_pct_funded_4: 100-109         34,727 rows\n",
    "- df3_pct_funded_5: 110+            62,894 rows"
   ]
  },
  {
   "cell_type": "code",
   "execution_count": 1614,
   "metadata": {},
   "outputs": [],
   "source": [
    "df3_pct_funded_1 = df3.copy()\n",
    "df3_pct_funded_1[\"Pct_Funded_0-49\"] = np.where(df3_pct_funded_1[\"pct_funded_group\"]==\"0-49\", \"Y\", \"N\")"
   ]
  },
  {
   "cell_type": "code",
   "execution_count": 1615,
   "metadata": {},
   "outputs": [
    {
     "name": "stdout",
     "output_type": "stream",
     "text": [
      "<class 'pandas.core.frame.DataFrame'>\n",
      "Int64Index: 125358 entries, 0 to 281853\n",
      "Data columns (total 25 columns):\n",
      " #   Column                 Non-Null Count   Dtype   \n",
      "---  ------                 --------------   -----   \n",
      " 0   main_category          125358 non-null  object  \n",
      " 1   category               125358 non-null  object  \n",
      " 2   country                125358 non-null  object  \n",
      " 3   currency               125358 non-null  object  \n",
      " 4   length_days            125358 non-null  int64   \n",
      " 5   goal                   125358 non-null  float64 \n",
      " 6   pledged                125358 non-null  float64 \n",
      " 7   backers                125358 non-null  int64   \n",
      " 8   state                  125358 non-null  object  \n",
      " 9   usd_pledged            125358 non-null  float64 \n",
      " 10  pct_funded             125358 non-null  float64 \n",
      " 11  avg_pledge_per_backer  125357 non-null  float64 \n",
      " 12  zscore_pct_funded      125358 non-null  float64 \n",
      " 13  zscore_usd_pledged     125358 non-null  float64 \n",
      " 14  zscore_length_days     125358 non-null  float64 \n",
      " 15  zscore_goal            125358 non-null  float64 \n",
      " 16  zscore_backers         125358 non-null  float64 \n",
      " 17  zscore_pledged         125358 non-null  float64 \n",
      " 18  backers_group          125355 non-null  category\n",
      " 19  usd_pledged_group      121801 non-null  category\n",
      " 20  pct_funded_group       125358 non-null  category\n",
      " 21  length_days_group      125358 non-null  category\n",
      " 22  goal_group             125358 non-null  category\n",
      " 23  state_binary           125358 non-null  int32   \n",
      " 24  Pct_Funded_0-49        125358 non-null  object  \n",
      "dtypes: category(5), float64(11), int32(1), int64(2), object(6)\n",
      "memory usage: 20.2+ MB\n"
     ]
    }
   ],
   "source": [
    "df3_pct_funded_1.drop(df3_pct_funded_1.loc[df3_pct_funded_1[\"Pct_Funded_0-49\"]==\"N\"].index, inplace = True)\n",
    "df3_pct_funded_1.info()"
   ]
  },
  {
   "cell_type": "code",
   "execution_count": 1616,
   "metadata": {},
   "outputs": [],
   "source": [
    "df3_pct_funded_2 = df3.copy()\n",
    "df3_pct_funded_2[\"Pct_Funded_50-89\"] = np.where(df3_pct_funded_2[\"pct_funded_group\"]==\"50-89\", \"Y\", \"N\")"
   ]
  },
  {
   "cell_type": "code",
   "execution_count": 1617,
   "metadata": {},
   "outputs": [
    {
     "name": "stdout",
     "output_type": "stream",
     "text": [
      "<class 'pandas.core.frame.DataFrame'>\n",
      "Int64Index: 4832 entries, 50 to 281750\n",
      "Data columns (total 25 columns):\n",
      " #   Column                 Non-Null Count  Dtype   \n",
      "---  ------                 --------------  -----   \n",
      " 0   main_category          4832 non-null   object  \n",
      " 1   category               4832 non-null   object  \n",
      " 2   country                4832 non-null   object  \n",
      " 3   currency               4832 non-null   object  \n",
      " 4   length_days            4832 non-null   int64   \n",
      " 5   goal                   4832 non-null   float64 \n",
      " 6   pledged                4832 non-null   float64 \n",
      " 7   backers                4832 non-null   int64   \n",
      " 8   state                  4832 non-null   object  \n",
      " 9   usd_pledged            4832 non-null   float64 \n",
      " 10  pct_funded             4832 non-null   float64 \n",
      " 11  avg_pledge_per_backer  4832 non-null   float64 \n",
      " 12  zscore_pct_funded      4832 non-null   float64 \n",
      " 13  zscore_usd_pledged     4832 non-null   float64 \n",
      " 14  zscore_length_days     4832 non-null   float64 \n",
      " 15  zscore_goal            4832 non-null   float64 \n",
      " 16  zscore_backers         4832 non-null   float64 \n",
      " 17  zscore_pledged         4832 non-null   float64 \n",
      " 18  backers_group          4832 non-null   category\n",
      " 19  usd_pledged_group      4798 non-null   category\n",
      " 20  pct_funded_group       4832 non-null   category\n",
      " 21  length_days_group      4832 non-null   category\n",
      " 22  goal_group             4832 non-null   category\n",
      " 23  state_binary           4832 non-null   int32   \n",
      " 24  Pct_Funded_50-89       4832 non-null   object  \n",
      "dtypes: category(5), float64(11), int32(1), int64(2), object(6)\n",
      "memory usage: 798.5+ KB\n"
     ]
    }
   ],
   "source": [
    "df3_pct_funded_2.drop(df3_pct_funded_2.loc[df3_pct_funded_2[\"Pct_Funded_50-89\"]==\"N\"].index, inplace = True)\n",
    "df3_pct_funded_2.info()"
   ]
  },
  {
   "cell_type": "code",
   "execution_count": 1618,
   "metadata": {},
   "outputs": [],
   "source": [
    "df3_pct_funded_3 = df3.copy()\n",
    "df3_pct_funded_3[\"Pct_Funded_90-99\"] = np.where(df3_pct_funded_3[\"pct_funded_group\"]==\"90-99\", \"Y\", \"N\")"
   ]
  },
  {
   "cell_type": "code",
   "execution_count": 1619,
   "metadata": {},
   "outputs": [
    {
     "name": "stdout",
     "output_type": "stream",
     "text": [
      "<class 'pandas.core.frame.DataFrame'>\n",
      "Int64Index: 3598 entries, 68 to 281836\n",
      "Data columns (total 25 columns):\n",
      " #   Column                 Non-Null Count  Dtype   \n",
      "---  ------                 --------------  -----   \n",
      " 0   main_category          3598 non-null   object  \n",
      " 1   category               3598 non-null   object  \n",
      " 2   country                3598 non-null   object  \n",
      " 3   currency               3598 non-null   object  \n",
      " 4   length_days            3598 non-null   int64   \n",
      " 5   goal                   3598 non-null   float64 \n",
      " 6   pledged                3598 non-null   float64 \n",
      " 7   backers                3598 non-null   int64   \n",
      " 8   state                  3598 non-null   object  \n",
      " 9   usd_pledged            3598 non-null   float64 \n",
      " 10  pct_funded             3598 non-null   float64 \n",
      " 11  avg_pledge_per_backer  3598 non-null   float64 \n",
      " 12  zscore_pct_funded      3598 non-null   float64 \n",
      " 13  zscore_usd_pledged     3598 non-null   float64 \n",
      " 14  zscore_length_days     3598 non-null   float64 \n",
      " 15  zscore_goal            3598 non-null   float64 \n",
      " 16  zscore_backers         3598 non-null   float64 \n",
      " 17  zscore_pledged         3598 non-null   float64 \n",
      " 18  backers_group          3598 non-null   category\n",
      " 19  usd_pledged_group      3545 non-null   category\n",
      " 20  pct_funded_group       3598 non-null   category\n",
      " 21  length_days_group      3598 non-null   category\n",
      " 22  goal_group             3598 non-null   category\n",
      " 23  state_binary           3598 non-null   int32   \n",
      " 24  Pct_Funded_90-99       3598 non-null   object  \n",
      "dtypes: category(5), float64(11), int32(1), int64(2), object(6)\n",
      "memory usage: 594.8+ KB\n"
     ]
    }
   ],
   "source": [
    "df3_pct_funded_3.drop(df3_pct_funded_3.loc[df3_pct_funded_3[\"Pct_Funded_90-99\"]==\"N\"].index, inplace = True)\n",
    "df3_pct_funded_3.info()"
   ]
  },
  {
   "cell_type": "code",
   "execution_count": 1620,
   "metadata": {},
   "outputs": [],
   "source": [
    "df3_pct_funded_4 = df3.copy()\n",
    "df3_pct_funded_4[\"Pct_Funded_100-109\"] = np.where(df3_pct_funded_4[\"pct_funded_group\"]==\"100-109\", \"Y\", \"N\")"
   ]
  },
  {
   "cell_type": "code",
   "execution_count": 1621,
   "metadata": {},
   "outputs": [
    {
     "name": "stdout",
     "output_type": "stream",
     "text": [
      "<class 'pandas.core.frame.DataFrame'>\n",
      "Int64Index: 37861 entries, 11 to 281854\n",
      "Data columns (total 25 columns):\n",
      " #   Column                 Non-Null Count  Dtype   \n",
      "---  ------                 --------------  -----   \n",
      " 0   main_category          37861 non-null  object  \n",
      " 1   category               37861 non-null  object  \n",
      " 2   country                37861 non-null  object  \n",
      " 3   currency               37861 non-null  object  \n",
      " 4   length_days            37861 non-null  int64   \n",
      " 5   goal                   37861 non-null  float64 \n",
      " 6   pledged                37861 non-null  float64 \n",
      " 7   backers                37861 non-null  int64   \n",
      " 8   state                  37861 non-null  object  \n",
      " 9   usd_pledged            37861 non-null  float64 \n",
      " 10  pct_funded             37861 non-null  float64 \n",
      " 11  avg_pledge_per_backer  37861 non-null  float64 \n",
      " 12  zscore_pct_funded      37861 non-null  float64 \n",
      " 13  zscore_usd_pledged     37861 non-null  float64 \n",
      " 14  zscore_length_days     37861 non-null  float64 \n",
      " 15  zscore_goal            37861 non-null  float64 \n",
      " 16  zscore_backers         37861 non-null  float64 \n",
      " 17  zscore_pledged         37861 non-null  float64 \n",
      " 18  backers_group          37861 non-null  category\n",
      " 19  usd_pledged_group      37655 non-null  category\n",
      " 20  pct_funded_group       37861 non-null  category\n",
      " 21  length_days_group      37861 non-null  category\n",
      " 22  goal_group             37861 non-null  category\n",
      " 23  state_binary           37861 non-null  int32   \n",
      " 24  Pct_Funded_100-109     37861 non-null  object  \n",
      "dtypes: category(5), float64(11), int32(1), int64(2), object(6)\n",
      "memory usage: 6.1+ MB\n"
     ]
    }
   ],
   "source": [
    "df3_pct_funded_4.drop(df3_pct_funded_4.loc[df3_pct_funded_4[\"Pct_Funded_100-109\"]==\"N\"].index, inplace = True)\n",
    "df3_pct_funded_4.info()"
   ]
  },
  {
   "cell_type": "code",
   "execution_count": 1622,
   "metadata": {},
   "outputs": [],
   "source": [
    "df3_pct_funded_5 = df3.copy()\n",
    "df3_pct_funded_5[\"Pct_Funded_110+\"] = np.where(df3_pct_funded_5[\"pct_funded_group\"]==\"110+\", \"Y\", \"N\")"
   ]
  },
  {
   "cell_type": "code",
   "execution_count": 1623,
   "metadata": {},
   "outputs": [
    {
     "name": "stdout",
     "output_type": "stream",
     "text": [
      "<class 'pandas.core.frame.DataFrame'>\n",
      "Int64Index: 51609 entries, 10 to 281855\n",
      "Data columns (total 25 columns):\n",
      " #   Column                 Non-Null Count  Dtype   \n",
      "---  ------                 --------------  -----   \n",
      " 0   main_category          51609 non-null  object  \n",
      " 1   category               51609 non-null  object  \n",
      " 2   country                51609 non-null  object  \n",
      " 3   currency               51609 non-null  object  \n",
      " 4   length_days            51609 non-null  int64   \n",
      " 5   goal                   51609 non-null  float64 \n",
      " 6   pledged                51609 non-null  float64 \n",
      " 7   backers                51609 non-null  int64   \n",
      " 8   state                  51609 non-null  object  \n",
      " 9   usd_pledged            51609 non-null  float64 \n",
      " 10  pct_funded             51609 non-null  float64 \n",
      " 11  avg_pledge_per_backer  51609 non-null  float64 \n",
      " 12  zscore_pct_funded      51609 non-null  float64 \n",
      " 13  zscore_usd_pledged     51609 non-null  float64 \n",
      " 14  zscore_length_days     51609 non-null  float64 \n",
      " 15  zscore_goal            51609 non-null  float64 \n",
      " 16  zscore_backers         51609 non-null  float64 \n",
      " 17  zscore_pledged         51609 non-null  float64 \n",
      " 18  backers_group          51609 non-null  category\n",
      " 19  usd_pledged_group      51339 non-null  category\n",
      " 20  pct_funded_group       51609 non-null  category\n",
      " 21  length_days_group      51609 non-null  category\n",
      " 22  goal_group             51609 non-null  category\n",
      " 23  state_binary           51609 non-null  int32   \n",
      " 24  Pct_Funded_110+        51609 non-null  object  \n",
      "dtypes: category(5), float64(11), int32(1), int64(2), object(6)\n",
      "memory usage: 8.3+ MB\n"
     ]
    }
   ],
   "source": [
    "df3_pct_funded_5.drop(df3_pct_funded_5.loc[df3_pct_funded_5[\"Pct_Funded_110+\"]==\"N\"].index, inplace = True)\n",
    "df3_pct_funded_5.info()"
   ]
  },
  {
   "cell_type": "code",
   "execution_count": null,
   "metadata": {},
   "outputs": [],
   "source": []
  },
  {
   "cell_type": "markdown",
   "metadata": {},
   "source": [
    "### Length Days Groups: \n",
    "- df3_length_days_1: 0-14            14,455 rows\n",
    "- df3_length_days_2: 15-19           10,289 rows\n",
    "- df3_length_days_3: 20-29           156,505 rows\n",
    "- df3_length_days_4: 30-59           92,244 rows\n",
    "- df3_length_days_5: 60-100           1,517 rows"
   ]
  },
  {
   "cell_type": "code",
   "execution_count": 1624,
   "metadata": {},
   "outputs": [],
   "source": [
    "df3_length_days_1 = df3.copy()\n",
    "df3_length_days_1[\"Length_Days_0-14\"] = np.where(df3_length_days_1[\"length_days_group\"]==\"0-14\", \"Y\", \"N\")"
   ]
  },
  {
   "cell_type": "code",
   "execution_count": 1625,
   "metadata": {},
   "outputs": [
    {
     "name": "stdout",
     "output_type": "stream",
     "text": [
      "<class 'pandas.core.frame.DataFrame'>\n",
      "Int64Index: 14096 entries, 48 to 281823\n",
      "Data columns (total 25 columns):\n",
      " #   Column                 Non-Null Count  Dtype   \n",
      "---  ------                 --------------  -----   \n",
      " 0   main_category          14096 non-null  object  \n",
      " 1   category               14096 non-null  object  \n",
      " 2   country                14096 non-null  object  \n",
      " 3   currency               14096 non-null  object  \n",
      " 4   length_days            14096 non-null  int64   \n",
      " 5   goal                   14096 non-null  float64 \n",
      " 6   pledged                14096 non-null  float64 \n",
      " 7   backers                14096 non-null  int64   \n",
      " 8   state                  14096 non-null  object  \n",
      " 9   usd_pledged            14096 non-null  float64 \n",
      " 10  pct_funded             14096 non-null  float64 \n",
      " 11  avg_pledge_per_backer  11894 non-null  float64 \n",
      " 12  zscore_pct_funded      14096 non-null  float64 \n",
      " 13  zscore_usd_pledged     14096 non-null  float64 \n",
      " 14  zscore_length_days     14096 non-null  float64 \n",
      " 15  zscore_goal            14096 non-null  float64 \n",
      " 16  zscore_backers         14096 non-null  float64 \n",
      " 17  zscore_pledged         14096 non-null  float64 \n",
      " 18  backers_group          11894 non-null  category\n",
      " 19  usd_pledged_group      11672 non-null  category\n",
      " 20  pct_funded_group       11894 non-null  category\n",
      " 21  length_days_group      14096 non-null  category\n",
      " 22  goal_group             14096 non-null  category\n",
      " 23  state_binary           14096 non-null  int32   \n",
      " 24  Length_Days_0-14       14096 non-null  object  \n",
      "dtypes: category(5), float64(11), int32(1), int64(2), object(6)\n",
      "memory usage: 2.3+ MB\n"
     ]
    }
   ],
   "source": [
    "df3_length_days_1.drop(df3_length_days_1.loc[df3_length_days_1[\"Length_Days_0-14\"]==\"N\"].index, inplace = True)\n",
    "df3_length_days_1.info()"
   ]
  },
  {
   "cell_type": "code",
   "execution_count": 1626,
   "metadata": {},
   "outputs": [],
   "source": [
    "df3_length_days_2 = df3.copy()\n",
    "df3_length_days_2[\"Length_Days_15-19\"] = np.where(df3_length_days_2[\"length_days_group\"]==\"15-19\", \"Y\", \"N\")"
   ]
  },
  {
   "cell_type": "code",
   "execution_count": 1627,
   "metadata": {},
   "outputs": [
    {
     "name": "stdout",
     "output_type": "stream",
     "text": [
      "<class 'pandas.core.frame.DataFrame'>\n",
      "Int64Index: 9923 entries, 39 to 281816\n",
      "Data columns (total 25 columns):\n",
      " #   Column                 Non-Null Count  Dtype   \n",
      "---  ------                 --------------  -----   \n",
      " 0   main_category          9923 non-null   object  \n",
      " 1   category               9923 non-null   object  \n",
      " 2   country                9923 non-null   object  \n",
      " 3   currency               9923 non-null   object  \n",
      " 4   length_days            9923 non-null   int64   \n",
      " 5   goal                   9923 non-null   float64 \n",
      " 6   pledged                9923 non-null   float64 \n",
      " 7   backers                9923 non-null   int64   \n",
      " 8   state                  9923 non-null   object  \n",
      " 9   usd_pledged            9923 non-null   float64 \n",
      " 10  pct_funded             9923 non-null   float64 \n",
      " 11  avg_pledge_per_backer  8803 non-null   float64 \n",
      " 12  zscore_pct_funded      9923 non-null   float64 \n",
      " 13  zscore_usd_pledged     9923 non-null   float64 \n",
      " 14  zscore_length_days     9923 non-null   float64 \n",
      " 15  zscore_goal            9923 non-null   float64 \n",
      " 16  zscore_backers         9923 non-null   float64 \n",
      " 17  zscore_pledged         9923 non-null   float64 \n",
      " 18  backers_group          8803 non-null   category\n",
      " 19  usd_pledged_group      8638 non-null   category\n",
      " 20  pct_funded_group       8803 non-null   category\n",
      " 21  length_days_group      9923 non-null   category\n",
      " 22  goal_group             9923 non-null   category\n",
      " 23  state_binary           9923 non-null   int32   \n",
      " 24  Length_Days_15-19      9923 non-null   object  \n",
      "dtypes: category(5), float64(11), int32(1), int64(2), object(6)\n",
      "memory usage: 1.6+ MB\n"
     ]
    }
   ],
   "source": [
    "df3_length_days_2.drop(df3_length_days_2.loc[df3_length_days_2[\"Length_Days_15-19\"]==\"N\"].index, inplace = True)\n",
    "df3_length_days_2.info()"
   ]
  },
  {
   "cell_type": "code",
   "execution_count": 1628,
   "metadata": {},
   "outputs": [],
   "source": [
    "df3_length_days_3 = df3.copy()\n",
    "df3_length_days_3[\"Length_Days_20-29\"] = np.where(df3_length_days_3[\"length_days_group\"]==\"20-29\", \"Y\", \"N\")"
   ]
  },
  {
   "cell_type": "code",
   "execution_count": 1629,
   "metadata": {},
   "outputs": [
    {
     "name": "stdout",
     "output_type": "stream",
     "text": [
      "<class 'pandas.core.frame.DataFrame'>\n",
      "Int64Index: 146367 entries, 0 to 281855\n",
      "Data columns (total 25 columns):\n",
      " #   Column                 Non-Null Count   Dtype   \n",
      "---  ------                 --------------   -----   \n",
      " 0   main_category          146367 non-null  object  \n",
      " 1   category               146367 non-null  object  \n",
      " 2   country                146367 non-null  object  \n",
      " 3   currency               146367 non-null  object  \n",
      " 4   length_days            146367 non-null  int64   \n",
      " 5   goal                   146367 non-null  float64 \n",
      " 6   pledged                146367 non-null  float64 \n",
      " 7   backers                146367 non-null  int64   \n",
      " 8   state                  146367 non-null  object  \n",
      " 9   usd_pledged            146367 non-null  float64 \n",
      " 10  pct_funded             146367 non-null  float64 \n",
      " 11  avg_pledge_per_backer  126705 non-null  float64 \n",
      " 12  zscore_pct_funded      146367 non-null  float64 \n",
      " 13  zscore_usd_pledged     146367 non-null  float64 \n",
      " 14  zscore_length_days     146367 non-null  float64 \n",
      " 15  zscore_goal            146367 non-null  float64 \n",
      " 16  zscore_backers         146367 non-null  float64 \n",
      " 17  zscore_pledged         146367 non-null  float64 \n",
      " 18  backers_group          126695 non-null  category\n",
      " 19  usd_pledged_group      124196 non-null  category\n",
      " 20  pct_funded_group       126695 non-null  category\n",
      " 21  length_days_group      146367 non-null  category\n",
      " 22  goal_group             146367 non-null  category\n",
      " 23  state_binary           146367 non-null  int32   \n",
      " 24  Length_Days_20-29      146367 non-null  object  \n",
      "dtypes: category(5), float64(11), int32(1), int64(2), object(6)\n",
      "memory usage: 23.6+ MB\n"
     ]
    }
   ],
   "source": [
    "df3_length_days_3.drop(df3_length_days_3.loc[df3_length_days_3[\"Length_Days_20-29\"]==\"N\"].index, inplace = True)\n",
    "df3_length_days_3.info()"
   ]
  },
  {
   "cell_type": "code",
   "execution_count": 1630,
   "metadata": {},
   "outputs": [],
   "source": [
    "df3_length_days_4 = df3.copy()\n",
    "df3_length_days_4[\"Length_Days_30-59\"] = np.where(df3_length_days_4[\"length_days_group\"]==\"30-59\", \"Y\", \"N\")"
   ]
  },
  {
   "cell_type": "code",
   "execution_count": 1631,
   "metadata": {},
   "outputs": [
    {
     "name": "stdout",
     "output_type": "stream",
     "text": [
      "<class 'pandas.core.frame.DataFrame'>\n",
      "Int64Index: 83896 entries, 1 to 281854\n",
      "Data columns (total 25 columns):\n",
      " #   Column                 Non-Null Count  Dtype   \n",
      "---  ------                 --------------  -----   \n",
      " 0   main_category          83896 non-null  object  \n",
      " 1   category               83896 non-null  object  \n",
      " 2   country                83896 non-null  object  \n",
      " 3   currency               83896 non-null  object  \n",
      " 4   length_days            83896 non-null  int64   \n",
      " 5   goal                   83896 non-null  float64 \n",
      " 6   pledged                83896 non-null  float64 \n",
      " 7   backers                83896 non-null  int64   \n",
      " 8   state                  83896 non-null  object  \n",
      " 9   usd_pledged            83896 non-null  float64 \n",
      " 10  pct_funded             83896 non-null  float64 \n",
      " 11  avg_pledge_per_backer  74817 non-null  float64 \n",
      " 12  zscore_pct_funded      83896 non-null  float64 \n",
      " 13  zscore_usd_pledged     83896 non-null  float64 \n",
      " 14  zscore_length_days     83896 non-null  float64 \n",
      " 15  zscore_goal            83896 non-null  float64 \n",
      " 16  zscore_backers         83896 non-null  float64 \n",
      " 17  zscore_pledged         83896 non-null  float64 \n",
      " 18  backers_group          74810 non-null  category\n",
      " 19  usd_pledged_group      73594 non-null  category\n",
      " 20  pct_funded_group       74812 non-null  category\n",
      " 21  length_days_group      83896 non-null  category\n",
      " 22  goal_group             83896 non-null  category\n",
      " 23  state_binary           83896 non-null  int32   \n",
      " 24  Length_Days_30-59      83896 non-null  object  \n",
      "dtypes: category(5), float64(11), int32(1), int64(2), object(6)\n",
      "memory usage: 13.5+ MB\n"
     ]
    }
   ],
   "source": [
    "df3_length_days_4.drop(df3_length_days_4.loc[df3_length_days_4[\"Length_Days_30-59\"]==\"N\"].index, inplace = True)\n",
    "df3_length_days_4.info()"
   ]
  },
  {
   "cell_type": "code",
   "execution_count": 1632,
   "metadata": {},
   "outputs": [],
   "source": [
    "df3_length_days_5 = df3.copy()\n",
    "df3_length_days_5[\"Length_Days_60-100\"] = np.where(df3_length_days_5[\"length_days_group\"]==\"60-100\", \"Y\", \"N\")"
   ]
  },
  {
   "cell_type": "code",
   "execution_count": 1633,
   "metadata": {},
   "outputs": [
    {
     "name": "stdout",
     "output_type": "stream",
     "text": [
      "<class 'pandas.core.frame.DataFrame'>\n",
      "Int64Index: 1173 entries, 3906 to 280976\n",
      "Data columns (total 25 columns):\n",
      " #   Column                 Non-Null Count  Dtype   \n",
      "---  ------                 --------------  -----   \n",
      " 0   main_category          1173 non-null   object  \n",
      " 1   category               1173 non-null   object  \n",
      " 2   country                1173 non-null   object  \n",
      " 3   currency               1173 non-null   object  \n",
      " 4   length_days            1173 non-null   int64   \n",
      " 5   goal                   1173 non-null   float64 \n",
      " 6   pledged                1173 non-null   float64 \n",
      " 7   backers                1173 non-null   int64   \n",
      " 8   state                  1173 non-null   object  \n",
      " 9   usd_pledged            1173 non-null   float64 \n",
      " 10  pct_funded             1173 non-null   float64 \n",
      " 11  avg_pledge_per_backer  1054 non-null   float64 \n",
      " 12  zscore_pct_funded      1173 non-null   float64 \n",
      " 13  zscore_usd_pledged     1173 non-null   float64 \n",
      " 14  zscore_length_days     1173 non-null   float64 \n",
      " 15  zscore_goal            1173 non-null   float64 \n",
      " 16  zscore_backers         1173 non-null   float64 \n",
      " 17  zscore_pledged         1173 non-null   float64 \n",
      " 18  backers_group          1053 non-null   category\n",
      " 19  usd_pledged_group      1054 non-null   category\n",
      " 20  pct_funded_group       1054 non-null   category\n",
      " 21  length_days_group      1173 non-null   category\n",
      " 22  goal_group             1173 non-null   category\n",
      " 23  state_binary           1173 non-null   int32   \n",
      " 24  Length_Days_60-100     1173 non-null   object  \n",
      "dtypes: category(5), float64(11), int32(1), int64(2), object(6)\n",
      "memory usage: 194.6+ KB\n"
     ]
    }
   ],
   "source": [
    "df3_length_days_5.drop(df3_length_days_5.loc[df3_length_days_5[\"Length_Days_60-100\"]==\"N\"].index, inplace = True)\n",
    "df3_length_days_5.info()"
   ]
  },
  {
   "cell_type": "markdown",
   "metadata": {},
   "source": [
    "### Goal Groups: \n",
    "- df3_goal_1: 0-1,999           76,693 rows\n",
    "- df3_goal_2: 2,000-4,999       67,004 rows\n",
    "- df3_goal_3: 5,000-14,999      68,732 rows\n",
    "- df3_goal_4: 15,000-29,999     30,275 rows\n",
    "- df3_goal_5: 30,000+           32,306 rows"
   ]
  },
  {
   "cell_type": "code",
   "execution_count": 1634,
   "metadata": {},
   "outputs": [],
   "source": [
    "df3_goal_1 = df3.copy()\n",
    "df3_goal_1[\"Goal_0-1,999\"] = np.where(df3_goal_1[\"goal_group\"]==\"0-1,999\", \"Y\", \"N\")"
   ]
  },
  {
   "cell_type": "code",
   "execution_count": 1635,
   "metadata": {},
   "outputs": [
    {
     "name": "stdout",
     "output_type": "stream",
     "text": [
      "<class 'pandas.core.frame.DataFrame'>\n",
      "Int64Index: 75931 entries, 9 to 281855\n",
      "Data columns (total 25 columns):\n",
      " #   Column                 Non-Null Count  Dtype   \n",
      "---  ------                 --------------  -----   \n",
      " 0   main_category          75931 non-null  object  \n",
      " 1   category               75931 non-null  object  \n",
      " 2   country                75931 non-null  object  \n",
      " 3   currency               75931 non-null  object  \n",
      " 4   length_days            75931 non-null  int64   \n",
      " 5   goal                   75931 non-null  float64 \n",
      " 6   pledged                75931 non-null  float64 \n",
      " 7   backers                75931 non-null  int64   \n",
      " 8   state                  75931 non-null  object  \n",
      " 9   usd_pledged            75931 non-null  float64 \n",
      " 10  pct_funded             75931 non-null  float64 \n",
      " 11  avg_pledge_per_backer  66349 non-null  float64 \n",
      " 12  zscore_pct_funded      75931 non-null  float64 \n",
      " 13  zscore_usd_pledged     75931 non-null  float64 \n",
      " 14  zscore_length_days     75931 non-null  float64 \n",
      " 15  zscore_goal            75931 non-null  float64 \n",
      " 16  zscore_backers         75931 non-null  float64 \n",
      " 17  zscore_pledged         75931 non-null  float64 \n",
      " 18  backers_group          66345 non-null  category\n",
      " 19  usd_pledged_group      65181 non-null  category\n",
      " 20  pct_funded_group       66345 non-null  category\n",
      " 21  length_days_group      75931 non-null  category\n",
      " 22  goal_group             75931 non-null  category\n",
      " 23  state_binary           75931 non-null  int32   \n",
      " 24  Goal_0-1,999           75931 non-null  object  \n",
      "dtypes: category(5), float64(11), int32(1), int64(2), object(6)\n",
      "memory usage: 12.2+ MB\n"
     ]
    }
   ],
   "source": [
    "df3_goal_1.drop(df3_goal_1.loc[df3_goal_1[\"Goal_0-1,999\"]==\"N\"].index, inplace = True)\n",
    "df3_goal_1.info()"
   ]
  },
  {
   "cell_type": "code",
   "execution_count": 1636,
   "metadata": {},
   "outputs": [],
   "source": [
    "df3_goal_2 = df3.copy()\n",
    "df3_goal_2[\"Goal_2,000-4,999\"] = np.where(df3_goal_2[\"goal_group\"]==\"2,000-4,999\", \"Y\", \"N\")"
   ]
  },
  {
   "cell_type": "code",
   "execution_count": 1637,
   "metadata": {},
   "outputs": [
    {
     "name": "stdout",
     "output_type": "stream",
     "text": [
      "<class 'pandas.core.frame.DataFrame'>\n",
      "Int64Index: 65354 entries, 6 to 281854\n",
      "Data columns (total 25 columns):\n",
      " #   Column                 Non-Null Count  Dtype   \n",
      "---  ------                 --------------  -----   \n",
      " 0   main_category          65354 non-null  object  \n",
      " 1   category               65354 non-null  object  \n",
      " 2   country                65354 non-null  object  \n",
      " 3   currency               65354 non-null  object  \n",
      " 4   length_days            65354 non-null  int64   \n",
      " 5   goal                   65354 non-null  float64 \n",
      " 6   pledged                65354 non-null  float64 \n",
      " 7   backers                65354 non-null  int64   \n",
      " 8   state                  65354 non-null  object  \n",
      " 9   usd_pledged            65354 non-null  float64 \n",
      " 10  pct_funded             65354 non-null  float64 \n",
      " 11  avg_pledge_per_backer  58189 non-null  float64 \n",
      " 12  zscore_pct_funded      65354 non-null  float64 \n",
      " 13  zscore_usd_pledged     65354 non-null  float64 \n",
      " 14  zscore_length_days     65354 non-null  float64 \n",
      " 15  zscore_goal            65354 non-null  float64 \n",
      " 16  zscore_backers         65354 non-null  float64 \n",
      " 17  zscore_pledged         65354 non-null  float64 \n",
      " 18  backers_group          58185 non-null  category\n",
      " 19  usd_pledged_group      57276 non-null  category\n",
      " 20  pct_funded_group       58187 non-null  category\n",
      " 21  length_days_group      65354 non-null  category\n",
      " 22  goal_group             65354 non-null  category\n",
      " 23  state_binary           65354 non-null  int32   \n",
      " 24  Goal_2,000-4,999       65354 non-null  object  \n",
      "dtypes: category(5), float64(11), int32(1), int64(2), object(6)\n",
      "memory usage: 10.5+ MB\n"
     ]
    }
   ],
   "source": [
    "df3_goal_2.drop(df3_goal_2.loc[df3_goal_2[\"Goal_2,000-4,999\"]==\"N\"].index, inplace = True)\n",
    "df3_goal_2.info()"
   ]
  },
  {
   "cell_type": "code",
   "execution_count": 1638,
   "metadata": {},
   "outputs": [],
   "source": [
    "df3_goal_3 = df3.copy()\n",
    "df3_goal_3[\"Goal_5,000-14,999\"] = np.where(df3_goal_3[\"goal_group\"]==\"5,000-14,999\", \"Y\", \"N\")"
   ]
  },
  {
   "cell_type": "code",
   "execution_count": 1639,
   "metadata": {},
   "outputs": [
    {
     "name": "stdout",
     "output_type": "stream",
     "text": [
      "<class 'pandas.core.frame.DataFrame'>\n",
      "Int64Index: 64401 entries, 0 to 281852\n",
      "Data columns (total 25 columns):\n",
      " #   Column                 Non-Null Count  Dtype   \n",
      "---  ------                 --------------  -----   \n",
      " 0   main_category          64401 non-null  object  \n",
      " 1   category               64401 non-null  object  \n",
      " 2   country                64401 non-null  object  \n",
      " 3   currency               64401 non-null  object  \n",
      " 4   length_days            64401 non-null  int64   \n",
      " 5   goal                   64401 non-null  float64 \n",
      " 6   pledged                64401 non-null  float64 \n",
      " 7   backers                64401 non-null  int64   \n",
      " 8   state                  64401 non-null  object  \n",
      " 9   usd_pledged            64401 non-null  float64 \n",
      " 10  pct_funded             64401 non-null  float64 \n",
      " 11  avg_pledge_per_backer  57145 non-null  float64 \n",
      " 12  zscore_pct_funded      64401 non-null  float64 \n",
      " 13  zscore_usd_pledged     64401 non-null  float64 \n",
      " 14  zscore_length_days     64401 non-null  float64 \n",
      " 15  zscore_goal            64401 non-null  float64 \n",
      " 16  zscore_backers         64401 non-null  float64 \n",
      " 17  zscore_pledged         64401 non-null  float64 \n",
      " 18  backers_group          57142 non-null  category\n",
      " 19  usd_pledged_group      56168 non-null  category\n",
      " 20  pct_funded_group       57142 non-null  category\n",
      " 21  length_days_group      64401 non-null  category\n",
      " 22  goal_group             64401 non-null  category\n",
      " 23  state_binary           64401 non-null  int32   \n",
      " 24  Goal_5,000-14,999      64401 non-null  object  \n",
      "dtypes: category(5), float64(11), int32(1), int64(2), object(6)\n",
      "memory usage: 10.4+ MB\n"
     ]
    }
   ],
   "source": [
    "df3_goal_3.drop(df3_goal_3.loc[df3_goal_3[\"Goal_5,000-14,999\"]==\"N\"].index, inplace = True)\n",
    "df3_goal_3.info()"
   ]
  },
  {
   "cell_type": "code",
   "execution_count": 1640,
   "metadata": {},
   "outputs": [],
   "source": [
    "df3_goal_4 = df3.copy()\n",
    "df3_goal_4[\"Goal_15,000-29,999\"] = np.where(df3_goal_4[\"goal_group\"]==\"15,000-29,999\", \"Y\", \"N\")"
   ]
  },
  {
   "cell_type": "code",
   "execution_count": 1641,
   "metadata": {},
   "outputs": [
    {
     "name": "stdout",
     "output_type": "stream",
     "text": [
      "<class 'pandas.core.frame.DataFrame'>\n",
      "Int64Index: 25276 entries, 3 to 281848\n",
      "Data columns (total 25 columns):\n",
      " #   Column                 Non-Null Count  Dtype   \n",
      "---  ------                 --------------  -----   \n",
      " 0   main_category          25276 non-null  object  \n",
      " 1   category               25276 non-null  object  \n",
      " 2   country                25276 non-null  object  \n",
      " 3   currency               25276 non-null  object  \n",
      " 4   length_days            25276 non-null  int64   \n",
      " 5   goal                   25276 non-null  float64 \n",
      " 6   pledged                25276 non-null  float64 \n",
      " 7   backers                25276 non-null  int64   \n",
      " 8   state                  25276 non-null  object  \n",
      " 9   usd_pledged            25276 non-null  float64 \n",
      " 10  pct_funded             25276 non-null  float64 \n",
      " 11  avg_pledge_per_backer  21735 non-null  float64 \n",
      " 12  zscore_pct_funded      25276 non-null  float64 \n",
      " 13  zscore_usd_pledged     25276 non-null  float64 \n",
      " 14  zscore_length_days     25276 non-null  float64 \n",
      " 15  zscore_goal            25276 non-null  float64 \n",
      " 16  zscore_backers         25276 non-null  float64 \n",
      " 17  zscore_pledged         25276 non-null  float64 \n",
      " 18  backers_group          21732 non-null  category\n",
      " 19  usd_pledged_group      21280 non-null  category\n",
      " 20  pct_funded_group       21732 non-null  category\n",
      " 21  length_days_group      25276 non-null  category\n",
      " 22  goal_group             25276 non-null  category\n",
      " 23  state_binary           25276 non-null  int32   \n",
      " 24  Goal_15,000-29,999     25276 non-null  object  \n",
      "dtypes: category(5), float64(11), int32(1), int64(2), object(6)\n",
      "memory usage: 4.1+ MB\n"
     ]
    }
   ],
   "source": [
    "df3_goal_4.drop(df3_goal_4.loc[df3_goal_4[\"Goal_15,000-29,999\"]==\"N\"].index, inplace = True)\n",
    "df3_goal_4.info()"
   ]
  },
  {
   "cell_type": "code",
   "execution_count": 1642,
   "metadata": {},
   "outputs": [],
   "source": [
    "df3_goal_5 = df3.copy()\n",
    "df3_goal_5[\"Goal_30,000+\"] = np.where(df3_goal_5[\"goal_group\"]==\"30,000+\", \"Y\", \"N\")"
   ]
  },
  {
   "cell_type": "code",
   "execution_count": 1643,
   "metadata": {},
   "outputs": [
    {
     "name": "stdout",
     "output_type": "stream",
     "text": [
      "<class 'pandas.core.frame.DataFrame'>\n",
      "Int64Index: 24493 entries, 1 to 281853\n",
      "Data columns (total 25 columns):\n",
      " #   Column                 Non-Null Count  Dtype   \n",
      "---  ------                 --------------  -----   \n",
      " 0   main_category          24493 non-null  object  \n",
      " 1   category               24493 non-null  object  \n",
      " 2   country                24493 non-null  object  \n",
      " 3   currency               24493 non-null  object  \n",
      " 4   length_days            24493 non-null  int64   \n",
      " 5   goal                   24493 non-null  float64 \n",
      " 6   pledged                24493 non-null  float64 \n",
      " 7   backers                24493 non-null  int64   \n",
      " 8   state                  24493 non-null  object  \n",
      " 9   usd_pledged            24493 non-null  float64 \n",
      " 10  pct_funded             24493 non-null  float64 \n",
      " 11  avg_pledge_per_backer  19855 non-null  float64 \n",
      " 12  zscore_pct_funded      24493 non-null  float64 \n",
      " 13  zscore_usd_pledged     24493 non-null  float64 \n",
      " 14  zscore_length_days     24493 non-null  float64 \n",
      " 15  zscore_goal            24493 non-null  float64 \n",
      " 16  zscore_backers         24493 non-null  float64 \n",
      " 17  zscore_pledged         24493 non-null  float64 \n",
      " 18  backers_group          19851 non-null  category\n",
      " 19  usd_pledged_group      19249 non-null  category\n",
      " 20  pct_funded_group       19852 non-null  category\n",
      " 21  length_days_group      24493 non-null  category\n",
      " 22  goal_group             24493 non-null  category\n",
      " 23  state_binary           24493 non-null  int32   \n",
      " 24  Goal_30,000+           24493 non-null  object  \n",
      "dtypes: category(5), float64(11), int32(1), int64(2), object(6)\n",
      "memory usage: 3.9+ MB\n"
     ]
    }
   ],
   "source": [
    "df3_goal_5.drop(df3_goal_5.loc[df3_goal_5[\"Goal_30,000+\"]==\"N\"].index, inplace = True)\n",
    "df3_goal_5.info()"
   ]
  },
  {
   "cell_type": "code",
   "execution_count": null,
   "metadata": {},
   "outputs": [],
   "source": []
  },
  {
   "cell_type": "markdown",
   "metadata": {},
   "source": [
    "# Correlations in Sub-Groups (Numerical Groupings)"
   ]
  },
  {
   "cell_type": "code",
   "execution_count": 1644,
   "metadata": {},
   "outputs": [],
   "source": [
    "## focus on successful or failed campaigns"
   ]
  },
  {
   "cell_type": "code",
   "execution_count": 1645,
   "metadata": {},
   "outputs": [
    {
     "data": {
      "text/plain": [
       "state\n",
       "failed        34.431721\n",
       "successful    31.247128\n",
       "Name: length_days, dtype: float64"
      ]
     },
     "execution_count": 1645,
     "metadata": {},
     "output_type": "execute_result"
    }
   ],
   "source": [
    "## average length by success\n",
    "df3[\"length_days\"].groupby(df3[\"state\"]).mean()"
   ]
  },
  {
   "cell_type": "code",
   "execution_count": 1646,
   "metadata": {},
   "outputs": [
    {
     "data": {
      "text/plain": [
       "main_category\n",
       "Art             29.781932\n",
       "Comics          31.951998\n",
       "Crafts          28.670308\n",
       "Dance           31.090776\n",
       "Design          31.141179\n",
       "Fashion         30.552777\n",
       "Film & Video    30.990281\n",
       "Food            30.714785\n",
       "Games           29.991053\n",
       "Journalism      30.273973\n",
       "Music           32.885605\n",
       "Photography     30.797860\n",
       "Publishing      31.509884\n",
       "Technology      32.294166\n",
       "Theater         30.439790\n",
       "Name: length_days, dtype: float64"
      ]
     },
     "execution_count": 1646,
     "metadata": {},
     "output_type": "execute_result"
    }
   ],
   "source": [
    "## average length by success\n",
    "df3_successful[\"length_days\"].groupby(df3[\"main_category\"]).mean()\n",
    "\n",
    "#negligible difference"
   ]
  },
  {
   "cell_type": "code",
   "execution_count": 1647,
   "metadata": {},
   "outputs": [
    {
     "data": {
      "text/plain": [
       "<AxesSubplot:title={'center':'Distributions of Backers by Goal (Successful Only)'}, xlabel='backers', ylabel='goal_group'>"
      ]
     },
     "execution_count": 1647,
     "metadata": {},
     "output_type": "execute_result"
    },
    {
     "data": {
      "image/png": "[encoded data removed]",
      "text/plain": [
       "<Figure size 1080x360 with 1 Axes>"
      ]
     },
     "metadata": {
      "needs_background": "light"
     },
     "output_type": "display_data"
    }
   ],
   "source": [
    "## boxplots to show the distribution of backers across goal groups (successful only)\n",
    "\n",
    "plt.figure(figsize = (15,5))\n",
    "plt.title(\"Distributions of Backers by Goal (Successful Only)\")\n",
    "sns.boxplot(x = df3_successful[\"backers\"], y = df3_successful[\"goal_group\"], showfliers = False)\n",
    "\n",
    "# normally distributed, obvious results"
   ]
  },
  {
   "cell_type": "code",
   "execution_count": 1648,
   "metadata": {},
   "outputs": [
    {
     "data": {
      "text/plain": [
       "<AxesSubplot:title={'center':'Distributions of Backers by Goal (Failed Only)'}, xlabel='backers', ylabel='goal_group'>"
      ]
     },
     "execution_count": 1648,
     "metadata": {},
     "output_type": "execute_result"
    },
    {
     "data": {
      "image/png": "[encoded data removed]",
      "text/plain": [
       "<Figure size 1080x360 with 1 Axes>"
      ]
     },
     "metadata": {
      "needs_background": "light"
     },
     "output_type": "display_data"
    }
   ],
   "source": [
    "## boxplots to show the distribution of backers across goal groups (failed only)\n",
    "\n",
    "plt.figure(figsize = (15,5))\n",
    "plt.title(\"Distributions of Backers by Goal (Failed Only)\")\n",
    "sns.boxplot(x = df3_failed[\"backers\"], y = df3_failed[\"goal_group\"], showfliers = False)\n",
    "\n",
    "# not normally distributed, high skew across all categories"
   ]
  },
  {
   "cell_type": "code",
   "execution_count": 1649,
   "metadata": {},
   "outputs": [
    {
     "data": {
      "text/plain": [
       "<AxesSubplot:title={'center':'Distributions of USD Pledged by Campaign Length (Successful Only)'}, xlabel='usd_pledged', ylabel='length_days_group'>"
      ]
     },
     "execution_count": 1649,
     "metadata": {},
     "output_type": "execute_result"
    },
    {
     "data": {
      "image/png": "[encoded data removed]",
      "text/plain": [
       "<Figure size 1080x360 with 1 Axes>"
      ]
     },
     "metadata": {
      "needs_background": "light"
     },
     "output_type": "display_data"
    }
   ],
   "source": [
    "## boxplots to show the distribution of money raised across backers groups (successful only)\n",
    "\n",
    "plt.figure(figsize = (15,5))\n",
    "plt.xticks(rotation = 90)\n",
    "plt.title(\"Distributions of USD Pledged by Campaign Length (Successful Only)\")\n",
    "sns.boxplot(x = df3_successful[\"usd_pledged\"], y = df3_successful[\"length_days_group\"], showfliers = False)\n",
    "\n",
    "# interesting: highest median for campaigns 30-59 days"
   ]
  },
  {
   "cell_type": "code",
   "execution_count": 1650,
   "metadata": {},
   "outputs": [
    {
     "data": {
      "text/plain": [
       "<AxesSubplot:title={'center':'Distributions of USD Pledged by Campaign Length (Failed Only)'}, xlabel='usd_pledged', ylabel='length_days_group'>"
      ]
     },
     "execution_count": 1650,
     "metadata": {},
     "output_type": "execute_result"
    },
    {
     "data": {
      "image/png": "[encoded data removed]",
      "text/plain": [
       "<Figure size 1080x360 with 1 Axes>"
      ]
     },
     "metadata": {
      "needs_background": "light"
     },
     "output_type": "display_data"
    }
   ],
   "source": [
    "## boxplots to show the distribution of money raised across backers groups (failed only)\n",
    "\n",
    "plt.figure(figsize = (15,5))\n",
    "plt.xticks(rotation = 90)\n",
    "plt.title(\"Distributions of USD Pledged by Campaign Length (Failed Only)\")\n",
    "sns.boxplot(x = df3_failed[\"usd_pledged\"], y = df3_failed[\"length_days_group\"], showfliers = False)\n",
    "\n",
    "# interesting: highest median for campaigns 30-59 days"
   ]
  },
  {
   "cell_type": "code",
   "execution_count": 1651,
   "metadata": {},
   "outputs": [
    {
     "data": {
      "text/plain": [
       "<AxesSubplot:title={'center':'Average USD Pledged by Main Category (Successful Only)'}, xlabel='main_category', ylabel='usd_pledged'>"
      ]
     },
     "execution_count": 1651,
     "metadata": {},
     "output_type": "execute_result"
    },
    {
     "name": "stdout",
     "output_type": "stream",
     "text": [
      "Error in callback <function flush_figures at 0x000002F5E9CB9040> (for post_execute):\n"
     ]
    },
    {
     "ename": "KeyboardInterrupt",
     "evalue": "",
     "output_type": "error",
     "traceback": [
      "\u001b[1;31m---------------------------------------------------------------------------\u001b[0m",
      "\u001b[1;31mAttributeError\u001b[0m                            Traceback (most recent call last)",
      "\u001b[1;32mC:\\ProgramData\\Anaconda3\\lib\\site-packages\\PIL\\ImageFile.py\u001b[0m in \u001b[0;36m_save\u001b[1;34m(im, fp, tile, bufsize)\u001b[0m\n\u001b[0;32m    503\u001b[0m     \u001b[1;32mtry\u001b[0m\u001b[1;33m:\u001b[0m\u001b[1;33m\u001b[0m\u001b[1;33m\u001b[0m\u001b[0m\n\u001b[1;32m--> 504\u001b[1;33m         \u001b[0mfh\u001b[0m \u001b[1;33m=\u001b[0m \u001b[0mfp\u001b[0m\u001b[1;33m.\u001b[0m\u001b[0mfileno\u001b[0m\u001b[1;33m(\u001b[0m\u001b[1;33m)\u001b[0m\u001b[1;33m\u001b[0m\u001b[1;33m\u001b[0m\u001b[0m\n\u001b[0m\u001b[0;32m    505\u001b[0m         \u001b[0mfp\u001b[0m\u001b[1;33m.\u001b[0m\u001b[0mflush\u001b[0m\u001b[1;33m(\u001b[0m\u001b[1;33m)\u001b[0m\u001b[1;33m\u001b[0m\u001b[1;33m\u001b[0m\u001b[0m\n",
      "\u001b[1;31mAttributeError\u001b[0m: '_idat' object has no attribute 'fileno'",
      "\nDuring handling of the above exception, another exception occurred:\n",
      "\u001b[1;31mKeyboardInterrupt\u001b[0m                         Traceback (most recent call last)",
      "\u001b[1;32mC:\\ProgramData\\Anaconda3\\lib\\site-packages\\matplotlib_inline\\backend_inline.py\u001b[0m in \u001b[0;36mflush_figures\u001b[1;34m()\u001b[0m\n\u001b[0;32m    119\u001b[0m         \u001b[1;31m# ignore the tracking, just draw and close all figures\u001b[0m\u001b[1;33m\u001b[0m\u001b[1;33m\u001b[0m\u001b[0m\n\u001b[0;32m    120\u001b[0m         \u001b[1;32mtry\u001b[0m\u001b[1;33m:\u001b[0m\u001b[1;33m\u001b[0m\u001b[1;33m\u001b[0m\u001b[0m\n\u001b[1;32m--> 121\u001b[1;33m             \u001b[1;32mreturn\u001b[0m \u001b[0mshow\u001b[0m\u001b[1;33m(\u001b[0m\u001b[1;32mTrue\u001b[0m\u001b[1;33m)\u001b[0m\u001b[1;33m\u001b[0m\u001b[1;33m\u001b[0m\u001b[0m\n\u001b[0m\u001b[0;32m    122\u001b[0m         \u001b[1;32mexcept\u001b[0m \u001b[0mException\u001b[0m \u001b[1;32mas\u001b[0m \u001b[0me\u001b[0m\u001b[1;33m:\u001b[0m\u001b[1;33m\u001b[0m\u001b[1;33m\u001b[0m\u001b[0m\n\u001b[0;32m    123\u001b[0m             \u001b[1;31m# safely show traceback if in IPython, else raise\u001b[0m\u001b[1;33m\u001b[0m\u001b[1;33m\u001b[0m\u001b[0m\n",
      "\u001b[1;32mC:\\ProgramData\\Anaconda3\\lib\\site-packages\\matplotlib_inline\\backend_inline.py\u001b[0m in \u001b[0;36mshow\u001b[1;34m(close, block)\u001b[0m\n\u001b[0;32m     39\u001b[0m     \u001b[1;32mtry\u001b[0m\u001b[1;33m:\u001b[0m\u001b[1;33m\u001b[0m\u001b[1;33m\u001b[0m\u001b[0m\n\u001b[0;32m     40\u001b[0m         \u001b[1;32mfor\u001b[0m \u001b[0mfigure_manager\u001b[0m \u001b[1;32min\u001b[0m \u001b[0mGcf\u001b[0m\u001b[1;33m.\u001b[0m\u001b[0mget_all_fig_managers\u001b[0m\u001b[1;33m(\u001b[0m\u001b[1;33m)\u001b[0m\u001b[1;33m:\u001b[0m\u001b[1;33m\u001b[0m\u001b[1;33m\u001b[0m\u001b[0m\n\u001b[1;32m---> 41\u001b[1;33m             display(\n\u001b[0m\u001b[0;32m     42\u001b[0m                 \u001b[0mfigure_manager\u001b[0m\u001b[1;33m.\u001b[0m\u001b[0mcanvas\u001b[0m\u001b[1;33m.\u001b[0m\u001b[0mfigure\u001b[0m\u001b[1;33m,\u001b[0m\u001b[1;33m\u001b[0m\u001b[1;33m\u001b[0m\u001b[0m\n\u001b[0;32m     43\u001b[0m                 \u001b[0mmetadata\u001b[0m\u001b[1;33m=\u001b[0m\u001b[0m_fetch_figure_metadata\u001b[0m\u001b[1;33m(\u001b[0m\u001b[0mfigure_manager\u001b[0m\u001b[1;33m.\u001b[0m\u001b[0mcanvas\u001b[0m\u001b[1;33m.\u001b[0m\u001b[0mfigure\u001b[0m\u001b[1;33m)\u001b[0m\u001b[1;33m\u001b[0m\u001b[1;33m\u001b[0m\u001b[0m\n",
      "\u001b[1;32mC:\\ProgramData\\Anaconda3\\lib\\site-packages\\IPython\\core\\display.py\u001b[0m in \u001b[0;36mdisplay\u001b[1;34m(include, exclude, metadata, transient, display_id, *objs, **kwargs)\u001b[0m\n\u001b[0;32m    318\u001b[0m             \u001b[0mpublish_display_data\u001b[0m\u001b[1;33m(\u001b[0m\u001b[0mdata\u001b[0m\u001b[1;33m=\u001b[0m\u001b[0mobj\u001b[0m\u001b[1;33m,\u001b[0m \u001b[0mmetadata\u001b[0m\u001b[1;33m=\u001b[0m\u001b[0mmetadata\u001b[0m\u001b[1;33m,\u001b[0m \u001b[1;33m**\u001b[0m\u001b[0mkwargs\u001b[0m\u001b[1;33m)\u001b[0m\u001b[1;33m\u001b[0m\u001b[1;33m\u001b[0m\u001b[0m\n\u001b[0;32m    319\u001b[0m         \u001b[1;32melse\u001b[0m\u001b[1;33m:\u001b[0m\u001b[1;33m\u001b[0m\u001b[1;33m\u001b[0m\u001b[0m\n\u001b[1;32m--> 320\u001b[1;33m             \u001b[0mformat_dict\u001b[0m\u001b[1;33m,\u001b[0m \u001b[0mmd_dict\u001b[0m \u001b[1;33m=\u001b[0m \u001b[0mformat\u001b[0m\u001b[1;33m(\u001b[0m\u001b[0mobj\u001b[0m\u001b[1;33m,\u001b[0m \u001b[0minclude\u001b[0m\u001b[1;33m=\u001b[0m\u001b[0minclude\u001b[0m\u001b[1;33m,\u001b[0m \u001b[0mexclude\u001b[0m\u001b[1;33m=\u001b[0m\u001b[0mexclude\u001b[0m\u001b[1;33m)\u001b[0m\u001b[1;33m\u001b[0m\u001b[1;33m\u001b[0m\u001b[0m\n\u001b[0m\u001b[0;32m    321\u001b[0m             \u001b[1;32mif\u001b[0m \u001b[1;32mnot\u001b[0m \u001b[0mformat_dict\u001b[0m\u001b[1;33m:\u001b[0m\u001b[1;33m\u001b[0m\u001b[1;33m\u001b[0m\u001b[0m\n\u001b[0;32m    322\u001b[0m                 \u001b[1;31m# nothing to display (e.g. _ipython_display_ took over)\u001b[0m\u001b[1;33m\u001b[0m\u001b[1;33m\u001b[0m\u001b[0m\n",
      "\u001b[1;32mC:\\ProgramData\\Anaconda3\\lib\\site-packages\\IPython\\core\\formatters.py\u001b[0m in \u001b[0;36mformat\u001b[1;34m(self, obj, include, exclude)\u001b[0m\n\u001b[0;32m    178\u001b[0m             \u001b[0mmd\u001b[0m \u001b[1;33m=\u001b[0m \u001b[1;32mNone\u001b[0m\u001b[1;33m\u001b[0m\u001b[1;33m\u001b[0m\u001b[0m\n\u001b[0;32m    179\u001b[0m             \u001b[1;32mtry\u001b[0m\u001b[1;33m:\u001b[0m\u001b[1;33m\u001b[0m\u001b[1;33m\u001b[0m\u001b[0m\n\u001b[1;32m--> 180\u001b[1;33m                 \u001b[0mdata\u001b[0m \u001b[1;33m=\u001b[0m \u001b[0mformatter\u001b[0m\u001b[1;33m(\u001b[0m\u001b[0mobj\u001b[0m\u001b[1;33m)\u001b[0m\u001b[1;33m\u001b[0m\u001b[1;33m\u001b[0m\u001b[0m\n\u001b[0m\u001b[0;32m    181\u001b[0m             \u001b[1;32mexcept\u001b[0m\u001b[1;33m:\u001b[0m\u001b[1;33m\u001b[0m\u001b[1;33m\u001b[0m\u001b[0m\n\u001b[0;32m    182\u001b[0m                 \u001b[1;31m# FIXME: log the exception\u001b[0m\u001b[1;33m\u001b[0m\u001b[1;33m\u001b[0m\u001b[0m\n",
      "\u001b[1;32mC:\\ProgramData\\Anaconda3\\lib\\site-packages\\decorator.py\u001b[0m in \u001b[0;36mfun\u001b[1;34m(*args, **kw)\u001b[0m\n\u001b[0;32m    230\u001b[0m             \u001b[1;32mif\u001b[0m \u001b[1;32mnot\u001b[0m \u001b[0mkwsyntax\u001b[0m\u001b[1;33m:\u001b[0m\u001b[1;33m\u001b[0m\u001b[1;33m\u001b[0m\u001b[0m\n\u001b[0;32m    231\u001b[0m                 \u001b[0margs\u001b[0m\u001b[1;33m,\u001b[0m \u001b[0mkw\u001b[0m \u001b[1;33m=\u001b[0m \u001b[0mfix\u001b[0m\u001b[1;33m(\u001b[0m\u001b[0margs\u001b[0m\u001b[1;33m,\u001b[0m \u001b[0mkw\u001b[0m\u001b[1;33m,\u001b[0m \u001b[0msig\u001b[0m\u001b[1;33m)\u001b[0m\u001b[1;33m\u001b[0m\u001b[1;33m\u001b[0m\u001b[0m\n\u001b[1;32m--> 232\u001b[1;33m             \u001b[1;32mreturn\u001b[0m \u001b[0mcaller\u001b[0m\u001b[1;33m(\u001b[0m\u001b[0mfunc\u001b[0m\u001b[1;33m,\u001b[0m \u001b[1;33m*\u001b[0m\u001b[1;33m(\u001b[0m\u001b[0mextras\u001b[0m \u001b[1;33m+\u001b[0m \u001b[0margs\u001b[0m\u001b[1;33m)\u001b[0m\u001b[1;33m,\u001b[0m \u001b[1;33m**\u001b[0m\u001b[0mkw\u001b[0m\u001b[1;33m)\u001b[0m\u001b[1;33m\u001b[0m\u001b[1;33m\u001b[0m\u001b[0m\n\u001b[0m\u001b[0;32m    233\u001b[0m     \u001b[0mfun\u001b[0m\u001b[1;33m.\u001b[0m\u001b[0m__name__\u001b[0m \u001b[1;33m=\u001b[0m \u001b[0mfunc\u001b[0m\u001b[1;33m.\u001b[0m\u001b[0m__name__\u001b[0m\u001b[1;33m\u001b[0m\u001b[1;33m\u001b[0m\u001b[0m\n\u001b[0;32m    234\u001b[0m     \u001b[0mfun\u001b[0m\u001b[1;33m.\u001b[0m\u001b[0m__doc__\u001b[0m \u001b[1;33m=\u001b[0m \u001b[0mfunc\u001b[0m\u001b[1;33m.\u001b[0m\u001b[0m__doc__\u001b[0m\u001b[1;33m\u001b[0m\u001b[1;33m\u001b[0m\u001b[0m\n",
      "\u001b[1;32mC:\\ProgramData\\Anaconda3\\lib\\site-packages\\IPython\\core\\formatters.py\u001b[0m in \u001b[0;36mcatch_format_error\u001b[1;34m(method, self, *args, **kwargs)\u001b[0m\n\u001b[0;32m    222\u001b[0m     \u001b[1;34m\"\"\"show traceback on failed format call\"\"\"\u001b[0m\u001b[1;33m\u001b[0m\u001b[1;33m\u001b[0m\u001b[0m\n\u001b[0;32m    223\u001b[0m     \u001b[1;32mtry\u001b[0m\u001b[1;33m:\u001b[0m\u001b[1;33m\u001b[0m\u001b[1;33m\u001b[0m\u001b[0m\n\u001b[1;32m--> 224\u001b[1;33m         \u001b[0mr\u001b[0m \u001b[1;33m=\u001b[0m \u001b[0mmethod\u001b[0m\u001b[1;33m(\u001b[0m\u001b[0mself\u001b[0m\u001b[1;33m,\u001b[0m \u001b[1;33m*\u001b[0m\u001b[0margs\u001b[0m\u001b[1;33m,\u001b[0m \u001b[1;33m**\u001b[0m\u001b[0mkwargs\u001b[0m\u001b[1;33m)\u001b[0m\u001b[1;33m\u001b[0m\u001b[1;33m\u001b[0m\u001b[0m\n\u001b[0m\u001b[0;32m    225\u001b[0m     \u001b[1;32mexcept\u001b[0m \u001b[0mNotImplementedError\u001b[0m\u001b[1;33m:\u001b[0m\u001b[1;33m\u001b[0m\u001b[1;33m\u001b[0m\u001b[0m\n\u001b[0;32m    226\u001b[0m         \u001b[1;31m# don't warn on NotImplementedErrors\u001b[0m\u001b[1;33m\u001b[0m\u001b[1;33m\u001b[0m\u001b[0m\n",
      "\u001b[1;32mC:\\ProgramData\\Anaconda3\\lib\\site-packages\\IPython\\core\\formatters.py\u001b[0m in \u001b[0;36m__call__\u001b[1;34m(self, obj)\u001b[0m\n\u001b[0;32m    339\u001b[0m                 \u001b[1;32mpass\u001b[0m\u001b[1;33m\u001b[0m\u001b[1;33m\u001b[0m\u001b[0m\n\u001b[0;32m    340\u001b[0m             \u001b[1;32melse\u001b[0m\u001b[1;33m:\u001b[0m\u001b[1;33m\u001b[0m\u001b[1;33m\u001b[0m\u001b[0m\n\u001b[1;32m--> 341\u001b[1;33m                 \u001b[1;32mreturn\u001b[0m \u001b[0mprinter\u001b[0m\u001b[1;33m(\u001b[0m\u001b[0mobj\u001b[0m\u001b[1;33m)\u001b[0m\u001b[1;33m\u001b[0m\u001b[1;33m\u001b[0m\u001b[0m\n\u001b[0m\u001b[0;32m    342\u001b[0m             \u001b[1;31m# Finally look for special method names\u001b[0m\u001b[1;33m\u001b[0m\u001b[1;33m\u001b[0m\u001b[0m\n\u001b[0;32m    343\u001b[0m             \u001b[0mmethod\u001b[0m \u001b[1;33m=\u001b[0m \u001b[0mget_real_method\u001b[0m\u001b[1;33m(\u001b[0m\u001b[0mobj\u001b[0m\u001b[1;33m,\u001b[0m \u001b[0mself\u001b[0m\u001b[1;33m.\u001b[0m\u001b[0mprint_method\u001b[0m\u001b[1;33m)\u001b[0m\u001b[1;33m\u001b[0m\u001b[1;33m\u001b[0m\u001b[0m\n",
      "\u001b[1;32mC:\\ProgramData\\Anaconda3\\lib\\site-packages\\IPython\\core\\pylabtools.py\u001b[0m in \u001b[0;36mprint_figure\u001b[1;34m(fig, fmt, bbox_inches, base64, **kwargs)\u001b[0m\n\u001b[0;32m    149\u001b[0m         \u001b[0mFigureCanvasBase\u001b[0m\u001b[1;33m(\u001b[0m\u001b[0mfig\u001b[0m\u001b[1;33m)\u001b[0m\u001b[1;33m\u001b[0m\u001b[1;33m\u001b[0m\u001b[0m\n\u001b[0;32m    150\u001b[0m \u001b[1;33m\u001b[0m\u001b[0m\n\u001b[1;32m--> 151\u001b[1;33m     \u001b[0mfig\u001b[0m\u001b[1;33m.\u001b[0m\u001b[0mcanvas\u001b[0m\u001b[1;33m.\u001b[0m\u001b[0mprint_figure\u001b[0m\u001b[1;33m(\u001b[0m\u001b[0mbytes_io\u001b[0m\u001b[1;33m,\u001b[0m \u001b[1;33m**\u001b[0m\u001b[0mkw\u001b[0m\u001b[1;33m)\u001b[0m\u001b[1;33m\u001b[0m\u001b[1;33m\u001b[0m\u001b[0m\n\u001b[0m\u001b[0;32m    152\u001b[0m     \u001b[0mdata\u001b[0m \u001b[1;33m=\u001b[0m \u001b[0mbytes_io\u001b[0m\u001b[1;33m.\u001b[0m\u001b[0mgetvalue\u001b[0m\u001b[1;33m(\u001b[0m\u001b[1;33m)\u001b[0m\u001b[1;33m\u001b[0m\u001b[1;33m\u001b[0m\u001b[0m\n\u001b[0;32m    153\u001b[0m     \u001b[1;32mif\u001b[0m \u001b[0mfmt\u001b[0m \u001b[1;33m==\u001b[0m \u001b[1;34m'svg'\u001b[0m\u001b[1;33m:\u001b[0m\u001b[1;33m\u001b[0m\u001b[1;33m\u001b[0m\u001b[0m\n",
      "\u001b[1;32mC:\\ProgramData\\Anaconda3\\lib\\site-packages\\matplotlib\\backend_bases.py\u001b[0m in \u001b[0;36mprint_figure\u001b[1;34m(self, filename, dpi, facecolor, edgecolor, orientation, format, bbox_inches, pad_inches, bbox_extra_artists, backend, **kwargs)\u001b[0m\n\u001b[0;32m   2253\u001b[0m                 \u001b[1;31m# force the figure dpi to 72), so we need to set it again here.\u001b[0m\u001b[1;33m\u001b[0m\u001b[1;33m\u001b[0m\u001b[0m\n\u001b[0;32m   2254\u001b[0m                 \u001b[1;32mwith\u001b[0m \u001b[0mcbook\u001b[0m\u001b[1;33m.\u001b[0m\u001b[0m_setattr_cm\u001b[0m\u001b[1;33m(\u001b[0m\u001b[0mself\u001b[0m\u001b[1;33m.\u001b[0m\u001b[0mfigure\u001b[0m\u001b[1;33m,\u001b[0m \u001b[0mdpi\u001b[0m\u001b[1;33m=\u001b[0m\u001b[0mdpi\u001b[0m\u001b[1;33m)\u001b[0m\u001b[1;33m:\u001b[0m\u001b[1;33m\u001b[0m\u001b[1;33m\u001b[0m\u001b[0m\n\u001b[1;32m-> 2255\u001b[1;33m                     result = print_method(\n\u001b[0m\u001b[0;32m   2256\u001b[0m                         \u001b[0mfilename\u001b[0m\u001b[1;33m,\u001b[0m\u001b[1;33m\u001b[0m\u001b[1;33m\u001b[0m\u001b[0m\n\u001b[0;32m   2257\u001b[0m                         \u001b[0mfacecolor\u001b[0m\u001b[1;33m=\u001b[0m\u001b[0mfacecolor\u001b[0m\u001b[1;33m,\u001b[0m\u001b[1;33m\u001b[0m\u001b[1;33m\u001b[0m\u001b[0m\n",
      "\u001b[1;32mC:\\ProgramData\\Anaconda3\\lib\\site-packages\\matplotlib\\backend_bases.py\u001b[0m in \u001b[0;36mwrapper\u001b[1;34m(*args, **kwargs)\u001b[0m\n\u001b[0;32m   1667\u001b[0m             \u001b[0mkwargs\u001b[0m\u001b[1;33m.\u001b[0m\u001b[0mpop\u001b[0m\u001b[1;33m(\u001b[0m\u001b[0marg\u001b[0m\u001b[1;33m)\u001b[0m\u001b[1;33m\u001b[0m\u001b[1;33m\u001b[0m\u001b[0m\n\u001b[0;32m   1668\u001b[0m \u001b[1;33m\u001b[0m\u001b[0m\n\u001b[1;32m-> 1669\u001b[1;33m         \u001b[1;32mreturn\u001b[0m \u001b[0mfunc\u001b[0m\u001b[1;33m(\u001b[0m\u001b[1;33m*\u001b[0m\u001b[0margs\u001b[0m\u001b[1;33m,\u001b[0m \u001b[1;33m**\u001b[0m\u001b[0mkwargs\u001b[0m\u001b[1;33m)\u001b[0m\u001b[1;33m\u001b[0m\u001b[1;33m\u001b[0m\u001b[0m\n\u001b[0m\u001b[0;32m   1670\u001b[0m \u001b[1;33m\u001b[0m\u001b[0m\n\u001b[0;32m   1671\u001b[0m     \u001b[1;32mreturn\u001b[0m \u001b[0mwrapper\u001b[0m\u001b[1;33m\u001b[0m\u001b[1;33m\u001b[0m\u001b[0m\n",
      "\u001b[1;32mC:\\ProgramData\\Anaconda3\\lib\\site-packages\\matplotlib\\backends\\backend_agg.py\u001b[0m in \u001b[0;36mprint_png\u001b[1;34m(self, filename_or_obj, metadata, pil_kwargs, *args)\u001b[0m\n\u001b[0;32m    507\u001b[0m         \"\"\"\n\u001b[0;32m    508\u001b[0m         \u001b[0mFigureCanvasAgg\u001b[0m\u001b[1;33m.\u001b[0m\u001b[0mdraw\u001b[0m\u001b[1;33m(\u001b[0m\u001b[0mself\u001b[0m\u001b[1;33m)\u001b[0m\u001b[1;33m\u001b[0m\u001b[1;33m\u001b[0m\u001b[0m\n\u001b[1;32m--> 509\u001b[1;33m         mpl.image.imsave(\n\u001b[0m\u001b[0;32m    510\u001b[0m             \u001b[0mfilename_or_obj\u001b[0m\u001b[1;33m,\u001b[0m \u001b[0mself\u001b[0m\u001b[1;33m.\u001b[0m\u001b[0mbuffer_rgba\u001b[0m\u001b[1;33m(\u001b[0m\u001b[1;33m)\u001b[0m\u001b[1;33m,\u001b[0m \u001b[0mformat\u001b[0m\u001b[1;33m=\u001b[0m\u001b[1;34m\"png\"\u001b[0m\u001b[1;33m,\u001b[0m \u001b[0morigin\u001b[0m\u001b[1;33m=\u001b[0m\u001b[1;34m\"upper\"\u001b[0m\u001b[1;33m,\u001b[0m\u001b[1;33m\u001b[0m\u001b[1;33m\u001b[0m\u001b[0m\n\u001b[0;32m    511\u001b[0m             dpi=self.figure.dpi, metadata=metadata, pil_kwargs=pil_kwargs)\n",
      "\u001b[1;32mC:\\ProgramData\\Anaconda3\\lib\\site-packages\\matplotlib\\image.py\u001b[0m in \u001b[0;36mimsave\u001b[1;34m(fname, arr, vmin, vmax, cmap, format, origin, dpi, metadata, pil_kwargs)\u001b[0m\n\u001b[0;32m   1614\u001b[0m         \u001b[0mpil_kwargs\u001b[0m\u001b[1;33m.\u001b[0m\u001b[0msetdefault\u001b[0m\u001b[1;33m(\u001b[0m\u001b[1;34m\"format\"\u001b[0m\u001b[1;33m,\u001b[0m \u001b[0mformat\u001b[0m\u001b[1;33m)\u001b[0m\u001b[1;33m\u001b[0m\u001b[1;33m\u001b[0m\u001b[0m\n\u001b[0;32m   1615\u001b[0m         \u001b[0mpil_kwargs\u001b[0m\u001b[1;33m.\u001b[0m\u001b[0msetdefault\u001b[0m\u001b[1;33m(\u001b[0m\u001b[1;34m\"dpi\"\u001b[0m\u001b[1;33m,\u001b[0m \u001b[1;33m(\u001b[0m\u001b[0mdpi\u001b[0m\u001b[1;33m,\u001b[0m \u001b[0mdpi\u001b[0m\u001b[1;33m)\u001b[0m\u001b[1;33m)\u001b[0m\u001b[1;33m\u001b[0m\u001b[1;33m\u001b[0m\u001b[0m\n\u001b[1;32m-> 1616\u001b[1;33m         \u001b[0mimage\u001b[0m\u001b[1;33m.\u001b[0m\u001b[0msave\u001b[0m\u001b[1;33m(\u001b[0m\u001b[0mfname\u001b[0m\u001b[1;33m,\u001b[0m \u001b[1;33m**\u001b[0m\u001b[0mpil_kwargs\u001b[0m\u001b[1;33m)\u001b[0m\u001b[1;33m\u001b[0m\u001b[1;33m\u001b[0m\u001b[0m\n\u001b[0m\u001b[0;32m   1617\u001b[0m \u001b[1;33m\u001b[0m\u001b[0m\n\u001b[0;32m   1618\u001b[0m \u001b[1;33m\u001b[0m\u001b[0m\n",
      "\u001b[1;32mC:\\ProgramData\\Anaconda3\\lib\\site-packages\\PIL\\Image.py\u001b[0m in \u001b[0;36msave\u001b[1;34m(self, fp, format, **params)\u001b[0m\n\u001b[0;32m   2238\u001b[0m \u001b[1;33m\u001b[0m\u001b[0m\n\u001b[0;32m   2239\u001b[0m         \u001b[1;32mtry\u001b[0m\u001b[1;33m:\u001b[0m\u001b[1;33m\u001b[0m\u001b[1;33m\u001b[0m\u001b[0m\n\u001b[1;32m-> 2240\u001b[1;33m             \u001b[0msave_handler\u001b[0m\u001b[1;33m(\u001b[0m\u001b[0mself\u001b[0m\u001b[1;33m,\u001b[0m \u001b[0mfp\u001b[0m\u001b[1;33m,\u001b[0m \u001b[0mfilename\u001b[0m\u001b[1;33m)\u001b[0m\u001b[1;33m\u001b[0m\u001b[1;33m\u001b[0m\u001b[0m\n\u001b[0m\u001b[0;32m   2241\u001b[0m         \u001b[1;32mfinally\u001b[0m\u001b[1;33m:\u001b[0m\u001b[1;33m\u001b[0m\u001b[1;33m\u001b[0m\u001b[0m\n\u001b[0;32m   2242\u001b[0m             \u001b[1;31m# do what we can to clean up\u001b[0m\u001b[1;33m\u001b[0m\u001b[1;33m\u001b[0m\u001b[0m\n",
      "\u001b[1;32mC:\\ProgramData\\Anaconda3\\lib\\site-packages\\PIL\\PngImagePlugin.py\u001b[0m in \u001b[0;36m_save\u001b[1;34m(im, fp, filename, chunk, save_all)\u001b[0m\n\u001b[0;32m   1346\u001b[0m         \u001b[0m_write_multiple_frames\u001b[0m\u001b[1;33m(\u001b[0m\u001b[0mim\u001b[0m\u001b[1;33m,\u001b[0m \u001b[0mfp\u001b[0m\u001b[1;33m,\u001b[0m \u001b[0mchunk\u001b[0m\u001b[1;33m,\u001b[0m \u001b[0mrawmode\u001b[0m\u001b[1;33m)\u001b[0m\u001b[1;33m\u001b[0m\u001b[1;33m\u001b[0m\u001b[0m\n\u001b[0;32m   1347\u001b[0m     \u001b[1;32melse\u001b[0m\u001b[1;33m:\u001b[0m\u001b[1;33m\u001b[0m\u001b[1;33m\u001b[0m\u001b[0m\n\u001b[1;32m-> 1348\u001b[1;33m         \u001b[0mImageFile\u001b[0m\u001b[1;33m.\u001b[0m\u001b[0m_save\u001b[0m\u001b[1;33m(\u001b[0m\u001b[0mim\u001b[0m\u001b[1;33m,\u001b[0m \u001b[0m_idat\u001b[0m\u001b[1;33m(\u001b[0m\u001b[0mfp\u001b[0m\u001b[1;33m,\u001b[0m \u001b[0mchunk\u001b[0m\u001b[1;33m)\u001b[0m\u001b[1;33m,\u001b[0m \u001b[1;33m[\u001b[0m\u001b[1;33m(\u001b[0m\u001b[1;34m\"zip\"\u001b[0m\u001b[1;33m,\u001b[0m \u001b[1;33m(\u001b[0m\u001b[1;36m0\u001b[0m\u001b[1;33m,\u001b[0m \u001b[1;36m0\u001b[0m\u001b[1;33m)\u001b[0m \u001b[1;33m+\u001b[0m \u001b[0mim\u001b[0m\u001b[1;33m.\u001b[0m\u001b[0msize\u001b[0m\u001b[1;33m,\u001b[0m \u001b[1;36m0\u001b[0m\u001b[1;33m,\u001b[0m \u001b[0mrawmode\u001b[0m\u001b[1;33m)\u001b[0m\u001b[1;33m]\u001b[0m\u001b[1;33m)\u001b[0m\u001b[1;33m\u001b[0m\u001b[1;33m\u001b[0m\u001b[0m\n\u001b[0m\u001b[0;32m   1349\u001b[0m \u001b[1;33m\u001b[0m\u001b[0m\n\u001b[0;32m   1350\u001b[0m     \u001b[1;32mif\u001b[0m \u001b[0minfo\u001b[0m\u001b[1;33m:\u001b[0m\u001b[1;33m\u001b[0m\u001b[1;33m\u001b[0m\u001b[0m\n",
      "\u001b[1;32mC:\\ProgramData\\Anaconda3\\lib\\site-packages\\PIL\\ImageFile.py\u001b[0m in \u001b[0;36m_save\u001b[1;34m(im, fp, tile, bufsize)\u001b[0m\n\u001b[0;32m    516\u001b[0m             \u001b[1;32melse\u001b[0m\u001b[1;33m:\u001b[0m\u001b[1;33m\u001b[0m\u001b[1;33m\u001b[0m\u001b[0m\n\u001b[0;32m    517\u001b[0m                 \u001b[1;32mwhile\u001b[0m \u001b[1;32mTrue\u001b[0m\u001b[1;33m:\u001b[0m\u001b[1;33m\u001b[0m\u001b[1;33m\u001b[0m\u001b[0m\n\u001b[1;32m--> 518\u001b[1;33m                     \u001b[0ml\u001b[0m\u001b[1;33m,\u001b[0m \u001b[0ms\u001b[0m\u001b[1;33m,\u001b[0m \u001b[0md\u001b[0m \u001b[1;33m=\u001b[0m \u001b[0me\u001b[0m\u001b[1;33m.\u001b[0m\u001b[0mencode\u001b[0m\u001b[1;33m(\u001b[0m\u001b[0mbufsize\u001b[0m\u001b[1;33m)\u001b[0m\u001b[1;33m\u001b[0m\u001b[1;33m\u001b[0m\u001b[0m\n\u001b[0m\u001b[0;32m    519\u001b[0m                     \u001b[0mfp\u001b[0m\u001b[1;33m.\u001b[0m\u001b[0mwrite\u001b[0m\u001b[1;33m(\u001b[0m\u001b[0md\u001b[0m\u001b[1;33m)\u001b[0m\u001b[1;33m\u001b[0m\u001b[1;33m\u001b[0m\u001b[0m\n\u001b[0;32m    520\u001b[0m                     \u001b[1;32mif\u001b[0m \u001b[0ms\u001b[0m\u001b[1;33m:\u001b[0m\u001b[1;33m\u001b[0m\u001b[1;33m\u001b[0m\u001b[0m\n",
      "\u001b[1;31mKeyboardInterrupt\u001b[0m: "
     ]
    }
   ],
   "source": [
    "## countplot showing mean usd pledged per main category (successful only)\n",
    "\n",
    "plt.figure(figsize = (15,5))\n",
    "plt.xticks(rotation = 90)\n",
    "plt.title(\"Average USD Pledged by Main Category (Successful Only)\")\n",
    "sns.barplot(x = df3_successful[\"main_category\"], y = df3_successful[\"usd_pledged\"])"
   ]
  },
  {
   "cell_type": "code",
   "execution_count": 1652,
   "metadata": {},
   "outputs": [
    {
     "data": {
      "text/plain": [
       "main_category\n",
       "Art             3910.421638\n",
       "Comics          4120.002392\n",
       "Crafts          3041.753550\n",
       "Dance           4359.705666\n",
       "Design          7142.651457\n",
       "Fashion         6818.548622\n",
       "Film & Video    6072.163008\n",
       "Food            7937.660774\n",
       "Games           5687.599847\n",
       "Journalism      4736.806434\n",
       "Music           5035.685510\n",
       "Photography     5085.904818\n",
       "Publishing      4568.803430\n",
       "Technology      7375.566438\n",
       "Theater         4091.518944\n",
       "Name: usd_pledged, dtype: float64"
      ]
     },
     "execution_count": 1652,
     "metadata": {},
     "output_type": "execute_result"
    }
   ],
   "source": [
    "df3_successful[\"usd_pledged\"].groupby(df3_successful[\"main_category\"]).mean()"
   ]
  },
  {
   "cell_type": "code",
   "execution_count": 1653,
   "metadata": {},
   "outputs": [
    {
     "data": {
      "text/plain": [
       "<AxesSubplot:title={'center':'Average USD Pledged by Main Category (Failed Only)'}, xlabel='main_category', ylabel='usd_pledged'>"
      ]
     },
     "execution_count": 1653,
     "metadata": {},
     "output_type": "execute_result"
    },
    {
     "data": {
      "image/png": "[encoded data removed]",
      "text/plain": [
       "<Figure size 1080x360 with 1 Axes>"
      ]
     },
     "metadata": {
      "needs_background": "light"
     },
     "output_type": "display_data"
    }
   ],
   "source": [
    "## countplot showing mean usd pledged per main category (failed only)\n",
    "\n",
    "plt.figure(figsize = (15,5))\n",
    "plt.xticks(rotation = 90)\n",
    "plt.title(\"Average USD Pledged by Main Category (Failed Only)\")\n",
    "sns.barplot(x = df3_failed[\"main_category\"], y = df3_failed[\"usd_pledged\"])"
   ]
  },
  {
   "cell_type": "code",
   "execution_count": null,
   "metadata": {},
   "outputs": [],
   "source": [
    "## countplot showing mean usd pledged per main category (successful only)\n",
    "\n",
    "plt.figure(figsize = (15,5))\n",
    "plt.xticks(rotation = 90)\n",
    "plt.title(\"Average USD Pledged by Backers Group (Successful Only)\")\n",
    "sns.barplot(x = df3_successful[\"backers_group\"], y = df3_successful[\"usd_pledged\"])\n",
    "\n",
    "# obvious results"
   ]
  },
  {
   "cell_type": "code",
   "execution_count": null,
   "metadata": {
    "scrolled": false
   },
   "outputs": [],
   "source": [
    "## countplot showing mean usd pledged per main category (failed only)\n",
    "\n",
    "plt.figure(figsize = (15,5))\n",
    "plt.xticks(rotation = 90)\n",
    "plt.title(\"Average USD Pledged by Backers Group (Failed Only)\")\n",
    "sns.barplot(x = df3_failed[\"backers_group\"], y = df3_failed[\"usd_pledged\"])\n",
    "\n",
    "# obvious results (but failed projects still raise more money)"
   ]
  },
  {
   "cell_type": "code",
   "execution_count": null,
   "metadata": {},
   "outputs": [],
   "source": [
    "df3[\"length_days_group\"].groupby(df3[\"length_days_group\"]).count()"
   ]
  },
  {
   "cell_type": "code",
   "execution_count": null,
   "metadata": {},
   "outputs": [],
   "source": [
    "df3_successful[\"usd_pledged\"].groupby(df3_successful[\"length_days_group\"]).median()"
   ]
  },
  {
   "cell_type": "code",
   "execution_count": null,
   "metadata": {},
   "outputs": [],
   "source": [
    "pd.crosstab(df3_successful[\"length_days_group\"], df3_successful[\"goal_group\"], margins = True)"
   ]
  },
  {
   "cell_type": "code",
   "execution_count": null,
   "metadata": {},
   "outputs": [],
   "source": [
    "pd.crosstab(df3_successful[\"goal_group\"], df3_successful[\"backers_group\"], margins = True)"
   ]
  },
  {
   "cell_type": "code",
   "execution_count": null,
   "metadata": {},
   "outputs": [],
   "source": [
    "pd.crosstab(df3_successful[\"length_days_group\"], df3_successful[\"backers_group\"], margins = True)"
   ]
  },
  {
   "cell_type": "code",
   "execution_count": null,
   "metadata": {},
   "outputs": [],
   "source": [
    "pd.crosstab(df3_successful[\"goal_group\"], df3_successful[\"length_days_group\"], margins = True)"
   ]
  },
  {
   "cell_type": "code",
   "execution_count": null,
   "metadata": {},
   "outputs": [],
   "source": []
  },
  {
   "cell_type": "code",
   "execution_count": null,
   "metadata": {},
   "outputs": [],
   "source": []
  },
  {
   "cell_type": "code",
   "execution_count": null,
   "metadata": {},
   "outputs": [],
   "source": [
    "## countplot showing mean goal per main category (successful only)\n",
    "\n",
    "plt.figure(figsize = (15,5))\n",
    "plt.xticks(rotation = 90)\n",
    "plt.title(\"Average Goal by Backers Group (Successful Only)\")\n",
    "sns.barplot(x = df3_successful[\"backers_group\"], y = df3_successful[\"goal\"])\n",
    "\n",
    "# Corresponds with info above, where each mean falls within the range listed above"
   ]
  },
  {
   "cell_type": "code",
   "execution_count": null,
   "metadata": {},
   "outputs": [],
   "source": [
    "pd.crosstab(df3_failed[\"goal_group\"], df3_failed[\"pct_funded_group\"], margins = True)\n",
    "\n",
    "\n",
    "# 199/129720 = 0.15% of failed projects ALMOST meet goal (90-99%) - which ones are these?"
   ]
  },
  {
   "cell_type": "code",
   "execution_count": null,
   "metadata": {},
   "outputs": [],
   "source": [
    "df3_failed[\"goal\"].groupby(df3_failed[\"pct_funded_group\"]).mean()\n",
    "\n",
    "# 0.15% of failed projects ALMOST meet goal (90-99%)\n",
    "## average goal of these projects is $14,049"
   ]
  },
  {
   "cell_type": "code",
   "execution_count": null,
   "metadata": {},
   "outputs": [],
   "source": [
    "df3_failed[\"length_days\"].groupby(df3_failed[\"pct_funded_group\"]).mean()\n",
    "\n",
    "# 0.15% of failed projects ALMOST meet goal (90-99%)\n",
    "## average length of these projects is 33 days"
   ]
  },
  {
   "cell_type": "code",
   "execution_count": null,
   "metadata": {},
   "outputs": [],
   "source": [
    "df3_failed[\"backers\"].groupby(df3_failed[\"pct_funded_group\"]).mean()\n",
    "\n",
    "# 0.15% of failed projects ALMOST meet goal (90-99%)\n",
    "## average backers of these projects is 102"
   ]
  },
  {
   "cell_type": "code",
   "execution_count": null,
   "metadata": {},
   "outputs": [],
   "source": []
  },
  {
   "cell_type": "code",
   "execution_count": null,
   "metadata": {},
   "outputs": [],
   "source": []
  },
  {
   "cell_type": "code",
   "execution_count": null,
   "metadata": {},
   "outputs": [],
   "source": []
  },
  {
   "cell_type": "code",
   "execution_count": null,
   "metadata": {},
   "outputs": [],
   "source": []
  },
  {
   "cell_type": "code",
   "execution_count": null,
   "metadata": {},
   "outputs": [],
   "source": []
  },
  {
   "cell_type": "code",
   "execution_count": null,
   "metadata": {},
   "outputs": [],
   "source": []
  },
  {
   "cell_type": "code",
   "execution_count": null,
   "metadata": {},
   "outputs": [],
   "source": []
  },
  {
   "cell_type": "code",
   "execution_count": null,
   "metadata": {},
   "outputs": [],
   "source": [
    "## focus on campaign length"
   ]
  },
  {
   "cell_type": "code",
   "execution_count": null,
   "metadata": {},
   "outputs": [],
   "source": [
    "# success by campaign length and goal\n",
    "\n",
    "plt.figure(figsize = (15,5))\n",
    "plt.xticks(rotation = 90)\n",
    "plt.title(\"Success by Campaign Length\")\n",
    "sns.countplot(x=df3[\"length_days_group\"], hue = df3[\"state_binary\"])"
   ]
  },
  {
   "cell_type": "code",
   "execution_count": null,
   "metadata": {},
   "outputs": [],
   "source": [
    "# sucess by campaign length and goal\n",
    "\n",
    "plt.figure(figsize = (15,5))\n",
    "plt.xticks(rotation = 90)\n",
    "plt.title(\"Success by Campaign Length and Goal\")\n",
    "sns.barplot(x=df3[\"length_days_group\"], y = df3[\"goal\"], hue = df3[\"state\"])"
   ]
  },
  {
   "cell_type": "code",
   "execution_count": null,
   "metadata": {},
   "outputs": [],
   "source": [
    "# sucess by campaign length and goal\n",
    "\n",
    "plt.figure(figsize = (15,5))\n",
    "plt.xticks(rotation = 90)\n",
    "plt.title(\"Success by Campaign Length and Goal\")\n",
    "sns.barplot(x=df3[\"length_days_group\"], y = df3[\"usd_pledged\"], hue = df3[\"state\"])"
   ]
  },
  {
   "cell_type": "code",
   "execution_count": null,
   "metadata": {},
   "outputs": [],
   "source": [
    "df3_length_days_1.corr()\n",
    "\n",
    "# very weak correlation between length and goal for campaigns of 0-14 days = -.025"
   ]
  },
  {
   "cell_type": "code",
   "execution_count": null,
   "metadata": {},
   "outputs": [],
   "source": [
    "df3_length_days_2.corr()\n",
    "\n",
    "# better correlation (but still weak) between length and goal for campaigns of 15-29 days = 0.045"
   ]
  },
  {
   "cell_type": "code",
   "execution_count": null,
   "metadata": {},
   "outputs": [],
   "source": [
    "df3_length_days_3.corr()\n",
    "\n",
    "# better correlation (but still weak) between length and goal for campaigns of 30-59 days = 0.077"
   ]
  },
  {
   "cell_type": "code",
   "execution_count": null,
   "metadata": {},
   "outputs": [],
   "source": [
    "df3_length_days_4.corr()\n",
    "\n",
    "# weaker correlation between length and goal for campaigns of 60-100 days = 0.019"
   ]
  },
  {
   "cell_type": "code",
   "execution_count": null,
   "metadata": {},
   "outputs": [],
   "source": [
    "# sucess by main category within 0-14 days\n",
    "\n",
    "plt.figure(figsize = (15,5))\n",
    "plt.xticks(rotation = 90)\n",
    "plt.title(\"Success of Campaigns 0-14 Days by Main Category\")\n",
    "sns.countplot(x=df3_length_days_1[\"main_category\"], hue = df3_length_days_1[\"state\"])\n",
    "\n",
    "#short campaigns more successful in film&video, art, music, theater, games"
   ]
  },
  {
   "cell_type": "code",
   "execution_count": null,
   "metadata": {},
   "outputs": [],
   "source": [
    "# sucess by main category within 15-19 days\n",
    "\n",
    "plt.figure(figsize = (15,5))\n",
    "plt.xticks(rotation = 90)\n",
    "plt.title(\"Success of Campaigns 15-19 Days by Main Category\")\n",
    "sns.countplot(x=df3_length_days_2[\"main_category\"], hue = df3_length_days_2[\"state\"])\n",
    "\n",
    "#medium-length campaigns more successful in comics, music, dance, theater"
   ]
  },
  {
   "cell_type": "code",
   "execution_count": null,
   "metadata": {},
   "outputs": [],
   "source": [
    "# sucess by main category within 30-59 days\n",
    "\n",
    "plt.figure(figsize = (15,5))\n",
    "plt.xticks(rotation = 90)\n",
    "plt.title(\"Success of Campaigns 20-29 Days by Main Category\")\n",
    "sns.countplot(x=df3_length_days_3[\"main_category\"], hue = df3_length_days_3[\"state\"])\n",
    "\n",
    "#short campaigns more successful in music, dance, theater"
   ]
  },
  {
   "cell_type": "code",
   "execution_count": null,
   "metadata": {},
   "outputs": [],
   "source": [
    "# sucess by main category 30-59 days\n",
    "\n",
    "plt.figure(figsize = (15,5))\n",
    "plt.xticks(rotation = 90)\n",
    "plt.title(\"Success of Campaigns 30-59 Days by Main Category\")\n",
    "sns.countplot(x=df3_length_days_4[\"main_category\"], hue = df3_length_days_4[\"state\"])\n",
    "\n",
    "#short campaigns more successful in art, music, dance, and theater"
   ]
  },
  {
   "cell_type": "code",
   "execution_count": null,
   "metadata": {},
   "outputs": [],
   "source": [
    "# sucess by main category 30-59 days\n",
    "\n",
    "plt.figure(figsize = (15,5))\n",
    "plt.xticks(rotation = 90)\n",
    "plt.title(\"Success of Campaigns 30-59 Days by Main Category\")\n",
    "sns.countplot(x=df3_length_days_4[\"main_category\"], hue = df3_length_days_4[\"state\"])\n",
    "\n",
    "#short campaigns more successful in art, music, dance, and theater"
   ]
  },
  {
   "cell_type": "code",
   "execution_count": null,
   "metadata": {},
   "outputs": [],
   "source": [
    "# sucess by main category 60+ days\n",
    "\n",
    "plt.figure(figsize = (15,5))\n",
    "plt.xticks(rotation = 90)\n",
    "plt.title(\"Success of Campaigns 60+ Days by Main Category\")\n",
    "sns.countplot(x=df3_length_days_5[\"main_category\"], hue = df3_length_days_5[\"state\"])\n",
    "\n",
    "#short campaigns more successful in art, music, dance, and theater"
   ]
  },
  {
   "cell_type": "code",
   "execution_count": null,
   "metadata": {},
   "outputs": [],
   "source": [
    "df3.corr()"
   ]
  },
  {
   "cell_type": "code",
   "execution_count": null,
   "metadata": {},
   "outputs": [],
   "source": [
    "# scatterplot showing length and percent funded by success\n",
    "\n",
    "sns.lmplot(data = df3, x = 'pct_funded', y = 'length_days', fit_reg = True, hue = \"state_binary\")\n",
    "\n",
    "plt.grid()\n",
    "\n",
    "# r = -0.034"
   ]
  },
  {
   "cell_type": "code",
   "execution_count": null,
   "metadata": {},
   "outputs": [],
   "source": [
    "# scatterplot showing length (0-14 days only) and percent funded by success\n",
    "\n",
    "sns.lmplot(data = df3_length_days_1, x = 'pct_funded', y = 'length_days', fit_reg = True, hue = \"state_binary\")\n",
    "\n",
    "plt.grid()\n",
    "\n",
    "# r = -0.017"
   ]
  },
  {
   "cell_type": "code",
   "execution_count": null,
   "metadata": {},
   "outputs": [],
   "source": [
    "# scatterplot showing length (15-29 days only) and percent funded by success\n",
    "\n",
    "sns.lmplot(data = df3_length_days_2, x = 'pct_funded', y = 'length_days', fit_reg = True, hue = \"state_binary\")\n",
    "\n",
    "plt.grid()\n",
    "\n",
    "# r = -0.031"
   ]
  },
  {
   "cell_type": "code",
   "execution_count": null,
   "metadata": {},
   "outputs": [],
   "source": [
    "# scatterplot showing length (30-59 days only) and percent funded by success\n",
    "\n",
    "sns.lmplot(data = df3_length_days_3, x = 'pct_funded', y = 'length_days', fit_reg = True, hue = \"state_binary\")\n",
    "\n",
    "plt.grid()\n",
    "\n",
    "# r = -0.038"
   ]
  },
  {
   "cell_type": "code",
   "execution_count": null,
   "metadata": {},
   "outputs": [],
   "source": [
    "# scatterplot showing length (60+ days only) and percent funded by success\n",
    "\n",
    "sns.lmplot(data = df3_length_days_4, x = 'pct_funded', y = 'length_days', fit_reg = True, hue = \"state_binary\")\n",
    "\n",
    "plt.grid()\n",
    "\n",
    "# r = -0.038"
   ]
  },
  {
   "cell_type": "code",
   "execution_count": null,
   "metadata": {},
   "outputs": [],
   "source": [
    "df3_successful.corr()"
   ]
  },
  {
   "cell_type": "code",
   "execution_count": null,
   "metadata": {},
   "outputs": [],
   "source": [
    "df3_failed.corr()"
   ]
  },
  {
   "cell_type": "code",
   "execution_count": null,
   "metadata": {},
   "outputs": [],
   "source": []
  },
  {
   "cell_type": "code",
   "execution_count": null,
   "metadata": {},
   "outputs": [],
   "source": []
  },
  {
   "cell_type": "code",
   "execution_count": null,
   "metadata": {},
   "outputs": [],
   "source": []
  },
  {
   "cell_type": "code",
   "execution_count": null,
   "metadata": {},
   "outputs": [],
   "source": []
  },
  {
   "cell_type": "markdown",
   "metadata": {},
   "source": [
    "# Creating Datasets of Sub-Groups (Main Categories)"
   ]
  },
  {
   "cell_type": "code",
   "execution_count": null,
   "metadata": {},
   "outputs": [],
   "source": [
    "# for sub-group analysis creating a dataset with main category = food only\n",
    "\n",
    "df3_food = df3.copy()"
   ]
  },
  {
   "cell_type": "code",
   "execution_count": null,
   "metadata": {},
   "outputs": [],
   "source": [
    "df3_food[\"Food Main Category\"] = np.where(df3[\"main_category\"]==\"Food\", \"Y\", \"N\")\n",
    "df3_food.head()"
   ]
  },
  {
   "cell_type": "code",
   "execution_count": null,
   "metadata": {},
   "outputs": [],
   "source": [
    "df3_food.drop(df3_food.loc[df3_food[\"Food Main Category\"]==\"N\"].index, inplace = True)"
   ]
  },
  {
   "cell_type": "code",
   "execution_count": null,
   "metadata": {},
   "outputs": [],
   "source": [
    "df3_food.info()"
   ]
  },
  {
   "cell_type": "code",
   "execution_count": null,
   "metadata": {},
   "outputs": [],
   "source": [
    "# for sub-group analysis creating a dataset with main category = techonology only\n",
    "\n",
    "df3_tech = df3.copy()\n",
    "df3_tech[\"Tech Main Category\"] = np.where(df3[\"main_category\"]==\"Technology\", \"Y\", \"N\")\n",
    "df3_tech.info()"
   ]
  },
  {
   "cell_type": "code",
   "execution_count": null,
   "metadata": {},
   "outputs": [],
   "source": [
    "df3_tech.drop(df3_tech.loc[df3_tech[\"Tech Main Category\"]==\"N\"].index, inplace = True)\n",
    "df3_tech.info()"
   ]
  },
  {
   "cell_type": "code",
   "execution_count": null,
   "metadata": {},
   "outputs": [],
   "source": [
    "# for sub-group analysis creating a dataset with main category = publishing only\n",
    "\n",
    "df3_pub = df3.copy()\n",
    "df3_pub[\"Publishing Main Category\"] = np.where(df3_pub[\"main_category\"]==\"Publishing\", \"Y\", \"N\")\n",
    "df3_pub.info()"
   ]
  },
  {
   "cell_type": "code",
   "execution_count": null,
   "metadata": {},
   "outputs": [],
   "source": [
    "df3_pub.drop(df3_pub.loc[df3_pub[\"Publishing Main Category\"]==\"N\"].index, inplace = True)\n",
    "df3_pub.info()"
   ]
  },
  {
   "cell_type": "code",
   "execution_count": null,
   "metadata": {},
   "outputs": [],
   "source": [
    "# for sub-group analysis creating a dataset with main category = fashion only\n",
    "\n",
    "df3_fash = df3.copy()\n",
    "df3_fash[\"Fashion Main Category\"] = np.where(df3_fash[\"main_category\"]==\"Fashion\", \"Y\", \"N\")\n",
    "df3_fash.info()"
   ]
  },
  {
   "cell_type": "code",
   "execution_count": null,
   "metadata": {},
   "outputs": [],
   "source": [
    "df3_fash.drop(df3_fash.loc[df3_fash[\"Fashion Main Category\"]==\"N\"].index, inplace = True)\n",
    "df3_fash.info()"
   ]
  },
  {
   "cell_type": "code",
   "execution_count": null,
   "metadata": {},
   "outputs": [],
   "source": [
    "# for sub-group analysis creating a dataset with main category = film & video only\n",
    "\n",
    "df3_film = df3.copy()\n",
    "df3_film[\"Film & Video Main Category\"] = np.where(df3_film[\"main_category\"]==\"Film & Video\", \"Y\", \"N\")\n",
    "df3_film.info()"
   ]
  },
  {
   "cell_type": "code",
   "execution_count": null,
   "metadata": {},
   "outputs": [],
   "source": [
    "df3_film.drop(df3_film.loc[df3_film[\"Film & Video Main Category\"]==\"N\"].index, inplace = True)\n",
    "df3_film.info()"
   ]
  },
  {
   "cell_type": "code",
   "execution_count": null,
   "metadata": {},
   "outputs": [],
   "source": [
    "# for sub-group analysis creating a dataset with main category = photography only\n",
    "\n",
    "df3_photo = df3.copy()\n",
    "df3_photo[\"Photography Main Category\"] = np.where(df3_photo[\"main_category\"]==\"Photography\", \"Y\", \"N\")\n",
    "df3_photo.info()"
   ]
  },
  {
   "cell_type": "code",
   "execution_count": null,
   "metadata": {},
   "outputs": [],
   "source": [
    "df3_photo.drop(df3_photo.loc[df3_photo[\"Photography Main Category\"]==\"N\"].index, inplace = True)\n",
    "df3_photo.info()"
   ]
  },
  {
   "cell_type": "code",
   "execution_count": null,
   "metadata": {},
   "outputs": [],
   "source": [
    "# for sub-group analysis creating a dataset with main category = comics only\n",
    "\n",
    "df3_comics = df3.copy()\n",
    "df3_comics[\"Comics Main Category\"] = np.where(df3_comics[\"main_category\"]==\"Comics\", \"Y\", \"N\")\n",
    "df3_comics.info()"
   ]
  },
  {
   "cell_type": "code",
   "execution_count": null,
   "metadata": {},
   "outputs": [],
   "source": [
    "df3_comics.drop(df3_comics.loc[df3_comics[\"Comics Main Category\"]==\"N\"].index, inplace = True)\n",
    "df3_comics.info()"
   ]
  },
  {
   "cell_type": "code",
   "execution_count": null,
   "metadata": {},
   "outputs": [],
   "source": [
    "# for sub-group analysis creating a dataset with main category = design only\n",
    "\n",
    "df3_design = df3.copy()\n",
    "df3_design[\"Design Main Category\"] = np.where(df3_design[\"main_category\"]==\"Design\", \"Y\", \"N\")\n",
    "df3_design.info()"
   ]
  },
  {
   "cell_type": "code",
   "execution_count": null,
   "metadata": {},
   "outputs": [],
   "source": [
    "df3_design.drop(df3_design.loc[df3_design[\"Design Main Category\"]==\"N\"].index, inplace = True)\n",
    "df3_design.info()"
   ]
  },
  {
   "cell_type": "code",
   "execution_count": null,
   "metadata": {},
   "outputs": [],
   "source": [
    "# for sub-group analysis creating a dataset with main category = art only\n",
    "\n",
    "df3_art = df3.copy()\n",
    "df3_art[\"Art Main Category\"] = np.where(df3_art[\"main_category\"]==\"Art\", \"Y\", \"N\")\n",
    "df3_art.info()"
   ]
  },
  {
   "cell_type": "code",
   "execution_count": null,
   "metadata": {},
   "outputs": [],
   "source": [
    "df3_art.drop(df3_art.loc[df3_art[\"Art Main Category\"]==\"N\"].index, inplace = True)\n",
    "df3_art.info()"
   ]
  },
  {
   "cell_type": "code",
   "execution_count": null,
   "metadata": {},
   "outputs": [],
   "source": [
    "# for sub-group analysis creating a dataset with main category = journalism only\n",
    "\n",
    "df3_journ = df3.copy()\n",
    "df3_journ[\"Journalism Main Category\"] = np.where(df3_journ[\"main_category\"]==\"Journalism\", \"Y\", \"N\")\n",
    "df3_journ.info()"
   ]
  },
  {
   "cell_type": "code",
   "execution_count": null,
   "metadata": {},
   "outputs": [],
   "source": [
    "df3_journ.drop(df3_journ.loc[df3_journ[\"Journalism Main Category\"]==\"N\"].index, inplace = True)\n",
    "df3_journ.info()"
   ]
  },
  {
   "cell_type": "code",
   "execution_count": null,
   "metadata": {},
   "outputs": [],
   "source": [
    "# for sub-group analysis creating a dataset with main category = music only\n",
    "\n",
    "df3_music = df3.copy()\n",
    "df3_music[\"Music Main Category\"] = np.where(df3_music[\"main_category\"]==\"Music\", \"Y\", \"N\")\n",
    "df3_music.info()"
   ]
  },
  {
   "cell_type": "code",
   "execution_count": null,
   "metadata": {},
   "outputs": [],
   "source": [
    "df3_music.drop(df3_music.loc[df3_music[\"Music Main Category\"]==\"N\"].index, inplace = True)\n",
    "df3_music.info()"
   ]
  },
  {
   "cell_type": "code",
   "execution_count": null,
   "metadata": {},
   "outputs": [],
   "source": [
    "# for sub-group analysis creating a dataset with main category = crafts only\n",
    "\n",
    "df3_crafts = df3.copy()\n",
    "df3_crafts[\"Crafts Main Category\"] = np.where(df3_crafts[\"main_category\"]==\"Crafts\", \"Y\", \"N\")\n",
    "df3_crafts.info()"
   ]
  },
  {
   "cell_type": "code",
   "execution_count": null,
   "metadata": {},
   "outputs": [],
   "source": [
    "df3_crafts.drop(df3_crafts.loc[df3_crafts[\"Crafts Main Category\"]==\"N\"].index, inplace = True)\n",
    "df3_crafts.info()"
   ]
  },
  {
   "cell_type": "code",
   "execution_count": null,
   "metadata": {},
   "outputs": [],
   "source": [
    "# for sub-group analysis creating a dataset with main category = dance only\n",
    "\n",
    "df3_dance = df3.copy()\n",
    "df3_dance[\"Dance Main Category\"] = np.where(df3_dance[\"main_category\"]==\"Dance\", \"Y\", \"N\")\n",
    "df3_dance.info()"
   ]
  },
  {
   "cell_type": "code",
   "execution_count": null,
   "metadata": {},
   "outputs": [],
   "source": [
    "df3_dance.drop(df3_dance.loc[df3_dance[\"Dance Main Category\"]==\"N\"].index, inplace = True)\n",
    "df3_dance.info()"
   ]
  },
  {
   "cell_type": "code",
   "execution_count": null,
   "metadata": {},
   "outputs": [],
   "source": [
    "# for sub-group analysis creating a dataset with main category = theater only\n",
    "\n",
    "df3_thea = df3.copy()\n",
    "df3_thea[\"Theater Main Category\"] = np.where(df3_thea[\"main_category\"]==\"Theater\", \"Y\", \"N\")\n",
    "df3_thea.info()"
   ]
  },
  {
   "cell_type": "code",
   "execution_count": null,
   "metadata": {},
   "outputs": [],
   "source": [
    "df3_thea.drop(df3_thea.loc[df3_thea[\"Theater Main Category\"]==\"N\"].index, inplace = True)\n",
    "df3_thea.info()"
   ]
  },
  {
   "cell_type": "code",
   "execution_count": null,
   "metadata": {},
   "outputs": [],
   "source": [
    "# for sub-group analysis creating a dataset with main category = games only\n",
    "\n",
    "df3_games = df3.copy()\n",
    "df3_games[\"Games Main Category\"] = np.where(df3_games[\"main_category\"]==\"Games\", \"Y\", \"N\")\n",
    "df3_games.info()"
   ]
  },
  {
   "cell_type": "code",
   "execution_count": null,
   "metadata": {
    "scrolled": false
   },
   "outputs": [],
   "source": [
    "df3_games.drop(df3_games.loc[df3_games[\"Games Main Category\"]==\"N\"].index, inplace = True)\n",
    "df3_games.info()"
   ]
  },
  {
   "cell_type": "markdown",
   "metadata": {},
   "source": [
    "# Visuals and Correlations within Main Category Sub-Groups"
   ]
  },
  {
   "cell_type": "markdown",
   "metadata": {},
   "source": [
    "### Main Category: ART "
   ]
  },
  {
   "cell_type": "code",
   "execution_count": null,
   "metadata": {},
   "outputs": [],
   "source": [
    "## state by campaign sub-category (crosstab)\n",
    "pd.crosstab(df3_art[\"category\"], df3[\"state\"])\n",
    "\n",
    "## Success rates within ART MAIN CATEGORY: not much variation\n",
    "\n",
    "#art: 45%\n",
    "#ceramics: 46%\n",
    "#conceptual art: 40%\n",
    "#digital art: 31%\n",
    "#illustration: 53%\n",
    "#installations: 56%\n",
    "#mixed media: 37%\n",
    "#painting: 38%\n",
    "#performance art: 47%\n",
    "#public art: 55%\n",
    "#sculpture: 43%\n",
    "#textiles: 30%\n",
    "#video art: 28%"
   ]
  },
  {
   "cell_type": "code",
   "execution_count": null,
   "metadata": {},
   "outputs": [],
   "source": [
    "plt.figure(figsize = (15,5))\n",
    "plt.xticks(rotation = 90)\n",
    "plt.title(\"ART: Average Goal by Pct Funded Group and State\")\n",
    "sns.barplot(data = df3_art, x=\"pct_funded_group\", y= \"goal\", hue = \"state\")\n",
    "\n",
    "#How are projects successful with less than 100% funded??"
   ]
  },
  {
   "cell_type": "code",
   "execution_count": null,
   "metadata": {},
   "outputs": [],
   "source": [
    "df3_art.loc[(df3_art[\"pct_funded\"]<100) & (df3_art[\"state\"]==\"successful\")]\n",
    "\n",
    "#confirmation that no project with < 100% funded is successful"
   ]
  },
  {
   "cell_type": "code",
   "execution_count": null,
   "metadata": {},
   "outputs": [],
   "source": [
    "plt.figure(figsize = (15,5))\n",
    "plt.xticks(rotation = 90)\n",
    "plt.title(\"ART: Average Goal by Main Category and State\")\n",
    "sns.barplot(data = df3_art, x=\"category\", y= \"goal\", hue = \"state\")\n",
    "\n",
    "#interesting: average goal of successful projects across all subcategories seems to be the same (next line calculate this)"
   ]
  },
  {
   "cell_type": "code",
   "execution_count": null,
   "metadata": {},
   "outputs": [],
   "source": [
    "df3_art[\"goal\"].loc[df3_art[\"state\"]==\"successful\"].mean()\n",
    "\n",
    "#mean goal for successful art projects = $4,292"
   ]
  },
  {
   "cell_type": "code",
   "execution_count": null,
   "metadata": {},
   "outputs": [],
   "source": [
    "df3_art[\"goal\"].loc[df3_art[\"state\"]==\"successful\"].median()\n",
    "\n",
    "#median goal for successful art projects = $2,000"
   ]
  },
  {
   "cell_type": "code",
   "execution_count": null,
   "metadata": {},
   "outputs": [],
   "source": [
    "pd.set_option('display.max_rows', None) ## show all rows in dataset"
   ]
  },
  {
   "cell_type": "code",
   "execution_count": null,
   "metadata": {
    "scrolled": true
   },
   "outputs": [],
   "source": [
    "index_val = [\"state\", \"category\", \"length_days_group\"]\n",
    "\n",
    "# mean average goal by state, backers_group, length_days_group \n",
    "pd.pivot_table(data= df3_art, index=index_val, values=['goal'])"
   ]
  },
  {
   "cell_type": "markdown",
   "metadata": {},
   "source": [
    "#### ART: Regression"
   ]
  },
  {
   "cell_type": "markdown",
   "metadata": {},
   "source": [
    "Linear Regression (where y represents pct_funded): unsuccessful"
   ]
  },
  {
   "cell_type": "code",
   "execution_count": null,
   "metadata": {},
   "outputs": [],
   "source": [
    "df3_art.corr()\n",
    "\n",
    "# strongest correlation between backers and usd pledged, far second place is backers and pct funded"
   ]
  },
  {
   "cell_type": "code",
   "execution_count": null,
   "metadata": {},
   "outputs": [],
   "source": [
    "# creating the 1st regression model\n",
    "result1_art = sm.ols('pct_funded ~ length_days + goal + backers + usd_pledged', data = df3_art).fit()\n",
    "\n",
    "result1_art.summary()\n",
    "\n",
    "#Adj R-squared is very low"
   ]
  },
  {
   "cell_type": "code",
   "execution_count": null,
   "metadata": {},
   "outputs": [],
   "source": [
    "# creating the 2nd regression model (same as 1st but without intercept)\n",
    "result2_art = sm.ols('pct_funded ~ length_days + backers + goal + usd_pledged -1', data = df3_art).fit()\n",
    "\n",
    "result2_art.summary()\n",
    "\n",
    "#Adj R-squared is better but still very low"
   ]
  },
  {
   "cell_type": "code",
   "execution_count": null,
   "metadata": {},
   "outputs": [],
   "source": [
    "# creating the 3rd regression model\n",
    "result3_art = sm.ols('pct_funded ~ length_days + backers + usd_pledged - 1', data = df3_art).fit()\n",
    "\n",
    "result3_art.summary()\n",
    "\n",
    "#Adj R-squared is still very low"
   ]
  },
  {
   "cell_type": "code",
   "execution_count": null,
   "metadata": {},
   "outputs": [],
   "source": [
    "# creating the 4th regression model\n",
    "result4_art = sm.ols('pct_funded ~ backers + usd_pledged -1', data = df3_art).fit()\n",
    "\n",
    "result4_art.summary()\n",
    "\n",
    "#Adj R-squared is still very low"
   ]
  },
  {
   "cell_type": "markdown",
   "metadata": {},
   "source": [
    "Logistic Regression"
   ]
  },
  {
   "cell_type": "code",
   "execution_count": null,
   "metadata": {},
   "outputs": [],
   "source": [
    "df3_art"
   ]
  },
  {
   "cell_type": "code",
   "execution_count": null,
   "metadata": {},
   "outputs": [],
   "source": []
  },
  {
   "cell_type": "code",
   "execution_count": null,
   "metadata": {},
   "outputs": [],
   "source": []
  },
  {
   "cell_type": "markdown",
   "metadata": {},
   "source": [
    "### COMICS "
   ]
  },
  {
   "cell_type": "code",
   "execution_count": null,
   "metadata": {},
   "outputs": [],
   "source": [
    "df3_comics[\"goal\"].loc[(df3_comics[\"state\"]==\"successful\") & ((df3_comics[\"length_days_group\"]==\"20-29\") | (df3_comics[\"length_days_group\"]==\"30-59\"))].median()\n",
    "\n",
    "#median goal for successful comics projects between 20-59 days = $3,000"
   ]
  },
  {
   "cell_type": "code",
   "execution_count": null,
   "metadata": {},
   "outputs": [],
   "source": [
    "df3_comics[\"goal\"].loc[(df3_comics[\"state\"]==\"successful\") & ((df3_comics[\"length_days_group\"]==\"20-29\") | (df3_comics[\"length_days_group\"]==\"30-59\"))].mean()\n",
    "\n",
    "#mean goal for successful comics projects between 20-59 days = $5,315"
   ]
  },
  {
   "cell_type": "markdown",
   "metadata": {},
   "source": [
    "### CRAFTS "
   ]
  },
  {
   "cell_type": "code",
   "execution_count": null,
   "metadata": {},
   "outputs": [],
   "source": [
    "df3_crafts[\"goal\"].loc[df3_crafts[\"state\"]==\"successful\"].mean()\n",
    "\n",
    "#mean goal for successful crafts projects = $2,947"
   ]
  },
  {
   "cell_type": "code",
   "execution_count": null,
   "metadata": {},
   "outputs": [],
   "source": []
  },
  {
   "cell_type": "markdown",
   "metadata": {},
   "source": [
    "### DANCE "
   ]
  },
  {
   "cell_type": "code",
   "execution_count": null,
   "metadata": {},
   "outputs": [],
   "source": [
    "df3_dance[\"goal\"].loc[(df3_dance[\"state\"]==\"successful\") & ((df3_dance[\"length_days_group\"]==\"20-29\") | (df3_dance[\"length_days_group\"]==\"30-59\"))].median()\n",
    "\n",
    "#median goal for successful dance projects within 20-59 days = $3,000"
   ]
  },
  {
   "cell_type": "code",
   "execution_count": null,
   "metadata": {},
   "outputs": [],
   "source": [
    "df3_dance[\"goal\"].loc[(df3_dance[\"state\"]==\"successful\") & ((df3_dance[\"length_days_group\"]==\"20-29\") | (df3_dance[\"length_days_group\"]==\"30-59\"))].mean()\n",
    "\n",
    "#mean goal for successful dance projects within 20-59 days = $3,000"
   ]
  },
  {
   "cell_type": "markdown",
   "metadata": {},
   "source": [
    "### DESIGN "
   ]
  },
  {
   "cell_type": "code",
   "execution_count": null,
   "metadata": {},
   "outputs": [],
   "source": [
    "df3_design[\"goal\"].loc[df3_design[\"state\"]==\"successful\"].mean()\n",
    "\n",
    "#mean goal for successful design projects = $13,335"
   ]
  },
  {
   "cell_type": "code",
   "execution_count": null,
   "metadata": {},
   "outputs": [],
   "source": []
  },
  {
   "cell_type": "markdown",
   "metadata": {},
   "source": [
    "### FASHION "
   ]
  },
  {
   "cell_type": "code",
   "execution_count": null,
   "metadata": {},
   "outputs": [],
   "source": [
    "df3_fash[\"goal\"].loc[df3_fash[\"state\"]==\"successful\"].mean()\n",
    "\n",
    "#mean goal for successful fashion projects = $9,532"
   ]
  },
  {
   "cell_type": "code",
   "execution_count": null,
   "metadata": {},
   "outputs": [],
   "source": []
  },
  {
   "cell_type": "markdown",
   "metadata": {},
   "source": [
    "### FILM & VIDEO"
   ]
  },
  {
   "cell_type": "code",
   "execution_count": null,
   "metadata": {},
   "outputs": [],
   "source": [
    "df3_film[\"goal\"].loc[df3_film[\"state\"]==\"successful\"].mean()\n",
    "\n",
    "#mean goal for successful film & video projects = $9,402"
   ]
  },
  {
   "cell_type": "code",
   "execution_count": null,
   "metadata": {},
   "outputs": [],
   "source": []
  },
  {
   "cell_type": "code",
   "execution_count": null,
   "metadata": {},
   "outputs": [],
   "source": []
  },
  {
   "cell_type": "markdown",
   "metadata": {},
   "source": [
    "### FOOD"
   ]
  },
  {
   "cell_type": "code",
   "execution_count": null,
   "metadata": {},
   "outputs": [],
   "source": [
    "df3_food[\"goal\"].loc[df3_food[\"state\"]==\"successful\"].mean()\n",
    "\n",
    "#mean goal for successful FOOD projects = $11,188"
   ]
  },
  {
   "cell_type": "code",
   "execution_count": null,
   "metadata": {},
   "outputs": [],
   "source": [
    "plt.figure(figsize = (15,5))\n",
    "plt.xticks(rotation = 90)\n",
    "plt.title(\"FOOD: Average Goal by Main Category and State\")\n",
    "sns.barplot(data = df3_food, x=\"category\", y= \"goal\", hue = \"state\")\n",
    "\n",
    "#How are projects successful with less than 100% funded??"
   ]
  },
  {
   "cell_type": "code",
   "execution_count": null,
   "metadata": {},
   "outputs": [],
   "source": []
  },
  {
   "cell_type": "markdown",
   "metadata": {},
   "source": [
    "### GAMES"
   ]
  },
  {
   "cell_type": "code",
   "execution_count": null,
   "metadata": {},
   "outputs": [],
   "source": [
    "df3_games[\"goal\"].loc[df3_games[\"state\"]==\"successful\"].mean()\n",
    "\n",
    "#mean goal for successful games projects = $8,282"
   ]
  },
  {
   "cell_type": "code",
   "execution_count": null,
   "metadata": {},
   "outputs": [],
   "source": []
  },
  {
   "cell_type": "markdown",
   "metadata": {},
   "source": [
    "### JOURNALISM"
   ]
  },
  {
   "cell_type": "code",
   "execution_count": null,
   "metadata": {},
   "outputs": [],
   "source": [
    "df3_journ[\"goal\"].loc[df3_journ[\"state\"]==\"successful\"].mean()\n",
    "\n",
    "#mean goal for successful journalism projects = $8,394"
   ]
  },
  {
   "cell_type": "code",
   "execution_count": null,
   "metadata": {},
   "outputs": [],
   "source": []
  },
  {
   "cell_type": "markdown",
   "metadata": {},
   "source": [
    "### MUSIC"
   ]
  },
  {
   "cell_type": "code",
   "execution_count": null,
   "metadata": {},
   "outputs": [],
   "source": [
    "df3_music[\"goal\"].loc[(df3_music[\"state\"]==\"successful\") & ((df3_music[\"length_days_group\"]==\"20-29\") | (df3_music[\"length_days_group\"]==\"30-59\"))].median()\n",
    "\n",
    "#median goal for successful music projects within 20-59 days = $3,500"
   ]
  },
  {
   "cell_type": "code",
   "execution_count": null,
   "metadata": {},
   "outputs": [],
   "source": []
  },
  {
   "cell_type": "markdown",
   "metadata": {},
   "source": [
    "### PHOTOGRAPHY"
   ]
  },
  {
   "cell_type": "code",
   "execution_count": null,
   "metadata": {},
   "outputs": [],
   "source": [
    "df3_photo[\"goal\"].loc[df3_photo[\"state\"]==\"successful\"].mean()\n",
    "\n",
    "#mean goal for successful photography projects = $5,976"
   ]
  },
  {
   "cell_type": "code",
   "execution_count": null,
   "metadata": {},
   "outputs": [],
   "source": []
  },
  {
   "cell_type": "markdown",
   "metadata": {},
   "source": [
    "### PUBLISHING"
   ]
  },
  {
   "cell_type": "code",
   "execution_count": null,
   "metadata": {},
   "outputs": [],
   "source": [
    "df3_pub[\"goal\"].loc[df3_pub[\"state\"]==\"successful\"].mean()\n",
    "\n",
    "#mean goal for successful FOOD projects = $5,730"
   ]
  },
  {
   "cell_type": "code",
   "execution_count": null,
   "metadata": {},
   "outputs": [],
   "source": []
  },
  {
   "cell_type": "markdown",
   "metadata": {},
   "source": [
    "### TECHNOLOGY"
   ]
  },
  {
   "cell_type": "code",
   "execution_count": null,
   "metadata": {},
   "outputs": [],
   "source": [
    "df3_tech[\"goal\"].loc[df3_tech[\"state\"]==\"successful\"].mean()\n",
    "\n",
    "#mean goal for successful tech projects = $20,156"
   ]
  },
  {
   "cell_type": "code",
   "execution_count": null,
   "metadata": {},
   "outputs": [],
   "source": []
  },
  {
   "cell_type": "markdown",
   "metadata": {},
   "source": [
    "### THEATER"
   ]
  },
  {
   "cell_type": "code",
   "execution_count": null,
   "metadata": {},
   "outputs": [],
   "source": [
    "df3_thea[\"goal\"].loc[(df3_thea[\"state\"]==\"successful\") & ((df3_thea[\"length_days_group\"]==\"20-29\") | (df3_thea[\"length_days_group\"]==\"30-59\"))].median()\n",
    "\n",
    "#median goal for successful theater projects within 20-59 days = $2,800"
   ]
  },
  {
   "cell_type": "code",
   "execution_count": null,
   "metadata": {},
   "outputs": [],
   "source": []
  },
  {
   "cell_type": "code",
   "execution_count": null,
   "metadata": {},
   "outputs": [],
   "source": []
  },
  {
   "cell_type": "markdown",
   "metadata": {},
   "source": [
    "# A Deeper Look at Aggregate Data"
   ]
  },
  {
   "cell_type": "code",
   "execution_count": null,
   "metadata": {},
   "outputs": [],
   "source": [
    "index_val = [\"state\", \"backers_group\", \"length_days_group\"]\n",
    "\n",
    "# mean average goal by state, backers_group, length_days_group \n",
    "pd.pivot_table(data= df3, index=index_val, values=['goal'])\n",
    "\n",
    "#once again, we see that a lower goal is important for success"
   ]
  },
  {
   "cell_type": "markdown",
   "metadata": {},
   "source": [
    "## Regression on Aggregate Data"
   ]
  },
  {
   "cell_type": "code",
   "execution_count": null,
   "metadata": {},
   "outputs": [],
   "source": []
  },
  {
   "cell_type": "code",
   "execution_count": null,
   "metadata": {},
   "outputs": [],
   "source": [
    "sns.countplot(data=df3, x=\"state_binary\")"
   ]
  },
  {
   "cell_type": "code",
   "execution_count": null,
   "metadata": {},
   "outputs": [],
   "source": [
    "mod1 = sm.logit('state_binary ~ length_days + goal + backers + usd_pledged', data=df3).fit()\n",
    "\n",
    "mod1.summary()\n",
    "\n",
    "# excellent p-value: the model fits the data well"
   ]
  },
  {
   "cell_type": "code",
   "execution_count": null,
   "metadata": {},
   "outputs": [],
   "source": [
    "## create a dataframe with the variable names, OR's and p-values\n",
    "# np.exp >> calculate the exponential of a given value\n",
    "\n",
    "df3_odds = pd.DataFrame(np.exp(mod1.params), columns = ['OR'])\n",
    "\n",
    "## pull the pvalues directly from the model\n",
    "\n",
    "df3_odds[\"pvalue\"] = mod1.pvalues\n",
    "\n",
    "## create a variable to quickly determine sig\n",
    "\n",
    "df3_odds[\"Sig\"] = np.where(df3_odds[\"pvalue\"] <= 0.05, \"Sig\", \"Not Sig\")\n",
    "\n",
    "## print new dataset\n",
    "\n",
    "df3_odds"
   ]
  },
  {
   "cell_type": "markdown",
   "metadata": {},
   "source": [
    "### Interpreting Logistic Regression on Aggregate Data\n",
    "- For everyone one day increase in length of the campaign, the probability of the project  being successful decreases by 1.35%.\n",
    "- For every one USD increase in the goal, the probability of the project being successful decreases by .05%.\n",
    "- For every increase of one backer, the project's chances of success increase by 4%."
   ]
  },
  {
   "cell_type": "code",
   "execution_count": null,
   "metadata": {},
   "outputs": [],
   "source": [
    "# Naive Bayes Gaussian Classifier"
   ]
  },
  {
   "cell_type": "code",
   "execution_count": null,
   "metadata": {},
   "outputs": [],
   "source": [
    "from sklearn.naive_bayes import GaussianNB   #import Gaussian Bayes modeling function\n",
    "from sklearn.model_selection import train_test_split\n",
    "from sklearn.metrics import classification_report\n",
    "from sklearn.metrics import confusion_matrix\n",
    "from sklearn.metrics import accuracy_score"
   ]
  },
  {
   "cell_type": "code",
   "execution_count": null,
   "metadata": {},
   "outputs": [],
   "source": [
    "df3.count()"
   ]
  },
  {
   "cell_type": "code",
   "execution_count": null,
   "metadata": {},
   "outputs": [],
   "source": [
    "gaussian_modeldf = df3[['length_days', 'goal', 'backers', 'state_binary']]\n",
    "gaussian_modeldf.head()"
   ]
  },
  {
   "cell_type": "code",
   "execution_count": null,
   "metadata": {},
   "outputs": [],
   "source": [
    "#dataframe with predicting features\n",
    "X = gaussian_modeldf.drop('state_binary', axis=1)\n",
    "\n",
    "#column of predictive target values\n",
    "y = gaussian_modeldf['state_binary']"
   ]
  },
  {
   "cell_type": "code",
   "execution_count": null,
   "metadata": {},
   "outputs": [],
   "source": [
    "#create training and test data\n",
    "#will leave test size at default (25%)\n",
    "X_train, X_test, y_train, y_test = train_test_split(X, y, random_state=592)\n",
    "\n",
    "##random state: change this number a few times to see if you get similar results (computer doesn't always choose data randomly,"
   ]
  },
  {
   "cell_type": "code",
   "execution_count": null,
   "metadata": {},
   "outputs": [],
   "source": [
    "#initialize Gaussian Bayes classifier\n",
    "gnb = GaussianNB()"
   ]
  },
  {
   "cell_type": "code",
   "execution_count": null,
   "metadata": {},
   "outputs": [],
   "source": [
    "#train the model to learn trends\n",
    "gnb.fit(X_train, y_train)"
   ]
  },
  {
   "cell_type": "code",
   "execution_count": null,
   "metadata": {},
   "outputs": [],
   "source": [
    "#predictive score of the model on the training data\n",
    "gnb.score(X_train, y_train)"
   ]
  },
  {
   "cell_type": "code",
   "execution_count": null,
   "metadata": {},
   "outputs": [],
   "source": [
    "#test the model on unseen data\n",
    "#score predictive values in variable\n",
    "y_pred = gnb.predict(X_test)"
   ]
  },
  {
   "cell_type": "code",
   "execution_count": null,
   "metadata": {},
   "outputs": [],
   "source": [
    "#Confusion matrix shows which values model predicted correctly vs incorrectly\n",
    "\n",
    "cm = pd.DataFrame(\n",
    "    confusion_matrix(y_test, y_pred),\n",
    "    columns=['Predicted Unsuccessful', 'Predicted Successful'],\n",
    "    index=['True Unsuccessful', 'True Successful']\n",
    ")\n",
    "\n",
    "cm"
   ]
  },
  {
   "cell_type": "code",
   "execution_count": null,
   "metadata": {},
   "outputs": [],
   "source": [
    "#predictive score of the model on the test data\n",
    "gnb.score(X_test, y_test)"
   ]
  },
  {
   "cell_type": "code",
   "execution_count": null,
   "metadata": {},
   "outputs": [],
   "source": [
    "#predictive score of the model for each predictive category\n",
    "print(classification_report(y_test, y_pred))"
   ]
  },
  {
   "cell_type": "code",
   "execution_count": null,
   "metadata": {},
   "outputs": [],
   "source": [
    "# Naive Bayes Bernoulli Classifier"
   ]
  },
  {
   "cell_type": "code",
   "execution_count": null,
   "metadata": {},
   "outputs": [],
   "source": [
    "#import Bernoulli Naïve Bayes function from scikit-learn library\n",
    "from sklearn.naive_bayes import BernoulliNB"
   ]
  },
  {
   "cell_type": "code",
   "execution_count": null,
   "metadata": {},
   "outputs": [],
   "source": [
    "#initialize Bernoulli Naïve Bayes function to a variable\n",
    "bnb = BernoulliNB()"
   ]
  },
  {
   "cell_type": "code",
   "execution_count": null,
   "metadata": {},
   "outputs": [],
   "source": [
    "#build the model with training data\n",
    "bnb.fit(X_train, y_train)"
   ]
  },
  {
   "cell_type": "code",
   "execution_count": null,
   "metadata": {},
   "outputs": [],
   "source": [
    "#model's predictive score on the training data\n",
    "bnb.score(X_train, y_train)"
   ]
  },
  {
   "cell_type": "code",
   "execution_count": null,
   "metadata": {},
   "outputs": [],
   "source": [
    "#test the model on unseen data\n",
    "#score predictive values in variable\n",
    "y_pred = bnb.predict(X_test)"
   ]
  },
  {
   "cell_type": "code",
   "execution_count": null,
   "metadata": {},
   "outputs": [],
   "source": [
    "#Confusion matrix shows which values model predicted correctly vs incorrectly\n",
    "\n",
    "cm = pd.DataFrame(\n",
    "    confusion_matrix(y_test, y_pred),\n",
    "    columns=['Predicted Unsuccessful', 'Predicted Successful'],\n",
    "    index=['True Unsuccessful', 'True Successful']\n",
    ")\n",
    "\n",
    "cm"
   ]
  },
  {
   "cell_type": "code",
   "execution_count": null,
   "metadata": {},
   "outputs": [],
   "source": [
    "#predictive score of the model on the test data\n",
    "bnb.score(X_test, y_test)"
   ]
  },
  {
   "cell_type": "code",
   "execution_count": null,
   "metadata": {},
   "outputs": [],
   "source": []
  },
  {
   "cell_type": "code",
   "execution_count": null,
   "metadata": {},
   "outputs": [],
   "source": []
  },
  {
   "cell_type": "code",
   "execution_count": null,
   "metadata": {},
   "outputs": [],
   "source": [
    "sns.lmplot(data = df3, x = 'goal', y = 'length_days', fit_reg = False, hue = \"state\", height = 8, aspect = 1.5)\n",
    "plt.title(\"Goal vs. Length_Days per State\")\n",
    "\n",
    "#looks like length doesn't matter as much as goal"
   ]
  },
  {
   "cell_type": "code",
   "execution_count": null,
   "metadata": {},
   "outputs": [],
   "source": [
    "sns.lmplot(data = df3, x = 'goal', y = 'avg_pledge_per_backer', fit_reg = False, hue = \"state\", height = 8, aspect = 1.5)\n",
    "plt.title(\"Goal vs. Avg Pledge per Backer\")\n",
    "\n",
    "# reaffirms that lower goal is more successful, directly correlates with average pledge per backer"
   ]
  },
  {
   "cell_type": "code",
   "execution_count": null,
   "metadata": {},
   "outputs": [],
   "source": [
    "sns.lmplot(data = df3, x = 'length_days', y = 'avg_pledge_per_backer', fit_reg = False, hue = \"state\", height = 8, aspect = 1.5)\n",
    "plt.title(\"Goal vs. Avg Pledge per Backer\")\n",
    "\n",
    "#interesting!  no apparent correlation between the two variables.  successful projects have lower goals"
   ]
  },
  {
   "cell_type": "code",
   "execution_count": null,
   "metadata": {},
   "outputs": [],
   "source": []
  },
  {
   "cell_type": "code",
   "execution_count": null,
   "metadata": {},
   "outputs": [],
   "source": []
  },
  {
   "cell_type": "code",
   "execution_count": null,
   "metadata": {},
   "outputs": [],
   "source": [
    "# average number of backers and pledges by main category and subcategory \n"
   ]
  },
  {
   "cell_type": "code",
   "execution_count": null,
   "metadata": {},
   "outputs": [],
   "source": [
    "## state by campaign main category (crosstab)\n",
    "\n",
    "pd.crosstab(df3[\"main_category\"], df3[\"state\"])\n",
    "\n",
    "#success rates PER MAIN CATEGORY:\n",
    "#art: 44%\n",
    "#comics: 57% \n",
    "#crafts: 26%\n",
    "#dance: 66%\n",
    "#design: 39%\n",
    "#fashion: 27%\n",
    "#film&video: 42%\n",
    "#food: 28%\n",
    "#games: 41%\n",
    "#journalism: 25%\n",
    "#music: 53%\n",
    "#photography: 34%\n",
    "#publishing: 34%\n",
    "#technology: 22%\n",
    "#theater: 64%\n",
    "\n",
    "# Film & Video, Music compose greatest % of overall success (across all main categories) on Kickstarter, as a result of having the most projects\n",
    "# Dance, Theater, Comics most successful within their own category"
   ]
  },
  {
   "cell_type": "code",
   "execution_count": null,
   "metadata": {},
   "outputs": [],
   "source": [
    "\n"
   ]
  },
  {
   "cell_type": "code",
   "execution_count": null,
   "metadata": {},
   "outputs": [],
   "source": [
    "for col in df3_art:\n",
    "    print(df3_art[col].unique())"
   ]
  },
  {
   "cell_type": "code",
   "execution_count": null,
   "metadata": {},
   "outputs": [],
   "source": [
    "#arts = {\"Sub-Category\":['Art', 'Ceramics', 'Conceptual Art', 'Digital Art', 'Illustration',\n",
    " #'Installations', 'Mixed Media', 'Painting', 'Performance Art', 'Public Art',\n",
    " #'Sculpture', 'Textiles', 'Video Art'], \n",
    "            # \"Success\":[\n",
    "(df.loc[df3_art[\"category\"]==\"Art\" and df3_art[\"state\"]=='successful'].index).sum()\n",
    "             #\"Fail\":[\"Columbia\", \"Scotland\", \"USA\", \"Canada\", \"South Africa\"], \n",
    "\n",
    "\n",
    "#df = pd.DataFrame(passenger)\n",
    "\n",
    "#df"
   ]
  },
  {
   "cell_type": "code",
   "execution_count": null,
   "metadata": {},
   "outputs": [],
   "source": []
  },
  {
   "cell_type": "markdown",
   "metadata": {},
   "source": [
    "## <font color=#306EFF>Part 5: Group Presentation</font>\n",
    "\n",
    "By now, your group should feel very comfortable with the aspects of the Kickstarter dataset. You should have a firm understanding of what Kickstarter is, what the dataset contains, the characteristics of each variable, how the variables interact with each other, and finally, which variables influence the outcome of the Kickstarter campaign. Can you put all this information together to tell a story about the data? Your presentation should include visualizations and clear answers to the two primary questions:\n",
    "\n",
    "    1. What kinds of projects should the Kickstarter Marking Team focus their attention on?\n",
    "    2. Why should the Marketing Team focus their attention in that direction?\n",
    "\n",
    "In addition to these two questions, your presentation should cover the additional questions listed below. These questions should be easy to answer using the information you discovered above. When you are done, submit your completed notebook to me.   \n",
    "\n",
    "### <font color=#306EFF>Questions to Answer</font>\n",
    "1.\tWhat main category is the most profitable (highest amount of money pledged)? \n",
    "2.\tWhich main category is the most popular (highest number of backers)?\n",
    "3.\tWhich sub-categories are the most profitable and popular (top 3)?\n",
    "4.\tWhat are some of the characteristics of a successful Kickstarter campaign? \n",
    "5.\tHow does the success or failure of Kickstarter campaigns differ between main category, sub-category, country, and length of campaign? Please mention only the most notable – you do not need to detail the success/failure rate for each category/sub-category? \n",
    "\n",
    "***\n",
    "\n",
    "### <font color=#306EFF>TIPS FOR A GREAT PRESENTATION</font>\n",
    "\n",
    "* Start with the most important information (answers to the two questions above), and work backwards. The entire class will be working with the same dataset, therefore, we don't need to know the details of all your coding -- we just want to know what findings are most important to the questions. \n",
    "* Create clear visualizations. Make sure your audience can quickly and easily understand what your visualizations are showing. While you have a lot of options for how to style your visualizations, don't go overboard! \n",
    "* Make sure everyone understands what the visualization is showing; it should not have to stand on its own. When you present a visualization, you should be able to discuss what it means and what the significance is. \n",
    "* Use a single presentation format -- you can create a PowerPoint presentation or organize your notebook in a way that is easy to follow; reguardless of what your group puts together, you should use only ONE format. "
   ]
  },
  {
   "cell_type": "code",
   "execution_count": null,
   "metadata": {},
   "outputs": [],
   "source": []
  }
 ],
 "metadata": {
  "kernelspec": {
   "display_name": "Python 3 (ipykernel)",
   "language": "python",
   "name": "python3"
  },
  "language_info": {
   "codemirror_mode": {
    "name": "ipython",
    "version": 3
   },
   "file_extension": ".py",
   "mimetype": "text/x-python",
   "name": "python",
   "nbconvert_exporter": "python",
   "pygments_lexer": "ipython3",
   "version": "3.9.7"
  }
 },
 "nbformat": 4,
 "nbformat_minor": 4
}
