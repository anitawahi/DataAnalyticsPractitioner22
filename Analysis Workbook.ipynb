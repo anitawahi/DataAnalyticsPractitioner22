{
 "cells": [
  {
   "cell_type": "code",
   "execution_count": null,
   "id": "2486648c",
   "metadata": {},
   "outputs": [],
   "source": [
    "# imports"
   ]
  },
  {
   "cell_type": "code",
   "execution_count": 2,
   "id": "b8bc6c6d",
   "metadata": {},
   "outputs": [],
   "source": [
    "# import and investigate data\n"
   ]
  },
  {
   "cell_type": "code",
   "execution_count": 3,
   "id": "efae04ec",
   "metadata": {},
   "outputs": [],
   "source": [
    "# Find Central Tendency and Range for each variable"
   ]
  },
  {
   "cell_type": "code",
   "execution_count": 4,
   "id": "97d5f392",
   "metadata": {},
   "outputs": [],
   "source": [
    "# Investigate how variables affect each other"
   ]
  },
  {
   "cell_type": "code",
   "execution_count": 5,
   "id": "931e5962",
   "metadata": {},
   "outputs": [],
   "source": [
    "# Identify acceptable ranges"
   ]
  },
  {
   "cell_type": "code",
   "execution_count": 6,
   "id": "3302573a",
   "metadata": {},
   "outputs": [],
   "source": [
    "# Fields with outliers - singular variances from the acceptable"
   ]
  },
  {
   "cell_type": "code",
   "execution_count": 7,
   "id": "a71280b5",
   "metadata": {},
   "outputs": [],
   "source": [
    "# Fields in crisis = multiple variances from the acceptableabs\n"
   ]
  },
  {
   "cell_type": "code",
   "execution_count": null,
   "id": "3da31bd4",
   "metadata": {},
   "outputs": [],
   "source": [
    "# Setting Baselines if possible"
   ]
  },
  {
   "cell_type": "code",
   "execution_count": 8,
   "id": "b7b74e52",
   "metadata": {},
   "outputs": [],
   "source": [
    "# Analyze Correlations"
   ]
  },
  {
   "cell_type": "code",
   "execution_count": 9,
   "id": "ed3dd9a0",
   "metadata": {},
   "outputs": [],
   "source": [
    "# if applicable use regression to find a predictive equation"
   ]
  },
  {
   "cell_type": "code",
   "execution_count": null,
   "id": "bdbfef0c",
   "metadata": {},
   "outputs": [],
   "source": []
  }
 ],
 "metadata": {
  "kernelspec": {
   "display_name": "Python 3 (ipykernel)",
   "language": "python",
   "name": "python3"
  },
  "language_info": {
   "codemirror_mode": {
    "name": "ipython",
    "version": 3
   },
   "file_extension": ".py",
   "mimetype": "text/x-python",
   "name": "python",
   "nbconvert_exporter": "python",
   "pygments_lexer": "ipython3",
   "version": "3.9.7"
  }
 },
 "nbformat": 4,
 "nbformat_minor": 5
}
