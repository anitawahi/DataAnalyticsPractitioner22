{
 "cells": [
  {
   "cell_type": "code",
   "execution_count": 1,
   "id": "9a12ead4",
   "metadata": {},
   "outputs": [],
   "source": [
    "# Importing the usual libraries\n",
    "\n",
    "import pandas as pd\n",
    "import numpy as np\n",
    "\n",
    "import statsmodels.formula.api as sm\n",
    "\n",
    "from matplotlib import pyplot as plt\n",
    "%matplotlib inline\n",
    "\n",
    "import seaborn as sns\n",
    "\n",
    "import scipy.stats as stats"
   ]
  },
  {
   "cell_type": "code",
   "execution_count": 3,
   "id": "8dff12b9",
   "metadata": {},
   "outputs": [
    {
     "data": {
      "text/html": [
       "<div>\n",
       "<style scoped>\n",
       "    .dataframe tbody tr th:only-of-type {\n",
       "        vertical-align: middle;\n",
       "    }\n",
       "\n",
       "    .dataframe tbody tr th {\n",
       "        vertical-align: top;\n",
       "    }\n",
       "\n",
       "    .dataframe thead th {\n",
       "        text-align: right;\n",
       "    }\n",
       "</style>\n",
       "<table border=\"1\" class=\"dataframe\">\n",
       "  <thead>\n",
       "    <tr style=\"text-align: right;\">\n",
       "      <th></th>\n",
       "      <th>Territory #</th>\n",
       "      <th>Sales (in 000s units)</th>\n",
       "      <th>Market Potential (in 000s of units)</th>\n",
       "      <th># of Stores (in hundreds)</th>\n",
       "      <th># of dealers</th>\n",
       "      <th># of Popular Brands</th>\n",
       "      <th>Population (in 000s)</th>\n",
       "    </tr>\n",
       "  </thead>\n",
       "  <tbody>\n",
       "    <tr>\n",
       "      <th>0</th>\n",
       "      <td>1</td>\n",
       "      <td>10</td>\n",
       "      <td>16</td>\n",
       "      <td>8</td>\n",
       "      <td>7</td>\n",
       "      <td>12</td>\n",
       "      <td>71</td>\n",
       "    </tr>\n",
       "    <tr>\n",
       "      <th>1</th>\n",
       "      <td>2</td>\n",
       "      <td>8</td>\n",
       "      <td>12</td>\n",
       "      <td>6</td>\n",
       "      <td>6</td>\n",
       "      <td>13</td>\n",
       "      <td>59</td>\n",
       "    </tr>\n",
       "    <tr>\n",
       "      <th>2</th>\n",
       "      <td>3</td>\n",
       "      <td>45</td>\n",
       "      <td>28</td>\n",
       "      <td>19</td>\n",
       "      <td>36</td>\n",
       "      <td>6</td>\n",
       "      <td>135</td>\n",
       "    </tr>\n",
       "    <tr>\n",
       "      <th>3</th>\n",
       "      <td>4</td>\n",
       "      <td>58</td>\n",
       "      <td>43</td>\n",
       "      <td>19</td>\n",
       "      <td>49</td>\n",
       "      <td>2</td>\n",
       "      <td>149</td>\n",
       "    </tr>\n",
       "    <tr>\n",
       "      <th>4</th>\n",
       "      <td>5</td>\n",
       "      <td>10</td>\n",
       "      <td>14</td>\n",
       "      <td>6</td>\n",
       "      <td>12</td>\n",
       "      <td>13</td>\n",
       "      <td>70</td>\n",
       "    </tr>\n",
       "  </tbody>\n",
       "</table>\n",
       "</div>"
      ],
      "text/plain": [
       "   Territory #  Sales (in 000s units)  Market Potential (in 000s of units)  \\\n",
       "0            1                     10                                   16   \n",
       "1            2                      8                                   12   \n",
       "2            3                     45                                   28   \n",
       "3            4                     58                                   43   \n",
       "4            5                     10                                   14   \n",
       "\n",
       "   # of Stores (in hundreds)  # of dealers  # of Popular Brands  \\\n",
       "0                          8             7                   12   \n",
       "1                          6             6                   13   \n",
       "2                         19            36                    6   \n",
       "3                         19            49                    2   \n",
       "4                          6            12                   13   \n",
       "\n",
       "   Population (in 000s)  \n",
       "0                    71  \n",
       "1                    59  \n",
       "2                   135  \n",
       "3                   149  \n",
       "4                    70  "
      ]
     },
     "execution_count": 3,
     "metadata": {},
     "output_type": "execute_result"
    }
   ],
   "source": [
    "# import dataset\n",
    "\n",
    "df = pd.read_excel(\"SouthStyleData.xlsx\")\n",
    "df.head()"
   ]
  },
  {
   "cell_type": "code",
   "execution_count": 8,
   "id": "e6168016",
   "metadata": {},
   "outputs": [
    {
     "name": "stdout",
     "output_type": "stream",
     "text": [
      "<class 'pandas.core.frame.DataFrame'>\n",
      "RangeIndex: 30 entries, 0 to 29\n",
      "Data columns (total 7 columns):\n",
      " #   Column                               Non-Null Count  Dtype\n",
      "---  ------                               --------------  -----\n",
      " 0   Territory #                          30 non-null     int64\n",
      " 1   Sales (in 000s units)                30 non-null     int64\n",
      " 2   Market Potential (in 000s of units)  30 non-null     int64\n",
      " 3   # of Stores (in hundreds)            30 non-null     int64\n",
      " 4   # of dealers                         30 non-null     int64\n",
      " 5   # of Popular Brands                  30 non-null     int64\n",
      " 6   Population (in 000s)                 30 non-null     int64\n",
      "dtypes: int64(7)\n",
      "memory usage: 1.8 KB\n"
     ]
    }
   ],
   "source": [
    "df.info()"
   ]
  },
  {
   "cell_type": "code",
   "execution_count": 4,
   "id": "038f26d6",
   "metadata": {},
   "outputs": [
    {
     "data": {
      "text/html": [
       "<div>\n",
       "<style scoped>\n",
       "    .dataframe tbody tr th:only-of-type {\n",
       "        vertical-align: middle;\n",
       "    }\n",
       "\n",
       "    .dataframe tbody tr th {\n",
       "        vertical-align: top;\n",
       "    }\n",
       "\n",
       "    .dataframe thead th {\n",
       "        text-align: right;\n",
       "    }\n",
       "</style>\n",
       "<table border=\"1\" class=\"dataframe\">\n",
       "  <thead>\n",
       "    <tr style=\"text-align: right;\">\n",
       "      <th></th>\n",
       "      <th>Territory #</th>\n",
       "      <th>Sales (in 000s units)</th>\n",
       "      <th>Market Potential (in 000s of units)</th>\n",
       "      <th># of Stores (in hundreds)</th>\n",
       "      <th># of dealers</th>\n",
       "      <th># of Popular Brands</th>\n",
       "      <th>Population (in 000s)</th>\n",
       "    </tr>\n",
       "  </thead>\n",
       "  <tbody>\n",
       "    <tr>\n",
       "      <th>count</th>\n",
       "      <td>30.000000</td>\n",
       "      <td>30.000000</td>\n",
       "      <td>30.000000</td>\n",
       "      <td>30.000000</td>\n",
       "      <td>30.000000</td>\n",
       "      <td>30.000000</td>\n",
       "      <td>30.000000</td>\n",
       "    </tr>\n",
       "    <tr>\n",
       "      <th>mean</th>\n",
       "      <td>15.500000</td>\n",
       "      <td>26.000000</td>\n",
       "      <td>20.300000</td>\n",
       "      <td>11.566667</td>\n",
       "      <td>22.300000</td>\n",
       "      <td>9.800000</td>\n",
       "      <td>97.200000</td>\n",
       "    </tr>\n",
       "    <tr>\n",
       "      <th>std</th>\n",
       "      <td>8.803408</td>\n",
       "      <td>17.610733</td>\n",
       "      <td>8.666821</td>\n",
       "      <td>5.083329</td>\n",
       "      <td>13.831872</td>\n",
       "      <td>4.413147</td>\n",
       "      <td>34.696119</td>\n",
       "    </tr>\n",
       "    <tr>\n",
       "      <th>min</th>\n",
       "      <td>1.000000</td>\n",
       "      <td>4.000000</td>\n",
       "      <td>6.000000</td>\n",
       "      <td>2.000000</td>\n",
       "      <td>2.000000</td>\n",
       "      <td>2.000000</td>\n",
       "      <td>45.000000</td>\n",
       "    </tr>\n",
       "    <tr>\n",
       "      <th>25%</th>\n",
       "      <td>8.250000</td>\n",
       "      <td>10.000000</td>\n",
       "      <td>15.000000</td>\n",
       "      <td>7.250000</td>\n",
       "      <td>9.750000</td>\n",
       "      <td>6.000000</td>\n",
       "      <td>68.000000</td>\n",
       "    </tr>\n",
       "    <tr>\n",
       "      <th>50%</th>\n",
       "      <td>15.500000</td>\n",
       "      <td>22.500000</td>\n",
       "      <td>17.500000</td>\n",
       "      <td>10.500000</td>\n",
       "      <td>20.000000</td>\n",
       "      <td>11.500000</td>\n",
       "      <td>92.500000</td>\n",
       "    </tr>\n",
       "    <tr>\n",
       "      <th>75%</th>\n",
       "      <td>22.750000</td>\n",
       "      <td>44.250000</td>\n",
       "      <td>26.750000</td>\n",
       "      <td>16.000000</td>\n",
       "      <td>34.000000</td>\n",
       "      <td>13.000000</td>\n",
       "      <td>133.750000</td>\n",
       "    </tr>\n",
       "    <tr>\n",
       "      <th>max</th>\n",
       "      <td>30.000000</td>\n",
       "      <td>58.000000</td>\n",
       "      <td>43.000000</td>\n",
       "      <td>19.000000</td>\n",
       "      <td>49.000000</td>\n",
       "      <td>16.000000</td>\n",
       "      <td>149.000000</td>\n",
       "    </tr>\n",
       "  </tbody>\n",
       "</table>\n",
       "</div>"
      ],
      "text/plain": [
       "       Territory #  Sales (in 000s units)  \\\n",
       "count    30.000000              30.000000   \n",
       "mean     15.500000              26.000000   \n",
       "std       8.803408              17.610733   \n",
       "min       1.000000               4.000000   \n",
       "25%       8.250000              10.000000   \n",
       "50%      15.500000              22.500000   \n",
       "75%      22.750000              44.250000   \n",
       "max      30.000000              58.000000   \n",
       "\n",
       "       Market Potential (in 000s of units)  # of Stores (in hundreds)  \\\n",
       "count                            30.000000                  30.000000   \n",
       "mean                             20.300000                  11.566667   \n",
       "std                               8.666821                   5.083329   \n",
       "min                               6.000000                   2.000000   \n",
       "25%                              15.000000                   7.250000   \n",
       "50%                              17.500000                  10.500000   \n",
       "75%                              26.750000                  16.000000   \n",
       "max                              43.000000                  19.000000   \n",
       "\n",
       "       # of dealers  # of Popular Brands  Population (in 000s)  \n",
       "count     30.000000            30.000000             30.000000  \n",
       "mean      22.300000             9.800000             97.200000  \n",
       "std       13.831872             4.413147             34.696119  \n",
       "min        2.000000             2.000000             45.000000  \n",
       "25%        9.750000             6.000000             68.000000  \n",
       "50%       20.000000            11.500000             92.500000  \n",
       "75%       34.000000            13.000000            133.750000  \n",
       "max       49.000000            16.000000            149.000000  "
      ]
     },
     "execution_count": 4,
     "metadata": {},
     "output_type": "execute_result"
    }
   ],
   "source": [
    "df.describe()"
   ]
  },
  {
   "cell_type": "code",
   "execution_count": 10,
   "id": "e091f5af",
   "metadata": {},
   "outputs": [
    {
     "data": {
      "text/plain": [
       "Index(['Territory #', 'Sales (in 000s units)',\n",
       "       'Market Potential (in 000s of units)', '# of Stores (in hundreds)',\n",
       "       '# of dealers', '# of Popular Brands', 'Population (in 000s)'],\n",
       "      dtype='object')"
      ]
     },
     "execution_count": 10,
     "metadata": {},
     "output_type": "execute_result"
    }
   ],
   "source": [
    "df.columns"
   ]
  },
  {
   "cell_type": "code",
   "execution_count": 11,
   "id": "38182e0d",
   "metadata": {},
   "outputs": [
    {
     "data": {
      "text/html": [
       "<div>\n",
       "<style scoped>\n",
       "    .dataframe tbody tr th:only-of-type {\n",
       "        vertical-align: middle;\n",
       "    }\n",
       "\n",
       "    .dataframe tbody tr th {\n",
       "        vertical-align: top;\n",
       "    }\n",
       "\n",
       "    .dataframe thead th {\n",
       "        text-align: right;\n",
       "    }\n",
       "</style>\n",
       "<table border=\"1\" class=\"dataframe\">\n",
       "  <thead>\n",
       "    <tr style=\"text-align: right;\">\n",
       "      <th></th>\n",
       "      <th>Territory</th>\n",
       "      <th>Sales(thousands)</th>\n",
       "      <th>MarketPotential(thousands)</th>\n",
       "      <th>Stores(hundreds)</th>\n",
       "      <th>dealers</th>\n",
       "      <th>PopularBrands</th>\n",
       "      <th>Population(thousands)</th>\n",
       "    </tr>\n",
       "  </thead>\n",
       "  <tbody>\n",
       "    <tr>\n",
       "      <th>0</th>\n",
       "      <td>1</td>\n",
       "      <td>10</td>\n",
       "      <td>16</td>\n",
       "      <td>8</td>\n",
       "      <td>7</td>\n",
       "      <td>12</td>\n",
       "      <td>71</td>\n",
       "    </tr>\n",
       "    <tr>\n",
       "      <th>1</th>\n",
       "      <td>2</td>\n",
       "      <td>8</td>\n",
       "      <td>12</td>\n",
       "      <td>6</td>\n",
       "      <td>6</td>\n",
       "      <td>13</td>\n",
       "      <td>59</td>\n",
       "    </tr>\n",
       "    <tr>\n",
       "      <th>2</th>\n",
       "      <td>3</td>\n",
       "      <td>45</td>\n",
       "      <td>28</td>\n",
       "      <td>19</td>\n",
       "      <td>36</td>\n",
       "      <td>6</td>\n",
       "      <td>135</td>\n",
       "    </tr>\n",
       "    <tr>\n",
       "      <th>3</th>\n",
       "      <td>4</td>\n",
       "      <td>58</td>\n",
       "      <td>43</td>\n",
       "      <td>19</td>\n",
       "      <td>49</td>\n",
       "      <td>2</td>\n",
       "      <td>149</td>\n",
       "    </tr>\n",
       "    <tr>\n",
       "      <th>4</th>\n",
       "      <td>5</td>\n",
       "      <td>10</td>\n",
       "      <td>14</td>\n",
       "      <td>6</td>\n",
       "      <td>12</td>\n",
       "      <td>13</td>\n",
       "      <td>70</td>\n",
       "    </tr>\n",
       "  </tbody>\n",
       "</table>\n",
       "</div>"
      ],
      "text/plain": [
       "   Territory  Sales(thousands)  MarketPotential(thousands)  Stores(hundreds)  \\\n",
       "0          1                10                          16                 8   \n",
       "1          2                 8                          12                 6   \n",
       "2          3                45                          28                19   \n",
       "3          4                58                          43                19   \n",
       "4          5                10                          14                 6   \n",
       "\n",
       "   dealers  PopularBrands  Population(thousands)  \n",
       "0        7             12                     71  \n",
       "1        6             13                     59  \n",
       "2       36              6                    135  \n",
       "3       49              2                    149  \n",
       "4       12             13                     70  "
      ]
     },
     "execution_count": 11,
     "metadata": {},
     "output_type": "execute_result"
    }
   ],
   "source": [
    "df.columns = ['Territory', 'Sales(thousands)',\n",
    "       'MarketPotential(thousands)', 'Stores(hundreds)',\n",
    "       'dealers', 'PopularBrands', 'Population(thousands)']\n",
    "df.head()"
   ]
  },
  {
   "cell_type": "code",
   "execution_count": 12,
   "id": "876bc813",
   "metadata": {},
   "outputs": [
    {
     "name": "stdout",
     "output_type": "stream",
     "text": [
      "<class 'pandas.core.frame.DataFrame'>\n",
      "RangeIndex: 30 entries, 0 to 29\n",
      "Data columns (total 7 columns):\n",
      " #   Column                      Non-Null Count  Dtype\n",
      "---  ------                      --------------  -----\n",
      " 0   Territory                   30 non-null     int64\n",
      " 1   Sales(thousands)            30 non-null     int64\n",
      " 2   MarketPotential(thousands)  30 non-null     int64\n",
      " 3   Stores(hundreds)            30 non-null     int64\n",
      " 4   dealers                     30 non-null     int64\n",
      " 5   PopularBrands               30 non-null     int64\n",
      " 6   Population(thousands)       30 non-null     int64\n",
      "dtypes: int64(7)\n",
      "memory usage: 1.8 KB\n"
     ]
    }
   ],
   "source": [
    "df.info()"
   ]
  },
  {
   "cell_type": "code",
   "execution_count": 14,
   "id": "1afbeba9",
   "metadata": {},
   "outputs": [
    {
     "data": {
      "text/plain": [
       "<AxesSubplot:xlabel='Sales(thousands)', ylabel='Count'>"
      ]
     },
     "execution_count": 14,
     "metadata": {},
     "output_type": "execute_result"
    },
    {
     "data": {
      "image/png": "[encoded data removed]",
      "text/plain": [
       "<Figure size 432x288 with 1 Axes>"
      ]
     },
     "metadata": {
      "needs_background": "light"
     },
     "output_type": "display_data"
    }
   ],
   "source": [
    "# Visualizing distribution (to understand central tendency) for\n",
    "#1. Sales\n",
    "\n",
    "sns.histplot(df[\"Sales(thousands)\"], kde = False)\n",
    "\n",
    "# skewed right"
   ]
  },
  {
   "cell_type": "code",
   "execution_count": 15,
   "id": "bcfc3326",
   "metadata": {},
   "outputs": [
    {
     "data": {
      "text/plain": [
       "<AxesSubplot:xlabel='MarketPotential(thousands)', ylabel='Count'>"
      ]
     },
     "execution_count": 15,
     "metadata": {},
     "output_type": "execute_result"
    },
    {
     "data": {
      "image/png": "[encoded data removed]",
      "text/plain": [
       "<Figure size 432x288 with 1 Axes>"
      ]
     },
     "metadata": {
      "needs_background": "light"
     },
     "output_type": "display_data"
    }
   ],
   "source": [
    "# Visualizing distribution (to understand central tendency) for\n",
    "#2. Market Potential\n",
    "\n",
    "sns.histplot(df[\"MarketPotential(thousands)\"], kde = False)\n",
    "\n",
    "# skewed right"
   ]
  },
  {
   "cell_type": "code",
   "execution_count": 16,
   "id": "93d61ae5",
   "metadata": {},
   "outputs": [
    {
     "data": {
      "text/plain": [
       "<AxesSubplot:xlabel='Stores(hundreds)', ylabel='Count'>"
      ]
     },
     "execution_count": 16,
     "metadata": {},
     "output_type": "execute_result"
    },
    {
     "data": {
      "image/png": "[encoded data removed]",
      "text/plain": [
       "<Figure size 432x288 with 1 Axes>"
      ]
     },
     "metadata": {
      "needs_background": "light"
     },
     "output_type": "display_data"
    }
   ],
   "source": [
    "# Visualizing distribution (to understand central tendency) for\n",
    "#3. # Stores\n",
    "\n",
    "sns.histplot(df[\"Stores(hundreds)\"], kde = False)\n",
    "\n",
    "#bimodal"
   ]
  },
  {
   "cell_type": "code",
   "execution_count": 17,
   "id": "343608cc",
   "metadata": {},
   "outputs": [
    {
     "data": {
      "text/plain": [
       "<AxesSubplot:xlabel='dealers', ylabel='Count'>"
      ]
     },
     "execution_count": 17,
     "metadata": {},
     "output_type": "execute_result"
    },
    {
     "data": {
      "image/png": "[encoded data removed]",
      "text/plain": [
       "<Figure size 432x288 with 1 Axes>"
      ]
     },
     "metadata": {
      "needs_background": "light"
     },
     "output_type": "display_data"
    }
   ],
   "source": [
    "# Visualizing distribution (to understand central tendency) for\n",
    "#4. # dealers\n",
    "\n",
    "sns.histplot(df[\"dealers\"], kde = False)\n",
    "\n",
    "#skewed right"
   ]
  },
  {
   "cell_type": "code",
   "execution_count": 18,
   "id": "6e27107c",
   "metadata": {},
   "outputs": [
    {
     "data": {
      "text/plain": [
       "<AxesSubplot:xlabel='PopularBrands', ylabel='Count'>"
      ]
     },
     "execution_count": 18,
     "metadata": {},
     "output_type": "execute_result"
    },
    {
     "data": {
      "image/png": "[encoded data removed]",
      "text/plain": [
       "<Figure size 432x288 with 1 Axes>"
      ]
     },
     "metadata": {
      "needs_background": "light"
     },
     "output_type": "display_data"
    }
   ],
   "source": [
    "# Visualizing distribution (to understand central tendency) for\n",
    "#5. popular brands\n",
    "\n",
    "sns.histplot(df[\"PopularBrands\"], kde = False)\n"
   ]
  },
  {
   "cell_type": "code",
   "execution_count": 19,
   "id": "3b58be96",
   "metadata": {},
   "outputs": [
    {
     "data": {
      "text/plain": [
       "<AxesSubplot:xlabel='Population(thousands)', ylabel='Count'>"
      ]
     },
     "execution_count": 19,
     "metadata": {},
     "output_type": "execute_result"
    },
    {
     "data": {
      "image/png": "[encoded data removed]",
      "text/plain": [
       "<Figure size 432x288 with 1 Axes>"
      ]
     },
     "metadata": {
      "needs_background": "light"
     },
     "output_type": "display_data"
    }
   ],
   "source": [
    "# Visualizing distribution (to understand central tendency) for\n",
    "#5. population\n",
    "\n",
    "sns.histplot(df[\"Population(thousands)\"], kde = False)"
   ]
  },
  {
   "cell_type": "markdown",
   "id": "288a817b",
   "metadata": {},
   "source": [
    "# DATA ANALYSIS"
   ]
  },
  {
   "cell_type": "code",
   "execution_count": 20,
   "id": "a7be30c0",
   "metadata": {},
   "outputs": [
    {
     "data": {
      "text/plain": [
       "MarketPotential(thousands)\n",
       "6      4.0\n",
       "7      5.0\n",
       "9      6.0\n",
       "12     8.0\n",
       "14    10.0\n",
       "15    15.6\n",
       "16    13.0\n",
       "17    20.0\n",
       "18    18.0\n",
       "19    24.0\n",
       "24    29.0\n",
       "25    30.0\n",
       "26    42.0\n",
       "27    48.0\n",
       "28    45.0\n",
       "29    46.0\n",
       "30    50.0\n",
       "31    52.0\n",
       "32    51.0\n",
       "35    56.0\n",
       "43    58.0\n",
       "Name: Sales(thousands), dtype: float64"
      ]
     },
     "execution_count": 20,
     "metadata": {},
     "output_type": "execute_result"
    }
   ],
   "source": [
    "#1. sales vs. market potential\n",
    "\n",
    "df[\"Sales(thousands)\"].groupby(df[\"MarketPotential(thousands)\"]).mean()\n",
    "\n",
    "#obvi"
   ]
  },
  {
   "cell_type": "code",
   "execution_count": 22,
   "id": "83acd2eb",
   "metadata": {},
   "outputs": [
    {
     "data": {
      "text/plain": [
       "Stores(hundreds)\n",
       "2      4.000000\n",
       "4      5.000000\n",
       "5      6.000000\n",
       "6      9.000000\n",
       "7     12.333333\n",
       "8     12.666667\n",
       "9     10.500000\n",
       "10    24.500000\n",
       "11    20.000000\n",
       "13    29.000000\n",
       "14    26.000000\n",
       "15    35.000000\n",
       "16    38.000000\n",
       "17    48.500000\n",
       "18    48.666667\n",
       "19    51.500000\n",
       "Name: Sales(thousands), dtype: float64"
      ]
     },
     "execution_count": 22,
     "metadata": {},
     "output_type": "execute_result"
    }
   ],
   "source": [
    "#2. sales vs. stores\n",
    "\n",
    "df[\"Sales(thousands)\"].groupby(df[\"Stores(hundreds)\"]).mean()\n",
    "\n",
    "#obvi"
   ]
  },
  {
   "cell_type": "code",
   "execution_count": 23,
   "id": "ec2c258f",
   "metadata": {},
   "outputs": [
    {
     "data": {
      "text/plain": [
       "dealers\n",
       "2      4.0\n",
       "3      5.0\n",
       "4      8.0\n",
       "5      6.0\n",
       "6      8.0\n",
       "7     10.0\n",
       "8      9.0\n",
       "9      9.0\n",
       "12    10.0\n",
       "14    11.0\n",
       "17    12.0\n",
       "18    18.0\n",
       "19    19.5\n",
       "20    25.5\n",
       "21    24.0\n",
       "26    26.0\n",
       "27    28.0\n",
       "28    25.0\n",
       "29    29.0\n",
       "31    42.0\n",
       "35    46.0\n",
       "36    45.0\n",
       "38    48.0\n",
       "39    50.0\n",
       "40    52.0\n",
       "42    51.0\n",
       "45    56.0\n",
       "49    58.0\n",
       "Name: Sales(thousands), dtype: float64"
      ]
     },
     "execution_count": 23,
     "metadata": {},
     "output_type": "execute_result"
    }
   ],
   "source": [
    "#3. sales vs. dealers\n",
    "\n",
    "df[\"Sales(thousands)\"].groupby(df[\"dealers\"]).mean()\n",
    "\n",
    "#obvi"
   ]
  },
  {
   "cell_type": "code",
   "execution_count": 24,
   "id": "7f461214",
   "metadata": {},
   "outputs": [
    {
     "data": {
      "text/plain": [
       "PopularBrands\n",
       "2     57.000000\n",
       "3     51.500000\n",
       "4     49.000000\n",
       "5     46.000000\n",
       "6     43.500000\n",
       "8     28.000000\n",
       "9     28.000000\n",
       "11    13.000000\n",
       "12    12.000000\n",
       "13    14.333333\n",
       "14     9.750000\n",
       "16    16.500000\n",
       "Name: Sales(thousands), dtype: float64"
      ]
     },
     "execution_count": 24,
     "metadata": {},
     "output_type": "execute_result"
    }
   ],
   "source": [
    "#4. sales vs. popular brands\n",
    "\n",
    "df[\"Sales(thousands)\"].groupby(df[\"PopularBrands\"]).mean()\n",
    "\n",
    "#interesting... decrease in sales as increase in popular brands"
   ]
  },
  {
   "cell_type": "code",
   "execution_count": 25,
   "id": "b48bd859",
   "metadata": {},
   "outputs": [
    {
     "data": {
      "text/plain": [
       "Population(thousands)\n",
       "45      5.0\n",
       "56      4.0\n",
       "58      9.0\n",
       "59      8.0\n",
       "62      8.0\n",
       "67      9.0\n",
       "68     13.5\n",
       "70     14.5\n",
       "71     10.0\n",
       "73     11.0\n",
       "80     20.0\n",
       "85     21.0\n",
       "100    24.0\n",
       "102    26.0\n",
       "103    25.0\n",
       "114    28.0\n",
       "115    29.0\n",
       "123    30.0\n",
       "133    42.0\n",
       "134    46.0\n",
       "135    45.0\n",
       "139    48.0\n",
       "140    50.0\n",
       "145    52.0\n",
       "146    51.0\n",
       "148    56.0\n",
       "149    58.0\n",
       "Name: Sales(thousands), dtype: float64"
      ]
     },
     "execution_count": 25,
     "metadata": {},
     "output_type": "execute_result"
    }
   ],
   "source": [
    "#5. sales vs. population\n",
    "\n",
    "df[\"Sales(thousands)\"].groupby(df[\"Population(thousands)\"]).mean()\n",
    "\n",
    "#obvious"
   ]
  },
  {
   "cell_type": "code",
   "execution_count": 29,
   "id": "7d142b81",
   "metadata": {},
   "outputs": [
    {
     "data": {
      "text/html": [
       "<div>\n",
       "<style scoped>\n",
       "    .dataframe tbody tr th:only-of-type {\n",
       "        vertical-align: middle;\n",
       "    }\n",
       "\n",
       "    .dataframe tbody tr th {\n",
       "        vertical-align: top;\n",
       "    }\n",
       "\n",
       "    .dataframe thead th {\n",
       "        text-align: right;\n",
       "    }\n",
       "</style>\n",
       "<table border=\"1\" class=\"dataframe\">\n",
       "  <thead>\n",
       "    <tr style=\"text-align: right;\">\n",
       "      <th></th>\n",
       "      <th>Territory</th>\n",
       "      <th>Sales(thousands)</th>\n",
       "      <th>MarketPotential(thousands)</th>\n",
       "      <th>Stores(hundreds)</th>\n",
       "      <th>dealers</th>\n",
       "      <th>PopularBrands</th>\n",
       "      <th>Population(thousands)</th>\n",
       "    </tr>\n",
       "  </thead>\n",
       "  <tbody>\n",
       "    <tr>\n",
       "      <th>0</th>\n",
       "      <td>1</td>\n",
       "      <td>10</td>\n",
       "      <td>16</td>\n",
       "      <td>8</td>\n",
       "      <td>7</td>\n",
       "      <td>12</td>\n",
       "      <td>71</td>\n",
       "    </tr>\n",
       "    <tr>\n",
       "      <th>1</th>\n",
       "      <td>2</td>\n",
       "      <td>8</td>\n",
       "      <td>12</td>\n",
       "      <td>6</td>\n",
       "      <td>6</td>\n",
       "      <td>13</td>\n",
       "      <td>59</td>\n",
       "    </tr>\n",
       "    <tr>\n",
       "      <th>2</th>\n",
       "      <td>3</td>\n",
       "      <td>45</td>\n",
       "      <td>28</td>\n",
       "      <td>19</td>\n",
       "      <td>36</td>\n",
       "      <td>6</td>\n",
       "      <td>135</td>\n",
       "    </tr>\n",
       "    <tr>\n",
       "      <th>3</th>\n",
       "      <td>4</td>\n",
       "      <td>58</td>\n",
       "      <td>43</td>\n",
       "      <td>19</td>\n",
       "      <td>49</td>\n",
       "      <td>2</td>\n",
       "      <td>149</td>\n",
       "    </tr>\n",
       "    <tr>\n",
       "      <th>4</th>\n",
       "      <td>5</td>\n",
       "      <td>10</td>\n",
       "      <td>14</td>\n",
       "      <td>6</td>\n",
       "      <td>12</td>\n",
       "      <td>13</td>\n",
       "      <td>70</td>\n",
       "    </tr>\n",
       "  </tbody>\n",
       "</table>\n",
       "</div>"
      ],
      "text/plain": [
       "   Territory  Sales(thousands)  MarketPotential(thousands)  Stores(hundreds)  \\\n",
       "0          1                10                          16                 8   \n",
       "1          2                 8                          12                 6   \n",
       "2          3                45                          28                19   \n",
       "3          4                58                          43                19   \n",
       "4          5                10                          14                 6   \n",
       "\n",
       "   dealers  PopularBrands  Population(thousands)  \n",
       "0        7             12                     71  \n",
       "1        6             13                     59  \n",
       "2       36              6                    135  \n",
       "3       49              2                    149  \n",
       "4       12             13                     70  "
      ]
     },
     "execution_count": 29,
     "metadata": {},
     "output_type": "execute_result"
    }
   ],
   "source": [
    "df2 = df.copy()\n",
    "df2.head()"
   ]
  },
  {
   "cell_type": "code",
   "execution_count": 30,
   "id": "77d9427c",
   "metadata": {},
   "outputs": [
    {
     "data": {
      "text/plain": [
       "Index(['Territory', 'Sales(thousands)', 'MarketPotential(thousands)',\n",
       "       'Stores(hundreds)', 'dealers', 'PopularBrands',\n",
       "       'Population(thousands)'],\n",
       "      dtype='object')"
      ]
     },
     "execution_count": 30,
     "metadata": {},
     "output_type": "execute_result"
    }
   ],
   "source": [
    "df2.columns"
   ]
  },
  {
   "cell_type": "code",
   "execution_count": 31,
   "id": "728e1f0e",
   "metadata": {},
   "outputs": [
    {
     "data": {
      "text/html": [
       "<div>\n",
       "<style scoped>\n",
       "    .dataframe tbody tr th:only-of-type {\n",
       "        vertical-align: middle;\n",
       "    }\n",
       "\n",
       "    .dataframe tbody tr th {\n",
       "        vertical-align: top;\n",
       "    }\n",
       "\n",
       "    .dataframe thead th {\n",
       "        text-align: right;\n",
       "    }\n",
       "</style>\n",
       "<table border=\"1\" class=\"dataframe\">\n",
       "  <thead>\n",
       "    <tr style=\"text-align: right;\">\n",
       "      <th></th>\n",
       "      <th>Territory</th>\n",
       "      <th>Sales</th>\n",
       "      <th>MarketPotential</th>\n",
       "      <th>Stores</th>\n",
       "      <th>Dealers</th>\n",
       "      <th>PopularBrands</th>\n",
       "      <th>Population</th>\n",
       "    </tr>\n",
       "  </thead>\n",
       "  <tbody>\n",
       "    <tr>\n",
       "      <th>0</th>\n",
       "      <td>1</td>\n",
       "      <td>10</td>\n",
       "      <td>16</td>\n",
       "      <td>8</td>\n",
       "      <td>7</td>\n",
       "      <td>12</td>\n",
       "      <td>71</td>\n",
       "    </tr>\n",
       "    <tr>\n",
       "      <th>1</th>\n",
       "      <td>2</td>\n",
       "      <td>8</td>\n",
       "      <td>12</td>\n",
       "      <td>6</td>\n",
       "      <td>6</td>\n",
       "      <td>13</td>\n",
       "      <td>59</td>\n",
       "    </tr>\n",
       "    <tr>\n",
       "      <th>2</th>\n",
       "      <td>3</td>\n",
       "      <td>45</td>\n",
       "      <td>28</td>\n",
       "      <td>19</td>\n",
       "      <td>36</td>\n",
       "      <td>6</td>\n",
       "      <td>135</td>\n",
       "    </tr>\n",
       "    <tr>\n",
       "      <th>3</th>\n",
       "      <td>4</td>\n",
       "      <td>58</td>\n",
       "      <td>43</td>\n",
       "      <td>19</td>\n",
       "      <td>49</td>\n",
       "      <td>2</td>\n",
       "      <td>149</td>\n",
       "    </tr>\n",
       "    <tr>\n",
       "      <th>4</th>\n",
       "      <td>5</td>\n",
       "      <td>10</td>\n",
       "      <td>14</td>\n",
       "      <td>6</td>\n",
       "      <td>12</td>\n",
       "      <td>13</td>\n",
       "      <td>70</td>\n",
       "    </tr>\n",
       "  </tbody>\n",
       "</table>\n",
       "</div>"
      ],
      "text/plain": [
       "   Territory  Sales  MarketPotential  Stores  Dealers  PopularBrands  \\\n",
       "0          1     10               16       8        7             12   \n",
       "1          2      8               12       6        6             13   \n",
       "2          3     45               28      19       36              6   \n",
       "3          4     58               43      19       49              2   \n",
       "4          5     10               14       6       12             13   \n",
       "\n",
       "   Population  \n",
       "0          71  \n",
       "1          59  \n",
       "2         135  \n",
       "3         149  \n",
       "4          70  "
      ]
     },
     "execution_count": 31,
     "metadata": {},
     "output_type": "execute_result"
    }
   ],
   "source": [
    "df2.columns = ['Territory', 'Sales', 'MarketPotential',\n",
    "       'Stores', 'Dealers', 'PopularBrands',\n",
    "       'Population']\n",
    "df2.head()"
   ]
  },
  {
   "cell_type": "markdown",
   "id": "7babe7b0",
   "metadata": {},
   "source": [
    "# REGRESSION"
   ]
  },
  {
   "cell_type": "code",
   "execution_count": 32,
   "id": "c350037a",
   "metadata": {},
   "outputs": [
    {
     "data": {
      "text/html": [
       "<table class=\"simpletable\">\n",
       "<caption>OLS Regression Results</caption>\n",
       "<tr>\n",
       "  <th>Dep. Variable:</th>          <td>Sales</td>      <th>  R-squared:         </th> <td>   0.985</td>\n",
       "</tr>\n",
       "<tr>\n",
       "  <th>Model:</th>                   <td>OLS</td>       <th>  Adj. R-squared:    </th> <td>   0.982</td>\n",
       "</tr>\n",
       "<tr>\n",
       "  <th>Method:</th>             <td>Least Squares</td>  <th>  F-statistic:       </th> <td>   312.4</td>\n",
       "</tr>\n",
       "<tr>\n",
       "  <th>Date:</th>             <td>Tue, 28 Jun 2022</td> <th>  Prob (F-statistic):</th> <td>5.11e-21</td>\n",
       "</tr>\n",
       "<tr>\n",
       "  <th>Time:</th>                 <td>20:29:36</td>     <th>  Log-Likelihood:    </th> <td> -65.250</td>\n",
       "</tr>\n",
       "<tr>\n",
       "  <th>No. Observations:</th>      <td>    30</td>      <th>  AIC:               </th> <td>   142.5</td>\n",
       "</tr>\n",
       "<tr>\n",
       "  <th>Df Residuals:</th>          <td>    24</td>      <th>  BIC:               </th> <td>   150.9</td>\n",
       "</tr>\n",
       "<tr>\n",
       "  <th>Df Model:</th>              <td>     5</td>      <th>                     </th>     <td> </td>   \n",
       "</tr>\n",
       "<tr>\n",
       "  <th>Covariance Type:</th>      <td>nonrobust</td>    <th>                     </th>     <td> </td>   \n",
       "</tr>\n",
       "</table>\n",
       "<table class=\"simpletable\">\n",
       "<tr>\n",
       "         <td></td>            <th>coef</th>     <th>std err</th>      <th>t</th>      <th>P>|t|</th>  <th>[0.025</th>    <th>0.975]</th>  \n",
       "</tr>\n",
       "<tr>\n",
       "  <th>Intercept</th>       <td>   -0.1867</td> <td>    5.735</td> <td>   -0.033</td> <td> 0.974</td> <td>  -12.023</td> <td>   11.650</td>\n",
       "</tr>\n",
       "<tr>\n",
       "  <th>MarketPotential</th> <td>    0.2560</td> <td>    0.146</td> <td>    1.748</td> <td> 0.093</td> <td>   -0.046</td> <td>    0.558</td>\n",
       "</tr>\n",
       "<tr>\n",
       "  <th>Stores</th>          <td>    0.2227</td> <td>    0.278</td> <td>    0.801</td> <td> 0.431</td> <td>   -0.351</td> <td>    0.796</td>\n",
       "</tr>\n",
       "<tr>\n",
       "  <th>Dealers</th>         <td>    0.4564</td> <td>    0.119</td> <td>    3.838</td> <td> 0.001</td> <td>    0.211</td> <td>    0.702</td>\n",
       "</tr>\n",
       "<tr>\n",
       "  <th>PopularBrands</th>   <td>   -0.6953</td> <td>    0.267</td> <td>   -2.601</td> <td> 0.016</td> <td>   -1.247</td> <td>   -0.144</td>\n",
       "</tr>\n",
       "<tr>\n",
       "  <th>Population</th>      <td>    0.1548</td> <td>    0.058</td> <td>    2.686</td> <td> 0.013</td> <td>    0.036</td> <td>    0.274</td>\n",
       "</tr>\n",
       "</table>\n",
       "<table class=\"simpletable\">\n",
       "<tr>\n",
       "  <th>Omnibus:</th>       <td> 4.176</td> <th>  Durbin-Watson:     </th> <td>   1.942</td>\n",
       "</tr>\n",
       "<tr>\n",
       "  <th>Prob(Omnibus):</th> <td> 0.124</td> <th>  Jarque-Bera (JB):  </th> <td>   3.263</td>\n",
       "</tr>\n",
       "<tr>\n",
       "  <th>Skew:</th>          <td>-0.808</td> <th>  Prob(JB):          </th> <td>   0.196</td>\n",
       "</tr>\n",
       "<tr>\n",
       "  <th>Kurtosis:</th>      <td> 3.037</td> <th>  Cond. No.          </th> <td>1.44e+03</td>\n",
       "</tr>\n",
       "</table><br/><br/>Notes:<br/>[1] Standard Errors assume that the covariance matrix of the errors is correctly specified.<br/>[2] The condition number is large, 1.44e+03. This might indicate that there are<br/>strong multicollinearity or other numerical problems."
      ],
      "text/plain": [
       "<class 'statsmodels.iolib.summary.Summary'>\n",
       "\"\"\"\n",
       "                            OLS Regression Results                            \n",
       "==============================================================================\n",
       "Dep. Variable:                  Sales   R-squared:                       0.985\n",
       "Model:                            OLS   Adj. R-squared:                  0.982\n",
       "Method:                 Least Squares   F-statistic:                     312.4\n",
       "Date:                Tue, 28 Jun 2022   Prob (F-statistic):           5.11e-21\n",
       "Time:                        20:29:36   Log-Likelihood:                -65.250\n",
       "No. Observations:                  30   AIC:                             142.5\n",
       "Df Residuals:                      24   BIC:                             150.9\n",
       "Df Model:                           5                                         \n",
       "Covariance Type:            nonrobust                                         \n",
       "===================================================================================\n",
       "                      coef    std err          t      P>|t|      [0.025      0.975]\n",
       "-----------------------------------------------------------------------------------\n",
       "Intercept          -0.1867      5.735     -0.033      0.974     -12.023      11.650\n",
       "MarketPotential     0.2560      0.146      1.748      0.093      -0.046       0.558\n",
       "Stores              0.2227      0.278      0.801      0.431      -0.351       0.796\n",
       "Dealers             0.4564      0.119      3.838      0.001       0.211       0.702\n",
       "PopularBrands      -0.6953      0.267     -2.601      0.016      -1.247      -0.144\n",
       "Population          0.1548      0.058      2.686      0.013       0.036       0.274\n",
       "==============================================================================\n",
       "Omnibus:                        4.176   Durbin-Watson:                   1.942\n",
       "Prob(Omnibus):                  0.124   Jarque-Bera (JB):                3.263\n",
       "Skew:                          -0.808   Prob(JB):                        0.196\n",
       "Kurtosis:                       3.037   Cond. No.                     1.44e+03\n",
       "==============================================================================\n",
       "\n",
       "Notes:\n",
       "[1] Standard Errors assume that the covariance matrix of the errors is correctly specified.\n",
       "[2] The condition number is large, 1.44e+03. This might indicate that there are\n",
       "strong multicollinearity or other numerical problems.\n",
       "\"\"\""
      ]
     },
     "execution_count": 32,
     "metadata": {},
     "output_type": "execute_result"
    }
   ],
   "source": [
    "result = sm.ols(\"Sales ~ MarketPotential +  Stores + Dealers + PopularBrands + Population\", data = df2).fit()\n",
    "result.summary()"
   ]
  },
  {
   "cell_type": "code",
   "execution_count": 33,
   "id": "6dd67c1e",
   "metadata": {},
   "outputs": [
    {
     "data": {
      "text/html": [
       "<table class=\"simpletable\">\n",
       "<caption>OLS Regression Results</caption>\n",
       "<tr>\n",
       "  <th>Dep. Variable:</th>          <td>Sales</td>      <th>  R-squared (uncentered):</th>      <td>   0.995</td>\n",
       "</tr>\n",
       "<tr>\n",
       "  <th>Model:</th>                   <td>OLS</td>       <th>  Adj. R-squared (uncentered):</th> <td>   0.994</td>\n",
       "</tr>\n",
       "<tr>\n",
       "  <th>Method:</th>             <td>Least Squares</td>  <th>  F-statistic:       </th>          <td>   1070.</td>\n",
       "</tr>\n",
       "<tr>\n",
       "  <th>Date:</th>             <td>Tue, 28 Jun 2022</td> <th>  Prob (F-statistic):</th>          <td>2.65e-28</td>\n",
       "</tr>\n",
       "<tr>\n",
       "  <th>Time:</th>                 <td>20:30:08</td>     <th>  Log-Likelihood:    </th>          <td> -65.251</td>\n",
       "</tr>\n",
       "<tr>\n",
       "  <th>No. Observations:</th>      <td>    30</td>      <th>  AIC:               </th>          <td>   140.5</td>\n",
       "</tr>\n",
       "<tr>\n",
       "  <th>Df Residuals:</th>          <td>    25</td>      <th>  BIC:               </th>          <td>   147.5</td>\n",
       "</tr>\n",
       "<tr>\n",
       "  <th>Df Model:</th>              <td>     5</td>      <th>                     </th>              <td> </td>   \n",
       "</tr>\n",
       "<tr>\n",
       "  <th>Covariance Type:</th>      <td>nonrobust</td>    <th>                     </th>              <td> </td>   \n",
       "</tr>\n",
       "</table>\n",
       "<table class=\"simpletable\">\n",
       "<tr>\n",
       "         <td></td>            <th>coef</th>     <th>std err</th>      <th>t</th>      <th>P>|t|</th>  <th>[0.025</th>    <th>0.975]</th>  \n",
       "</tr>\n",
       "<tr>\n",
       "  <th>MarketPotential</th> <td>    0.2543</td> <td>    0.134</td> <td>    1.893</td> <td> 0.070</td> <td>   -0.022</td> <td>    0.531</td>\n",
       "</tr>\n",
       "<tr>\n",
       "  <th>Stores</th>          <td>    0.2269</td> <td>    0.241</td> <td>    0.941</td> <td> 0.356</td> <td>   -0.270</td> <td>    0.723</td>\n",
       "</tr>\n",
       "<tr>\n",
       "  <th>Dealers</th>         <td>    0.4567</td> <td>    0.116</td> <td>    3.927</td> <td> 0.001</td> <td>    0.217</td> <td>    0.696</td>\n",
       "</tr>\n",
       "<tr>\n",
       "  <th>PopularBrands</th>   <td>   -0.7034</td> <td>    0.093</td> <td>   -7.580</td> <td> 0.000</td> <td>   -0.895</td> <td>   -0.512</td>\n",
       "</tr>\n",
       "<tr>\n",
       "  <th>Population</th>      <td>    0.1535</td> <td>    0.041</td> <td>    3.758</td> <td> 0.001</td> <td>    0.069</td> <td>    0.238</td>\n",
       "</tr>\n",
       "</table>\n",
       "<table class=\"simpletable\">\n",
       "<tr>\n",
       "  <th>Omnibus:</th>       <td> 4.172</td> <th>  Durbin-Watson:     </th> <td>   1.939</td>\n",
       "</tr>\n",
       "<tr>\n",
       "  <th>Prob(Omnibus):</th> <td> 0.124</td> <th>  Jarque-Bera (JB):  </th> <td>   3.245</td>\n",
       "</tr>\n",
       "<tr>\n",
       "  <th>Skew:</th>          <td>-0.805</td> <th>  Prob(JB):          </th> <td>   0.197</td>\n",
       "</tr>\n",
       "<tr>\n",
       "  <th>Kurtosis:</th>      <td> 3.047</td> <th>  Cond. No.          </th> <td>    63.4</td>\n",
       "</tr>\n",
       "</table><br/><br/>Notes:<br/>[1] R² is computed without centering (uncentered) since the model does not contain a constant.<br/>[2] Standard Errors assume that the covariance matrix of the errors is correctly specified."
      ],
      "text/plain": [
       "<class 'statsmodels.iolib.summary.Summary'>\n",
       "\"\"\"\n",
       "                                 OLS Regression Results                                \n",
       "=======================================================================================\n",
       "Dep. Variable:                  Sales   R-squared (uncentered):                   0.995\n",
       "Model:                            OLS   Adj. R-squared (uncentered):              0.994\n",
       "Method:                 Least Squares   F-statistic:                              1070.\n",
       "Date:                Tue, 28 Jun 2022   Prob (F-statistic):                    2.65e-28\n",
       "Time:                        20:30:08   Log-Likelihood:                         -65.251\n",
       "No. Observations:                  30   AIC:                                      140.5\n",
       "Df Residuals:                      25   BIC:                                      147.5\n",
       "Df Model:                           5                                                  \n",
       "Covariance Type:            nonrobust                                                  \n",
       "===================================================================================\n",
       "                      coef    std err          t      P>|t|      [0.025      0.975]\n",
       "-----------------------------------------------------------------------------------\n",
       "MarketPotential     0.2543      0.134      1.893      0.070      -0.022       0.531\n",
       "Stores              0.2269      0.241      0.941      0.356      -0.270       0.723\n",
       "Dealers             0.4567      0.116      3.927      0.001       0.217       0.696\n",
       "PopularBrands      -0.7034      0.093     -7.580      0.000      -0.895      -0.512\n",
       "Population          0.1535      0.041      3.758      0.001       0.069       0.238\n",
       "==============================================================================\n",
       "Omnibus:                        4.172   Durbin-Watson:                   1.939\n",
       "Prob(Omnibus):                  0.124   Jarque-Bera (JB):                3.245\n",
       "Skew:                          -0.805   Prob(JB):                        0.197\n",
       "Kurtosis:                       3.047   Cond. No.                         63.4\n",
       "==============================================================================\n",
       "\n",
       "Notes:\n",
       "[1] R² is computed without centering (uncentered) since the model does not contain a constant.\n",
       "[2] Standard Errors assume that the covariance matrix of the errors is correctly specified.\n",
       "\"\"\""
      ]
     },
     "execution_count": 33,
     "metadata": {},
     "output_type": "execute_result"
    }
   ],
   "source": [
    "result2 = sm.ols(\"Sales ~ MarketPotential +  Stores + Dealers + PopularBrands + Population - 1\", data = df2).fit()\n",
    "result2.summary()"
   ]
  },
  {
   "cell_type": "code",
   "execution_count": 34,
   "id": "e9205501",
   "metadata": {},
   "outputs": [
    {
     "data": {
      "text/html": [
       "<table class=\"simpletable\">\n",
       "<caption>OLS Regression Results</caption>\n",
       "<tr>\n",
       "  <th>Dep. Variable:</th>          <td>Sales</td>      <th>  R-squared:         </th> <td>   0.984</td>\n",
       "</tr>\n",
       "<tr>\n",
       "  <th>Model:</th>                   <td>OLS</td>       <th>  Adj. R-squared:    </th> <td>   0.982</td>\n",
       "</tr>\n",
       "<tr>\n",
       "  <th>Method:</th>             <td>Least Squares</td>  <th>  F-statistic:       </th> <td>   396.0</td>\n",
       "</tr>\n",
       "<tr>\n",
       "  <th>Date:</th>             <td>Tue, 28 Jun 2022</td> <th>  Prob (F-statistic):</th> <td>3.28e-22</td>\n",
       "</tr>\n",
       "<tr>\n",
       "  <th>Time:</th>                 <td>20:30:41</td>     <th>  Log-Likelihood:    </th> <td> -65.646</td>\n",
       "</tr>\n",
       "<tr>\n",
       "  <th>No. Observations:</th>      <td>    30</td>      <th>  AIC:               </th> <td>   141.3</td>\n",
       "</tr>\n",
       "<tr>\n",
       "  <th>Df Residuals:</th>          <td>    25</td>      <th>  BIC:               </th> <td>   148.3</td>\n",
       "</tr>\n",
       "<tr>\n",
       "  <th>Df Model:</th>              <td>     4</td>      <th>                     </th>     <td> </td>   \n",
       "</tr>\n",
       "<tr>\n",
       "  <th>Covariance Type:</th>      <td>nonrobust</td>    <th>                     </th>     <td> </td>   \n",
       "</tr>\n",
       "</table>\n",
       "<table class=\"simpletable\">\n",
       "<tr>\n",
       "         <td></td>            <th>coef</th>     <th>std err</th>      <th>t</th>      <th>P>|t|</th>  <th>[0.025</th>    <th>0.975]</th>  \n",
       "</tr>\n",
       "<tr>\n",
       "  <th>Intercept</th>       <td>   -2.3250</td> <td>    5.040</td> <td>   -0.461</td> <td> 0.649</td> <td>  -12.704</td> <td>    8.054</td>\n",
       "</tr>\n",
       "<tr>\n",
       "  <th>MarketPotential</th> <td>    0.2680</td> <td>    0.145</td> <td>    1.853</td> <td> 0.076</td> <td>   -0.030</td> <td>    0.566</td>\n",
       "</tr>\n",
       "<tr>\n",
       "  <th>Dealers</th>         <td>    0.4810</td> <td>    0.114</td> <td>    4.216</td> <td> 0.000</td> <td>    0.246</td> <td>    0.716</td>\n",
       "</tr>\n",
       "<tr>\n",
       "  <th>PopularBrands</th>   <td>   -0.5926</td> <td>    0.233</td> <td>   -2.544</td> <td> 0.018</td> <td>   -1.072</td> <td>   -0.113</td>\n",
       "</tr>\n",
       "<tr>\n",
       "  <th>Population</th>      <td>    0.1848</td> <td>    0.044</td> <td>    4.248</td> <td> 0.000</td> <td>    0.095</td> <td>    0.274</td>\n",
       "</tr>\n",
       "</table>\n",
       "<table class=\"simpletable\">\n",
       "<tr>\n",
       "  <th>Omnibus:</th>       <td> 4.580</td> <th>  Durbin-Watson:     </th> <td>   1.981</td>\n",
       "</tr>\n",
       "<tr>\n",
       "  <th>Prob(Omnibus):</th> <td> 0.101</td> <th>  Jarque-Bera (JB):  </th> <td>   3.841</td>\n",
       "</tr>\n",
       "<tr>\n",
       "  <th>Skew:</th>          <td>-0.875</td> <th>  Prob(JB):          </th> <td>   0.147</td>\n",
       "</tr>\n",
       "<tr>\n",
       "  <th>Kurtosis:</th>      <td> 2.905</td> <th>  Cond. No.          </th> <td>1.27e+03</td>\n",
       "</tr>\n",
       "</table><br/><br/>Notes:<br/>[1] Standard Errors assume that the covariance matrix of the errors is correctly specified.<br/>[2] The condition number is large, 1.27e+03. This might indicate that there are<br/>strong multicollinearity or other numerical problems."
      ],
      "text/plain": [
       "<class 'statsmodels.iolib.summary.Summary'>\n",
       "\"\"\"\n",
       "                            OLS Regression Results                            \n",
       "==============================================================================\n",
       "Dep. Variable:                  Sales   R-squared:                       0.984\n",
       "Model:                            OLS   Adj. R-squared:                  0.982\n",
       "Method:                 Least Squares   F-statistic:                     396.0\n",
       "Date:                Tue, 28 Jun 2022   Prob (F-statistic):           3.28e-22\n",
       "Time:                        20:30:41   Log-Likelihood:                -65.646\n",
       "No. Observations:                  30   AIC:                             141.3\n",
       "Df Residuals:                      25   BIC:                             148.3\n",
       "Df Model:                           4                                         \n",
       "Covariance Type:            nonrobust                                         \n",
       "===================================================================================\n",
       "                      coef    std err          t      P>|t|      [0.025      0.975]\n",
       "-----------------------------------------------------------------------------------\n",
       "Intercept          -2.3250      5.040     -0.461      0.649     -12.704       8.054\n",
       "MarketPotential     0.2680      0.145      1.853      0.076      -0.030       0.566\n",
       "Dealers             0.4810      0.114      4.216      0.000       0.246       0.716\n",
       "PopularBrands      -0.5926      0.233     -2.544      0.018      -1.072      -0.113\n",
       "Population          0.1848      0.044      4.248      0.000       0.095       0.274\n",
       "==============================================================================\n",
       "Omnibus:                        4.580   Durbin-Watson:                   1.981\n",
       "Prob(Omnibus):                  0.101   Jarque-Bera (JB):                3.841\n",
       "Skew:                          -0.875   Prob(JB):                        0.147\n",
       "Kurtosis:                       2.905   Cond. No.                     1.27e+03\n",
       "==============================================================================\n",
       "\n",
       "Notes:\n",
       "[1] Standard Errors assume that the covariance matrix of the errors is correctly specified.\n",
       "[2] The condition number is large, 1.27e+03. This might indicate that there are\n",
       "strong multicollinearity or other numerical problems.\n",
       "\"\"\""
      ]
     },
     "execution_count": 34,
     "metadata": {},
     "output_type": "execute_result"
    }
   ],
   "source": [
    "result3 = sm.ols(\"Sales ~ MarketPotential + Dealers + PopularBrands + Population\", data = df2).fit()\n",
    "result3.summary()"
   ]
  },
  {
   "cell_type": "code",
   "execution_count": 35,
   "id": "85ed898e",
   "metadata": {},
   "outputs": [
    {
     "data": {
      "text/html": [
       "<table class=\"simpletable\">\n",
       "<caption>OLS Regression Results</caption>\n",
       "<tr>\n",
       "  <th>Dep. Variable:</th>          <td>Sales</td>      <th>  R-squared (uncentered):</th>      <td>   0.995</td>\n",
       "</tr>\n",
       "<tr>\n",
       "  <th>Model:</th>                   <td>OLS</td>       <th>  Adj. R-squared (uncentered):</th> <td>   0.994</td>\n",
       "</tr>\n",
       "<tr>\n",
       "  <th>Method:</th>             <td>Least Squares</td>  <th>  F-statistic:       </th>          <td>   1344.</td>\n",
       "</tr>\n",
       "<tr>\n",
       "  <th>Date:</th>             <td>Tue, 28 Jun 2022</td> <th>  Prob (F-statistic):</th>          <td>1.04e-29</td>\n",
       "</tr>\n",
       "<tr>\n",
       "  <th>Time:</th>                 <td>20:31:19</td>     <th>  Log-Likelihood:    </th>          <td> -65.773</td>\n",
       "</tr>\n",
       "<tr>\n",
       "  <th>No. Observations:</th>      <td>    30</td>      <th>  AIC:               </th>          <td>   139.5</td>\n",
       "</tr>\n",
       "<tr>\n",
       "  <th>Df Residuals:</th>          <td>    26</td>      <th>  BIC:               </th>          <td>   145.2</td>\n",
       "</tr>\n",
       "<tr>\n",
       "  <th>Df Model:</th>              <td>     4</td>      <th>                     </th>              <td> </td>   \n",
       "</tr>\n",
       "<tr>\n",
       "  <th>Covariance Type:</th>      <td>nonrobust</td>    <th>                     </th>              <td> </td>   \n",
       "</tr>\n",
       "</table>\n",
       "<table class=\"simpletable\">\n",
       "<tr>\n",
       "         <td></td>            <th>coef</th>     <th>std err</th>      <th>t</th>      <th>P>|t|</th>  <th>[0.025</th>    <th>0.975]</th>  \n",
       "</tr>\n",
       "<tr>\n",
       "  <th>MarketPotential</th> <td>    0.2450</td> <td>    0.134</td> <td>    1.832</td> <td> 0.078</td> <td>   -0.030</td> <td>    0.520</td>\n",
       "</tr>\n",
       "<tr>\n",
       "  <th>Dealers</th>         <td>    0.4922</td> <td>    0.110</td> <td>    4.485</td> <td> 0.000</td> <td>    0.267</td> <td>    0.718</td>\n",
       "</tr>\n",
       "<tr>\n",
       "  <th>PopularBrands</th>   <td>   -0.6911</td> <td>    0.092</td> <td>   -7.539</td> <td> 0.000</td> <td>   -0.880</td> <td>   -0.503</td>\n",
       "</tr>\n",
       "<tr>\n",
       "  <th>Population</th>      <td>    0.1733</td> <td>    0.035</td> <td>    4.950</td> <td> 0.000</td> <td>    0.101</td> <td>    0.245</td>\n",
       "</tr>\n",
       "</table>\n",
       "<table class=\"simpletable\">\n",
       "<tr>\n",
       "  <th>Omnibus:</th>       <td> 4.238</td> <th>  Durbin-Watson:     </th> <td>   1.950</td>\n",
       "</tr>\n",
       "<tr>\n",
       "  <th>Prob(Omnibus):</th> <td> 0.120</td> <th>  Jarque-Bera (JB):  </th> <td>   3.407</td>\n",
       "</tr>\n",
       "<tr>\n",
       "  <th>Skew:</th>          <td>-0.825</td> <th>  Prob(JB):          </th> <td>   0.182</td>\n",
       "</tr>\n",
       "<tr>\n",
       "  <th>Kurtosis:</th>      <td> 2.976</td> <th>  Cond. No.          </th> <td>    39.2</td>\n",
       "</tr>\n",
       "</table><br/><br/>Notes:<br/>[1] R² is computed without centering (uncentered) since the model does not contain a constant.<br/>[2] Standard Errors assume that the covariance matrix of the errors is correctly specified."
      ],
      "text/plain": [
       "<class 'statsmodels.iolib.summary.Summary'>\n",
       "\"\"\"\n",
       "                                 OLS Regression Results                                \n",
       "=======================================================================================\n",
       "Dep. Variable:                  Sales   R-squared (uncentered):                   0.995\n",
       "Model:                            OLS   Adj. R-squared (uncentered):              0.994\n",
       "Method:                 Least Squares   F-statistic:                              1344.\n",
       "Date:                Tue, 28 Jun 2022   Prob (F-statistic):                    1.04e-29\n",
       "Time:                        20:31:19   Log-Likelihood:                         -65.773\n",
       "No. Observations:                  30   AIC:                                      139.5\n",
       "Df Residuals:                      26   BIC:                                      145.2\n",
       "Df Model:                           4                                                  \n",
       "Covariance Type:            nonrobust                                                  \n",
       "===================================================================================\n",
       "                      coef    std err          t      P>|t|      [0.025      0.975]\n",
       "-----------------------------------------------------------------------------------\n",
       "MarketPotential     0.2450      0.134      1.832      0.078      -0.030       0.520\n",
       "Dealers             0.4922      0.110      4.485      0.000       0.267       0.718\n",
       "PopularBrands      -0.6911      0.092     -7.539      0.000      -0.880      -0.503\n",
       "Population          0.1733      0.035      4.950      0.000       0.101       0.245\n",
       "==============================================================================\n",
       "Omnibus:                        4.238   Durbin-Watson:                   1.950\n",
       "Prob(Omnibus):                  0.120   Jarque-Bera (JB):                3.407\n",
       "Skew:                          -0.825   Prob(JB):                        0.182\n",
       "Kurtosis:                       2.976   Cond. No.                         39.2\n",
       "==============================================================================\n",
       "\n",
       "Notes:\n",
       "[1] R² is computed without centering (uncentered) since the model does not contain a constant.\n",
       "[2] Standard Errors assume that the covariance matrix of the errors is correctly specified.\n",
       "\"\"\""
      ]
     },
     "execution_count": 35,
     "metadata": {},
     "output_type": "execute_result"
    }
   ],
   "source": [
    "result4 = sm.ols(\"Sales ~ MarketPotential + Dealers + PopularBrands + Population -1\", data = df2).fit()\n",
    "result4.summary()"
   ]
  },
  {
   "cell_type": "code",
   "execution_count": 36,
   "id": "911e31a7",
   "metadata": {},
   "outputs": [
    {
     "data": {
      "text/html": [
       "<table class=\"simpletable\">\n",
       "<caption>OLS Regression Results</caption>\n",
       "<tr>\n",
       "  <th>Dep. Variable:</th>          <td>Sales</td>      <th>  R-squared:         </th> <td>   0.982</td>\n",
       "</tr>\n",
       "<tr>\n",
       "  <th>Model:</th>                   <td>OLS</td>       <th>  Adj. R-squared:    </th> <td>   0.980</td>\n",
       "</tr>\n",
       "<tr>\n",
       "  <th>Method:</th>             <td>Least Squares</td>  <th>  F-statistic:       </th> <td>   481.8</td>\n",
       "</tr>\n",
       "<tr>\n",
       "  <th>Date:</th>             <td>Tue, 28 Jun 2022</td> <th>  Prob (F-statistic):</th> <td>6.79e-23</td>\n",
       "</tr>\n",
       "<tr>\n",
       "  <th>Time:</th>                 <td>20:31:42</td>     <th>  Log-Likelihood:    </th> <td> -67.576</td>\n",
       "</tr>\n",
       "<tr>\n",
       "  <th>No. Observations:</th>      <td>    30</td>      <th>  AIC:               </th> <td>   143.2</td>\n",
       "</tr>\n",
       "<tr>\n",
       "  <th>Df Residuals:</th>          <td>    26</td>      <th>  BIC:               </th> <td>   148.8</td>\n",
       "</tr>\n",
       "<tr>\n",
       "  <th>Df Model:</th>              <td>     3</td>      <th>                     </th>     <td> </td>   \n",
       "</tr>\n",
       "<tr>\n",
       "  <th>Covariance Type:</th>      <td>nonrobust</td>    <th>                     </th>     <td> </td>   \n",
       "</tr>\n",
       "</table>\n",
       "<table class=\"simpletable\">\n",
       "<tr>\n",
       "        <td></td>           <th>coef</th>     <th>std err</th>      <th>t</th>      <th>P>|t|</th>  <th>[0.025</th>    <th>0.975]</th>  \n",
       "</tr>\n",
       "<tr>\n",
       "  <th>Intercept</th>     <td>    0.8965</td> <td>    4.946</td> <td>    0.181</td> <td> 0.858</td> <td>   -9.271</td> <td>   11.064</td>\n",
       "</tr>\n",
       "<tr>\n",
       "  <th>Dealers</th>       <td>    0.5724</td> <td>    0.108</td> <td>    5.322</td> <td> 0.000</td> <td>    0.351</td> <td>    0.793</td>\n",
       "</tr>\n",
       "<tr>\n",
       "  <th>PopularBrands</th> <td>   -0.7074</td> <td>    0.235</td> <td>   -3.013</td> <td> 0.006</td> <td>   -1.190</td> <td>   -0.225</td>\n",
       "</tr>\n",
       "<tr>\n",
       "  <th>Population</th>    <td>    0.1983</td> <td>    0.045</td> <td>    4.419</td> <td> 0.000</td> <td>    0.106</td> <td>    0.291</td>\n",
       "</tr>\n",
       "</table>\n",
       "<table class=\"simpletable\">\n",
       "<tr>\n",
       "  <th>Omnibus:</th>       <td> 8.461</td> <th>  Durbin-Watson:     </th> <td>   1.948</td>\n",
       "</tr>\n",
       "<tr>\n",
       "  <th>Prob(Omnibus):</th> <td> 0.015</td> <th>  Jarque-Bera (JB):  </th> <td>   7.053</td>\n",
       "</tr>\n",
       "<tr>\n",
       "  <th>Skew:</th>          <td>-1.142</td> <th>  Prob(JB):          </th> <td>  0.0294</td>\n",
       "</tr>\n",
       "<tr>\n",
       "  <th>Kurtosis:</th>      <td> 3.653</td> <th>  Cond. No.          </th> <td>1.17e+03</td>\n",
       "</tr>\n",
       "</table><br/><br/>Notes:<br/>[1] Standard Errors assume that the covariance matrix of the errors is correctly specified.<br/>[2] The condition number is large, 1.17e+03. This might indicate that there are<br/>strong multicollinearity or other numerical problems."
      ],
      "text/plain": [
       "<class 'statsmodels.iolib.summary.Summary'>\n",
       "\"\"\"\n",
       "                            OLS Regression Results                            \n",
       "==============================================================================\n",
       "Dep. Variable:                  Sales   R-squared:                       0.982\n",
       "Model:                            OLS   Adj. R-squared:                  0.980\n",
       "Method:                 Least Squares   F-statistic:                     481.8\n",
       "Date:                Tue, 28 Jun 2022   Prob (F-statistic):           6.79e-23\n",
       "Time:                        20:31:42   Log-Likelihood:                -67.576\n",
       "No. Observations:                  30   AIC:                             143.2\n",
       "Df Residuals:                      26   BIC:                             148.8\n",
       "Df Model:                           3                                         \n",
       "Covariance Type:            nonrobust                                         \n",
       "=================================================================================\n",
       "                    coef    std err          t      P>|t|      [0.025      0.975]\n",
       "---------------------------------------------------------------------------------\n",
       "Intercept         0.8965      4.946      0.181      0.858      -9.271      11.064\n",
       "Dealers           0.5724      0.108      5.322      0.000       0.351       0.793\n",
       "PopularBrands    -0.7074      0.235     -3.013      0.006      -1.190      -0.225\n",
       "Population        0.1983      0.045      4.419      0.000       0.106       0.291\n",
       "==============================================================================\n",
       "Omnibus:                        8.461   Durbin-Watson:                   1.948\n",
       "Prob(Omnibus):                  0.015   Jarque-Bera (JB):                7.053\n",
       "Skew:                          -1.142   Prob(JB):                       0.0294\n",
       "Kurtosis:                       3.653   Cond. No.                     1.17e+03\n",
       "==============================================================================\n",
       "\n",
       "Notes:\n",
       "[1] Standard Errors assume that the covariance matrix of the errors is correctly specified.\n",
       "[2] The condition number is large, 1.17e+03. This might indicate that there are\n",
       "strong multicollinearity or other numerical problems.\n",
       "\"\"\""
      ]
     },
     "execution_count": 36,
     "metadata": {},
     "output_type": "execute_result"
    }
   ],
   "source": [
    "result5 = sm.ols(\"Sales ~ Dealers + PopularBrands + Population\", data = df2).fit()\n",
    "result5.summary()"
   ]
  },
  {
   "cell_type": "markdown",
   "id": "3ab7625b",
   "metadata": {},
   "source": [
    "# FORMULA"
   ]
  },
  {
   "cell_type": "code",
   "execution_count": null,
   "id": "b653d7f7",
   "metadata": {},
   "outputs": [],
   "source": [
    "# sales = 0.8965 + 0.5724(#dealers) - 0.7074(#popularbrands) + 0.1983(population)"
   ]
  },
  {
   "cell_type": "code",
   "execution_count": 37,
   "id": "276905ae",
   "metadata": {},
   "outputs": [
    {
     "data": {
      "text/plain": [
       "0    62.419706\n",
       "dtype: float64"
      ]
     },
     "execution_count": 37,
     "metadata": {},
     "output_type": "execute_result"
    }
   ],
   "source": [
    "result5.predict({\n",
    "    \"Dealers\": 58,\n",
    "    \"PopularBrands\": 2,\n",
    "    \"Population\": 150\n",
    "})"
   ]
  },
  {
   "cell_type": "code",
   "execution_count": 39,
   "id": "7031fe24",
   "metadata": {},
   "outputs": [
    {
     "data": {
      "text/plain": [
       "0    63.127079\n",
       "dtype: float64"
      ]
     },
     "execution_count": 39,
     "metadata": {},
     "output_type": "execute_result"
    }
   ],
   "source": [
    "result5.predict({\n",
    "    \"Dealers\": 58,\n",
    "    \"PopularBrands\": 1,\n",
    "    \"Population\": 150\n",
    "})"
   ]
  },
  {
   "cell_type": "code",
   "execution_count": 40,
   "id": "cfea2228",
   "metadata": {},
   "outputs": [
    {
     "data": {
      "text/plain": [
       "0    62.554714\n",
       "dtype: float64"
      ]
     },
     "execution_count": 40,
     "metadata": {},
     "output_type": "execute_result"
    }
   ],
   "source": [
    "result5.predict({\n",
    "    \"Dealers\": 57,\n",
    "    \"PopularBrands\": 1,\n",
    "    \"Population\": 150\n",
    "})"
   ]
  },
  {
   "cell_type": "code",
   "execution_count": 43,
   "id": "c4564eca",
   "metadata": {},
   "outputs": [
    {
     "data": {
      "text/plain": [
       "0    53.650821\n",
       "dtype: float64"
      ]
     },
     "execution_count": 43,
     "metadata": {},
     "output_type": "execute_result"
    }
   ],
   "source": [
    "result5.predict({\n",
    "    \"Dealers\": 60,\n",
    "    \"PopularBrands\": 2,\n",
    "    \"Population\": 100\n",
    "})"
   ]
  },
  {
   "cell_type": "markdown",
   "id": "64cc908d",
   "metadata": {},
   "source": [
    "# SOME VISUALS"
   ]
  },
  {
   "cell_type": "code",
   "execution_count": 44,
   "id": "c7d27edb",
   "metadata": {},
   "outputs": [
    {
     "data": {
      "text/html": [
       "<div>\n",
       "<style scoped>\n",
       "    .dataframe tbody tr th:only-of-type {\n",
       "        vertical-align: middle;\n",
       "    }\n",
       "\n",
       "    .dataframe tbody tr th {\n",
       "        vertical-align: top;\n",
       "    }\n",
       "\n",
       "    .dataframe thead th {\n",
       "        text-align: right;\n",
       "    }\n",
       "</style>\n",
       "<table border=\"1\" class=\"dataframe\">\n",
       "  <thead>\n",
       "    <tr style=\"text-align: right;\">\n",
       "      <th></th>\n",
       "      <th>Territory</th>\n",
       "      <th>Sales</th>\n",
       "      <th>MarketPotential</th>\n",
       "      <th>Stores</th>\n",
       "      <th>Dealers</th>\n",
       "      <th>PopularBrands</th>\n",
       "      <th>Population</th>\n",
       "      <th>DealerLevels</th>\n",
       "    </tr>\n",
       "  </thead>\n",
       "  <tbody>\n",
       "    <tr>\n",
       "      <th>0</th>\n",
       "      <td>1</td>\n",
       "      <td>10</td>\n",
       "      <td>16</td>\n",
       "      <td>8</td>\n",
       "      <td>7</td>\n",
       "      <td>12</td>\n",
       "      <td>71</td>\n",
       "      <td>0-9</td>\n",
       "    </tr>\n",
       "    <tr>\n",
       "      <th>1</th>\n",
       "      <td>2</td>\n",
       "      <td>8</td>\n",
       "      <td>12</td>\n",
       "      <td>6</td>\n",
       "      <td>6</td>\n",
       "      <td>13</td>\n",
       "      <td>59</td>\n",
       "      <td>0-9</td>\n",
       "    </tr>\n",
       "    <tr>\n",
       "      <th>2</th>\n",
       "      <td>3</td>\n",
       "      <td>45</td>\n",
       "      <td>28</td>\n",
       "      <td>19</td>\n",
       "      <td>36</td>\n",
       "      <td>6</td>\n",
       "      <td>135</td>\n",
       "      <td>30-39</td>\n",
       "    </tr>\n",
       "    <tr>\n",
       "      <th>3</th>\n",
       "      <td>4</td>\n",
       "      <td>58</td>\n",
       "      <td>43</td>\n",
       "      <td>19</td>\n",
       "      <td>49</td>\n",
       "      <td>2</td>\n",
       "      <td>149</td>\n",
       "      <td>40-50</td>\n",
       "    </tr>\n",
       "    <tr>\n",
       "      <th>4</th>\n",
       "      <td>5</td>\n",
       "      <td>10</td>\n",
       "      <td>14</td>\n",
       "      <td>6</td>\n",
       "      <td>12</td>\n",
       "      <td>13</td>\n",
       "      <td>70</td>\n",
       "      <td>10-19</td>\n",
       "    </tr>\n",
       "  </tbody>\n",
       "</table>\n",
       "</div>"
      ],
      "text/plain": [
       "   Territory  Sales  MarketPotential  Stores  Dealers  PopularBrands  \\\n",
       "0          1     10               16       8        7             12   \n",
       "1          2      8               12       6        6             13   \n",
       "2          3     45               28      19       36              6   \n",
       "3          4     58               43      19       49              2   \n",
       "4          5     10               14       6       12             13   \n",
       "\n",
       "   Population DealerLevels  \n",
       "0          71          0-9  \n",
       "1          59          0-9  \n",
       "2         135        30-39  \n",
       "3         149        40-50  \n",
       "4          70        10-19  "
      ]
     },
     "execution_count": 44,
     "metadata": {},
     "output_type": "execute_result"
    }
   ],
   "source": [
    "# bin number of dealers\n",
    "bins = [0, 10, 20, 30, 40, 50]\n",
    "\n",
    "dealerLabels = [\"0-9\", \"10-19\",\"20-29\",\"30-39\",\"40-50\"]\n",
    "\n",
    "df2[\"DealerLevels\"] = pd.cut(df2[\"Dealers\"], bins, labels = dealerLabels)\n",
    "df2.head()"
   ]
  },
  {
   "cell_type": "code",
   "execution_count": 49,
   "id": "7b05847d",
   "metadata": {},
   "outputs": [
    {
     "data": {
      "text/plain": [
       "Text(0.5, 1.0, 'Sales by Number of Dealers and Number of Popular Brands')"
      ]
     },
     "execution_count": 49,
     "metadata": {},
     "output_type": "execute_result"
    },
    {
     "data": {
      "image/png": "[encoded data removed]",
      "text/plain": [
       "<Figure size 1440x720 with 1 Axes>"
      ]
     },
     "metadata": {
      "needs_background": "light"
     },
     "output_type": "display_data"
    }
   ],
   "source": [
    "# barplot showing sales per #dealers\n",
    "\n",
    "plt.figure(figsize=(20,10))\n",
    "\n",
    "sns.barplot(data = df2, x = \"PopularBrands\", y = \"Sales\", hue = \"DealerLevels\", ci = None)\n",
    "\n",
    "plt.xticks(rotation = -45)\n",
    "plt.title('Sales by Number of Dealers and Number of Popular Brands')\n"
   ]
  },
  {
   "cell_type": "code",
   "execution_count": 56,
   "id": "713c3059",
   "metadata": {},
   "outputs": [
    {
     "data": {
      "image/png": "[encoded data removed]",
      "text/plain": [
       "<Figure size 1440x720 with 1 Axes>"
      ]
     },
     "metadata": {
      "needs_background": "light"
     },
     "output_type": "display_data"
    }
   ],
   "source": [
    "# barplot showing sales per #dealers and #popbrands\n",
    "\n",
    "plt.figure(figsize=(20,10))\n",
    "\n",
    "snsbar = sns.barplot(data = df2, x = \"PopularBrands\", y = \"Sales\", hue = \"DealerLevels\", ci = None)\n",
    "\n",
    "plt.xticks(rotation = -45)\n",
    "plt.title('Sales by Number of Dealers and Number of Popular Brands')\n",
    "\n",
    "#save the image as png\n",
    "plt.savefig(\"SalesPopBrandDealers.png\")"
   ]
  },
  {
   "cell_type": "code",
   "execution_count": 52,
   "id": "7b7ba6da",
   "metadata": {},
   "outputs": [
    {
     "ename": "AttributeError",
     "evalue": "'AxesSubplot' object has no attribute 'getfigure'",
     "output_type": "error",
     "traceback": [
      "\u001b[1;31m---------------------------------------------------------------------------\u001b[0m",
      "\u001b[1;31mAttributeError\u001b[0m                            Traceback (most recent call last)",
      "\u001b[1;32mC:\\Users\\RVHU32~1\\AppData\\Local\\Temp/ipykernel_7964/2284101088.py\u001b[0m in \u001b[0;36m<module>\u001b[1;34m\u001b[0m\n\u001b[1;32m----> 1\u001b[1;33m \u001b[0mfig\u001b[0m \u001b[1;33m=\u001b[0m \u001b[0msnsbar\u001b[0m\u001b[1;33m.\u001b[0m\u001b[0mgetfigure\u001b[0m\u001b[1;33m(\u001b[0m\u001b[1;33m)\u001b[0m\u001b[1;33m\u001b[0m\u001b[1;33m\u001b[0m\u001b[0m\n\u001b[0m",
      "\u001b[1;31mAttributeError\u001b[0m: 'AxesSubplot' object has no attribute 'getfigure'"
     ]
    }
   ],
   "source": [
    "#to export visual\n",
    "#\n",
    "#plt.savefig(\"SalesPopBrandDealers.png\")"
   ]
  },
  {
   "cell_type": "code",
   "execution_count": 53,
   "id": "255f3c9b",
   "metadata": {},
   "outputs": [
    {
     "data": {
      "text/plain": [
       "<Figure size 432x288 with 0 Axes>"
      ]
     },
     "metadata": {},
     "output_type": "display_data"
    }
   ],
   "source": []
  },
  {
   "cell_type": "code",
   "execution_count": 54,
   "id": "02ee9bbc",
   "metadata": {},
   "outputs": [
    {
     "data": {
      "text/html": [
       "<div>\n",
       "<style scoped>\n",
       "    .dataframe tbody tr th:only-of-type {\n",
       "        vertical-align: middle;\n",
       "    }\n",
       "\n",
       "    .dataframe tbody tr th {\n",
       "        vertical-align: top;\n",
       "    }\n",
       "\n",
       "    .dataframe thead th {\n",
       "        text-align: right;\n",
       "    }\n",
       "</style>\n",
       "<table border=\"1\" class=\"dataframe\">\n",
       "  <thead>\n",
       "    <tr style=\"text-align: right;\">\n",
       "      <th></th>\n",
       "      <th>Territory</th>\n",
       "      <th>Sales</th>\n",
       "      <th>MarketPotential</th>\n",
       "      <th>Stores</th>\n",
       "      <th>Dealers</th>\n",
       "      <th>PopularBrands</th>\n",
       "      <th>Population</th>\n",
       "      <th>DealerLevels</th>\n",
       "      <th>PopularBrandLevels</th>\n",
       "    </tr>\n",
       "  </thead>\n",
       "  <tbody>\n",
       "    <tr>\n",
       "      <th>0</th>\n",
       "      <td>1</td>\n",
       "      <td>10</td>\n",
       "      <td>16</td>\n",
       "      <td>8</td>\n",
       "      <td>7</td>\n",
       "      <td>12</td>\n",
       "      <td>71</td>\n",
       "      <td>0-9</td>\n",
       "      <td>9-11</td>\n",
       "    </tr>\n",
       "    <tr>\n",
       "      <th>1</th>\n",
       "      <td>2</td>\n",
       "      <td>8</td>\n",
       "      <td>12</td>\n",
       "      <td>6</td>\n",
       "      <td>6</td>\n",
       "      <td>13</td>\n",
       "      <td>59</td>\n",
       "      <td>0-9</td>\n",
       "      <td>12-14</td>\n",
       "    </tr>\n",
       "    <tr>\n",
       "      <th>2</th>\n",
       "      <td>3</td>\n",
       "      <td>45</td>\n",
       "      <td>28</td>\n",
       "      <td>19</td>\n",
       "      <td>36</td>\n",
       "      <td>6</td>\n",
       "      <td>135</td>\n",
       "      <td>30-39</td>\n",
       "      <td>3-5</td>\n",
       "    </tr>\n",
       "    <tr>\n",
       "      <th>3</th>\n",
       "      <td>4</td>\n",
       "      <td>58</td>\n",
       "      <td>43</td>\n",
       "      <td>19</td>\n",
       "      <td>49</td>\n",
       "      <td>2</td>\n",
       "      <td>149</td>\n",
       "      <td>40-50</td>\n",
       "      <td>0-2</td>\n",
       "    </tr>\n",
       "    <tr>\n",
       "      <th>4</th>\n",
       "      <td>5</td>\n",
       "      <td>10</td>\n",
       "      <td>14</td>\n",
       "      <td>6</td>\n",
       "      <td>12</td>\n",
       "      <td>13</td>\n",
       "      <td>70</td>\n",
       "      <td>10-19</td>\n",
       "      <td>12-14</td>\n",
       "    </tr>\n",
       "  </tbody>\n",
       "</table>\n",
       "</div>"
      ],
      "text/plain": [
       "   Territory  Sales  MarketPotential  Stores  Dealers  PopularBrands  \\\n",
       "0          1     10               16       8        7             12   \n",
       "1          2      8               12       6        6             13   \n",
       "2          3     45               28      19       36              6   \n",
       "3          4     58               43      19       49              2   \n",
       "4          5     10               14       6       12             13   \n",
       "\n",
       "   Population DealerLevels PopularBrandLevels  \n",
       "0          71          0-9               9-11  \n",
       "1          59          0-9              12-14  \n",
       "2         135        30-39                3-5  \n",
       "3         149        40-50                0-2  \n",
       "4          70        10-19              12-14  "
      ]
     },
     "execution_count": 54,
     "metadata": {},
     "output_type": "execute_result"
    }
   ],
   "source": [
    "# bin number of popular brands\n",
    "bins = [0, 3, 6, 9, 12, 15, 18]\n",
    "\n",
    "popBrands = [\"0-2\", \"3-5\",\"6-8\",\"9-11\",\"12-14\",\"15-18\"]\n",
    "\n",
    "df2[\"PopularBrandLevels\"] = pd.cut(df2[\"PopularBrands\"], bins, labels = popBrands)\n",
    "df2.head()\n",
    "\n",
    "#same as before"
   ]
  },
  {
   "cell_type": "code",
   "execution_count": 55,
   "id": "4a46d665",
   "metadata": {},
   "outputs": [
    {
     "data": {
      "text/plain": [
       "Text(0.5, 1.0, 'Sales by Number of Dealers and Number of Popular Brands')"
      ]
     },
     "execution_count": 55,
     "metadata": {},
     "output_type": "execute_result"
    },
    {
     "data": {
      "image/png": "[encoded data removed]",
      "text/plain": [
       "<Figure size 1440x720 with 1 Axes>"
      ]
     },
     "metadata": {
      "needs_background": "light"
     },
     "output_type": "display_data"
    }
   ],
   "source": [
    "# barplot showing sales per #dealers\n",
    "\n",
    "plt.figure(figsize=(20,10))\n",
    "\n",
    "snsbar = sns.barplot(data = df2, x = \"DealerLevels\", y = \"Sales\", hue = \"PopularBrandLevels\", ci = None)\n",
    "\n",
    "plt.xticks(rotation = -45)\n",
    "plt.title('Sales by Number of Dealers and Number of Popular Brands')"
   ]
  },
  {
   "cell_type": "code",
   "execution_count": null,
   "id": "136c1239",
   "metadata": {},
   "outputs": [],
   "source": []
  }
 ],
 "metadata": {
  "kernelspec": {
   "display_name": "Python 3 (ipykernel)",
   "language": "python",
   "name": "python3"
  },
  "language_info": {
   "codemirror_mode": {
    "name": "ipython",
    "version": 3
   },
   "file_extension": ".py",
   "mimetype": "text/x-python",
   "name": "python",
   "nbconvert_exporter": "python",
   "pygments_lexer": "ipython3",
   "version": "3.9.7"
  }
 },
 "nbformat": 4,
 "nbformat_minor": 5
}
