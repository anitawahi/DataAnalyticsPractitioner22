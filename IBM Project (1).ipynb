{
 "cells": [
  {
   "cell_type": "code",
   "execution_count": 1,
   "id": "168b6a39",
   "metadata": {},
   "outputs": [],
   "source": [
    "# Importing the usual libraries\n",
    "\n",
    "import pandas as pd\n",
    "import numpy as np\n",
    "\n",
    "import statsmodels.formula.api as sm\n",
    "\n",
    "from matplotlib import pyplot as plt\n",
    "%matplotlib inline\n",
    "\n",
    "import seaborn as sns"
   ]
  },
  {
   "cell_type": "code",
   "execution_count": 9,
   "id": "5c097e49",
   "metadata": {},
   "outputs": [
    {
     "data": {
      "text/html": [
       "<div>\n",
       "<style scoped>\n",
       "    .dataframe tbody tr th:only-of-type {\n",
       "        vertical-align: middle;\n",
       "    }\n",
       "\n",
       "    .dataframe tbody tr th {\n",
       "        vertical-align: top;\n",
       "    }\n",
       "\n",
       "    .dataframe thead th {\n",
       "        text-align: right;\n",
       "    }\n",
       "</style>\n",
       "<table border=\"1\" class=\"dataframe\">\n",
       "  <thead>\n",
       "    <tr style=\"text-align: right;\">\n",
       "      <th></th>\n",
       "      <th>Age</th>\n",
       "      <th>Attrition</th>\n",
       "      <th>BusinessTravel</th>\n",
       "      <th>Department</th>\n",
       "      <th>DistanceFromHome</th>\n",
       "      <th>Education</th>\n",
       "      <th>EducationField</th>\n",
       "      <th>EmployeeNumber</th>\n",
       "      <th>EnvironmentSatisfaction</th>\n",
       "      <th>Gender</th>\n",
       "      <th>JobInvolvement</th>\n",
       "      <th>JobLevel</th>\n",
       "      <th>JobRole</th>\n",
       "      <th>JobSatisfaction</th>\n",
       "      <th>MaritalStatus</th>\n",
       "      <th>MonthlyIncome</th>\n",
       "      <th>NumCompaniesWorked</th>\n",
       "      <th>Over18</th>\n",
       "      <th>OverTime</th>\n",
       "      <th>PercentSalaryHike</th>\n",
       "      <th>PerformanceRating</th>\n",
       "      <th>RelationshipSatisfaction</th>\n",
       "      <th>StockOptionLevel</th>\n",
       "      <th>TotalWorkingYears</th>\n",
       "      <th>TrainingTimesLastYear</th>\n",
       "      <th>WorkLifeBalance</th>\n",
       "      <th>YearsAtCompany</th>\n",
       "      <th>YearsInCurrentRole</th>\n",
       "      <th>YearsSinceLastPromotion</th>\n",
       "      <th>YearsWithCurrManager</th>\n",
       "    </tr>\n",
       "  </thead>\n",
       "  <tbody>\n",
       "    <tr>\n",
       "      <th>0</th>\n",
       "      <td>41</td>\n",
       "      <td>Yes</td>\n",
       "      <td>Travel_Rarely</td>\n",
       "      <td>Sales</td>\n",
       "      <td>1</td>\n",
       "      <td>2</td>\n",
       "      <td>Life Sciences</td>\n",
       "      <td>1</td>\n",
       "      <td>2</td>\n",
       "      <td>Female</td>\n",
       "      <td>3</td>\n",
       "      <td>2</td>\n",
       "      <td>Sales Executive</td>\n",
       "      <td>4</td>\n",
       "      <td>Single</td>\n",
       "      <td>5993</td>\n",
       "      <td>8</td>\n",
       "      <td>Y</td>\n",
       "      <td>Yes</td>\n",
       "      <td>11</td>\n",
       "      <td>3</td>\n",
       "      <td>1</td>\n",
       "      <td>0</td>\n",
       "      <td>8</td>\n",
       "      <td>0</td>\n",
       "      <td>1</td>\n",
       "      <td>6</td>\n",
       "      <td>4</td>\n",
       "      <td>0</td>\n",
       "      <td>5</td>\n",
       "    </tr>\n",
       "    <tr>\n",
       "      <th>1</th>\n",
       "      <td>49</td>\n",
       "      <td>No</td>\n",
       "      <td>Travel_Frequently</td>\n",
       "      <td>Research &amp; Development</td>\n",
       "      <td>8</td>\n",
       "      <td>1</td>\n",
       "      <td>Life Sciences</td>\n",
       "      <td>2</td>\n",
       "      <td>3</td>\n",
       "      <td>Male</td>\n",
       "      <td>2</td>\n",
       "      <td>2</td>\n",
       "      <td>Research Scientist</td>\n",
       "      <td>2</td>\n",
       "      <td>Married</td>\n",
       "      <td>5130</td>\n",
       "      <td>1</td>\n",
       "      <td>Y</td>\n",
       "      <td>No</td>\n",
       "      <td>23</td>\n",
       "      <td>4</td>\n",
       "      <td>4</td>\n",
       "      <td>1</td>\n",
       "      <td>10</td>\n",
       "      <td>3</td>\n",
       "      <td>3</td>\n",
       "      <td>10</td>\n",
       "      <td>7</td>\n",
       "      <td>1</td>\n",
       "      <td>7</td>\n",
       "    </tr>\n",
       "    <tr>\n",
       "      <th>2</th>\n",
       "      <td>37</td>\n",
       "      <td>Yes</td>\n",
       "      <td>Travel_Rarely</td>\n",
       "      <td>Research &amp; Development</td>\n",
       "      <td>2</td>\n",
       "      <td>2</td>\n",
       "      <td>Other</td>\n",
       "      <td>4</td>\n",
       "      <td>4</td>\n",
       "      <td>Male</td>\n",
       "      <td>2</td>\n",
       "      <td>1</td>\n",
       "      <td>Laboratory Technician</td>\n",
       "      <td>3</td>\n",
       "      <td>Single</td>\n",
       "      <td>2090</td>\n",
       "      <td>6</td>\n",
       "      <td>Y</td>\n",
       "      <td>Yes</td>\n",
       "      <td>15</td>\n",
       "      <td>3</td>\n",
       "      <td>2</td>\n",
       "      <td>0</td>\n",
       "      <td>7</td>\n",
       "      <td>3</td>\n",
       "      <td>3</td>\n",
       "      <td>0</td>\n",
       "      <td>0</td>\n",
       "      <td>0</td>\n",
       "      <td>0</td>\n",
       "    </tr>\n",
       "    <tr>\n",
       "      <th>3</th>\n",
       "      <td>33</td>\n",
       "      <td>No</td>\n",
       "      <td>Travel_Frequently</td>\n",
       "      <td>Research &amp; Development</td>\n",
       "      <td>3</td>\n",
       "      <td>4</td>\n",
       "      <td>Life Sciences</td>\n",
       "      <td>5</td>\n",
       "      <td>4</td>\n",
       "      <td>Female</td>\n",
       "      <td>3</td>\n",
       "      <td>1</td>\n",
       "      <td>Research Scientist</td>\n",
       "      <td>3</td>\n",
       "      <td>Married</td>\n",
       "      <td>2909</td>\n",
       "      <td>1</td>\n",
       "      <td>Y</td>\n",
       "      <td>Yes</td>\n",
       "      <td>11</td>\n",
       "      <td>3</td>\n",
       "      <td>3</td>\n",
       "      <td>0</td>\n",
       "      <td>8</td>\n",
       "      <td>3</td>\n",
       "      <td>3</td>\n",
       "      <td>8</td>\n",
       "      <td>7</td>\n",
       "      <td>3</td>\n",
       "      <td>0</td>\n",
       "    </tr>\n",
       "    <tr>\n",
       "      <th>4</th>\n",
       "      <td>27</td>\n",
       "      <td>No</td>\n",
       "      <td>Travel_Rarely</td>\n",
       "      <td>Research &amp; Development</td>\n",
       "      <td>2</td>\n",
       "      <td>1</td>\n",
       "      <td>Medical</td>\n",
       "      <td>7</td>\n",
       "      <td>1</td>\n",
       "      <td>Male</td>\n",
       "      <td>3</td>\n",
       "      <td>1</td>\n",
       "      <td>Laboratory Technician</td>\n",
       "      <td>2</td>\n",
       "      <td>Married</td>\n",
       "      <td>3468</td>\n",
       "      <td>9</td>\n",
       "      <td>Y</td>\n",
       "      <td>No</td>\n",
       "      <td>12</td>\n",
       "      <td>3</td>\n",
       "      <td>4</td>\n",
       "      <td>1</td>\n",
       "      <td>6</td>\n",
       "      <td>3</td>\n",
       "      <td>3</td>\n",
       "      <td>2</td>\n",
       "      <td>2</td>\n",
       "      <td>2</td>\n",
       "      <td>2</td>\n",
       "    </tr>\n",
       "  </tbody>\n",
       "</table>\n",
       "</div>"
      ],
      "text/plain": [
       "   Age Attrition     BusinessTravel              Department  DistanceFromHome  \\\n",
       "0   41       Yes      Travel_Rarely                   Sales                 1   \n",
       "1   49        No  Travel_Frequently  Research & Development                 8   \n",
       "2   37       Yes      Travel_Rarely  Research & Development                 2   \n",
       "3   33        No  Travel_Frequently  Research & Development                 3   \n",
       "4   27        No      Travel_Rarely  Research & Development                 2   \n",
       "\n",
       "   Education EducationField  EmployeeNumber  EnvironmentSatisfaction  Gender  \\\n",
       "0          2  Life Sciences               1                        2  Female   \n",
       "1          1  Life Sciences               2                        3    Male   \n",
       "2          2          Other               4                        4    Male   \n",
       "3          4  Life Sciences               5                        4  Female   \n",
       "4          1        Medical               7                        1    Male   \n",
       "\n",
       "   JobInvolvement  JobLevel                JobRole  JobSatisfaction  \\\n",
       "0               3         2        Sales Executive                4   \n",
       "1               2         2     Research Scientist                2   \n",
       "2               2         1  Laboratory Technician                3   \n",
       "3               3         1     Research Scientist                3   \n",
       "4               3         1  Laboratory Technician                2   \n",
       "\n",
       "  MaritalStatus  MonthlyIncome  NumCompaniesWorked Over18 OverTime  \\\n",
       "0        Single           5993                   8      Y      Yes   \n",
       "1       Married           5130                   1      Y       No   \n",
       "2        Single           2090                   6      Y      Yes   \n",
       "3       Married           2909                   1      Y      Yes   \n",
       "4       Married           3468                   9      Y       No   \n",
       "\n",
       "   PercentSalaryHike  PerformanceRating  RelationshipSatisfaction  \\\n",
       "0                 11                  3                         1   \n",
       "1                 23                  4                         4   \n",
       "2                 15                  3                         2   \n",
       "3                 11                  3                         3   \n",
       "4                 12                  3                         4   \n",
       "\n",
       "   StockOptionLevel  TotalWorkingYears  TrainingTimesLastYear  \\\n",
       "0                 0                  8                      0   \n",
       "1                 1                 10                      3   \n",
       "2                 0                  7                      3   \n",
       "3                 0                  8                      3   \n",
       "4                 1                  6                      3   \n",
       "\n",
       "   WorkLifeBalance  YearsAtCompany  YearsInCurrentRole  \\\n",
       "0                1               6                   4   \n",
       "1                3              10                   7   \n",
       "2                3               0                   0   \n",
       "3                3               8                   7   \n",
       "4                3               2                   2   \n",
       "\n",
       "   YearsSinceLastPromotion  YearsWithCurrManager  \n",
       "0                        0                     5  \n",
       "1                        1                     7  \n",
       "2                        0                     0  \n",
       "3                        3                     0  \n",
       "4                        2                     2  "
      ]
     },
     "execution_count": 9,
     "metadata": {},
     "output_type": "execute_result"
    }
   ],
   "source": [
    "# Import data file\n",
    "\n",
    "df = pd.read_excel(\"IBM Employee Attrition.xlsx\")\n",
    "\n",
    "# Display all columns\n",
    "pd.set_option('display.max_columns', None)\n",
    "\n",
    "df.head()"
   ]
  },
  {
   "cell_type": "code",
   "execution_count": 10,
   "id": "2b24f25a",
   "metadata": {},
   "outputs": [
    {
     "name": "stdout",
     "output_type": "stream",
     "text": [
      "<class 'pandas.core.frame.DataFrame'>\n",
      "RangeIndex: 1470 entries, 0 to 1469\n",
      "Data columns (total 30 columns):\n",
      " #   Column                    Non-Null Count  Dtype \n",
      "---  ------                    --------------  ----- \n",
      " 0   Age                       1470 non-null   int64 \n",
      " 1   Attrition                 1470 non-null   object\n",
      " 2   BusinessTravel            1470 non-null   object\n",
      " 3   Department                1470 non-null   object\n",
      " 4   DistanceFromHome          1470 non-null   int64 \n",
      " 5   Education                 1470 non-null   int64 \n",
      " 6   EducationField            1470 non-null   object\n",
      " 7   EmployeeNumber            1470 non-null   int64 \n",
      " 8   EnvironmentSatisfaction   1470 non-null   int64 \n",
      " 9   Gender                    1470 non-null   object\n",
      " 10  JobInvolvement            1470 non-null   int64 \n",
      " 11  JobLevel                  1470 non-null   int64 \n",
      " 12  JobRole                   1470 non-null   object\n",
      " 13  JobSatisfaction           1470 non-null   int64 \n",
      " 14  MaritalStatus             1470 non-null   object\n",
      " 15  MonthlyIncome             1470 non-null   int64 \n",
      " 16  NumCompaniesWorked        1470 non-null   int64 \n",
      " 17  Over18                    1470 non-null   object\n",
      " 18  OverTime                  1470 non-null   object\n",
      " 19  PercentSalaryHike         1470 non-null   int64 \n",
      " 20  PerformanceRating         1470 non-null   int64 \n",
      " 21  RelationshipSatisfaction  1470 non-null   int64 \n",
      " 22  StockOptionLevel          1470 non-null   int64 \n",
      " 23  TotalWorkingYears         1470 non-null   int64 \n",
      " 24  TrainingTimesLastYear     1470 non-null   int64 \n",
      " 25  WorkLifeBalance           1470 non-null   int64 \n",
      " 26  YearsAtCompany            1470 non-null   int64 \n",
      " 27  YearsInCurrentRole        1470 non-null   int64 \n",
      " 28  YearsSinceLastPromotion   1470 non-null   int64 \n",
      " 29  YearsWithCurrManager      1470 non-null   int64 \n",
      "dtypes: int64(21), object(9)\n",
      "memory usage: 344.7+ KB\n"
     ]
    }
   ],
   "source": [
    "# Check to see what type of data, how much data\n",
    "\n",
    "df.info()"
   ]
  },
  {
   "cell_type": "code",
   "execution_count": 11,
   "id": "5e2d2ca1",
   "metadata": {},
   "outputs": [
    {
     "data": {
      "text/html": [
       "<div>\n",
       "<style scoped>\n",
       "    .dataframe tbody tr th:only-of-type {\n",
       "        vertical-align: middle;\n",
       "    }\n",
       "\n",
       "    .dataframe tbody tr th {\n",
       "        vertical-align: top;\n",
       "    }\n",
       "\n",
       "    .dataframe thead th {\n",
       "        text-align: right;\n",
       "    }\n",
       "</style>\n",
       "<table border=\"1\" class=\"dataframe\">\n",
       "  <thead>\n",
       "    <tr style=\"text-align: right;\">\n",
       "      <th></th>\n",
       "      <th>Age</th>\n",
       "      <th>Attrition</th>\n",
       "      <th>BusinessTravel</th>\n",
       "      <th>Department</th>\n",
       "      <th>DistanceFromHome</th>\n",
       "      <th>Education</th>\n",
       "      <th>EducationField</th>\n",
       "      <th>EmployeeNumber</th>\n",
       "      <th>EnvironmentSatisfaction</th>\n",
       "      <th>Gender</th>\n",
       "      <th>JobInvolvement</th>\n",
       "      <th>JobLevel</th>\n",
       "      <th>JobRole</th>\n",
       "      <th>JobSatisfaction</th>\n",
       "      <th>MaritalStatus</th>\n",
       "      <th>MonthlyIncome</th>\n",
       "      <th>NumCompaniesWorked</th>\n",
       "      <th>Over18</th>\n",
       "      <th>OverTime</th>\n",
       "      <th>PercentSalaryHike</th>\n",
       "      <th>PerformanceRating</th>\n",
       "      <th>RelationshipSatisfaction</th>\n",
       "      <th>StockOptionLevel</th>\n",
       "      <th>TotalWorkingYears</th>\n",
       "      <th>TrainingTimesLastYear</th>\n",
       "      <th>WorkLifeBalance</th>\n",
       "      <th>YearsAtCompany</th>\n",
       "      <th>YearsInCurrentRole</th>\n",
       "      <th>YearsSinceLastPromotion</th>\n",
       "      <th>YearsWithCurrManager</th>\n",
       "    </tr>\n",
       "  </thead>\n",
       "  <tbody>\n",
       "  </tbody>\n",
       "</table>\n",
       "</div>"
      ],
      "text/plain": [
       "Empty DataFrame\n",
       "Columns: [Age, Attrition, BusinessTravel, Department, DistanceFromHome, Education, EducationField, EmployeeNumber, EnvironmentSatisfaction, Gender, JobInvolvement, JobLevel, JobRole, JobSatisfaction, MaritalStatus, MonthlyIncome, NumCompaniesWorked, Over18, OverTime, PercentSalaryHike, PerformanceRating, RelationshipSatisfaction, StockOptionLevel, TotalWorkingYears, TrainingTimesLastYear, WorkLifeBalance, YearsAtCompany, YearsInCurrentRole, YearsSinceLastPromotion, YearsWithCurrManager]\n",
       "Index: []"
      ]
     },
     "execution_count": 11,
     "metadata": {},
     "output_type": "execute_result"
    }
   ],
   "source": [
    "# Look for duplicate rows\n",
    "\n",
    "df.loc[df.duplicated()]"
   ]
  },
  {
   "cell_type": "code",
   "execution_count": 12,
   "id": "a73070ee",
   "metadata": {},
   "outputs": [
    {
     "data": {
      "text/html": [
       "<div>\n",
       "<style scoped>\n",
       "    .dataframe tbody tr th:only-of-type {\n",
       "        vertical-align: middle;\n",
       "    }\n",
       "\n",
       "    .dataframe tbody tr th {\n",
       "        vertical-align: top;\n",
       "    }\n",
       "\n",
       "    .dataframe thead th {\n",
       "        text-align: right;\n",
       "    }\n",
       "</style>\n",
       "<table border=\"1\" class=\"dataframe\">\n",
       "  <thead>\n",
       "    <tr style=\"text-align: right;\">\n",
       "      <th></th>\n",
       "      <th>Age</th>\n",
       "      <th>DistanceFromHome</th>\n",
       "      <th>Education</th>\n",
       "      <th>EmployeeNumber</th>\n",
       "      <th>EnvironmentSatisfaction</th>\n",
       "      <th>JobInvolvement</th>\n",
       "      <th>JobLevel</th>\n",
       "      <th>JobSatisfaction</th>\n",
       "      <th>MonthlyIncome</th>\n",
       "      <th>NumCompaniesWorked</th>\n",
       "      <th>PercentSalaryHike</th>\n",
       "      <th>PerformanceRating</th>\n",
       "      <th>RelationshipSatisfaction</th>\n",
       "      <th>StockOptionLevel</th>\n",
       "      <th>TotalWorkingYears</th>\n",
       "      <th>TrainingTimesLastYear</th>\n",
       "      <th>WorkLifeBalance</th>\n",
       "      <th>YearsAtCompany</th>\n",
       "      <th>YearsInCurrentRole</th>\n",
       "      <th>YearsSinceLastPromotion</th>\n",
       "      <th>YearsWithCurrManager</th>\n",
       "    </tr>\n",
       "  </thead>\n",
       "  <tbody>\n",
       "    <tr>\n",
       "      <th>count</th>\n",
       "      <td>1470.000000</td>\n",
       "      <td>1470.000000</td>\n",
       "      <td>1470.000000</td>\n",
       "      <td>1470.000000</td>\n",
       "      <td>1470.000000</td>\n",
       "      <td>1470.000000</td>\n",
       "      <td>1470.000000</td>\n",
       "      <td>1470.000000</td>\n",
       "      <td>1470.000000</td>\n",
       "      <td>1470.000000</td>\n",
       "      <td>1470.000000</td>\n",
       "      <td>1470.000000</td>\n",
       "      <td>1470.000000</td>\n",
       "      <td>1470.000000</td>\n",
       "      <td>1470.000000</td>\n",
       "      <td>1470.000000</td>\n",
       "      <td>1470.000000</td>\n",
       "      <td>1470.000000</td>\n",
       "      <td>1470.000000</td>\n",
       "      <td>1470.000000</td>\n",
       "      <td>1470.000000</td>\n",
       "    </tr>\n",
       "    <tr>\n",
       "      <th>mean</th>\n",
       "      <td>36.923810</td>\n",
       "      <td>9.192517</td>\n",
       "      <td>2.912925</td>\n",
       "      <td>1024.865306</td>\n",
       "      <td>2.721769</td>\n",
       "      <td>2.729932</td>\n",
       "      <td>2.063946</td>\n",
       "      <td>2.728571</td>\n",
       "      <td>6502.931293</td>\n",
       "      <td>2.693197</td>\n",
       "      <td>15.209524</td>\n",
       "      <td>3.153741</td>\n",
       "      <td>2.712245</td>\n",
       "      <td>0.793878</td>\n",
       "      <td>11.279592</td>\n",
       "      <td>2.799320</td>\n",
       "      <td>2.761224</td>\n",
       "      <td>7.008163</td>\n",
       "      <td>4.229252</td>\n",
       "      <td>2.187755</td>\n",
       "      <td>4.123129</td>\n",
       "    </tr>\n",
       "    <tr>\n",
       "      <th>std</th>\n",
       "      <td>9.135373</td>\n",
       "      <td>8.106864</td>\n",
       "      <td>1.024165</td>\n",
       "      <td>602.024335</td>\n",
       "      <td>1.093082</td>\n",
       "      <td>0.711561</td>\n",
       "      <td>1.106940</td>\n",
       "      <td>1.102846</td>\n",
       "      <td>4707.956783</td>\n",
       "      <td>2.498009</td>\n",
       "      <td>3.659938</td>\n",
       "      <td>0.360824</td>\n",
       "      <td>1.081209</td>\n",
       "      <td>0.852077</td>\n",
       "      <td>7.780782</td>\n",
       "      <td>1.289271</td>\n",
       "      <td>0.706476</td>\n",
       "      <td>6.126525</td>\n",
       "      <td>3.623137</td>\n",
       "      <td>3.222430</td>\n",
       "      <td>3.568136</td>\n",
       "    </tr>\n",
       "    <tr>\n",
       "      <th>min</th>\n",
       "      <td>18.000000</td>\n",
       "      <td>1.000000</td>\n",
       "      <td>1.000000</td>\n",
       "      <td>1.000000</td>\n",
       "      <td>1.000000</td>\n",
       "      <td>1.000000</td>\n",
       "      <td>1.000000</td>\n",
       "      <td>1.000000</td>\n",
       "      <td>1009.000000</td>\n",
       "      <td>0.000000</td>\n",
       "      <td>11.000000</td>\n",
       "      <td>3.000000</td>\n",
       "      <td>1.000000</td>\n",
       "      <td>0.000000</td>\n",
       "      <td>0.000000</td>\n",
       "      <td>0.000000</td>\n",
       "      <td>1.000000</td>\n",
       "      <td>0.000000</td>\n",
       "      <td>0.000000</td>\n",
       "      <td>0.000000</td>\n",
       "      <td>0.000000</td>\n",
       "    </tr>\n",
       "    <tr>\n",
       "      <th>25%</th>\n",
       "      <td>30.000000</td>\n",
       "      <td>2.000000</td>\n",
       "      <td>2.000000</td>\n",
       "      <td>491.250000</td>\n",
       "      <td>2.000000</td>\n",
       "      <td>2.000000</td>\n",
       "      <td>1.000000</td>\n",
       "      <td>2.000000</td>\n",
       "      <td>2911.000000</td>\n",
       "      <td>1.000000</td>\n",
       "      <td>12.000000</td>\n",
       "      <td>3.000000</td>\n",
       "      <td>2.000000</td>\n",
       "      <td>0.000000</td>\n",
       "      <td>6.000000</td>\n",
       "      <td>2.000000</td>\n",
       "      <td>2.000000</td>\n",
       "      <td>3.000000</td>\n",
       "      <td>2.000000</td>\n",
       "      <td>0.000000</td>\n",
       "      <td>2.000000</td>\n",
       "    </tr>\n",
       "    <tr>\n",
       "      <th>50%</th>\n",
       "      <td>36.000000</td>\n",
       "      <td>7.000000</td>\n",
       "      <td>3.000000</td>\n",
       "      <td>1020.500000</td>\n",
       "      <td>3.000000</td>\n",
       "      <td>3.000000</td>\n",
       "      <td>2.000000</td>\n",
       "      <td>3.000000</td>\n",
       "      <td>4919.000000</td>\n",
       "      <td>2.000000</td>\n",
       "      <td>14.000000</td>\n",
       "      <td>3.000000</td>\n",
       "      <td>3.000000</td>\n",
       "      <td>1.000000</td>\n",
       "      <td>10.000000</td>\n",
       "      <td>3.000000</td>\n",
       "      <td>3.000000</td>\n",
       "      <td>5.000000</td>\n",
       "      <td>3.000000</td>\n",
       "      <td>1.000000</td>\n",
       "      <td>3.000000</td>\n",
       "    </tr>\n",
       "    <tr>\n",
       "      <th>75%</th>\n",
       "      <td>43.000000</td>\n",
       "      <td>14.000000</td>\n",
       "      <td>4.000000</td>\n",
       "      <td>1555.750000</td>\n",
       "      <td>4.000000</td>\n",
       "      <td>3.000000</td>\n",
       "      <td>3.000000</td>\n",
       "      <td>4.000000</td>\n",
       "      <td>8379.000000</td>\n",
       "      <td>4.000000</td>\n",
       "      <td>18.000000</td>\n",
       "      <td>3.000000</td>\n",
       "      <td>4.000000</td>\n",
       "      <td>1.000000</td>\n",
       "      <td>15.000000</td>\n",
       "      <td>3.000000</td>\n",
       "      <td>3.000000</td>\n",
       "      <td>9.000000</td>\n",
       "      <td>7.000000</td>\n",
       "      <td>3.000000</td>\n",
       "      <td>7.000000</td>\n",
       "    </tr>\n",
       "    <tr>\n",
       "      <th>max</th>\n",
       "      <td>60.000000</td>\n",
       "      <td>29.000000</td>\n",
       "      <td>5.000000</td>\n",
       "      <td>2068.000000</td>\n",
       "      <td>4.000000</td>\n",
       "      <td>4.000000</td>\n",
       "      <td>5.000000</td>\n",
       "      <td>4.000000</td>\n",
       "      <td>19999.000000</td>\n",
       "      <td>9.000000</td>\n",
       "      <td>25.000000</td>\n",
       "      <td>4.000000</td>\n",
       "      <td>4.000000</td>\n",
       "      <td>3.000000</td>\n",
       "      <td>40.000000</td>\n",
       "      <td>6.000000</td>\n",
       "      <td>4.000000</td>\n",
       "      <td>40.000000</td>\n",
       "      <td>18.000000</td>\n",
       "      <td>15.000000</td>\n",
       "      <td>17.000000</td>\n",
       "    </tr>\n",
       "  </tbody>\n",
       "</table>\n",
       "</div>"
      ],
      "text/plain": [
       "               Age  DistanceFromHome    Education  EmployeeNumber  \\\n",
       "count  1470.000000       1470.000000  1470.000000     1470.000000   \n",
       "mean     36.923810          9.192517     2.912925     1024.865306   \n",
       "std       9.135373          8.106864     1.024165      602.024335   \n",
       "min      18.000000          1.000000     1.000000        1.000000   \n",
       "25%      30.000000          2.000000     2.000000      491.250000   \n",
       "50%      36.000000          7.000000     3.000000     1020.500000   \n",
       "75%      43.000000         14.000000     4.000000     1555.750000   \n",
       "max      60.000000         29.000000     5.000000     2068.000000   \n",
       "\n",
       "       EnvironmentSatisfaction  JobInvolvement     JobLevel  JobSatisfaction  \\\n",
       "count              1470.000000     1470.000000  1470.000000      1470.000000   \n",
       "mean                  2.721769        2.729932     2.063946         2.728571   \n",
       "std                   1.093082        0.711561     1.106940         1.102846   \n",
       "min                   1.000000        1.000000     1.000000         1.000000   \n",
       "25%                   2.000000        2.000000     1.000000         2.000000   \n",
       "50%                   3.000000        3.000000     2.000000         3.000000   \n",
       "75%                   4.000000        3.000000     3.000000         4.000000   \n",
       "max                   4.000000        4.000000     5.000000         4.000000   \n",
       "\n",
       "       MonthlyIncome  NumCompaniesWorked  PercentSalaryHike  \\\n",
       "count    1470.000000         1470.000000        1470.000000   \n",
       "mean     6502.931293            2.693197          15.209524   \n",
       "std      4707.956783            2.498009           3.659938   \n",
       "min      1009.000000            0.000000          11.000000   \n",
       "25%      2911.000000            1.000000          12.000000   \n",
       "50%      4919.000000            2.000000          14.000000   \n",
       "75%      8379.000000            4.000000          18.000000   \n",
       "max     19999.000000            9.000000          25.000000   \n",
       "\n",
       "       PerformanceRating  RelationshipSatisfaction  StockOptionLevel  \\\n",
       "count        1470.000000               1470.000000       1470.000000   \n",
       "mean            3.153741                  2.712245          0.793878   \n",
       "std             0.360824                  1.081209          0.852077   \n",
       "min             3.000000                  1.000000          0.000000   \n",
       "25%             3.000000                  2.000000          0.000000   \n",
       "50%             3.000000                  3.000000          1.000000   \n",
       "75%             3.000000                  4.000000          1.000000   \n",
       "max             4.000000                  4.000000          3.000000   \n",
       "\n",
       "       TotalWorkingYears  TrainingTimesLastYear  WorkLifeBalance  \\\n",
       "count        1470.000000            1470.000000      1470.000000   \n",
       "mean           11.279592               2.799320         2.761224   \n",
       "std             7.780782               1.289271         0.706476   \n",
       "min             0.000000               0.000000         1.000000   \n",
       "25%             6.000000               2.000000         2.000000   \n",
       "50%            10.000000               3.000000         3.000000   \n",
       "75%            15.000000               3.000000         3.000000   \n",
       "max            40.000000               6.000000         4.000000   \n",
       "\n",
       "       YearsAtCompany  YearsInCurrentRole  YearsSinceLastPromotion  \\\n",
       "count     1470.000000         1470.000000              1470.000000   \n",
       "mean         7.008163            4.229252                 2.187755   \n",
       "std          6.126525            3.623137                 3.222430   \n",
       "min          0.000000            0.000000                 0.000000   \n",
       "25%          3.000000            2.000000                 0.000000   \n",
       "50%          5.000000            3.000000                 1.000000   \n",
       "75%          9.000000            7.000000                 3.000000   \n",
       "max         40.000000           18.000000                15.000000   \n",
       "\n",
       "       YearsWithCurrManager  \n",
       "count           1470.000000  \n",
       "mean               4.123129  \n",
       "std                3.568136  \n",
       "min                0.000000  \n",
       "25%                2.000000  \n",
       "50%                3.000000  \n",
       "75%                7.000000  \n",
       "max               17.000000  "
      ]
     },
     "execution_count": 12,
     "metadata": {},
     "output_type": "execute_result"
    }
   ],
   "source": [
    "# Find descriptive statistics, see if any fake info\n",
    "\n",
    "df.describe()\n",
    "\n",
    "# All looks good: categorical variables have appropriate min and max values, according to the scale given"
   ]
  },
  {
   "cell_type": "code",
   "execution_count": 46,
   "id": "252cd6fb",
   "metadata": {},
   "outputs": [
    {
     "data": {
      "text/plain": [
       "<AxesSubplot:xlabel='Age'>"
      ]
     },
     "execution_count": 46,
     "metadata": {},
     "output_type": "execute_result"
    },
    {
     "data": {
      "image/png": "[encoded data removed]",
      "text/plain": [
       "<Figure size 432x288 with 1 Axes>"
      ]
     },
     "metadata": {
      "needs_background": "light"
     },
     "output_type": "display_data"
    }
   ],
   "source": [
    "# Find outliers\n",
    "\n",
    "# 1. Age\n",
    "\n",
    "sns.boxplot(x = df[\"Age\"])\n",
    "\n",
    "# no outliers"
   ]
  },
  {
   "cell_type": "code",
   "execution_count": 47,
   "id": "df3f13c1",
   "metadata": {},
   "outputs": [
    {
     "data": {
      "text/plain": [
       "<AxesSubplot:xlabel='DistanceFromHome'>"
      ]
     },
     "execution_count": 47,
     "metadata": {},
     "output_type": "execute_result"
    },
    {
     "data": {
      "image/png": "[encoded data removed]",
      "text/plain": [
       "<Figure size 432x288 with 1 Axes>"
      ]
     },
     "metadata": {
      "needs_background": "light"
     },
     "output_type": "display_data"
    }
   ],
   "source": [
    "# 2. Distance from Home\n",
    "\n",
    "sns.boxplot(x = df[\"DistanceFromHome\"])\n",
    "\n",
    "# no outliers"
   ]
  },
  {
   "cell_type": "code",
   "execution_count": 48,
   "id": "1b3b7fe5",
   "metadata": {},
   "outputs": [
    {
     "data": {
      "text/plain": [
       "<AxesSubplot:xlabel='Education'>"
      ]
     },
     "execution_count": 48,
     "metadata": {},
     "output_type": "execute_result"
    },
    {
     "data": {
      "image/png": "[encoded data removed]",
      "text/plain": [
       "<Figure size 432x288 with 1 Axes>"
      ]
     },
     "metadata": {
      "needs_background": "light"
     },
     "output_type": "display_data"
    }
   ],
   "source": [
    "# 3. Education\n",
    "\n",
    "sns.boxplot(x = df[\"Education\"])\n",
    "\n",
    "# no outliers"
   ]
  },
  {
   "cell_type": "code",
   "execution_count": 50,
   "id": "e0dc84ef",
   "metadata": {},
   "outputs": [
    {
     "data": {
      "text/plain": [
       "<AxesSubplot:xlabel='MonthlyIncome'>"
      ]
     },
     "execution_count": 50,
     "metadata": {},
     "output_type": "execute_result"
    },
    {
     "data": {
      "image/png": "[encoded data removed]",
      "text/plain": [
       "<Figure size 432x288 with 1 Axes>"
      ]
     },
     "metadata": {
      "needs_background": "light"
     },
     "output_type": "display_data"
    }
   ],
   "source": [
    "# 4. Monthly Income\n",
    "\n",
    "sns.boxplot(x = df[\"MonthlyIncome\"])\n",
    "\n",
    "# many outliers"
   ]
  },
  {
   "cell_type": "code",
   "execution_count": 55,
   "id": "c5b77fa6",
   "metadata": {},
   "outputs": [
    {
     "data": {
      "text/plain": [
       "<AxesSubplot:xlabel='NumCompaniesWorked'>"
      ]
     },
     "execution_count": 55,
     "metadata": {},
     "output_type": "execute_result"
    },
    {
     "data": {
      "image/png": "[encoded data removed]",
      "text/plain": [
       "<Figure size 432x288 with 1 Axes>"
      ]
     },
     "metadata": {
      "needs_background": "light"
     },
     "output_type": "display_data"
    }
   ],
   "source": [
    "# 5. Number of Companies Worked\n",
    "\n",
    "sns.boxplot(x = df[\"NumCompaniesWorked\"])\n",
    "\n",
    "# There are outliers"
   ]
  },
  {
   "cell_type": "code",
   "execution_count": 59,
   "id": "876a6831",
   "metadata": {},
   "outputs": [
    {
     "data": {
      "text/plain": [
       "<AxesSubplot:xlabel='PercentSalaryHike'>"
      ]
     },
     "execution_count": 59,
     "metadata": {},
     "output_type": "execute_result"
    },
    {
     "data": {
      "image/png": "[encoded data removed]",
      "text/plain": [
       "<Figure size 432x288 with 1 Axes>"
      ]
     },
     "metadata": {
      "needs_background": "light"
     },
     "output_type": "display_data"
    }
   ],
   "source": [
    "# 6. Percent Salary Hike\n",
    "\n",
    "sns.boxplot(x = df[\"PercentSalaryHike\"])\n",
    "\n",
    "# There are no outliers"
   ]
  },
  {
   "cell_type": "code",
   "execution_count": 60,
   "id": "5ff5d10b",
   "metadata": {},
   "outputs": [
    {
     "data": {
      "text/plain": [
       "<AxesSubplot:xlabel='TotalWorkingYears'>"
      ]
     },
     "execution_count": 60,
     "metadata": {},
     "output_type": "execute_result"
    },
    {
     "data": {
      "image/png": "[encoded data removed]",
      "text/plain": [
       "<Figure size 432x288 with 1 Axes>"
      ]
     },
     "metadata": {
      "needs_background": "light"
     },
     "output_type": "display_data"
    }
   ],
   "source": [
    "# 7. Total Working Years\n",
    "\n",
    "sns.boxplot(x = df[\"TotalWorkingYears\"])\n",
    "\n",
    "# There are many outliers"
   ]
  },
  {
   "cell_type": "code",
   "execution_count": 63,
   "id": "24c1e6df",
   "metadata": {},
   "outputs": [
    {
     "data": {
      "text/plain": [
       "<AxesSubplot:xlabel='TrainingTimesLastYear'>"
      ]
     },
     "execution_count": 63,
     "metadata": {},
     "output_type": "execute_result"
    },
    {
     "data": {
      "image/png": "[encoded data removed]",
      "text/plain": [
       "<Figure size 432x288 with 1 Axes>"
      ]
     },
     "metadata": {
      "needs_background": "light"
     },
     "output_type": "display_data"
    }
   ],
   "source": [
    "# 8. Training Times Last Year\n",
    "\n",
    "sns.boxplot(x = df[\"TrainingTimesLastYear\"])\n",
    "\n",
    "# There are many outliers"
   ]
  },
  {
   "cell_type": "code",
   "execution_count": 66,
   "id": "ed7b619b",
   "metadata": {},
   "outputs": [
    {
     "data": {
      "text/plain": [
       "<AxesSubplot:xlabel='YearsAtCompany'>"
      ]
     },
     "execution_count": 66,
     "metadata": {},
     "output_type": "execute_result"
    },
    {
     "data": {
      "image/png": "[encoded data removed]",
      "text/plain": [
       "<Figure size 432x288 with 1 Axes>"
      ]
     },
     "metadata": {
      "needs_background": "light"
     },
     "output_type": "display_data"
    }
   ],
   "source": [
    "# 9. Years at Company\n",
    "\n",
    "sns.boxplot(x = df[\"YearsAtCompany\"])\n",
    "\n",
    "# There are many outliers"
   ]
  },
  {
   "cell_type": "code",
   "execution_count": 69,
   "id": "b88a5585",
   "metadata": {},
   "outputs": [
    {
     "data": {
      "text/plain": [
       "<AxesSubplot:xlabel='YearsInCurrentRole'>"
      ]
     },
     "execution_count": 69,
     "metadata": {},
     "output_type": "execute_result"
    },
    {
     "data": {
      "image/png": "[encoded data removed]",
      "text/plain": [
       "<Figure size 432x288 with 1 Axes>"
      ]
     },
     "metadata": {
      "needs_background": "light"
     },
     "output_type": "display_data"
    }
   ],
   "source": [
    "# 9. Years in Current Role\n",
    "\n",
    "sns.boxplot(x = df[\"YearsInCurrentRole\"])\n",
    "\n",
    "# There are many outliers"
   ]
  },
  {
   "cell_type": "code",
   "execution_count": null,
   "id": "29ab66f1",
   "metadata": {},
   "outputs": [],
   "source": []
  },
  {
   "cell_type": "code",
   "execution_count": 73,
   "id": "4285dae0",
   "metadata": {},
   "outputs": [
    {
     "data": {
      "text/html": [
       "<div>\n",
       "<style scoped>\n",
       "    .dataframe tbody tr th:only-of-type {\n",
       "        vertical-align: middle;\n",
       "    }\n",
       "\n",
       "    .dataframe tbody tr th {\n",
       "        vertical-align: top;\n",
       "    }\n",
       "\n",
       "    .dataframe thead th {\n",
       "        text-align: right;\n",
       "    }\n",
       "</style>\n",
       "<table border=\"1\" class=\"dataframe\">\n",
       "  <thead>\n",
       "    <tr style=\"text-align: right;\">\n",
       "      <th></th>\n",
       "      <th>Age</th>\n",
       "      <th>Attrition</th>\n",
       "      <th>BusinessTravel</th>\n",
       "      <th>Department</th>\n",
       "      <th>DistanceFromHome</th>\n",
       "      <th>Education</th>\n",
       "      <th>EducationField</th>\n",
       "      <th>EmployeeNumber</th>\n",
       "      <th>EnvironmentSatisfaction</th>\n",
       "      <th>Gender</th>\n",
       "      <th>JobInvolvement</th>\n",
       "      <th>JobLevel</th>\n",
       "      <th>JobRole</th>\n",
       "      <th>JobSatisfaction</th>\n",
       "      <th>MaritalStatus</th>\n",
       "      <th>MonthlyIncome</th>\n",
       "      <th>NumCompaniesWorked</th>\n",
       "      <th>Over18</th>\n",
       "      <th>OverTime</th>\n",
       "      <th>PercentSalaryHike</th>\n",
       "      <th>PerformanceRating</th>\n",
       "      <th>RelationshipSatisfaction</th>\n",
       "      <th>StockOptionLevel</th>\n",
       "      <th>TotalWorkingYears</th>\n",
       "      <th>TrainingTimesLastYear</th>\n",
       "      <th>WorkLifeBalance</th>\n",
       "      <th>YearsAtCompany</th>\n",
       "      <th>YearsInCurrentRole</th>\n",
       "      <th>YearsSinceLastPromotion</th>\n",
       "      <th>YearsWithCurrManager</th>\n",
       "    </tr>\n",
       "  </thead>\n",
       "  <tbody>\n",
       "    <tr>\n",
       "      <th>0</th>\n",
       "      <td>41</td>\n",
       "      <td>Yes</td>\n",
       "      <td>Travel_Rarely</td>\n",
       "      <td>Sales</td>\n",
       "      <td>1</td>\n",
       "      <td>2</td>\n",
       "      <td>Life Sciences</td>\n",
       "      <td>1</td>\n",
       "      <td>2</td>\n",
       "      <td>Female</td>\n",
       "      <td>3</td>\n",
       "      <td>2</td>\n",
       "      <td>Sales Executive</td>\n",
       "      <td>4</td>\n",
       "      <td>Single</td>\n",
       "      <td>5993</td>\n",
       "      <td>8</td>\n",
       "      <td>Y</td>\n",
       "      <td>Yes</td>\n",
       "      <td>11</td>\n",
       "      <td>3</td>\n",
       "      <td>1</td>\n",
       "      <td>0</td>\n",
       "      <td>8</td>\n",
       "      <td>0</td>\n",
       "      <td>1</td>\n",
       "      <td>6</td>\n",
       "      <td>4</td>\n",
       "      <td>0</td>\n",
       "      <td>5</td>\n",
       "    </tr>\n",
       "    <tr>\n",
       "      <th>1</th>\n",
       "      <td>49</td>\n",
       "      <td>No</td>\n",
       "      <td>Travel_Frequently</td>\n",
       "      <td>Research &amp; Development</td>\n",
       "      <td>8</td>\n",
       "      <td>1</td>\n",
       "      <td>Life Sciences</td>\n",
       "      <td>2</td>\n",
       "      <td>3</td>\n",
       "      <td>Male</td>\n",
       "      <td>2</td>\n",
       "      <td>2</td>\n",
       "      <td>Research Scientist</td>\n",
       "      <td>2</td>\n",
       "      <td>Married</td>\n",
       "      <td>5130</td>\n",
       "      <td>1</td>\n",
       "      <td>Y</td>\n",
       "      <td>No</td>\n",
       "      <td>23</td>\n",
       "      <td>4</td>\n",
       "      <td>4</td>\n",
       "      <td>1</td>\n",
       "      <td>10</td>\n",
       "      <td>3</td>\n",
       "      <td>3</td>\n",
       "      <td>10</td>\n",
       "      <td>7</td>\n",
       "      <td>1</td>\n",
       "      <td>7</td>\n",
       "    </tr>\n",
       "    <tr>\n",
       "      <th>2</th>\n",
       "      <td>37</td>\n",
       "      <td>Yes</td>\n",
       "      <td>Travel_Rarely</td>\n",
       "      <td>Research &amp; Development</td>\n",
       "      <td>2</td>\n",
       "      <td>2</td>\n",
       "      <td>Other</td>\n",
       "      <td>4</td>\n",
       "      <td>4</td>\n",
       "      <td>Male</td>\n",
       "      <td>2</td>\n",
       "      <td>1</td>\n",
       "      <td>Laboratory Technician</td>\n",
       "      <td>3</td>\n",
       "      <td>Single</td>\n",
       "      <td>2090</td>\n",
       "      <td>6</td>\n",
       "      <td>Y</td>\n",
       "      <td>Yes</td>\n",
       "      <td>15</td>\n",
       "      <td>3</td>\n",
       "      <td>2</td>\n",
       "      <td>0</td>\n",
       "      <td>7</td>\n",
       "      <td>3</td>\n",
       "      <td>3</td>\n",
       "      <td>0</td>\n",
       "      <td>0</td>\n",
       "      <td>0</td>\n",
       "      <td>0</td>\n",
       "    </tr>\n",
       "    <tr>\n",
       "      <th>3</th>\n",
       "      <td>33</td>\n",
       "      <td>No</td>\n",
       "      <td>Travel_Frequently</td>\n",
       "      <td>Research &amp; Development</td>\n",
       "      <td>3</td>\n",
       "      <td>4</td>\n",
       "      <td>Life Sciences</td>\n",
       "      <td>5</td>\n",
       "      <td>4</td>\n",
       "      <td>Female</td>\n",
       "      <td>3</td>\n",
       "      <td>1</td>\n",
       "      <td>Research Scientist</td>\n",
       "      <td>3</td>\n",
       "      <td>Married</td>\n",
       "      <td>2909</td>\n",
       "      <td>1</td>\n",
       "      <td>Y</td>\n",
       "      <td>Yes</td>\n",
       "      <td>11</td>\n",
       "      <td>3</td>\n",
       "      <td>3</td>\n",
       "      <td>0</td>\n",
       "      <td>8</td>\n",
       "      <td>3</td>\n",
       "      <td>3</td>\n",
       "      <td>8</td>\n",
       "      <td>7</td>\n",
       "      <td>3</td>\n",
       "      <td>0</td>\n",
       "    </tr>\n",
       "    <tr>\n",
       "      <th>4</th>\n",
       "      <td>27</td>\n",
       "      <td>No</td>\n",
       "      <td>Travel_Rarely</td>\n",
       "      <td>Research &amp; Development</td>\n",
       "      <td>2</td>\n",
       "      <td>1</td>\n",
       "      <td>Medical</td>\n",
       "      <td>7</td>\n",
       "      <td>1</td>\n",
       "      <td>Male</td>\n",
       "      <td>3</td>\n",
       "      <td>1</td>\n",
       "      <td>Laboratory Technician</td>\n",
       "      <td>2</td>\n",
       "      <td>Married</td>\n",
       "      <td>3468</td>\n",
       "      <td>9</td>\n",
       "      <td>Y</td>\n",
       "      <td>No</td>\n",
       "      <td>12</td>\n",
       "      <td>3</td>\n",
       "      <td>4</td>\n",
       "      <td>1</td>\n",
       "      <td>6</td>\n",
       "      <td>3</td>\n",
       "      <td>3</td>\n",
       "      <td>2</td>\n",
       "      <td>2</td>\n",
       "      <td>2</td>\n",
       "      <td>2</td>\n",
       "    </tr>\n",
       "  </tbody>\n",
       "</table>\n",
       "</div>"
      ],
      "text/plain": [
       "   Age Attrition     BusinessTravel              Department  DistanceFromHome  \\\n",
       "0   41       Yes      Travel_Rarely                   Sales                 1   \n",
       "1   49        No  Travel_Frequently  Research & Development                 8   \n",
       "2   37       Yes      Travel_Rarely  Research & Development                 2   \n",
       "3   33        No  Travel_Frequently  Research & Development                 3   \n",
       "4   27        No      Travel_Rarely  Research & Development                 2   \n",
       "\n",
       "   Education EducationField  EmployeeNumber  EnvironmentSatisfaction  Gender  \\\n",
       "0          2  Life Sciences               1                        2  Female   \n",
       "1          1  Life Sciences               2                        3    Male   \n",
       "2          2          Other               4                        4    Male   \n",
       "3          4  Life Sciences               5                        4  Female   \n",
       "4          1        Medical               7                        1    Male   \n",
       "\n",
       "   JobInvolvement  JobLevel                JobRole  JobSatisfaction  \\\n",
       "0               3         2        Sales Executive                4   \n",
       "1               2         2     Research Scientist                2   \n",
       "2               2         1  Laboratory Technician                3   \n",
       "3               3         1     Research Scientist                3   \n",
       "4               3         1  Laboratory Technician                2   \n",
       "\n",
       "  MaritalStatus  MonthlyIncome  NumCompaniesWorked Over18 OverTime  \\\n",
       "0        Single           5993                   8      Y      Yes   \n",
       "1       Married           5130                   1      Y       No   \n",
       "2        Single           2090                   6      Y      Yes   \n",
       "3       Married           2909                   1      Y      Yes   \n",
       "4       Married           3468                   9      Y       No   \n",
       "\n",
       "   PercentSalaryHike  PerformanceRating  RelationshipSatisfaction  \\\n",
       "0                 11                  3                         1   \n",
       "1                 23                  4                         4   \n",
       "2                 15                  3                         2   \n",
       "3                 11                  3                         3   \n",
       "4                 12                  3                         4   \n",
       "\n",
       "   StockOptionLevel  TotalWorkingYears  TrainingTimesLastYear  \\\n",
       "0                 0                  8                      0   \n",
       "1                 1                 10                      3   \n",
       "2                 0                  7                      3   \n",
       "3                 0                  8                      3   \n",
       "4                 1                  6                      3   \n",
       "\n",
       "   WorkLifeBalance  YearsAtCompany  YearsInCurrentRole  \\\n",
       "0                1               6                   4   \n",
       "1                3              10                   7   \n",
       "2                3               0                   0   \n",
       "3                3               8                   7   \n",
       "4                3               2                   2   \n",
       "\n",
       "   YearsSinceLastPromotion  YearsWithCurrManager  \n",
       "0                        0                     5  \n",
       "1                        1                     7  \n",
       "2                        0                     0  \n",
       "3                        3                     0  \n",
       "4                        2                     2  "
      ]
     },
     "execution_count": 73,
     "metadata": {},
     "output_type": "execute_result"
    }
   ],
   "source": [
    "# Make a copy of the dataset before removing outliers\n",
    "df3 = df.copy()\n",
    "\n",
    "df3.head()"
   ]
  },
  {
   "cell_type": "code",
   "execution_count": 80,
   "id": "b6b2151c",
   "metadata": {},
   "outputs": [],
   "source": [
    "# Use z-scores to find and remove outliers in monthly income\n",
    "\n",
    "# To create a new column with z-scores\n",
    "\n",
    "import scipy.stats as stats\n",
    "\n",
    "df3[\"zscoreMnthInc\"] = np.abs(stats.zscore(df3[\"MonthlyIncome\"]))"
   ]
  },
  {
   "cell_type": "code",
   "execution_count": 81,
   "id": "7f95c5f1",
   "metadata": {},
   "outputs": [
    {
     "data": {
      "text/html": [
       "<div>\n",
       "<style scoped>\n",
       "    .dataframe tbody tr th:only-of-type {\n",
       "        vertical-align: middle;\n",
       "    }\n",
       "\n",
       "    .dataframe tbody tr th {\n",
       "        vertical-align: top;\n",
       "    }\n",
       "\n",
       "    .dataframe thead th {\n",
       "        text-align: right;\n",
       "    }\n",
       "</style>\n",
       "<table border=\"1\" class=\"dataframe\">\n",
       "  <thead>\n",
       "    <tr style=\"text-align: right;\">\n",
       "      <th></th>\n",
       "      <th>Age</th>\n",
       "      <th>Attrition</th>\n",
       "      <th>BusinessTravel</th>\n",
       "      <th>Department</th>\n",
       "      <th>DistanceFromHome</th>\n",
       "      <th>Education</th>\n",
       "      <th>EducationField</th>\n",
       "      <th>EmployeeNumber</th>\n",
       "      <th>EnvironmentSatisfaction</th>\n",
       "      <th>Gender</th>\n",
       "      <th>JobInvolvement</th>\n",
       "      <th>JobLevel</th>\n",
       "      <th>JobRole</th>\n",
       "      <th>JobSatisfaction</th>\n",
       "      <th>MaritalStatus</th>\n",
       "      <th>MonthlyIncome</th>\n",
       "      <th>NumCompaniesWorked</th>\n",
       "      <th>Over18</th>\n",
       "      <th>OverTime</th>\n",
       "      <th>PercentSalaryHike</th>\n",
       "      <th>PerformanceRating</th>\n",
       "      <th>RelationshipSatisfaction</th>\n",
       "      <th>StockOptionLevel</th>\n",
       "      <th>TotalWorkingYears</th>\n",
       "      <th>TrainingTimesLastYear</th>\n",
       "      <th>WorkLifeBalance</th>\n",
       "      <th>YearsAtCompany</th>\n",
       "      <th>YearsInCurrentRole</th>\n",
       "      <th>YearsSinceLastPromotion</th>\n",
       "      <th>YearsWithCurrManager</th>\n",
       "      <th>zscoreMnthInc</th>\n",
       "    </tr>\n",
       "  </thead>\n",
       "  <tbody>\n",
       "    <tr>\n",
       "      <th>0</th>\n",
       "      <td>41</td>\n",
       "      <td>Yes</td>\n",
       "      <td>Travel_Rarely</td>\n",
       "      <td>Sales</td>\n",
       "      <td>1</td>\n",
       "      <td>2</td>\n",
       "      <td>Life Sciences</td>\n",
       "      <td>1</td>\n",
       "      <td>2</td>\n",
       "      <td>Female</td>\n",
       "      <td>3</td>\n",
       "      <td>2</td>\n",
       "      <td>Sales Executive</td>\n",
       "      <td>4</td>\n",
       "      <td>Single</td>\n",
       "      <td>5993</td>\n",
       "      <td>8</td>\n",
       "      <td>Y</td>\n",
       "      <td>Yes</td>\n",
       "      <td>11</td>\n",
       "      <td>3</td>\n",
       "      <td>1</td>\n",
       "      <td>0</td>\n",
       "      <td>8</td>\n",
       "      <td>0</td>\n",
       "      <td>1</td>\n",
       "      <td>6</td>\n",
       "      <td>4</td>\n",
       "      <td>0</td>\n",
       "      <td>5</td>\n",
       "      <td>0.108350</td>\n",
       "    </tr>\n",
       "    <tr>\n",
       "      <th>1</th>\n",
       "      <td>49</td>\n",
       "      <td>No</td>\n",
       "      <td>Travel_Frequently</td>\n",
       "      <td>Research &amp; Development</td>\n",
       "      <td>8</td>\n",
       "      <td>1</td>\n",
       "      <td>Life Sciences</td>\n",
       "      <td>2</td>\n",
       "      <td>3</td>\n",
       "      <td>Male</td>\n",
       "      <td>2</td>\n",
       "      <td>2</td>\n",
       "      <td>Research Scientist</td>\n",
       "      <td>2</td>\n",
       "      <td>Married</td>\n",
       "      <td>5130</td>\n",
       "      <td>1</td>\n",
       "      <td>Y</td>\n",
       "      <td>No</td>\n",
       "      <td>23</td>\n",
       "      <td>4</td>\n",
       "      <td>4</td>\n",
       "      <td>1</td>\n",
       "      <td>10</td>\n",
       "      <td>3</td>\n",
       "      <td>3</td>\n",
       "      <td>10</td>\n",
       "      <td>7</td>\n",
       "      <td>1</td>\n",
       "      <td>7</td>\n",
       "      <td>0.291719</td>\n",
       "    </tr>\n",
       "    <tr>\n",
       "      <th>2</th>\n",
       "      <td>37</td>\n",
       "      <td>Yes</td>\n",
       "      <td>Travel_Rarely</td>\n",
       "      <td>Research &amp; Development</td>\n",
       "      <td>2</td>\n",
       "      <td>2</td>\n",
       "      <td>Other</td>\n",
       "      <td>4</td>\n",
       "      <td>4</td>\n",
       "      <td>Male</td>\n",
       "      <td>2</td>\n",
       "      <td>1</td>\n",
       "      <td>Laboratory Technician</td>\n",
       "      <td>3</td>\n",
       "      <td>Single</td>\n",
       "      <td>2090</td>\n",
       "      <td>6</td>\n",
       "      <td>Y</td>\n",
       "      <td>Yes</td>\n",
       "      <td>15</td>\n",
       "      <td>3</td>\n",
       "      <td>2</td>\n",
       "      <td>0</td>\n",
       "      <td>7</td>\n",
       "      <td>3</td>\n",
       "      <td>3</td>\n",
       "      <td>0</td>\n",
       "      <td>0</td>\n",
       "      <td>0</td>\n",
       "      <td>0</td>\n",
       "      <td>0.937654</td>\n",
       "    </tr>\n",
       "    <tr>\n",
       "      <th>3</th>\n",
       "      <td>33</td>\n",
       "      <td>No</td>\n",
       "      <td>Travel_Frequently</td>\n",
       "      <td>Research &amp; Development</td>\n",
       "      <td>3</td>\n",
       "      <td>4</td>\n",
       "      <td>Life Sciences</td>\n",
       "      <td>5</td>\n",
       "      <td>4</td>\n",
       "      <td>Female</td>\n",
       "      <td>3</td>\n",
       "      <td>1</td>\n",
       "      <td>Research Scientist</td>\n",
       "      <td>3</td>\n",
       "      <td>Married</td>\n",
       "      <td>2909</td>\n",
       "      <td>1</td>\n",
       "      <td>Y</td>\n",
       "      <td>Yes</td>\n",
       "      <td>11</td>\n",
       "      <td>3</td>\n",
       "      <td>3</td>\n",
       "      <td>0</td>\n",
       "      <td>8</td>\n",
       "      <td>3</td>\n",
       "      <td>3</td>\n",
       "      <td>8</td>\n",
       "      <td>7</td>\n",
       "      <td>3</td>\n",
       "      <td>0</td>\n",
       "      <td>0.763634</td>\n",
       "    </tr>\n",
       "    <tr>\n",
       "      <th>4</th>\n",
       "      <td>27</td>\n",
       "      <td>No</td>\n",
       "      <td>Travel_Rarely</td>\n",
       "      <td>Research &amp; Development</td>\n",
       "      <td>2</td>\n",
       "      <td>1</td>\n",
       "      <td>Medical</td>\n",
       "      <td>7</td>\n",
       "      <td>1</td>\n",
       "      <td>Male</td>\n",
       "      <td>3</td>\n",
       "      <td>1</td>\n",
       "      <td>Laboratory Technician</td>\n",
       "      <td>2</td>\n",
       "      <td>Married</td>\n",
       "      <td>3468</td>\n",
       "      <td>9</td>\n",
       "      <td>Y</td>\n",
       "      <td>No</td>\n",
       "      <td>12</td>\n",
       "      <td>3</td>\n",
       "      <td>4</td>\n",
       "      <td>1</td>\n",
       "      <td>6</td>\n",
       "      <td>3</td>\n",
       "      <td>3</td>\n",
       "      <td>2</td>\n",
       "      <td>2</td>\n",
       "      <td>2</td>\n",
       "      <td>2</td>\n",
       "      <td>0.644858</td>\n",
       "    </tr>\n",
       "  </tbody>\n",
       "</table>\n",
       "</div>"
      ],
      "text/plain": [
       "   Age Attrition     BusinessTravel              Department  DistanceFromHome  \\\n",
       "0   41       Yes      Travel_Rarely                   Sales                 1   \n",
       "1   49        No  Travel_Frequently  Research & Development                 8   \n",
       "2   37       Yes      Travel_Rarely  Research & Development                 2   \n",
       "3   33        No  Travel_Frequently  Research & Development                 3   \n",
       "4   27        No      Travel_Rarely  Research & Development                 2   \n",
       "\n",
       "   Education EducationField  EmployeeNumber  EnvironmentSatisfaction  Gender  \\\n",
       "0          2  Life Sciences               1                        2  Female   \n",
       "1          1  Life Sciences               2                        3    Male   \n",
       "2          2          Other               4                        4    Male   \n",
       "3          4  Life Sciences               5                        4  Female   \n",
       "4          1        Medical               7                        1    Male   \n",
       "\n",
       "   JobInvolvement  JobLevel                JobRole  JobSatisfaction  \\\n",
       "0               3         2        Sales Executive                4   \n",
       "1               2         2     Research Scientist                2   \n",
       "2               2         1  Laboratory Technician                3   \n",
       "3               3         1     Research Scientist                3   \n",
       "4               3         1  Laboratory Technician                2   \n",
       "\n",
       "  MaritalStatus  MonthlyIncome  NumCompaniesWorked Over18 OverTime  \\\n",
       "0        Single           5993                   8      Y      Yes   \n",
       "1       Married           5130                   1      Y       No   \n",
       "2        Single           2090                   6      Y      Yes   \n",
       "3       Married           2909                   1      Y      Yes   \n",
       "4       Married           3468                   9      Y       No   \n",
       "\n",
       "   PercentSalaryHike  PerformanceRating  RelationshipSatisfaction  \\\n",
       "0                 11                  3                         1   \n",
       "1                 23                  4                         4   \n",
       "2                 15                  3                         2   \n",
       "3                 11                  3                         3   \n",
       "4                 12                  3                         4   \n",
       "\n",
       "   StockOptionLevel  TotalWorkingYears  TrainingTimesLastYear  \\\n",
       "0                 0                  8                      0   \n",
       "1                 1                 10                      3   \n",
       "2                 0                  7                      3   \n",
       "3                 0                  8                      3   \n",
       "4                 1                  6                      3   \n",
       "\n",
       "   WorkLifeBalance  YearsAtCompany  YearsInCurrentRole  \\\n",
       "0                1               6                   4   \n",
       "1                3              10                   7   \n",
       "2                3               0                   0   \n",
       "3                3               8                   7   \n",
       "4                3               2                   2   \n",
       "\n",
       "   YearsSinceLastPromotion  YearsWithCurrManager  zscoreMnthInc  \n",
       "0                        0                     5       0.108350  \n",
       "1                        1                     7       0.291719  \n",
       "2                        0                     0       0.937654  \n",
       "3                        3                     0       0.763634  \n",
       "4                        2                     2       0.644858  "
      ]
     },
     "execution_count": 81,
     "metadata": {},
     "output_type": "execute_result"
    }
   ],
   "source": [
    "df3.head()"
   ]
  },
  {
   "cell_type": "code",
   "execution_count": 86,
   "id": "c100f373",
   "metadata": {},
   "outputs": [
    {
     "data": {
      "text/html": [
       "<div>\n",
       "<style scoped>\n",
       "    .dataframe tbody tr th:only-of-type {\n",
       "        vertical-align: middle;\n",
       "    }\n",
       "\n",
       "    .dataframe tbody tr th {\n",
       "        vertical-align: top;\n",
       "    }\n",
       "\n",
       "    .dataframe thead th {\n",
       "        text-align: right;\n",
       "    }\n",
       "</style>\n",
       "<table border=\"1\" class=\"dataframe\">\n",
       "  <thead>\n",
       "    <tr style=\"text-align: right;\">\n",
       "      <th></th>\n",
       "      <th>Age</th>\n",
       "      <th>Attrition</th>\n",
       "      <th>BusinessTravel</th>\n",
       "      <th>Department</th>\n",
       "      <th>DistanceFromHome</th>\n",
       "      <th>Education</th>\n",
       "      <th>EducationField</th>\n",
       "      <th>EmployeeNumber</th>\n",
       "      <th>EnvironmentSatisfaction</th>\n",
       "      <th>Gender</th>\n",
       "      <th>JobInvolvement</th>\n",
       "      <th>JobLevel</th>\n",
       "      <th>JobRole</th>\n",
       "      <th>JobSatisfaction</th>\n",
       "      <th>MaritalStatus</th>\n",
       "      <th>MonthlyIncome</th>\n",
       "      <th>NumCompaniesWorked</th>\n",
       "      <th>Over18</th>\n",
       "      <th>OverTime</th>\n",
       "      <th>PercentSalaryHike</th>\n",
       "      <th>PerformanceRating</th>\n",
       "      <th>RelationshipSatisfaction</th>\n",
       "      <th>StockOptionLevel</th>\n",
       "      <th>TotalWorkingYears</th>\n",
       "      <th>TrainingTimesLastYear</th>\n",
       "      <th>WorkLifeBalance</th>\n",
       "      <th>YearsAtCompany</th>\n",
       "      <th>YearsInCurrentRole</th>\n",
       "      <th>YearsSinceLastPromotion</th>\n",
       "      <th>YearsWithCurrManager</th>\n",
       "      <th>zscoreMnthInc</th>\n",
       "    </tr>\n",
       "  </thead>\n",
       "  <tbody>\n",
       "  </tbody>\n",
       "</table>\n",
       "</div>"
      ],
      "text/plain": [
       "Empty DataFrame\n",
       "Columns: [Age, Attrition, BusinessTravel, Department, DistanceFromHome, Education, EducationField, EmployeeNumber, EnvironmentSatisfaction, Gender, JobInvolvement, JobLevel, JobRole, JobSatisfaction, MaritalStatus, MonthlyIncome, NumCompaniesWorked, Over18, OverTime, PercentSalaryHike, PerformanceRating, RelationshipSatisfaction, StockOptionLevel, TotalWorkingYears, TrainingTimesLastYear, WorkLifeBalance, YearsAtCompany, YearsInCurrentRole, YearsSinceLastPromotion, YearsWithCurrManager, zscoreMnthInc]\n",
       "Index: []"
      ]
     },
     "execution_count": 86,
     "metadata": {},
     "output_type": "execute_result"
    }
   ],
   "source": [
    "# To find the z-score outliers\n",
    "df3.loc[df3[\"zscoreMnthInc\"] > 3]\n",
    "\n",
    "#To drop the outliers\n",
    "## df3.drop(np.abs(stats.zscore(df3[\"MonthlyIncome\"])) > 3)"
   ]
  },
  {
   "cell_type": "code",
   "execution_count": 88,
   "id": "fd8fad9c",
   "metadata": {},
   "outputs": [
    {
     "ename": "ValueError",
     "evalue": "The truth value of a Series is ambiguous. Use a.empty, a.bool(), a.item(), a.any() or a.all().",
     "output_type": "error",
     "traceback": [
      "\u001b[1;31m---------------------------------------------------------------------------\u001b[0m",
      "\u001b[1;31mValueError\u001b[0m                                Traceback (most recent call last)",
      "\u001b[1;32mC:\\Users\\RVHU32~1\\AppData\\Local\\Temp/ipykernel_4348/1351861020.py\u001b[0m in \u001b[0;36m<module>\u001b[1;34m\u001b[0m\n\u001b[0;32m      2\u001b[0m \u001b[0mlen\u001b[0m\u001b[1;33m(\u001b[0m\u001b[0mcols\u001b[0m\u001b[1;33m)\u001b[0m\u001b[1;33m\u001b[0m\u001b[1;33m\u001b[0m\u001b[0m\n\u001b[0;32m      3\u001b[0m \u001b[1;32mfor\u001b[0m \u001b[0mi\u001b[0m \u001b[1;32min\u001b[0m \u001b[0mrange\u001b[0m\u001b[1;33m(\u001b[0m\u001b[1;36m31\u001b[0m\u001b[1;33m)\u001b[0m\u001b[1;33m:\u001b[0m\u001b[1;33m\u001b[0m\u001b[1;33m\u001b[0m\u001b[0m\n\u001b[1;32m----> 4\u001b[1;33m     \u001b[1;32mif\u001b[0m \u001b[0mdf3\u001b[0m\u001b[1;33m.\u001b[0m\u001b[0miloc\u001b[0m\u001b[1;33m[\u001b[0m\u001b[1;33m:\u001b[0m\u001b[1;33m,\u001b[0m \u001b[0mi\u001b[0m\u001b[1;33m]\u001b[0m \u001b[1;33m==\u001b[0m \u001b[1;34m\"int64\"\u001b[0m\u001b[1;33m:\u001b[0m\u001b[1;33m\u001b[0m\u001b[1;33m\u001b[0m\u001b[0m\n\u001b[0m\u001b[0;32m      5\u001b[0m         \u001b[0mprint\u001b[0m\u001b[1;33m(\u001b[0m\u001b[1;34m\"integer\"\u001b[0m\u001b[1;33m)\u001b[0m\u001b[1;33m\u001b[0m\u001b[1;33m\u001b[0m\u001b[0m\n\u001b[0;32m      6\u001b[0m     \u001b[1;32melif\u001b[0m \u001b[0mdf3\u001b[0m\u001b[1;33m.\u001b[0m\u001b[0miloc\u001b[0m\u001b[1;33m[\u001b[0m\u001b[1;33m:\u001b[0m\u001b[1;33m,\u001b[0m \u001b[0mi\u001b[0m\u001b[1;33m]\u001b[0m \u001b[1;33m==\u001b[0m \u001b[1;34m\"float64\"\u001b[0m\u001b[1;33m:\u001b[0m\u001b[1;33m\u001b[0m\u001b[1;33m\u001b[0m\u001b[0m\n",
      "\u001b[1;32mC:\\ProgramData\\Anaconda3\\lib\\site-packages\\pandas\\core\\generic.py\u001b[0m in \u001b[0;36m__nonzero__\u001b[1;34m(self)\u001b[0m\n\u001b[0;32m   1535\u001b[0m     \u001b[1;33m@\u001b[0m\u001b[0mfinal\u001b[0m\u001b[1;33m\u001b[0m\u001b[1;33m\u001b[0m\u001b[0m\n\u001b[0;32m   1536\u001b[0m     \u001b[1;32mdef\u001b[0m \u001b[0m__nonzero__\u001b[0m\u001b[1;33m(\u001b[0m\u001b[0mself\u001b[0m\u001b[1;33m)\u001b[0m\u001b[1;33m:\u001b[0m\u001b[1;33m\u001b[0m\u001b[1;33m\u001b[0m\u001b[0m\n\u001b[1;32m-> 1537\u001b[1;33m         raise ValueError(\n\u001b[0m\u001b[0;32m   1538\u001b[0m             \u001b[1;34mf\"The truth value of a {type(self).__name__} is ambiguous. \"\u001b[0m\u001b[1;33m\u001b[0m\u001b[1;33m\u001b[0m\u001b[0m\n\u001b[0;32m   1539\u001b[0m             \u001b[1;34m\"Use a.empty, a.bool(), a.item(), a.any() or a.all().\"\u001b[0m\u001b[1;33m\u001b[0m\u001b[1;33m\u001b[0m\u001b[0m\n",
      "\u001b[1;31mValueError\u001b[0m: The truth value of a Series is ambiguous. Use a.empty, a.bool(), a.item(), a.any() or a.all()."
     ]
    }
   ],
   "source": [
    "cols = df3.columns\n",
    "len(cols)\n",
    "for i in range(31):\n",
    "    if df3.iloc[:, i] == \"int64\":\n",
    "        print(\"integer\")\n",
    "    elif df3.iloc[:, i] == \"float64\":\n",
    "        print(\"float\")\n",
    "    else:\n",
    "        print (\"TRASH\")"
   ]
  },
  {
   "cell_type": "code",
   "execution_count": 53,
   "id": "1ae33906",
   "metadata": {},
   "outputs": [
    {
     "name": "stdout",
     "output_type": "stream",
     "text": [
      "The lower outlier limit for monthly income is:  -5291.0\n",
      "The upper outlier limit for monthly income is:  16581.0\n",
      "Int64Index([  25,   29,   45,   62,  105,  106,  112,  119,  123,  147,\n",
      "            ...\n",
      "            1277, 1330, 1331, 1348, 1351, 1374, 1377, 1401, 1437, 1443],\n",
      "           dtype='int64', length=114)\n"
     ]
    }
   ],
   "source": [
    "# Remove income outliers\n",
    "\n",
    "# determine IQR and outliers of income column\n",
    "\n",
    "q1 = df2[\"MonthlyIncome\"].quantile(.25)\n",
    "q3 = df2[\"MonthlyIncome\"].quantile(.75)\n",
    "\n",
    "iqr = q3 - q1\n",
    "\n",
    "outlierIncLow = q1 - (1.5*iqr)\n",
    "outlierIncHigh = q3 + (1.5*iqr)\n",
    "\n",
    "print(\"The lower outlier limit for monthly income is: \", outlierIncLow)\n",
    "print(\"The upper outlier limit for monthly income is: \", outlierIncHigh)\n",
    "\n",
    "incOutliers = df2.loc[(df2[\"MonthlyIncome\"] < outlierIncLow) | (df2[\"MonthlyIncome\"] > outlierIncHigh)].index\n",
    "\n",
    "print(incOutliers)"
   ]
  },
  {
   "cell_type": "code",
   "execution_count": 54,
   "id": "a279e2df",
   "metadata": {},
   "outputs": [
    {
     "name": "stdout",
     "output_type": "stream",
     "text": [
      "<class 'pandas.core.frame.DataFrame'>\n",
      "Int64Index: 1356 entries, 0 to 1469\n",
      "Data columns (total 30 columns):\n",
      " #   Column                    Non-Null Count  Dtype \n",
      "---  ------                    --------------  ----- \n",
      " 0   Age                       1356 non-null   int64 \n",
      " 1   Attrition                 1356 non-null   object\n",
      " 2   BusinessTravel            1356 non-null   object\n",
      " 3   Department                1356 non-null   object\n",
      " 4   DistanceFromHome          1356 non-null   int64 \n",
      " 5   Education                 1356 non-null   int64 \n",
      " 6   EducationField            1356 non-null   object\n",
      " 7   EmployeeNumber            1356 non-null   int64 \n",
      " 8   EnvironmentSatisfaction   1356 non-null   int64 \n",
      " 9   Gender                    1356 non-null   object\n",
      " 10  JobInvolvement            1356 non-null   int64 \n",
      " 11  JobLevel                  1356 non-null   int64 \n",
      " 12  JobRole                   1356 non-null   object\n",
      " 13  JobSatisfaction           1356 non-null   int64 \n",
      " 14  MaritalStatus             1356 non-null   object\n",
      " 15  MonthlyIncome             1356 non-null   int64 \n",
      " 16  NumCompaniesWorked        1356 non-null   int64 \n",
      " 17  Over18                    1356 non-null   object\n",
      " 18  OverTime                  1356 non-null   object\n",
      " 19  PercentSalaryHike         1356 non-null   int64 \n",
      " 20  PerformanceRating         1356 non-null   int64 \n",
      " 21  RelationshipSatisfaction  1356 non-null   int64 \n",
      " 22  StockOptionLevel          1356 non-null   int64 \n",
      " 23  TotalWorkingYears         1356 non-null   int64 \n",
      " 24  TrainingTimesLastYear     1356 non-null   int64 \n",
      " 25  WorkLifeBalance           1356 non-null   int64 \n",
      " 26  YearsAtCompany            1356 non-null   int64 \n",
      " 27  YearsInCurrentRole        1356 non-null   int64 \n",
      " 28  YearsSinceLastPromotion   1356 non-null   int64 \n",
      " 29  YearsWithCurrManager      1356 non-null   int64 \n",
      "dtypes: int64(21), object(9)\n",
      "memory usage: 328.4+ KB\n"
     ]
    }
   ],
   "source": [
    "# drop outliers from income column\n",
    "\n",
    "df2 = df2.drop(incOutliers)\n",
    "\n",
    "df2.info()"
   ]
  },
  {
   "cell_type": "code",
   "execution_count": 56,
   "id": "b959e9b6",
   "metadata": {},
   "outputs": [
    {
     "name": "stdout",
     "output_type": "stream",
     "text": [
      "The lower outlier limit for number of companies worked is:  -3.5\n",
      "The upper outlier limit for number of companies worked is:  8.5\n",
      "Int64Index([   4,   38,   50,   95,  122,  198,  208,  245,  287,  334,  371,\n",
      "             372,  385,  393,  401,  440,  447,  456,  525,  541,  544,  551,\n",
      "             575,  597,  617,  623,  660,  717,  756,  779,  789,  816,  837,\n",
      "             927,  947,  957, 1000, 1035, 1117, 1145, 1162, 1172, 1219, 1262,\n",
      "            1296, 1357, 1442],\n",
      "           dtype='int64')\n"
     ]
    }
   ],
   "source": [
    "# Remove number of companies worked outliers\n",
    "\n",
    "# determine IQR and outliers of NumCompaniesWorked column\n",
    "\n",
    "q1 = df2[\"NumCompaniesWorked\"].quantile(.25)\n",
    "q3 = df2[\"NumCompaniesWorked\"].quantile(.75)\n",
    "\n",
    "iqr = q3 - q1\n",
    "\n",
    "outlierCompWorkLow = q1 - (1.5*iqr)\n",
    "outlierCompWorkHigh = q3 + (1.5*iqr)\n",
    "\n",
    "print(\"The lower outlier limit for number of companies worked is: \", outlierCompWorkLow)\n",
    "print(\"The upper outlier limit for number of companies worked is: \", outlierCompWorkHigh)\n",
    "\n",
    "compWorkOutliers = df2.loc[(df2[\"NumCompaniesWorked\"] < outlierCompWorkLow) | (df2[\"NumCompaniesWorked\"] > outlierCompWorkHigh)].index\n",
    "\n",
    "print(compWorkOutliers)"
   ]
  },
  {
   "cell_type": "code",
   "execution_count": 57,
   "id": "b42742b8",
   "metadata": {},
   "outputs": [
    {
     "name": "stdout",
     "output_type": "stream",
     "text": [
      "<class 'pandas.core.frame.DataFrame'>\n",
      "Int64Index: 1309 entries, 0 to 1469\n",
      "Data columns (total 30 columns):\n",
      " #   Column                    Non-Null Count  Dtype \n",
      "---  ------                    --------------  ----- \n",
      " 0   Age                       1309 non-null   int64 \n",
      " 1   Attrition                 1309 non-null   object\n",
      " 2   BusinessTravel            1309 non-null   object\n",
      " 3   Department                1309 non-null   object\n",
      " 4   DistanceFromHome          1309 non-null   int64 \n",
      " 5   Education                 1309 non-null   int64 \n",
      " 6   EducationField            1309 non-null   object\n",
      " 7   EmployeeNumber            1309 non-null   int64 \n",
      " 8   EnvironmentSatisfaction   1309 non-null   int64 \n",
      " 9   Gender                    1309 non-null   object\n",
      " 10  JobInvolvement            1309 non-null   int64 \n",
      " 11  JobLevel                  1309 non-null   int64 \n",
      " 12  JobRole                   1309 non-null   object\n",
      " 13  JobSatisfaction           1309 non-null   int64 \n",
      " 14  MaritalStatus             1309 non-null   object\n",
      " 15  MonthlyIncome             1309 non-null   int64 \n",
      " 16  NumCompaniesWorked        1309 non-null   int64 \n",
      " 17  Over18                    1309 non-null   object\n",
      " 18  OverTime                  1309 non-null   object\n",
      " 19  PercentSalaryHike         1309 non-null   int64 \n",
      " 20  PerformanceRating         1309 non-null   int64 \n",
      " 21  RelationshipSatisfaction  1309 non-null   int64 \n",
      " 22  StockOptionLevel          1309 non-null   int64 \n",
      " 23  TotalWorkingYears         1309 non-null   int64 \n",
      " 24  TrainingTimesLastYear     1309 non-null   int64 \n",
      " 25  WorkLifeBalance           1309 non-null   int64 \n",
      " 26  YearsAtCompany            1309 non-null   int64 \n",
      " 27  YearsInCurrentRole        1309 non-null   int64 \n",
      " 28  YearsSinceLastPromotion   1309 non-null   int64 \n",
      " 29  YearsWithCurrManager      1309 non-null   int64 \n",
      "dtypes: int64(21), object(9)\n",
      "memory usage: 317.0+ KB\n"
     ]
    }
   ],
   "source": [
    "# drop outliers from number of companies worked column\n",
    "\n",
    "df2 = df2.drop(compWorkOutliers)\n",
    "\n",
    "df2.info()"
   ]
  },
  {
   "cell_type": "code",
   "execution_count": 61,
   "id": "b18f1711",
   "metadata": {},
   "outputs": [
    {
     "name": "stdout",
     "output_type": "stream",
     "text": [
      "The lower outlier limit for total working years is:  -4.5\n",
      "The upper outlier limit for total working years is:  23.5\n",
      "Int64Index([  18,   28,   63,   67,   82,   85,   98,  126,  178,  311,  316,\n",
      "             375,  390,  406,  408,  424,  465,  534,  552,  616,  624,  627,\n",
      "             646,  649,  674,  677,  736,  743,  760,  890,  914,  919,  962,\n",
      "             966,  971,  975,  976,  994, 1010, 1031, 1034, 1054, 1076, 1078,\n",
      "            1086, 1093, 1111, 1138, 1176, 1181, 1194, 1221, 1223, 1268, 1301,\n",
      "            1303, 1327, 1414],\n",
      "           dtype='int64')\n"
     ]
    }
   ],
   "source": [
    "# Remove total working years outliers\n",
    "\n",
    "# determine IQR and outliers of total working years column\n",
    "\n",
    "q1 = df2[\"TotalWorkingYears\"].quantile(.25)\n",
    "q3 = df2[\"TotalWorkingYears\"].quantile(.75)\n",
    "\n",
    "iqr = q3 - q1\n",
    "\n",
    "outlierWorkYrsLow = q1 - (1.5*iqr)\n",
    "outlierWorkYrsHigh = q3 + (1.5*iqr)\n",
    "\n",
    "print(\"The lower outlier limit for total working years is: \", outlierWorkYrsLow)\n",
    "print(\"The upper outlier limit for total working years is: \", outlierWorkYrsHigh)\n",
    "\n",
    "workYrsOutliers = df2.loc[(df2[\"TotalWorkingYears\"] < outlierWorkYrsLow) | (df2[\"TotalWorkingYears\"] > outlierWorkYrsHigh)].index\n",
    "\n",
    "print(workYrsOutliers)"
   ]
  },
  {
   "cell_type": "code",
   "execution_count": 62,
   "id": "574959ba",
   "metadata": {},
   "outputs": [
    {
     "name": "stdout",
     "output_type": "stream",
     "text": [
      "<class 'pandas.core.frame.DataFrame'>\n",
      "Int64Index: 1251 entries, 0 to 1469\n",
      "Data columns (total 30 columns):\n",
      " #   Column                    Non-Null Count  Dtype \n",
      "---  ------                    --------------  ----- \n",
      " 0   Age                       1251 non-null   int64 \n",
      " 1   Attrition                 1251 non-null   object\n",
      " 2   BusinessTravel            1251 non-null   object\n",
      " 3   Department                1251 non-null   object\n",
      " 4   DistanceFromHome          1251 non-null   int64 \n",
      " 5   Education                 1251 non-null   int64 \n",
      " 6   EducationField            1251 non-null   object\n",
      " 7   EmployeeNumber            1251 non-null   int64 \n",
      " 8   EnvironmentSatisfaction   1251 non-null   int64 \n",
      " 9   Gender                    1251 non-null   object\n",
      " 10  JobInvolvement            1251 non-null   int64 \n",
      " 11  JobLevel                  1251 non-null   int64 \n",
      " 12  JobRole                   1251 non-null   object\n",
      " 13  JobSatisfaction           1251 non-null   int64 \n",
      " 14  MaritalStatus             1251 non-null   object\n",
      " 15  MonthlyIncome             1251 non-null   int64 \n",
      " 16  NumCompaniesWorked        1251 non-null   int64 \n",
      " 17  Over18                    1251 non-null   object\n",
      " 18  OverTime                  1251 non-null   object\n",
      " 19  PercentSalaryHike         1251 non-null   int64 \n",
      " 20  PerformanceRating         1251 non-null   int64 \n",
      " 21  RelationshipSatisfaction  1251 non-null   int64 \n",
      " 22  StockOptionLevel          1251 non-null   int64 \n",
      " 23  TotalWorkingYears         1251 non-null   int64 \n",
      " 24  TrainingTimesLastYear     1251 non-null   int64 \n",
      " 25  WorkLifeBalance           1251 non-null   int64 \n",
      " 26  YearsAtCompany            1251 non-null   int64 \n",
      " 27  YearsInCurrentRole        1251 non-null   int64 \n",
      " 28  YearsSinceLastPromotion   1251 non-null   int64 \n",
      " 29  YearsWithCurrManager      1251 non-null   int64 \n",
      "dtypes: int64(21), object(9)\n",
      "memory usage: 303.0+ KB\n"
     ]
    }
   ],
   "source": [
    "# drop outliers from total working years column\n",
    "\n",
    "df2 = df2.drop(workYrsOutliers)\n",
    "\n",
    "df2.info()"
   ]
  },
  {
   "cell_type": "code",
   "execution_count": 64,
   "id": "6e20bd47",
   "metadata": {},
   "outputs": [
    {
     "name": "stdout",
     "output_type": "stream",
     "text": [
      "The lower outlier limit for number of companies worked is:  0.5\n",
      "The upper outlier limit for number of companies worked is:  4.5\n",
      "Int64Index([   0,   10,   16,   20,   23,   26,   31,   32,   33,   41,\n",
      "            ...\n",
      "            1397, 1408, 1412, 1424, 1425, 1436, 1448, 1458, 1466, 1467],\n",
      "           dtype='int64', length=210)\n"
     ]
    }
   ],
   "source": [
    "# Remove training times last year outliers\n",
    "\n",
    "# determine IQR and outliers of training times last year column\n",
    "\n",
    "q1 = df2[\"TrainingTimesLastYear\"].quantile(.25)\n",
    "q3 = df2[\"TrainingTimesLastYear\"].quantile(.75)\n",
    "\n",
    "iqr = q3 - q1\n",
    "\n",
    "outlierTrainLow = q1 - (1.5*iqr)\n",
    "outlierTrainHigh = q3 + (1.5*iqr)\n",
    "\n",
    "print(\"The lower outlier limit for number of companies worked is: \", outlierTrainLow)\n",
    "print(\"The upper outlier limit for number of companies worked is: \", outlierTrainHigh)\n",
    "\n",
    "trainOutliers = df2.loc[(df2[\"TrainingTimesLastYear\"] < outlierTrainLow) | (df2[\"TrainingTimesLastYear\"] > outlierTrainHigh)].index\n",
    "\n",
    "print(trainOutliers)"
   ]
  },
  {
   "cell_type": "code",
   "execution_count": 65,
   "id": "62be57c4",
   "metadata": {},
   "outputs": [
    {
     "name": "stdout",
     "output_type": "stream",
     "text": [
      "<class 'pandas.core.frame.DataFrame'>\n",
      "Int64Index: 1041 entries, 1 to 1469\n",
      "Data columns (total 30 columns):\n",
      " #   Column                    Non-Null Count  Dtype \n",
      "---  ------                    --------------  ----- \n",
      " 0   Age                       1041 non-null   int64 \n",
      " 1   Attrition                 1041 non-null   object\n",
      " 2   BusinessTravel            1041 non-null   object\n",
      " 3   Department                1041 non-null   object\n",
      " 4   DistanceFromHome          1041 non-null   int64 \n",
      " 5   Education                 1041 non-null   int64 \n",
      " 6   EducationField            1041 non-null   object\n",
      " 7   EmployeeNumber            1041 non-null   int64 \n",
      " 8   EnvironmentSatisfaction   1041 non-null   int64 \n",
      " 9   Gender                    1041 non-null   object\n",
      " 10  JobInvolvement            1041 non-null   int64 \n",
      " 11  JobLevel                  1041 non-null   int64 \n",
      " 12  JobRole                   1041 non-null   object\n",
      " 13  JobSatisfaction           1041 non-null   int64 \n",
      " 14  MaritalStatus             1041 non-null   object\n",
      " 15  MonthlyIncome             1041 non-null   int64 \n",
      " 16  NumCompaniesWorked        1041 non-null   int64 \n",
      " 17  Over18                    1041 non-null   object\n",
      " 18  OverTime                  1041 non-null   object\n",
      " 19  PercentSalaryHike         1041 non-null   int64 \n",
      " 20  PerformanceRating         1041 non-null   int64 \n",
      " 21  RelationshipSatisfaction  1041 non-null   int64 \n",
      " 22  StockOptionLevel          1041 non-null   int64 \n",
      " 23  TotalWorkingYears         1041 non-null   int64 \n",
      " 24  TrainingTimesLastYear     1041 non-null   int64 \n",
      " 25  WorkLifeBalance           1041 non-null   int64 \n",
      " 26  YearsAtCompany            1041 non-null   int64 \n",
      " 27  YearsInCurrentRole        1041 non-null   int64 \n",
      " 28  YearsSinceLastPromotion   1041 non-null   int64 \n",
      " 29  YearsWithCurrManager      1041 non-null   int64 \n",
      "dtypes: int64(21), object(9)\n",
      "memory usage: 252.1+ KB\n"
     ]
    }
   ],
   "source": [
    "# drop outliers from training times last year column\n",
    "\n",
    "df2 = df2.drop(trainOutliers)\n",
    "\n",
    "df2.info()"
   ]
  },
  {
   "cell_type": "code",
   "execution_count": 67,
   "id": "178fc4e9",
   "metadata": {},
   "outputs": [
    {
     "name": "stdout",
     "output_type": "stream",
     "text": [
      "The lower outlier limit for monthly income is:  -6.0\n",
      "The upper outlier limit for monthly income is:  18.0\n",
      "Int64Index([  90,  150,  218,  251,  268,  281,  295,  300,  448,  523,  526,\n",
      "             707,  738,  753,  784,  838,  875,  926,  951,  995, 1096, 1295,\n",
      "            1373, 1403, 1404, 1445, 1462],\n",
      "           dtype='int64')\n"
     ]
    }
   ],
   "source": [
    "# Remove years at company outliers\n",
    "\n",
    "# determine IQR and outliers of years at company column\n",
    "\n",
    "q1 = df2[\"YearsAtCompany\"].quantile(.25)\n",
    "q3 = df2[\"YearsAtCompany\"].quantile(.75)\n",
    "\n",
    "iqr = q3 - q1\n",
    "\n",
    "outlierYrsCompLow = q1 - (1.5*iqr)\n",
    "outlierYrsCompHigh = q3 + (1.5*iqr)\n",
    "\n",
    "print(\"The lower outlier limit for monthly income is: \", outlierYrsCompLow)\n",
    "print(\"The upper outlier limit for monthly income is: \", outlierYrsCompHigh)\n",
    "\n",
    "yrsCompOutliers = df2.loc[(df2[\"YearsAtCompany\"] < outlierYrsCompLow) | (df2[\"YearsAtCompany\"] > outlierYrsCompHigh)].index\n",
    "\n",
    "print(yrsCompOutliers)"
   ]
  },
  {
   "cell_type": "code",
   "execution_count": 68,
   "id": "7caefed8",
   "metadata": {},
   "outputs": [
    {
     "name": "stdout",
     "output_type": "stream",
     "text": [
      "<class 'pandas.core.frame.DataFrame'>\n",
      "Int64Index: 1014 entries, 1 to 1469\n",
      "Data columns (total 30 columns):\n",
      " #   Column                    Non-Null Count  Dtype \n",
      "---  ------                    --------------  ----- \n",
      " 0   Age                       1014 non-null   int64 \n",
      " 1   Attrition                 1014 non-null   object\n",
      " 2   BusinessTravel            1014 non-null   object\n",
      " 3   Department                1014 non-null   object\n",
      " 4   DistanceFromHome          1014 non-null   int64 \n",
      " 5   Education                 1014 non-null   int64 \n",
      " 6   EducationField            1014 non-null   object\n",
      " 7   EmployeeNumber            1014 non-null   int64 \n",
      " 8   EnvironmentSatisfaction   1014 non-null   int64 \n",
      " 9   Gender                    1014 non-null   object\n",
      " 10  JobInvolvement            1014 non-null   int64 \n",
      " 11  JobLevel                  1014 non-null   int64 \n",
      " 12  JobRole                   1014 non-null   object\n",
      " 13  JobSatisfaction           1014 non-null   int64 \n",
      " 14  MaritalStatus             1014 non-null   object\n",
      " 15  MonthlyIncome             1014 non-null   int64 \n",
      " 16  NumCompaniesWorked        1014 non-null   int64 \n",
      " 17  Over18                    1014 non-null   object\n",
      " 18  OverTime                  1014 non-null   object\n",
      " 19  PercentSalaryHike         1014 non-null   int64 \n",
      " 20  PerformanceRating         1014 non-null   int64 \n",
      " 21  RelationshipSatisfaction  1014 non-null   int64 \n",
      " 22  StockOptionLevel          1014 non-null   int64 \n",
      " 23  TotalWorkingYears         1014 non-null   int64 \n",
      " 24  TrainingTimesLastYear     1014 non-null   int64 \n",
      " 25  WorkLifeBalance           1014 non-null   int64 \n",
      " 26  YearsAtCompany            1014 non-null   int64 \n",
      " 27  YearsInCurrentRole        1014 non-null   int64 \n",
      " 28  YearsSinceLastPromotion   1014 non-null   int64 \n",
      " 29  YearsWithCurrManager      1014 non-null   int64 \n",
      "dtypes: int64(21), object(9)\n",
      "memory usage: 245.6+ KB\n"
     ]
    }
   ],
   "source": [
    "# drop outliers from years at company column\n",
    "\n",
    "df2 = df2.drop(yrsCompOutliers)\n",
    "\n",
    "df2.info()"
   ]
  },
  {
   "cell_type": "code",
   "execution_count": 72,
   "id": "e57f38d5",
   "metadata": {},
   "outputs": [
    {
     "name": "stdout",
     "output_type": "stream",
     "text": [
      "The lower outlier limit for years in current role is:  nan\n",
      "The upper outlier limit for years in current role is:  nan\n",
      "Int64Index([], dtype='int64')\n"
     ]
    }
   ],
   "source": [
    "# Remove years in current role outliers\n",
    "\n",
    "# determine IQR and outliers of years in current role column\n",
    "\n",
    "q1 = df2[\"YearsInCurrentRole\"].quantile(.25)\n",
    "q3 = df2[\"YearsInCurrentRole\"].quantile(.75)\n",
    "\n",
    "iqr = q3 - q1\n",
    "\n",
    "outlierYrsRoleLow = q1 - (1.5*iqr)\n",
    "outlierYrsRoleHigh = q3 + (1.5*iqr)\n",
    "\n",
    "print(\"The lower outlier limit for years in current role is: \", outlierYrsRoleLow)\n",
    "print(\"The upper outlier limit for years in current role is: \", outlierYrsRoleHigh)\n",
    "\n",
    "yrsRoleOutliers = df2.loc[(df2[\"YearsInCurrentRole\"] < outlierYrsRoleLow) | (df2[\"YearsInCurrentRole\"] > outlierYrsRoleHigh)].index\n",
    "\n",
    "print(yrsRoleOutliers)"
   ]
  },
  {
   "cell_type": "code",
   "execution_count": 71,
   "id": "26223614",
   "metadata": {},
   "outputs": [
    {
     "name": "stdout",
     "output_type": "stream",
     "text": [
      "<class 'pandas.core.frame.DataFrame'>\n",
      "Int64Index: 0 entries\n",
      "Data columns (total 30 columns):\n",
      " #   Column                    Non-Null Count  Dtype \n",
      "---  ------                    --------------  ----- \n",
      " 0   Age                       0 non-null      int64 \n",
      " 1   Attrition                 0 non-null      object\n",
      " 2   BusinessTravel            0 non-null      object\n",
      " 3   Department                0 non-null      object\n",
      " 4   DistanceFromHome          0 non-null      int64 \n",
      " 5   Education                 0 non-null      int64 \n",
      " 6   EducationField            0 non-null      object\n",
      " 7   EmployeeNumber            0 non-null      int64 \n",
      " 8   EnvironmentSatisfaction   0 non-null      int64 \n",
      " 9   Gender                    0 non-null      object\n",
      " 10  JobInvolvement            0 non-null      int64 \n",
      " 11  JobLevel                  0 non-null      int64 \n",
      " 12  JobRole                   0 non-null      object\n",
      " 13  JobSatisfaction           0 non-null      int64 \n",
      " 14  MaritalStatus             0 non-null      object\n",
      " 15  MonthlyIncome             0 non-null      int64 \n",
      " 16  NumCompaniesWorked        0 non-null      int64 \n",
      " 17  Over18                    0 non-null      object\n",
      " 18  OverTime                  0 non-null      object\n",
      " 19  PercentSalaryHike         0 non-null      int64 \n",
      " 20  PerformanceRating         0 non-null      int64 \n",
      " 21  RelationshipSatisfaction  0 non-null      int64 \n",
      " 22  StockOptionLevel          0 non-null      int64 \n",
      " 23  TotalWorkingYears         0 non-null      int64 \n",
      " 24  TrainingTimesLastYear     0 non-null      int64 \n",
      " 25  WorkLifeBalance           0 non-null      int64 \n",
      " 26  YearsAtCompany            0 non-null      int64 \n",
      " 27  YearsInCurrentRole        0 non-null      int64 \n",
      " 28  YearsSinceLastPromotion   0 non-null      int64 \n",
      " 29  YearsWithCurrManager      0 non-null      int64 \n",
      "dtypes: int64(21), object(9)\n",
      "memory usage: 0.0+ bytes\n"
     ]
    }
   ],
   "source": [
    "# drop outliers from years at company column\n",
    "\n",
    "df2 = df2.drop(yrsRoleOutliers)\n",
    "\n",
    "df2.info()"
   ]
  },
  {
   "cell_type": "code",
   "execution_count": 52,
   "id": "beb394f3",
   "metadata": {},
   "outputs": [
    {
     "data": {
      "text/plain": [
       "Attrition\n",
       "No     37.561233\n",
       "Yes    33.607595\n",
       "Name: Age, dtype: float64"
      ]
     },
     "execution_count": 52,
     "metadata": {},
     "output_type": "execute_result"
    }
   ],
   "source": [
    "# Find meaningful relationships regarding employee turnover\n",
    "\n",
    "# 1. AGE vs. Attrition\n",
    "df[\"Age\"].groupby(df[\"Attrition\"]).mean()\n",
    "\n",
    "## Younger employees leaving"
   ]
  },
  {
   "cell_type": "code",
   "execution_count": 17,
   "id": "e00d783a",
   "metadata": {},
   "outputs": [
    {
     "data": {
      "text/plain": [
       "Attrition\n",
       "No      8.915653\n",
       "Yes    10.632911\n",
       "Name: DistanceFromHome, dtype: float64"
      ]
     },
     "execution_count": 17,
     "metadata": {},
     "output_type": "execute_result"
    }
   ],
   "source": [
    "# 2. DISTANCE from Home vs. Attrition\n",
    "df[\"DistanceFromHome\"].groupby(df[\"Attrition\"]).mean()\n",
    "\n",
    "## Employees who live farther leaving"
   ]
  },
  {
   "cell_type": "code",
   "execution_count": 18,
   "id": "d674188c",
   "metadata": {},
   "outputs": [
    {
     "data": {
      "text/plain": [
       "Attrition\n",
       "No     2.927007\n",
       "Yes    2.839662\n",
       "Name: Education, dtype: float64"
      ]
     },
     "execution_count": 18,
     "metadata": {},
     "output_type": "execute_result"
    }
   ],
   "source": [
    "# 3. Education Level vs. Attrition\n",
    "df[\"Education\"].groupby(df[\"Attrition\"]).mean()\n",
    "\n",
    "## Insignificant difference"
   ]
  },
  {
   "cell_type": "code",
   "execution_count": 19,
   "id": "858b715d",
   "metadata": {},
   "outputs": [
    {
     "data": {
      "text/plain": [
       "Attrition\n",
       "No     2.771290\n",
       "Yes    2.464135\n",
       "Name: EnvironmentSatisfaction, dtype: float64"
      ]
     },
     "execution_count": 19,
     "metadata": {},
     "output_type": "execute_result"
    }
   ],
   "source": [
    "# 4. ENVIRONMENT Satisfaction vs. Attrition\n",
    "df[\"EnvironmentSatisfaction\"].groupby(df[\"Attrition\"]).mean()\n",
    "\n",
    "## Lower satisfaction leaving"
   ]
  },
  {
   "cell_type": "code",
   "execution_count": 20,
   "id": "66506060",
   "metadata": {},
   "outputs": [
    {
     "data": {
      "text/plain": [
       "Attrition\n",
       "No     2.770479\n",
       "Yes    2.518987\n",
       "Name: JobInvolvement, dtype: float64"
      ]
     },
     "execution_count": 20,
     "metadata": {},
     "output_type": "execute_result"
    }
   ],
   "source": [
    "# 5. JOB INVOLVEMENT vs. Attrition\n",
    "df[\"JobInvolvement\"].groupby(df[\"Attrition\"]).mean()\n",
    "\n",
    "## Lower job involvement leaving"
   ]
  },
  {
   "cell_type": "code",
   "execution_count": 21,
   "id": "bdfa3af4",
   "metadata": {},
   "outputs": [
    {
     "data": {
      "text/plain": [
       "Attrition\n",
       "No     2.145985\n",
       "Yes    1.637131\n",
       "Name: JobLevel, dtype: float64"
      ]
     },
     "execution_count": 21,
     "metadata": {},
     "output_type": "execute_result"
    }
   ],
   "source": [
    "# 6. JOB LEVEL vs. Attrition\n",
    "df[\"JobLevel\"].groupby(df[\"Attrition\"]).mean()\n",
    "\n",
    "## Lower job level leaving"
   ]
  },
  {
   "cell_type": "code",
   "execution_count": 22,
   "id": "94ba1831",
   "metadata": {},
   "outputs": [
    {
     "data": {
      "text/plain": [
       "Attrition\n",
       "No     2.778589\n",
       "Yes    2.468354\n",
       "Name: JobSatisfaction, dtype: float64"
      ]
     },
     "execution_count": 22,
     "metadata": {},
     "output_type": "execute_result"
    }
   ],
   "source": [
    "# 7. JOB SATISFACTION vs. Attrition\n",
    "df[\"JobSatisfaction\"].groupby(df[\"Attrition\"]).mean()\n",
    "\n",
    "## Lower job satisfaction leaving"
   ]
  },
  {
   "cell_type": "code",
   "execution_count": 23,
   "id": "dd79780d",
   "metadata": {},
   "outputs": [
    {
     "data": {
      "text/plain": [
       "Attrition\n",
       "No     6832.739659\n",
       "Yes    4787.092827\n",
       "Name: MonthlyIncome, dtype: float64"
      ]
     },
     "execution_count": 23,
     "metadata": {},
     "output_type": "execute_result"
    }
   ],
   "source": [
    "# 8. MONTHLY INCOME vs. Attrition\n",
    "df[\"MonthlyIncome\"].groupby(df[\"Attrition\"]).mean()\n",
    "\n",
    "## Lower income leaving"
   ]
  },
  {
   "cell_type": "code",
   "execution_count": 29,
   "id": "1af293fa",
   "metadata": {},
   "outputs": [
    {
     "data": {
      "text/plain": [
       "Attrition\n",
       "No     5204.0\n",
       "Yes    3202.0\n",
       "Name: MonthlyIncome, dtype: float64"
      ]
     },
     "execution_count": 29,
     "metadata": {},
     "output_type": "execute_result"
    }
   ],
   "source": [
    "# 8. MONTHLY INCOME vs. Attrition\n",
    "df[\"MonthlyIncome\"].groupby(df[\"Attrition\"]).median()\n",
    "\n",
    "## Lower income leaving"
   ]
  },
  {
   "cell_type": "code",
   "execution_count": 24,
   "id": "6d2b35b1",
   "metadata": {},
   "outputs": [
    {
     "data": {
      "text/plain": [
       "Attrition\n",
       "No     2.645580\n",
       "Yes    2.940928\n",
       "Name: NumCompaniesWorked, dtype: float64"
      ]
     },
     "execution_count": 24,
     "metadata": {},
     "output_type": "execute_result"
    }
   ],
   "source": [
    "# 9. Number Companies Worked vs. Attrition\n",
    "df[\"NumCompaniesWorked\"].groupby(df[\"Attrition\"]).mean()\n",
    "\n",
    "## Insignificant difference"
   ]
  },
  {
   "cell_type": "code",
   "execution_count": 25,
   "id": "71120a8c",
   "metadata": {},
   "outputs": [
    {
     "data": {
      "text/plain": [
       "Attrition\n",
       "No     15.231144\n",
       "Yes    15.097046\n",
       "Name: PercentSalaryHike, dtype: float64"
      ]
     },
     "execution_count": 25,
     "metadata": {},
     "output_type": "execute_result"
    }
   ],
   "source": [
    "# 10. Percent Salary Hike vs. Attrition\n",
    "df[\"PercentSalaryHike\"].groupby(df[\"Attrition\"]).mean()\n",
    "\n",
    "## Insignificant difference"
   ]
  },
  {
   "cell_type": "code",
   "execution_count": 26,
   "id": "b2b693e4",
   "metadata": {},
   "outputs": [
    {
     "data": {
      "text/plain": [
       "Attrition\n",
       "No     3.153285\n",
       "Yes    3.156118\n",
       "Name: PerformanceRating, dtype: float64"
      ]
     },
     "execution_count": 26,
     "metadata": {},
     "output_type": "execute_result"
    }
   ],
   "source": [
    "# 11. Performance Rating vs. Attrition\n",
    "df[\"PerformanceRating\"].groupby(df[\"Attrition\"]).mean()\n",
    "\n",
    "## Insignificant difference"
   ]
  },
  {
   "cell_type": "code",
   "execution_count": 27,
   "id": "a9ed9720",
   "metadata": {},
   "outputs": [
    {
     "data": {
      "text/plain": [
       "Attrition\n",
       "No     2.733982\n",
       "Yes    2.599156\n",
       "Name: RelationshipSatisfaction, dtype: float64"
      ]
     },
     "execution_count": 27,
     "metadata": {},
     "output_type": "execute_result"
    }
   ],
   "source": [
    "# 12. RELATIONSHIP SATISFACTION vs. Attrition\n",
    "df[\"RelationshipSatisfaction\"].groupby(df[\"Attrition\"]).mean()\n",
    "\n",
    "## Lower relationship satisfaction leaving"
   ]
  },
  {
   "cell_type": "code",
   "execution_count": 28,
   "id": "aae5fe88",
   "metadata": {},
   "outputs": [
    {
     "data": {
      "text/plain": [
       "Attrition\n",
       "No     0.845093\n",
       "Yes    0.527426\n",
       "Name: StockOptionLevel, dtype: float64"
      ]
     },
     "execution_count": 28,
     "metadata": {},
     "output_type": "execute_result"
    }
   ],
   "source": [
    "# 13. Stock Option Level vs. Attrition\n",
    "df[\"StockOptionLevel\"].groupby(df[\"Attrition\"]).mean()\n",
    "\n",
    "## Lower stock option level leaving"
   ]
  },
  {
   "cell_type": "code",
   "execution_count": 30,
   "id": "6b503ce0",
   "metadata": {},
   "outputs": [
    {
     "data": {
      "text/plain": [
       "Attrition\n",
       "No     11.862936\n",
       "Yes     8.244726\n",
       "Name: TotalWorkingYears, dtype: float64"
      ]
     },
     "execution_count": 30,
     "metadata": {},
     "output_type": "execute_result"
    }
   ],
   "source": [
    "# 14. Total Working Years vs. Attrition\n",
    "df[\"TotalWorkingYears\"].groupby(df[\"Attrition\"]).mean()\n",
    "\n",
    "## Younger people leaving (coincides with #1)"
   ]
  },
  {
   "cell_type": "code",
   "execution_count": 31,
   "id": "e95efe81",
   "metadata": {},
   "outputs": [
    {
     "data": {
      "text/plain": [
       "Attrition\n",
       "No     2.832928\n",
       "Yes    2.624473\n",
       "Name: TrainingTimesLastYear, dtype: float64"
      ]
     },
     "execution_count": 31,
     "metadata": {},
     "output_type": "execute_result"
    }
   ],
   "source": [
    "# 15. Trainings vs. Attrition\n",
    "df[\"TrainingTimesLastYear\"].groupby(df[\"Attrition\"]).mean()\n",
    "\n",
    "## Insignificant difference"
   ]
  },
  {
   "cell_type": "code",
   "execution_count": 32,
   "id": "1c769ac9",
   "metadata": {},
   "outputs": [
    {
     "data": {
      "text/plain": [
       "Attrition\n",
       "No     2.781022\n",
       "Yes    2.658228\n",
       "Name: WorkLifeBalance, dtype: float64"
      ]
     },
     "execution_count": 32,
     "metadata": {},
     "output_type": "execute_result"
    }
   ],
   "source": [
    "# 16. Work-Life Balance vs. Attrition\n",
    "df[\"WorkLifeBalance\"].groupby(df[\"Attrition\"]).mean()\n",
    "\n",
    "## Insignificant difference"
   ]
  },
  {
   "cell_type": "code",
   "execution_count": 33,
   "id": "68f7ec49",
   "metadata": {},
   "outputs": [
    {
     "data": {
      "text/plain": [
       "Attrition\n",
       "No     7.369019\n",
       "Yes    5.130802\n",
       "Name: YearsAtCompany, dtype: float64"
      ]
     },
     "execution_count": 33,
     "metadata": {},
     "output_type": "execute_result"
    }
   ],
   "source": [
    "# 17. YEARS AT COMPANY vs. Attrition\n",
    "df[\"YearsAtCompany\"].groupby(df[\"Attrition\"]).mean()\n",
    "\n",
    "## Fewer years at company leaving"
   ]
  },
  {
   "cell_type": "code",
   "execution_count": 34,
   "id": "8c98ab2d",
   "metadata": {},
   "outputs": [
    {
     "data": {
      "text/plain": [
       "Attrition\n",
       "No     4.484185\n",
       "Yes    2.902954\n",
       "Name: YearsInCurrentRole, dtype: float64"
      ]
     },
     "execution_count": 34,
     "metadata": {},
     "output_type": "execute_result"
    }
   ],
   "source": [
    "# 18. YEARS IN CURRENT ROLE vs. Attrition\n",
    "df[\"YearsInCurrentRole\"].groupby(df[\"Attrition\"]).mean()\n",
    "\n",
    "## Fewer years in current role leaving"
   ]
  },
  {
   "cell_type": "code",
   "execution_count": 35,
   "id": "c2c0eb43",
   "metadata": {},
   "outputs": [
    {
     "data": {
      "text/plain": [
       "Attrition\n",
       "No     2.234388\n",
       "Yes    1.945148\n",
       "Name: YearsSinceLastPromotion, dtype: float64"
      ]
     },
     "execution_count": 35,
     "metadata": {},
     "output_type": "execute_result"
    }
   ],
   "source": [
    "# 19. Years Since Last Promotion vs. Attrition\n",
    "df[\"YearsSinceLastPromotion\"].groupby(df[\"Attrition\"]).mean()\n",
    "\n",
    "## Fewer years since last promotion leaving (moderate difference)"
   ]
  },
  {
   "cell_type": "code",
   "execution_count": 37,
   "id": "a268036b",
   "metadata": {},
   "outputs": [
    {
     "data": {
      "text/plain": [
       "Attrition\n",
       "No     4.367397\n",
       "Yes    2.852321\n",
       "Name: YearsWithCurrManager, dtype: float64"
      ]
     },
     "execution_count": 37,
     "metadata": {},
     "output_type": "execute_result"
    }
   ],
   "source": [
    "# 20. YEARS WITH CURRENT MANAGER vs. Attrition\n",
    "df[\"YearsWithCurrManager\"].groupby(df[\"Attrition\"]).mean()\n",
    "\n",
    "## Fewer years with current manager leaving"
   ]
  },
  {
   "cell_type": "code",
   "execution_count": 41,
   "id": "949b75d4",
   "metadata": {},
   "outputs": [
    {
     "data": {
      "text/html": [
       "<div>\n",
       "<style scoped>\n",
       "    .dataframe tbody tr th:only-of-type {\n",
       "        vertical-align: middle;\n",
       "    }\n",
       "\n",
       "    .dataframe tbody tr th {\n",
       "        vertical-align: top;\n",
       "    }\n",
       "\n",
       "    .dataframe thead th {\n",
       "        text-align: right;\n",
       "    }\n",
       "</style>\n",
       "<table border=\"1\" class=\"dataframe\">\n",
       "  <thead>\n",
       "    <tr style=\"text-align: right;\">\n",
       "      <th>Attrition</th>\n",
       "      <th>No</th>\n",
       "      <th>Yes</th>\n",
       "      <th>All</th>\n",
       "    </tr>\n",
       "    <tr>\n",
       "      <th>BusinessTravel</th>\n",
       "      <th></th>\n",
       "      <th></th>\n",
       "      <th></th>\n",
       "    </tr>\n",
       "  </thead>\n",
       "  <tbody>\n",
       "    <tr>\n",
       "      <th>Non-Travel</th>\n",
       "      <td>138</td>\n",
       "      <td>12</td>\n",
       "      <td>150</td>\n",
       "    </tr>\n",
       "    <tr>\n",
       "      <th>Travel_Frequently</th>\n",
       "      <td>208</td>\n",
       "      <td>69</td>\n",
       "      <td>277</td>\n",
       "    </tr>\n",
       "    <tr>\n",
       "      <th>Travel_Rarely</th>\n",
       "      <td>887</td>\n",
       "      <td>156</td>\n",
       "      <td>1043</td>\n",
       "    </tr>\n",
       "    <tr>\n",
       "      <th>All</th>\n",
       "      <td>1233</td>\n",
       "      <td>237</td>\n",
       "      <td>1470</td>\n",
       "    </tr>\n",
       "  </tbody>\n",
       "</table>\n",
       "</div>"
      ],
      "text/plain": [
       "Attrition            No  Yes   All\n",
       "BusinessTravel                    \n",
       "Non-Travel          138   12   150\n",
       "Travel_Frequently   208   69   277\n",
       "Travel_Rarely       887  156  1043\n",
       "All                1233  237  1470"
      ]
     },
     "execution_count": 41,
     "metadata": {},
     "output_type": "execute_result"
    }
   ],
   "source": [
    "# 21. Business Travel vs. Attrition\n",
    "pd.crosstab(df[\"BusinessTravel\"], df[\"Attrition\"], margins = True)\n",
    "\n",
    "## No significant relationship"
   ]
  },
  {
   "cell_type": "code",
   "execution_count": 44,
   "id": "f41b665d",
   "metadata": {},
   "outputs": [
    {
     "data": {
      "text/html": [
       "<div>\n",
       "<style scoped>\n",
       "    .dataframe tbody tr th:only-of-type {\n",
       "        vertical-align: middle;\n",
       "    }\n",
       "\n",
       "    .dataframe tbody tr th {\n",
       "        vertical-align: top;\n",
       "    }\n",
       "\n",
       "    .dataframe thead th {\n",
       "        text-align: right;\n",
       "    }\n",
       "</style>\n",
       "<table border=\"1\" class=\"dataframe\">\n",
       "  <thead>\n",
       "    <tr style=\"text-align: right;\">\n",
       "      <th>Attrition</th>\n",
       "      <th>No</th>\n",
       "      <th>Yes</th>\n",
       "      <th>All</th>\n",
       "    </tr>\n",
       "    <tr>\n",
       "      <th>Department</th>\n",
       "      <th></th>\n",
       "      <th></th>\n",
       "      <th></th>\n",
       "    </tr>\n",
       "  </thead>\n",
       "  <tbody>\n",
       "    <tr>\n",
       "      <th>Human Resources</th>\n",
       "      <td>51</td>\n",
       "      <td>12</td>\n",
       "      <td>63</td>\n",
       "    </tr>\n",
       "    <tr>\n",
       "      <th>Research &amp; Development</th>\n",
       "      <td>828</td>\n",
       "      <td>133</td>\n",
       "      <td>961</td>\n",
       "    </tr>\n",
       "    <tr>\n",
       "      <th>Sales</th>\n",
       "      <td>354</td>\n",
       "      <td>92</td>\n",
       "      <td>446</td>\n",
       "    </tr>\n",
       "    <tr>\n",
       "      <th>All</th>\n",
       "      <td>1233</td>\n",
       "      <td>237</td>\n",
       "      <td>1470</td>\n",
       "    </tr>\n",
       "  </tbody>\n",
       "</table>\n",
       "</div>"
      ],
      "text/plain": [
       "Attrition                 No  Yes   All\n",
       "Department                             \n",
       "Human Resources           51   12    63\n",
       "Research & Development   828  133   961\n",
       "Sales                    354   92   446\n",
       "All                     1233  237  1470"
      ]
     },
     "execution_count": 44,
     "metadata": {},
     "output_type": "execute_result"
    }
   ],
   "source": [
    "# 22. Department vs. Attrition\n",
    "pd.crosstab(df[\"Department\"], df[\"Attrition\"], margins = True)\n",
    "\n",
    "## No significant relationship"
   ]
  },
  {
   "cell_type": "code",
   "execution_count": 45,
   "id": "11cad1c7",
   "metadata": {},
   "outputs": [
    {
     "data": {
      "text/html": [
       "<div>\n",
       "<style scoped>\n",
       "    .dataframe tbody tr th:only-of-type {\n",
       "        vertical-align: middle;\n",
       "    }\n",
       "\n",
       "    .dataframe tbody tr th {\n",
       "        vertical-align: top;\n",
       "    }\n",
       "\n",
       "    .dataframe thead th {\n",
       "        text-align: right;\n",
       "    }\n",
       "</style>\n",
       "<table border=\"1\" class=\"dataframe\">\n",
       "  <thead>\n",
       "    <tr style=\"text-align: right;\">\n",
       "      <th>Attrition</th>\n",
       "      <th>No</th>\n",
       "      <th>Yes</th>\n",
       "      <th>All</th>\n",
       "    </tr>\n",
       "    <tr>\n",
       "      <th>EducationField</th>\n",
       "      <th></th>\n",
       "      <th></th>\n",
       "      <th></th>\n",
       "    </tr>\n",
       "  </thead>\n",
       "  <tbody>\n",
       "    <tr>\n",
       "      <th>Human Resources</th>\n",
       "      <td>20</td>\n",
       "      <td>7</td>\n",
       "      <td>27</td>\n",
       "    </tr>\n",
       "    <tr>\n",
       "      <th>Life Sciences</th>\n",
       "      <td>517</td>\n",
       "      <td>89</td>\n",
       "      <td>606</td>\n",
       "    </tr>\n",
       "    <tr>\n",
       "      <th>Marketing</th>\n",
       "      <td>124</td>\n",
       "      <td>35</td>\n",
       "      <td>159</td>\n",
       "    </tr>\n",
       "    <tr>\n",
       "      <th>Medical</th>\n",
       "      <td>401</td>\n",
       "      <td>63</td>\n",
       "      <td>464</td>\n",
       "    </tr>\n",
       "    <tr>\n",
       "      <th>Other</th>\n",
       "      <td>71</td>\n",
       "      <td>11</td>\n",
       "      <td>82</td>\n",
       "    </tr>\n",
       "    <tr>\n",
       "      <th>Technical Degree</th>\n",
       "      <td>100</td>\n",
       "      <td>32</td>\n",
       "      <td>132</td>\n",
       "    </tr>\n",
       "    <tr>\n",
       "      <th>All</th>\n",
       "      <td>1233</td>\n",
       "      <td>237</td>\n",
       "      <td>1470</td>\n",
       "    </tr>\n",
       "  </tbody>\n",
       "</table>\n",
       "</div>"
      ],
      "text/plain": [
       "Attrition           No  Yes   All\n",
       "EducationField                   \n",
       "Human Resources     20    7    27\n",
       "Life Sciences      517   89   606\n",
       "Marketing          124   35   159\n",
       "Medical            401   63   464\n",
       "Other               71   11    82\n",
       "Technical Degree   100   32   132\n",
       "All               1233  237  1470"
      ]
     },
     "execution_count": 45,
     "metadata": {},
     "output_type": "execute_result"
    }
   ],
   "source": [
    "# 23. Education Field vs. Attrition\n",
    "pd.crosstab(df[\"EducationField\"], df[\"Attrition\"], margins = True)\n",
    "\n",
    "## No significant relationship"
   ]
  },
  {
   "cell_type": "code",
   "execution_count": null,
   "id": "f72010de",
   "metadata": {},
   "outputs": [],
   "source": [
    "# 24. Education Field vs. Attrition\n",
    "pd.crosstab(df[\"EducationField\"], df[\"Attrition\"], margins = True)\n",
    "\n",
    "## No significant relationship"
   ]
  },
  {
   "cell_type": "code",
   "execution_count": null,
   "id": "c8d95d44",
   "metadata": {},
   "outputs": [],
   "source": []
  },
  {
   "cell_type": "code",
   "execution_count": null,
   "id": "4d352ff1",
   "metadata": {},
   "outputs": [],
   "source": []
  },
  {
   "cell_type": "code",
   "execution_count": null,
   "id": "7fba7128",
   "metadata": {},
   "outputs": [],
   "source": []
  },
  {
   "cell_type": "code",
   "execution_count": null,
   "id": "051df245",
   "metadata": {},
   "outputs": [],
   "source": []
  }
 ],
 "metadata": {
  "kernelspec": {
   "display_name": "Python 3 (ipykernel)",
   "language": "python",
   "name": "python3"
  },
  "language_info": {
   "codemirror_mode": {
    "name": "ipython",
    "version": 3
   },
   "file_extension": ".py",
   "mimetype": "text/x-python",
   "name": "python",
   "nbconvert_exporter": "python",
   "pygments_lexer": "ipython3",
   "version": "3.9.7"
  }
 },
 "nbformat": 4,
 "nbformat_minor": 5
}
